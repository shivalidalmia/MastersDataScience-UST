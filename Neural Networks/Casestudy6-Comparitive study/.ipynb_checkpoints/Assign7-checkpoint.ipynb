{
 "cells": [
  {
   "cell_type": "markdown",
   "metadata": {
    "id": "w62xhRi3AMjg"
   },
   "source": [
    "Importing required libraries"
   ]
  },
  {
   "cell_type": "code",
   "execution_count": 1,
   "metadata": {
    "id": "ugbSAl95_s_f"
   },
   "outputs": [],
   "source": [
    "from tensorflow.keras.layers import Input, Dense, Flatten, SimpleRNN, GRU, LSTM, Dropout, Conv2D\n",
    "from tensorflow.keras.models import Model, Sequential\n",
    "from tensorflow.keras.optimizers import SGD, Adam\n",
    "from tensorflow.keras.preprocessing import image\n",
    "\n",
    "from glob import glob\n",
    "\n",
    "import numpy as np\n",
    "import pandas as pd\n",
    "import matplotlib.pyplot as plt\n",
    "import sys, os"
   ]
  },
  {
   "cell_type": "markdown",
   "metadata": {
    "id": "P-QShVysAVvO"
   },
   "source": [
    "Extracting the dataset of roses and tulips"
   ]
  },
  {
   "cell_type": "code",
   "execution_count": 2,
   "metadata": {
    "id": "Baik96cIAWGw"
   },
   "outputs": [],
   "source": [
    "# Download the zip file saved in the Drive \n",
    "!pip install -U -q PyDrive\n",
    "\n",
    "#File ID\n",
    "zip_id = '1sajk-SXeemD-0JXDoTMezv3hlvoHUi4v'\n",
    "\n",
    "from pydrive.auth import GoogleAuth\n",
    "from pydrive.drive import GoogleDrive\n",
    "from google.colab import auth\n",
    "from oauth2client.client import GoogleCredentials\n",
    "import zipfile, os\n",
    "\n",
    "# Authenticate and create the PyDrive client.\n",
    "auth.authenticate_user()\n",
    "gauth = GoogleAuth()\n",
    "gauth.credentials = GoogleCredentials.get_application_default()\n",
    "drive = GoogleDrive(gauth)\n",
    "\n",
    "# Download the zip file\n",
    "myzip = drive.CreateFile({'id': zip_id})\n",
    "myzip.GetContentFile('roses_and_tulips.zip')\n",
    "!unzip -qq -o roses_and_tulips.zip"
   ]
  },
  {
   "cell_type": "markdown",
   "metadata": {
    "id": "8KF4OZB_AduJ"
   },
   "source": [
    "Making new directories for dividing train and test dataset"
   ]
  },
  {
   "cell_type": "code",
   "execution_count": 3,
   "metadata": {
    "id": "ux0JDPSPAiB0"
   },
   "outputs": [],
   "source": [
    "!mkdir data\n",
    "!mkdir data/train\n",
    "!mkdir data/test\n",
    "!mkdir data/train/roses\n",
    "!mkdir data/train/tulips\n",
    "!mkdir data/test/roses\n",
    "!mkdir data/test/tulips"
   ]
  },
  {
   "cell_type": "markdown",
   "metadata": {
    "id": "Z_DRpAO3AnS2"
   },
   "source": [
    "Moving first 200 images to train and remaining 100 images to validation for both roses and tulips"
   ]
  },
  {
   "cell_type": "code",
   "execution_count": 4,
   "metadata": {
    "id": "iFtaVyIlApVV"
   },
   "outputs": [],
   "source": [
    "!ls roses_and_tulips/roses/*.jpg | head -200 | xargs -I{} mv {} data/train/roses\n",
    "!ls roses_and_tulips/roses/*.jpg | head -100 | xargs -I{} mv {} data/test/roses\n",
    "!ls roses_and_tulips/tulips/*.jpg | head -200 | xargs -I{} mv {} data/train/tulips\n",
    "!ls roses_and_tulips/tulips/*.jpg | head -100 | xargs -I{} mv {} data/test/tulips\n",
    "\n",
    "train_path = 'data/train'\n",
    "valid_path = 'data/test'"
   ]
  },
  {
   "cell_type": "markdown",
   "metadata": {
    "id": "SgfVcWPVAs0a"
   },
   "source": [
    "Setting image size to 150X150 and checking number of images in train and test"
   ]
  },
  {
   "cell_type": "code",
   "execution_count": 5,
   "metadata": {
    "colab": {
     "base_uri": "https://localhost:8080/"
    },
    "id": "OgThupk3At-B",
    "outputId": "9735be4b-896d-4c45-854f-128f9241a306"
   },
   "outputs": [
    {
     "name": "stdout",
     "output_type": "stream",
     "text": [
      "400\n",
      "200\n",
      "['data/train/roses', 'data/train/tulips']\n"
     ]
    }
   ],
   "source": [
    "IMAGE_SIZE = [150, 150]\n",
    "\n",
    "# useful for getting number of files\n",
    "image_files = glob(train_path + '/*/*.jpg')\n",
    "valid_image_files = glob(valid_path + '/*/*.jpg')\n",
    "print(len(image_files))\n",
    "print(len(valid_image_files))\n",
    "\n",
    "# useful for getting number of classes\n",
    "folders = glob(train_path + '/*')\n",
    "print(folders)"
   ]
  },
  {
   "cell_type": "markdown",
   "metadata": {
    "id": "5LhUVva9bxkp"
   },
   "source": [
    "Reading training data for roses and tulips and transforming it using PIL"
   ]
  },
  {
   "cell_type": "code",
   "execution_count": 6,
   "metadata": {
    "id": "1tCTb1W8ZyJQ"
   },
   "outputs": [],
   "source": [
    "from PIL import Image\n",
    "\n",
    "def create_dataset_PIL(img_folder):\n",
    "    img_data_array=[]\n",
    "    class_name=[]\n",
    "    for dir1 in os.listdir(img_folder):\n",
    "        for file in os.listdir(os.path.join(img_folder, dir1)):\n",
    "      \n",
    "            image_path= os.path.join(img_folder, dir1,  file)      #Reading each image from directory\n",
    "            image= np.array(Image.open(image_path))                #Converting to array\n",
    "            image= np.resize(image,IMAGE_SIZE)                     #Resizing to 150 X 150\n",
    "            image = image.astype('float32')                        #Converting to float\n",
    "            image /= 255                                           #Normalizing\n",
    "            img_data_array.append(image)                           #Appending to final array\n",
    "            class_name.append(dir1)                                #Appending final target class\n",
    "    return img_data_array , class_name\n",
    "\n",
    "PIL_img_data_train, class_name_train=create_dataset_PIL(train_path)"
   ]
  },
  {
   "cell_type": "code",
   "execution_count": 7,
   "metadata": {
    "colab": {
     "base_uri": "https://localhost:8080/"
    },
    "id": "RE4xrUnKa5Ei",
    "outputId": "ef105e88-925f-48e3-af42-607ab556b993"
   },
   "outputs": [
    {
     "data": {
      "text/plain": [
       "{'roses': 0, 'tulips': 1}"
      ]
     },
     "execution_count": 7,
     "metadata": {},
     "output_type": "execute_result"
    }
   ],
   "source": [
    "#Checking target class\n",
    "target_dict_train={k: v for v, k in enumerate(np.unique(class_name_train))}\n",
    "target_dict_train"
   ]
  },
  {
   "cell_type": "code",
   "execution_count": 8,
   "metadata": {
    "colab": {
     "base_uri": "https://localhost:8080/"
    },
    "id": "yW1w_66YczBm",
    "outputId": "57143cfd-4787-4743-e418-6ab9b4948fc6"
   },
   "outputs": [
    {
     "data": {
      "text/plain": [
       "400"
      ]
     },
     "execution_count": 8,
     "metadata": {},
     "output_type": "execute_result"
    }
   ],
   "source": [
    "#Creating target class train sample (y_train)\n",
    "target_val_train=  [target_dict_train[class_name_train[i]] for i in range(len(class_name_train))]\n",
    "len(target_val_train)"
   ]
  },
  {
   "cell_type": "markdown",
   "metadata": {
    "id": "JDIoA-I5dK02"
   },
   "source": [
    "Reading validation data for roses and tulips and transforming it using PIL"
   ]
  },
  {
   "cell_type": "code",
   "execution_count": 9,
   "metadata": {
    "id": "uVZrJ8OydJot"
   },
   "outputs": [],
   "source": [
    "PIL_img_data_valid, class_name_valid=create_dataset_PIL(valid_path)"
   ]
  },
  {
   "cell_type": "code",
   "execution_count": 10,
   "metadata": {
    "colab": {
     "base_uri": "https://localhost:8080/"
    },
    "id": "9gILOYUGdcvW",
    "outputId": "a64fdfbc-d48b-44e7-b77e-521f2e49ddce"
   },
   "outputs": [
    {
     "data": {
      "text/plain": [
       "{'roses': 0, 'tulips': 1}"
      ]
     },
     "execution_count": 10,
     "metadata": {},
     "output_type": "execute_result"
    }
   ],
   "source": [
    "#Checking target class for validation dataset\n",
    "target_dict_valid={k: v for v, k in enumerate(np.unique(class_name_valid))}\n",
    "target_dict_valid"
   ]
  },
  {
   "cell_type": "code",
   "execution_count": 11,
   "metadata": {
    "colab": {
     "base_uri": "https://localhost:8080/"
    },
    "id": "OqINBugcdpAI",
    "outputId": "a103b821-06a1-45df-b5d8-b123f5be8fb7"
   },
   "outputs": [
    {
     "data": {
      "text/plain": [
       "200"
      ]
     },
     "execution_count": 11,
     "metadata": {},
     "output_type": "execute_result"
    }
   ],
   "source": [
    "#Creating target class array for validation  dataset (y_test)\n",
    "target_val_valid=  [target_dict_valid[class_name_valid[i]] for i in range(len(class_name_valid))]\n",
    "len(target_val_valid)"
   ]
  },
  {
   "cell_type": "markdown",
   "metadata": {
    "id": "7Ylr5S6neBD7"
   },
   "source": [
    "Making training and validation dataset compatible befor modeling"
   ]
  },
  {
   "cell_type": "code",
   "execution_count": 12,
   "metadata": {
    "id": "3wN5Z073eMaP"
   },
   "outputs": [],
   "source": [
    "X_train = np.array(PIL_img_data_train)\n",
    "y_train = np.array(target_val_train)\n",
    "X_test = np.array(PIL_img_data_valid)\n",
    "y_test = np.array(target_val_valid)"
   ]
  },
  {
   "cell_type": "markdown",
   "metadata": {
    "id": "HHyl7CLtQAF3"
   },
   "source": [
    "**Classification with LSTM**"
   ]
  },
  {
   "cell_type": "code",
   "execution_count": 15,
   "metadata": {
    "colab": {
     "base_uri": "https://localhost:8080/"
    },
    "id": "8gY48QNeBHAl",
    "outputId": "751d4e62-84a6-452e-f40c-8d8d18f2394f"
   },
   "outputs": [
    {
     "name": "stdout",
     "output_type": "stream",
     "text": [
      "WARNING:tensorflow:Layer lstm_1 will not use cuDNN kernels since it doesn't meet the criteria. It will use a generic GPU kernel as fallback when running on GPU.\n",
      "Epoch 1/10\n",
      "13/13 [==============================] - 9s 418ms/step - loss: 0.6920 - accuracy: 0.4875 - val_loss: 0.6967 - val_accuracy: 0.5100\n",
      "Epoch 2/10\n",
      "13/13 [==============================] - 5s 397ms/step - loss: 0.6877 - accuracy: 0.5700 - val_loss: 0.6949 - val_accuracy: 0.5000\n",
      "Epoch 3/10\n",
      "13/13 [==============================] - 5s 385ms/step - loss: 0.6879 - accuracy: 0.5450 - val_loss: 0.6937 - val_accuracy: 0.5100\n",
      "Epoch 4/10\n",
      "13/13 [==============================] - 5s 391ms/step - loss: 0.6780 - accuracy: 0.6075 - val_loss: 0.7029 - val_accuracy: 0.5150\n",
      "Epoch 5/10\n",
      "13/13 [==============================] - 5s 396ms/step - loss: 0.6619 - accuracy: 0.6150 - val_loss: 0.6927 - val_accuracy: 0.5750\n",
      "Epoch 6/10\n",
      "13/13 [==============================] - 5s 379ms/step - loss: 0.6574 - accuracy: 0.6150 - val_loss: 0.7245 - val_accuracy: 0.5450\n",
      "Epoch 7/10\n",
      "13/13 [==============================] - 5s 400ms/step - loss: 0.6452 - accuracy: 0.6325 - val_loss: 0.6867 - val_accuracy: 0.5400\n",
      "Epoch 8/10\n",
      "13/13 [==============================] - 5s 400ms/step - loss: 0.6649 - accuracy: 0.5950 - val_loss: 0.7049 - val_accuracy: 0.5400\n",
      "Epoch 9/10\n",
      "13/13 [==============================] - 5s 386ms/step - loss: 0.6337 - accuracy: 0.6625 - val_loss: 0.6913 - val_accuracy: 0.5700\n",
      "Epoch 10/10\n",
      "13/13 [==============================] - 5s 388ms/step - loss: 0.6339 - accuracy: 0.6625 - val_loss: 0.7017 - val_accuracy: 0.5500\n"
     ]
    }
   ],
   "source": [
    "# Defining the model\n",
    "model = Sequential()\n",
    "model.add(Dense(units=6, input_shape=X_train[0].shape,activation='relu'))\n",
    "model.add(LSTM(100, activation='relu'))\n",
    "model.add(Dense(1024,activation='relu'))\n",
    "model.add(Dropout(0.2))\n",
    "model.add(Dense(512,activation='relu'))\n",
    "model.add(Dense(256,activation='relu'))\n",
    "model.add(Dropout(0.2))\n",
    "model.add(Dense(units=1,activation='sigmoid'))\n",
    "\n",
    "# Compile and train\n",
    "model.compile(optimizer='adam',\n",
    "              loss='binary_crossentropy',\n",
    "              metrics=['accuracy'])\n",
    "r = model.fit(X_train, y_train, validation_data=(X_test, y_test),epochs=10)"
   ]
  },
  {
   "cell_type": "code",
   "execution_count": 16,
   "metadata": {
    "colab": {
     "base_uri": "https://localhost:8080/",
     "height": 265
    },
    "id": "POD6c90YelrZ",
    "outputId": "6f75838c-2272-4f95-bb9a-4fe1dcaf72df"
   },
   "outputs": [
    {
     "data": {
      "image/png": "[encoded data removed]",
      "text/plain": [
       "<Figure size 432x288 with 1 Axes>"
      ]
     },
     "metadata": {
      "needs_background": "light"
     },
     "output_type": "display_data"
    }
   ],
   "source": [
    "# Plot loss per iteration\n",
    "import matplotlib.pyplot as plt\n",
    "plt.plot(r.history['loss'], label='loss')\n",
    "plt.plot(r.history['val_loss'], label='val_loss')\n",
    "plt.legend()\n",
    "plt.show()"
   ]
  },
  {
   "cell_type": "code",
   "execution_count": 17,
   "metadata": {
    "colab": {
     "base_uri": "https://localhost:8080/",
     "height": 265
    },
    "id": "5sBJFbdSusfp",
    "outputId": "ed33ea3a-a936-4e8a-89b2-c250b8369653"
   },
   "outputs": [
    {
     "data": {
      "image/png": "[encoded data removed]",
      "text/plain": [
       "<Figure size 432x288 with 1 Axes>"
      ]
     },
     "metadata": {
      "needs_background": "light"
     },
     "output_type": "display_data"
    }
   ],
   "source": [
    "# Plot accuracy per iteration\n",
    "plt.plot(r.history['accuracy'], label='acc')\n",
    "plt.plot(r.history['val_accuracy'], label='val_acc')\n",
    "plt.legend()\n",
    "plt.show()"
   ]
  },
  {
   "cell_type": "markdown",
   "metadata": {
    "id": "TvuuMktgp19k"
   },
   "source": [
    "**Classification with GRU**"
   ]
  },
  {
   "cell_type": "code",
   "execution_count": 18,
   "metadata": {
    "colab": {
     "base_uri": "https://localhost:8080/"
    },
    "id": "tsupSApIqIFG",
    "outputId": "9439b545-6135-4962-a27f-4c9498518318"
   },
   "outputs": [
    {
     "name": "stdout",
     "output_type": "stream",
     "text": [
      "WARNING:tensorflow:Layer gru will not use cuDNN kernels since it doesn't meet the criteria. It will use a generic GPU kernel as fallback when running on GPU.\n",
      "Epoch 1/10\n",
      "13/13 [==============================] - 9s 507ms/step - loss: 0.6999 - accuracy: 0.5050 - val_loss: 0.6930 - val_accuracy: 0.5200\n",
      "Epoch 2/10\n",
      "13/13 [==============================] - 6s 479ms/step - loss: 0.6934 - accuracy: 0.5425 - val_loss: 0.6941 - val_accuracy: 0.5200\n",
      "Epoch 3/10\n",
      "13/13 [==============================] - 6s 457ms/step - loss: 0.6875 - accuracy: 0.5675 - val_loss: 0.7025 - val_accuracy: 0.5000\n",
      "Epoch 4/10\n",
      "13/13 [==============================] - 6s 471ms/step - loss: 0.6788 - accuracy: 0.5500 - val_loss: 0.7016 - val_accuracy: 0.4850\n",
      "Epoch 5/10\n",
      "13/13 [==============================] - 6s 476ms/step - loss: 0.6816 - accuracy: 0.5700 - val_loss: 0.7002 - val_accuracy: 0.4900\n",
      "Epoch 6/10\n",
      "13/13 [==============================] - 6s 475ms/step - loss: 0.6778 - accuracy: 0.5600 - val_loss: 0.7705 - val_accuracy: 0.5000\n",
      "Epoch 7/10\n",
      "13/13 [==============================] - 6s 469ms/step - loss: 0.6725 - accuracy: 0.5675 - val_loss: 0.6950 - val_accuracy: 0.5400\n",
      "Epoch 8/10\n",
      "13/13 [==============================] - 6s 468ms/step - loss: 0.6699 - accuracy: 0.5725 - val_loss: 0.6912 - val_accuracy: 0.5350\n",
      "Epoch 9/10\n",
      "13/13 [==============================] - 6s 464ms/step - loss: 0.6731 - accuracy: 0.5650 - val_loss: 0.7091 - val_accuracy: 0.5200\n",
      "Epoch 10/10\n",
      "13/13 [==============================] - 6s 465ms/step - loss: 0.6609 - accuracy: 0.6050 - val_loss: 0.8022 - val_accuracy: 0.5300\n"
     ]
    }
   ],
   "source": [
    "# Defining the model\n",
    "model = Sequential()\n",
    "model.add(Dense(units=6, input_shape=X_train[0].shape,activation='relu'))\n",
    "model.add(GRU(100,activation='relu'))\n",
    "model.add(Dense(1024,activation='relu'))\n",
    "model.add(Dropout(0.2))\n",
    "model.add(Dense(512,activation='relu'))\n",
    "model.add(Dense(256,activation='relu'))\n",
    "model.add(Dropout(0.2))\n",
    "model.add(Dense(units=1,activation='sigmoid'))\n",
    "\n",
    "# Compile and train\n",
    "model.compile(optimizer='rmsprop',\n",
    "              loss='binary_crossentropy',\n",
    "              metrics=['accuracy'])\n",
    "r = model.fit(X_train, y_train, validation_data=(X_test, y_test),epochs=10)"
   ]
  },
  {
   "cell_type": "code",
   "execution_count": 19,
   "metadata": {
    "colab": {
     "base_uri": "https://localhost:8080/",
     "height": 265
    },
    "id": "ahUukyNQqIFH",
    "outputId": "61157852-1003-4dae-97ad-87c50e1b1dc8"
   },
   "outputs": [
    {
     "data": {
      "image/png": "[encoded data removed]",
      "text/plain": [
       "<Figure size 432x288 with 1 Axes>"
      ]
     },
     "metadata": {
      "needs_background": "light"
     },
     "output_type": "display_data"
    }
   ],
   "source": [
    "# Plot loss per iteration\n",
    "import matplotlib.pyplot as plt\n",
    "plt.plot(r.history['loss'], label='loss')\n",
    "plt.plot(r.history['val_loss'], label='val_loss')\n",
    "plt.legend()\n",
    "plt.show()"
   ]
  },
  {
   "cell_type": "code",
   "execution_count": 20,
   "metadata": {
    "colab": {
     "base_uri": "https://localhost:8080/",
     "height": 265
    },
    "id": "tBEB2G8HqIFI",
    "outputId": "2f16f2a8-edcb-438c-c597-893690a7aafe"
   },
   "outputs": [
    {
     "data": {
      "image/png": "[encoded data removed]",
      "text/plain": [
       "<Figure size 432x288 with 1 Axes>"
      ]
     },
     "metadata": {
      "needs_background": "light"
     },
     "output_type": "display_data"
    }
   ],
   "source": [
    "# Plot accuracy per iteration\n",
    "plt.plot(r.history['accuracy'], label='acc')\n",
    "plt.plot(r.history['val_accuracy'], label='val_acc')\n",
    "plt.legend()\n",
    "plt.show()"
   ]
  },
  {
   "cell_type": "markdown",
   "metadata": {
    "id": "n2oeMaKMsUqw"
   },
   "source": [
    "**Classification with SimpleRNN**"
   ]
  },
  {
   "cell_type": "code",
   "execution_count": 21,
   "metadata": {
    "colab": {
     "base_uri": "https://localhost:8080/"
    },
    "id": "Ki95yEVIsUqx",
    "outputId": "ac703bf3-58e8-46fd-ba68-9555fe49d83a"
   },
   "outputs": [
    {
     "name": "stdout",
     "output_type": "stream",
     "text": [
      "Epoch 1/10\n",
      "13/13 [==============================] - 4s 225ms/step - loss: 0.6936 - accuracy: 0.4725 - val_loss: 0.6926 - val_accuracy: 0.4950\n",
      "Epoch 2/10\n",
      "13/13 [==============================] - 3s 205ms/step - loss: 0.6936 - accuracy: 0.4925 - val_loss: 0.6926 - val_accuracy: 0.4900\n",
      "Epoch 3/10\n",
      "13/13 [==============================] - 3s 199ms/step - loss: 0.6941 - accuracy: 0.4675 - val_loss: 0.6926 - val_accuracy: 0.4800\n",
      "Epoch 4/10\n",
      "13/13 [==============================] - 3s 201ms/step - loss: 0.6934 - accuracy: 0.4800 - val_loss: 0.6926 - val_accuracy: 0.4850\n",
      "Epoch 5/10\n",
      "13/13 [==============================] - 3s 204ms/step - loss: 0.6937 - accuracy: 0.4800 - val_loss: 0.6927 - val_accuracy: 0.4750\n",
      "Epoch 6/10\n",
      "13/13 [==============================] - 3s 201ms/step - loss: 0.6938 - accuracy: 0.4925 - val_loss: 0.6927 - val_accuracy: 0.5000\n",
      "Epoch 7/10\n",
      "13/13 [==============================] - 3s 204ms/step - loss: 0.6937 - accuracy: 0.4875 - val_loss: 0.6927 - val_accuracy: 0.4900\n",
      "Epoch 8/10\n",
      "13/13 [==============================] - 3s 209ms/step - loss: 0.6937 - accuracy: 0.4875 - val_loss: 0.6927 - val_accuracy: 0.4900\n",
      "Epoch 9/10\n",
      "13/13 [==============================] - 3s 205ms/step - loss: 0.6936 - accuracy: 0.4775 - val_loss: 0.6928 - val_accuracy: 0.5100\n",
      "Epoch 10/10\n",
      "13/13 [==============================] - 3s 204ms/step - loss: 0.6932 - accuracy: 0.5050 - val_loss: 0.6928 - val_accuracy: 0.5150\n"
     ]
    }
   ],
   "source": [
    "# Defining the model\n",
    "model = Sequential()\n",
    "model.add(Dense(units=6, input_shape=X_train[0].shape,activation='relu'))\n",
    "model.add(SimpleRNN(100,activation='relu'))\n",
    "model.add(Dense(1024,activation='relu'))\n",
    "model.add(Dropout(0.2))\n",
    "model.add(Dense(512,activation='relu'))\n",
    "model.add(Dense(256,activation='relu'))\n",
    "model.add(Dropout(0.2))\n",
    "model.add(Dense(units=1,activation='sigmoid'))\n",
    "\n",
    "# Compile and train\n",
    "model.compile(optimizer='adagrad',\n",
    "              loss='binary_crossentropy',\n",
    "              metrics=['accuracy'])\n",
    "r = model.fit(X_train, y_train, validation_data=(X_test, y_test),epochs=10)"
   ]
  },
  {
   "cell_type": "code",
   "execution_count": 22,
   "metadata": {
    "colab": {
     "base_uri": "https://localhost:8080/",
     "height": 265
    },
    "id": "TJ1c2BRtsUqx",
    "outputId": "4c288199-f42a-4f9e-e2c3-5053623b84dc"
   },
   "outputs": [
    {
     "data": {
      "image/png": "[encoded data removed]",
      "text/plain": [
       "<Figure size 432x288 with 1 Axes>"
      ]
     },
     "metadata": {
      "needs_background": "light"
     },
     "output_type": "display_data"
    }
   ],
   "source": [
    "# Plot loss per iteration\n",
    "import matplotlib.pyplot as plt\n",
    "plt.plot(r.history['loss'], label='loss')\n",
    "plt.plot(r.history['val_loss'], label='val_loss')\n",
    "plt.legend()\n",
    "plt.show()"
   ]
  },
  {
   "cell_type": "code",
   "execution_count": 23,
   "metadata": {
    "colab": {
     "base_uri": "https://localhost:8080/",
     "height": 265
    },
    "id": "0yyYQE5zsUqx",
    "outputId": "4f90782c-6d6a-4b58-9203-bd7d64c00cc8"
   },
   "outputs": [
    {
     "data": {
      "image/png": "[encoded data removed]",
      "text/plain": [
       "<Figure size 432x288 with 1 Axes>"
      ]
     },
     "metadata": {
      "needs_background": "light"
     },
     "output_type": "display_data"
    }
   ],
   "source": [
    "# Plot accuracy per iteration\n",
    "plt.plot(r.history['accuracy'], label='acc')\n",
    "plt.plot(r.history['val_accuracy'], label='val_acc')\n",
    "plt.legend()\n",
    "plt.show()"
   ]
  },
  {
   "cell_type": "markdown",
   "metadata": {
    "id": "1w8ps4NMxkyn"
   },
   "source": [
    "**Results**\n",
    "\n",
    "**Transfer Learning:** Model trained with weights from Inceptionv3 with data augmentation gives training accuracy as 92% (0.28 loss) and validation accuracy as 86% (0.43 loss). Along with data augmentation it is compute expensive but generalize well on vlaidation dataset.\n",
    "\n",
    "**LSTM, GRU & SimpleRNN:** These models gives highest validation accuracy between 50%-55% and training accuracy around 60%. The validation loss doesn't reduce further than 0.69.\n",
    "\n",
    "Hence models with transfer learning perform well as compared to RNN models."
   ]
  }
 ],
 "metadata": {
  "accelerator": "GPU",
  "colab": {
   "name": "Assign7.ipynb",
   "provenance": []
  },
  "kernelspec": {
   "display_name": "Python 3",
   "language": "python",
   "name": "python3"
  },
  "language_info": {
   "codemirror_mode": {
    "name": "ipython",
    "version": 3
   },
   "file_extension": ".py",
   "mimetype": "text/x-python",
   "name": "python",
   "nbconvert_exporter": "python",
   "pygments_lexer": "ipython3",
   "version": "3.8.5"
  }
 },
 "nbformat": 4,
 "nbformat_minor": 1
}
