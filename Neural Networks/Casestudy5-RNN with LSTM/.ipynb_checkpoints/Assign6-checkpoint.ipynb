{
 "cells": [
  {
   "cell_type": "markdown",
   "metadata": {
    "id": "AP2UfdOAFUGf"
   },
   "source": [
    "Importing required libraries"
   ]
  },
  {
   "cell_type": "code",
   "execution_count": 1,
   "metadata": {
    "id": "64Zo5niaBxMk"
   },
   "outputs": [],
   "source": [
    "from tensorflow.keras.layers import Input, Dense, Flatten, Dropout, SimpleRNN, GRU, LSTM, GlobalMaxPool1D\n",
    "from tensorflow.keras.models import Model\n",
    "from tensorflow.keras.optimizers import SGD, Adam, RMSprop\n",
    "\n",
    "import numpy as np\n",
    "import pandas as pd\n",
    "import matplotlib.pyplot as plt\n",
    "import sys, os"
   ]
  },
  {
   "cell_type": "markdown",
   "metadata": {
    "id": "xzIsrOuDFZMf"
   },
   "source": [
    "Reading dataset from google drive"
   ]
  },
  {
   "cell_type": "code",
   "execution_count": 2,
   "metadata": {
    "colab": {
     "base_uri": "https://localhost:8080/",
     "height": 282
    },
    "id": "y9FjPqk0DkmD",
    "outputId": "6bf45997-2942-4cb2-eaa1-b93350178ce9"
   },
   "outputs": [
    {
     "data": {
      "text/plain": [
       "[<matplotlib.lines.Line2D at 0x7fa922e752d0>]"
      ]
     },
     "execution_count": 2,
     "metadata": {},
     "output_type": "execute_result"
    },
    {
     "data": {
      "image/png": "[encoded data removed]",
      "text/plain": [
       "<Figure size 432x288 with 1 Axes>"
      ]
     },
     "metadata": {
      "needs_background": "light"
     },
     "output_type": "display_data"
    }
   ],
   "source": [
    "!pip install -U -q PyDrive\n",
    "\n",
    "#File ID\n",
    "zip_id = '1WxkT_jgBlScTZVEmdE27VI0Bq0GPazyY'\n",
    "\n",
    "from pydrive.auth import GoogleAuth\n",
    "from pydrive.drive import GoogleDrive\n",
    "from google.colab import auth\n",
    "from oauth2client.client import GoogleCredentials\n",
    "import zipfile, os\n",
    "\n",
    "# Authenticate and create the PyDrive client.\n",
    "auth.authenticate_user()\n",
    "gauth = GoogleAuth()\n",
    "gauth.credentials = GoogleCredentials.get_application_default()\n",
    "drive = GoogleDrive(gauth)\n",
    "\n",
    "# Download the zip file\n",
    "myzip = drive.CreateFile({'id': zip_id})\n",
    "myzip.GetContentFile('humidity.csv')\n",
    "\n",
    "# Loading humidity dataset from csv\n",
    "dataset = np.array(pd.read_csv('humidity.csv'))\n",
    "dataset[0:5]\n",
    "plt.plot(dataset)"
   ]
  },
  {
   "cell_type": "markdown",
   "metadata": {
    "id": "xMBWqw9vGpZG"
   },
   "source": [
    "Build the dataset"
   ]
  },
  {
   "cell_type": "code",
   "execution_count": 3,
   "metadata": {
    "colab": {
     "base_uri": "https://localhost:8080/"
    },
    "id": "Erdctn76FL1H",
    "outputId": "7c063b2e-690e-47b6-dc05-6bb17c4e4f3a"
   },
   "outputs": [
    {
     "name": "stdout",
     "output_type": "stream",
     "text": [
      "X.shape (3640, 10) Y.shape (3640, 1)\n"
     ]
    }
   ],
   "source": [
    "T = 10\n",
    "X = []\n",
    "Y = []\n",
    "for t in range(len(dataset) - T):\n",
    "  x = dataset[t:t+T]  # Values from 0 to 9 (10values)\n",
    "  X.append(x)         # First observation\n",
    "  y = dataset[t+T]    # 10th value\n",
    "  Y.append(y)         # append first Y\n",
    "\n",
    "X = np.array(X).reshape(-1, T)      # T columns must have\n",
    "Y = np.array(Y)                     \n",
    "N = len(X)\n",
    "print(\"X.shape\", X.shape, \"Y.shape\", Y.shape)"
   ]
  },
  {
   "cell_type": "markdown",
   "metadata": {
    "id": "SxJGn2OGFq4c"
   },
   "source": [
    "**1) Autoregressive Linear Model**"
   ]
  },
  {
   "cell_type": "markdown",
   "metadata": {
    "id": "HYHUWjIdIe3x"
   },
   "source": [
    "Building the model"
   ]
  },
  {
   "cell_type": "code",
   "execution_count": 5,
   "metadata": {
    "colab": {
     "base_uri": "https://localhost:8080/"
    },
    "id": "D9CCKg4kHCNc",
    "outputId": "546a4c72-6581-4956-8951-25d74de49622"
   },
   "outputs": [
    {
     "name": "stdout",
     "output_type": "stream",
     "text": [
      "Epoch 1/100\n",
      "57/57 [==============================] - 2s 18ms/step - loss: 6350.7705 - val_loss: 12.3134\n",
      "Epoch 2/100\n",
      "57/57 [==============================] - 1s 13ms/step - loss: 10.8045 - val_loss: 7.1677\n",
      "Epoch 3/100\n",
      "57/57 [==============================] - 1s 14ms/step - loss: 7.6050 - val_loss: 10.5363\n",
      "Epoch 4/100\n",
      "57/57 [==============================] - 1s 12ms/step - loss: 7.6417 - val_loss: 5.6395\n",
      "Epoch 5/100\n",
      "57/57 [==============================] - 1s 12ms/step - loss: 8.1607 - val_loss: 5.8820\n",
      "Epoch 6/100\n",
      "57/57 [==============================] - 1s 14ms/step - loss: 7.1899 - val_loss: 7.6857\n",
      "Epoch 7/100\n",
      "57/57 [==============================] - 0s 7ms/step - loss: 7.6621 - val_loss: 7.4310\n",
      "Epoch 8/100\n",
      "57/57 [==============================] - 0s 7ms/step - loss: 7.1016 - val_loss: 5.5888\n",
      "Epoch 9/100\n",
      "57/57 [==============================] - 0s 7ms/step - loss: 6.6000 - val_loss: 6.0247\n",
      "Epoch 10/100\n",
      "57/57 [==============================] - 0s 7ms/step - loss: 6.6797 - val_loss: 5.7509\n",
      "Epoch 11/100\n",
      "57/57 [==============================] - 0s 7ms/step - loss: 7.1846 - val_loss: 5.6315\n",
      "Epoch 12/100\n",
      "57/57 [==============================] - 0s 7ms/step - loss: 6.7481 - val_loss: 5.6285\n",
      "Epoch 13/100\n",
      "57/57 [==============================] - 0s 7ms/step - loss: 6.6266 - val_loss: 5.6851\n",
      "Epoch 14/100\n",
      "57/57 [==============================] - 0s 7ms/step - loss: 6.7402 - val_loss: 5.5815\n",
      "Epoch 15/100\n",
      "57/57 [==============================] - 0s 7ms/step - loss: 6.9780 - val_loss: 6.1321\n",
      "Epoch 16/100\n",
      "57/57 [==============================] - 0s 7ms/step - loss: 6.8888 - val_loss: 6.6562\n",
      "Epoch 17/100\n",
      "57/57 [==============================] - 0s 7ms/step - loss: 6.5397 - val_loss: 6.6243\n",
      "Epoch 18/100\n",
      "57/57 [==============================] - 0s 7ms/step - loss: 6.7467 - val_loss: 5.5516\n",
      "Epoch 19/100\n",
      "57/57 [==============================] - 0s 7ms/step - loss: 6.5980 - val_loss: 8.7503\n",
      "Epoch 20/100\n",
      "57/57 [==============================] - 0s 7ms/step - loss: 7.5809 - val_loss: 5.6535\n",
      "Epoch 21/100\n",
      "57/57 [==============================] - 0s 7ms/step - loss: 6.7691 - val_loss: 5.5478\n",
      "Epoch 22/100\n",
      "57/57 [==============================] - 0s 7ms/step - loss: 6.9550 - val_loss: 5.7642\n",
      "Epoch 23/100\n",
      "57/57 [==============================] - 0s 7ms/step - loss: 6.8805 - val_loss: 6.3044\n",
      "Epoch 24/100\n",
      "57/57 [==============================] - 0s 7ms/step - loss: 7.3124 - val_loss: 6.4441\n",
      "Epoch 25/100\n",
      "57/57 [==============================] - 0s 7ms/step - loss: 8.0035 - val_loss: 5.6806\n",
      "Epoch 26/100\n",
      "57/57 [==============================] - 0s 7ms/step - loss: 6.5952 - val_loss: 5.6129\n",
      "Epoch 27/100\n",
      "57/57 [==============================] - 0s 7ms/step - loss: 6.5707 - val_loss: 5.5866\n",
      "Epoch 28/100\n",
      "57/57 [==============================] - 0s 7ms/step - loss: 7.5679 - val_loss: 5.7337\n",
      "Epoch 29/100\n",
      "57/57 [==============================] - 1s 10ms/step - loss: 6.3975 - val_loss: 5.6337\n",
      "Epoch 30/100\n",
      "57/57 [==============================] - 0s 7ms/step - loss: 6.6213 - val_loss: 5.7916\n",
      "Epoch 31/100\n",
      "57/57 [==============================] - 0s 7ms/step - loss: 7.8370 - val_loss: 5.7463\n",
      "Epoch 32/100\n",
      "57/57 [==============================] - 0s 7ms/step - loss: 6.7874 - val_loss: 8.6106\n",
      "Epoch 33/100\n",
      "57/57 [==============================] - 0s 7ms/step - loss: 6.7316 - val_loss: 5.9994\n",
      "Epoch 34/100\n",
      "57/57 [==============================] - 0s 7ms/step - loss: 6.7756 - val_loss: 5.9222\n",
      "Epoch 35/100\n",
      "57/57 [==============================] - 0s 7ms/step - loss: 6.5434 - val_loss: 5.5555\n",
      "Epoch 36/100\n",
      "57/57 [==============================] - 0s 7ms/step - loss: 6.6944 - val_loss: 5.5562\n",
      "Epoch 37/100\n",
      "57/57 [==============================] - 0s 7ms/step - loss: 6.4090 - val_loss: 5.5697\n",
      "Epoch 38/100\n",
      "57/57 [==============================] - 1s 10ms/step - loss: 6.5202 - val_loss: 6.0796\n",
      "Epoch 39/100\n",
      "57/57 [==============================] - 0s 7ms/step - loss: 6.5390 - val_loss: 5.5973\n",
      "Epoch 40/100\n",
      "57/57 [==============================] - 0s 7ms/step - loss: 6.4815 - val_loss: 5.5694\n",
      "Epoch 41/100\n",
      "57/57 [==============================] - 0s 7ms/step - loss: 6.5025 - val_loss: 5.6342\n",
      "Epoch 42/100\n",
      "57/57 [==============================] - 0s 7ms/step - loss: 6.3898 - val_loss: 5.5863\n",
      "Epoch 43/100\n",
      "57/57 [==============================] - 0s 7ms/step - loss: 6.5364 - val_loss: 5.5891\n",
      "Epoch 44/100\n",
      "57/57 [==============================] - 0s 7ms/step - loss: 6.4403 - val_loss: 7.2266\n",
      "Epoch 45/100\n",
      "57/57 [==============================] - 0s 7ms/step - loss: 6.6948 - val_loss: 8.4700\n",
      "Epoch 46/100\n",
      "57/57 [==============================] - 0s 7ms/step - loss: 6.5227 - val_loss: 5.6703\n",
      "Epoch 47/100\n",
      "57/57 [==============================] - 0s 7ms/step - loss: 6.6829 - val_loss: 6.0676\n",
      "Epoch 48/100\n",
      "57/57 [==============================] - 0s 7ms/step - loss: 6.6442 - val_loss: 5.5589\n",
      "Epoch 49/100\n",
      "57/57 [==============================] - 0s 7ms/step - loss: 6.6148 - val_loss: 6.9523\n",
      "Epoch 50/100\n",
      "57/57 [==============================] - 0s 7ms/step - loss: 6.7161 - val_loss: 5.6447\n",
      "Epoch 51/100\n",
      "57/57 [==============================] - 0s 7ms/step - loss: 6.6863 - val_loss: 5.5571\n",
      "Epoch 52/100\n",
      "57/57 [==============================] - 0s 7ms/step - loss: 6.4818 - val_loss: 5.6298\n",
      "Epoch 53/100\n",
      "57/57 [==============================] - 0s 7ms/step - loss: 6.6038 - val_loss: 5.7515\n",
      "Epoch 54/100\n",
      "57/57 [==============================] - 0s 7ms/step - loss: 6.5244 - val_loss: 5.7096\n",
      "Epoch 55/100\n",
      "57/57 [==============================] - 0s 7ms/step - loss: 6.4842 - val_loss: 5.7870\n",
      "Epoch 56/100\n",
      "57/57 [==============================] - 0s 7ms/step - loss: 6.4516 - val_loss: 6.2690\n",
      "Epoch 57/100\n",
      "57/57 [==============================] - 0s 7ms/step - loss: 6.4735 - val_loss: 5.6563\n",
      "Epoch 58/100\n",
      "57/57 [==============================] - 0s 7ms/step - loss: 6.6702 - val_loss: 6.3817\n",
      "Epoch 59/100\n",
      "57/57 [==============================] - 0s 7ms/step - loss: 7.2254 - val_loss: 5.7365\n",
      "Epoch 60/100\n",
      "57/57 [==============================] - 0s 7ms/step - loss: 7.0205 - val_loss: 6.3720\n",
      "Epoch 61/100\n",
      "57/57 [==============================] - 0s 7ms/step - loss: 6.4778 - val_loss: 5.8023\n",
      "Epoch 62/100\n",
      "57/57 [==============================] - 0s 7ms/step - loss: 6.4068 - val_loss: 5.6106\n",
      "Epoch 63/100\n",
      "57/57 [==============================] - 0s 7ms/step - loss: 7.1464 - val_loss: 5.8777\n",
      "Epoch 64/100\n",
      "57/57 [==============================] - 0s 7ms/step - loss: 6.7746 - val_loss: 5.5529\n",
      "Epoch 65/100\n",
      "57/57 [==============================] - 0s 7ms/step - loss: 6.7561 - val_loss: 5.9807\n",
      "Epoch 66/100\n",
      "57/57 [==============================] - 0s 7ms/step - loss: 6.7913 - val_loss: 6.3016\n",
      "Epoch 67/100\n",
      "57/57 [==============================] - 0s 7ms/step - loss: 6.6961 - val_loss: 5.7943\n",
      "Epoch 68/100\n",
      "57/57 [==============================] - 0s 7ms/step - loss: 6.5140 - val_loss: 6.0250\n",
      "Epoch 69/100\n",
      "57/57 [==============================] - 0s 7ms/step - loss: 6.4113 - val_loss: 5.6733\n",
      "Epoch 70/100\n",
      "57/57 [==============================] - 0s 7ms/step - loss: 6.5427 - val_loss: 7.5029\n",
      "Epoch 71/100\n",
      "57/57 [==============================] - 0s 7ms/step - loss: 6.9092 - val_loss: 5.8023\n",
      "Epoch 72/100\n",
      "57/57 [==============================] - 0s 7ms/step - loss: 6.9529 - val_loss: 5.8915\n",
      "Epoch 73/100\n",
      "57/57 [==============================] - 0s 7ms/step - loss: 6.6583 - val_loss: 5.5931\n",
      "Epoch 74/100\n",
      "57/57 [==============================] - 0s 7ms/step - loss: 6.4626 - val_loss: 5.6902\n",
      "Epoch 75/100\n",
      "57/57 [==============================] - 0s 7ms/step - loss: 6.3824 - val_loss: 6.1074\n",
      "Epoch 76/100\n",
      "57/57 [==============================] - 0s 7ms/step - loss: 6.6594 - val_loss: 6.3526\n",
      "Epoch 77/100\n",
      "57/57 [==============================] - 0s 7ms/step - loss: 6.5183 - val_loss: 5.5567\n",
      "Epoch 78/100\n",
      "57/57 [==============================] - 0s 7ms/step - loss: 6.6027 - val_loss: 5.7860\n",
      "Epoch 79/100\n",
      "57/57 [==============================] - 0s 7ms/step - loss: 6.4320 - val_loss: 5.6384\n",
      "Epoch 80/100\n",
      "57/57 [==============================] - 0s 7ms/step - loss: 6.4201 - val_loss: 5.5472\n",
      "Epoch 81/100\n",
      "57/57 [==============================] - 0s 7ms/step - loss: 6.5454 - val_loss: 5.7507\n",
      "Epoch 82/100\n",
      "57/57 [==============================] - 0s 7ms/step - loss: 6.6709 - val_loss: 5.5603\n",
      "Epoch 83/100\n",
      "57/57 [==============================] - 0s 7ms/step - loss: 6.5265 - val_loss: 5.7221\n",
      "Epoch 84/100\n",
      "57/57 [==============================] - 0s 7ms/step - loss: 6.4537 - val_loss: 5.5487\n",
      "Epoch 85/100\n",
      "57/57 [==============================] - 0s 7ms/step - loss: 6.6055 - val_loss: 7.2643\n",
      "Epoch 86/100\n",
      "57/57 [==============================] - 0s 7ms/step - loss: 6.7652 - val_loss: 5.5524\n",
      "Epoch 87/100\n",
      "57/57 [==============================] - 0s 7ms/step - loss: 6.5542 - val_loss: 5.6959\n",
      "Epoch 88/100\n",
      "57/57 [==============================] - 0s 7ms/step - loss: 6.3996 - val_loss: 6.2771\n",
      "Epoch 89/100\n",
      "57/57 [==============================] - 0s 7ms/step - loss: 6.5802 - val_loss: 5.8665\n",
      "Epoch 90/100\n",
      "57/57 [==============================] - 0s 7ms/step - loss: 6.3628 - val_loss: 5.6866\n",
      "Epoch 91/100\n",
      "57/57 [==============================] - 0s 7ms/step - loss: 6.5228 - val_loss: 5.5993\n",
      "Epoch 92/100\n",
      "57/57 [==============================] - 0s 7ms/step - loss: 6.8370 - val_loss: 6.0953\n",
      "Epoch 93/100\n",
      "57/57 [==============================] - 0s 7ms/step - loss: 6.5351 - val_loss: 6.6839\n",
      "Epoch 94/100\n",
      "57/57 [==============================] - 0s 7ms/step - loss: 6.9572 - val_loss: 6.3614\n",
      "Epoch 95/100\n",
      "57/57 [==============================] - 0s 7ms/step - loss: 6.7226 - val_loss: 5.9840\n",
      "Epoch 96/100\n",
      "57/57 [==============================] - 0s 7ms/step - loss: 6.4175 - val_loss: 5.7573\n",
      "Epoch 97/100\n",
      "57/57 [==============================] - 0s 7ms/step - loss: 6.4936 - val_loss: 5.5732\n",
      "Epoch 98/100\n",
      "57/57 [==============================] - 0s 6ms/step - loss: 6.4273 - val_loss: 5.6475\n",
      "Epoch 99/100\n",
      "57/57 [==============================] - 0s 7ms/step - loss: 6.6104 - val_loss: 5.8739\n",
      "Epoch 100/100\n",
      "57/57 [==============================] - 1s 10ms/step - loss: 6.6410 - val_loss: 5.5965\n"
     ]
    }
   ],
   "source": [
    "#Build the autoregressive linear model\n",
    "i = Input(shape=(T,))\n",
    "x = Dense(1024,activation='relu')(i)\n",
    "x = Dense(512)(x)\n",
    "x = Dense(256)(x)\n",
    "x = Dense(1)(x)\n",
    "model = Model(i, x)\n",
    "\n",
    "model.compile(\n",
    "  loss='mse',\n",
    "  optimizer=Adam(learning_rate=0.01),\n",
    "  #optimizer=SGD(learning_rate=0.01,momentum=0.9)\n",
    ")\n",
    "\n",
    "#Training the model\n",
    "r = model.fit(\n",
    "  X[:N//2], Y[:N//2],     # First half for training\n",
    "  epochs=100,\n",
    "  validation_data=(X[N//2:], Y[N//2:]),  #Second half for valdiation\n",
    ")"
   ]
  },
  {
   "cell_type": "markdown",
   "metadata": {
    "id": "Hs2gJCMTNcLN"
   },
   "source": [
    "Loss plot"
   ]
  },
  {
   "cell_type": "code",
   "execution_count": 6,
   "metadata": {
    "colab": {
     "base_uri": "https://localhost:8080/",
     "height": 282
    },
    "id": "2Daa17ecI6kN",
    "outputId": "07e61a4f-b013-4e59-b5a5-ce22966aab50"
   },
   "outputs": [
    {
     "data": {
      "text/plain": [
       "<matplotlib.legend.Legend at 0x7fa920489790>"
      ]
     },
     "execution_count": 6,
     "metadata": {},
     "output_type": "execute_result"
    },
    {
     "data": {
      "image/png": "[encoded data removed]",
      "text/plain": [
       "<Figure size 432x288 with 1 Axes>"
      ]
     },
     "metadata": {
      "needs_background": "light"
     },
     "output_type": "display_data"
    }
   ],
   "source": [
    "# Plot loss per iteration\n",
    "import matplotlib.pyplot as plt\n",
    "plt.plot(r.history['loss'], label='loss')\n",
    "plt.plot(r.history['val_loss'], label='val_loss')\n",
    "plt.legend()"
   ]
  },
  {
   "cell_type": "markdown",
   "metadata": {
    "id": "yJFs5W47Nlj7"
   },
   "source": [
    "Forecasting plot"
   ]
  },
  {
   "cell_type": "code",
   "execution_count": 7,
   "metadata": {
    "colab": {
     "base_uri": "https://localhost:8080/",
     "height": 284
    },
    "id": "Pz3E6rX1KFWE",
    "outputId": "f9e20807-1445-44ed-f948-6617a6e89dd1"
   },
   "outputs": [
    {
     "data": {
      "text/plain": [
       "<matplotlib.legend.Legend at 0x7fa9201ff410>"
      ]
     },
     "execution_count": 7,
     "metadata": {},
     "output_type": "execute_result"
    },
    {
     "data": {
      "image/png": "[encoded data removed]",
      "text/plain": [
       "<Figure size 432x288 with 1 Axes>"
      ]
     },
     "metadata": {
      "needs_background": "light"
     },
     "output_type": "display_data"
    }
   ],
   "source": [
    "validation_target = Y[N//2:]\n",
    "validation_predictions = []\n",
    "\n",
    "# first validation input\n",
    "last_x = X[N//2] # 1-D array of length T  # Set the variable to be the first input vector because we need to take predicted values in consideration for prediction\n",
    "\n",
    "while len(validation_predictions) < len(validation_target):\n",
    "  p = model.predict(last_x.reshape(1, -1))[0,0] # 1x1 array -> scalar\n",
    "  \n",
    "  # update the predictions list\n",
    "  validation_predictions.append(p)\n",
    "  \n",
    "  # make the new input\n",
    "  last_x = np.roll(last_x, -1)      #Make the next new input with new predicted value append (shifting current X set to left and add current predicted value at end)\n",
    "                                    #np.roll(x,-1) function shifts the values to left by 1 position and new value is appended at last index\n",
    "  last_x[-1] = p\n",
    "\n",
    "plt.plot(validation_target, label='forecast target')\n",
    "plt.plot(validation_predictions, label='forecast prediction')\n",
    "plt.legend()"
   ]
  },
  {
   "cell_type": "markdown",
   "metadata": {
    "id": "_6US02RaPMj3"
   },
   "source": [
    "**2) SimpleRNN**"
   ]
  },
  {
   "cell_type": "markdown",
   "metadata": {
    "id": "QdQs1ZUZP1SP"
   },
   "source": [
    "Building the model"
   ]
  },
  {
   "cell_type": "code",
   "execution_count": 8,
   "metadata": {
    "colab": {
     "base_uri": "https://localhost:8080/"
    },
    "id": "ka8p0Up-PwMf",
    "outputId": "b17eaf09-7108-4571-b37e-a6e1f351eefa"
   },
   "outputs": [
    {
     "name": "stdout",
     "output_type": "stream",
     "text": [
      "Epoch 1/150\n",
      "57/57 [==============================] - 3s 32ms/step - loss: 162.8697 - val_loss: 6.3797\n",
      "Epoch 2/150\n",
      "57/57 [==============================] - 1s 23ms/step - loss: 7.1332 - val_loss: 5.9235\n",
      "Epoch 3/150\n",
      "57/57 [==============================] - 1s 23ms/step - loss: 7.3473 - val_loss: 6.1689\n",
      "Epoch 4/150\n",
      "57/57 [==============================] - 1s 24ms/step - loss: 6.6647 - val_loss: 5.7695\n",
      "Epoch 5/150\n",
      "57/57 [==============================] - 1s 23ms/step - loss: 6.7652 - val_loss: 6.6298\n",
      "Epoch 6/150\n",
      "57/57 [==============================] - 1s 24ms/step - loss: 6.6507 - val_loss: 5.8390\n",
      "Epoch 7/150\n",
      "57/57 [==============================] - 1s 24ms/step - loss: 6.4876 - val_loss: 5.6222\n",
      "Epoch 8/150\n",
      "57/57 [==============================] - 1s 24ms/step - loss: 6.3720 - val_loss: 5.6063\n",
      "Epoch 9/150\n",
      "57/57 [==============================] - 1s 24ms/step - loss: 6.8123 - val_loss: 6.2234\n",
      "Epoch 10/150\n",
      "57/57 [==============================] - 1s 23ms/step - loss: 7.3200 - val_loss: 6.2118\n",
      "Epoch 11/150\n",
      "57/57 [==============================] - 1s 23ms/step - loss: 6.7351 - val_loss: 6.5741\n",
      "Epoch 12/150\n",
      "57/57 [==============================] - 1s 25ms/step - loss: 6.7345 - val_loss: 6.4478\n",
      "Epoch 13/150\n",
      "57/57 [==============================] - 1s 24ms/step - loss: 6.3733 - val_loss: 6.1651\n",
      "Epoch 14/150\n",
      "57/57 [==============================] - 1s 24ms/step - loss: 6.6175 - val_loss: 5.8947\n",
      "Epoch 15/150\n",
      "57/57 [==============================] - 1s 23ms/step - loss: 6.7265 - val_loss: 5.5689\n",
      "Epoch 16/150\n",
      "57/57 [==============================] - 1s 24ms/step - loss: 6.7510 - val_loss: 5.6410\n",
      "Epoch 17/150\n",
      "57/57 [==============================] - 1s 23ms/step - loss: 7.0622 - val_loss: 5.6209\n",
      "Epoch 18/150\n",
      "57/57 [==============================] - 1s 23ms/step - loss: 6.3291 - val_loss: 5.6248\n",
      "Epoch 19/150\n",
      "57/57 [==============================] - 1s 24ms/step - loss: 6.6694 - val_loss: 6.8081\n",
      "Epoch 20/150\n",
      "57/57 [==============================] - 1s 26ms/step - loss: 6.5625 - val_loss: 5.6429\n",
      "Epoch 21/150\n",
      "57/57 [==============================] - 1s 26ms/step - loss: 6.4626 - val_loss: 5.9343\n",
      "Epoch 22/150\n",
      "57/57 [==============================] - 1s 25ms/step - loss: 6.1719 - val_loss: 5.5760\n",
      "Epoch 23/150\n",
      "57/57 [==============================] - 1s 23ms/step - loss: 6.5531 - val_loss: 5.6146\n",
      "Epoch 24/150\n",
      "57/57 [==============================] - 1s 24ms/step - loss: 6.3179 - val_loss: 6.4470\n",
      "Epoch 25/150\n",
      "57/57 [==============================] - 1s 25ms/step - loss: 6.3394 - val_loss: 6.0910\n",
      "Epoch 26/150\n",
      "57/57 [==============================] - 1s 25ms/step - loss: 6.4748 - val_loss: 5.7377\n",
      "Epoch 27/150\n",
      "57/57 [==============================] - 1s 23ms/step - loss: 6.2015 - val_loss: 7.2404\n",
      "Epoch 28/150\n",
      "57/57 [==============================] - 3s 47ms/step - loss: 6.9702 - val_loss: 5.6425\n",
      "Epoch 29/150\n",
      "57/57 [==============================] - 2s 29ms/step - loss: 6.7804 - val_loss: 6.0411\n",
      "Epoch 30/150\n",
      "57/57 [==============================] - 1s 25ms/step - loss: 6.3359 - val_loss: 5.8424\n",
      "Epoch 31/150\n",
      "57/57 [==============================] - 1s 26ms/step - loss: 6.1210 - val_loss: 5.6690\n",
      "Epoch 32/150\n",
      "57/57 [==============================] - 1s 25ms/step - loss: 6.0596 - val_loss: 5.7000\n",
      "Epoch 33/150\n",
      "57/57 [==============================] - 1s 23ms/step - loss: 6.0968 - val_loss: 5.7124\n",
      "Epoch 34/150\n",
      "57/57 [==============================] - 1s 24ms/step - loss: 6.9017 - val_loss: 7.4827\n",
      "Epoch 35/150\n",
      "57/57 [==============================] - 1s 25ms/step - loss: 6.2757 - val_loss: 8.8693\n",
      "Epoch 36/150\n",
      "57/57 [==============================] - 1s 24ms/step - loss: 6.4570 - val_loss: 5.7476\n",
      "Epoch 37/150\n",
      "57/57 [==============================] - 1s 24ms/step - loss: 6.0097 - val_loss: 5.8873\n",
      "Epoch 38/150\n",
      "57/57 [==============================] - 1s 23ms/step - loss: 6.1070 - val_loss: 5.9343\n",
      "Epoch 39/150\n",
      "57/57 [==============================] - 1s 23ms/step - loss: 6.3132 - val_loss: 7.5171\n",
      "Epoch 40/150\n",
      "57/57 [==============================] - 1s 25ms/step - loss: 6.0245 - val_loss: 8.0933\n",
      "Epoch 41/150\n",
      "57/57 [==============================] - 1s 25ms/step - loss: 6.4145 - val_loss: 9.6977\n",
      "Epoch 42/150\n",
      "57/57 [==============================] - 1s 24ms/step - loss: 6.7000 - val_loss: 6.8548\n",
      "Epoch 43/150\n",
      "57/57 [==============================] - 1s 26ms/step - loss: 6.2764 - val_loss: 5.7887\n",
      "Epoch 44/150\n",
      "57/57 [==============================] - 1s 23ms/step - loss: 6.0814 - val_loss: 5.7478\n",
      "Epoch 45/150\n",
      "57/57 [==============================] - 1s 24ms/step - loss: 6.3715 - val_loss: 6.9012\n",
      "Epoch 46/150\n",
      "57/57 [==============================] - 1s 25ms/step - loss: 6.4471 - val_loss: 6.0343\n",
      "Epoch 47/150\n",
      "57/57 [==============================] - 1s 25ms/step - loss: 6.1810 - val_loss: 5.8099\n",
      "Epoch 48/150\n",
      "57/57 [==============================] - 1s 26ms/step - loss: 6.0897 - val_loss: 6.5743\n",
      "Epoch 49/150\n",
      "57/57 [==============================] - 1s 24ms/step - loss: 6.5549 - val_loss: 5.6945\n",
      "Epoch 50/150\n",
      "57/57 [==============================] - 1s 24ms/step - loss: 6.3403 - val_loss: 5.8976\n",
      "Epoch 51/150\n",
      "57/57 [==============================] - 1s 24ms/step - loss: 6.5157 - val_loss: 5.6753\n",
      "Epoch 52/150\n",
      "57/57 [==============================] - 1s 24ms/step - loss: 6.5882 - val_loss: 8.4367\n",
      "Epoch 53/150\n",
      "57/57 [==============================] - 1s 24ms/step - loss: 5.9760 - val_loss: 5.9457\n",
      "Epoch 54/150\n",
      "57/57 [==============================] - 1s 25ms/step - loss: 5.8944 - val_loss: 6.4029\n",
      "Epoch 55/150\n",
      "57/57 [==============================] - 1s 24ms/step - loss: 5.9181 - val_loss: 7.4200\n",
      "Epoch 56/150\n",
      "57/57 [==============================] - 1s 22ms/step - loss: 6.3606 - val_loss: 6.5653\n",
      "Epoch 57/150\n",
      "57/57 [==============================] - 1s 24ms/step - loss: 5.9950 - val_loss: 6.5640\n",
      "Epoch 58/150\n",
      "57/57 [==============================] - 1s 24ms/step - loss: 6.1540 - val_loss: 5.8490\n",
      "Epoch 59/150\n",
      "57/57 [==============================] - 1s 23ms/step - loss: 5.7607 - val_loss: 7.1180\n",
      "Epoch 60/150\n",
      "57/57 [==============================] - 1s 24ms/step - loss: 6.2245 - val_loss: 5.7304\n",
      "Epoch 61/150\n",
      "57/57 [==============================] - 1s 23ms/step - loss: 5.8148 - val_loss: 6.2292\n",
      "Epoch 62/150\n",
      "57/57 [==============================] - 1s 23ms/step - loss: 5.7765 - val_loss: 5.7827\n",
      "Epoch 63/150\n",
      "57/57 [==============================] - 1s 24ms/step - loss: 5.8489 - val_loss: 7.4877\n",
      "Epoch 64/150\n",
      "57/57 [==============================] - 1s 24ms/step - loss: 6.0780 - val_loss: 6.1273\n",
      "Epoch 65/150\n",
      "57/57 [==============================] - 1s 24ms/step - loss: 5.8700 - val_loss: 7.3916\n",
      "Epoch 66/150\n",
      "57/57 [==============================] - 1s 23ms/step - loss: 6.5291 - val_loss: 6.3525\n",
      "Epoch 67/150\n",
      "57/57 [==============================] - 1s 24ms/step - loss: 6.4190 - val_loss: 7.0335\n",
      "Epoch 68/150\n",
      "57/57 [==============================] - 1s 24ms/step - loss: 5.5666 - val_loss: 5.8246\n",
      "Epoch 69/150\n",
      "57/57 [==============================] - 1s 23ms/step - loss: 6.0772 - val_loss: 5.7201\n",
      "Epoch 70/150\n",
      "57/57 [==============================] - 1s 22ms/step - loss: 6.3730 - val_loss: 5.9433\n",
      "Epoch 71/150\n",
      "57/57 [==============================] - 1s 23ms/step - loss: 5.7744 - val_loss: 7.8524\n",
      "Epoch 72/150\n",
      "57/57 [==============================] - 1s 23ms/step - loss: 6.2542 - val_loss: 6.9631\n",
      "Epoch 73/150\n",
      "57/57 [==============================] - 1s 23ms/step - loss: 5.9235 - val_loss: 7.3952\n",
      "Epoch 74/150\n",
      "57/57 [==============================] - 1s 23ms/step - loss: 5.8899 - val_loss: 6.5257\n",
      "Epoch 75/150\n",
      "57/57 [==============================] - 1s 23ms/step - loss: 6.1827 - val_loss: 6.1519\n",
      "Epoch 76/150\n",
      "57/57 [==============================] - 1s 23ms/step - loss: 5.7221 - val_loss: 7.2948\n",
      "Epoch 77/150\n",
      "57/57 [==============================] - 1s 23ms/step - loss: 5.6995 - val_loss: 6.1535\n",
      "Epoch 78/150\n",
      "57/57 [==============================] - 1s 22ms/step - loss: 5.8176 - val_loss: 5.9559\n",
      "Epoch 79/150\n",
      "57/57 [==============================] - 1s 23ms/step - loss: 5.6467 - val_loss: 6.8204\n",
      "Epoch 80/150\n",
      "57/57 [==============================] - 1s 24ms/step - loss: 5.7019 - val_loss: 6.4654\n",
      "Epoch 81/150\n",
      "57/57 [==============================] - 1s 24ms/step - loss: 5.3703 - val_loss: 6.0247\n",
      "Epoch 82/150\n",
      "57/57 [==============================] - 1s 23ms/step - loss: 5.4069 - val_loss: 5.8869\n",
      "Epoch 83/150\n",
      "57/57 [==============================] - 1s 23ms/step - loss: 5.6932 - val_loss: 5.8647\n",
      "Epoch 84/150\n",
      "57/57 [==============================] - 1s 23ms/step - loss: 5.8513 - val_loss: 6.5831\n",
      "Epoch 85/150\n",
      "57/57 [==============================] - 1s 23ms/step - loss: 5.5459 - val_loss: 5.9334\n",
      "Epoch 86/150\n",
      "57/57 [==============================] - 1s 24ms/step - loss: 5.5650 - val_loss: 6.1937\n",
      "Epoch 87/150\n",
      "57/57 [==============================] - 1s 24ms/step - loss: 5.5226 - val_loss: 6.3893\n",
      "Epoch 88/150\n",
      "57/57 [==============================] - 1s 24ms/step - loss: 5.6685 - val_loss: 6.7717\n",
      "Epoch 89/150\n",
      "57/57 [==============================] - 1s 24ms/step - loss: 5.7484 - val_loss: 6.3323\n",
      "Epoch 90/150\n",
      "57/57 [==============================] - 1s 24ms/step - loss: 5.9229 - val_loss: 6.0420\n",
      "Epoch 91/150\n",
      "57/57 [==============================] - 1s 25ms/step - loss: 5.7066 - val_loss: 6.5244\n",
      "Epoch 92/150\n",
      "57/57 [==============================] - 1s 23ms/step - loss: 5.9001 - val_loss: 6.1809\n",
      "Epoch 93/150\n",
      "57/57 [==============================] - 1s 22ms/step - loss: 5.5320 - val_loss: 6.4961\n",
      "Epoch 94/150\n",
      "57/57 [==============================] - 1s 22ms/step - loss: 5.7460 - val_loss: 7.5863\n",
      "Epoch 95/150\n",
      "57/57 [==============================] - 1s 24ms/step - loss: 6.1875 - val_loss: 5.7865\n",
      "Epoch 96/150\n",
      "57/57 [==============================] - 1s 23ms/step - loss: 5.7077 - val_loss: 5.9721\n",
      "Epoch 97/150\n",
      "57/57 [==============================] - 1s 23ms/step - loss: 5.3592 - val_loss: 6.4929\n",
      "Epoch 98/150\n",
      "57/57 [==============================] - 1s 23ms/step - loss: 5.8152 - val_loss: 7.2238\n",
      "Epoch 99/150\n",
      "57/57 [==============================] - 2s 27ms/step - loss: 6.6224 - val_loss: 6.4713\n",
      "Epoch 100/150\n",
      "57/57 [==============================] - 1s 24ms/step - loss: 5.7914 - val_loss: 6.8045\n",
      "Epoch 101/150\n",
      "57/57 [==============================] - 1s 23ms/step - loss: 5.5829 - val_loss: 6.1522\n",
      "Epoch 102/150\n",
      "57/57 [==============================] - 1s 24ms/step - loss: 5.5589 - val_loss: 6.5826\n",
      "Epoch 103/150\n",
      "57/57 [==============================] - 1s 25ms/step - loss: 5.3065 - val_loss: 6.2213\n",
      "Epoch 104/150\n",
      "57/57 [==============================] - 1s 23ms/step - loss: 5.7049 - val_loss: 6.5925\n",
      "Epoch 105/150\n",
      "57/57 [==============================] - 1s 24ms/step - loss: 5.6387 - val_loss: 6.9130\n",
      "Epoch 106/150\n",
      "57/57 [==============================] - 1s 24ms/step - loss: 5.5745 - val_loss: 6.2338\n",
      "Epoch 107/150\n",
      "57/57 [==============================] - 1s 24ms/step - loss: 5.1185 - val_loss: 6.7139\n",
      "Epoch 108/150\n",
      "57/57 [==============================] - 1s 24ms/step - loss: 5.1056 - val_loss: 6.5194\n",
      "Epoch 109/150\n",
      "57/57 [==============================] - 1s 24ms/step - loss: 5.2542 - val_loss: 8.1863\n",
      "Epoch 110/150\n",
      "57/57 [==============================] - 1s 26ms/step - loss: 5.3030 - val_loss: 6.1789\n",
      "Epoch 111/150\n",
      "57/57 [==============================] - 1s 25ms/step - loss: 5.3173 - val_loss: 6.4245\n",
      "Epoch 112/150\n",
      "57/57 [==============================] - 1s 24ms/step - loss: 5.3300 - val_loss: 6.2524\n",
      "Epoch 113/150\n",
      "57/57 [==============================] - 1s 24ms/step - loss: 5.5309 - val_loss: 6.0552\n",
      "Epoch 114/150\n",
      "57/57 [==============================] - 1s 25ms/step - loss: 5.4973 - val_loss: 6.2284\n",
      "Epoch 115/150\n",
      "57/57 [==============================] - 1s 24ms/step - loss: 5.3007 - val_loss: 6.3196\n",
      "Epoch 116/150\n",
      "57/57 [==============================] - 1s 25ms/step - loss: 5.3976 - val_loss: 6.3898\n",
      "Epoch 117/150\n",
      "57/57 [==============================] - 1s 25ms/step - loss: 5.3536 - val_loss: 8.9233\n",
      "Epoch 118/150\n",
      "57/57 [==============================] - 1s 24ms/step - loss: 5.2896 - val_loss: 6.3433\n",
      "Epoch 119/150\n",
      "57/57 [==============================] - 1s 25ms/step - loss: 5.3193 - val_loss: 6.2220\n",
      "Epoch 120/150\n",
      "57/57 [==============================] - 1s 26ms/step - loss: 5.0206 - val_loss: 5.9793\n",
      "Epoch 121/150\n",
      "57/57 [==============================] - 1s 24ms/step - loss: 5.6129 - val_loss: 6.1831\n",
      "Epoch 122/150\n",
      "57/57 [==============================] - 1s 24ms/step - loss: 5.0867 - val_loss: 7.0697\n",
      "Epoch 123/150\n",
      "57/57 [==============================] - 1s 25ms/step - loss: 5.3536 - val_loss: 6.2037\n",
      "Epoch 124/150\n",
      "57/57 [==============================] - 1s 24ms/step - loss: 5.2788 - val_loss: 6.0839\n",
      "Epoch 125/150\n",
      "57/57 [==============================] - 1s 26ms/step - loss: 5.5582 - val_loss: 6.0995\n",
      "Epoch 126/150\n",
      "57/57 [==============================] - 1s 26ms/step - loss: 5.0903 - val_loss: 7.3230\n",
      "Epoch 127/150\n",
      "57/57 [==============================] - 1s 24ms/step - loss: 5.2059 - val_loss: 6.3957\n",
      "Epoch 128/150\n",
      "57/57 [==============================] - 1s 23ms/step - loss: 5.1686 - val_loss: 6.3104\n",
      "Epoch 129/150\n",
      "57/57 [==============================] - 1s 23ms/step - loss: 5.0024 - val_loss: 7.2590\n",
      "Epoch 130/150\n",
      "57/57 [==============================] - 1s 24ms/step - loss: 5.5585 - val_loss: 6.1052\n",
      "Epoch 131/150\n",
      "57/57 [==============================] - 1s 23ms/step - loss: 5.2388 - val_loss: 6.5732\n",
      "Epoch 132/150\n",
      "57/57 [==============================] - 1s 23ms/step - loss: 5.0767 - val_loss: 6.5618\n",
      "Epoch 133/150\n",
      "57/57 [==============================] - 1s 23ms/step - loss: 5.1275 - val_loss: 6.4748\n",
      "Epoch 134/150\n",
      "57/57 [==============================] - 1s 25ms/step - loss: 5.1938 - val_loss: 6.5275\n",
      "Epoch 135/150\n",
      "57/57 [==============================] - 1s 24ms/step - loss: 4.9394 - val_loss: 6.5717\n",
      "Epoch 136/150\n",
      "57/57 [==============================] - 1s 23ms/step - loss: 4.8030 - val_loss: 6.4254\n",
      "Epoch 137/150\n",
      "57/57 [==============================] - 1s 24ms/step - loss: 4.9298 - val_loss: 6.2114\n",
      "Epoch 138/150\n",
      "57/57 [==============================] - 1s 23ms/step - loss: 4.8350 - val_loss: 6.4661\n",
      "Epoch 139/150\n",
      "57/57 [==============================] - 1s 24ms/step - loss: 4.9597 - val_loss: 6.3408\n",
      "Epoch 140/150\n",
      "57/57 [==============================] - 1s 23ms/step - loss: 5.0131 - val_loss: 6.3139\n",
      "Epoch 141/150\n",
      "57/57 [==============================] - 1s 25ms/step - loss: 5.1567 - val_loss: 6.2819\n",
      "Epoch 142/150\n",
      "57/57 [==============================] - 1s 24ms/step - loss: 5.0282 - val_loss: 6.2239\n",
      "Epoch 143/150\n",
      "57/57 [==============================] - 1s 23ms/step - loss: 4.9332 - val_loss: 6.7424\n",
      "Epoch 144/150\n",
      "57/57 [==============================] - 1s 25ms/step - loss: 5.5067 - val_loss: 6.1088\n",
      "Epoch 145/150\n",
      "57/57 [==============================] - 1s 23ms/step - loss: 4.9358 - val_loss: 6.8796\n",
      "Epoch 146/150\n",
      "57/57 [==============================] - 1s 24ms/step - loss: 4.9901 - val_loss: 6.3990\n",
      "Epoch 147/150\n",
      "57/57 [==============================] - 1s 24ms/step - loss: 4.6773 - val_loss: 6.3965\n",
      "Epoch 148/150\n",
      "57/57 [==============================] - 1s 24ms/step - loss: 4.9521 - val_loss: 6.6295\n",
      "Epoch 149/150\n",
      "57/57 [==============================] - 1s 23ms/step - loss: 5.0305 - val_loss: 6.8807\n",
      "Epoch 150/150\n",
      "57/57 [==============================] - 1s 23ms/step - loss: 4.7500 - val_loss: 6.2108\n"
     ]
    }
   ],
   "source": [
    "#Build the Simple RNN Model\n",
    "i = Input(shape=(T, 1))  #every sample is TXD\n",
    "x = SimpleRNN(50,activation='relu')(i)      #Default activatoin is tanh    (try relu,none, hidden layers-15,50) \n",
    "x = Dense(1024)(x)\n",
    "x = Dense(1024)(x)\n",
    "x = Dense(1024)(x)\n",
    "x = Dense(512)(x)\n",
    "x = Dense(256)(x)\n",
    "x = Dense(128)(x)\n",
    "x = Dense(1)(x)\n",
    "\n",
    "model = Model(i, x)\n",
    "model.compile(\n",
    "  loss='mse',\n",
    "  optimizer=Adam(learning_rate=0.001),\n",
    ")\n",
    "\n",
    "# train the Model\n",
    "r = model.fit(\n",
    "  X[:N//2], Y[:N//2],\n",
    "  epochs=150,\n",
    "  batch_size=32,\n",
    "  validation_data=(X[N//2:], Y[N//2:]),\n",
    ")"
   ]
  },
  {
   "cell_type": "markdown",
   "metadata": {
    "id": "WMmR5UsnQzwt"
   },
   "source": [
    "Loss plot"
   ]
  },
  {
   "cell_type": "code",
   "execution_count": 9,
   "metadata": {
    "colab": {
     "base_uri": "https://localhost:8080/",
     "height": 282
    },
    "id": "nUSigHuyQzwv",
    "outputId": "c402c65a-081a-4ff1-e509-d916eaedeb50"
   },
   "outputs": [
    {
     "data": {
      "text/plain": [
       "<matplotlib.legend.Legend at 0x7fa8a7520650>"
      ]
     },
     "execution_count": 9,
     "metadata": {},
     "output_type": "execute_result"
    },
    {
     "data": {
      "image/png": "[encoded data removed]",
      "text/plain": [
       "<Figure size 432x288 with 1 Axes>"
      ]
     },
     "metadata": {
      "needs_background": "light"
     },
     "output_type": "display_data"
    }
   ],
   "source": [
    "# Plot loss per iteration\n",
    "import matplotlib.pyplot as plt\n",
    "plt.plot(r.history['loss'], label='loss')\n",
    "plt.plot(r.history['val_loss'], label='val_loss')\n",
    "plt.legend()"
   ]
  },
  {
   "cell_type": "markdown",
   "metadata": {
    "id": "M1NQrfGQQzwx"
   },
   "source": [
    "Forecasting plot"
   ]
  },
  {
   "cell_type": "code",
   "execution_count": 10,
   "metadata": {
    "colab": {
     "base_uri": "https://localhost:8080/",
     "height": 284
    },
    "id": "0wM7vvgPQzwy",
    "outputId": "3ee844ea-8e19-4a71-f813-bee6f1a2c3d2"
   },
   "outputs": [
    {
     "data": {
      "text/plain": [
       "<matplotlib.legend.Legend at 0x7fa8a66edb10>"
      ]
     },
     "execution_count": 10,
     "metadata": {},
     "output_type": "execute_result"
    },
    {
     "data": {
      "image/png": "[encoded data removed]",
      "text/plain": [
       "<Figure size 432x288 with 1 Axes>"
      ]
     },
     "metadata": {
      "needs_background": "light"
     },
     "output_type": "display_data"
    }
   ],
   "source": [
    "# Forecast future values (use only self-predictions for making future predictions)\n",
    "\n",
    "validation_target = Y[N//2:]\n",
    "validation_predictions = []\n",
    "\n",
    "# first validation input\n",
    "last_x = X[N//2] # 1-D array of length T\n",
    "\n",
    "while len(validation_predictions) < len(validation_target):\n",
    "  p = model.predict(last_x.reshape(1, T, 1))[0,0] # 1x1 array -> scalar Input is shape N*T*D  output is N*K - desired is 1*T*1\n",
    "  \n",
    "  # update the predictions list\n",
    "  validation_predictions.append(p)\n",
    "  \n",
    "  # make the new input\n",
    "  last_x = np.roll(last_x, -1)\n",
    "  last_x[-1] = p\n",
    "\n",
    "plt.plot(validation_target, label='forecast target')\n",
    "plt.plot(validation_predictions, label='forecast prediction')\n",
    "plt.legend()"
   ]
  },
  {
   "cell_type": "markdown",
   "metadata": {
    "id": "mUTNyRKCRq3I"
   },
   "source": [
    "**3) GRU**"
   ]
  },
  {
   "cell_type": "markdown",
   "metadata": {
    "id": "nR05mS0DVXI6"
   },
   "source": [
    "Building the model"
   ]
  },
  {
   "cell_type": "code",
   "execution_count": 15,
   "metadata": {
    "colab": {
     "base_uri": "https://localhost:8080/"
    },
    "id": "828H08m0VXI6",
    "outputId": "b7c4d196-01a1-4150-feee-fbfa865d5df1"
   },
   "outputs": [
    {
     "name": "stdout",
     "output_type": "stream",
     "text": [
      "WARNING:tensorflow:Layer gru_2 will not use cuDNN kernels since it doesn't meet the criteria. It will use a generic GPU kernel as fallback when running on GPU.\n",
      "Epoch 1/150\n",
      "57/57 [==============================] - 6s 67ms/step - loss: 88.9899 - val_loss: 9.1407\n",
      "Epoch 2/150\n",
      "57/57 [==============================] - 3s 60ms/step - loss: 7.7133 - val_loss: 5.9127\n",
      "Epoch 3/150\n",
      "57/57 [==============================] - 3s 61ms/step - loss: 6.9437 - val_loss: 7.3586\n",
      "Epoch 4/150\n",
      "57/57 [==============================] - 3s 60ms/step - loss: 6.9904 - val_loss: 5.6873\n",
      "Epoch 5/150\n",
      "57/57 [==============================] - 3s 59ms/step - loss: 8.4008 - val_loss: 7.9300\n",
      "Epoch 6/150\n",
      "57/57 [==============================] - 3s 61ms/step - loss: 7.2256 - val_loss: 7.1187\n",
      "Epoch 7/150\n",
      "57/57 [==============================] - 3s 60ms/step - loss: 6.5992 - val_loss: 5.8227\n",
      "Epoch 8/150\n",
      "57/57 [==============================] - 3s 58ms/step - loss: 7.4773 - val_loss: 6.2862\n",
      "Epoch 9/150\n",
      "57/57 [==============================] - 3s 59ms/step - loss: 6.7139 - val_loss: 5.6033\n",
      "Epoch 10/150\n",
      "57/57 [==============================] - 4s 62ms/step - loss: 7.2532 - val_loss: 10.7140\n",
      "Epoch 11/150\n",
      "57/57 [==============================] - 3s 57ms/step - loss: 7.7099 - val_loss: 8.5737\n",
      "Epoch 12/150\n",
      "57/57 [==============================] - 4s 64ms/step - loss: 6.6948 - val_loss: 5.8099\n",
      "Epoch 13/150\n",
      "57/57 [==============================] - 4s 63ms/step - loss: 7.9300 - val_loss: 5.5256\n",
      "Epoch 14/150\n",
      "57/57 [==============================] - 3s 59ms/step - loss: 6.6312 - val_loss: 8.0070\n",
      "Epoch 15/150\n",
      "57/57 [==============================] - 3s 58ms/step - loss: 7.2865 - val_loss: 7.5441\n",
      "Epoch 16/150\n",
      "57/57 [==============================] - 3s 59ms/step - loss: 7.0470 - val_loss: 5.4898\n",
      "Epoch 17/150\n",
      "57/57 [==============================] - 3s 57ms/step - loss: 6.4730 - val_loss: 5.7498\n",
      "Epoch 18/150\n",
      "57/57 [==============================] - 3s 57ms/step - loss: 7.6930 - val_loss: 11.7206\n",
      "Epoch 19/150\n",
      "57/57 [==============================] - 3s 56ms/step - loss: 8.4168 - val_loss: 9.1732\n",
      "Epoch 20/150\n",
      "57/57 [==============================] - 3s 55ms/step - loss: 6.8892 - val_loss: 5.6607\n",
      "Epoch 21/150\n",
      "57/57 [==============================] - 3s 58ms/step - loss: 6.5184 - val_loss: 5.5004\n",
      "Epoch 22/150\n",
      "57/57 [==============================] - 4s 63ms/step - loss: 6.7361 - val_loss: 6.4302\n",
      "Epoch 23/150\n",
      "57/57 [==============================] - 3s 60ms/step - loss: 7.2094 - val_loss: 5.9725\n",
      "Epoch 24/150\n",
      "57/57 [==============================] - 4s 64ms/step - loss: 7.0854 - val_loss: 5.9061\n",
      "Epoch 25/150\n",
      "57/57 [==============================] - 3s 58ms/step - loss: 6.8613 - val_loss: 6.6289\n",
      "Epoch 26/150\n",
      "57/57 [==============================] - 4s 62ms/step - loss: 6.6538 - val_loss: 5.9291\n",
      "Epoch 27/150\n",
      "57/57 [==============================] - 3s 59ms/step - loss: 6.7710 - val_loss: 6.1425\n",
      "Epoch 28/150\n",
      "57/57 [==============================] - 4s 62ms/step - loss: 6.3718 - val_loss: 6.3067\n",
      "Epoch 29/150\n",
      "57/57 [==============================] - 3s 61ms/step - loss: 7.7120 - val_loss: 7.5275\n",
      "Epoch 30/150\n",
      "57/57 [==============================] - 3s 59ms/step - loss: 6.7638 - val_loss: 5.6710\n",
      "Epoch 31/150\n",
      "57/57 [==============================] - 3s 60ms/step - loss: 6.6118 - val_loss: 5.4951\n",
      "Epoch 32/150\n",
      "57/57 [==============================] - 3s 60ms/step - loss: 6.4477 - val_loss: 6.3944\n",
      "Epoch 33/150\n",
      "57/57 [==============================] - 3s 58ms/step - loss: 7.2030 - val_loss: 7.5031\n",
      "Epoch 34/150\n",
      "57/57 [==============================] - 4s 62ms/step - loss: 7.5012 - val_loss: 5.6793\n",
      "Epoch 35/150\n",
      "57/57 [==============================] - 3s 59ms/step - loss: 6.8964 - val_loss: 5.5249\n",
      "Epoch 36/150\n",
      "57/57 [==============================] - 3s 60ms/step - loss: 6.2508 - val_loss: 5.5443\n",
      "Epoch 37/150\n",
      "57/57 [==============================] - 3s 58ms/step - loss: 6.5809 - val_loss: 5.9026\n",
      "Epoch 38/150\n",
      "57/57 [==============================] - 3s 58ms/step - loss: 6.9229 - val_loss: 7.7585\n",
      "Epoch 39/150\n",
      "57/57 [==============================] - 3s 58ms/step - loss: 7.8175 - val_loss: 6.6438\n",
      "Epoch 40/150\n",
      "57/57 [==============================] - 3s 58ms/step - loss: 6.6506 - val_loss: 5.5606\n",
      "Epoch 41/150\n",
      "57/57 [==============================] - 3s 59ms/step - loss: 6.5095 - val_loss: 5.6108\n",
      "Epoch 42/150\n",
      "57/57 [==============================] - 3s 61ms/step - loss: 7.0896 - val_loss: 9.1124\n",
      "Epoch 43/150\n",
      "57/57 [==============================] - 4s 64ms/step - loss: 6.9848 - val_loss: 5.4771\n",
      "Epoch 44/150\n",
      "57/57 [==============================] - 3s 59ms/step - loss: 6.4596 - val_loss: 5.6648\n",
      "Epoch 45/150\n",
      "57/57 [==============================] - 3s 59ms/step - loss: 6.5432 - val_loss: 5.5474\n",
      "Epoch 46/150\n",
      "57/57 [==============================] - 3s 61ms/step - loss: 6.5475 - val_loss: 5.4853\n",
      "Epoch 47/150\n",
      "57/57 [==============================] - 3s 60ms/step - loss: 6.4939 - val_loss: 5.6162\n",
      "Epoch 48/150\n",
      "57/57 [==============================] - 3s 60ms/step - loss: 6.5637 - val_loss: 5.7878\n",
      "Epoch 49/150\n",
      "57/57 [==============================] - 3s 58ms/step - loss: 6.5097 - val_loss: 6.3448\n",
      "Epoch 50/150\n",
      "57/57 [==============================] - 4s 62ms/step - loss: 6.7514 - val_loss: 5.5203\n",
      "Epoch 51/150\n",
      "57/57 [==============================] - 3s 57ms/step - loss: 6.4488 - val_loss: 7.6470\n",
      "Epoch 52/150\n",
      "57/57 [==============================] - 3s 59ms/step - loss: 7.0179 - val_loss: 6.9243\n",
      "Epoch 53/150\n",
      "57/57 [==============================] - 4s 62ms/step - loss: 6.6585 - val_loss: 5.7217\n",
      "Epoch 54/150\n",
      "57/57 [==============================] - 3s 58ms/step - loss: 6.3264 - val_loss: 6.7874\n",
      "Epoch 55/150\n",
      "57/57 [==============================] - 3s 56ms/step - loss: 6.5556 - val_loss: 5.3957\n",
      "Epoch 56/150\n",
      "57/57 [==============================] - 3s 57ms/step - loss: 6.4746 - val_loss: 5.7673\n",
      "Epoch 57/150\n",
      "57/57 [==============================] - 3s 56ms/step - loss: 6.2812 - val_loss: 6.6522\n",
      "Epoch 58/150\n",
      "57/57 [==============================] - 3s 59ms/step - loss: 6.4218 - val_loss: 6.5602\n",
      "Epoch 59/150\n",
      "57/57 [==============================] - 3s 56ms/step - loss: 6.4385 - val_loss: 5.5081\n",
      "Epoch 60/150\n",
      "57/57 [==============================] - 3s 60ms/step - loss: 6.2126 - val_loss: 5.4883\n",
      "Epoch 61/150\n",
      "57/57 [==============================] - 3s 60ms/step - loss: 6.1915 - val_loss: 5.7049\n",
      "Epoch 62/150\n",
      "57/57 [==============================] - 3s 57ms/step - loss: 6.3440 - val_loss: 5.8588\n",
      "Epoch 63/150\n",
      "57/57 [==============================] - 3s 58ms/step - loss: 6.2379 - val_loss: 5.4174\n",
      "Epoch 64/150\n",
      "57/57 [==============================] - 3s 58ms/step - loss: 7.0798 - val_loss: 10.4366\n",
      "Epoch 65/150\n",
      "57/57 [==============================] - 4s 62ms/step - loss: 6.9390 - val_loss: 6.0654\n",
      "Epoch 66/150\n",
      "57/57 [==============================] - 3s 57ms/step - loss: 6.3579 - val_loss: 6.0881\n",
      "Epoch 67/150\n",
      "57/57 [==============================] - 3s 61ms/step - loss: 6.3264 - val_loss: 6.3430\n",
      "Epoch 68/150\n",
      "57/57 [==============================] - 3s 58ms/step - loss: 6.4948 - val_loss: 5.4953\n",
      "Epoch 69/150\n",
      "57/57 [==============================] - 3s 57ms/step - loss: 6.3740 - val_loss: 6.1650\n",
      "Epoch 70/150\n",
      "57/57 [==============================] - 3s 59ms/step - loss: 6.4999 - val_loss: 6.3168\n",
      "Epoch 71/150\n",
      "57/57 [==============================] - 3s 55ms/step - loss: 6.1985 - val_loss: 5.4796\n",
      "Epoch 72/150\n",
      "57/57 [==============================] - 3s 55ms/step - loss: 6.4808 - val_loss: 5.5420\n",
      "Epoch 73/150\n",
      "57/57 [==============================] - 3s 55ms/step - loss: 6.3167 - val_loss: 5.6163\n",
      "Epoch 74/150\n",
      "57/57 [==============================] - 3s 57ms/step - loss: 6.4078 - val_loss: 6.5410\n",
      "Epoch 75/150\n",
      "57/57 [==============================] - 3s 57ms/step - loss: 6.6300 - val_loss: 5.4108\n",
      "Epoch 76/150\n",
      "57/57 [==============================] - 3s 56ms/step - loss: 6.3431 - val_loss: 5.7036\n",
      "Epoch 77/150\n",
      "57/57 [==============================] - 3s 57ms/step - loss: 6.5573 - val_loss: 5.6774\n",
      "Epoch 78/150\n",
      "57/57 [==============================] - 3s 56ms/step - loss: 6.3346 - val_loss: 5.7623\n",
      "Epoch 79/150\n",
      "57/57 [==============================] - 3s 57ms/step - loss: 6.4172 - val_loss: 6.0479\n",
      "Epoch 80/150\n",
      "57/57 [==============================] - 3s 57ms/step - loss: 6.2100 - val_loss: 6.6211\n",
      "Epoch 81/150\n",
      "57/57 [==============================] - 3s 58ms/step - loss: 6.4629 - val_loss: 5.5219\n",
      "Epoch 82/150\n",
      "57/57 [==============================] - 3s 58ms/step - loss: 6.3211 - val_loss: 5.9154\n",
      "Epoch 83/150\n",
      "57/57 [==============================] - 3s 58ms/step - loss: 6.5762 - val_loss: 5.4818\n",
      "Epoch 84/150\n",
      "57/57 [==============================] - 4s 62ms/step - loss: 6.6016 - val_loss: 5.7288\n",
      "Epoch 85/150\n",
      "57/57 [==============================] - 3s 56ms/step - loss: 6.4554 - val_loss: 6.5981\n",
      "Epoch 86/150\n",
      "57/57 [==============================] - 3s 56ms/step - loss: 6.4650 - val_loss: 7.8763\n",
      "Epoch 87/150\n",
      "57/57 [==============================] - 4s 62ms/step - loss: 6.6822 - val_loss: 6.5181\n",
      "Epoch 88/150\n",
      "57/57 [==============================] - 4s 63ms/step - loss: 6.5401 - val_loss: 5.6594\n",
      "Epoch 89/150\n",
      "57/57 [==============================] - 3s 60ms/step - loss: 6.2956 - val_loss: 5.5367\n",
      "Epoch 90/150\n",
      "57/57 [==============================] - 3s 57ms/step - loss: 6.1300 - val_loss: 5.5557\n",
      "Epoch 91/150\n",
      "57/57 [==============================] - 3s 57ms/step - loss: 7.2482 - val_loss: 9.1535\n",
      "Epoch 92/150\n",
      "57/57 [==============================] - 3s 58ms/step - loss: 7.9689 - val_loss: 5.9756\n",
      "Epoch 93/150\n",
      "57/57 [==============================] - 3s 59ms/step - loss: 6.9321 - val_loss: 5.4465\n",
      "Epoch 94/150\n",
      "57/57 [==============================] - 3s 59ms/step - loss: 6.0759 - val_loss: 5.7717\n",
      "Epoch 95/150\n",
      "57/57 [==============================] - 3s 58ms/step - loss: 6.1047 - val_loss: 5.4868\n",
      "Epoch 96/150\n",
      "57/57 [==============================] - 3s 56ms/step - loss: 6.2524 - val_loss: 5.5227\n",
      "Epoch 97/150\n",
      "57/57 [==============================] - 3s 59ms/step - loss: 6.6962 - val_loss: 5.5507\n",
      "Epoch 98/150\n",
      "57/57 [==============================] - 3s 55ms/step - loss: 6.1470 - val_loss: 5.5692\n",
      "Epoch 99/150\n",
      "57/57 [==============================] - 4s 62ms/step - loss: 6.5074 - val_loss: 5.5685\n",
      "Epoch 100/150\n",
      "57/57 [==============================] - 3s 58ms/step - loss: 6.1907 - val_loss: 5.5596\n",
      "Epoch 101/150\n",
      "57/57 [==============================] - 3s 58ms/step - loss: 6.1226 - val_loss: 5.7858\n",
      "Epoch 102/150\n",
      "57/57 [==============================] - 3s 59ms/step - loss: 6.2128 - val_loss: 5.5146\n",
      "Epoch 103/150\n",
      "57/57 [==============================] - 3s 58ms/step - loss: 6.2006 - val_loss: 5.8128\n",
      "Epoch 104/150\n",
      "57/57 [==============================] - 3s 58ms/step - loss: 6.1721 - val_loss: 5.9192\n",
      "Epoch 105/150\n",
      "57/57 [==============================] - 4s 63ms/step - loss: 6.3188 - val_loss: 6.2579\n",
      "Epoch 106/150\n",
      "57/57 [==============================] - 4s 62ms/step - loss: 6.5854 - val_loss: 5.4324\n",
      "Epoch 107/150\n",
      "57/57 [==============================] - 4s 66ms/step - loss: 6.6610 - val_loss: 5.5743\n",
      "Epoch 108/150\n",
      "57/57 [==============================] - 4s 62ms/step - loss: 6.2638 - val_loss: 5.5646\n",
      "Epoch 109/150\n",
      "57/57 [==============================] - 4s 63ms/step - loss: 6.0304 - val_loss: 6.8354\n",
      "Epoch 110/150\n",
      "57/57 [==============================] - 4s 64ms/step - loss: 6.4881 - val_loss: 6.3128\n",
      "Epoch 111/150\n",
      "57/57 [==============================] - 4s 65ms/step - loss: 6.6666 - val_loss: 6.1653\n",
      "Epoch 112/150\n",
      "57/57 [==============================] - 3s 61ms/step - loss: 6.2043 - val_loss: 5.6947\n",
      "Epoch 113/150\n",
      "57/57 [==============================] - 4s 62ms/step - loss: 6.4897 - val_loss: 8.3875\n",
      "Epoch 114/150\n",
      "57/57 [==============================] - 4s 66ms/step - loss: 6.6690 - val_loss: 6.4867\n",
      "Epoch 115/150\n",
      "57/57 [==============================] - 4s 69ms/step - loss: 6.4131 - val_loss: 5.6774\n",
      "Epoch 116/150\n",
      "57/57 [==============================] - 4s 63ms/step - loss: 6.3538 - val_loss: 5.5207\n",
      "Epoch 117/150\n",
      "57/57 [==============================] - 4s 66ms/step - loss: 6.1446 - val_loss: 6.1110\n",
      "Epoch 118/150\n",
      "57/57 [==============================] - 3s 60ms/step - loss: 6.3377 - val_loss: 5.4104\n",
      "Epoch 119/150\n",
      "57/57 [==============================] - 3s 61ms/step - loss: 6.1120 - val_loss: 5.4828\n",
      "Epoch 120/150\n",
      "57/57 [==============================] - 3s 59ms/step - loss: 6.1744 - val_loss: 5.8082\n",
      "Epoch 121/150\n",
      "57/57 [==============================] - 4s 63ms/step - loss: 6.3045 - val_loss: 5.7646\n",
      "Epoch 122/150\n",
      "57/57 [==============================] - 4s 62ms/step - loss: 6.2683 - val_loss: 5.7234\n",
      "Epoch 123/150\n",
      "57/57 [==============================] - 4s 63ms/step - loss: 6.3270 - val_loss: 5.8522\n",
      "Epoch 124/150\n",
      "57/57 [==============================] - 3s 60ms/step - loss: 6.3695 - val_loss: 5.6740\n",
      "Epoch 125/150\n",
      "57/57 [==============================] - 3s 61ms/step - loss: 6.1332 - val_loss: 6.0243\n",
      "Epoch 126/150\n",
      "57/57 [==============================] - 4s 65ms/step - loss: 6.1753 - val_loss: 6.5738\n",
      "Epoch 127/150\n",
      "57/57 [==============================] - 3s 59ms/step - loss: 6.1225 - val_loss: 5.6966\n",
      "Epoch 128/150\n",
      "57/57 [==============================] - 3s 59ms/step - loss: 6.3162 - val_loss: 5.6573\n",
      "Epoch 129/150\n",
      "57/57 [==============================] - 3s 60ms/step - loss: 5.8706 - val_loss: 5.6064\n",
      "Epoch 130/150\n",
      "57/57 [==============================] - 3s 58ms/step - loss: 6.1093 - val_loss: 6.1100\n",
      "Epoch 131/150\n",
      "57/57 [==============================] - 3s 59ms/step - loss: 6.3125 - val_loss: 6.2459\n",
      "Epoch 132/150\n",
      "57/57 [==============================] - 3s 59ms/step - loss: 6.1734 - val_loss: 7.7308\n",
      "Epoch 133/150\n",
      "57/57 [==============================] - 3s 57ms/step - loss: 6.6003 - val_loss: 6.4937\n",
      "Epoch 134/150\n",
      "57/57 [==============================] - 3s 60ms/step - loss: 6.5994 - val_loss: 5.8034\n",
      "Epoch 135/150\n",
      "57/57 [==============================] - 3s 60ms/step - loss: 5.9482 - val_loss: 5.6523\n",
      "Epoch 136/150\n",
      "57/57 [==============================] - 3s 57ms/step - loss: 6.1952 - val_loss: 6.1951\n",
      "Epoch 137/150\n",
      "57/57 [==============================] - 3s 57ms/step - loss: 5.9050 - val_loss: 5.8253\n",
      "Epoch 138/150\n",
      "57/57 [==============================] - 3s 59ms/step - loss: 6.1960 - val_loss: 6.2755\n",
      "Epoch 139/150\n",
      "57/57 [==============================] - 3s 58ms/step - loss: 6.2226 - val_loss: 5.6299\n",
      "Epoch 140/150\n",
      "57/57 [==============================] - 4s 62ms/step - loss: 6.3183 - val_loss: 6.0291\n",
      "Epoch 141/150\n",
      "57/57 [==============================] - 4s 62ms/step - loss: 5.9579 - val_loss: 6.0368\n",
      "Epoch 142/150\n",
      "57/57 [==============================] - 3s 59ms/step - loss: 5.9235 - val_loss: 6.2329\n",
      "Epoch 143/150\n",
      "57/57 [==============================] - 4s 62ms/step - loss: 5.9059 - val_loss: 5.8488\n",
      "Epoch 144/150\n",
      "57/57 [==============================] - 4s 63ms/step - loss: 6.2146 - val_loss: 5.7067\n",
      "Epoch 145/150\n",
      "57/57 [==============================] - 4s 62ms/step - loss: 5.8916 - val_loss: 6.7715\n",
      "Epoch 146/150\n",
      "57/57 [==============================] - 3s 61ms/step - loss: 5.9970 - val_loss: 5.7401\n",
      "Epoch 147/150\n",
      "57/57 [==============================] - 3s 60ms/step - loss: 5.8065 - val_loss: 6.3037\n",
      "Epoch 148/150\n",
      "57/57 [==============================] - 3s 61ms/step - loss: 6.2405 - val_loss: 5.8229\n",
      "Epoch 149/150\n",
      "57/57 [==============================] - 4s 62ms/step - loss: 5.8806 - val_loss: 5.6399\n",
      "Epoch 150/150\n",
      "57/57 [==============================] - 3s 59ms/step - loss: 5.9430 - val_loss: 5.9882\n"
     ]
    }
   ],
   "source": [
    "#Build the Simple RNN Model\n",
    "i = Input(shape=(T, 1))  #every sample is TXD\n",
    "x = GRU(100,activation='relu')(i)     \n",
    "x = Dense(1024)(x)\n",
    "x = Dense(1024)(x)\n",
    "x = Dense(1024)(x)\n",
    "x = Dense(512)(x)\n",
    "x = Dense(512)(x)\n",
    "x = Dense(512)(x)\n",
    "x = Dense(256)(x)\n",
    "x = Dense(256)(x)\n",
    "x = Dense(256)(x)\n",
    "x = Dense(128)(x)\n",
    "x = Dense(128)(x)\n",
    "x = Dense(128)(x)\n",
    "x = Dense(1)(x)\n",
    "\n",
    "model = Model(i, x)\n",
    "model.compile(\n",
    "  loss='mse',\n",
    "  optimizer=Adam(learning_rate=0.001),\n",
    ")\n",
    "\n",
    "# train the Model\n",
    "r = model.fit(\n",
    "  X[:N//2], Y[:N//2],\n",
    "  batch_size=32,\n",
    "  epochs=150,\n",
    "  validation_data=(X[N//2:], Y[N//2:]),\n",
    ")"
   ]
  },
  {
   "cell_type": "markdown",
   "metadata": {
    "id": "qBXsmypJVXI8"
   },
   "source": [
    "Loss plot"
   ]
  },
  {
   "cell_type": "code",
   "execution_count": 16,
   "metadata": {
    "colab": {
     "base_uri": "https://localhost:8080/",
     "height": 282
    },
    "id": "gGkkaS2RVXI9",
    "outputId": "f2a2f184-c1e3-4fab-f1f9-2e8785750cfa"
   },
   "outputs": [
    {
     "data": {
      "text/plain": [
       "<matplotlib.legend.Legend at 0x7fa9205da550>"
      ]
     },
     "execution_count": 16,
     "metadata": {},
     "output_type": "execute_result"
    },
    {
     "data": {
      "image/png": "[encoded data removed]",
      "text/plain": [
       "<Figure size 432x288 with 1 Axes>"
      ]
     },
     "metadata": {
      "needs_background": "light"
     },
     "output_type": "display_data"
    }
   ],
   "source": [
    "# Plot loss per iteration\n",
    "import matplotlib.pyplot as plt\n",
    "plt.plot(r.history['loss'], label='loss')\n",
    "plt.plot(r.history['val_loss'], label='val_loss')\n",
    "plt.legend()"
   ]
  },
  {
   "cell_type": "markdown",
   "metadata": {
    "id": "BQPoUTYHVXI-"
   },
   "source": [
    "Forecasting plot"
   ]
  },
  {
   "cell_type": "code",
   "execution_count": 17,
   "metadata": {
    "colab": {
     "base_uri": "https://localhost:8080/",
     "height": 284
    },
    "id": "njuZoeSWVXI_",
    "outputId": "1b842b4f-2c49-452d-a556-02dfcac4ad99"
   },
   "outputs": [
    {
     "data": {
      "text/plain": [
       "<matplotlib.legend.Legend at 0x7fa8a85f9a50>"
      ]
     },
     "execution_count": 17,
     "metadata": {},
     "output_type": "execute_result"
    },
    {
     "data": {
      "image/png": "[encoded data removed]",
      "text/plain": [
       "<Figure size 432x288 with 1 Axes>"
      ]
     },
     "metadata": {
      "needs_background": "light"
     },
     "output_type": "display_data"
    }
   ],
   "source": [
    "# Forecast future values (use only self-predictions for making future predictions)\n",
    "\n",
    "validation_target = Y[N//2:]\n",
    "validation_predictions = []\n",
    "\n",
    "# first validation input\n",
    "last_x = X[N//2] # 1-D array of length T\n",
    "\n",
    "while len(validation_predictions) < len(validation_target):\n",
    "  p = model.predict(last_x.reshape(1, T, 1))[0,0] # 1x1 array -> scalar Input is shape N*T*D  output is N*K - desired is 1*T*1\n",
    "  \n",
    "  # update the predictions list\n",
    "  validation_predictions.append(p)\n",
    "  \n",
    "  # make the new input\n",
    "  last_x = np.roll(last_x, -1)\n",
    "  last_x[-1] = p\n",
    "\n",
    "plt.plot(validation_target, label='forecast target')\n",
    "plt.plot(validation_predictions, label='forecast prediction')\n",
    "plt.legend()"
   ]
  },
  {
   "cell_type": "markdown",
   "metadata": {
    "id": "F3jQUXvtWvJ1"
   },
   "source": [
    "**4) LSTM**"
   ]
  },
  {
   "cell_type": "markdown",
   "metadata": {
    "id": "5goUpT75XAty"
   },
   "source": [
    "Building the model"
   ]
  },
  {
   "cell_type": "code",
   "execution_count": 19,
   "metadata": {
    "colab": {
     "base_uri": "https://localhost:8080/"
    },
    "id": "nQDdBcBtXAty",
    "outputId": "36119d0c-eabb-4226-9a11-605f3bf41473"
   },
   "outputs": [
    {
     "name": "stdout",
     "output_type": "stream",
     "text": [
      "WARNING:tensorflow:Layer lstm_1 will not use cuDNN kernels since it doesn't meet the criteria. It will use a generic GPU kernel as fallback when running on GPU.\n",
      "Epoch 1/100\n",
      "57/57 [==============================] - 5s 51ms/step - loss: 43.4230 - val_loss: 6.4420\n",
      "Epoch 2/100\n",
      "57/57 [==============================] - 3s 46ms/step - loss: 7.8958 - val_loss: 6.1755\n",
      "Epoch 3/100\n",
      "57/57 [==============================] - 3s 46ms/step - loss: 8.4261 - val_loss: 6.0054\n",
      "Epoch 4/100\n",
      "57/57 [==============================] - 3s 46ms/step - loss: 7.4166 - val_loss: 7.3551\n",
      "Epoch 5/100\n",
      "57/57 [==============================] - 3s 48ms/step - loss: 7.0060 - val_loss: 6.2023\n",
      "Epoch 6/100\n",
      "57/57 [==============================] - 3s 46ms/step - loss: 7.1156 - val_loss: 6.0601\n",
      "Epoch 7/100\n",
      "57/57 [==============================] - 3s 45ms/step - loss: 7.3942 - val_loss: 8.3876\n",
      "Epoch 8/100\n",
      "57/57 [==============================] - 3s 46ms/step - loss: 7.0567 - val_loss: 7.3078\n",
      "Epoch 9/100\n",
      "57/57 [==============================] - 3s 46ms/step - loss: 7.1847 - val_loss: 5.7613\n",
      "Epoch 10/100\n",
      "57/57 [==============================] - 3s 46ms/step - loss: 7.3353 - val_loss: 6.3321\n",
      "Epoch 11/100\n",
      "57/57 [==============================] - 3s 45ms/step - loss: 8.2638 - val_loss: 11.0621\n",
      "Epoch 12/100\n",
      "57/57 [==============================] - 3s 45ms/step - loss: 7.5501 - val_loss: 6.0718\n",
      "Epoch 13/100\n",
      "57/57 [==============================] - 3s 48ms/step - loss: 7.1666 - val_loss: 5.8825\n",
      "Epoch 14/100\n",
      "57/57 [==============================] - 3s 46ms/step - loss: 7.0068 - val_loss: 6.4400\n",
      "Epoch 15/100\n",
      "57/57 [==============================] - 3s 45ms/step - loss: 7.4646 - val_loss: 9.2203\n",
      "Epoch 16/100\n",
      "57/57 [==============================] - 3s 47ms/step - loss: 7.2983 - val_loss: 5.7609\n",
      "Epoch 17/100\n",
      "57/57 [==============================] - 3s 47ms/step - loss: 6.6635 - val_loss: 5.6009\n",
      "Epoch 18/100\n",
      "57/57 [==============================] - 3s 47ms/step - loss: 7.0178 - val_loss: 5.9561\n",
      "Epoch 19/100\n",
      "57/57 [==============================] - 3s 46ms/step - loss: 7.2989 - val_loss: 8.5632\n",
      "Epoch 20/100\n",
      "57/57 [==============================] - 3s 47ms/step - loss: 7.3246 - val_loss: 7.6062\n",
      "Epoch 21/100\n",
      "57/57 [==============================] - 3s 47ms/step - loss: 6.6097 - val_loss: 5.6351\n",
      "Epoch 22/100\n",
      "57/57 [==============================] - 3s 45ms/step - loss: 6.4857 - val_loss: 5.5525\n",
      "Epoch 23/100\n",
      "57/57 [==============================] - 3s 46ms/step - loss: 7.1338 - val_loss: 5.8659\n",
      "Epoch 24/100\n",
      "57/57 [==============================] - 3s 46ms/step - loss: 6.8300 - val_loss: 5.5530\n",
      "Epoch 25/100\n",
      "57/57 [==============================] - 3s 46ms/step - loss: 7.1209 - val_loss: 5.8135\n",
      "Epoch 26/100\n",
      "57/57 [==============================] - 3s 47ms/step - loss: 6.7637 - val_loss: 8.0570\n",
      "Epoch 27/100\n",
      "57/57 [==============================] - 3s 45ms/step - loss: 6.5625 - val_loss: 6.2709\n",
      "Epoch 28/100\n",
      "57/57 [==============================] - 3s 46ms/step - loss: 6.7963 - val_loss: 5.4945\n",
      "Epoch 29/100\n",
      "57/57 [==============================] - 3s 47ms/step - loss: 6.7294 - val_loss: 7.7030\n",
      "Epoch 30/100\n",
      "57/57 [==============================] - 3s 46ms/step - loss: 6.8018 - val_loss: 5.8697\n",
      "Epoch 31/100\n",
      "57/57 [==============================] - 3s 46ms/step - loss: 6.3996 - val_loss: 6.9419\n",
      "Epoch 32/100\n",
      "57/57 [==============================] - 3s 48ms/step - loss: 6.3527 - val_loss: 6.3229\n",
      "Epoch 33/100\n",
      "57/57 [==============================] - 3s 46ms/step - loss: 6.5497 - val_loss: 5.4425\n",
      "Epoch 34/100\n",
      "57/57 [==============================] - 3s 46ms/step - loss: 6.6916 - val_loss: 6.1442\n",
      "Epoch 35/100\n",
      "57/57 [==============================] - 3s 45ms/step - loss: 6.5969 - val_loss: 6.2250\n",
      "Epoch 36/100\n",
      "57/57 [==============================] - 3s 45ms/step - loss: 6.4689 - val_loss: 5.5325\n",
      "Epoch 37/100\n",
      "57/57 [==============================] - 3s 46ms/step - loss: 6.5694 - val_loss: 5.5430\n",
      "Epoch 38/100\n",
      "57/57 [==============================] - 3s 44ms/step - loss: 6.3007 - val_loss: 5.4653\n",
      "Epoch 39/100\n",
      "57/57 [==============================] - 3s 46ms/step - loss: 6.6450 - val_loss: 5.9402\n",
      "Epoch 40/100\n",
      "57/57 [==============================] - 3s 49ms/step - loss: 6.6333 - val_loss: 6.9493\n",
      "Epoch 41/100\n",
      "57/57 [==============================] - 3s 47ms/step - loss: 7.0733 - val_loss: 5.7008\n",
      "Epoch 42/100\n",
      "57/57 [==============================] - 3s 46ms/step - loss: 6.4118 - val_loss: 7.1671\n",
      "Epoch 43/100\n",
      "57/57 [==============================] - 3s 46ms/step - loss: 6.8568 - val_loss: 5.5545\n",
      "Epoch 44/100\n",
      "57/57 [==============================] - 3s 46ms/step - loss: 6.5492 - val_loss: 7.6265\n",
      "Epoch 45/100\n",
      "57/57 [==============================] - 3s 47ms/step - loss: 6.4924 - val_loss: 5.4575\n",
      "Epoch 46/100\n",
      "57/57 [==============================] - 3s 46ms/step - loss: 6.5325 - val_loss: 5.4912\n",
      "Epoch 47/100\n",
      "57/57 [==============================] - 3s 47ms/step - loss: 6.5185 - val_loss: 6.0635\n",
      "Epoch 48/100\n",
      "57/57 [==============================] - 3s 48ms/step - loss: 6.7068 - val_loss: 5.5432\n",
      "Epoch 49/100\n",
      "57/57 [==============================] - 3s 47ms/step - loss: 6.3246 - val_loss: 5.5680\n",
      "Epoch 50/100\n",
      "57/57 [==============================] - 3s 47ms/step - loss: 6.6696 - val_loss: 5.7049\n",
      "Epoch 51/100\n",
      "57/57 [==============================] - 3s 47ms/step - loss: 6.4895 - val_loss: 6.3469\n",
      "Epoch 52/100\n",
      "57/57 [==============================] - 3s 49ms/step - loss: 6.7406 - val_loss: 6.7409\n",
      "Epoch 53/100\n",
      "57/57 [==============================] - 3s 47ms/step - loss: 6.7083 - val_loss: 5.4168\n",
      "Epoch 54/100\n",
      "57/57 [==============================] - 3s 47ms/step - loss: 6.3393 - val_loss: 6.2470\n",
      "Epoch 55/100\n",
      "57/57 [==============================] - 3s 46ms/step - loss: 6.6063 - val_loss: 6.0683\n",
      "Epoch 56/100\n",
      "57/57 [==============================] - 3s 47ms/step - loss: 6.4178 - val_loss: 5.9591\n",
      "Epoch 57/100\n",
      "57/57 [==============================] - 3s 47ms/step - loss: 6.5978 - val_loss: 6.0106\n",
      "Epoch 58/100\n",
      "57/57 [==============================] - 3s 47ms/step - loss: 6.5217 - val_loss: 5.8087\n",
      "Epoch 59/100\n",
      "57/57 [==============================] - 3s 45ms/step - loss: 6.5632 - val_loss: 5.8891\n",
      "Epoch 60/100\n",
      "57/57 [==============================] - 3s 45ms/step - loss: 6.4514 - val_loss: 5.9217\n",
      "Epoch 61/100\n",
      "57/57 [==============================] - 2s 44ms/step - loss: 6.9446 - val_loss: 5.5532\n",
      "Epoch 62/100\n",
      "57/57 [==============================] - 3s 46ms/step - loss: 6.3703 - val_loss: 5.5735\n",
      "Epoch 63/100\n",
      "57/57 [==============================] - 3s 45ms/step - loss: 6.4130 - val_loss: 5.4547\n",
      "Epoch 64/100\n",
      "57/57 [==============================] - 3s 46ms/step - loss: 6.6297 - val_loss: 5.4870\n",
      "Epoch 65/100\n",
      "57/57 [==============================] - 3s 45ms/step - loss: 6.5202 - val_loss: 5.5908\n",
      "Epoch 66/100\n",
      "57/57 [==============================] - 3s 45ms/step - loss: 6.2401 - val_loss: 8.7045\n",
      "Epoch 67/100\n",
      "57/57 [==============================] - 3s 46ms/step - loss: 6.4523 - val_loss: 5.5189\n",
      "Epoch 68/100\n",
      "57/57 [==============================] - 3s 45ms/step - loss: 6.2237 - val_loss: 5.6058\n",
      "Epoch 69/100\n",
      "57/57 [==============================] - 3s 44ms/step - loss: 6.2409 - val_loss: 5.7280\n",
      "Epoch 70/100\n",
      "57/57 [==============================] - 3s 46ms/step - loss: 6.6404 - val_loss: 5.8155\n",
      "Epoch 71/100\n",
      "57/57 [==============================] - 3s 47ms/step - loss: 6.3666 - val_loss: 5.7504\n",
      "Epoch 72/100\n",
      "57/57 [==============================] - 3s 46ms/step - loss: 6.3752 - val_loss: 5.5936\n",
      "Epoch 73/100\n",
      "57/57 [==============================] - 3s 45ms/step - loss: 6.7138 - val_loss: 6.2996\n",
      "Epoch 74/100\n",
      "57/57 [==============================] - 3s 46ms/step - loss: 6.7014 - val_loss: 5.8503\n",
      "Epoch 75/100\n",
      "57/57 [==============================] - 3s 46ms/step - loss: 6.4516 - val_loss: 5.5137\n",
      "Epoch 76/100\n",
      "57/57 [==============================] - 3s 47ms/step - loss: 6.4062 - val_loss: 5.5768\n",
      "Epoch 77/100\n",
      "57/57 [==============================] - 3s 46ms/step - loss: 6.4189 - val_loss: 6.6484\n",
      "Epoch 78/100\n",
      "57/57 [==============================] - 3s 45ms/step - loss: 6.7930 - val_loss: 5.9625\n",
      "Epoch 79/100\n",
      "57/57 [==============================] - 3s 47ms/step - loss: 6.4782 - val_loss: 5.5329\n",
      "Epoch 80/100\n",
      "57/57 [==============================] - 3s 46ms/step - loss: 6.5655 - val_loss: 5.5951\n",
      "Epoch 81/100\n",
      "57/57 [==============================] - 3s 45ms/step - loss: 6.4625 - val_loss: 5.5407\n",
      "Epoch 82/100\n",
      "57/57 [==============================] - 3s 45ms/step - loss: 6.3262 - val_loss: 6.2212\n",
      "Epoch 83/100\n",
      "57/57 [==============================] - 3s 46ms/step - loss: 6.4494 - val_loss: 5.6979\n",
      "Epoch 84/100\n",
      "57/57 [==============================] - 3s 45ms/step - loss: 6.3352 - val_loss: 5.5667\n",
      "Epoch 85/100\n",
      "57/57 [==============================] - 3s 47ms/step - loss: 6.5800 - val_loss: 5.7166\n",
      "Epoch 86/100\n",
      "57/57 [==============================] - 3s 45ms/step - loss: 6.8384 - val_loss: 5.8973\n",
      "Epoch 87/100\n",
      "57/57 [==============================] - 3s 45ms/step - loss: 6.7841 - val_loss: 5.4341\n",
      "Epoch 88/100\n",
      "57/57 [==============================] - 3s 45ms/step - loss: 6.4346 - val_loss: 5.5696\n",
      "Epoch 89/100\n",
      "57/57 [==============================] - 3s 46ms/step - loss: 6.2281 - val_loss: 6.2485\n",
      "Epoch 90/100\n",
      "57/57 [==============================] - 3s 52ms/step - loss: 7.0136 - val_loss: 6.1162\n",
      "Epoch 91/100\n",
      "57/57 [==============================] - 3s 46ms/step - loss: 6.4707 - val_loss: 6.2927\n",
      "Epoch 92/100\n",
      "57/57 [==============================] - 3s 45ms/step - loss: 6.6883 - val_loss: 5.6049\n",
      "Epoch 93/100\n",
      "57/57 [==============================] - 3s 45ms/step - loss: 6.2769 - val_loss: 5.3940\n",
      "Epoch 94/100\n",
      "57/57 [==============================] - 3s 45ms/step - loss: 6.4411 - val_loss: 6.1090\n",
      "Epoch 95/100\n",
      "57/57 [==============================] - 3s 45ms/step - loss: 6.4407 - val_loss: 5.5590\n",
      "Epoch 96/100\n",
      "57/57 [==============================] - 3s 47ms/step - loss: 6.6218 - val_loss: 6.0897\n",
      "Epoch 97/100\n",
      "57/57 [==============================] - 3s 45ms/step - loss: 6.2898 - val_loss: 5.9156\n",
      "Epoch 98/100\n",
      "57/57 [==============================] - 3s 46ms/step - loss: 6.4019 - val_loss: 5.5075\n",
      "Epoch 99/100\n",
      "57/57 [==============================] - 3s 46ms/step - loss: 6.4803 - val_loss: 5.4353\n",
      "Epoch 100/100\n",
      "57/57 [==============================] - 3s 45ms/step - loss: 6.6716 - val_loss: 5.5704\n"
     ]
    }
   ],
   "source": [
    "#Build the Simple RNN Model\n",
    "i = Input(shape=(T, 1))  #every sample is TXD\n",
    "x = LSTM(100,activation='relu')(i)    \n",
    "x = Dense(2048)(x)\n",
    "x = Dense(1024)(x)\n",
    "x = Dense(1024)(x)\n",
    "x = Dense(512)(x)\n",
    "x = Dense(512)(x)\n",
    "x = Dense(256)(x)\n",
    "x = Dense(256)(x)\n",
    "x = Dense(128)(x)\n",
    "x = Dense(128)(x)\n",
    "x = Dense(1)(x)\n",
    "\n",
    "model = Model(i, x)\n",
    "model.compile(\n",
    "  loss='mse',\n",
    "  optimizer=Adam(learning_rate=0.001),\n",
    ")\n",
    "\n",
    "# train the Model\n",
    "r = model.fit(\n",
    "  X[:N//2], Y[:N//2],\n",
    "  epochs=100,\n",
    "  batch_size=32,\n",
    "  validation_data=(X[N//2:], Y[N//2:]),\n",
    ")"
   ]
  },
  {
   "cell_type": "markdown",
   "metadata": {
    "id": "9pmm6MYSXAty"
   },
   "source": [
    "Loss plot"
   ]
  },
  {
   "cell_type": "code",
   "execution_count": 20,
   "metadata": {
    "colab": {
     "base_uri": "https://localhost:8080/",
     "height": 285
    },
    "id": "Umml7lfJXAty",
    "outputId": "32e38630-fc09-4c59-ac8a-54ed2955c0d6"
   },
   "outputs": [
    {
     "data": {
      "text/plain": [
       "<matplotlib.legend.Legend at 0x7fa92019c550>"
      ]
     },
     "execution_count": 20,
     "metadata": {},
     "output_type": "execute_result"
    },
    {
     "data": {
      "image/png": "[encoded data removed]",
      "text/plain": [
       "<Figure size 432x288 with 1 Axes>"
      ]
     },
     "metadata": {
      "needs_background": "light"
     },
     "output_type": "display_data"
    }
   ],
   "source": [
    "# Plot loss per iteration\n",
    "import matplotlib.pyplot as plt\n",
    "plt.plot(r.history['loss'], label='loss')\n",
    "plt.plot(r.history['val_loss'], label='val_loss')\n",
    "plt.legend()"
   ]
  },
  {
   "cell_type": "markdown",
   "metadata": {
    "id": "RXGSkb9IXAtz"
   },
   "source": [
    "Forecasting plot"
   ]
  },
  {
   "cell_type": "code",
   "execution_count": 21,
   "metadata": {
    "colab": {
     "base_uri": "https://localhost:8080/",
     "height": 284
    },
    "id": "6pwAQ2HMXAtz",
    "outputId": "6341f8eb-8a10-4ffe-e383-f0176f2dc8e9"
   },
   "outputs": [
    {
     "data": {
      "text/plain": [
       "<matplotlib.legend.Legend at 0x7fa920055d90>"
      ]
     },
     "execution_count": 21,
     "metadata": {},
     "output_type": "execute_result"
    },
    {
     "data": {
      "image/png": "[encoded data removed]",
      "text/plain": [
       "<Figure size 432x288 with 1 Axes>"
      ]
     },
     "metadata": {
      "needs_background": "light"
     },
     "output_type": "display_data"
    }
   ],
   "source": [
    "# Forecast future values (use only self-predictions for making future predictions)\n",
    "\n",
    "validation_target = Y[N//2:]\n",
    "validation_predictions = []\n",
    "\n",
    "# first validation input\n",
    "last_x = X[N//2] # 1-D array of length T\n",
    "\n",
    "while len(validation_predictions) < len(validation_target):\n",
    "  p = model.predict(last_x.reshape(1, T, 1))[0,0] # 1x1 array -> scalar Input is shape N*T*D  output is N*K - desired is 1*T*1\n",
    "  \n",
    "  # update the predictions list\n",
    "  validation_predictions.append(p)\n",
    "  \n",
    "  # make the new input\n",
    "  last_x = np.roll(last_x, -1)\n",
    "  last_x[-1] = p\n",
    "\n",
    "plt.plot(validation_target, label='forecast target')\n",
    "plt.plot(validation_predictions, label='forecast prediction')\n",
    "plt.legend()"
   ]
  },
  {
   "cell_type": "markdown",
   "metadata": {
    "id": "uLW_z18DYBCM"
   },
   "source": [
    "**5) LSTM with GlobalMaxPooling**"
   ]
  },
  {
   "cell_type": "markdown",
   "metadata": {
    "id": "8Czybhi5YKbL"
   },
   "source": [
    "Building the model"
   ]
  },
  {
   "cell_type": "code",
   "execution_count": 22,
   "metadata": {
    "colab": {
     "base_uri": "https://localhost:8080/"
    },
    "id": "gG1CQlgbYKbL",
    "outputId": "451a0c01-4990-4ae2-8a85-1ad0d0d156cc"
   },
   "outputs": [
    {
     "name": "stdout",
     "output_type": "stream",
     "text": [
      "WARNING:tensorflow:Layer lstm_2 will not use cuDNN kernels since it doesn't meet the criteria. It will use a generic GPU kernel as fallback when running on GPU.\n",
      "Epoch 1/150\n",
      "57/57 [==============================] - 6s 49ms/step - loss: 35.9496 - val_loss: 7.8851\n",
      "Epoch 2/150\n",
      "57/57 [==============================] - 3s 44ms/step - loss: 14.3367 - val_loss: 10.5693\n",
      "Epoch 3/150\n",
      "57/57 [==============================] - 3s 46ms/step - loss: 13.1091 - val_loss: 8.2539\n",
      "Epoch 4/150\n",
      "57/57 [==============================] - 3s 45ms/step - loss: 10.8399 - val_loss: 14.3733\n",
      "Epoch 5/150\n",
      "57/57 [==============================] - 3s 47ms/step - loss: 10.7510 - val_loss: 16.8199\n",
      "Epoch 6/150\n",
      "57/57 [==============================] - 3s 45ms/step - loss: 10.2595 - val_loss: 13.1494\n",
      "Epoch 7/150\n",
      "57/57 [==============================] - 3s 45ms/step - loss: 9.0666 - val_loss: 17.7310\n",
      "Epoch 8/150\n",
      "57/57 [==============================] - 3s 45ms/step - loss: 9.3668 - val_loss: 6.2052\n",
      "Epoch 9/150\n",
      "57/57 [==============================] - 2s 44ms/step - loss: 9.2000 - val_loss: 6.0579\n",
      "Epoch 10/150\n",
      "57/57 [==============================] - 3s 45ms/step - loss: 8.6092 - val_loss: 5.9729\n",
      "Epoch 11/150\n",
      "57/57 [==============================] - 3s 48ms/step - loss: 8.2451 - val_loss: 5.9373\n",
      "Epoch 12/150\n",
      "57/57 [==============================] - 3s 46ms/step - loss: 8.3477 - val_loss: 6.9993\n",
      "Epoch 13/150\n",
      "57/57 [==============================] - 3s 46ms/step - loss: 7.7147 - val_loss: 6.1644\n",
      "Epoch 14/150\n",
      "57/57 [==============================] - 3s 44ms/step - loss: 7.9407 - val_loss: 7.6251\n",
      "Epoch 15/150\n",
      "57/57 [==============================] - 3s 46ms/step - loss: 8.2434 - val_loss: 5.6958\n",
      "Epoch 16/150\n",
      "57/57 [==============================] - 3s 45ms/step - loss: 7.7757 - val_loss: 11.4329\n",
      "Epoch 17/150\n",
      "57/57 [==============================] - 3s 45ms/step - loss: 7.6756 - val_loss: 6.2619\n",
      "Epoch 18/150\n",
      "57/57 [==============================] - 3s 46ms/step - loss: 8.2182 - val_loss: 5.9383\n",
      "Epoch 19/150\n",
      "57/57 [==============================] - 3s 46ms/step - loss: 7.8764 - val_loss: 8.8926\n",
      "Epoch 20/150\n",
      "57/57 [==============================] - 3s 46ms/step - loss: 7.3440 - val_loss: 6.8607\n",
      "Epoch 21/150\n",
      "57/57 [==============================] - 3s 46ms/step - loss: 7.6884 - val_loss: 5.5718\n",
      "Epoch 22/150\n",
      "57/57 [==============================] - 3s 46ms/step - loss: 7.3693 - val_loss: 5.7645\n",
      "Epoch 23/150\n",
      "57/57 [==============================] - 3s 45ms/step - loss: 7.7605 - val_loss: 5.7754\n",
      "Epoch 24/150\n",
      "57/57 [==============================] - 3s 46ms/step - loss: 7.4950 - val_loss: 5.6197\n",
      "Epoch 25/150\n",
      "57/57 [==============================] - 3s 45ms/step - loss: 7.2266 - val_loss: 7.4788\n",
      "Epoch 26/150\n",
      "57/57 [==============================] - 3s 46ms/step - loss: 7.3043 - val_loss: 5.7176\n",
      "Epoch 27/150\n",
      "57/57 [==============================] - 3s 45ms/step - loss: 7.3263 - val_loss: 5.7012\n",
      "Epoch 28/150\n",
      "57/57 [==============================] - 3s 45ms/step - loss: 7.4414 - val_loss: 7.8849\n",
      "Epoch 29/150\n",
      "57/57 [==============================] - 3s 44ms/step - loss: 7.3479 - val_loss: 6.4040\n",
      "Epoch 30/150\n",
      "57/57 [==============================] - 3s 46ms/step - loss: 7.4004 - val_loss: 5.6050\n",
      "Epoch 31/150\n",
      "57/57 [==============================] - 3s 47ms/step - loss: 7.0740 - val_loss: 5.7056\n",
      "Epoch 32/150\n",
      "57/57 [==============================] - 3s 46ms/step - loss: 7.3254 - val_loss: 5.6519\n",
      "Epoch 33/150\n",
      "57/57 [==============================] - 3s 45ms/step - loss: 7.1216 - val_loss: 5.6823\n",
      "Epoch 34/150\n",
      "57/57 [==============================] - 3s 45ms/step - loss: 7.1926 - val_loss: 6.6263\n",
      "Epoch 35/150\n",
      "57/57 [==============================] - 3s 46ms/step - loss: 7.6026 - val_loss: 6.0438\n",
      "Epoch 36/150\n",
      "57/57 [==============================] - 3s 46ms/step - loss: 7.0320 - val_loss: 5.5776\n",
      "Epoch 37/150\n",
      "57/57 [==============================] - 3s 46ms/step - loss: 6.9526 - val_loss: 6.2263\n",
      "Epoch 38/150\n",
      "57/57 [==============================] - 3s 46ms/step - loss: 7.1202 - val_loss: 5.8212\n",
      "Epoch 39/150\n",
      "57/57 [==============================] - 3s 46ms/step - loss: 7.2803 - val_loss: 5.4930\n",
      "Epoch 40/150\n",
      "57/57 [==============================] - 3s 46ms/step - loss: 6.7997 - val_loss: 5.5648\n",
      "Epoch 41/150\n",
      "57/57 [==============================] - 3s 46ms/step - loss: 7.0022 - val_loss: 5.7440\n",
      "Epoch 42/150\n",
      "57/57 [==============================] - 3s 45ms/step - loss: 7.0610 - val_loss: 5.5531\n",
      "Epoch 43/150\n",
      "57/57 [==============================] - 3s 46ms/step - loss: 7.0762 - val_loss: 5.5499\n",
      "Epoch 44/150\n",
      "57/57 [==============================] - 3s 47ms/step - loss: 6.8788 - val_loss: 6.3640\n",
      "Epoch 45/150\n",
      "57/57 [==============================] - 3s 45ms/step - loss: 6.9501 - val_loss: 5.5640\n",
      "Epoch 46/150\n",
      "57/57 [==============================] - 3s 45ms/step - loss: 7.0374 - val_loss: 6.0423\n",
      "Epoch 47/150\n",
      "57/57 [==============================] - 3s 46ms/step - loss: 6.6367 - val_loss: 5.5387\n",
      "Epoch 48/150\n",
      "57/57 [==============================] - 3s 46ms/step - loss: 7.1298 - val_loss: 5.8035\n",
      "Epoch 49/150\n",
      "57/57 [==============================] - 3s 45ms/step - loss: 6.8249 - val_loss: 5.7074\n",
      "Epoch 50/150\n",
      "57/57 [==============================] - 3s 48ms/step - loss: 6.8523 - val_loss: 5.9874\n",
      "Epoch 51/150\n",
      "57/57 [==============================] - 3s 46ms/step - loss: 6.9039 - val_loss: 5.6352\n",
      "Epoch 52/150\n",
      "57/57 [==============================] - 3s 47ms/step - loss: 6.7195 - val_loss: 7.0040\n",
      "Epoch 53/150\n",
      "57/57 [==============================] - 3s 47ms/step - loss: 6.6252 - val_loss: 6.1993\n",
      "Epoch 54/150\n",
      "57/57 [==============================] - 3s 49ms/step - loss: 6.8846 - val_loss: 6.8216\n",
      "Epoch 55/150\n",
      "57/57 [==============================] - 3s 46ms/step - loss: 6.6432 - val_loss: 6.6590\n",
      "Epoch 56/150\n",
      "57/57 [==============================] - 3s 46ms/step - loss: 6.9097 - val_loss: 5.9305\n",
      "Epoch 57/150\n",
      "57/57 [==============================] - 3s 47ms/step - loss: 6.8184 - val_loss: 6.3814\n",
      "Epoch 58/150\n",
      "57/57 [==============================] - 3s 47ms/step - loss: 6.7732 - val_loss: 6.2870\n",
      "Epoch 59/150\n",
      "57/57 [==============================] - 3s 47ms/step - loss: 6.9168 - val_loss: 5.7619\n",
      "Epoch 60/150\n",
      "57/57 [==============================] - 3s 47ms/step - loss: 6.7516 - val_loss: 5.7566\n",
      "Epoch 61/150\n",
      "57/57 [==============================] - 3s 47ms/step - loss: 6.7181 - val_loss: 5.7025\n",
      "Epoch 62/150\n",
      "57/57 [==============================] - 3s 46ms/step - loss: 6.6371 - val_loss: 6.5054\n",
      "Epoch 63/150\n",
      "57/57 [==============================] - 3s 46ms/step - loss: 6.9356 - val_loss: 5.7051\n",
      "Epoch 64/150\n",
      "57/57 [==============================] - 3s 47ms/step - loss: 6.6334 - val_loss: 7.9190\n",
      "Epoch 65/150\n",
      "57/57 [==============================] - 3s 45ms/step - loss: 6.6413 - val_loss: 5.7939\n",
      "Epoch 66/150\n",
      "57/57 [==============================] - 3s 46ms/step - loss: 6.8787 - val_loss: 6.6079\n",
      "Epoch 67/150\n",
      "57/57 [==============================] - 3s 47ms/step - loss: 6.5752 - val_loss: 6.2363\n",
      "Epoch 68/150\n",
      "57/57 [==============================] - 3s 47ms/step - loss: 6.6588 - val_loss: 5.5478\n",
      "Epoch 69/150\n",
      "57/57 [==============================] - 3s 47ms/step - loss: 6.6421 - val_loss: 5.5153\n",
      "Epoch 70/150\n",
      "57/57 [==============================] - 3s 45ms/step - loss: 6.8179 - val_loss: 5.7868\n",
      "Epoch 71/150\n",
      "57/57 [==============================] - 3s 45ms/step - loss: 6.7874 - val_loss: 5.9213\n",
      "Epoch 72/150\n",
      "57/57 [==============================] - 3s 44ms/step - loss: 6.7501 - val_loss: 5.5531\n",
      "Epoch 73/150\n",
      "57/57 [==============================] - 3s 48ms/step - loss: 6.4981 - val_loss: 10.0319\n",
      "Epoch 74/150\n",
      "57/57 [==============================] - 3s 46ms/step - loss: 6.5707 - val_loss: 6.2974\n",
      "Epoch 75/150\n",
      "57/57 [==============================] - 3s 46ms/step - loss: 6.8105 - val_loss: 5.7520\n",
      "Epoch 76/150\n",
      "57/57 [==============================] - 3s 48ms/step - loss: 6.4919 - val_loss: 6.6875\n",
      "Epoch 77/150\n",
      "57/57 [==============================] - 3s 48ms/step - loss: 6.6787 - val_loss: 6.5667\n",
      "Epoch 78/150\n",
      "57/57 [==============================] - 3s 47ms/step - loss: 6.5211 - val_loss: 5.7015\n",
      "Epoch 79/150\n",
      "57/57 [==============================] - 3s 46ms/step - loss: 6.5211 - val_loss: 6.4358\n",
      "Epoch 80/150\n",
      "57/57 [==============================] - 3s 46ms/step - loss: 6.7059 - val_loss: 8.1292\n",
      "Epoch 81/150\n",
      "57/57 [==============================] - 3s 47ms/step - loss: 6.7450 - val_loss: 5.4926\n",
      "Epoch 82/150\n",
      "57/57 [==============================] - 3s 45ms/step - loss: 6.4330 - val_loss: 6.9566\n",
      "Epoch 83/150\n",
      "57/57 [==============================] - 3s 46ms/step - loss: 6.4875 - val_loss: 6.0547\n",
      "Epoch 84/150\n",
      "57/57 [==============================] - 3s 46ms/step - loss: 6.4829 - val_loss: 5.5854\n",
      "Epoch 85/150\n",
      "57/57 [==============================] - 3s 46ms/step - loss: 6.5606 - val_loss: 6.0815\n",
      "Epoch 86/150\n",
      "57/57 [==============================] - 3s 45ms/step - loss: 6.4814 - val_loss: 12.2296\n",
      "Epoch 87/150\n",
      "57/57 [==============================] - 3s 46ms/step - loss: 6.6341 - val_loss: 6.1808\n",
      "Epoch 88/150\n",
      "57/57 [==============================] - 3s 47ms/step - loss: 6.3108 - val_loss: 5.5775\n",
      "Epoch 89/150\n",
      "57/57 [==============================] - 3s 46ms/step - loss: 6.5466 - val_loss: 5.5038\n",
      "Epoch 90/150\n",
      "57/57 [==============================] - 3s 47ms/step - loss: 6.5454 - val_loss: 5.6527\n",
      "Epoch 91/150\n",
      "57/57 [==============================] - 3s 46ms/step - loss: 6.3474 - val_loss: 5.9749\n",
      "Epoch 92/150\n",
      "57/57 [==============================] - 3s 45ms/step - loss: 6.6202 - val_loss: 5.5835\n",
      "Epoch 93/150\n",
      "57/57 [==============================] - 3s 46ms/step - loss: 6.5636 - val_loss: 6.3740\n",
      "Epoch 94/150\n",
      "57/57 [==============================] - 3s 46ms/step - loss: 6.5829 - val_loss: 5.5583\n",
      "Epoch 95/150\n",
      "57/57 [==============================] - 3s 46ms/step - loss: 6.4758 - val_loss: 5.9041\n",
      "Epoch 96/150\n",
      "57/57 [==============================] - 3s 45ms/step - loss: 6.3662 - val_loss: 6.2260\n",
      "Epoch 97/150\n",
      "57/57 [==============================] - 3s 45ms/step - loss: 6.3121 - val_loss: 5.6595\n",
      "Epoch 98/150\n",
      "57/57 [==============================] - 3s 44ms/step - loss: 6.4517 - val_loss: 8.3482\n",
      "Epoch 99/150\n",
      "57/57 [==============================] - 3s 45ms/step - loss: 6.5028 - val_loss: 5.5658\n",
      "Epoch 100/150\n",
      "57/57 [==============================] - 3s 46ms/step - loss: 6.4559 - val_loss: 6.1518\n",
      "Epoch 101/150\n",
      "57/57 [==============================] - 3s 47ms/step - loss: 6.4916 - val_loss: 5.6331\n",
      "Epoch 102/150\n",
      "57/57 [==============================] - 3s 45ms/step - loss: 6.4594 - val_loss: 6.3962\n",
      "Epoch 103/150\n",
      "57/57 [==============================] - 3s 46ms/step - loss: 6.3981 - val_loss: 5.5562\n",
      "Epoch 104/150\n",
      "57/57 [==============================] - 3s 45ms/step - loss: 6.5341 - val_loss: 5.5105\n",
      "Epoch 105/150\n",
      "57/57 [==============================] - 3s 46ms/step - loss: 6.3388 - val_loss: 5.6181\n",
      "Epoch 106/150\n",
      "57/57 [==============================] - 3s 45ms/step - loss: 6.3550 - val_loss: 5.8029\n",
      "Epoch 107/150\n",
      "57/57 [==============================] - 3s 47ms/step - loss: 6.4596 - val_loss: 7.9407\n",
      "Epoch 108/150\n",
      "57/57 [==============================] - 3s 46ms/step - loss: 6.3038 - val_loss: 5.9534\n",
      "Epoch 109/150\n",
      "57/57 [==============================] - 3s 47ms/step - loss: 6.4827 - val_loss: 5.6150\n",
      "Epoch 110/150\n",
      "57/57 [==============================] - 3s 47ms/step - loss: 6.3706 - val_loss: 6.2216\n",
      "Epoch 111/150\n",
      "57/57 [==============================] - 3s 46ms/step - loss: 6.3011 - val_loss: 6.0036\n",
      "Epoch 112/150\n",
      "57/57 [==============================] - 3s 45ms/step - loss: 6.2274 - val_loss: 5.8653\n",
      "Epoch 113/150\n",
      "57/57 [==============================] - 3s 46ms/step - loss: 6.4169 - val_loss: 5.5559\n",
      "Epoch 114/150\n",
      "57/57 [==============================] - 3s 46ms/step - loss: 6.4472 - val_loss: 5.5257\n",
      "Epoch 115/150\n",
      "57/57 [==============================] - 3s 46ms/step - loss: 6.2044 - val_loss: 5.5099\n",
      "Epoch 116/150\n",
      "57/57 [==============================] - 3s 45ms/step - loss: 6.4425 - val_loss: 5.5785\n",
      "Epoch 117/150\n",
      "57/57 [==============================] - 3s 44ms/step - loss: 6.2819 - val_loss: 5.6663\n",
      "Epoch 118/150\n",
      "57/57 [==============================] - 3s 47ms/step - loss: 6.2783 - val_loss: 7.0331\n",
      "Epoch 119/150\n",
      "57/57 [==============================] - 3s 47ms/step - loss: 6.3627 - val_loss: 5.7061\n",
      "Epoch 120/150\n",
      "57/57 [==============================] - 3s 48ms/step - loss: 6.2609 - val_loss: 5.7453\n",
      "Epoch 121/150\n",
      "57/57 [==============================] - 3s 45ms/step - loss: 6.3462 - val_loss: 5.5561\n",
      "Epoch 122/150\n",
      "57/57 [==============================] - 3s 46ms/step - loss: 6.4119 - val_loss: 6.1288\n",
      "Epoch 123/150\n",
      "57/57 [==============================] - 3s 48ms/step - loss: 6.4157 - val_loss: 7.2123\n",
      "Epoch 124/150\n",
      "57/57 [==============================] - 3s 47ms/step - loss: 6.2325 - val_loss: 6.1374\n",
      "Epoch 125/150\n",
      "57/57 [==============================] - 3s 47ms/step - loss: 6.4191 - val_loss: 5.6221\n",
      "Epoch 126/150\n",
      "57/57 [==============================] - 3s 45ms/step - loss: 6.2841 - val_loss: 5.8588\n",
      "Epoch 127/150\n",
      "57/57 [==============================] - 3s 45ms/step - loss: 6.3522 - val_loss: 5.5547\n",
      "Epoch 128/150\n",
      "57/57 [==============================] - 3s 45ms/step - loss: 6.2976 - val_loss: 6.4101\n",
      "Epoch 129/150\n",
      "57/57 [==============================] - 3s 47ms/step - loss: 6.2864 - val_loss: 5.5401\n",
      "Epoch 130/150\n",
      "57/57 [==============================] - 3s 45ms/step - loss: 6.3131 - val_loss: 8.4705\n",
      "Epoch 131/150\n",
      "57/57 [==============================] - 3s 46ms/step - loss: 6.1535 - val_loss: 6.6111\n",
      "Epoch 132/150\n",
      "57/57 [==============================] - 3s 47ms/step - loss: 6.4331 - val_loss: 5.5917\n",
      "Epoch 133/150\n",
      "57/57 [==============================] - 3s 46ms/step - loss: 6.1479 - val_loss: 6.8712\n",
      "Epoch 134/150\n",
      "57/57 [==============================] - 3s 48ms/step - loss: 6.2806 - val_loss: 6.2388\n",
      "Epoch 135/150\n",
      "57/57 [==============================] - 3s 47ms/step - loss: 6.1978 - val_loss: 6.5757\n",
      "Epoch 136/150\n",
      "57/57 [==============================] - 3s 45ms/step - loss: 6.1585 - val_loss: 5.6214\n",
      "Epoch 137/150\n",
      "57/57 [==============================] - 3s 46ms/step - loss: 6.2385 - val_loss: 6.0737\n",
      "Epoch 138/150\n",
      "57/57 [==============================] - 3s 47ms/step - loss: 6.2095 - val_loss: 5.9791\n",
      "Epoch 139/150\n",
      "57/57 [==============================] - 3s 46ms/step - loss: 6.2460 - val_loss: 5.5939\n",
      "Epoch 140/150\n",
      "57/57 [==============================] - 3s 46ms/step - loss: 6.1897 - val_loss: 5.8488\n",
      "Epoch 141/150\n",
      "57/57 [==============================] - 3s 44ms/step - loss: 6.3120 - val_loss: 5.7303\n",
      "Epoch 142/150\n",
      "57/57 [==============================] - 3s 47ms/step - loss: 6.2969 - val_loss: 5.5240\n",
      "Epoch 143/150\n",
      "57/57 [==============================] - 3s 47ms/step - loss: 6.1892 - val_loss: 5.6151\n",
      "Epoch 144/150\n",
      "57/57 [==============================] - 3s 47ms/step - loss: 6.1054 - val_loss: 5.8273\n",
      "Epoch 145/150\n",
      "57/57 [==============================] - 3s 47ms/step - loss: 6.2569 - val_loss: 5.6850\n",
      "Epoch 146/150\n",
      "57/57 [==============================] - 3s 46ms/step - loss: 6.1255 - val_loss: 5.7462\n",
      "Epoch 147/150\n",
      "57/57 [==============================] - 3s 46ms/step - loss: 6.1721 - val_loss: 7.7601\n",
      "Epoch 148/150\n",
      "57/57 [==============================] - 3s 45ms/step - loss: 6.2317 - val_loss: 6.7809\n",
      "Epoch 149/150\n",
      "57/57 [==============================] - 3s 48ms/step - loss: 6.2922 - val_loss: 5.5990\n",
      "Epoch 150/150\n",
      "57/57 [==============================] - 3s 46ms/step - loss: 6.1290 - val_loss: 5.5753\n"
     ]
    }
   ],
   "source": [
    "#Build the Simple RNN Model\n",
    "i = Input(shape=(T, 1))  #every sample is TXD\n",
    "x = LSTM(50,return_sequences=True,activation='relu')(i)\n",
    "x = GlobalMaxPool1D()(x)\n",
    "x = Dense(1024)(x)\n",
    "x = Dense(512)(x)\n",
    "x = Dense(256)(x)\n",
    "x = Dense(128)(x)\n",
    "x = Dense(1)(x)\n",
    "\n",
    "model = Model(i, x)\n",
    "model.compile(\n",
    "  loss='mse',\n",
    "  #optimizer=Adam(learning_rate=0.001),\n",
    "  optimizer='rmsprop'\n",
    ")\n",
    "\n",
    "# train the Model\n",
    "r = model.fit(\n",
    "  X[:N//2], Y[:N//2],\n",
    "  epochs=150,\n",
    "  validation_data=(X[N//2:], Y[N//2:]),\n",
    ")"
   ]
  },
  {
   "cell_type": "markdown",
   "metadata": {
    "id": "njx1qyNKYKbN"
   },
   "source": [
    "Loss plot"
   ]
  },
  {
   "cell_type": "code",
   "execution_count": 23,
   "metadata": {
    "colab": {
     "base_uri": "https://localhost:8080/",
     "height": 282
    },
    "id": "tFSspVOZYKbN",
    "outputId": "e9d8eecd-da0a-4c0a-dbd8-e1a66b4178d9"
   },
   "outputs": [
    {
     "data": {
      "text/plain": [
       "<matplotlib.legend.Legend at 0x7fa8a9018d10>"
      ]
     },
     "execution_count": 23,
     "metadata": {},
     "output_type": "execute_result"
    },
    {
     "data": {
      "image/png": "[encoded data removed]",
      "text/plain": [
       "<Figure size 432x288 with 1 Axes>"
      ]
     },
     "metadata": {
      "needs_background": "light"
     },
     "output_type": "display_data"
    }
   ],
   "source": [
    "# Plot loss per iteration\n",
    "import matplotlib.pyplot as plt\n",
    "plt.plot(r.history['loss'], label='loss')\n",
    "plt.plot(r.history['val_loss'], label='val_loss')\n",
    "plt.legend()"
   ]
  },
  {
   "cell_type": "markdown",
   "metadata": {
    "id": "gU1zpjM-YKbO"
   },
   "source": [
    "Forecasting plot"
   ]
  },
  {
   "cell_type": "code",
   "execution_count": 24,
   "metadata": {
    "colab": {
     "base_uri": "https://localhost:8080/",
     "height": 284
    },
    "id": "LeCe4ZHUYKbO",
    "outputId": "a730b9ce-556f-486e-8e47-2dc8422a5d9d"
   },
   "outputs": [
    {
     "data": {
      "text/plain": [
       "<matplotlib.legend.Legend at 0x7fa8a83d2390>"
      ]
     },
     "execution_count": 24,
     "metadata": {},
     "output_type": "execute_result"
    },
    {
     "data": {
      "image/png": "[encoded data removed]",
      "text/plain": [
       "<Figure size 432x288 with 1 Axes>"
      ]
     },
     "metadata": {
      "needs_background": "light"
     },
     "output_type": "display_data"
    }
   ],
   "source": [
    "# Forecast future values (use only self-predictions for making future predictions)\n",
    "\n",
    "validation_target = Y[N//2:]\n",
    "validation_predictions = []\n",
    "\n",
    "# first validation input\n",
    "last_x = X[N//2] # 1-D array of length T\n",
    "\n",
    "while len(validation_predictions) < len(validation_target):\n",
    "  p = model.predict(last_x.reshape(1, T, 1))[0,0] # 1x1 array -> scalar Input is shape N*T*D  output is N*K - desired is 1*T*1\n",
    "  \n",
    "  # update the predictions list\n",
    "  validation_predictions.append(p)\n",
    "  \n",
    "  # make the new input\n",
    "  last_x = np.roll(last_x, -1)\n",
    "  last_x[-1] = p\n",
    "\n",
    "plt.plot(validation_target, label='forecast target')\n",
    "plt.plot(validation_predictions, label='forecast prediction')\n",
    "plt.legend()"
   ]
  },
  {
   "cell_type": "markdown",
   "metadata": {
    "id": "mpTMGpiF1w9b"
   },
   "source": [
    "**Results**\n",
    "\n",
    "**Autoregressive Linear Model**\n",
    "training_loss: 6.6410  validation_loss: 5.5965\n",
    "The model is unable to detect the pattern.\n",
    "\n",
    "**SimpleRNN model**\n",
    "training_loss: 4.7500 validation_loss: 6.2108\n",
    "There is no major improvement in loss function for validation dataset but the model forecasting prediction improves slightly.\n",
    "\n",
    "**GRU**\n",
    "training_loss: 5.9430  validation_loss: 5.9882\n",
    "The validation loss improves slightly (loss plot is more smoother) and the model is able to detect the pattern initially.\n",
    "\n",
    "**LSTM**\n",
    "training_loss: 6.6716 validation_loss: 5.5704\n",
    "The model is able to detect the pattern initially but fails subsquently.\n",
    "\n",
    "**LSTM with GlobalMaxPooling**\n",
    "training_loss: 6.1290 validation_loss: 5.5753\n",
    "The model is able to detect the pattern initially but fails subsquently.\n",
    "\n",
    "\n",
    "\n"
   ]
  }
 ],
 "metadata": {
  "accelerator": "GPU",
  "colab": {
   "collapsed_sections": [],
   "name": "Assign6.ipynb",
   "provenance": []
  },
  "kernelspec": {
   "display_name": "Python 3",
   "language": "python",
   "name": "python3"
  },
  "language_info": {
   "codemirror_mode": {
    "name": "ipython",
    "version": 3
   },
   "file_extension": ".py",
   "mimetype": "text/x-python",
   "name": "python",
   "nbconvert_exporter": "python",
   "pygments_lexer": "ipython3",
   "version": "3.8.5"
  }
 },
 "nbformat": 4,
 "nbformat_minor": 1
}
