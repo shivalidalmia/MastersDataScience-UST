{
 "cells": [
  {
   "cell_type": "markdown",
   "metadata": {
    "id": "zAgpeYZVHr1e"
   },
   "source": [
    "**Importing reuquired python packages**"
   ]
  },
  {
   "cell_type": "code",
   "execution_count": 1,
   "metadata": {
    "id": "PEJ_legFGo_B"
   },
   "outputs": [],
   "source": [
    "import tensorflow as tf\n",
    "\n",
    "#We need to import the following\n",
    "import numpy as np\n",
    "import matplotlib.pyplot as plt\n",
    "from tensorflow.keras.layers import Input, Conv2D, Dense, Flatten, Dropout, GlobalMaxPooling2D, MaxPooling2D, BatchNormalization\n",
    "from tensorflow.keras.models import Model\n",
    "from tensorflow.keras.preprocessing.image import ImageDataGenerator"
   ]
  },
  {
   "cell_type": "markdown",
   "metadata": {
    "id": "aUy60oOlHyAd"
   },
   "source": [
    "**Loading MNIST dataset, normalizing values to be between 0 and 1, and finally reshaping for adding 3rd dimension.**"
   ]
  },
  {
   "cell_type": "code",
   "execution_count": 2,
   "metadata": {
    "colab": {
     "base_uri": "https://localhost:8080/"
    },
    "id": "6tnvoQemHIwl",
    "outputId": "71b3f5fb-89ad-4266-a1d2-014938ca3132"
   },
   "outputs": [
    {
     "name": "stdout",
     "output_type": "stream",
     "text": [
      "Downloading data from https://storage.googleapis.com/tensorflow/tf-keras-datasets/mnist.npz\n",
      "11493376/11490434 [==============================] - 0s 0us/step\n",
      "11501568/11490434 [==============================] - 0s 0us/step\n",
      "x_train.shape: (60000, 28, 28)\n",
      "x_test.shape: (10000, 28, 28)\n",
      "(60000, 28, 28, 1)\n"
     ]
    }
   ],
   "source": [
    "# Load the data\n",
    "mnist = tf.keras.datasets.mnist\n",
    "(x_train, y_train), (x_test, y_test) = mnist.load_data()\n",
    "\n",
    "#Normalizing\n",
    "x_train, x_test = x_train / 255.0, x_test / 255.0\n",
    "\n",
    "print(\"x_train.shape:\", x_train.shape)\n",
    "print(\"x_test.shape:\", x_test.shape)\n",
    "\n",
    "#Changing the shape of data to 3D\n",
    "# the data is only 2D! make it 60000 * 28 * 28 * 1\n",
    "# convolution expects height x width x color\n",
    "x_train = np.expand_dims(x_train, -1)\n",
    "x_test = np.expand_dims(x_test, -1)\n",
    "print(x_train.shape)"
   ]
  },
  {
   "cell_type": "markdown",
   "metadata": {
    "id": "NZqy7tMsMs3X"
   },
   "source": [
    "**Number of target classes**"
   ]
  },
  {
   "cell_type": "code",
   "execution_count": 3,
   "metadata": {
    "colab": {
     "base_uri": "https://localhost:8080/"
    },
    "id": "NmXFcQLdHQux",
    "outputId": "f64dc8f3-ed45-48f8-c359-f0c525c2cf5e"
   },
   "outputs": [
    {
     "name": "stdout",
     "output_type": "stream",
     "text": [
      "number of classes: 10\n"
     ]
    }
   ],
   "source": [
    "# number of classes\n",
    "K = len(set(y_train))\n",
    "print(\"number of classes:\", K)"
   ]
  },
  {
   "cell_type": "markdown",
   "metadata": {
    "id": "aTmSdp0ZxAwm"
   },
   "source": [
    "**Builiding functions for model compilation, loss plots, confusion matrix, showing missclassified images.**"
   ]
  },
  {
   "cell_type": "markdown",
   "metadata": {
    "id": "cL4ok3aRxqCS"
   },
   "source": [
    "Function for model compilation"
   ]
  },
  {
   "cell_type": "code",
   "execution_count": 4,
   "metadata": {
    "id": "qKYvAVnOw__z"
   },
   "outputs": [],
   "source": [
    "def compile_model(model):\n",
    "  # Compile and fit\n",
    "  model.compile(optimizer='adam',\n",
    "                loss='sparse_categorical_crossentropy',\n",
    "                metrics=['accuracy'])\n",
    "  r = model.fit(x_train, y_train, validation_data=(x_test, y_test), epochs=15)\n",
    "  return r"
   ]
  },
  {
   "cell_type": "markdown",
   "metadata": {
    "id": "_jvkpzbKxiFk"
   },
   "source": [
    "Function for loss and accuracy plots."
   ]
  },
  {
   "cell_type": "code",
   "execution_count": 5,
   "metadata": {
    "id": "2bkq1IPVxv_u"
   },
   "outputs": [],
   "source": [
    "def create_loss_plot_per_iteration(r):\n",
    "  # Plot loss per iteration\n",
    "  import matplotlib.pyplot as plt\n",
    "  plt.plot(r.history['loss'], label='loss')\n",
    "  plt.plot(r.history['val_loss'], label='val_loss')\n",
    "  plt.legend()\n",
    "\n",
    "def create_accuracy_plot_per_iteration(r):\n",
    "  # Plot accuracy per iteration\n",
    "  plt.plot(r.history['accuracy'], label='acc')\n",
    "  plt.plot(r.history['val_accuracy'], label='val_acc')\n",
    "  plt.legend()"
   ]
  },
  {
   "cell_type": "markdown",
   "metadata": {
    "id": "B_h44JYzyRZj"
   },
   "source": [
    "Function for confusion matrix"
   ]
  },
  {
   "cell_type": "code",
   "execution_count": 6,
   "metadata": {
    "id": "Nazml8SPyQKg"
   },
   "outputs": [],
   "source": [
    "def get_confusion_matrix(model):\n",
    " # Evaluate the model\n",
    "  print(model.evaluate(x_test, y_test))\n",
    "  #Confusion Matrix\n",
    "  from sklearn.metrics import confusion_matrix\n",
    "  y_pred = model.predict(x_test).argmax(axis=1)\n",
    "  cm = confusion_matrix(y_test, y_pred)\n",
    "  print(\"               Predicted Label\")\n",
    "  print(cm)\n",
    "  return y_pred"
   ]
  },
  {
   "cell_type": "markdown",
   "metadata": {
    "id": "vHWTWcNnyxRG"
   },
   "source": [
    "Function for showing missclassified images"
   ]
  },
  {
   "cell_type": "code",
   "execution_count": 7,
   "metadata": {
    "id": "8H8EUJ9oy5EK"
   },
   "outputs": [],
   "source": [
    "def show_missclassified_images(y_pred):\n",
    "  # Show some misclassified examples\n",
    "  misclassified_idx = np.where(y_pred != y_test)[0]\n",
    "  i = np.random.choice(misclassified_idx)\n",
    "  plt.imshow(x_test[i].reshape(28,28), cmap='gray')\n",
    "  plt.title(\"True label: %s Predicted: %s\" % (y_test[i], y_pred[i]))"
   ]
  },
  {
   "cell_type": "markdown",
   "metadata": {
    "id": "RsOInPj8NLMZ"
   },
   "source": [
    "**CNN Models - Conv-Pool**"
   ]
  },
  {
   "cell_type": "markdown",
   "metadata": {
    "id": "T9Qlo7GGNONh"
   },
   "source": [
    "**Model 1 - one conv-pool (i.e. convolution followed by max pooling)**"
   ]
  },
  {
   "cell_type": "code",
   "execution_count": 8,
   "metadata": {
    "colab": {
     "base_uri": "https://localhost:8080/"
    },
    "id": "l1xfRoiSMwp6",
    "outputId": "f6f402d1-81f5-4cd3-eb71-ecf024c9aaeb"
   },
   "outputs": [
    {
     "name": "stdout",
     "output_type": "stream",
     "text": [
      "Model: \"model\"\n",
      "_________________________________________________________________\n",
      " Layer (type)                Output Shape              Param #   \n",
      "=================================================================\n",
      " input_1 (InputLayer)        [(None, 28, 28, 1)]       0         \n",
      "                                                                 \n",
      " conv2d (Conv2D)             (None, 28, 28, 32)        320       \n",
      "                                                                 \n",
      " max_pooling2d (MaxPooling2D  (None, 14, 14, 32)       0         \n",
      " )                                                               \n",
      "                                                                 \n",
      " flatten (Flatten)           (None, 6272)              0         \n",
      "                                                                 \n",
      " dense (Dense)               (None, 512)               3211776   \n",
      "                                                                 \n",
      " dense_1 (Dense)             (None, 10)                5130      \n",
      "                                                                 \n",
      "=================================================================\n",
      "Total params: 3,217,226\n",
      "Trainable params: 3,217,226\n",
      "Non-trainable params: 0\n",
      "_________________________________________________________________\n"
     ]
    }
   ],
   "source": [
    "from typing import Sized\n",
    "# 32 - No of feature maps (changes with each conv layer)\n",
    "# MaxPolling2D\n",
    "# When we go from input layer to first ouput the depth is 1\n",
    "# 3,3 - filter Size\n",
    "# padding = same (no padding)\n",
    "\n",
    "# Stage1\n",
    "i = Input(shape=x_train[0].shape)\n",
    "x = Conv2D(32, (3, 3), activation='relu', padding='same')(i)\n",
    "x = MaxPooling2D((2,2))(x)\n",
    "\n",
    "#Stage2\n",
    "x = Flatten()(x)\n",
    "x = Dense(512, activation='relu')(x)\n",
    "x = Dense(K, activation='softmax')(x)\n",
    "\n",
    "model1 = Model(i, x)\n",
    "\n",
    "model1.summary()"
   ]
  },
  {
   "cell_type": "markdown",
   "metadata": {
    "id": "RyK7hRAy0Vt5"
   },
   "source": [
    "Model compilation and loss/accuracy plots"
   ]
  },
  {
   "cell_type": "code",
   "execution_count": 9,
   "metadata": {
    "colab": {
     "base_uri": "https://localhost:8080/",
     "height": 786
    },
    "id": "kIx_F5fe0b1R",
    "outputId": "47841df7-bc5e-4a9a-a9eb-f85e2c882e9d"
   },
   "outputs": [
    {
     "name": "stdout",
     "output_type": "stream",
     "text": [
      "Epoch 1/15\n",
      "1875/1875 [==============================] - 22s 7ms/step - loss: 0.1292 - accuracy: 0.9603 - val_loss: 0.0515 - val_accuracy: 0.9841\n",
      "Epoch 2/15\n",
      "1875/1875 [==============================] - 13s 7ms/step - loss: 0.0427 - accuracy: 0.9863 - val_loss: 0.0493 - val_accuracy: 0.9833\n",
      "Epoch 3/15\n",
      "1875/1875 [==============================] - 13s 7ms/step - loss: 0.0244 - accuracy: 0.9922 - val_loss: 0.0423 - val_accuracy: 0.9858\n",
      "Epoch 4/15\n",
      "1875/1875 [==============================] - 13s 7ms/step - loss: 0.0154 - accuracy: 0.9949 - val_loss: 0.0425 - val_accuracy: 0.9872\n",
      "Epoch 5/15\n",
      "1875/1875 [==============================] - 13s 7ms/step - loss: 0.0097 - accuracy: 0.9969 - val_loss: 0.0384 - val_accuracy: 0.9887\n",
      "Epoch 6/15\n",
      "1875/1875 [==============================] - 13s 7ms/step - loss: 0.0090 - accuracy: 0.9968 - val_loss: 0.0442 - val_accuracy: 0.9876\n",
      "Epoch 7/15\n",
      "1875/1875 [==============================] - 13s 7ms/step - loss: 0.0065 - accuracy: 0.9976 - val_loss: 0.0459 - val_accuracy: 0.9878\n",
      "Epoch 8/15\n",
      "1875/1875 [==============================] - 13s 7ms/step - loss: 0.0037 - accuracy: 0.9988 - val_loss: 0.0534 - val_accuracy: 0.9873\n",
      "Epoch 9/15\n",
      "1875/1875 [==============================] - 13s 7ms/step - loss: 0.0045 - accuracy: 0.9985 - val_loss: 0.0583 - val_accuracy: 0.9875\n",
      "Epoch 10/15\n",
      "1875/1875 [==============================] - 13s 7ms/step - loss: 0.0033 - accuracy: 0.9990 - val_loss: 0.0675 - val_accuracy: 0.9868\n",
      "Epoch 11/15\n",
      "1875/1875 [==============================] - 13s 7ms/step - loss: 0.0041 - accuracy: 0.9988 - val_loss: 0.0576 - val_accuracy: 0.9873\n",
      "Epoch 12/15\n",
      "1875/1875 [==============================] - 13s 7ms/step - loss: 0.0031 - accuracy: 0.9991 - val_loss: 0.0579 - val_accuracy: 0.9887\n",
      "Epoch 13/15\n",
      "1875/1875 [==============================] - 13s 7ms/step - loss: 0.0032 - accuracy: 0.9990 - val_loss: 0.0616 - val_accuracy: 0.9870\n",
      "Epoch 14/15\n",
      "1875/1875 [==============================] - 13s 7ms/step - loss: 0.0029 - accuracy: 0.9990 - val_loss: 0.0749 - val_accuracy: 0.9863\n",
      "Epoch 15/15\n",
      "1875/1875 [==============================] - 13s 7ms/step - loss: 0.0031 - accuracy: 0.9992 - val_loss: 0.0723 - val_accuracy: 0.9868\n"
     ]
    },
    {
     "data": {
      "image/png": "[encoded data removed]",
      "text/plain": [
       "<Figure size 432x288 with 1 Axes>"
      ]
     },
     "metadata": {
      "needs_background": "light"
     },
     "output_type": "display_data"
    }
   ],
   "source": [
    "# Model compile and fit\n",
    "r1 = compile_model(model1)\n",
    "\n",
    "# Loss plot\n",
    "create_loss_plot_per_iteration(r1)"
   ]
  },
  {
   "cell_type": "code",
   "execution_count": 10,
   "metadata": {
    "colab": {
     "base_uri": "https://localhost:8080/",
     "height": 265
    },
    "id": "144P-bzZ3kX_",
    "outputId": "ff7736e6-0425-49d3-db67-31b76c3c2d53"
   },
   "outputs": [
    {
     "data": {
      "image/png": "[encoded data removed]",
      "text/plain": [
       "<Figure size 432x288 with 1 Axes>"
      ]
     },
     "metadata": {
      "needs_background": "light"
     },
     "output_type": "display_data"
    }
   ],
   "source": [
    "# Accuracy plot\n",
    "create_accuracy_plot_per_iteration(r1)"
   ]
  },
  {
   "cell_type": "markdown",
   "metadata": {
    "id": "UoUr4_lK4EVQ"
   },
   "source": [
    "Confusion matrix and missclassfied examples"
   ]
  },
  {
   "cell_type": "code",
   "execution_count": 11,
   "metadata": {
    "colab": {
     "base_uri": "https://localhost:8080/"
    },
    "id": "rRSbEeEh4Ipm",
    "outputId": "f519c767-c8a9-4aa7-eef0-ce517da5d77e"
   },
   "outputs": [
    {
     "name": "stdout",
     "output_type": "stream",
     "text": [
      "313/313 [==============================] - 1s 4ms/step - loss: 0.0723 - accuracy: 0.9868\n",
      "[0.07226797193288803, 0.9868000149726868]\n",
      "               Predicted Label\n",
      "[[ 971    1    1    1    0    1    2    1    1    1]\n",
      " [   2 1124    3    0    0    0    3    2    1    0]\n",
      " [   0    0 1021    2    1    0    0    6    2    0]\n",
      " [   0    0    0 1000    0    4    0    4    2    0]\n",
      " [   0    0    1    0  968    0    2    0    0   11]\n",
      " [   0    0    0   10    0  881    1    0    0    0]\n",
      " [   4    2    1    0    4    5  941    0    1    0]\n",
      " [   0    2    4    1    1    0    0 1015    1    4]\n",
      " [   1    0    2    5    0    2    2    4  952    6]\n",
      " [   0    1    0    1    4    2    0    0    6  995]]\n"
     ]
    }
   ],
   "source": [
    "y_pred = get_confusion_matrix(model1)"
   ]
  },
  {
   "cell_type": "code",
   "execution_count": 12,
   "metadata": {
    "colab": {
     "base_uri": "https://localhost:8080/",
     "height": 281
    },
    "id": "WMiZL2j05w2H",
    "outputId": "18850a40-1126-47fb-d1b0-c37cffd927f9"
   },
   "outputs": [
    {
     "data": {
      "image/png": "[encoded data removed]",
      "text/plain": [
       "<Figure size 432x288 with 1 Axes>"
      ]
     },
     "metadata": {
      "needs_background": "light"
     },
     "output_type": "display_data"
    }
   ],
   "source": [
    "# Show missclassified examples\n",
    "show_missclassified_images(y_pred)"
   ]
  },
  {
   "cell_type": "markdown",
   "metadata": {
    "id": "ksYrdInk7sMr"
   },
   "source": [
    "**Model 1 summary:** Model-1 with convoloution layer and maxpooling gives test accuracy of 98.68% with loass at 0.066. As per loss plot, trainining loss starts plateauing from 4th epoch but validation loss starts increasing, hence model is becoming overfit. As per accuracy plot, both training and validation accuracy starts plateauing from 6th epoch. Hence, to reduce overfitness it can be stopped at 4-6 epoch."
   ]
  },
  {
   "cell_type": "markdown",
   "metadata": {
    "id": "Q8Ha2yuUOEUj"
   },
   "source": [
    "**Model 2 - two conv-pools**"
   ]
  },
  {
   "cell_type": "code",
   "execution_count": 13,
   "metadata": {
    "colab": {
     "base_uri": "https://localhost:8080/"
    },
    "id": "jE0HzB0fORQP",
    "outputId": "748d4d14-f15d-4e3a-a91b-2137d1f46f05"
   },
   "outputs": [
    {
     "name": "stdout",
     "output_type": "stream",
     "text": [
      "Model: \"model_1\"\n",
      "_________________________________________________________________\n",
      " Layer (type)                Output Shape              Param #   \n",
      "=================================================================\n",
      " input_2 (InputLayer)        [(None, 28, 28, 1)]       0         \n",
      "                                                                 \n",
      " conv2d_1 (Conv2D)           (None, 28, 28, 32)        832       \n",
      "                                                                 \n",
      " max_pooling2d_1 (MaxPooling  (None, 14, 14, 32)       0         \n",
      " 2D)                                                             \n",
      "                                                                 \n",
      " conv2d_2 (Conv2D)           (None, 14, 14, 64)        51264     \n",
      "                                                                 \n",
      " max_pooling2d_2 (MaxPooling  (None, 7, 7, 64)         0         \n",
      " 2D)                                                             \n",
      "                                                                 \n",
      " flatten_1 (Flatten)         (None, 3136)              0         \n",
      "                                                                 \n",
      " dense_2 (Dense)             (None, 512)               1606144   \n",
      "                                                                 \n",
      " dense_3 (Dense)             (None, 10)                5130      \n",
      "                                                                 \n",
      "=================================================================\n",
      "Total params: 1,663,370\n",
      "Trainable params: 1,663,370\n",
      "Non-trainable params: 0\n",
      "_________________________________________________________________\n"
     ]
    }
   ],
   "source": [
    "from typing import Sized\n",
    "# 64 - No of feature maps (changes with each conv layer)\n",
    "# MaxPolling2D\n",
    "# When we go from input layer to first ouput the depth is 1\n",
    "# 5,5 - filter Size\n",
    "# padding = same (no padding)\n",
    "\n",
    "# Stage1\n",
    "i = Input(shape=x_train[0].shape)\n",
    "x = Conv2D(32, (5, 5), activation='relu', padding='same')(i)\n",
    "x = MaxPooling2D((2,2))(x)\n",
    "x = Conv2D(64, (5, 5), activation='relu', padding='same')(x)\n",
    "x = MaxPooling2D((2,2))(x)\n",
    "\n",
    "#Stage2\n",
    "x = Flatten()(x)\n",
    "x = Dense(512, activation='relu')(x)\n",
    "x = Dense(K, activation='softmax')(x)\n",
    "\n",
    "model2 = Model(i, x)\n",
    "\n",
    "model2.summary()"
   ]
  },
  {
   "cell_type": "markdown",
   "metadata": {
    "id": "YYXXPeiF7bUl"
   },
   "source": [
    "Model compilation and loss/accuracy plots"
   ]
  },
  {
   "cell_type": "code",
   "execution_count": 14,
   "metadata": {
    "colab": {
     "base_uri": "https://localhost:8080/",
     "height": 786
    },
    "id": "HkDf0H4U7bUm",
    "outputId": "a9539ffa-851d-4851-b816-d3a26b26102f"
   },
   "outputs": [
    {
     "name": "stdout",
     "output_type": "stream",
     "text": [
      "Epoch 1/15\n",
      "1875/1875 [==============================] - 19s 10ms/step - loss: 0.0997 - accuracy: 0.9691 - val_loss: 0.0405 - val_accuracy: 0.9868\n",
      "Epoch 2/15\n",
      "1875/1875 [==============================] - 18s 10ms/step - loss: 0.0353 - accuracy: 0.9893 - val_loss: 0.0291 - val_accuracy: 0.9905\n",
      "Epoch 3/15\n",
      "1875/1875 [==============================] - 18s 10ms/step - loss: 0.0248 - accuracy: 0.9922 - val_loss: 0.0246 - val_accuracy: 0.9929\n",
      "Epoch 4/15\n",
      "1875/1875 [==============================] - 18s 10ms/step - loss: 0.0167 - accuracy: 0.9948 - val_loss: 0.0217 - val_accuracy: 0.9932\n",
      "Epoch 5/15\n",
      "1875/1875 [==============================] - 18s 10ms/step - loss: 0.0138 - accuracy: 0.9952 - val_loss: 0.0314 - val_accuracy: 0.9926\n",
      "Epoch 6/15\n",
      "1875/1875 [==============================] - 18s 10ms/step - loss: 0.0107 - accuracy: 0.9967 - val_loss: 0.0247 - val_accuracy: 0.9929\n",
      "Epoch 7/15\n",
      "1875/1875 [==============================] - 18s 10ms/step - loss: 0.0104 - accuracy: 0.9966 - val_loss: 0.0541 - val_accuracy: 0.9873\n",
      "Epoch 8/15\n",
      "1875/1875 [==============================] - 18s 10ms/step - loss: 0.0066 - accuracy: 0.9979 - val_loss: 0.0283 - val_accuracy: 0.9938\n",
      "Epoch 9/15\n",
      "1875/1875 [==============================] - 18s 10ms/step - loss: 0.0070 - accuracy: 0.9980 - val_loss: 0.0276 - val_accuracy: 0.9947\n",
      "Epoch 10/15\n",
      "1875/1875 [==============================] - 18s 10ms/step - loss: 0.0072 - accuracy: 0.9979 - val_loss: 0.0333 - val_accuracy: 0.9921\n",
      "Epoch 11/15\n",
      "1875/1875 [==============================] - 18s 10ms/step - loss: 0.0052 - accuracy: 0.9986 - val_loss: 0.0399 - val_accuracy: 0.9906\n",
      "Epoch 12/15\n",
      "1875/1875 [==============================] - 18s 10ms/step - loss: 0.0066 - accuracy: 0.9980 - val_loss: 0.0418 - val_accuracy: 0.9911\n",
      "Epoch 13/15\n",
      "1875/1875 [==============================] - 18s 10ms/step - loss: 0.0043 - accuracy: 0.9987 - val_loss: 0.0375 - val_accuracy: 0.9932\n",
      "Epoch 14/15\n",
      "1875/1875 [==============================] - 18s 10ms/step - loss: 0.0046 - accuracy: 0.9985 - val_loss: 0.0428 - val_accuracy: 0.9923\n",
      "Epoch 15/15\n",
      "1875/1875 [==============================] - 18s 10ms/step - loss: 0.0058 - accuracy: 0.9984 - val_loss: 0.0693 - val_accuracy: 0.9892\n"
     ]
    },
    {
     "data": {
      "image/png": "[encoded data removed]",
      "text/plain": [
       "<Figure size 432x288 with 1 Axes>"
      ]
     },
     "metadata": {
      "needs_background": "light"
     },
     "output_type": "display_data"
    }
   ],
   "source": [
    "# Model compile and fit\n",
    "r2 = compile_model(model2)\n",
    "\n",
    "# Loss plot\n",
    "create_loss_plot_per_iteration(r2)"
   ]
  },
  {
   "cell_type": "code",
   "execution_count": 15,
   "metadata": {
    "colab": {
     "base_uri": "https://localhost:8080/",
     "height": 268
    },
    "id": "_nkOf1Wg7bUo",
    "outputId": "65469a93-6381-402f-c67b-7b51996adecf"
   },
   "outputs": [
    {
     "data": {
      "image/png": "[encoded data removed]",
      "text/plain": [
       "<Figure size 432x288 with 1 Axes>"
      ]
     },
     "metadata": {
      "needs_background": "light"
     },
     "output_type": "display_data"
    }
   ],
   "source": [
    "# Accuracy plot\n",
    "create_accuracy_plot_per_iteration(r2)"
   ]
  },
  {
   "cell_type": "markdown",
   "metadata": {
    "id": "8km-NpqR7bUq"
   },
   "source": [
    "Confusion matrix and missclassfied examples"
   ]
  },
  {
   "cell_type": "code",
   "execution_count": 16,
   "metadata": {
    "colab": {
     "base_uri": "https://localhost:8080/"
    },
    "id": "OheEg3IQ7bUq",
    "outputId": "dff80fa2-756a-48cf-e946-bb8d22325dce"
   },
   "outputs": [
    {
     "name": "stdout",
     "output_type": "stream",
     "text": [
      "313/313 [==============================] - 1s 5ms/step - loss: 0.0693 - accuracy: 0.9892\n",
      "[0.06925974041223526, 0.9891999959945679]\n",
      "               Predicted Label\n",
      "[[ 977    0    0    0    0    0    0    1    1    1]\n",
      " [   0 1131    1    2    0    0    0    0    1    0]\n",
      " [   0    2 1028    0    1    0    0    1    0    0]\n",
      " [   0    0    2 1008    0    0    0    0    0    0]\n",
      " [   0    2    2    0  975    0    0    1    0    2]\n",
      " [   0    1    0   13    0  873    4    0    1    0]\n",
      " [   3    4    0    0    4    2  940    0    5    0]\n",
      " [   0    2    5    1    0    0    0 1017    2    1]\n",
      " [   1    0    3    2    0    0    0    0  968    0]\n",
      " [   0    1    2    6    9    8    0    5    3  975]]\n"
     ]
    }
   ],
   "source": [
    "y_pred = get_confusion_matrix(model2)"
   ]
  },
  {
   "cell_type": "code",
   "execution_count": 17,
   "metadata": {
    "colab": {
     "base_uri": "https://localhost:8080/",
     "height": 281
    },
    "id": "6OuOCVZn7bUs",
    "outputId": "75215361-1577-47ac-bf17-9e02f3c665e9"
   },
   "outputs": [
    {
     "data": {
      "image/png": "[encoded data removed]",
      "text/plain": [
       "<Figure size 432x288 with 1 Axes>"
      ]
     },
     "metadata": {
      "needs_background": "light"
     },
     "output_type": "display_data"
    }
   ],
   "source": [
    "# Show missclassified examples\n",
    "show_missclassified_images(y_pred)"
   ]
  },
  {
   "cell_type": "markdown",
   "metadata": {
    "id": "FeK3Ghvs800N"
   },
   "source": [
    "**Model 2 summary:** Model 2 with convoloution layer and maxpooling gives test accuracy of 98.92% with reduced validation loss at 0.069. As per loss plot, trainining loss starts plateauing from 4th epoch but validation loss starts increasing, hence model is becoming overfit. As per accuracy plot, both training and validation accuracy starts plateauing from 4th epoch. Hence, to reduce overfitness it can be stopped at 4-5 epoch."
   ]
  },
  {
   "cell_type": "markdown",
   "metadata": {
    "id": "u9Lwl4VTOR7-"
   },
   "source": [
    "**Model 3 - Multiple conv-pool layers, Dropouts.**"
   ]
  },
  {
   "cell_type": "code",
   "execution_count": 18,
   "metadata": {
    "colab": {
     "base_uri": "https://localhost:8080/"
    },
    "id": "79EJqiVX99Ft",
    "outputId": "4d975420-9cd1-4180-a618-b1fa8fefe25a"
   },
   "outputs": [
    {
     "name": "stdout",
     "output_type": "stream",
     "text": [
      "Model: \"model_2\"\n",
      "_________________________________________________________________\n",
      " Layer (type)                Output Shape              Param #   \n",
      "=================================================================\n",
      " input_3 (InputLayer)        [(None, 28, 28, 1)]       0         \n",
      "                                                                 \n",
      " conv2d_3 (Conv2D)           (None, 28, 28, 32)        320       \n",
      "                                                                 \n",
      " max_pooling2d_3 (MaxPooling  (None, 14, 14, 32)       0         \n",
      " 2D)                                                             \n",
      "                                                                 \n",
      " conv2d_4 (Conv2D)           (None, 14, 14, 64)        18496     \n",
      "                                                                 \n",
      " max_pooling2d_4 (MaxPooling  (None, 7, 7, 64)         0         \n",
      " 2D)                                                             \n",
      "                                                                 \n",
      " conv2d_5 (Conv2D)           (None, 7, 7, 128)         73856     \n",
      "                                                                 \n",
      " max_pooling2d_5 (MaxPooling  (None, 3, 3, 128)        0         \n",
      " 2D)                                                             \n",
      "                                                                 \n",
      " conv2d_6 (Conv2D)           (None, 3, 3, 256)         295168    \n",
      "                                                                 \n",
      " max_pooling2d_6 (MaxPooling  (None, 1, 1, 256)        0         \n",
      " 2D)                                                             \n",
      "                                                                 \n",
      " flatten_2 (Flatten)         (None, 256)               0         \n",
      "                                                                 \n",
      " dropout (Dropout)           (None, 256)               0         \n",
      "                                                                 \n",
      " dense_4 (Dense)             (None, 512)               131584    \n",
      "                                                                 \n",
      " dropout_1 (Dropout)         (None, 512)               0         \n",
      "                                                                 \n",
      " dense_5 (Dense)             (None, 10)                5130      \n",
      "                                                                 \n",
      "=================================================================\n",
      "Total params: 524,554\n",
      "Trainable params: 524,554\n",
      "Non-trainable params: 0\n",
      "_________________________________________________________________\n"
     ]
    }
   ],
   "source": [
    "from typing import Sized\n",
    "# 256 - No of feature maps (changes with each conv layer)\n",
    "# MaxPolling2D\n",
    "# 3,3 - filter Size\n",
    "# padding = same (no padding)\n",
    "\n",
    "# Stage1\n",
    "i = Input(shape=x_train[0].shape)\n",
    "x = Conv2D(32, (3, 3), activation='relu', padding='same')(i)\n",
    "x = MaxPooling2D((2,2))(x)\n",
    "x = Conv2D(64, (3, 3), activation='relu', padding='same')(x)\n",
    "x = MaxPooling2D((2,2))(x)\n",
    "x = Conv2D(128, (3, 3), activation='relu', padding='same')(x)\n",
    "x = MaxPooling2D((2,2))(x)\n",
    "x = Conv2D(256, (3, 3), activation='relu', padding='same')(x)\n",
    "x = MaxPooling2D((2,2))(x)\n",
    "\n",
    "#Stage2\n",
    "x = Flatten()(x)\n",
    "x = Dropout(0.2)(x)\n",
    "x = Dense(512, activation='relu')(x)\n",
    "x = Dropout(0.2)(x)\n",
    "x = Dense(K, activation='softmax')(x)\n",
    "\n",
    "model3 = Model(i, x)\n",
    "\n",
    "model3.summary()"
   ]
  },
  {
   "cell_type": "markdown",
   "metadata": {
    "id": "Tbq2hwZA99Fv"
   },
   "source": [
    "Model compilation and loss/accuracy plots"
   ]
  },
  {
   "cell_type": "code",
   "execution_count": 19,
   "metadata": {
    "colab": {
     "base_uri": "https://localhost:8080/",
     "height": 786
    },
    "id": "gg-hAvp599Fw",
    "outputId": "d8127ace-c26b-46c3-8dd3-170efa384dd5"
   },
   "outputs": [
    {
     "name": "stdout",
     "output_type": "stream",
     "text": [
      "Epoch 1/15\n",
      "1875/1875 [==============================] - 25s 13ms/step - loss: 0.1561 - accuracy: 0.9502 - val_loss: 0.0493 - val_accuracy: 0.9844\n",
      "Epoch 2/15\n",
      "1875/1875 [==============================] - 23s 12ms/step - loss: 0.0514 - accuracy: 0.9853 - val_loss: 0.0346 - val_accuracy: 0.9892\n",
      "Epoch 3/15\n",
      "1875/1875 [==============================] - 23s 12ms/step - loss: 0.0376 - accuracy: 0.9889 - val_loss: 0.0395 - val_accuracy: 0.9880\n",
      "Epoch 4/15\n",
      "1875/1875 [==============================] - 23s 12ms/step - loss: 0.0294 - accuracy: 0.9915 - val_loss: 0.0331 - val_accuracy: 0.9901\n",
      "Epoch 5/15\n",
      "1875/1875 [==============================] - 23s 12ms/step - loss: 0.0264 - accuracy: 0.9926 - val_loss: 0.0230 - val_accuracy: 0.9919\n",
      "Epoch 6/15\n",
      "1875/1875 [==============================] - 23s 12ms/step - loss: 0.0232 - accuracy: 0.9930 - val_loss: 0.0231 - val_accuracy: 0.9934\n",
      "Epoch 7/15\n",
      "1875/1875 [==============================] - 23s 12ms/step - loss: 0.0184 - accuracy: 0.9948 - val_loss: 0.0284 - val_accuracy: 0.9926\n",
      "Epoch 8/15\n",
      "1875/1875 [==============================] - 23s 12ms/step - loss: 0.0170 - accuracy: 0.9952 - val_loss: 0.0296 - val_accuracy: 0.9920\n",
      "Epoch 9/15\n",
      "1875/1875 [==============================] - 23s 12ms/step - loss: 0.0154 - accuracy: 0.9954 - val_loss: 0.0508 - val_accuracy: 0.9887\n",
      "Epoch 10/15\n",
      "1875/1875 [==============================] - 23s 12ms/step - loss: 0.0149 - accuracy: 0.9959 - val_loss: 0.0427 - val_accuracy: 0.9897\n",
      "Epoch 11/15\n",
      "1875/1875 [==============================] - 23s 12ms/step - loss: 0.0145 - accuracy: 0.9961 - val_loss: 0.0400 - val_accuracy: 0.9902\n",
      "Epoch 12/15\n",
      "1875/1875 [==============================] - 23s 12ms/step - loss: 0.0128 - accuracy: 0.9964 - val_loss: 0.0461 - val_accuracy: 0.9898\n",
      "Epoch 13/15\n",
      "1875/1875 [==============================] - 23s 12ms/step - loss: 0.0124 - accuracy: 0.9965 - val_loss: 0.0396 - val_accuracy: 0.9911\n",
      "Epoch 14/15\n",
      "1875/1875 [==============================] - 23s 12ms/step - loss: 0.0147 - accuracy: 0.9962 - val_loss: 0.0405 - val_accuracy: 0.9917\n",
      "Epoch 15/15\n",
      "1875/1875 [==============================] - 23s 12ms/step - loss: 0.0096 - accuracy: 0.9973 - val_loss: 0.0360 - val_accuracy: 0.9935\n"
     ]
    },
    {
     "data": {
      "image/png": "[encoded data removed]",
      "text/plain": [
       "<Figure size 432x288 with 1 Axes>"
      ]
     },
     "metadata": {
      "needs_background": "light"
     },
     "output_type": "display_data"
    }
   ],
   "source": [
    "# Model compile and fit\n",
    "r3 = compile_model(model3)\n",
    "\n",
    "# Loss plot\n",
    "create_loss_plot_per_iteration(r3)"
   ]
  },
  {
   "cell_type": "code",
   "execution_count": 20,
   "metadata": {
    "colab": {
     "base_uri": "https://localhost:8080/",
     "height": 265
    },
    "id": "836dkq3z99Fx",
    "outputId": "f3724847-2be8-4352-b14c-be9ebfd73156"
   },
   "outputs": [
    {
     "data": {
      "image/png": "[encoded data removed]",
      "text/plain": [
       "<Figure size 432x288 with 1 Axes>"
      ]
     },
     "metadata": {
      "needs_background": "light"
     },
     "output_type": "display_data"
    }
   ],
   "source": [
    "# Accuracy plot\n",
    "create_accuracy_plot_per_iteration(r3)"
   ]
  },
  {
   "cell_type": "markdown",
   "metadata": {
    "id": "Ad4e-SP999Fx"
   },
   "source": [
    "Confusion matrix and missclassfied examples"
   ]
  },
  {
   "cell_type": "code",
   "execution_count": 21,
   "metadata": {
    "colab": {
     "base_uri": "https://localhost:8080/"
    },
    "id": "9-btyT5u99Fy",
    "outputId": "7e49477c-cd45-4b6c-aa19-824bf08a6fb5"
   },
   "outputs": [
    {
     "name": "stdout",
     "output_type": "stream",
     "text": [
      "313/313 [==============================] - 2s 5ms/step - loss: 0.0360 - accuracy: 0.9935\n",
      "[0.03597318381071091, 0.9934999942779541]\n",
      "               Predicted Label\n",
      "[[ 974    0    2    0    0    0    0    0    2    2]\n",
      " [   0 1135    0    0    0    0    0    0    0    0]\n",
      " [   0    1 1031    0    0    0    0    0    0    0]\n",
      " [   0    0    1 1007    0    1    0    0    0    1]\n",
      " [   0    0    1    0  970    0    2    0    0    9]\n",
      " [   0    0    0    5    0  886    1    0    0    0]\n",
      " [   1    2    1    0    2    2  947    0    3    0]\n",
      " [   0    4    4    0    0    0    0 1018    0    2]\n",
      " [   0    1    1    2    0    0    0    0  969    1]\n",
      " [   0    0    0    0    4    4    0    3    0  998]]\n"
     ]
    }
   ],
   "source": [
    "y_pred = get_confusion_matrix(model3)"
   ]
  },
  {
   "cell_type": "code",
   "execution_count": 22,
   "metadata": {
    "colab": {
     "base_uri": "https://localhost:8080/",
     "height": 281
    },
    "id": "MFbqfZ8t99Fz",
    "outputId": "482ded15-f827-461a-a090-f4d007186ad2"
   },
   "outputs": [
    {
     "data": {
      "image/png": "[encoded data removed]",
      "text/plain": [
       "<Figure size 432x288 with 1 Axes>"
      ]
     },
     "metadata": {
      "needs_background": "light"
     },
     "output_type": "display_data"
    }
   ],
   "source": [
    "# Show missclassified examples\n",
    "show_missclassified_images(y_pred)"
   ]
  },
  {
   "cell_type": "markdown",
   "metadata": {
    "id": "O7Venx1U99Fz"
   },
   "source": [
    "**Model 3 summary:** Model 3 with convoloution layer and maxpooling gives test accuracy of 99.35% with minimum loss at 0.036. As per loss plot, trainining loss and validation loass starts plateauing from 2nd epoch hence model 3 is more generalized as compared to model 1 and model 2. As per accuracy plot, both training and validation accuracy starts plateauing from 2nd epoch."
   ]
  },
  {
   "cell_type": "markdown",
   "metadata": {
    "id": "RrmKXYJSh0Y5"
   },
   "source": [
    "Model 3 is more generalized as compared model 1 and model 2 with loss reduced further at 0.03, accuracy and loss curves are also more smoother."
   ]
  },
  {
   "cell_type": "markdown",
   "metadata": {
    "id": "E3hAgM8RiRxn"
   },
   "source": [
    "**Strid Conv models**"
   ]
  },
  {
   "cell_type": "markdown",
   "metadata": {
    "id": "VcyjZWqKlzA8"
   },
   "source": [
    "**Model 4 - CNN with one strided convolution layer**"
   ]
  },
  {
   "cell_type": "code",
   "execution_count": 23,
   "metadata": {
    "colab": {
     "base_uri": "https://localhost:8080/"
    },
    "id": "kN1ag3StD7Wb",
    "outputId": "febf6f23-e485-4d3a-8b25-e4452cade7f5"
   },
   "outputs": [
    {
     "name": "stdout",
     "output_type": "stream",
     "text": [
      "Model: \"model_3\"\n",
      "_________________________________________________________________\n",
      " Layer (type)                Output Shape              Param #   \n",
      "=================================================================\n",
      " input_4 (InputLayer)        [(None, 28, 28, 1)]       0         \n",
      "                                                                 \n",
      " conv2d_7 (Conv2D)           (None, 14, 14, 64)        640       \n",
      "                                                                 \n",
      " flatten_3 (Flatten)         (None, 12544)             0         \n",
      "                                                                 \n",
      " dense_6 (Dense)             (None, 512)               6423040   \n",
      "                                                                 \n",
      " dense_7 (Dense)             (None, 10)                5130      \n",
      "                                                                 \n",
      "=================================================================\n",
      "Total params: 6,428,810\n",
      "Trainable params: 6,428,810\n",
      "Non-trainable params: 0\n",
      "_________________________________________________________________\n"
     ]
    }
   ],
   "source": [
    "from typing import Sized\n",
    "# 32 - No of feature maps (changes with each conv layer)\n",
    "# MaxPolling2D\n",
    "# When we go from input layer to first ouput the depth is 1\n",
    "# 3,3 - filter Size\n",
    "# padding = same (no padding)\n",
    "\n",
    "# Stage1\n",
    "i = Input(shape=x_train[0].shape)\n",
    "x = Conv2D(64,(3, 3),strides = 2, activation='relu', padding='same')(i)\n",
    "\n",
    "#Stage2\n",
    "x = Flatten()(x)\n",
    "x = Dense(512, activation='relu')(x)\n",
    "x = Dense(K, activation='softmax')(x)\n",
    "\n",
    "model4 = Model(i, x)\n",
    "\n",
    "model4.summary()"
   ]
  },
  {
   "cell_type": "markdown",
   "metadata": {
    "id": "o-BE8GMqnJTt"
   },
   "source": [
    "Model compilation and loss/accuracy plots"
   ]
  },
  {
   "cell_type": "code",
   "execution_count": 24,
   "metadata": {
    "colab": {
     "base_uri": "https://localhost:8080/",
     "height": 786
    },
    "id": "i-DkYsCHnJTu",
    "outputId": "38cc0937-030b-4006-e8d1-2b7117d1677d"
   },
   "outputs": [
    {
     "name": "stdout",
     "output_type": "stream",
     "text": [
      "Epoch 1/15\n",
      "1875/1875 [==============================] - 16s 8ms/step - loss: 0.1418 - accuracy: 0.9572 - val_loss: 0.0702 - val_accuracy: 0.9768\n",
      "Epoch 2/15\n",
      "1875/1875 [==============================] - 16s 8ms/step - loss: 0.0429 - accuracy: 0.9865 - val_loss: 0.0516 - val_accuracy: 0.9822\n",
      "Epoch 3/15\n",
      "1875/1875 [==============================] - 16s 9ms/step - loss: 0.0214 - accuracy: 0.9930 - val_loss: 0.0576 - val_accuracy: 0.9831\n",
      "Epoch 4/15\n",
      "1875/1875 [==============================] - 16s 8ms/step - loss: 0.0124 - accuracy: 0.9959 - val_loss: 0.0597 - val_accuracy: 0.9829\n",
      "Epoch 5/15\n",
      "1875/1875 [==============================] - 16s 8ms/step - loss: 0.0090 - accuracy: 0.9967 - val_loss: 0.0628 - val_accuracy: 0.9847\n",
      "Epoch 6/15\n",
      "1875/1875 [==============================] - 16s 9ms/step - loss: 0.0065 - accuracy: 0.9979 - val_loss: 0.0594 - val_accuracy: 0.9844\n",
      "Epoch 7/15\n",
      "1875/1875 [==============================] - 16s 9ms/step - loss: 0.0060 - accuracy: 0.9979 - val_loss: 0.0834 - val_accuracy: 0.9806\n",
      "Epoch 8/15\n",
      "1875/1875 [==============================] - 16s 8ms/step - loss: 0.0043 - accuracy: 0.9988 - val_loss: 0.0897 - val_accuracy: 0.9796\n",
      "Epoch 9/15\n",
      "1875/1875 [==============================] - 16s 9ms/step - loss: 0.0040 - accuracy: 0.9986 - val_loss: 0.0868 - val_accuracy: 0.9831\n",
      "Epoch 10/15\n",
      "1875/1875 [==============================] - 16s 9ms/step - loss: 0.0028 - accuracy: 0.9991 - val_loss: 0.0954 - val_accuracy: 0.9829\n",
      "Epoch 11/15\n",
      "1875/1875 [==============================] - 16s 8ms/step - loss: 0.0042 - accuracy: 0.9987 - val_loss: 0.0915 - val_accuracy: 0.9845\n",
      "Epoch 12/15\n",
      "1875/1875 [==============================] - 16s 8ms/step - loss: 0.0031 - accuracy: 0.9990 - val_loss: 0.0935 - val_accuracy: 0.9836\n",
      "Epoch 13/15\n",
      "1875/1875 [==============================] - 16s 8ms/step - loss: 0.0029 - accuracy: 0.9992 - val_loss: 0.1190 - val_accuracy: 0.9821\n",
      "Epoch 14/15\n",
      "1875/1875 [==============================] - 16s 9ms/step - loss: 0.0037 - accuracy: 0.9989 - val_loss: 0.0896 - val_accuracy: 0.9845\n",
      "Epoch 15/15\n",
      "1875/1875 [==============================] - 16s 9ms/step - loss: 0.0022 - accuracy: 0.9993 - val_loss: 0.0997 - val_accuracy: 0.9852\n"
     ]
    },
    {
     "data": {
      "image/png": "[encoded data removed]",
      "text/plain": [
       "<Figure size 432x288 with 1 Axes>"
      ]
     },
     "metadata": {
      "needs_background": "light"
     },
     "output_type": "display_data"
    }
   ],
   "source": [
    "# Model compile and fit\n",
    "r4 = compile_model(model4)\n",
    "\n",
    "# Loss plot\n",
    "create_loss_plot_per_iteration(r4)"
   ]
  },
  {
   "cell_type": "code",
   "execution_count": 25,
   "metadata": {
    "colab": {
     "base_uri": "https://localhost:8080/",
     "height": 265
    },
    "id": "FKzrSAtGnJTu",
    "outputId": "82f9e47e-a1ac-4e86-a559-be14d4423685"
   },
   "outputs": [
    {
     "data": {
      "image/png": "[encoded data removed]",
      "text/plain": [
       "<Figure size 432x288 with 1 Axes>"
      ]
     },
     "metadata": {
      "needs_background": "light"
     },
     "output_type": "display_data"
    }
   ],
   "source": [
    "# Accuracy plot\n",
    "create_accuracy_plot_per_iteration(r4)"
   ]
  },
  {
   "cell_type": "markdown",
   "metadata": {
    "id": "QAUmqjpYnJTu"
   },
   "source": [
    "Confusion matrix and missclassfied examples"
   ]
  },
  {
   "cell_type": "code",
   "execution_count": 26,
   "metadata": {
    "colab": {
     "base_uri": "https://localhost:8080/"
    },
    "id": "nbJze9ngnJTv",
    "outputId": "d23f9f54-40bd-4f45-8b39-25f7fe75bf27"
   },
   "outputs": [
    {
     "name": "stdout",
     "output_type": "stream",
     "text": [
      "313/313 [==============================] - 1s 4ms/step - loss: 0.0997 - accuracy: 0.9852\n",
      "[0.09968660026788712, 0.9851999878883362]\n",
      "               Predicted Label\n",
      "[[ 975    0    1    0    0    0    3    1    0    0]\n",
      " [   0 1126    2    2    0    1    2    1    1    0]\n",
      " [   1    0 1018    0    0    0    1    6    4    2]\n",
      " [   0    0    0  993    0    5    0    4    6    2]\n",
      " [   0    0    3    0  965    0    5    0    1    8]\n",
      " [   0    0    1    6    0  879    6    0    0    0]\n",
      " [   2    2    0    1    2    1  948    0    2    0]\n",
      " [   0    1   12    1    0    0    0 1006    2    6]\n",
      " [   3    1    4    1    0    2    0    3  955    5]\n",
      " [   1    3    1    2    9    3    0    0    3  987]]\n"
     ]
    }
   ],
   "source": [
    "y_pred = get_confusion_matrix(model4)"
   ]
  },
  {
   "cell_type": "code",
   "execution_count": 27,
   "metadata": {
    "colab": {
     "base_uri": "https://localhost:8080/",
     "height": 281
    },
    "id": "r5-ossjsnJTv",
    "outputId": "713ad55d-c5cc-464e-8e03-6d68551bc105"
   },
   "outputs": [
    {
     "data": {
      "image/png": "[encoded data removed]",
      "text/plain": [
       "<Figure size 432x288 with 1 Axes>"
      ]
     },
     "metadata": {
      "needs_background": "light"
     },
     "output_type": "display_data"
    }
   ],
   "source": [
    "# Show missclassified examples\n",
    "show_missclassified_images(y_pred)"
   ]
  },
  {
   "cell_type": "markdown",
   "metadata": {
    "id": "evmpqPapnJTv"
   },
   "source": [
    "**Model 4 summary:** Model 4 with 1 strided convoloution layer gives test accuracy of 98.52% with minimum loss at 0.09. As per loss plot, trainining loss starts plateauing from 4th epoch but validation loss increases. As per accuracy plot, both training and validation accuracy starts plateauing from 4th epoch. Hence, to reduce overfitness it can be stopped at 4-5 epoch. As compared to model 1, model-1 is more generalized as validation loss is less at 0.06."
   ]
  },
  {
   "cell_type": "markdown",
   "metadata": {
    "id": "44wO8-MgpAz9"
   },
   "source": [
    "**Model 5 - two conv-pools with two strided convolution layer**"
   ]
  },
  {
   "cell_type": "code",
   "execution_count": 28,
   "metadata": {
    "colab": {
     "base_uri": "https://localhost:8080/"
    },
    "id": "saUBW634pAz-",
    "outputId": "4dad7164-e260-4857-b6db-112333ed6317"
   },
   "outputs": [
    {
     "name": "stdout",
     "output_type": "stream",
     "text": [
      "Model: \"model_4\"\n",
      "_________________________________________________________________\n",
      " Layer (type)                Output Shape              Param #   \n",
      "=================================================================\n",
      " input_5 (InputLayer)        [(None, 28, 28, 1)]       0         \n",
      "                                                                 \n",
      " conv2d_8 (Conv2D)           (None, 14, 14, 64)        1664      \n",
      "                                                                 \n",
      " conv2d_9 (Conv2D)           (None, 7, 7, 128)         204928    \n",
      "                                                                 \n",
      " flatten_4 (Flatten)         (None, 6272)              0         \n",
      "                                                                 \n",
      " dense_8 (Dense)             (None, 512)               3211776   \n",
      "                                                                 \n",
      " dense_9 (Dense)             (None, 10)                5130      \n",
      "                                                                 \n",
      "=================================================================\n",
      "Total params: 3,423,498\n",
      "Trainable params: 3,423,498\n",
      "Non-trainable params: 0\n",
      "_________________________________________________________________\n"
     ]
    }
   ],
   "source": [
    "from typing import Sized\n",
    "# 64 - No of feature maps (changes with each conv layer)\n",
    "# MaxPolling2D\n",
    "# When we go from input layer to first ouput the depth is 1\n",
    "# 5,5 - filter Size\n",
    "# padding = same (no padding)\n",
    "\n",
    "# Stage1\n",
    "i = Input(shape=x_train[0].shape)\n",
    "x = Conv2D(64, (5, 5),strides=2, activation='relu', padding='same')(i)\n",
    "x = Conv2D(128, (5, 5),strides=2, activation='relu', padding='same')(x)\n",
    "\n",
    "#Stage2\n",
    "x = Flatten()(x)\n",
    "x = Dense(512, activation='relu')(x)\n",
    "x = Dense(K, activation='softmax')(x)\n",
    "\n",
    "model5 = Model(i, x)\n",
    "\n",
    "model5.summary()"
   ]
  },
  {
   "cell_type": "markdown",
   "metadata": {
    "id": "jayLECLOpA0A"
   },
   "source": [
    "Model compilation and loss/accuracy plots"
   ]
  },
  {
   "cell_type": "code",
   "execution_count": 29,
   "metadata": {
    "colab": {
     "base_uri": "https://localhost:8080/",
     "height": 786
    },
    "id": "RLCw7NSypA0A",
    "outputId": "c4228634-f1c9-4630-d6b4-6e159d538471"
   },
   "outputs": [
    {
     "name": "stdout",
     "output_type": "stream",
     "text": [
      "Epoch 1/15\n",
      "1875/1875 [==============================] - 21s 11ms/step - loss: 0.1069 - accuracy: 0.9674 - val_loss: 0.0451 - val_accuracy: 0.9855\n",
      "Epoch 2/15\n",
      "1875/1875 [==============================] - 21s 11ms/step - loss: 0.0387 - accuracy: 0.9879 - val_loss: 0.0456 - val_accuracy: 0.9855\n",
      "Epoch 3/15\n",
      "1875/1875 [==============================] - 21s 11ms/step - loss: 0.0228 - accuracy: 0.9930 - val_loss: 0.0350 - val_accuracy: 0.9885\n",
      "Epoch 4/15\n",
      "1875/1875 [==============================] - 20s 11ms/step - loss: 0.0186 - accuracy: 0.9942 - val_loss: 0.0399 - val_accuracy: 0.9879\n",
      "Epoch 5/15\n",
      "1875/1875 [==============================] - 20s 11ms/step - loss: 0.0129 - accuracy: 0.9957 - val_loss: 0.0398 - val_accuracy: 0.9891\n",
      "Epoch 6/15\n",
      "1875/1875 [==============================] - 20s 11ms/step - loss: 0.0109 - accuracy: 0.9965 - val_loss: 0.0350 - val_accuracy: 0.9909\n",
      "Epoch 7/15\n",
      "1875/1875 [==============================] - 21s 11ms/step - loss: 0.0088 - accuracy: 0.9973 - val_loss: 0.0550 - val_accuracy: 0.9862\n",
      "Epoch 8/15\n",
      "1875/1875 [==============================] - 20s 11ms/step - loss: 0.0085 - accuracy: 0.9975 - val_loss: 0.0520 - val_accuracy: 0.9882\n",
      "Epoch 9/15\n",
      "1875/1875 [==============================] - 21s 11ms/step - loss: 0.0082 - accuracy: 0.9979 - val_loss: 0.0530 - val_accuracy: 0.9880\n",
      "Epoch 10/15\n",
      "1875/1875 [==============================] - 21s 11ms/step - loss: 0.0081 - accuracy: 0.9977 - val_loss: 0.0646 - val_accuracy: 0.9871\n",
      "Epoch 11/15\n",
      "1875/1875 [==============================] - 21s 11ms/step - loss: 0.0071 - accuracy: 0.9980 - val_loss: 0.0834 - val_accuracy: 0.9856\n",
      "Epoch 12/15\n",
      "1875/1875 [==============================] - 21s 11ms/step - loss: 0.0050 - accuracy: 0.9986 - val_loss: 0.0683 - val_accuracy: 0.9890\n",
      "Epoch 13/15\n",
      "1875/1875 [==============================] - 21s 11ms/step - loss: 0.0060 - accuracy: 0.9985 - val_loss: 0.0935 - val_accuracy: 0.9837\n",
      "Epoch 14/15\n",
      "1875/1875 [==============================] - 21s 11ms/step - loss: 0.0071 - accuracy: 0.9981 - val_loss: 0.0576 - val_accuracy: 0.9899\n",
      "Epoch 15/15\n",
      "1875/1875 [==============================] - 21s 11ms/step - loss: 0.0066 - accuracy: 0.9986 - val_loss: 0.0639 - val_accuracy: 0.9887\n"
     ]
    },
    {
     "data": {
      "image/png": "[encoded data removed]",
      "text/plain": [
       "<Figure size 432x288 with 1 Axes>"
      ]
     },
     "metadata": {
      "needs_background": "light"
     },
     "output_type": "display_data"
    }
   ],
   "source": [
    "# Model compile and fit\n",
    "r5 = compile_model(model5)\n",
    "\n",
    "# Loss plot\n",
    "create_loss_plot_per_iteration(r5)"
   ]
  },
  {
   "cell_type": "code",
   "execution_count": 30,
   "metadata": {
    "colab": {
     "base_uri": "https://localhost:8080/",
     "height": 268
    },
    "id": "3Y-iRpN7pA0B",
    "outputId": "e9ea28e7-6f31-4480-e865-93bc0db1f6ce"
   },
   "outputs": [
    {
     "data": {
      "image/png": "[encoded data removed]",
      "text/plain": [
       "<Figure size 432x288 with 1 Axes>"
      ]
     },
     "metadata": {
      "needs_background": "light"
     },
     "output_type": "display_data"
    }
   ],
   "source": [
    "# Accuracy plot\n",
    "create_accuracy_plot_per_iteration(r5)"
   ]
  },
  {
   "cell_type": "markdown",
   "metadata": {
    "id": "6gaKyppSpA0C"
   },
   "source": [
    "Confusion matrix and missclassfied examples"
   ]
  },
  {
   "cell_type": "code",
   "execution_count": 31,
   "metadata": {
    "colab": {
     "base_uri": "https://localhost:8080/"
    },
    "id": "zKfkyrcApA0C",
    "outputId": "becef476-8d2c-49d5-dd04-b651e1f469d4"
   },
   "outputs": [
    {
     "name": "stdout",
     "output_type": "stream",
     "text": [
      "313/313 [==============================] - 2s 5ms/step - loss: 0.0639 - accuracy: 0.9887\n",
      "[0.06392952799797058, 0.9886999726295471]\n",
      "               Predicted Label\n",
      "[[ 977    1    1    0    0    0    0    1    0    0]\n",
      " [   0 1129    1    3    0    0    1    1    0    0]\n",
      " [   1    0 1027    0    0    0    0    2    2    0]\n",
      " [   0    0    7  988    0    4    0    5    1    5]\n",
      " [   0    0    1    0  966    0    3    0    1   11]\n",
      " [   2    0    0    7    0  878    2    1    0    2]\n",
      " [   4    2    2    1    0    2  947    0    0    0]\n",
      " [   0    2   12    0    0    0    0 1011    0    3]\n",
      " [   1    0    1    1    1    2    0    1  962    5]\n",
      " [   0    0    1    0    4    1    0    0    1 1002]]\n"
     ]
    }
   ],
   "source": [
    "y_pred = get_confusion_matrix(model5)"
   ]
  },
  {
   "cell_type": "code",
   "execution_count": 66,
   "metadata": {
    "colab": {
     "base_uri": "https://localhost:8080/",
     "height": 281
    },
    "id": "gJJTMRhOpA0D",
    "outputId": "4a6a8468-87b0-4b63-db74-bcbc0cf52061"
   },
   "outputs": [
    {
     "data": {
      "image/png": "[encoded data removed]",
      "text/plain": [
       "<Figure size 432x288 with 1 Axes>"
      ]
     },
     "metadata": {
      "needs_background": "light"
     },
     "output_type": "display_data"
    }
   ],
   "source": [
    "# Show missclassified examples\n",
    "show_missclassified_images(y_pred)"
   ]
  },
  {
   "cell_type": "markdown",
   "metadata": {
    "id": "7Kkx_5M2pA0D"
   },
   "source": [
    "**Model 5 summary:** Model 5 with convoloution layer gives test accuracy of 98.87% with loss at 0.06. As per loss plot, trainining loss starts plateauing from 3rd epoch but validation loss starts increasing, hence model is becoming overfit and not stable due to fluctuation. As per accuracy plot, both training and validation accuracy starts plateauing from 3rd epoch. Both model5 and model2 gives loss at 0.06 but model2 is more generalized thann model5."
   ]
  },
  {
   "cell_type": "markdown",
   "metadata": {
    "id": "UQ5mHozoqiv5"
   },
   "source": [
    "**Model 6 - two conv-pools with two strided convolution layer, with drops outs and more dense layers**"
   ]
  },
  {
   "cell_type": "code",
   "execution_count": 32,
   "metadata": {
    "colab": {
     "base_uri": "https://localhost:8080/"
    },
    "id": "mN5sNUiYqiv6",
    "outputId": "831a44f2-9ac0-42fa-9209-66b906499698"
   },
   "outputs": [
    {
     "name": "stdout",
     "output_type": "stream",
     "text": [
      "Model: \"model_5\"\n",
      "_________________________________________________________________\n",
      " Layer (type)                Output Shape              Param #   \n",
      "=================================================================\n",
      " input_6 (InputLayer)        [(None, 28, 28, 1)]       0         \n",
      "                                                                 \n",
      " conv2d_10 (Conv2D)          (None, 14, 14, 64)        1664      \n",
      "                                                                 \n",
      " conv2d_11 (Conv2D)          (None, 7, 7, 128)         204928    \n",
      "                                                                 \n",
      " conv2d_12 (Conv2D)          (None, 4, 4, 256)         819456    \n",
      "                                                                 \n",
      " conv2d_13 (Conv2D)          (None, 2, 2, 512)         3277312   \n",
      "                                                                 \n",
      " flatten_5 (Flatten)         (None, 2048)              0         \n",
      "                                                                 \n",
      " dropout_2 (Dropout)         (None, 2048)              0         \n",
      "                                                                 \n",
      " dense_10 (Dense)            (None, 512)               1049088   \n",
      "                                                                 \n",
      " dropout_3 (Dropout)         (None, 512)               0         \n",
      "                                                                 \n",
      " dense_11 (Dense)            (None, 1024)              525312    \n",
      "                                                                 \n",
      " dropout_4 (Dropout)         (None, 1024)              0         \n",
      "                                                                 \n",
      " dense_12 (Dense)            (None, 10)                10250     \n",
      "                                                                 \n",
      "=================================================================\n",
      "Total params: 5,888,010\n",
      "Trainable params: 5,888,010\n",
      "Non-trainable params: 0\n",
      "_________________________________________________________________\n"
     ]
    }
   ],
   "source": [
    "from typing import Sized\n",
    "# 64 - No of feature maps (changes with each conv layer)\n",
    "# MaxPolling2D\n",
    "# When we go from input layer to first ouput the depth is 1\n",
    "# 5,5 - filter Size\n",
    "# padding = same (no padding)\n",
    "\n",
    "# Stage1\n",
    "i = Input(shape=x_train[0].shape)\n",
    "x = Conv2D(64, (5, 5), activation='relu', strides=2, padding='same')(i)\n",
    "x = Conv2D(128, (5, 5), activation='relu', strides=2, padding='same')(x)\n",
    "x = Conv2D(256, (5, 5), activation='relu', strides=2, padding='same')(x)\n",
    "x = Conv2D(512, (5, 5), activation='relu', strides=2, padding='same')(x)\n",
    "\n",
    "#Stage2\n",
    "x = Flatten()(x)\n",
    "x = Dropout(0.2)(x)\n",
    "x = Dense(512, activation='relu')(x)\n",
    "x = Dropout(0.2)(x)\n",
    "x = Dense(1024, activation='relu')(x)\n",
    "x = Dropout(0.2)(x)\n",
    "x = Dense(K, activation='softmax')(x)\n",
    "\n",
    "model6 = Model(i, x)\n",
    "\n",
    "model6.summary()"
   ]
  },
  {
   "cell_type": "markdown",
   "metadata": {
    "id": "lSMk4wwTqiv8"
   },
   "source": [
    "Model compilation and loss/accuracy plots"
   ]
  },
  {
   "cell_type": "code",
   "execution_count": 33,
   "metadata": {
    "colab": {
     "base_uri": "https://localhost:8080/",
     "height": 786
    },
    "id": "R6AWne8Oqiv9",
    "outputId": "adfa4d51-b9cb-43ea-8abe-e6e1b1e3bf4d"
   },
   "outputs": [
    {
     "name": "stdout",
     "output_type": "stream",
     "text": [
      "Epoch 1/15\n",
      "1875/1875 [==============================] - 89s 47ms/step - loss: 0.1676 - accuracy: 0.9519 - val_loss: 0.0692 - val_accuracy: 0.9812\n",
      "Epoch 2/15\n",
      "1875/1875 [==============================] - 88s 47ms/step - loss: 0.0711 - accuracy: 0.9824 - val_loss: 0.0663 - val_accuracy: 0.9837\n",
      "Epoch 3/15\n",
      "1875/1875 [==============================] - 88s 47ms/step - loss: 0.0534 - accuracy: 0.9865 - val_loss: 0.0557 - val_accuracy: 0.9878\n",
      "Epoch 4/15\n",
      "1875/1875 [==============================] - 88s 47ms/step - loss: 0.0497 - accuracy: 0.9886 - val_loss: 0.0445 - val_accuracy: 0.9898\n",
      "Epoch 5/15\n",
      "1875/1875 [==============================] - 91s 48ms/step - loss: 0.0357 - accuracy: 0.9919 - val_loss: 0.0733 - val_accuracy: 0.9846\n",
      "Epoch 6/15\n",
      "1875/1875 [==============================] - 91s 49ms/step - loss: 0.0348 - accuracy: 0.9922 - val_loss: 0.0451 - val_accuracy: 0.9910\n",
      "Epoch 7/15\n",
      "1875/1875 [==============================] - 91s 48ms/step - loss: 0.0280 - accuracy: 0.9935 - val_loss: 0.0786 - val_accuracy: 0.9864\n",
      "Epoch 8/15\n",
      "1875/1875 [==============================] - 88s 47ms/step - loss: 0.0330 - accuracy: 0.9932 - val_loss: 0.0546 - val_accuracy: 0.9878\n",
      "Epoch 9/15\n",
      "1875/1875 [==============================] - 88s 47ms/step - loss: 0.0291 - accuracy: 0.9942 - val_loss: 0.0628 - val_accuracy: 0.9876\n",
      "Epoch 10/15\n",
      "1875/1875 [==============================] - 91s 48ms/step - loss: 0.0248 - accuracy: 0.9951 - val_loss: 0.0634 - val_accuracy: 0.9853\n",
      "Epoch 11/15\n",
      "1875/1875 [==============================] - 88s 47ms/step - loss: 0.0227 - accuracy: 0.9950 - val_loss: 0.1109 - val_accuracy: 0.9867\n",
      "Epoch 12/15\n",
      "1875/1875 [==============================] - 88s 47ms/step - loss: 0.0358 - accuracy: 0.9941 - val_loss: 0.0654 - val_accuracy: 0.9878\n",
      "Epoch 13/15\n",
      "1875/1875 [==============================] - 91s 49ms/step - loss: 0.0209 - accuracy: 0.9956 - val_loss: 0.0676 - val_accuracy: 0.9892\n",
      "Epoch 14/15\n",
      "1875/1875 [==============================] - 88s 47ms/step - loss: 0.0280 - accuracy: 0.9950 - val_loss: 0.0754 - val_accuracy: 0.9879\n",
      "Epoch 15/15\n",
      "1875/1875 [==============================] - 91s 49ms/step - loss: 0.0248 - accuracy: 0.9956 - val_loss: 0.1635 - val_accuracy: 0.9883\n"
     ]
    },
    {
     "data": {
      "image/png": "[encoded data removed]",
      "text/plain": [
       "<Figure size 432x288 with 1 Axes>"
      ]
     },
     "metadata": {
      "needs_background": "light"
     },
     "output_type": "display_data"
    }
   ],
   "source": [
    "# Model compile and fit\n",
    "r6 = compile_model(model6)\n",
    "\n",
    "# Loss plot\n",
    "create_loss_plot_per_iteration(r6)"
   ]
  },
  {
   "cell_type": "code",
   "execution_count": 34,
   "metadata": {
    "colab": {
     "base_uri": "https://localhost:8080/",
     "height": 265
    },
    "id": "lp8cXyPMqiv-",
    "outputId": "5bef33e4-2b86-4bd8-dbb1-db9dca81ff6b"
   },
   "outputs": [
    {
     "data": {
      "image/png": "[encoded data removed]",
      "text/plain": [
       "<Figure size 432x288 with 1 Axes>"
      ]
     },
     "metadata": {
      "needs_background": "light"
     },
     "output_type": "display_data"
    }
   ],
   "source": [
    "# Accuracy plot\n",
    "create_accuracy_plot_per_iteration(r6)"
   ]
  },
  {
   "cell_type": "markdown",
   "metadata": {
    "id": "zm9W84OCqiv-"
   },
   "source": [
    "Confusion matrix and missclassfied examples"
   ]
  },
  {
   "cell_type": "code",
   "execution_count": 35,
   "metadata": {
    "colab": {
     "base_uri": "https://localhost:8080/"
    },
    "id": "ZTyahIOxqiv_",
    "outputId": "d5f2f13a-5f35-4209-ef76-a04cad4a1496"
   },
   "outputs": [
    {
     "name": "stdout",
     "output_type": "stream",
     "text": [
      "313/313 [==============================] - 3s 10ms/step - loss: 0.1635 - accuracy: 0.9883\n",
      "[0.16350774466991425, 0.9883000254631042]\n",
      "               Predicted Label\n",
      "[[ 979    0    0    0    0    0    0    1    0    0]\n",
      " [   2 1130    0    0    0    1    1    1    0    0]\n",
      " [   1    0 1026    0    0    0    0    4    1    0]\n",
      " [   0    0    1  999    0    7    0    2    1    0]\n",
      " [   1    1    4    0  945    0    4    0    2   25]\n",
      " [   1    0    0    4    0  884    1    0    0    2]\n",
      " [   5    2    0    0    1    1  948    0    1    0]\n",
      " [   0    2    7    0    0    0    0 1019    0    0]\n",
      " [   1    0    4    1    0    3    0    1  957    7]\n",
      " [   0    1    0    0    2    9    0    1    0  996]]\n"
     ]
    }
   ],
   "source": [
    "y_pred = get_confusion_matrix(model6)"
   ]
  },
  {
   "cell_type": "code",
   "execution_count": 36,
   "metadata": {
    "colab": {
     "base_uri": "https://localhost:8080/",
     "height": 281
    },
    "id": "CksRLvuaqiv_",
    "outputId": "b6f7de7c-9065-46af-9e5f-4c58d4c19a1a"
   },
   "outputs": [
    {
     "data": {
      "image/png": "[encoded data removed]",
      "text/plain": [
       "<Figure size 432x288 with 1 Axes>"
      ]
     },
     "metadata": {
      "needs_background": "light"
     },
     "output_type": "display_data"
    }
   ],
   "source": [
    "# Show missclassified examples\n",
    "show_missclassified_images(y_pred)"
   ]
  },
  {
   "cell_type": "markdown",
   "metadata": {
    "id": "N69RCt1oqiwA"
   },
   "source": [
    "**Model 6 summary:** Model 6 with strided convoloution layer gives test accuracy of 98.83% with loss at 0.1632. As per loss plot, trainining loss starts plateauing from 4th epoch but validation loss starts increasing, hence model is becoming overfit. As per accuracy plot, both training and validation accuracy starts plateauing from 4th epoch. Hence, to reduce overfitness it can be stopped at 4th epoch itself. Model 3 performs better than model 6 with reduced validation loss at 0.036 with same accuracy and less complexity.\n"
   ]
  },
  {
   "cell_type": "markdown",
   "metadata": {
    "id": "w4UEzeW04BGu"
   },
   "source": [
    "**Image Data Augmentation**"
   ]
  },
  {
   "cell_type": "markdown",
   "metadata": {
    "id": "2EUTE7QU4Khq"
   },
   "source": [
    "Best performing model is model 3. Hence using model 3 for building model 7 (with batch normalization) and model 8 (with image data augmentation)."
   ]
  },
  {
   "cell_type": "markdown",
   "metadata": {
    "id": "7ysOXUS34cRg"
   },
   "source": [
    "**Model 7** - Modifying model3 with batch normalozation"
   ]
  },
  {
   "cell_type": "code",
   "execution_count": 37,
   "metadata": {
    "colab": {
     "base_uri": "https://localhost:8080/"
    },
    "id": "KwTmygdR386k",
    "outputId": "58788c57-8adf-468c-a774-f7e12f729d58"
   },
   "outputs": [
    {
     "name": "stdout",
     "output_type": "stream",
     "text": [
      "Model: \"model_6\"\n",
      "_________________________________________________________________\n",
      " Layer (type)                Output Shape              Param #   \n",
      "=================================================================\n",
      " input_7 (InputLayer)        [(None, 28, 28, 1)]       0         \n",
      "                                                                 \n",
      " conv2d_14 (Conv2D)          (None, 28, 28, 32)        320       \n",
      "                                                                 \n",
      " batch_normalization (BatchN  (None, 28, 28, 32)       128       \n",
      " ormalization)                                                   \n",
      "                                                                 \n",
      " conv2d_15 (Conv2D)          (None, 28, 28, 64)        18496     \n",
      "                                                                 \n",
      " batch_normalization_1 (Batc  (None, 28, 28, 64)       256       \n",
      " hNormalization)                                                 \n",
      "                                                                 \n",
      " max_pooling2d_7 (MaxPooling  (None, 14, 14, 64)       0         \n",
      " 2D)                                                             \n",
      "                                                                 \n",
      " conv2d_16 (Conv2D)          (None, 14, 14, 128)       73856     \n",
      "                                                                 \n",
      " batch_normalization_2 (Batc  (None, 14, 14, 128)      512       \n",
      " hNormalization)                                                 \n",
      "                                                                 \n",
      " conv2d_17 (Conv2D)          (None, 14, 14, 256)       295168    \n",
      "                                                                 \n",
      " batch_normalization_3 (Batc  (None, 14, 14, 256)      1024      \n",
      " hNormalization)                                                 \n",
      "                                                                 \n",
      " max_pooling2d_8 (MaxPooling  (None, 7, 7, 256)        0         \n",
      " 2D)                                                             \n",
      "                                                                 \n",
      " flatten_6 (Flatten)         (None, 12544)             0         \n",
      "                                                                 \n",
      " dropout_5 (Dropout)         (None, 12544)             0         \n",
      "                                                                 \n",
      " dense_13 (Dense)            (None, 512)               6423040   \n",
      "                                                                 \n",
      " dropout_6 (Dropout)         (None, 512)               0         \n",
      "                                                                 \n",
      " dense_14 (Dense)            (None, 10)                5130      \n",
      "                                                                 \n",
      "=================================================================\n",
      "Total params: 6,817,930\n",
      "Trainable params: 6,816,970\n",
      "Non-trainable params: 960\n",
      "_________________________________________________________________\n"
     ]
    }
   ],
   "source": [
    "from typing import Sized\n",
    "# 256 - No of feature maps (changes with each conv layer)\n",
    "# MaxPolling2D\n",
    "# 3,3 - filter Size\n",
    "# padding = same (no padding)\n",
    "\n",
    "# Stage1\n",
    "i = Input(shape=x_train[0].shape)\n",
    "x = Conv2D(32, (3, 3), activation='relu', padding='same')(i)\n",
    "x = BatchNormalization()(x)\n",
    "x = Conv2D(64, (3, 3), activation='relu', padding='same')(x)\n",
    "x = BatchNormalization()(x)\n",
    "x = MaxPooling2D((2,2))(x)\n",
    "x = Conv2D(128, (3, 3), activation='relu', padding='same')(x)\n",
    "x = BatchNormalization()(x)\n",
    "x = Conv2D(256, (3, 3), activation='relu', padding='same')(x)\n",
    "x = BatchNormalization()(x)\n",
    "x = MaxPooling2D((2,2))(x)\n",
    "\n",
    "#Stage2\n",
    "x = Flatten()(x)\n",
    "x = Dropout(0.2)(x)\n",
    "x = Dense(512, activation='relu')(x)\n",
    "x = Dropout(0.2)(x)\n",
    "x = Dense(K, activation='softmax')(x)\n",
    "\n",
    "model7 = Model(i, x)\n",
    "\n",
    "model7.summary()"
   ]
  },
  {
   "cell_type": "markdown",
   "metadata": {
    "id": "Fs9u-Ah_DRiY"
   },
   "source": [
    "Model compilation and loss/accuracy plots"
   ]
  },
  {
   "cell_type": "code",
   "execution_count": 38,
   "metadata": {
    "colab": {
     "base_uri": "https://localhost:8080/",
     "height": 786
    },
    "id": "tfbo790gDRiZ",
    "outputId": "4b4d40a7-3b31-4fba-df5a-716651f94679"
   },
   "outputs": [
    {
     "name": "stdout",
     "output_type": "stream",
     "text": [
      "Epoch 1/15\n",
      "1875/1875 [==============================] - 54s 28ms/step - loss: 0.2366 - accuracy: 0.9520 - val_loss: 0.0563 - val_accuracy: 0.9843\n",
      "Epoch 2/15\n",
      "1875/1875 [==============================] - 52s 28ms/step - loss: 0.0838 - accuracy: 0.9782 - val_loss: 0.0654 - val_accuracy: 0.9824\n",
      "Epoch 3/15\n",
      "1875/1875 [==============================] - 52s 28ms/step - loss: 0.0653 - accuracy: 0.9837 - val_loss: 0.0508 - val_accuracy: 0.9876\n",
      "Epoch 4/15\n",
      "1875/1875 [==============================] - 52s 28ms/step - loss: 0.0659 - accuracy: 0.9847 - val_loss: 0.0540 - val_accuracy: 0.9871\n",
      "Epoch 5/15\n",
      "1875/1875 [==============================] - 52s 28ms/step - loss: 0.0487 - accuracy: 0.9885 - val_loss: 0.0354 - val_accuracy: 0.9913\n",
      "Epoch 6/15\n",
      "1875/1875 [==============================] - 53s 28ms/step - loss: 0.0448 - accuracy: 0.9893 - val_loss: 0.0397 - val_accuracy: 0.9898\n",
      "Epoch 7/15\n",
      "1875/1875 [==============================] - 52s 28ms/step - loss: 0.0337 - accuracy: 0.9912 - val_loss: 0.0354 - val_accuracy: 0.9916\n",
      "Epoch 8/15\n",
      "1875/1875 [==============================] - 52s 28ms/step - loss: 0.0359 - accuracy: 0.9917 - val_loss: 0.0393 - val_accuracy: 0.9921\n",
      "Epoch 9/15\n",
      "1875/1875 [==============================] - 53s 28ms/step - loss: 0.0295 - accuracy: 0.9927 - val_loss: 0.0291 - val_accuracy: 0.9936\n",
      "Epoch 10/15\n",
      "1875/1875 [==============================] - 53s 28ms/step - loss: 0.0236 - accuracy: 0.9941 - val_loss: 0.0387 - val_accuracy: 0.9925\n",
      "Epoch 11/15\n",
      "1875/1875 [==============================] - 53s 28ms/step - loss: 0.0214 - accuracy: 0.9949 - val_loss: 0.0352 - val_accuracy: 0.9939\n",
      "Epoch 12/15\n",
      "1875/1875 [==============================] - 53s 28ms/step - loss: 0.0207 - accuracy: 0.9953 - val_loss: 0.0291 - val_accuracy: 0.9928\n",
      "Epoch 13/15\n",
      "1875/1875 [==============================] - 53s 28ms/step - loss: 0.0185 - accuracy: 0.9955 - val_loss: 0.0365 - val_accuracy: 0.9922\n",
      "Epoch 14/15\n",
      "1875/1875 [==============================] - 53s 28ms/step - loss: 0.0158 - accuracy: 0.9961 - val_loss: 0.0369 - val_accuracy: 0.9939\n",
      "Epoch 15/15\n",
      "1875/1875 [==============================] - 53s 28ms/step - loss: 0.0153 - accuracy: 0.9961 - val_loss: 0.0417 - val_accuracy: 0.9918\n"
     ]
    },
    {
     "data": {
      "image/png": "[encoded data removed]",
      "text/plain": [
       "<Figure size 432x288 with 1 Axes>"
      ]
     },
     "metadata": {
      "needs_background": "light"
     },
     "output_type": "display_data"
    }
   ],
   "source": [
    "# Model compile and fit\n",
    "r7 = compile_model(model7)\n",
    "\n",
    "# Loss plot\n",
    "create_loss_plot_per_iteration(r7)"
   ]
  },
  {
   "cell_type": "code",
   "execution_count": 39,
   "metadata": {
    "colab": {
     "base_uri": "https://localhost:8080/",
     "height": 265
    },
    "id": "TlgsYmr_DRia",
    "outputId": "ac2137cf-4c07-4dcf-83f1-82f4a7a17774"
   },
   "outputs": [
    {
     "data": {
      "image/png": "[encoded data removed]",
      "text/plain": [
       "<Figure size 432x288 with 1 Axes>"
      ]
     },
     "metadata": {
      "needs_background": "light"
     },
     "output_type": "display_data"
    }
   ],
   "source": [
    "# Accuracy plot\n",
    "create_accuracy_plot_per_iteration(r7)"
   ]
  },
  {
   "cell_type": "markdown",
   "metadata": {
    "id": "ZCcz1ULmDRia"
   },
   "source": [
    "Confusion matrix and missclassfied examples"
   ]
  },
  {
   "cell_type": "code",
   "execution_count": 40,
   "metadata": {
    "colab": {
     "base_uri": "https://localhost:8080/"
    },
    "id": "JOXD3l9hDRib",
    "outputId": "5242bb39-2053-4eb6-f7df-da9fb2cbd47e"
   },
   "outputs": [
    {
     "name": "stdout",
     "output_type": "stream",
     "text": [
      "313/313 [==============================] - 3s 9ms/step - loss: 0.0417 - accuracy: 0.9918\n",
      "[0.0416942797601223, 0.9918000102043152]\n",
      "               Predicted Label\n",
      "[[ 977    0    0    0    0    0    1    0    0    2]\n",
      " [   0 1131    0    2    0    0    0    2    0    0]\n",
      " [   0    0 1023    2    0    0    0    7    0    0]\n",
      " [   0    0    0 1005    0    5    0    0    0    0]\n",
      " [   0    0    0    0  975    0    0    1    0    6]\n",
      " [   0    0    0    4    0  886    1    1    0    0]\n",
      " [   3    3    1    0    2    4  945    0    0    0]\n",
      " [   0    3    2    0    0    0    0 1022    0    1]\n",
      " [   3    1    2    2    1    7    0    0  952    6]\n",
      " [   0    0    0    0    4    3    0    0    0 1002]]\n"
     ]
    }
   ],
   "source": [
    "y_pred = get_confusion_matrix(model7)"
   ]
  },
  {
   "cell_type": "code",
   "execution_count": 41,
   "metadata": {
    "colab": {
     "base_uri": "https://localhost:8080/",
     "height": 281
    },
    "id": "gDrQDd6hDRib",
    "outputId": "f3330d80-26df-41f7-fb7c-8848d9ec014b"
   },
   "outputs": [
    {
     "data": {
      "image/png": "[encoded data removed]",
      "text/plain": [
       "<Figure size 432x288 with 1 Axes>"
      ]
     },
     "metadata": {
      "needs_background": "light"
     },
     "output_type": "display_data"
    }
   ],
   "source": [
    "# Show missclassified examples\n",
    "show_missclassified_images(y_pred)"
   ]
  },
  {
   "cell_type": "markdown",
   "metadata": {
    "id": "HoGMDpAwDRib"
   },
   "source": [
    "**Model 7 summary:** Model 7 with batch normalization gives validation loss at 0.04 at 99.18% accuracy. The accuracy and loss plots are more smoother as compared to model 3 and can be stopped at epoch 6-7 to reduce loss further 0.02. Although, their is not much significant improvement in loss."
   ]
  },
  {
   "cell_type": "markdown",
   "metadata": {
    "id": "uUNA671UDn43"
   },
   "source": [
    "**Model 8 - Modifying model 3 with image data augmentation**"
   ]
  },
  {
   "cell_type": "code",
   "execution_count": 42,
   "metadata": {
    "id": "Br00UjAUDllD"
   },
   "outputs": [],
   "source": [
    "batch_size = 32\n",
    "data_generator = tf.keras.preprocessing.image.ImageDataGenerator(\n",
    "      width_shift_range = 0.1,\n",
    "      height_shift_range=0.1,\n",
    "      horizontal_flip=True\n",
    ")\n",
    "train_generator = data_generator.flow(x_train,y_train,batch_size)\n",
    "steps_per_epoch = x_train.shape[0] // batch_size"
   ]
  },
  {
   "cell_type": "code",
   "execution_count": 43,
   "metadata": {
    "colab": {
     "base_uri": "https://localhost:8080/"
    },
    "id": "Qle4I0ZXEut6",
    "outputId": "5a3bbe3e-eefa-4d12-b2f9-af0f2ec9cfa8"
   },
   "outputs": [
    {
     "name": "stdout",
     "output_type": "stream",
     "text": [
      "Model: \"model_7\"\n",
      "_________________________________________________________________\n",
      " Layer (type)                Output Shape              Param #   \n",
      "=================================================================\n",
      " input_8 (InputLayer)        [(None, 28, 28, 1)]       0         \n",
      "                                                                 \n",
      " conv2d_18 (Conv2D)          (None, 28, 28, 32)        320       \n",
      "                                                                 \n",
      " max_pooling2d_9 (MaxPooling  (None, 14, 14, 32)       0         \n",
      " 2D)                                                             \n",
      "                                                                 \n",
      " conv2d_19 (Conv2D)          (None, 14, 14, 64)        18496     \n",
      "                                                                 \n",
      " max_pooling2d_10 (MaxPoolin  (None, 7, 7, 64)         0         \n",
      " g2D)                                                            \n",
      "                                                                 \n",
      " conv2d_20 (Conv2D)          (None, 7, 7, 128)         73856     \n",
      "                                                                 \n",
      " max_pooling2d_11 (MaxPoolin  (None, 3, 3, 128)        0         \n",
      " g2D)                                                            \n",
      "                                                                 \n",
      " conv2d_21 (Conv2D)          (None, 3, 3, 256)         295168    \n",
      "                                                                 \n",
      " max_pooling2d_12 (MaxPoolin  (None, 1, 1, 256)        0         \n",
      " g2D)                                                            \n",
      "                                                                 \n",
      " flatten_7 (Flatten)         (None, 256)               0         \n",
      "                                                                 \n",
      " dropout_7 (Dropout)         (None, 256)               0         \n",
      "                                                                 \n",
      " dense_15 (Dense)            (None, 512)               131584    \n",
      "                                                                 \n",
      " dropout_8 (Dropout)         (None, 512)               0         \n",
      "                                                                 \n",
      " dense_16 (Dense)            (None, 10)                5130      \n",
      "                                                                 \n",
      "=================================================================\n",
      "Total params: 524,554\n",
      "Trainable params: 524,554\n",
      "Non-trainable params: 0\n",
      "_________________________________________________________________\n"
     ]
    }
   ],
   "source": [
    "from typing import Sized\n",
    "# 256 - No of feature maps (changes with each conv layer)\n",
    "# MaxPolling2D\n",
    "# 3,3 - filter Size\n",
    "# padding = same (no padding)\n",
    "\n",
    "# Stage1\n",
    "i = Input(shape=x_train[0].shape)\n",
    "x = Conv2D(32, (3, 3), activation='relu', padding='same')(i)\n",
    "x = MaxPooling2D((2,2))(x)\n",
    "x = Conv2D(64, (3, 3), activation='relu', padding='same')(x)\n",
    "x = MaxPooling2D((2,2))(x)\n",
    "x = Conv2D(128, (3, 3), activation='relu', padding='same')(x)\n",
    "x = MaxPooling2D((2,2))(x)\n",
    "x = Conv2D(256, (3, 3), activation='relu', padding='same')(x)\n",
    "x = MaxPooling2D((2,2))(x)\n",
    "\n",
    "#Stage2\n",
    "x = Flatten()(x)\n",
    "x = Dropout(0.2)(x)\n",
    "x = Dense(512, activation='relu')(x)\n",
    "x = Dropout(0.2)(x)\n",
    "x = Dense(K, activation='softmax')(x)\n",
    "\n",
    "model8 = Model(i, x)\n",
    "\n",
    "model8.summary()"
   ]
  },
  {
   "cell_type": "markdown",
   "metadata": {
    "id": "Tr4mhtQrFMC9"
   },
   "source": [
    "Model compilation and loss/accuracy plots"
   ]
  },
  {
   "cell_type": "code",
   "execution_count": 44,
   "metadata": {
    "colab": {
     "base_uri": "https://localhost:8080/",
     "height": 1000
    },
    "id": "woDyinuOFJKt",
    "outputId": "479d7891-7dd1-453e-8628-9ec4fde737c8"
   },
   "outputs": [
    {
     "name": "stdout",
     "output_type": "stream",
     "text": [
      "Epoch 1/50\n",
      "1875/1875 [==============================] - 33s 17ms/step - loss: 0.3173 - accuracy: 0.8945 - val_loss: 0.0723 - val_accuracy: 0.9775\n",
      "Epoch 2/50\n",
      "1875/1875 [==============================] - 33s 17ms/step - loss: 0.1141 - accuracy: 0.9654 - val_loss: 0.0620 - val_accuracy: 0.9781\n",
      "Epoch 3/50\n",
      "1875/1875 [==============================] - 33s 17ms/step - loss: 0.0928 - accuracy: 0.9710 - val_loss: 0.0528 - val_accuracy: 0.9814\n",
      "Epoch 4/50\n",
      "1875/1875 [==============================] - 33s 18ms/step - loss: 0.0796 - accuracy: 0.9760 - val_loss: 0.0595 - val_accuracy: 0.9802\n",
      "Epoch 5/50\n",
      "1875/1875 [==============================] - 33s 17ms/step - loss: 0.0723 - accuracy: 0.9779 - val_loss: 0.0520 - val_accuracy: 0.9838\n",
      "Epoch 6/50\n",
      "1875/1875 [==============================] - 32s 17ms/step - loss: 0.0679 - accuracy: 0.9795 - val_loss: 0.0539 - val_accuracy: 0.9845\n",
      "Epoch 7/50\n",
      "1875/1875 [==============================] - 32s 17ms/step - loss: 0.0640 - accuracy: 0.9816 - val_loss: 0.0590 - val_accuracy: 0.9811\n",
      "Epoch 8/50\n",
      "1875/1875 [==============================] - 32s 17ms/step - loss: 0.0626 - accuracy: 0.9814 - val_loss: 0.0588 - val_accuracy: 0.9827\n",
      "Epoch 9/50\n",
      "1875/1875 [==============================] - 32s 17ms/step - loss: 0.0600 - accuracy: 0.9820 - val_loss: 0.0434 - val_accuracy: 0.9862\n",
      "Epoch 10/50\n",
      "1875/1875 [==============================] - 32s 17ms/step - loss: 0.0581 - accuracy: 0.9822 - val_loss: 0.0457 - val_accuracy: 0.9870\n",
      "Epoch 11/50\n",
      "1875/1875 [==============================] - 32s 17ms/step - loss: 0.0536 - accuracy: 0.9834 - val_loss: 0.0379 - val_accuracy: 0.9895\n",
      "Epoch 12/50\n",
      "1875/1875 [==============================] - 32s 17ms/step - loss: 0.0539 - accuracy: 0.9830 - val_loss: 0.0539 - val_accuracy: 0.9848\n",
      "Epoch 13/50\n",
      "1875/1875 [==============================] - 32s 17ms/step - loss: 0.0519 - accuracy: 0.9845 - val_loss: 0.0498 - val_accuracy: 0.9855\n",
      "Epoch 14/50\n",
      "1875/1875 [==============================] - 32s 17ms/step - loss: 0.0501 - accuracy: 0.9849 - val_loss: 0.0561 - val_accuracy: 0.9846\n",
      "Epoch 15/50\n",
      "1875/1875 [==============================] - 32s 17ms/step - loss: 0.0508 - accuracy: 0.9849 - val_loss: 0.0455 - val_accuracy: 0.9873\n",
      "Epoch 16/50\n",
      "1875/1875 [==============================] - 32s 17ms/step - loss: 0.0483 - accuracy: 0.9852 - val_loss: 0.0354 - val_accuracy: 0.9888\n",
      "Epoch 17/50\n",
      "1875/1875 [==============================] - 32s 17ms/step - loss: 0.0485 - accuracy: 0.9862 - val_loss: 0.0422 - val_accuracy: 0.9873\n",
      "Epoch 18/50\n",
      "1875/1875 [==============================] - 32s 17ms/step - loss: 0.0490 - accuracy: 0.9861 - val_loss: 0.0527 - val_accuracy: 0.9860\n",
      "Epoch 19/50\n",
      "1875/1875 [==============================] - 32s 17ms/step - loss: 0.0477 - accuracy: 0.9856 - val_loss: 0.0524 - val_accuracy: 0.9845\n",
      "Epoch 20/50\n",
      "1875/1875 [==============================] - 32s 17ms/step - loss: 0.0448 - accuracy: 0.9869 - val_loss: 0.0498 - val_accuracy: 0.9866\n",
      "Epoch 21/50\n",
      "1875/1875 [==============================] - 32s 17ms/step - loss: 0.0472 - accuracy: 0.9863 - val_loss: 0.0633 - val_accuracy: 0.9813\n",
      "Epoch 22/50\n",
      "1875/1875 [==============================] - 33s 17ms/step - loss: 0.0450 - accuracy: 0.9864 - val_loss: 0.0466 - val_accuracy: 0.9874\n",
      "Epoch 23/50\n",
      "1875/1875 [==============================] - 32s 17ms/step - loss: 0.0454 - accuracy: 0.9865 - val_loss: 0.0468 - val_accuracy: 0.9871\n",
      "Epoch 24/50\n",
      "1875/1875 [==============================] - 32s 17ms/step - loss: 0.0431 - accuracy: 0.9871 - val_loss: 0.0441 - val_accuracy: 0.9875\n",
      "Epoch 25/50\n",
      "1875/1875 [==============================] - 32s 17ms/step - loss: 0.0468 - accuracy: 0.9862 - val_loss: 0.0500 - val_accuracy: 0.9869\n",
      "Epoch 26/50\n",
      "1875/1875 [==============================] - 32s 17ms/step - loss: 0.0429 - accuracy: 0.9872 - val_loss: 0.0570 - val_accuracy: 0.9865\n",
      "Epoch 27/50\n",
      "1875/1875 [==============================] - 33s 17ms/step - loss: 0.0442 - accuracy: 0.9864 - val_loss: 0.0605 - val_accuracy: 0.9875\n",
      "Epoch 28/50\n",
      "1875/1875 [==============================] - 32s 17ms/step - loss: 0.0447 - accuracy: 0.9871 - val_loss: 0.0572 - val_accuracy: 0.9863\n",
      "Epoch 29/50\n",
      "1875/1875 [==============================] - 32s 17ms/step - loss: 0.0439 - accuracy: 0.9871 - val_loss: 0.0462 - val_accuracy: 0.9875\n",
      "Epoch 30/50\n",
      "1875/1875 [==============================] - 32s 17ms/step - loss: 0.0433 - accuracy: 0.9875 - val_loss: 0.0427 - val_accuracy: 0.9888\n",
      "Epoch 31/50\n",
      "1875/1875 [==============================] - 32s 17ms/step - loss: 0.0425 - accuracy: 0.9870 - val_loss: 0.0410 - val_accuracy: 0.9901\n",
      "Epoch 32/50\n",
      "1875/1875 [==============================] - 32s 17ms/step - loss: 0.0424 - accuracy: 0.9871 - val_loss: 0.0461 - val_accuracy: 0.9892\n",
      "Epoch 33/50\n",
      "1875/1875 [==============================] - 32s 17ms/step - loss: 0.0430 - accuracy: 0.9876 - val_loss: 0.0509 - val_accuracy: 0.9861\n",
      "Epoch 34/50\n",
      "1875/1875 [==============================] - 32s 17ms/step - loss: 0.0437 - accuracy: 0.9870 - val_loss: 0.0503 - val_accuracy: 0.9880\n",
      "Epoch 35/50\n",
      "1875/1875 [==============================] - 33s 17ms/step - loss: 0.0422 - accuracy: 0.9876 - val_loss: 0.0479 - val_accuracy: 0.9878\n",
      "Epoch 36/50\n",
      "1875/1875 [==============================] - 32s 17ms/step - loss: 0.0433 - accuracy: 0.9870 - val_loss: 0.0542 - val_accuracy: 0.9868\n",
      "Epoch 37/50\n",
      "1875/1875 [==============================] - 32s 17ms/step - loss: 0.0422 - accuracy: 0.9875 - val_loss: 0.0576 - val_accuracy: 0.9875\n",
      "Epoch 38/50\n",
      "1875/1875 [==============================] - 32s 17ms/step - loss: 0.0422 - accuracy: 0.9868 - val_loss: 0.0490 - val_accuracy: 0.9877\n",
      "Epoch 39/50\n",
      "1875/1875 [==============================] - 32s 17ms/step - loss: 0.0417 - accuracy: 0.9882 - val_loss: 0.0555 - val_accuracy: 0.9867\n",
      "Epoch 40/50\n",
      "1875/1875 [==============================] - 33s 17ms/step - loss: 0.0405 - accuracy: 0.9878 - val_loss: 0.0516 - val_accuracy: 0.9874\n",
      "Epoch 41/50\n",
      "1875/1875 [==============================] - 33s 17ms/step - loss: 0.0388 - accuracy: 0.9884 - val_loss: 0.0600 - val_accuracy: 0.9870\n",
      "Epoch 42/50\n",
      "1875/1875 [==============================] - 32s 17ms/step - loss: 0.0438 - accuracy: 0.9872 - val_loss: 0.0634 - val_accuracy: 0.9874\n",
      "Epoch 43/50\n",
      "1875/1875 [==============================] - 32s 17ms/step - loss: 0.0412 - accuracy: 0.9879 - val_loss: 0.0527 - val_accuracy: 0.9882\n",
      "Epoch 44/50\n",
      "1875/1875 [==============================] - 32s 17ms/step - loss: 0.0426 - accuracy: 0.9870 - val_loss: 0.0478 - val_accuracy: 0.9894\n",
      "Epoch 45/50\n",
      "1875/1875 [==============================] - 32s 17ms/step - loss: 0.0396 - accuracy: 0.9881 - val_loss: 0.0634 - val_accuracy: 0.9850\n",
      "Epoch 46/50\n",
      "1875/1875 [==============================] - 32s 17ms/step - loss: 0.0392 - accuracy: 0.9884 - val_loss: 0.0601 - val_accuracy: 0.9859\n",
      "Epoch 47/50\n",
      "1875/1875 [==============================] - 32s 17ms/step - loss: 0.0402 - accuracy: 0.9885 - val_loss: 0.0486 - val_accuracy: 0.9881\n",
      "Epoch 48/50\n",
      "1875/1875 [==============================] - 33s 17ms/step - loss: 0.0404 - accuracy: 0.9881 - val_loss: 0.0418 - val_accuracy: 0.9899\n",
      "Epoch 49/50\n",
      "1875/1875 [==============================] - 32s 17ms/step - loss: 0.0423 - accuracy: 0.9880 - val_loss: 0.0475 - val_accuracy: 0.9881\n",
      "Epoch 50/50\n",
      "1875/1875 [==============================] - 33s 18ms/step - loss: 0.0406 - accuracy: 0.9883 - val_loss: 0.0551 - val_accuracy: 0.9875\n"
     ]
    },
    {
     "data": {
      "image/png": "[encoded data removed]",
      "text/plain": [
       "<Figure size 432x288 with 1 Axes>"
      ]
     },
     "metadata": {
      "needs_background": "light"
     },
     "output_type": "display_data"
    }
   ],
   "source": [
    "# Model compile and fit\n",
    "model8.compile(optimizer='adam',\n",
    "                loss='sparse_categorical_crossentropy',\n",
    "                metrics=['accuracy'])\n",
    "\n",
    "r8 = model8.fit(train_generator,\n",
    "               validation_data = (x_test,y_test),\n",
    "               steps_per_epoch=steps_per_epoch,\n",
    "               epochs=50)\n",
    "\n",
    "# Loss plot\n",
    "create_loss_plot_per_iteration(r8)"
   ]
  },
  {
   "cell_type": "code",
   "execution_count": 45,
   "metadata": {
    "colab": {
     "base_uri": "https://localhost:8080/",
     "height": 265
    },
    "id": "5n2b1gPRFJKt",
    "outputId": "60d22eb4-2f69-41ec-eb89-12e2825ac700"
   },
   "outputs": [
    {
     "data": {
      "image/png": "[encoded data removed]",
      "text/plain": [
       "<Figure size 432x288 with 1 Axes>"
      ]
     },
     "metadata": {
      "needs_background": "light"
     },
     "output_type": "display_data"
    }
   ],
   "source": [
    "# Accuracy plot\n",
    "create_accuracy_plot_per_iteration(r8)"
   ]
  },
  {
   "cell_type": "code",
   "execution_count": 46,
   "metadata": {
    "colab": {
     "base_uri": "https://localhost:8080/"
    },
    "id": "VE3P_GvpFJKt",
    "outputId": "70e04328-62e9-487e-89eb-66a591794a15"
   },
   "outputs": [
    {
     "name": "stdout",
     "output_type": "stream",
     "text": [
      "313/313 [==============================] - 2s 5ms/step - loss: 0.0551 - accuracy: 0.9875\n",
      "[0.05506325140595436, 0.987500011920929]\n",
      "               Predicted Label\n",
      "[[ 977    0    0    0    0    0    1    0    1    1]\n",
      " [   0 1134    0    1    0    0    0    0    0    0]\n",
      " [   2    1  997    1    2   13   11    3    2    0]\n",
      " [   0    0    1 1007    0    1    1    0    0    0]\n",
      " [   0    0    0    0  976    0    1    0    0    5]\n",
      " [   1    1   16    5    0  864    2    3    0    0]\n",
      " [   6    0    2    0    0    2  947    0    1    0]\n",
      " [   0   10    3    1    2    1    0 1010    0    1]\n",
      " [   2    0    0    1    0    2    1    0  965    3]\n",
      " [   1    0    1    0    3    1    0    2    3  998]]\n"
     ]
    }
   ],
   "source": [
    "y_pred = get_confusion_matrix(model8)"
   ]
  },
  {
   "cell_type": "code",
   "execution_count": 47,
   "metadata": {
    "colab": {
     "base_uri": "https://localhost:8080/",
     "height": 281
    },
    "id": "WwPntMKGFJKt",
    "outputId": "c3f81ddd-9921-41fb-90cf-37468716dd08"
   },
   "outputs": [
    {
     "data": {
      "image/png": "[encoded data removed]",
      "text/plain": [
       "<Figure size 432x288 with 1 Axes>"
      ]
     },
     "metadata": {
      "needs_background": "light"
     },
     "output_type": "display_data"
    }
   ],
   "source": [
    "# Show missclassified examples\n",
    "show_missclassified_images(y_pred)"
   ]
  },
  {
   "cell_type": "markdown",
   "metadata": {
    "id": "KKDWFqC0FJKu"
   },
   "source": [
    "**Model 8 summary:** Model 8 with image data augmentation gives test accuracy of 98.75% with loss at 0.05. As per loss plot, trainining loss and validation loass starts plateauing from 4-5 epoch. Although is not minimed further as compared to model 3 but accuracy and loss plots are more smooth and better generalize the result."
   ]
  }
 ],
 "metadata": {
  "accelerator": "GPU",
  "colab": {
   "collapsed_sections": [],
   "name": "Assign4.ipynb",
   "provenance": []
  },
  "kernelspec": {
   "display_name": "Python 3",
   "language": "python",
   "name": "python3"
  },
  "language_info": {
   "codemirror_mode": {
    "name": "ipython",
    "version": 3
   },
   "file_extension": ".py",
   "mimetype": "text/x-python",
   "name": "python",
   "nbconvert_exporter": "python",
   "pygments_lexer": "ipython3",
   "version": "3.8.5"
  }
 },
 "nbformat": 4,
 "nbformat_minor": 1
}
