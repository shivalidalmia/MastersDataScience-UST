{
 "cells": [
  {
   "cell_type": "code",
   "execution_count": 1,
   "id": "oriental-appendix",
   "metadata": {},
   "outputs": [],
   "source": [
    "#Data preparation\n",
    "\n",
    "import numpy as np\n",
    "import pandas as pd\n",
    "import matplotlib.pyplot as plt"
   ]
  },
  {
   "cell_type": "code",
   "execution_count": 2,
   "id": "quarterly-sunglasses",
   "metadata": {},
   "outputs": [],
   "source": [
    "#Loading dataset\n",
    "\n",
    "loans = pd.read_csv(\"loans.csv\")"
   ]
  },
  {
   "cell_type": "code",
   "execution_count": 3,
   "id": "understood-narrative",
   "metadata": {},
   "outputs": [
    {
     "data": {
      "text/html": [
       "<div>\n",
       "<style scoped>\n",
       "    .dataframe tbody tr th:only-of-type {\n",
       "        vertical-align: middle;\n",
       "    }\n",
       "\n",
       "    .dataframe tbody tr th {\n",
       "        vertical-align: top;\n",
       "    }\n",
       "\n",
       "    .dataframe thead th {\n",
       "        text-align: right;\n",
       "    }\n",
       "</style>\n",
       "<table border=\"1\" class=\"dataframe\">\n",
       "  <thead>\n",
       "    <tr style=\"text-align: right;\">\n",
       "      <th></th>\n",
       "      <th>City</th>\n",
       "      <th>Age</th>\n",
       "      <th>Salary</th>\n",
       "      <th>Approved</th>\n",
       "    </tr>\n",
       "  </thead>\n",
       "  <tbody>\n",
       "    <tr>\n",
       "      <th>0</th>\n",
       "      <td>Apple Valley</td>\n",
       "      <td>25.0</td>\n",
       "      <td>65000.0</td>\n",
       "      <td>Yes</td>\n",
       "    </tr>\n",
       "    <tr>\n",
       "      <th>1</th>\n",
       "      <td>Maplewood</td>\n",
       "      <td>30.0</td>\n",
       "      <td>81000.0</td>\n",
       "      <td>No</td>\n",
       "    </tr>\n",
       "    <tr>\n",
       "      <th>2</th>\n",
       "      <td>Eagan</td>\n",
       "      <td>33.0</td>\n",
       "      <td>NaN</td>\n",
       "      <td>Yes</td>\n",
       "    </tr>\n",
       "    <tr>\n",
       "      <th>3</th>\n",
       "      <td>Apple Valley</td>\n",
       "      <td>39.0</td>\n",
       "      <td>100000.0</td>\n",
       "      <td>No</td>\n",
       "    </tr>\n",
       "    <tr>\n",
       "      <th>4</th>\n",
       "      <td>Maplewood</td>\n",
       "      <td>28.0</td>\n",
       "      <td>91000.0</td>\n",
       "      <td>Yes</td>\n",
       "    </tr>\n",
       "    <tr>\n",
       "      <th>5</th>\n",
       "      <td>Eagan</td>\n",
       "      <td>NaN</td>\n",
       "      <td>66000.0</td>\n",
       "      <td>No</td>\n",
       "    </tr>\n",
       "    <tr>\n",
       "      <th>6</th>\n",
       "      <td>Apple Valley</td>\n",
       "      <td>40.0</td>\n",
       "      <td>98000.0</td>\n",
       "      <td>Yes</td>\n",
       "    </tr>\n",
       "    <tr>\n",
       "      <th>7</th>\n",
       "      <td>Maplewood</td>\n",
       "      <td>34.0</td>\n",
       "      <td>86000.0</td>\n",
       "      <td>Yes</td>\n",
       "    </tr>\n",
       "    <tr>\n",
       "      <th>8</th>\n",
       "      <td>Eagan</td>\n",
       "      <td>25.0</td>\n",
       "      <td>70000.0</td>\n",
       "      <td>No</td>\n",
       "    </tr>\n",
       "    <tr>\n",
       "      <th>9</th>\n",
       "      <td>Maplewood</td>\n",
       "      <td>24.0</td>\n",
       "      <td>62000.0</td>\n",
       "      <td>Yes</td>\n",
       "    </tr>\n",
       "  </tbody>\n",
       "</table>\n",
       "</div>"
      ],
      "text/plain": [
       "           City   Age    Salary Approved\n",
       "0  Apple Valley  25.0   65000.0      Yes\n",
       "1     Maplewood  30.0   81000.0       No\n",
       "2         Eagan  33.0       NaN      Yes\n",
       "3  Apple Valley  39.0  100000.0       No\n",
       "4     Maplewood  28.0   91000.0      Yes\n",
       "5         Eagan   NaN   66000.0       No\n",
       "6  Apple Valley  40.0   98000.0      Yes\n",
       "7     Maplewood  34.0   86000.0      Yes\n",
       "8         Eagan  25.0   70000.0       No\n",
       "9     Maplewood  24.0   62000.0      Yes"
      ]
     },
     "execution_count": 3,
     "metadata": {},
     "output_type": "execute_result"
    }
   ],
   "source": [
    "#Inspecting loans dataset\n",
    "loans"
   ]
  },
  {
   "cell_type": "code",
   "execution_count": 4,
   "id": "superior-cartridge",
   "metadata": {},
   "outputs": [
    {
     "data": {
      "text/plain": [
       "(10, 4)"
      ]
     },
     "execution_count": 4,
     "metadata": {},
     "output_type": "execute_result"
    }
   ],
   "source": [
    "loans.shape"
   ]
  },
  {
   "cell_type": "code",
   "execution_count": 5,
   "id": "generous-lightweight",
   "metadata": {},
   "outputs": [
    {
     "name": "stdout",
     "output_type": "stream",
     "text": [
      "[['Apple Valley' 25.0 65000.0]\n",
      " ['Maplewood' 30.0 81000.0]\n",
      " ['Eagan' 33.0 nan]\n",
      " ['Apple Valley' 39.0 100000.0]\n",
      " ['Maplewood' 28.0 91000.0]\n",
      " ['Eagan' nan 66000.0]\n",
      " ['Apple Valley' 40.0 98000.0]\n",
      " ['Maplewood' 34.0 86000.0]\n",
      " ['Eagan' 25.0 70000.0]\n",
      " ['Maplewood' 24.0 62000.0]]\n",
      "['Yes' 'No' 'Yes' 'No' 'Yes' 'No' 'Yes' 'Yes' 'No' 'Yes']\n"
     ]
    }
   ],
   "source": [
    "# Separating features and target variable\n",
    "\n",
    "X = loans.iloc[:,:-1].values\n",
    "Y = loans.iloc[:,3].values\n",
    "\n",
    "print(X)\n",
    "print(Y)"
   ]
  },
  {
   "cell_type": "code",
   "execution_count": 6,
   "id": "stunning-central",
   "metadata": {},
   "outputs": [
    {
     "data": {
      "text/html": [
       "<div>\n",
       "<style scoped>\n",
       "    .dataframe tbody tr th:only-of-type {\n",
       "        vertical-align: middle;\n",
       "    }\n",
       "\n",
       "    .dataframe tbody tr th {\n",
       "        vertical-align: top;\n",
       "    }\n",
       "\n",
       "    .dataframe thead th {\n",
       "        text-align: right;\n",
       "    }\n",
       "</style>\n",
       "<table border=\"1\" class=\"dataframe\">\n",
       "  <thead>\n",
       "    <tr style=\"text-align: right;\">\n",
       "      <th></th>\n",
       "      <th>City</th>\n",
       "      <th>Age</th>\n",
       "      <th>Salary</th>\n",
       "      <th>Approved</th>\n",
       "    </tr>\n",
       "  </thead>\n",
       "  <tbody>\n",
       "    <tr>\n",
       "      <th>0</th>\n",
       "      <td>Apple Valley</td>\n",
       "      <td>25.0</td>\n",
       "      <td>65000.0</td>\n",
       "      <td>Yes</td>\n",
       "    </tr>\n",
       "    <tr>\n",
       "      <th>1</th>\n",
       "      <td>Maplewood</td>\n",
       "      <td>30.0</td>\n",
       "      <td>81000.0</td>\n",
       "      <td>No</td>\n",
       "    </tr>\n",
       "    <tr>\n",
       "      <th>2</th>\n",
       "      <td>Eagan</td>\n",
       "      <td>33.0</td>\n",
       "      <td>NaN</td>\n",
       "      <td>Yes</td>\n",
       "    </tr>\n",
       "    <tr>\n",
       "      <th>3</th>\n",
       "      <td>Apple Valley</td>\n",
       "      <td>39.0</td>\n",
       "      <td>100000.0</td>\n",
       "      <td>No</td>\n",
       "    </tr>\n",
       "    <tr>\n",
       "      <th>4</th>\n",
       "      <td>Maplewood</td>\n",
       "      <td>28.0</td>\n",
       "      <td>91000.0</td>\n",
       "      <td>Yes</td>\n",
       "    </tr>\n",
       "    <tr>\n",
       "      <th>5</th>\n",
       "      <td>Eagan</td>\n",
       "      <td>NaN</td>\n",
       "      <td>66000.0</td>\n",
       "      <td>No</td>\n",
       "    </tr>\n",
       "    <tr>\n",
       "      <th>6</th>\n",
       "      <td>Apple Valley</td>\n",
       "      <td>40.0</td>\n",
       "      <td>98000.0</td>\n",
       "      <td>Yes</td>\n",
       "    </tr>\n",
       "    <tr>\n",
       "      <th>7</th>\n",
       "      <td>Maplewood</td>\n",
       "      <td>34.0</td>\n",
       "      <td>86000.0</td>\n",
       "      <td>Yes</td>\n",
       "    </tr>\n",
       "    <tr>\n",
       "      <th>8</th>\n",
       "      <td>Eagan</td>\n",
       "      <td>25.0</td>\n",
       "      <td>70000.0</td>\n",
       "      <td>No</td>\n",
       "    </tr>\n",
       "    <tr>\n",
       "      <th>9</th>\n",
       "      <td>Maplewood</td>\n",
       "      <td>24.0</td>\n",
       "      <td>62000.0</td>\n",
       "      <td>Yes</td>\n",
       "    </tr>\n",
       "  </tbody>\n",
       "</table>\n",
       "</div>"
      ],
      "text/plain": [
       "           City   Age    Salary Approved\n",
       "0  Apple Valley  25.0   65000.0      Yes\n",
       "1     Maplewood  30.0   81000.0       No\n",
       "2         Eagan  33.0       NaN      Yes\n",
       "3  Apple Valley  39.0  100000.0       No\n",
       "4     Maplewood  28.0   91000.0      Yes\n",
       "5         Eagan   NaN   66000.0       No\n",
       "6  Apple Valley  40.0   98000.0      Yes\n",
       "7     Maplewood  34.0   86000.0      Yes\n",
       "8         Eagan  25.0   70000.0       No\n",
       "9     Maplewood  24.0   62000.0      Yes"
      ]
     },
     "execution_count": 6,
     "metadata": {},
     "output_type": "execute_result"
    }
   ],
   "source": [
    "#Check for missing values\n",
    "loans\n",
    "#Age and Salary columns have 1 missing value"
   ]
  },
  {
   "cell_type": "code",
   "execution_count": 7,
   "id": "infrared-object",
   "metadata": {},
   "outputs": [],
   "source": [
    "#loans.dropna(axis=0) #drop all rows with at least 1 NAN value\n",
    "#loans.dropna(axis=1) #drop all columns with at least 1 NAN value\n",
    "#loans.dropna(how='all') #drop all rows with all columns NAN value\n",
    "#loans.dropna(thresh=2) #drop all rows with 2 NAN values\n",
    "#Imputing missing value of column with mean value of that column using scikit learn library\n",
    "from sklearn.impute import SimpleImputer"
   ]
  },
  {
   "cell_type": "code",
   "execution_count": 8,
   "id": "intelligent-mixer",
   "metadata": {},
   "outputs": [],
   "source": [
    "imputer = SimpleImputer(missing_values=np.nan,strategy='mean')\n",
    "imputer.fit(X[:,[1,2]])\n",
    "X[:,[1,2]]= imputer.transform(X[:,[1,2]])  #or X[:,1:3]= imputer.transform(X[:,1:3])"
   ]
  },
  {
   "cell_type": "code",
   "execution_count": 9,
   "id": "handed-reliance",
   "metadata": {},
   "outputs": [
    {
     "data": {
      "text/plain": [
       "array([['Apple Valley', 25.0, 65000.0],\n",
       "       ['Maplewood', 30.0, 81000.0],\n",
       "       ['Eagan', 33.0, 79888.88888888889],\n",
       "       ['Apple Valley', 39.0, 100000.0],\n",
       "       ['Maplewood', 28.0, 91000.0],\n",
       "       ['Eagan', 30.88888888888889, 66000.0],\n",
       "       ['Apple Valley', 40.0, 98000.0],\n",
       "       ['Maplewood', 34.0, 86000.0],\n",
       "       ['Eagan', 25.0, 70000.0],\n",
       "       ['Maplewood', 24.0, 62000.0]], dtype=object)"
      ]
     },
     "execution_count": 9,
     "metadata": {},
     "output_type": "execute_result"
    }
   ],
   "source": [
    "#Check for missing cloumns after replacement\n",
    "X"
   ]
  },
  {
   "cell_type": "code",
   "execution_count": 10,
   "id": "synthetic-jefferson",
   "metadata": {},
   "outputs": [
    {
     "name": "stdout",
     "output_type": "stream",
     "text": [
      "[[1.0 0.0 0.0 25.0 65000.0]\n",
      " [0.0 0.0 1.0 30.0 81000.0]\n",
      " [0.0 1.0 0.0 33.0 79888.88888888889]\n",
      " [1.0 0.0 0.0 39.0 100000.0]\n",
      " [0.0 0.0 1.0 28.0 91000.0]\n",
      " [0.0 1.0 0.0 30.88888888888889 66000.0]\n",
      " [1.0 0.0 0.0 40.0 98000.0]\n",
      " [0.0 0.0 1.0 34.0 86000.0]\n",
      " [0.0 1.0 0.0 25.0 70000.0]\n",
      " [0.0 0.0 1.0 24.0 62000.0]]\n"
     ]
    }
   ],
   "source": [
    "#Dealing with categorical values-Transforming them into numeric levels before passing to model using OneHotEncoder\n",
    "from sklearn.compose import make_column_transformer\n",
    "from sklearn.preprocessing import OneHotEncoder\n",
    "\n",
    "col_trans = make_column_transformer((OneHotEncoder(),[0]),remainder=\"passthrough\")\n",
    "X = col_trans.fit_transform(X)\n",
    "print(X)"
   ]
  },
  {
   "cell_type": "code",
   "execution_count": 11,
   "id": "wicked-blast",
   "metadata": {},
   "outputs": [],
   "source": [
    "#Transforming dependent target variable\n",
    "from sklearn.preprocessing import LabelEncoder\n",
    "labelencoder_y = LabelEncoder()\n",
    "Y = labelencoder_y.fit_transform(Y)"
   ]
  },
  {
   "cell_type": "code",
   "execution_count": 12,
   "id": "dietary-blocking",
   "metadata": {},
   "outputs": [
    {
     "name": "stdout",
     "output_type": "stream",
     "text": [
      "[1 0 1 0 1 0 1 1 0 1]\n"
     ]
    }
   ],
   "source": [
    "print(Y)"
   ]
  },
  {
   "cell_type": "code",
   "execution_count": 13,
   "id": "vulnerable-memorabilia",
   "metadata": {},
   "outputs": [],
   "source": [
    "#Splitting dataset into trainning and testing datasets\n",
    "from sklearn.model_selection import train_test_split\n",
    "X_train, X_test, Y_train, Y_test = train_test_split(X,Y,test_size=0.2,random_state=0)"
   ]
  },
  {
   "cell_type": "code",
   "execution_count": 14,
   "id": "broken-schedule",
   "metadata": {},
   "outputs": [
    {
     "data": {
      "text/plain": [
       "array([[0.0, 0.0, 1.0, 28.0, 91000.0],\n",
       "       [0.0, 0.0, 1.0, 24.0, 62000.0],\n",
       "       [0.0, 0.0, 1.0, 30.0, 81000.0],\n",
       "       [1.0, 0.0, 0.0, 40.0, 98000.0],\n",
       "       [0.0, 0.0, 1.0, 34.0, 86000.0],\n",
       "       [1.0, 0.0, 0.0, 39.0, 100000.0],\n",
       "       [1.0, 0.0, 0.0, 25.0, 65000.0],\n",
       "       [0.0, 1.0, 0.0, 30.88888888888889, 66000.0]], dtype=object)"
      ]
     },
     "execution_count": 14,
     "metadata": {},
     "output_type": "execute_result"
    }
   ],
   "source": [
    "X_train"
   ]
  },
  {
   "cell_type": "code",
   "execution_count": 15,
   "id": "general-public",
   "metadata": {},
   "outputs": [],
   "source": [
    "#Normalizing the features\n",
    "from sklearn.preprocessing import StandardScaler\n",
    "sc_X = StandardScaler()\n",
    "X_train = sc_X.fit_transform(X_train)\n",
    "X_test = sc_X.transform(X_test)"
   ]
  },
  {
   "cell_type": "code",
   "execution_count": null,
   "id": "detected-thinking",
   "metadata": {},
   "outputs": [],
   "source": []
  }
 ],
 "metadata": {
  "kernelspec": {
   "display_name": "Python 3",
   "language": "python",
   "name": "python3"
  },
  "language_info": {
   "codemirror_mode": {
    "name": "ipython",
    "version": 3
   },
   "file_extension": ".py",
   "mimetype": "text/x-python",
   "name": "python",
   "nbconvert_exporter": "python",
   "pygments_lexer": "ipython3",
   "version": "3.8.5"
  }
 },
 "nbformat": 4,
 "nbformat_minor": 5
}
