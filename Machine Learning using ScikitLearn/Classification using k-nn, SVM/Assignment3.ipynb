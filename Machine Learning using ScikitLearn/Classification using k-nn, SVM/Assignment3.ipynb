{
 "cells": [
  {
   "cell_type": "code",
   "execution_count": 4,
   "id": "electronic-bahrain",
   "metadata": {},
   "outputs": [],
   "source": [
    "#Importing required libraries\n",
    "\n",
    "import numpy as np\n",
    "import matplotlib.pyplot as plt\n",
    "import pandas as pd\n",
    "\n",
    "#Loading the dataset\n",
    "dataset = pd.read_csv('data.csv')"
   ]
  },
  {
   "cell_type": "markdown",
   "id": "controversial-small",
   "metadata": {},
   "source": [
    "<b>1) Display the number of instances for each class. That is, you should write code to find out how many instances you have for class 1, class 2, class 3, and class 4. (No loops)</b>"
   ]
  },
  {
   "cell_type": "code",
   "execution_count": 5,
   "id": "general-listing",
   "metadata": {},
   "outputs": [
    {
     "data": {
      "text/plain": [
       "3    281\n",
       "1    266\n",
       "4    236\n",
       "2    217\n",
       "Name: custcat, dtype: int64"
      ]
     },
     "execution_count": 5,
     "metadata": {},
     "output_type": "execute_result"
    }
   ],
   "source": [
    "dataset['custcat'].value_counts()"
   ]
  },
  {
   "cell_type": "markdown",
   "id": "normal-guatemala",
   "metadata": {},
   "source": [
    "<b>Class1</b> - Basic Service-266<br>\n",
    "<b>Class2</b> - E-Service-217<br>\n",
    "<b>Class3</b> - Plus Service-</b>281<br>\n",
    "<b>Class4</b> - Total Service-</b>236"
   ]
  },
  {
   "cell_type": "code",
   "execution_count": 6,
   "id": "biblical-round",
   "metadata": {},
   "outputs": [
    {
     "data": {
      "text/html": [
       "<div>\n",
       "<style scoped>\n",
       "    .dataframe tbody tr th:only-of-type {\n",
       "        vertical-align: middle;\n",
       "    }\n",
       "\n",
       "    .dataframe tbody tr th {\n",
       "        vertical-align: top;\n",
       "    }\n",
       "\n",
       "    .dataframe thead th {\n",
       "        text-align: right;\n",
       "    }\n",
       "</style>\n",
       "<table border=\"1\" class=\"dataframe\">\n",
       "  <thead>\n",
       "    <tr style=\"text-align: right;\">\n",
       "      <th></th>\n",
       "      <th>region</th>\n",
       "      <th>tenure</th>\n",
       "      <th>age</th>\n",
       "      <th>marital</th>\n",
       "      <th>address</th>\n",
       "      <th>income</th>\n",
       "      <th>ed</th>\n",
       "      <th>employ</th>\n",
       "      <th>retire</th>\n",
       "      <th>gender</th>\n",
       "      <th>reside</th>\n",
       "      <th>custcat</th>\n",
       "    </tr>\n",
       "  </thead>\n",
       "  <tbody>\n",
       "    <tr>\n",
       "      <th>0</th>\n",
       "      <td>2</td>\n",
       "      <td>13</td>\n",
       "      <td>44</td>\n",
       "      <td>1</td>\n",
       "      <td>9</td>\n",
       "      <td>64</td>\n",
       "      <td>4</td>\n",
       "      <td>5</td>\n",
       "      <td>0</td>\n",
       "      <td>0</td>\n",
       "      <td>2</td>\n",
       "      <td>1</td>\n",
       "    </tr>\n",
       "    <tr>\n",
       "      <th>1</th>\n",
       "      <td>3</td>\n",
       "      <td>11</td>\n",
       "      <td>33</td>\n",
       "      <td>1</td>\n",
       "      <td>7</td>\n",
       "      <td>136</td>\n",
       "      <td>5</td>\n",
       "      <td>5</td>\n",
       "      <td>0</td>\n",
       "      <td>0</td>\n",
       "      <td>6</td>\n",
       "      <td>4</td>\n",
       "    </tr>\n",
       "    <tr>\n",
       "      <th>2</th>\n",
       "      <td>3</td>\n",
       "      <td>68</td>\n",
       "      <td>52</td>\n",
       "      <td>1</td>\n",
       "      <td>24</td>\n",
       "      <td>116</td>\n",
       "      <td>1</td>\n",
       "      <td>29</td>\n",
       "      <td>0</td>\n",
       "      <td>1</td>\n",
       "      <td>2</td>\n",
       "      <td>3</td>\n",
       "    </tr>\n",
       "    <tr>\n",
       "      <th>3</th>\n",
       "      <td>2</td>\n",
       "      <td>33</td>\n",
       "      <td>33</td>\n",
       "      <td>0</td>\n",
       "      <td>12</td>\n",
       "      <td>33</td>\n",
       "      <td>2</td>\n",
       "      <td>0</td>\n",
       "      <td>0</td>\n",
       "      <td>1</td>\n",
       "      <td>1</td>\n",
       "      <td>1</td>\n",
       "    </tr>\n",
       "    <tr>\n",
       "      <th>4</th>\n",
       "      <td>2</td>\n",
       "      <td>23</td>\n",
       "      <td>30</td>\n",
       "      <td>1</td>\n",
       "      <td>9</td>\n",
       "      <td>30</td>\n",
       "      <td>1</td>\n",
       "      <td>2</td>\n",
       "      <td>0</td>\n",
       "      <td>0</td>\n",
       "      <td>4</td>\n",
       "      <td>3</td>\n",
       "    </tr>\n",
       "    <tr>\n",
       "      <th>...</th>\n",
       "      <td>...</td>\n",
       "      <td>...</td>\n",
       "      <td>...</td>\n",
       "      <td>...</td>\n",
       "      <td>...</td>\n",
       "      <td>...</td>\n",
       "      <td>...</td>\n",
       "      <td>...</td>\n",
       "      <td>...</td>\n",
       "      <td>...</td>\n",
       "      <td>...</td>\n",
       "      <td>...</td>\n",
       "    </tr>\n",
       "    <tr>\n",
       "      <th>995</th>\n",
       "      <td>3</td>\n",
       "      <td>10</td>\n",
       "      <td>39</td>\n",
       "      <td>0</td>\n",
       "      <td>0</td>\n",
       "      <td>27</td>\n",
       "      <td>3</td>\n",
       "      <td>0</td>\n",
       "      <td>0</td>\n",
       "      <td>1</td>\n",
       "      <td>3</td>\n",
       "      <td>1</td>\n",
       "    </tr>\n",
       "    <tr>\n",
       "      <th>996</th>\n",
       "      <td>1</td>\n",
       "      <td>7</td>\n",
       "      <td>34</td>\n",
       "      <td>0</td>\n",
       "      <td>2</td>\n",
       "      <td>22</td>\n",
       "      <td>5</td>\n",
       "      <td>5</td>\n",
       "      <td>0</td>\n",
       "      <td>1</td>\n",
       "      <td>1</td>\n",
       "      <td>1</td>\n",
       "    </tr>\n",
       "    <tr>\n",
       "      <th>997</th>\n",
       "      <td>3</td>\n",
       "      <td>67</td>\n",
       "      <td>59</td>\n",
       "      <td>0</td>\n",
       "      <td>40</td>\n",
       "      <td>944</td>\n",
       "      <td>5</td>\n",
       "      <td>33</td>\n",
       "      <td>0</td>\n",
       "      <td>1</td>\n",
       "      <td>1</td>\n",
       "      <td>4</td>\n",
       "    </tr>\n",
       "    <tr>\n",
       "      <th>998</th>\n",
       "      <td>3</td>\n",
       "      <td>70</td>\n",
       "      <td>49</td>\n",
       "      <td>0</td>\n",
       "      <td>18</td>\n",
       "      <td>87</td>\n",
       "      <td>2</td>\n",
       "      <td>22</td>\n",
       "      <td>0</td>\n",
       "      <td>1</td>\n",
       "      <td>1</td>\n",
       "      <td>3</td>\n",
       "    </tr>\n",
       "    <tr>\n",
       "      <th>999</th>\n",
       "      <td>3</td>\n",
       "      <td>50</td>\n",
       "      <td>36</td>\n",
       "      <td>1</td>\n",
       "      <td>7</td>\n",
       "      <td>39</td>\n",
       "      <td>3</td>\n",
       "      <td>3</td>\n",
       "      <td>0</td>\n",
       "      <td>1</td>\n",
       "      <td>3</td>\n",
       "      <td>2</td>\n",
       "    </tr>\n",
       "  </tbody>\n",
       "</table>\n",
       "<p>1000 rows × 12 columns</p>\n",
       "</div>"
      ],
      "text/plain": [
       "     region  tenure  age  marital  address  income  ed  employ  retire  \\\n",
       "0         2      13   44        1        9      64   4       5       0   \n",
       "1         3      11   33        1        7     136   5       5       0   \n",
       "2         3      68   52        1       24     116   1      29       0   \n",
       "3         2      33   33        0       12      33   2       0       0   \n",
       "4         2      23   30        1        9      30   1       2       0   \n",
       "..      ...     ...  ...      ...      ...     ...  ..     ...     ...   \n",
       "995       3      10   39        0        0      27   3       0       0   \n",
       "996       1       7   34        0        2      22   5       5       0   \n",
       "997       3      67   59        0       40     944   5      33       0   \n",
       "998       3      70   49        0       18      87   2      22       0   \n",
       "999       3      50   36        1        7      39   3       3       0   \n",
       "\n",
       "     gender  reside  custcat  \n",
       "0         0       2        1  \n",
       "1         0       6        4  \n",
       "2         1       2        3  \n",
       "3         1       1        1  \n",
       "4         0       4        3  \n",
       "..      ...     ...      ...  \n",
       "995       1       3        1  \n",
       "996       1       1        1  \n",
       "997       1       1        4  \n",
       "998       1       1        3  \n",
       "999       1       3        2  \n",
       "\n",
       "[1000 rows x 12 columns]"
      ]
     },
     "execution_count": 6,
     "metadata": {},
     "output_type": "execute_result"
    }
   ],
   "source": [
    "dataset"
   ]
  },
  {
   "cell_type": "markdown",
   "id": "supposed-controversy",
   "metadata": {},
   "source": [
    "<b>2) Perform one hot encoding on Column 1 (i.e. region) and drop the extra dummy variable.</b>"
   ]
  },
  {
   "cell_type": "code",
   "execution_count": 7,
   "id": "middle-documentary",
   "metadata": {},
   "outputs": [],
   "source": [
    "#Transforming region column using OneHotEncoder\n",
    "from sklearn.compose import make_column_transformer\n",
    "from sklearn.preprocessing import OneHotEncoder\n",
    "col_trans = make_column_transformer((OneHotEncoder(), [0]), remainder='passthrough')\n",
    "dataset = col_trans.fit_transform(dataset)\n",
    "dataset = pd.DataFrame(dataset)"
   ]
  },
  {
   "cell_type": "code",
   "execution_count": 8,
   "id": "right-bronze",
   "metadata": {},
   "outputs": [],
   "source": [
    "#Renaming column header for better understanding\n",
    "dataset.columns = ['region1','region2','region3','tenure','age','martial','address','income','ed','employ','retire','gender','reside','custcat']"
   ]
  },
  {
   "cell_type": "code",
   "execution_count": 9,
   "id": "ahead-roulette",
   "metadata": {},
   "outputs": [
    {
     "data": {
      "text/html": [
       "<div>\n",
       "<style scoped>\n",
       "    .dataframe tbody tr th:only-of-type {\n",
       "        vertical-align: middle;\n",
       "    }\n",
       "\n",
       "    .dataframe tbody tr th {\n",
       "        vertical-align: top;\n",
       "    }\n",
       "\n",
       "    .dataframe thead th {\n",
       "        text-align: right;\n",
       "    }\n",
       "</style>\n",
       "<table border=\"1\" class=\"dataframe\">\n",
       "  <thead>\n",
       "    <tr style=\"text-align: right;\">\n",
       "      <th></th>\n",
       "      <th>region1</th>\n",
       "      <th>region2</th>\n",
       "      <th>tenure</th>\n",
       "      <th>age</th>\n",
       "      <th>martial</th>\n",
       "      <th>address</th>\n",
       "      <th>income</th>\n",
       "      <th>ed</th>\n",
       "      <th>employ</th>\n",
       "      <th>retire</th>\n",
       "      <th>gender</th>\n",
       "      <th>reside</th>\n",
       "      <th>custcat</th>\n",
       "    </tr>\n",
       "  </thead>\n",
       "  <tbody>\n",
       "    <tr>\n",
       "      <th>0</th>\n",
       "      <td>0.0</td>\n",
       "      <td>1.0</td>\n",
       "      <td>13.0</td>\n",
       "      <td>44.0</td>\n",
       "      <td>1.0</td>\n",
       "      <td>9.0</td>\n",
       "      <td>64.0</td>\n",
       "      <td>4.0</td>\n",
       "      <td>5.0</td>\n",
       "      <td>0.0</td>\n",
       "      <td>0.0</td>\n",
       "      <td>2.0</td>\n",
       "      <td>1.0</td>\n",
       "    </tr>\n",
       "    <tr>\n",
       "      <th>1</th>\n",
       "      <td>0.0</td>\n",
       "      <td>0.0</td>\n",
       "      <td>11.0</td>\n",
       "      <td>33.0</td>\n",
       "      <td>1.0</td>\n",
       "      <td>7.0</td>\n",
       "      <td>136.0</td>\n",
       "      <td>5.0</td>\n",
       "      <td>5.0</td>\n",
       "      <td>0.0</td>\n",
       "      <td>0.0</td>\n",
       "      <td>6.0</td>\n",
       "      <td>4.0</td>\n",
       "    </tr>\n",
       "    <tr>\n",
       "      <th>2</th>\n",
       "      <td>0.0</td>\n",
       "      <td>0.0</td>\n",
       "      <td>68.0</td>\n",
       "      <td>52.0</td>\n",
       "      <td>1.0</td>\n",
       "      <td>24.0</td>\n",
       "      <td>116.0</td>\n",
       "      <td>1.0</td>\n",
       "      <td>29.0</td>\n",
       "      <td>0.0</td>\n",
       "      <td>1.0</td>\n",
       "      <td>2.0</td>\n",
       "      <td>3.0</td>\n",
       "    </tr>\n",
       "    <tr>\n",
       "      <th>3</th>\n",
       "      <td>0.0</td>\n",
       "      <td>1.0</td>\n",
       "      <td>33.0</td>\n",
       "      <td>33.0</td>\n",
       "      <td>0.0</td>\n",
       "      <td>12.0</td>\n",
       "      <td>33.0</td>\n",
       "      <td>2.0</td>\n",
       "      <td>0.0</td>\n",
       "      <td>0.0</td>\n",
       "      <td>1.0</td>\n",
       "      <td>1.0</td>\n",
       "      <td>1.0</td>\n",
       "    </tr>\n",
       "    <tr>\n",
       "      <th>4</th>\n",
       "      <td>0.0</td>\n",
       "      <td>1.0</td>\n",
       "      <td>23.0</td>\n",
       "      <td>30.0</td>\n",
       "      <td>1.0</td>\n",
       "      <td>9.0</td>\n",
       "      <td>30.0</td>\n",
       "      <td>1.0</td>\n",
       "      <td>2.0</td>\n",
       "      <td>0.0</td>\n",
       "      <td>0.0</td>\n",
       "      <td>4.0</td>\n",
       "      <td>3.0</td>\n",
       "    </tr>\n",
       "    <tr>\n",
       "      <th>...</th>\n",
       "      <td>...</td>\n",
       "      <td>...</td>\n",
       "      <td>...</td>\n",
       "      <td>...</td>\n",
       "      <td>...</td>\n",
       "      <td>...</td>\n",
       "      <td>...</td>\n",
       "      <td>...</td>\n",
       "      <td>...</td>\n",
       "      <td>...</td>\n",
       "      <td>...</td>\n",
       "      <td>...</td>\n",
       "      <td>...</td>\n",
       "    </tr>\n",
       "    <tr>\n",
       "      <th>995</th>\n",
       "      <td>0.0</td>\n",
       "      <td>0.0</td>\n",
       "      <td>10.0</td>\n",
       "      <td>39.0</td>\n",
       "      <td>0.0</td>\n",
       "      <td>0.0</td>\n",
       "      <td>27.0</td>\n",
       "      <td>3.0</td>\n",
       "      <td>0.0</td>\n",
       "      <td>0.0</td>\n",
       "      <td>1.0</td>\n",
       "      <td>3.0</td>\n",
       "      <td>1.0</td>\n",
       "    </tr>\n",
       "    <tr>\n",
       "      <th>996</th>\n",
       "      <td>1.0</td>\n",
       "      <td>0.0</td>\n",
       "      <td>7.0</td>\n",
       "      <td>34.0</td>\n",
       "      <td>0.0</td>\n",
       "      <td>2.0</td>\n",
       "      <td>22.0</td>\n",
       "      <td>5.0</td>\n",
       "      <td>5.0</td>\n",
       "      <td>0.0</td>\n",
       "      <td>1.0</td>\n",
       "      <td>1.0</td>\n",
       "      <td>1.0</td>\n",
       "    </tr>\n",
       "    <tr>\n",
       "      <th>997</th>\n",
       "      <td>0.0</td>\n",
       "      <td>0.0</td>\n",
       "      <td>67.0</td>\n",
       "      <td>59.0</td>\n",
       "      <td>0.0</td>\n",
       "      <td>40.0</td>\n",
       "      <td>944.0</td>\n",
       "      <td>5.0</td>\n",
       "      <td>33.0</td>\n",
       "      <td>0.0</td>\n",
       "      <td>1.0</td>\n",
       "      <td>1.0</td>\n",
       "      <td>4.0</td>\n",
       "    </tr>\n",
       "    <tr>\n",
       "      <th>998</th>\n",
       "      <td>0.0</td>\n",
       "      <td>0.0</td>\n",
       "      <td>70.0</td>\n",
       "      <td>49.0</td>\n",
       "      <td>0.0</td>\n",
       "      <td>18.0</td>\n",
       "      <td>87.0</td>\n",
       "      <td>2.0</td>\n",
       "      <td>22.0</td>\n",
       "      <td>0.0</td>\n",
       "      <td>1.0</td>\n",
       "      <td>1.0</td>\n",
       "      <td>3.0</td>\n",
       "    </tr>\n",
       "    <tr>\n",
       "      <th>999</th>\n",
       "      <td>0.0</td>\n",
       "      <td>0.0</td>\n",
       "      <td>50.0</td>\n",
       "      <td>36.0</td>\n",
       "      <td>1.0</td>\n",
       "      <td>7.0</td>\n",
       "      <td>39.0</td>\n",
       "      <td>3.0</td>\n",
       "      <td>3.0</td>\n",
       "      <td>0.0</td>\n",
       "      <td>1.0</td>\n",
       "      <td>3.0</td>\n",
       "      <td>2.0</td>\n",
       "    </tr>\n",
       "  </tbody>\n",
       "</table>\n",
       "<p>1000 rows × 13 columns</p>\n",
       "</div>"
      ],
      "text/plain": [
       "     region1  region2  tenure   age  martial  address  income   ed  employ  \\\n",
       "0        0.0      1.0    13.0  44.0      1.0      9.0    64.0  4.0     5.0   \n",
       "1        0.0      0.0    11.0  33.0      1.0      7.0   136.0  5.0     5.0   \n",
       "2        0.0      0.0    68.0  52.0      1.0     24.0   116.0  1.0    29.0   \n",
       "3        0.0      1.0    33.0  33.0      0.0     12.0    33.0  2.0     0.0   \n",
       "4        0.0      1.0    23.0  30.0      1.0      9.0    30.0  1.0     2.0   \n",
       "..       ...      ...     ...   ...      ...      ...     ...  ...     ...   \n",
       "995      0.0      0.0    10.0  39.0      0.0      0.0    27.0  3.0     0.0   \n",
       "996      1.0      0.0     7.0  34.0      0.0      2.0    22.0  5.0     5.0   \n",
       "997      0.0      0.0    67.0  59.0      0.0     40.0   944.0  5.0    33.0   \n",
       "998      0.0      0.0    70.0  49.0      0.0     18.0    87.0  2.0    22.0   \n",
       "999      0.0      0.0    50.0  36.0      1.0      7.0    39.0  3.0     3.0   \n",
       "\n",
       "     retire  gender  reside  custcat  \n",
       "0       0.0     0.0     2.0      1.0  \n",
       "1       0.0     0.0     6.0      4.0  \n",
       "2       0.0     1.0     2.0      3.0  \n",
       "3       0.0     1.0     1.0      1.0  \n",
       "4       0.0     0.0     4.0      3.0  \n",
       "..      ...     ...     ...      ...  \n",
       "995     0.0     1.0     3.0      1.0  \n",
       "996     0.0     1.0     1.0      1.0  \n",
       "997     0.0     1.0     1.0      4.0  \n",
       "998     0.0     1.0     1.0      3.0  \n",
       "999     0.0     1.0     3.0      2.0  \n",
       "\n",
       "[1000 rows x 13 columns]"
      ]
     },
     "execution_count": 9,
     "metadata": {},
     "output_type": "execute_result"
    }
   ],
   "source": [
    "#Dropping dummy variable for region3 as if we have values for region1 and region2 we can determine region3\n",
    "dataset.drop(['region3'],inplace = True,axis=1)\n",
    "dataset"
   ]
  },
  {
   "cell_type": "markdown",
   "id": "hired-thong",
   "metadata": {},
   "source": [
    "<b>3) Create histograms of columns age and income to visually explore their distributions.</b>"
   ]
  },
  {
   "cell_type": "code",
   "execution_count": 10,
   "id": "understanding-transcription",
   "metadata": {},
   "outputs": [
    {
     "data": {
      "text/plain": [
       "Text(0.5, 1.0, 'Age frequency')"
      ]
     },
     "execution_count": 10,
     "metadata": {},
     "output_type": "execute_result"
    },
    {
     "data": {
      "image/png": "[encoded data removed]",
      "text/plain": [
       "<Figure size 432x288 with 1 Axes>"
      ]
     },
     "metadata": {
      "needs_background": "light"
     },
     "output_type": "display_data"
    }
   ],
   "source": [
    "#Plotting a histogram for 'age' column\n",
    "n, bins, patches = plt.hist(x=dataset['age'], bins='auto', color='#4169e1',\n",
    "                            alpha=0.7, rwidth=0.85)\n",
    "plt.grid(axis='y', alpha=0.75)\n",
    "plt.xlabel('Age')\n",
    "plt.ylabel('Frequency')\n",
    "plt.title('Age frequency')\n",
    "\n",
    "#'age' column doesn't show high left or right skewness"
   ]
  },
  {
   "cell_type": "code",
   "execution_count": 11,
   "id": "naughty-criminal",
   "metadata": {},
   "outputs": [
    {
     "data": {
      "text/plain": [
       "Text(0.5, 1.0, 'Income frequency')"
      ]
     },
     "execution_count": 11,
     "metadata": {},
     "output_type": "execute_result"
    },
    {
     "data": {
      "image/png": "[encoded data removed]",
      "text/plain": [
       "<Figure size 432x288 with 1 Axes>"
      ]
     },
     "metadata": {
      "needs_background": "light"
     },
     "output_type": "display_data"
    }
   ],
   "source": [
    "#Plotting a histogram for 'income' column\n",
    "bin_list = [0,50,100,150,200,250,300,350,400,450,500,550,600,650,700,750,800,850,900,950,1000]\n",
    "n, bins, patches = plt.hist(x=dataset['income'], bins=bin_list, color='#4169e1',\n",
    "                            alpha=0.7, rwidth=0.85)\n",
    "plt.grid(axis='y', alpha=0.75)\n",
    "plt.xlabel('Income')\n",
    "plt.ylabel('Frequency')\n",
    "plt.title('Income frequency')\n",
    "\n",
    "#'income' column is right skewed. The distribution is high betwwen 0-200."
   ]
  },
  {
   "cell_type": "markdown",
   "id": "worse-prayer",
   "metadata": {},
   "source": [
    "<b>4) Split the dataset into training (70%) and testing set (30%). Perform normalization of the data using standardization.</b>"
   ]
  },
  {
   "cell_type": "code",
   "execution_count": 12,
   "id": "federal-width",
   "metadata": {},
   "outputs": [],
   "source": [
    "#Splitting input variables and target variable\n",
    "X = dataset.iloc[:,0:12].values\n",
    "y = dataset.iloc[:,-1].values\n",
    "\n",
    "#Splitting the dataset into Training Set and Test Set\n",
    "from sklearn.model_selection import train_test_split\n",
    "X_train, X_test, y_train, y_test = train_test_split(X,y,test_size=0.3,stratify=y,random_state=0)"
   ]
  },
  {
   "cell_type": "code",
   "execution_count": 13,
   "id": "referenced-simon",
   "metadata": {},
   "outputs": [
    {
     "data": {
      "text/plain": [
       "(array([1., 2., 3., 4.]), array([186, 152, 197, 165], dtype=int64))"
      ]
     },
     "execution_count": 13,
     "metadata": {},
     "output_type": "execute_result"
    }
   ],
   "source": [
    "#Checking for class imbalance in Training and Test sets\n",
    "np.unique(y_train,return_counts=True)"
   ]
  },
  {
   "cell_type": "code",
   "execution_count": 14,
   "id": "filled-colombia",
   "metadata": {},
   "outputs": [
    {
     "data": {
      "text/plain": [
       "(array([1., 2., 3., 4.]), array([80, 65, 84, 71], dtype=int64))"
      ]
     },
     "execution_count": 14,
     "metadata": {},
     "output_type": "execute_result"
    }
   ],
   "source": [
    "np.unique(y_test,return_counts=True)"
   ]
  },
  {
   "cell_type": "code",
   "execution_count": 15,
   "id": "hispanic-house",
   "metadata": {},
   "outputs": [],
   "source": [
    "#Normalizing the data using standardization method\n",
    "from sklearn.preprocessing import StandardScaler\n",
    "sc_X = StandardScaler()\n",
    "X_train = sc_X.fit_transform(X_train)\n",
    "X_test = sc_X.transform(X_test)"
   ]
  },
  {
   "cell_type": "markdown",
   "id": "similar-operation",
   "metadata": {},
   "source": [
    "<b>5) Model 1: Fit a logistic regression model. What is the testing misclassification rate you get?</b>"
   ]
  },
  {
   "cell_type": "code",
   "execution_count": 17,
   "id": "thick-mathematics",
   "metadata": {},
   "outputs": [
    {
     "name": "stdout",
     "output_type": "stream",
     "text": [
      "Accuracy:0.38666666666666666\n",
      "\n",
      "Confusion Matrix:\n",
      "[[41  3 27  9]\n",
      " [14 16 23 12]\n",
      " [31 11 31 11]\n",
      " [19 15  9 28]]\n"
     ]
    }
   ],
   "source": [
    "#Fitting Logistic Regression model to Training Set\n",
    "from sklearn.linear_model import LogisticRegression\n",
    "logRegObj = LogisticRegression(random_state=0)\n",
    "logRegObj.fit(X_train, y_train)\n",
    "\n",
    "#Making predictions on the Test Set\n",
    "y_pred = logRegObj.predict(X_test)\n",
    "\n",
    "#Model Accuracy\n",
    "print(\"Accuracy:\" + str(logRegObj.score(X_test,y_test))+\"\\n\")\n",
    "\n",
    "#Evaluating the predictions using a Confusion Matrix\n",
    "from sklearn.metrics import confusion_matrix\n",
    "cm = confusion_matrix(y_test, y_pred)\n",
    "print(\"Confusion Matrix:\")\n",
    "print(cm)"
   ]
  },
  {
   "cell_type": "code",
   "execution_count": 18,
   "id": "existing-blond",
   "metadata": {},
   "outputs": [
    {
     "name": "stdout",
     "output_type": "stream",
     "text": [
      "Missclassfication Rates for Classes:\n",
      "\n",
      "Class1: 0.3433333333333333\n",
      "Class2: 0.26\n",
      "Class3: 0.37333333333333335\n",
      "Class4: 0.25\n",
      "\n",
      "Average Error Rate per Class: 0.30666666666666664\n"
     ]
    }
   ],
   "source": [
    "#Missclassification rate for all classes\n",
    "\n",
    "def getAvgMRperClass(cm):\n",
    "    total = np.sum(cm)\n",
    "\n",
    "    FP_c1,FN_c1 = np.sum(cm[1:,0]), np.sum(cm[0,1:])                         #Class1\n",
    "    missRate_1 = (FP_c1+FN_c1)/total\n",
    "\n",
    "    FP_c2,FN_c2 = (cm[0,1] + np.sum(cm[2:,1])),(cm[1,0] + np.sum(cm[1,2:]))  #Class2\n",
    "    missRate_2 = (FP_c2+FN_c2)/total\n",
    "\n",
    "    FP_c3,FN_c3 = (np.sum(cm[0:2,2])+cm[3,2]), (np.sum(cm[2,0:2]) + cm[2,3]) #Class3 \n",
    "    missRate_3 = (FP_c3+FN_c3)/total\n",
    "\n",
    "    FP_c4,FN_c4 = np.sum(cm[0:3,3]),np.sum(cm[3,0:3])                        #Class4\n",
    "    missRate_4 = (FP_c4+FN_c4)/total\n",
    "\n",
    "    avgMRperClass = (missRate_1+missRate_2+missRate_3+missRate_4)/len(cm)\n",
    "\n",
    "    return missRate_1,missRate_2,missRate_3,missRate_4,avgMRperClass\n",
    "\n",
    "missRate_1,missRate_2,missRate_3,missRate_4,avgMRperClass = getAvgMRperClass(cm)\n",
    "\n",
    "def printMissErrRatePerClass(missRate_1,missRate_2,missRate_3,missRate_4,avgMRperClass):\n",
    "    print(\"Missclassfication Rates for Classes:\\n\")\n",
    "    print(\"Class1: \"+str(missRate_1))\n",
    "    print(\"Class2: \"+str(missRate_2))\n",
    "    print(\"Class3: \"+str(missRate_3))\n",
    "    print(\"Class4: \"+str(missRate_4)+\"\\n\")\n",
    "    print(\"Average Error Rate per Class: \"+str(avgMRperClass))\n",
    "\n",
    "printMissErrRatePerClass(missRate_1,missRate_2,missRate_3,missRate_4,avgMRperClass)"
   ]
  },
  {
   "cell_type": "markdown",
   "id": "turned-boutique",
   "metadata": {},
   "source": [
    "<b>The testing missclassification error rate is 0.30.</b>"
   ]
  },
  {
   "cell_type": "markdown",
   "id": "invisible-groove",
   "metadata": {},
   "source": [
    "<b>6) Model 2: We will now fit k-NN. However for k-NN you need to specify the value for k. In order to figure that out, run k-NN in a loop with different values of k (starting from k=5) and compute the testing misclassification rate. Plot a chart with k on X-axis and testing error on the Y-axis. What is the lowest value of testing error and corresponding value of k?</b>"
   ]
  },
  {
   "cell_type": "code",
   "execution_count": 19,
   "id": "herbal-neutral",
   "metadata": {},
   "outputs": [],
   "source": [
    "#Fitting Classifier to Training Set. Create a classifier object here and call it classifierObj\n",
    "from sklearn.neighbors import KNeighborsClassifier\n",
    "from sklearn.metrics import confusion_matrix\n",
    "\n",
    "knn_accuracy_list = []\n",
    "knn_noOfCluster_list = []\n",
    "knn_avgErr_Rate_list = []\n",
    "\n",
    "def getCM(k):\n",
    "    knnObj = KNeighborsClassifier(n_neighbors=k)\n",
    "    knnObj.fit(X_train, y_train)\n",
    "    y_pred = knnObj.predict(X_test)                           #Making predictions on the Test Set\n",
    "    \n",
    "    knn_accuracy_list.append(knnObj.score(X_test,y_test))     #Model Accuracy\n",
    "    cm = confusion_matrix(y_test, y_pred)                     #Evaluating the predictions using a Confusion Matrix\n",
    "    \n",
    "    return cm\n",
    "\n",
    "for k in range(5,71,5):\n",
    "    cm_l = getCM(k)\n",
    "    mr_1,mr_2,mr_3,mr_4,avgMR = getAvgMRperClass(cm_l)\n",
    "    knn_avgErr_Rate_list.append(avgMR)\n",
    "    knn_noOfCluster_list.append(k)"
   ]
  },
  {
   "cell_type": "code",
   "execution_count": 20,
   "id": "virgin-hours",
   "metadata": {},
   "outputs": [
    {
     "data": {
      "image/png": "[encoded data removed]",
      "text/plain": [
       "<Figure size 432x288 with 1 Axes>"
      ]
     },
     "metadata": {
      "needs_background": "light"
     },
     "output_type": "display_data"
    }
   ],
   "source": [
    "#Plotting miss error rate for test vs No of neighbours\n",
    "plt.scatter(x=knn_noOfCluster_list,y=knn_avgErr_Rate_list)\n",
    "plt.plot(knn_noOfCluster_list,knn_avgErr_Rate_list)\n",
    "plt.title(\"Average Missclassification Rate Vs No of neighbours\")\n",
    "plt.xlabel(\"No of neighbours\")\n",
    "plt.ylabel(\"Avg Error Rate\")\n",
    "plt.show()"
   ]
  },
  {
   "cell_type": "code",
   "execution_count": 21,
   "id": "academic-waters",
   "metadata": {},
   "outputs": [
    {
     "data": {
      "image/png": "[encoded data removed]",
      "text/plain": [
       "<Figure size 432x288 with 1 Axes>"
      ]
     },
     "metadata": {
      "needs_background": "light"
     },
     "output_type": "display_data"
    }
   ],
   "source": [
    "#Plotting miss error rate for test vs accuracy\n",
    "plt.scatter(x=knn_noOfCluster_list,y=knn_accuracy_list)\n",
    "plt.plot(knn_noOfCluster_list,knn_accuracy_list)\n",
    "plt.title(\"Accuracy Vs No of neighbours\")\n",
    "plt.xlabel(\"No of neighbours\")\n",
    "plt.ylabel(\"Accuracy\")\n",
    "plt.show()"
   ]
  },
  {
   "cell_type": "code",
   "execution_count": 22,
   "id": "distinguished-delicious",
   "metadata": {},
   "outputs": [
    {
     "name": "stdout",
     "output_type": "stream",
     "text": [
      "[0.34833333333333333, 0.33999999999999997, 0.325, 0.32, 0.31833333333333336, 0.30999999999999994, 0.315, 0.32166666666666666, 0.30333333333333334, 0.29833333333333334, 0.295, 0.2916666666666667, 0.31166666666666665, 0.31166666666666665]\n",
      "[5, 10, 15, 20, 25, 30, 35, 40, 45, 50, 55, 60, 65, 70]\n",
      "[0.30333333333333334, 0.32, 0.35, 0.36, 0.36333333333333334, 0.38, 0.37, 0.3566666666666667, 0.3933333333333333, 0.4033333333333333, 0.41, 0.4166666666666667, 0.37666666666666665, 0.37666666666666665]\n"
     ]
    }
   ],
   "source": [
    "print(knn_avgErr_Rate_list)\n",
    "print(knn_noOfCluster_list)\n",
    "print(knn_accuracy_list)"
   ]
  },
  {
   "cell_type": "markdown",
   "id": "pending-ultimate",
   "metadata": {},
   "source": [
    "<b>The legible lowest missclassification rate is 0.30 for k=60.</b>"
   ]
  },
  {
   "cell_type": "markdown",
   "id": "olympic-portugal",
   "metadata": {},
   "source": [
    "<b>7) Model 3: Fit SVM model with different kernels. Which kernel gives the least testing error?</b>"
   ]
  },
  {
   "cell_type": "code",
   "execution_count": 23,
   "id": "infectious-peace",
   "metadata": {},
   "outputs": [
    {
     "name": "stdout",
     "output_type": "stream",
     "text": [
      "Accuracy: 0.37666666666666665\n",
      "\n",
      "Confusion Matrix:\n",
      "[[45  3 24  8]\n",
      " [13 16 23 13]\n",
      " [33 12 30  9]\n",
      " [22 15 12 22]]\n",
      "\n",
      "Missclassfication Rates for Classes:\n",
      "\n",
      "Class1: 0.3433333333333333\n",
      "Class2: 0.2633333333333333\n",
      "Class3: 0.37666666666666665\n",
      "Class4: 0.2633333333333333\n",
      "\n",
      "Average Error Rate per Class: 0.31166666666666665\n"
     ]
    }
   ],
   "source": [
    "# SVM Model with linear kernel\n",
    "from sklearn.svm import SVC\n",
    "svcLinearObj = SVC(kernel='linear')\n",
    "svcLinearObj.fit(X_train, y_train)\n",
    "\n",
    "\n",
    "#Making predictions on the Test Set\n",
    "y_pred = svcLinearObj.predict(X_test)\n",
    "\n",
    "#Model Accuracy\n",
    "print(\"Accuracy: \"+str(svcLinearObj.score(X_test,y_test)))\n",
    "\n",
    "#Evaluating the predictions using a Confusion Matrix\n",
    "from sklearn.metrics import confusion_matrix\n",
    "cm = confusion_matrix(y_test, y_pred)\n",
    "print(\"\\nConfusion Matrix:\")\n",
    "print(cm)\n",
    "\n",
    "missRate_1,missRate_2,missRate_3,missRate_4,avgMRperClass = getAvgMRperClass(cm)\n",
    "print()\n",
    "printMissErrRatePerClass(missRate_1,missRate_2,missRate_3,missRate_4,avgMRperClass)"
   ]
  },
  {
   "cell_type": "markdown",
   "id": "desperate-covering",
   "metadata": {},
   "source": [
    "<b>SVM-Linear Kernel-Missclassfication rate is 0.31.</b>"
   ]
  },
  {
   "cell_type": "code",
   "execution_count": 24,
   "id": "suitable-payroll",
   "metadata": {},
   "outputs": [
    {
     "name": "stdout",
     "output_type": "stream",
     "text": [
      "Accuracy: 0.36333333333333334\n",
      "\n",
      "Confusion Matrix:\n",
      "[[63  2 14  1]\n",
      " [32  8 17  8]\n",
      " [57  2 21  4]\n",
      " [41  4  9 17]]\n",
      "\n",
      "Missclassfication Rates for Classes:\n",
      "\n",
      "Class1: 0.49\n",
      "Class2: 0.21666666666666667\n",
      "Class3: 0.3433333333333333\n",
      "Class4: 0.22333333333333333\n",
      "\n",
      "Average Error Rate per Class: 0.31833333333333336\n"
     ]
    }
   ],
   "source": [
    "# SVM Model with poly kernel\n",
    "from sklearn.svm import SVC\n",
    "svcPolyObj = SVC(kernel='poly',degree=5)\n",
    "svcPolyObj.fit(X_train, y_train)\n",
    "\n",
    "#Making predictions on the Test Set\n",
    "y_pred = svcPolyObj.predict(X_test)\n",
    "\n",
    "#Model Accuracy\n",
    "print(\"Accuracy: \"+str(svcPolyObj.score(X_test,y_test)))\n",
    "\n",
    "#Evaluating the predictions using a Confusion Matrix\n",
    "from sklearn.metrics import confusion_matrix\n",
    "cm = confusion_matrix(y_test, y_pred)\n",
    "print(\"\\nConfusion Matrix:\")\n",
    "print(cm)\n",
    "\n",
    "missRate_1,missRate_2,missRate_3,missRate_4,avgMRperClass = getAvgMRperClass(cm)\n",
    "print()\n",
    "printMissErrRatePerClass(missRate_1,missRate_2,missRate_3,missRate_4,avgMRperClass)"
   ]
  },
  {
   "cell_type": "markdown",
   "id": "prime-canadian",
   "metadata": {},
   "source": [
    "<b>SVM-poly Kernel-Missclassfication rate is 0.32.</b>"
   ]
  },
  {
   "cell_type": "code",
   "execution_count": 25,
   "id": "orange-forest",
   "metadata": {},
   "outputs": [
    {
     "name": "stdout",
     "output_type": "stream",
     "text": [
      "Accuracy: 0.38333333333333336\n",
      "\n",
      "Confusion Matrix:\n",
      "[[45  4 24  7]\n",
      " [15 16 23 11]\n",
      " [31 10 31 12]\n",
      " [23 13 12 23]]\n",
      "\n",
      "Missclassfication Rates for Classes:\n",
      "\n",
      "Class1: 0.3466666666666667\n",
      "Class2: 0.25333333333333335\n",
      "Class3: 0.37333333333333335\n",
      "Class4: 0.26\n",
      "\n",
      "Average Error Rate per Class: 0.30833333333333335\n"
     ]
    }
   ],
   "source": [
    "# SVM Model with rbf kernel\n",
    "from sklearn.svm import SVC\n",
    "svcRbfObj = SVC(kernel='rbf')\n",
    "svcRbfObj.fit(X_train, y_train)\n",
    "\n",
    "\n",
    "#Making predictions on the Test Set\n",
    "y_pred = svcRbfObj.predict(X_test)\n",
    "\n",
    "#Model Accuracy\n",
    "print(\"Accuracy: \"+str(svcRbfObj.score(X_test,y_test)))\n",
    "\n",
    "#Evaluating the predictions using a Confusion Matrix\n",
    "from sklearn.metrics import confusion_matrix\n",
    "cm = confusion_matrix(y_test, y_pred)\n",
    "print(\"\\nConfusion Matrix:\")\n",
    "print(cm)\n",
    "\n",
    "missRate_1,missRate_2,missRate_3,missRate_4,avgMRperClass = getAvgMRperClass(cm)\n",
    "print()\n",
    "printMissErrRatePerClass(missRate_1,missRate_2,missRate_3,missRate_4,avgMRperClass)"
   ]
  },
  {
   "cell_type": "markdown",
   "id": "premier-september",
   "metadata": {},
   "source": [
    "<b>SVM-rbf Kernel-Missclassfication rate is 0.31.</b>"
   ]
  },
  {
   "cell_type": "code",
   "execution_count": 26,
   "id": "abstract-utilization",
   "metadata": {},
   "outputs": [
    {
     "name": "stdout",
     "output_type": "stream",
     "text": [
      "Accuracy: 0.38666666666666666\n",
      "\n",
      "Confusion Matrix:\n",
      "[[35  1 33 11]\n",
      " [14 11 28 12]\n",
      " [24  7 41 12]\n",
      " [15 10 17 29]]\n",
      "\n",
      "Missclassfication Rates for Classes:\n",
      "\n",
      "Class1: 0.32666666666666666\n",
      "Class2: 0.24\n",
      "Class3: 0.4033333333333333\n",
      "Class4: 0.25666666666666665\n",
      "\n",
      "Average Error Rate per Class: 0.30666666666666664\n"
     ]
    }
   ],
   "source": [
    "# SVM Model with sigmoid kernel\n",
    "from sklearn.svm import SVC\n",
    "svcSigmoidObj = SVC(kernel='sigmoid')\n",
    "svcSigmoidObj.fit(X_train, y_train)\n",
    "\n",
    "\n",
    "#Making predictions on the Test Set\n",
    "y_pred = svcSigmoidObj.predict(X_test)\n",
    "\n",
    "#Model Accuracy\n",
    "print(\"Accuracy: \"+str(svcSigmoidObj.score(X_test,y_test)))\n",
    "\n",
    "#Evaluating the predictions using a Confusion Matrix\n",
    "from sklearn.metrics import confusion_matrix\n",
    "cm = confusion_matrix(y_test, y_pred)\n",
    "print(\"\\nConfusion Matrix:\")\n",
    "print(cm)\n",
    "\n",
    "missRate_1,missRate_2,missRate_3,missRate_4,avgMRperClass = getAvgMRperClass(cm)\n",
    "print()\n",
    "printMissErrRatePerClass(missRate_1,missRate_2,missRate_3,missRate_4,avgMRperClass)"
   ]
  },
  {
   "cell_type": "markdown",
   "id": "rocky-yacht",
   "metadata": {},
   "source": [
    "<b>SVM-sigmoid Kernel-Missclassfication rate is 0.31.</b>"
   ]
  },
  {
   "cell_type": "markdown",
   "id": "vocational-antique",
   "metadata": {},
   "source": [
    "<b>Lowest testing missclassification error rate is 0.308 for rbf kernel SVM model.</b>"
   ]
  },
  {
   "cell_type": "markdown",
   "id": "sexual-competition",
   "metadata": {},
   "source": [
    "<b>8) Model 4: Fit Naïve Bayes model. What is the testing error you get?</b>"
   ]
  },
  {
   "cell_type": "code",
   "execution_count": 28,
   "id": "direct-union",
   "metadata": {},
   "outputs": [
    {
     "name": "stdout",
     "output_type": "stream",
     "text": [
      "Accuracy: 0.37\n",
      "[[60  2 12  6]\n",
      " [27 11 17 10]\n",
      " [43 11 23  7]\n",
      " [33 12  9 17]]\n",
      "\n",
      "Missclassfication Rates for Classes:\n",
      "\n",
      "Class1: 0.41\n",
      "Class2: 0.2633333333333333\n",
      "Class3: 0.33\n",
      "Class4: 0.25666666666666665\n",
      "\n",
      "Average Error Rate per Class: 0.315\n"
     ]
    }
   ],
   "source": [
    "#Fitting Classifier to Training Set. Create a classifier object here and call it classifierObj\n",
    "from sklearn.naive_bayes import GaussianNB\n",
    "gauObj = GaussianNB()\n",
    "gauObj.fit(X_train, y_train)\n",
    "\n",
    "\n",
    "#Making predictions on the Test Set\n",
    "y_pred = gauObj.predict(X_test)\n",
    "\n",
    "#Model Accuracy\n",
    "print(\"Accuracy: \"+str(gauObj.score(X_test,y_test)))\n",
    "\n",
    "#Evaluating the predictions using a Confusion Matrix\n",
    "from sklearn.metrics import confusion_matrix\n",
    "cm = confusion_matrix(y_test, y_pred)\n",
    "print(cm)\n",
    "\n",
    "missRate_1,missRate_2,missRate_3,missRate_4,avgMRperClass = getAvgMRperClass(cm)\n",
    "print()\n",
    "printMissErrRatePerClass(missRate_1,missRate_2,missRate_3,missRate_4,avgMRperClass)"
   ]
  },
  {
   "cell_type": "markdown",
   "id": "beneficial-commodity",
   "metadata": {},
   "source": [
    "<b>Missclassification rate is 0.315.</b>"
   ]
  },
  {
   "cell_type": "markdown",
   "id": "informal-sitting",
   "metadata": {},
   "source": [
    "<b>9) Model 5: Fit Random Forest model. For Random Forest, you need to specify the number of trees (n_estimators). In order to figure that out, run Random Forest in a loop with different values of n_estimators (starting from 10) and compute the testing misclassification rate. Plot a chart with n_estimators on X-axis and testing error on the Y-axis. What is the lowest value of testing error and corresponding value of n_estimators?<b>"
   ]
  },
  {
   "cell_type": "code",
   "execution_count": 29,
   "id": "rolled-vintage",
   "metadata": {},
   "outputs": [],
   "source": [
    "#Fitting Classifier to Training Set. Create a classifier object here and call it classifierObj\n",
    "from sklearn.ensemble import RandomForestClassifier\n",
    "\n",
    "rf_accuracy_list = []\n",
    "rf_noEst_list = []\n",
    "rf_avgErr_list = []\n",
    "\n",
    "def getCM(k):\n",
    "    rfObj = RandomForestClassifier(criterion='entropy',n_estimators=k)\n",
    "    rfObj.fit(X_train, y_train)\n",
    "    y_pred = rfObj.predict(X_test)                           #Making predictions on the Test Set\n",
    "    rf_accuracy_list.append(rfObj.score(X_test,y_test))     #Model Accuracy\n",
    "    cm = confusion_matrix(y_test, y_pred)                            #Evaluating the predictions using a Confusion Matrix\n",
    "    \n",
    "    return cm\n",
    "\n",
    "for k in range(10,101,5):\n",
    "    cm_l = getCM(k)\n",
    "    mr_1,mr_2,mr_3,mr_4,avgMR = getAvgMRperClass(cm_l)\n",
    "    rf_avgErr_list.append(avgMR)\n",
    "    rf_noEst_list.append(k)"
   ]
  },
  {
   "cell_type": "code",
   "execution_count": 30,
   "id": "facial-silicon",
   "metadata": {},
   "outputs": [
    {
     "data": {
      "image/png": "[encoded data removed]",
      "text/plain": [
       "<Figure size 432x288 with 1 Axes>"
      ]
     },
     "metadata": {
      "needs_background": "light"
     },
     "output_type": "display_data"
    }
   ],
   "source": [
    "#Plotting miss error rate for test vs No of estimators\n",
    "plt.scatter(x=rf_noEst_list,y=rf_avgErr_list)\n",
    "plt.plot(rf_noEst_list,rf_avgErr_list)\n",
    "plt.title(\"Average Missclassification Rate Vs No of neighbours\")\n",
    "plt.xlabel(\"No of neighbours\")\n",
    "plt.ylabel(\"Avg Error Rate\")\n",
    "plt.show()"
   ]
  },
  {
   "cell_type": "code",
   "execution_count": 31,
   "id": "noted-boulder",
   "metadata": {},
   "outputs": [
    {
     "data": {
      "image/png": "[encoded data removed]",
      "text/plain": [
       "<Figure size 432x288 with 1 Axes>"
      ]
     },
     "metadata": {
      "needs_background": "light"
     },
     "output_type": "display_data"
    }
   ],
   "source": [
    "#Plotting miss error rate for test vs accuracy\n",
    "plt.scatter(x=rf_noEst_list,y=rf_accuracy_list)\n",
    "plt.plot(rf_noEst_list,rf_accuracy_list)\n",
    "plt.title(\"Accuracy Vs No of estimators\")\n",
    "plt.xlabel(\"No of estimators\")\n",
    "plt.ylabel(\"Accuracy\")\n",
    "plt.show()"
   ]
  },
  {
   "cell_type": "code",
   "execution_count": 32,
   "id": "blond-portrait",
   "metadata": {},
   "outputs": [
    {
     "name": "stdout",
     "output_type": "stream",
     "text": [
      "[0.3333333333333333, 0.33, 0.32, 0.32166666666666666, 0.31333333333333335, 0.32999999999999996, 0.32333333333333336, 0.31166666666666665, 0.32999999999999996, 0.315, 0.30999999999999994, 0.3233333333333333, 0.31333333333333335, 0.31833333333333336, 0.32166666666666666, 0.30833333333333335, 0.3333333333333333, 0.31666666666666665, 0.31166666666666665]\n",
      "[10, 15, 20, 25, 30, 35, 40, 45, 50, 55, 60, 65, 70, 75, 80, 85, 90, 95, 100]\n",
      "[0.3333333333333333, 0.34, 0.36, 0.3566666666666667, 0.37333333333333335, 0.34, 0.35333333333333333, 0.37666666666666665, 0.34, 0.37, 0.38, 0.35333333333333333, 0.37333333333333335, 0.36333333333333334, 0.3566666666666667, 0.38333333333333336, 0.3333333333333333, 0.36666666666666664, 0.37666666666666665]\n"
     ]
    }
   ],
   "source": [
    "print(rf_avgErr_list)\n",
    "print(rf_noEst_list)\n",
    "print(rf_accuracy_list)"
   ]
  },
  {
   "cell_type": "markdown",
   "id": "working-speaker",
   "metadata": {},
   "source": [
    "<b>The lowest missclassification rate is 0.301 for n_estimators=85.</b>"
   ]
  },
  {
   "cell_type": "markdown",
   "id": "successful-mediterranean",
   "metadata": {},
   "source": [
    "<b>Q10) Predicting with Ensemble: Now that you have built 5 models. Loop over the testing set. For every test instance, have each of the models predict the class label. Eventual class predicted will be based on a majority vote of the 5 models. What is the testing misclassification rate you get with the ensemble model?</b>"
   ]
  },
  {
   "cell_type": "code",
   "execution_count": 33,
   "id": "miniature-advice",
   "metadata": {},
   "outputs": [],
   "source": [
    "from collections import Counter\n",
    "\n",
    "#Fitting knn and random forest models with selected values of n_neighbours and n_estimators\n",
    "knnObj = KNeighborsClassifier(n_neighbors=30)\n",
    "knnObj.fit(X_train, y_train)\n",
    "rfObj = RandomForestClassifier(criterion='entropy',n_estimators=30)\n",
    "rfObj.fit(X_train, y_train)\n",
    "y_en_pred = []\n",
    "\n",
    "for x in X_test:\n",
    "    y_pred_lst = []\n",
    "    y_pred_lst.append((logRegObj.predict(x.reshape(1,-1))).item(0))  #Model1\n",
    "    y_pred_lst.append((knnObj.predict(x.reshape(1,-1))).item(0))   #Model2\n",
    "    y_pred_lst.append((svcLinearObj.predict(x.reshape(1,-1))).item(0))   #Model3\n",
    "    y_pred_lst.append((gauObj.predict(x.reshape(1,-1))).item(0))      #Model4\n",
    "    y_pred_lst.append((rfObj.predict(x.reshape(1,-1))).item(0))          #Model5\n",
    "    class_count = Counter(y_pred_lst)\n",
    "    max_cls_count = class_count.most_common(1)\n",
    "    y_en_pred.append(max_cls_count[0][0])\n",
    "    "
   ]
  },
  {
   "cell_type": "code",
   "execution_count": 35,
   "id": "proved-dominant",
   "metadata": {},
   "outputs": [
    {
     "name": "stdout",
     "output_type": "stream",
     "text": [
      "Confusion Marix: \n",
      "\n",
      "[[49  4 19  8]\n",
      " [17 16 22 10]\n",
      " [36 11 27 10]\n",
      " [27 15 10 19]]\n",
      "\n",
      "Missclassfication Rates for Classes:\n",
      "\n",
      "Class1: 0.37\n",
      "Class2: 0.2633333333333333\n",
      "Class3: 0.36\n",
      "Class4: 0.26666666666666666\n",
      "\n",
      "Average Error Rate per Class: 0.315\n"
     ]
    }
   ],
   "source": [
    "cm = confusion_matrix(y_test, y_en_pred)\n",
    "print(\"Confusion Marix: \\n\")\n",
    "print(cm)\n",
    "\n",
    "missRate_1,missRate_2,missRate_3,missRate_4,avgMRperClass = getAvgMRperClass(cm)\n",
    "\n",
    "print()\n",
    "printMissErrRatePerClass(missRate_1,missRate_2,missRate_3,missRate_4,avgMRperClass)\n"
   ]
  },
  {
   "cell_type": "markdown",
   "id": "associate-survival",
   "metadata": {},
   "source": [
    "<b>Missclassification rate for ensemble model is 0.31.</b>"
   ]
  },
  {
   "cell_type": "code",
   "execution_count": null,
   "id": "operational-wells",
   "metadata": {},
   "outputs": [],
   "source": []
  }
 ],
 "metadata": {
  "kernelspec": {
   "display_name": "Python 3",
   "language": "python",
   "name": "python3"
  },
  "language_info": {
   "codemirror_mode": {
    "name": "ipython",
    "version": 3
   },
   "file_extension": ".py",
   "mimetype": "text/x-python",
   "name": "python",
   "nbconvert_exporter": "python",
   "pygments_lexer": "ipython3",
   "version": "3.8.5"
  }
 },
 "nbformat": 4,
 "nbformat_minor": 5
}
