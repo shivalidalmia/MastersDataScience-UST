{
 "cells": [
  {
   "cell_type": "markdown",
   "id": "stupid-membership",
   "metadata": {},
   "source": [
    "<b>SEIS763-02-Machine Learning <br>\n",
    "Assignment1  <br>                                                                                               \n",
    "Shivali Dalmia</b>"
   ]
  },
  {
   "cell_type": "code",
   "execution_count": 154,
   "id": "applicable-tobacco",
   "metadata": {},
   "outputs": [],
   "source": [
    "#Importing required libraries\n",
    "import numpy as np"
   ]
  },
  {
   "cell_type": "markdown",
   "id": "affected-national",
   "metadata": {},
   "source": [
    "1) Create a vector of size 15 having third element (i.e. position 2) set to 1 and rest of the elements should be zero."
   ]
  },
  {
   "cell_type": "code",
   "execution_count": 155,
   "id": "portuguese-diamond",
   "metadata": {},
   "outputs": [
    {
     "name": "stdout",
     "output_type": "stream",
     "text": [
      "Horizontal vector\n",
      "[0 0 1 0 0 0 0 0 0 0 0 0 0 0 0]\n",
      "\n",
      "Vertical Vector\n",
      "[[0]\n",
      " [0]\n",
      " [1]\n",
      " [0]\n",
      " [0]\n",
      " [0]\n",
      " [0]\n",
      " [0]\n",
      " [0]\n",
      " [0]\n",
      " [0]\n",
      " [0]\n",
      " [0]\n",
      " [0]\n",
      " [0]]\n"
     ]
    }
   ],
   "source": [
    "#Horizontal vector\n",
    "hvector = np.zeros((15),dtype=int)\n",
    "hvector[2] = 1\n",
    "print(\"Horizontal vector\")\n",
    "print(hvector)\n",
    "\n",
    "print(\"\")\n",
    "\n",
    "#Vertical vector\n",
    "vvector = np.zeros((15,1),dtype=int)\n",
    "vvector[2,0] = 1\n",
    "print(\"Vertical Vector\")\n",
    "print(vvector)"
   ]
  },
  {
   "cell_type": "markdown",
   "id": "neural-motor",
   "metadata": {},
   "source": [
    "2) Create a vector with values ranging from 21 to 30."
   ]
  },
  {
   "cell_type": "code",
   "execution_count": 156,
   "id": "integral-thesis",
   "metadata": {},
   "outputs": [
    {
     "name": "stdout",
     "output_type": "stream",
     "text": [
      "[21 22 23 24 25 26 27 28 29 30]\n"
     ]
    }
   ],
   "source": [
    "#Vector with values ranging from 21 to 30.\n",
    "vector2 = np.arange(21,31)\n",
    "print(vector2)"
   ]
  },
  {
   "cell_type": "markdown",
   "id": "forbidden-expansion",
   "metadata": {},
   "source": [
    "3) Reverse the order of elements in the vector in question 2. That is, the previous last element should be the first one now."
   ]
  },
  {
   "cell_type": "code",
   "execution_count": 157,
   "id": "private-music",
   "metadata": {},
   "outputs": [
    {
     "name": "stdout",
     "output_type": "stream",
     "text": [
      "[30 29 28 27 26 25 24 23 22 21]\n"
     ]
    }
   ],
   "source": [
    "#Reversing the order elements in vector2.\n",
    "vector2 = np.flip(vector2,axis=0)\n",
    "print(vector2)"
   ]
  },
  {
   "cell_type": "markdown",
   "id": "straight-ecology",
   "metadata": {},
   "source": [
    "4) Define a vector with values ranging from 1 to 12. Now define a 4x3 matrix to store elements from the vector you have defined. That is, first 3 elements of the vector should be row 1 of the matrix, next 3 should be row 2, and so on."
   ]
  },
  {
   "cell_type": "code",
   "execution_count": 158,
   "id": "powerful-puzzle",
   "metadata": {},
   "outputs": [
    {
     "name": "stdout",
     "output_type": "stream",
     "text": [
      "[[ 1  2  3]\n",
      " [ 4  5  6]\n",
      " [ 7  8  9]\n",
      " [10 11 12]]\n"
     ]
    }
   ],
   "source": [
    "#Creating a matrix with values from 1 to 12.\n",
    "vector4 = np.arange(1,13)\n",
    "matrix4 = vector4.reshape((4,3))\n",
    "print(matrix4)"
   ]
  },
  {
   "cell_type": "markdown",
   "id": "solar-desert",
   "metadata": {},
   "source": [
    "5) Consider the 4x3 matrix from question 4. Add 100 to all values that are greater than equal to 3 and less than equal to 8."
   ]
  },
  {
   "cell_type": "code",
   "execution_count": 159,
   "id": "innocent-cause",
   "metadata": {},
   "outputs": [
    {
     "name": "stdout",
     "output_type": "stream",
     "text": [
      "[[  1   2 103]\n",
      " [104 105 106]\n",
      " [107 108   9]\n",
      " [ 10  11  12]]\n"
     ]
    }
   ],
   "source": [
    "#Adding 100 to values in matrix4 where 3<=number<=8.\n",
    "filter1 = np.logical_and(matrix4 >= 3, matrix4 <=8)\n",
    "matrix4[filter1] += 100\n",
    "print(matrix4)"
   ]
  },
  {
   "cell_type": "markdown",
   "id": "executed-cursor",
   "metadata": {},
   "source": [
    "6) Consider the vector x = [1, 0, 6, 9, 10, 0]. Print the indices of non-zero elements."
   ]
  },
  {
   "cell_type": "code",
   "execution_count": 160,
   "id": "devoted-workshop",
   "metadata": {},
   "outputs": [
    {
     "name": "stdout",
     "output_type": "stream",
     "text": [
      "(array([0, 2, 3, 4], dtype=int64),)\n"
     ]
    }
   ],
   "source": [
    "#Get indices of non zero elements\n",
    "x=np.array([1,0,6,9,10,0])\n",
    "indices = np.where(x != 0)\n",
    "print(indices)"
   ]
  },
  {
   "cell_type": "markdown",
   "id": "pursuant-payday",
   "metadata": {},
   "source": [
    "7) Define a 6x3 matrix with random values. Normalize this matrix by subtracting the mean (of the column) and dividing by the standard deviation (of the column)."
   ]
  },
  {
   "cell_type": "code",
   "execution_count": 161,
   "id": "relevant-thousand",
   "metadata": {},
   "outputs": [
    {
     "name": "stdout",
     "output_type": "stream",
     "text": [
      "Matrix is\n",
      "[[ 2 18 14]\n",
      " [19  4  4]\n",
      " [ 5 18  0]\n",
      " [ 9 19  9]\n",
      " [19  5  1]\n",
      " [10 19 18]]\n",
      "\n",
      "Column wise Mean\n",
      "[10.66666667 13.83333333  7.66666667]\n",
      "\n",
      "Column wise SD\n",
      "[6.44635987 6.61857655 6.64997911]\n",
      "\n",
      "Normalized matrix is\n",
      "[[-1.34442799  0.62954121  0.95238394]\n",
      " [ 1.29271922 -1.48571725 -0.55138018]\n",
      " [-0.87904907  0.62954121 -1.15288583]\n",
      " [-0.25854384  0.7806311   0.20050188]\n",
      " [ 1.29271922 -1.33462736 -1.00250941]\n",
      " [-0.10341754  0.7806311   1.55388959]]\n"
     ]
    }
   ],
   "source": [
    "#Creating a 6X3 matrix with random 18 values.\n",
    "matrix7 = np.random.randint(20,size=(6,3))\n",
    "print(\"Matrix is\")\n",
    "print(matrix7)\n",
    "print()\n",
    "\n",
    "#Calculating column wise mean\n",
    "column_mean = matrix7.mean(axis=0)\n",
    "print(\"Column wise Mean\")\n",
    "print(column_mean)\n",
    "print()\n",
    "\n",
    "#Calculating std deviation column wise\n",
    "column_sd = matrix7.std(axis=0)\n",
    "print(\"Column wise SD\")\n",
    "print(column_sd)\n",
    "print()\n",
    "\n",
    "#Normalizing matrix7 by subtracting column mean and dividing by column_sd\n",
    "matrix7 = matrix7 - column_mean\n",
    "matrix7 = matrix7 / column_sd\n",
    "print(\"Normalized matrix is\")\n",
    "print(matrix7)"
   ]
  },
  {
   "cell_type": "markdown",
   "id": "challenging-mother",
   "metadata": {},
   "source": [
    "8) Define a 3x4 matrix with random values. Define a 4x3 matrix with random values. Multiply the two matrices."
   ]
  },
  {
   "cell_type": "code",
   "execution_count": 162,
   "id": "offshore-cradle",
   "metadata": {},
   "outputs": [
    {
     "name": "stdout",
     "output_type": "stream",
     "text": [
      "Matrix 1 is\n",
      "[[ 3  2  3  4]\n",
      " [ 2 11  5  6]\n",
      " [ 0  7  1  3]]\n",
      "\n",
      "Matrix 2 is\n",
      "[[ 3  2  3  4]\n",
      " [ 2 11  5  6]\n",
      " [ 0  7  1  3]]\n",
      "\n",
      "Result\n",
      "[[ 65  23  65]\n",
      " [139  40 103]\n",
      " [ 64  12  35]]\n"
     ]
    }
   ],
   "source": [
    "#Creating matrix1 with random values\n",
    "matrix8_1 = np.random.randint(12,size=(3,4))\n",
    "print(\"Matrix 1 is\")\n",
    "print(matrix8_1)\n",
    "print()\n",
    "\n",
    "#Creating matrix2 with random values\n",
    "matrix8_2 = np.random.randint(12,size=(4,3))\n",
    "print(\"Matrix 2 is\")\n",
    "print(matrix8_1)\n",
    "print()\n",
    "\n",
    "#Printing dot product of two matrix\n",
    "print(\"Result\")\n",
    "print(np.dot(matrix8_1,matrix8_2))"
   ]
  },
  {
   "cell_type": "markdown",
   "id": "rocky-intermediate",
   "metadata": {},
   "source": [
    "9) Define a 3x3 identity matrix."
   ]
  },
  {
   "cell_type": "code",
   "execution_count": 163,
   "id": "ignored-campbell",
   "metadata": {},
   "outputs": [
    {
     "name": "stdout",
     "output_type": "stream",
     "text": [
      "[[1 0 0]\n",
      " [0 1 0]\n",
      " [0 0 1]]\n"
     ]
    }
   ],
   "source": [
    "#Defining 3X3 identity matrix\n",
    "matrix9 = np.eye(3,3,dtype=int)\n",
    "print(matrix9)"
   ]
  },
  {
   "cell_type": "markdown",
   "id": "potential-bangladesh",
   "metadata": {},
   "source": [
    "10) Define a 3x3 matrix A with random values. Invert the matrix A, let’s call this B. Multiply matrices A and B."
   ]
  },
  {
   "cell_type": "code",
   "execution_count": 164,
   "id": "operational-cincinnati",
   "metadata": {},
   "outputs": [
    {
     "name": "stdout",
     "output_type": "stream",
     "text": [
      "Matrix A is\n",
      "[[8 6 8]\n",
      " [3 3 4]\n",
      " [3 5 8]]\n",
      "\n",
      "Matrix B is\n",
      "[[ 5.00000000e-01 -1.00000000e+00  5.55111512e-17]\n",
      " [-1.50000000e+00  5.00000000e+00 -1.00000000e+00]\n",
      " [ 7.50000000e-01 -2.75000000e+00  7.50000000e-01]]\n",
      "\n",
      "Result is\n",
      "[[ 1.00000000e+00  0.00000000e+00 -8.88178420e-16]\n",
      " [-4.44089210e-16  1.00000000e+00 -4.44089210e-16]\n",
      " [ 0.00000000e+00 -3.55271368e-15  1.00000000e+00]]\n"
     ]
    }
   ],
   "source": [
    "#Defining matrix A with random values\n",
    "A = np.random.randint(9,size=(3,3))\n",
    "print(\"Matrix A is\")\n",
    "print(A)\n",
    "print()\n",
    "\n",
    "#Inverting matrix A\n",
    "B = np.linalg.inv(A)\n",
    "print(\"Matrix B is\")\n",
    "print(B)\n",
    "print()\n",
    "\n",
    "#Dot product of A.B\n",
    "result = np.dot(A,B)\n",
    "print(\"Result is\")\n",
    "print(result)"
   ]
  },
  {
   "cell_type": "markdown",
   "id": "rapid-jumping",
   "metadata": {},
   "source": [
    "11) Load the dataset into a pandas dataframe and display the first 5 lines of the dataset along with the column headings. Note that the data does not come along with the column headings, so you should be adding that to the data frame."
   ]
  },
  {
   "cell_type": "code",
   "execution_count": 165,
   "id": "flush-envelope",
   "metadata": {},
   "outputs": [],
   "source": [
    "import pandas as pd"
   ]
  },
  {
   "cell_type": "code",
   "execution_count": 166,
   "id": "immediate-mountain",
   "metadata": {},
   "outputs": [
    {
     "data": {
      "text/html": [
       "<div>\n",
       "<style scoped>\n",
       "    .dataframe tbody tr th:only-of-type {\n",
       "        vertical-align: middle;\n",
       "    }\n",
       "\n",
       "    .dataframe tbody tr th {\n",
       "        vertical-align: top;\n",
       "    }\n",
       "\n",
       "    .dataframe thead th {\n",
       "        text-align: right;\n",
       "    }\n",
       "</style>\n",
       "<table border=\"1\" class=\"dataframe\">\n",
       "  <thead>\n",
       "    <tr style=\"text-align: right;\">\n",
       "      <th></th>\n",
       "      <th>firstname</th>\n",
       "      <th>lastname</th>\n",
       "      <th>age</th>\n",
       "      <th>company name</th>\n",
       "      <th>street name</th>\n",
       "      <th>city</th>\n",
       "      <th>county</th>\n",
       "      <th>state</th>\n",
       "      <th>zipcode</th>\n",
       "      <th>phone number</th>\n",
       "      <th>email</th>\n",
       "      <th>url</th>\n",
       "    </tr>\n",
       "  </thead>\n",
       "  <tbody>\n",
       "    <tr>\n",
       "      <th>0</th>\n",
       "      <td>Arminda</td>\n",
       "      <td>Parvis</td>\n",
       "      <td>22.0</td>\n",
       "      <td>Newtec Inc</td>\n",
       "      <td>1 Huntwood Ave</td>\n",
       "      <td>Phoenix</td>\n",
       "      <td>Maricopa</td>\n",
       "      <td>AZ</td>\n",
       "      <td>85017.0</td>\n",
       "      <td>602-906-9419</td>\n",
       "      <td>arminda@parvis.com</td>\n",
       "      <td>http://www.newtecinc.com</td>\n",
       "    </tr>\n",
       "    <tr>\n",
       "      <th>1</th>\n",
       "      <td>Herminia</td>\n",
       "      <td>Nicolozakes</td>\n",
       "      <td>59.0</td>\n",
       "      <td>Sea Island Div Of Fstr Ind Inc</td>\n",
       "      <td>4 58th St #3519</td>\n",
       "      <td>Scottsdale</td>\n",
       "      <td>Maricopa</td>\n",
       "      <td>AZ</td>\n",
       "      <td>85254.0</td>\n",
       "      <td>602-954-5141</td>\n",
       "      <td>herminia@nicolozakes.org</td>\n",
       "      <td>http://www.seaislanddivoffstrindinc.com</td>\n",
       "    </tr>\n",
       "    <tr>\n",
       "      <th>2</th>\n",
       "      <td>Christiane</td>\n",
       "      <td>Eschberger</td>\n",
       "      <td>71.0</td>\n",
       "      <td>Casco Services Inc</td>\n",
       "      <td>96541 W Central Blvd</td>\n",
       "      <td>Phoenix</td>\n",
       "      <td>Maricopa</td>\n",
       "      <td>AZ</td>\n",
       "      <td>85034.0</td>\n",
       "      <td>602-390-4944</td>\n",
       "      <td>christiane.eschberger@yahoo.com</td>\n",
       "      <td>http://www.cascoservicesinc.com</td>\n",
       "    </tr>\n",
       "    <tr>\n",
       "      <th>3</th>\n",
       "      <td>Helene</td>\n",
       "      <td>Rodenberger</td>\n",
       "      <td>30.0</td>\n",
       "      <td>Bailey Transportation Prod Inc</td>\n",
       "      <td>347 Chestnut St</td>\n",
       "      <td>Peoria</td>\n",
       "      <td>Maricopa</td>\n",
       "      <td>AZ</td>\n",
       "      <td>85381.0</td>\n",
       "      <td>623-461-8551</td>\n",
       "      <td>helene@aol.com</td>\n",
       "      <td>http://www.baileytransportationprodinc.com</td>\n",
       "    </tr>\n",
       "    <tr>\n",
       "      <th>4</th>\n",
       "      <td>Regenia</td>\n",
       "      <td>Kannady</td>\n",
       "      <td>NaN</td>\n",
       "      <td>Ken Jeter Store Equipment Inc</td>\n",
       "      <td>10759 Main St</td>\n",
       "      <td>Scottsdale</td>\n",
       "      <td>Maricopa</td>\n",
       "      <td>AZ</td>\n",
       "      <td>85260.0</td>\n",
       "      <td>480-726-1280</td>\n",
       "      <td>regenia.kannady@cox.net</td>\n",
       "      <td>http://www.kenjeterstoreequipmentinc.com</td>\n",
       "    </tr>\n",
       "  </tbody>\n",
       "</table>\n",
       "</div>"
      ],
      "text/plain": [
       "    firstname     lastname   age                    company name  \\\n",
       "0     Arminda       Parvis  22.0                      Newtec Inc   \n",
       "1    Herminia  Nicolozakes  59.0  Sea Island Div Of Fstr Ind Inc   \n",
       "2  Christiane   Eschberger  71.0              Casco Services Inc   \n",
       "3      Helene  Rodenberger  30.0  Bailey Transportation Prod Inc   \n",
       "4     Regenia      Kannady   NaN   Ken Jeter Store Equipment Inc   \n",
       "\n",
       "            street name        city    county state  zipcode  phone number  \\\n",
       "0        1 Huntwood Ave     Phoenix  Maricopa    AZ  85017.0  602-906-9419   \n",
       "1       4 58th St #3519  Scottsdale  Maricopa    AZ  85254.0  602-954-5141   \n",
       "2  96541 W Central Blvd     Phoenix  Maricopa    AZ  85034.0  602-390-4944   \n",
       "3       347 Chestnut St      Peoria  Maricopa    AZ  85381.0  623-461-8551   \n",
       "4         10759 Main St  Scottsdale  Maricopa    AZ  85260.0  480-726-1280   \n",
       "\n",
       "                             email                                         url  \n",
       "0               arminda@parvis.com                    http://www.newtecinc.com  \n",
       "1         herminia@nicolozakes.org     http://www.seaislanddivoffstrindinc.com  \n",
       "2  christiane.eschberger@yahoo.com             http://www.cascoservicesinc.com  \n",
       "3                   helene@aol.com  http://www.baileytransportationprodinc.com  \n",
       "4          regenia.kannady@cox.net    http://www.kenjeterstoreequipmentinc.com  "
      ]
     },
     "execution_count": 166,
     "metadata": {},
     "output_type": "execute_result"
    }
   ],
   "source": [
    "#Reading people dataset\n",
    "people = pd.read_csv(\"people.csv\")\n",
    "\n",
    "#Adding column names\n",
    "people.columns = ['firstname', 'lastname', 'age', 'company name', 'street name', 'city', 'county', 'state', 'zipcode', 'phone number','email', 'url']\n",
    "\n",
    "#Print first 5 rows\n",
    "people.head()"
   ]
  },
  {
   "cell_type": "markdown",
   "id": "circular-bradley",
   "metadata": {},
   "source": [
    "12) Drop the county column."
   ]
  },
  {
   "cell_type": "code",
   "execution_count": 167,
   "id": "homeless-canal",
   "metadata": {},
   "outputs": [
    {
     "data": {
      "text/html": [
       "<div>\n",
       "<style scoped>\n",
       "    .dataframe tbody tr th:only-of-type {\n",
       "        vertical-align: middle;\n",
       "    }\n",
       "\n",
       "    .dataframe tbody tr th {\n",
       "        vertical-align: top;\n",
       "    }\n",
       "\n",
       "    .dataframe thead th {\n",
       "        text-align: right;\n",
       "    }\n",
       "</style>\n",
       "<table border=\"1\" class=\"dataframe\">\n",
       "  <thead>\n",
       "    <tr style=\"text-align: right;\">\n",
       "      <th></th>\n",
       "      <th>firstname</th>\n",
       "      <th>lastname</th>\n",
       "      <th>age</th>\n",
       "      <th>company name</th>\n",
       "      <th>street name</th>\n",
       "      <th>city</th>\n",
       "      <th>state</th>\n",
       "      <th>zipcode</th>\n",
       "      <th>phone number</th>\n",
       "      <th>email</th>\n",
       "      <th>url</th>\n",
       "    </tr>\n",
       "  </thead>\n",
       "  <tbody>\n",
       "    <tr>\n",
       "      <th>0</th>\n",
       "      <td>Arminda</td>\n",
       "      <td>Parvis</td>\n",
       "      <td>22.0</td>\n",
       "      <td>Newtec Inc</td>\n",
       "      <td>1 Huntwood Ave</td>\n",
       "      <td>Phoenix</td>\n",
       "      <td>AZ</td>\n",
       "      <td>85017.0</td>\n",
       "      <td>602-906-9419</td>\n",
       "      <td>arminda@parvis.com</td>\n",
       "      <td>http://www.newtecinc.com</td>\n",
       "    </tr>\n",
       "    <tr>\n",
       "      <th>1</th>\n",
       "      <td>Herminia</td>\n",
       "      <td>Nicolozakes</td>\n",
       "      <td>59.0</td>\n",
       "      <td>Sea Island Div Of Fstr Ind Inc</td>\n",
       "      <td>4 58th St #3519</td>\n",
       "      <td>Scottsdale</td>\n",
       "      <td>AZ</td>\n",
       "      <td>85254.0</td>\n",
       "      <td>602-954-5141</td>\n",
       "      <td>herminia@nicolozakes.org</td>\n",
       "      <td>http://www.seaislanddivoffstrindinc.com</td>\n",
       "    </tr>\n",
       "    <tr>\n",
       "      <th>2</th>\n",
       "      <td>Christiane</td>\n",
       "      <td>Eschberger</td>\n",
       "      <td>71.0</td>\n",
       "      <td>Casco Services Inc</td>\n",
       "      <td>96541 W Central Blvd</td>\n",
       "      <td>Phoenix</td>\n",
       "      <td>AZ</td>\n",
       "      <td>85034.0</td>\n",
       "      <td>602-390-4944</td>\n",
       "      <td>christiane.eschberger@yahoo.com</td>\n",
       "      <td>http://www.cascoservicesinc.com</td>\n",
       "    </tr>\n",
       "    <tr>\n",
       "      <th>3</th>\n",
       "      <td>Helene</td>\n",
       "      <td>Rodenberger</td>\n",
       "      <td>30.0</td>\n",
       "      <td>Bailey Transportation Prod Inc</td>\n",
       "      <td>347 Chestnut St</td>\n",
       "      <td>Peoria</td>\n",
       "      <td>AZ</td>\n",
       "      <td>85381.0</td>\n",
       "      <td>623-461-8551</td>\n",
       "      <td>helene@aol.com</td>\n",
       "      <td>http://www.baileytransportationprodinc.com</td>\n",
       "    </tr>\n",
       "    <tr>\n",
       "      <th>4</th>\n",
       "      <td>Regenia</td>\n",
       "      <td>Kannady</td>\n",
       "      <td>NaN</td>\n",
       "      <td>Ken Jeter Store Equipment Inc</td>\n",
       "      <td>10759 Main St</td>\n",
       "      <td>Scottsdale</td>\n",
       "      <td>AZ</td>\n",
       "      <td>85260.0</td>\n",
       "      <td>480-726-1280</td>\n",
       "      <td>regenia.kannady@cox.net</td>\n",
       "      <td>http://www.kenjeterstoreequipmentinc.com</td>\n",
       "    </tr>\n",
       "  </tbody>\n",
       "</table>\n",
       "</div>"
      ],
      "text/plain": [
       "    firstname     lastname   age                    company name  \\\n",
       "0     Arminda       Parvis  22.0                      Newtec Inc   \n",
       "1    Herminia  Nicolozakes  59.0  Sea Island Div Of Fstr Ind Inc   \n",
       "2  Christiane   Eschberger  71.0              Casco Services Inc   \n",
       "3      Helene  Rodenberger  30.0  Bailey Transportation Prod Inc   \n",
       "4     Regenia      Kannady   NaN   Ken Jeter Store Equipment Inc   \n",
       "\n",
       "            street name        city state  zipcode  phone number  \\\n",
       "0        1 Huntwood Ave     Phoenix    AZ  85017.0  602-906-9419   \n",
       "1       4 58th St #3519  Scottsdale    AZ  85254.0  602-954-5141   \n",
       "2  96541 W Central Blvd     Phoenix    AZ  85034.0  602-390-4944   \n",
       "3       347 Chestnut St      Peoria    AZ  85381.0  623-461-8551   \n",
       "4         10759 Main St  Scottsdale    AZ  85260.0  480-726-1280   \n",
       "\n",
       "                             email                                         url  \n",
       "0               arminda@parvis.com                    http://www.newtecinc.com  \n",
       "1         herminia@nicolozakes.org     http://www.seaislanddivoffstrindinc.com  \n",
       "2  christiane.eschberger@yahoo.com             http://www.cascoservicesinc.com  \n",
       "3                   helene@aol.com  http://www.baileytransportationprodinc.com  \n",
       "4          regenia.kannady@cox.net    http://www.kenjeterstoreequipmentinc.com  "
      ]
     },
     "execution_count": 167,
     "metadata": {},
     "output_type": "execute_result"
    }
   ],
   "source": [
    "#Dropping county column from people dataset\n",
    "people.drop('county',axis=1,inplace=True)\n",
    "people.head()"
   ]
  },
  {
   "cell_type": "markdown",
   "id": "absolute-slope",
   "metadata": {},
   "source": [
    "13) Keep only those rows that have a minimum of 4 values, otherwise delete them."
   ]
  },
  {
   "cell_type": "code",
   "execution_count": 168,
   "id": "backed-frame",
   "metadata": {},
   "outputs": [
    {
     "data": {
      "text/plain": [
       "(108, 11)"
      ]
     },
     "execution_count": 168,
     "metadata": {},
     "output_type": "execute_result"
    }
   ],
   "source": [
    "#Dropping rows with less than 4 values\n",
    "people.dropna(thresh=4,inplace=True)\n",
    "people.shape"
   ]
  },
  {
   "cell_type": "markdown",
   "id": "blond-universe",
   "metadata": {},
   "source": [
    "14) Delete rows with email missing."
   ]
  },
  {
   "cell_type": "code",
   "execution_count": 169,
   "id": "homeless-watershed",
   "metadata": {},
   "outputs": [
    {
     "data": {
      "text/plain": [
       "(105, 11)"
      ]
     },
     "execution_count": 169,
     "metadata": {},
     "output_type": "execute_result"
    }
   ],
   "source": [
    "#Dropping all rows with no email value\n",
    "people.dropna(subset=['email'],inplace=True)\n",
    "people.shape"
   ]
  },
  {
   "cell_type": "markdown",
   "id": "genetic-mainland",
   "metadata": {},
   "source": [
    "15) Impute the missing values in age with the mean of the column."
   ]
  },
  {
   "cell_type": "code",
   "execution_count": 170,
   "id": "greek-surge",
   "metadata": {},
   "outputs": [],
   "source": [
    "#Dealing with missing values\n",
    "from sklearn.impute import SimpleImputer\n",
    "imputer = SimpleImputer(missing_values=float(\"nan\"), strategy='mean')\n",
    "imputer.fit(people[['age']])\n",
    "people['age']= imputer.transform(people[['age']]).ravel()  #ravel() - returns a flattened 1D array"
   ]
  },
  {
   "cell_type": "markdown",
   "id": "acting-bermuda",
   "metadata": {},
   "source": [
    "16) Perform one hot encoding for the state column."
   ]
  },
  {
   "cell_type": "code",
   "execution_count": 171,
   "id": "administrative-steps",
   "metadata": {},
   "outputs": [
    {
     "name": "stdout",
     "output_type": "stream",
     "text": [
      "Missing values in state column\n",
      "1\n",
      "\n",
      "Frequency count of different states\n",
      "CA    68\n",
      "FL    28\n",
      "AZ     8\n",
      "Name: state, dtype: int64\n",
      "\n",
      "Missing values in state column after replacement\n",
      "0\n"
     ]
    }
   ],
   "source": [
    "#Checking for Mssing values in state column\n",
    "print(\"Missing values in state column\")\n",
    "print(people['state'].isna().sum())\n",
    "print()\n",
    "\n",
    "print(\"Frequency count of different states\")\n",
    "print(people['state'].value_counts())\n",
    "print()\n",
    "\n",
    "#Replacing missing value in state with most frequent value i.e. CA\n",
    "people['state'].fillna('CA',inplace=True)\n",
    "\n",
    "print(\"Missing values in state column after replacement\")\n",
    "print(people['state'].isna().sum())"
   ]
  },
  {
   "cell_type": "code",
   "execution_count": 172,
   "id": "fossil-roots",
   "metadata": {},
   "outputs": [],
   "source": [
    "#Transforming state column using OneHotEncoder\n",
    "from sklearn.compose import make_column_transformer\n",
    "from sklearn.preprocessing import OneHotEncoder\n",
    "col_trans = make_column_transformer((OneHotEncoder(), [6]), remainder='passthrough')\n",
    "people = col_trans.fit_transform(people)\n",
    "people = pd.DataFrame(people)"
   ]
  },
  {
   "cell_type": "code",
   "execution_count": 173,
   "id": "impressed-process",
   "metadata": {},
   "outputs": [
    {
     "data": {
      "text/html": [
       "<div>\n",
       "<style scoped>\n",
       "    .dataframe tbody tr th:only-of-type {\n",
       "        vertical-align: middle;\n",
       "    }\n",
       "\n",
       "    .dataframe tbody tr th {\n",
       "        vertical-align: top;\n",
       "    }\n",
       "\n",
       "    .dataframe thead th {\n",
       "        text-align: right;\n",
       "    }\n",
       "</style>\n",
       "<table border=\"1\" class=\"dataframe\">\n",
       "  <thead>\n",
       "    <tr style=\"text-align: right;\">\n",
       "      <th></th>\n",
       "      <th>0</th>\n",
       "      <th>1</th>\n",
       "      <th>2</th>\n",
       "      <th>3</th>\n",
       "      <th>4</th>\n",
       "      <th>5</th>\n",
       "      <th>6</th>\n",
       "      <th>7</th>\n",
       "      <th>8</th>\n",
       "      <th>9</th>\n",
       "      <th>10</th>\n",
       "      <th>11</th>\n",
       "      <th>12</th>\n",
       "    </tr>\n",
       "  </thead>\n",
       "  <tbody>\n",
       "    <tr>\n",
       "      <th>0</th>\n",
       "      <td>1.0</td>\n",
       "      <td>0.0</td>\n",
       "      <td>0.0</td>\n",
       "      <td>Arminda</td>\n",
       "      <td>Parvis</td>\n",
       "      <td>22.0</td>\n",
       "      <td>Newtec Inc</td>\n",
       "      <td>1 Huntwood Ave</td>\n",
       "      <td>Phoenix</td>\n",
       "      <td>85017.0</td>\n",
       "      <td>602-906-9419</td>\n",
       "      <td>arminda@parvis.com</td>\n",
       "      <td>http://www.newtecinc.com</td>\n",
       "    </tr>\n",
       "    <tr>\n",
       "      <th>1</th>\n",
       "      <td>1.0</td>\n",
       "      <td>0.0</td>\n",
       "      <td>0.0</td>\n",
       "      <td>Herminia</td>\n",
       "      <td>Nicolozakes</td>\n",
       "      <td>59.0</td>\n",
       "      <td>Sea Island Div Of Fstr Ind Inc</td>\n",
       "      <td>4 58th St #3519</td>\n",
       "      <td>Scottsdale</td>\n",
       "      <td>85254.0</td>\n",
       "      <td>602-954-5141</td>\n",
       "      <td>herminia@nicolozakes.org</td>\n",
       "      <td>http://www.seaislanddivoffstrindinc.com</td>\n",
       "    </tr>\n",
       "    <tr>\n",
       "      <th>2</th>\n",
       "      <td>1.0</td>\n",
       "      <td>0.0</td>\n",
       "      <td>0.0</td>\n",
       "      <td>Christiane</td>\n",
       "      <td>Eschberger</td>\n",
       "      <td>71.0</td>\n",
       "      <td>Casco Services Inc</td>\n",
       "      <td>96541 W Central Blvd</td>\n",
       "      <td>Phoenix</td>\n",
       "      <td>85034.0</td>\n",
       "      <td>602-390-4944</td>\n",
       "      <td>christiane.eschberger@yahoo.com</td>\n",
       "      <td>http://www.cascoservicesinc.com</td>\n",
       "    </tr>\n",
       "    <tr>\n",
       "      <th>3</th>\n",
       "      <td>1.0</td>\n",
       "      <td>0.0</td>\n",
       "      <td>0.0</td>\n",
       "      <td>Helene</td>\n",
       "      <td>Rodenberger</td>\n",
       "      <td>30.0</td>\n",
       "      <td>Bailey Transportation Prod Inc</td>\n",
       "      <td>347 Chestnut St</td>\n",
       "      <td>Peoria</td>\n",
       "      <td>85381.0</td>\n",
       "      <td>623-461-8551</td>\n",
       "      <td>helene@aol.com</td>\n",
       "      <td>http://www.baileytransportationprodinc.com</td>\n",
       "    </tr>\n",
       "    <tr>\n",
       "      <th>4</th>\n",
       "      <td>1.0</td>\n",
       "      <td>0.0</td>\n",
       "      <td>0.0</td>\n",
       "      <td>Regenia</td>\n",
       "      <td>Kannady</td>\n",
       "      <td>49.714286</td>\n",
       "      <td>Ken Jeter Store Equipment Inc</td>\n",
       "      <td>10759 Main St</td>\n",
       "      <td>Scottsdale</td>\n",
       "      <td>85260.0</td>\n",
       "      <td>480-726-1280</td>\n",
       "      <td>regenia.kannady@cox.net</td>\n",
       "      <td>http://www.kenjeterstoreequipmentinc.com</td>\n",
       "    </tr>\n",
       "    <tr>\n",
       "      <th>...</th>\n",
       "      <td>...</td>\n",
       "      <td>...</td>\n",
       "      <td>...</td>\n",
       "      <td>...</td>\n",
       "      <td>...</td>\n",
       "      <td>...</td>\n",
       "      <td>...</td>\n",
       "      <td>...</td>\n",
       "      <td>...</td>\n",
       "      <td>...</td>\n",
       "      <td>...</td>\n",
       "      <td>...</td>\n",
       "      <td>...</td>\n",
       "    </tr>\n",
       "    <tr>\n",
       "      <th>100</th>\n",
       "      <td>0.0</td>\n",
       "      <td>0.0</td>\n",
       "      <td>1.0</td>\n",
       "      <td>Sharika</td>\n",
       "      <td>Eanes</td>\n",
       "      <td>49.0</td>\n",
       "      <td>Maccani &amp; Delp</td>\n",
       "      <td>75698 N Fiesta Blvd</td>\n",
       "      <td>Orlando</td>\n",
       "      <td>32806.0</td>\n",
       "      <td>407-312-1691</td>\n",
       "      <td>sharika.eanes@aol.com</td>\n",
       "      <td>http://www.maccanidelp.com</td>\n",
       "    </tr>\n",
       "    <tr>\n",
       "      <th>101</th>\n",
       "      <td>0.0</td>\n",
       "      <td>0.0</td>\n",
       "      <td>1.0</td>\n",
       "      <td>Nickolas</td>\n",
       "      <td>Juvera</td>\n",
       "      <td>49.714286</td>\n",
       "      <td>United Oil Co Inc</td>\n",
       "      <td>177 S Rider Trl #52</td>\n",
       "      <td>Crystal River</td>\n",
       "      <td>34429.0</td>\n",
       "      <td>352-598-8301</td>\n",
       "      <td>nickolas_juvera@cox.net</td>\n",
       "      <td>http://www.unitedoilcoinc.com</td>\n",
       "    </tr>\n",
       "    <tr>\n",
       "      <th>102</th>\n",
       "      <td>0.0</td>\n",
       "      <td>0.0</td>\n",
       "      <td>1.0</td>\n",
       "      <td>Shawnda</td>\n",
       "      <td>Yori</td>\n",
       "      <td>42.0</td>\n",
       "      <td>Fiorucci Foods Usa Inc</td>\n",
       "      <td>50126 N Plankinton Ave</td>\n",
       "      <td>Longwood</td>\n",
       "      <td>32750.0</td>\n",
       "      <td>407-538-5106</td>\n",
       "      <td>shawnda.yori@yahoo.com</td>\n",
       "      <td>http://www.fioruccifoodsusainc.com</td>\n",
       "    </tr>\n",
       "    <tr>\n",
       "      <th>103</th>\n",
       "      <td>0.0</td>\n",
       "      <td>0.0</td>\n",
       "      <td>1.0</td>\n",
       "      <td>Jovita</td>\n",
       "      <td>Oles</td>\n",
       "      <td>80.0</td>\n",
       "      <td>Pagano, Philip G Esq</td>\n",
       "      <td>8 S Haven St</td>\n",
       "      <td>Daytona Beach</td>\n",
       "      <td>32114.0</td>\n",
       "      <td>386-248-4118</td>\n",
       "      <td>joles@gmail.com</td>\n",
       "      <td>http://www.paganophilipgesq.com</td>\n",
       "    </tr>\n",
       "    <tr>\n",
       "      <th>104</th>\n",
       "      <td>0.0</td>\n",
       "      <td>0.0</td>\n",
       "      <td>1.0</td>\n",
       "      <td>Chauncey</td>\n",
       "      <td>Motley</td>\n",
       "      <td>57.0</td>\n",
       "      <td>Affiliated With Travelodge</td>\n",
       "      <td>63 E Aurora Dr</td>\n",
       "      <td>Orlando</td>\n",
       "      <td>32804.0</td>\n",
       "      <td>407-413-4842</td>\n",
       "      <td>chauncey_motley@aol.com</td>\n",
       "      <td>http://www.affiliatedwithtravelodge.com</td>\n",
       "    </tr>\n",
       "  </tbody>\n",
       "</table>\n",
       "<p>105 rows × 13 columns</p>\n",
       "</div>"
      ],
      "text/plain": [
       "      0    1    2           3            4          5   \\\n",
       "0    1.0  0.0  0.0     Arminda       Parvis       22.0   \n",
       "1    1.0  0.0  0.0    Herminia  Nicolozakes       59.0   \n",
       "2    1.0  0.0  0.0  Christiane   Eschberger       71.0   \n",
       "3    1.0  0.0  0.0      Helene  Rodenberger       30.0   \n",
       "4    1.0  0.0  0.0     Regenia      Kannady  49.714286   \n",
       "..   ...  ...  ...         ...          ...        ...   \n",
       "100  0.0  0.0  1.0     Sharika        Eanes       49.0   \n",
       "101  0.0  0.0  1.0    Nickolas       Juvera  49.714286   \n",
       "102  0.0  0.0  1.0     Shawnda         Yori       42.0   \n",
       "103  0.0  0.0  1.0      Jovita         Oles       80.0   \n",
       "104  0.0  0.0  1.0    Chauncey       Motley       57.0   \n",
       "\n",
       "                                 6                       7              8   \\\n",
       "0                        Newtec Inc          1 Huntwood Ave        Phoenix   \n",
       "1    Sea Island Div Of Fstr Ind Inc         4 58th St #3519     Scottsdale   \n",
       "2                Casco Services Inc    96541 W Central Blvd        Phoenix   \n",
       "3    Bailey Transportation Prod Inc         347 Chestnut St         Peoria   \n",
       "4     Ken Jeter Store Equipment Inc           10759 Main St     Scottsdale   \n",
       "..                              ...                     ...            ...   \n",
       "100                  Maccani & Delp     75698 N Fiesta Blvd        Orlando   \n",
       "101               United Oil Co Inc     177 S Rider Trl #52  Crystal River   \n",
       "102          Fiorucci Foods Usa Inc  50126 N Plankinton Ave       Longwood   \n",
       "103            Pagano, Philip G Esq            8 S Haven St  Daytona Beach   \n",
       "104      Affiliated With Travelodge          63 E Aurora Dr        Orlando   \n",
       "\n",
       "          9             10                               11  \\\n",
       "0    85017.0  602-906-9419               arminda@parvis.com   \n",
       "1    85254.0  602-954-5141         herminia@nicolozakes.org   \n",
       "2    85034.0  602-390-4944  christiane.eschberger@yahoo.com   \n",
       "3    85381.0  623-461-8551                   helene@aol.com   \n",
       "4    85260.0  480-726-1280          regenia.kannady@cox.net   \n",
       "..       ...           ...                              ...   \n",
       "100  32806.0  407-312-1691            sharika.eanes@aol.com   \n",
       "101  34429.0  352-598-8301          nickolas_juvera@cox.net   \n",
       "102  32750.0  407-538-5106           shawnda.yori@yahoo.com   \n",
       "103  32114.0  386-248-4118                  joles@gmail.com   \n",
       "104  32804.0  407-413-4842          chauncey_motley@aol.com   \n",
       "\n",
       "                                             12  \n",
       "0                      http://www.newtecinc.com  \n",
       "1       http://www.seaislanddivoffstrindinc.com  \n",
       "2               http://www.cascoservicesinc.com  \n",
       "3    http://www.baileytransportationprodinc.com  \n",
       "4      http://www.kenjeterstoreequipmentinc.com  \n",
       "..                                          ...  \n",
       "100                  http://www.maccanidelp.com  \n",
       "101               http://www.unitedoilcoinc.com  \n",
       "102          http://www.fioruccifoodsusainc.com  \n",
       "103             http://www.paganophilipgesq.com  \n",
       "104     http://www.affiliatedwithtravelodge.com  \n",
       "\n",
       "[105 rows x 13 columns]"
      ]
     },
     "execution_count": 173,
     "metadata": {},
     "output_type": "execute_result"
    }
   ],
   "source": [
    "#Viewing final people data frame\n",
    "people"
   ]
  },
  {
   "cell_type": "code",
   "execution_count": null,
   "id": "collaborative-consultation",
   "metadata": {},
   "outputs": [],
   "source": []
  }
 ],
 "metadata": {
  "kernelspec": {
   "display_name": "Python 3",
   "language": "python",
   "name": "python3"
  },
  "language_info": {
   "codemirror_mode": {
    "name": "ipython",
    "version": 3
   },
   "file_extension": ".py",
   "mimetype": "text/x-python",
   "name": "python",
   "nbconvert_exporter": "python",
   "pygments_lexer": "ipython3",
   "version": "3.8.5"
  }
 },
 "nbformat": 4,
 "nbformat_minor": 5
}
