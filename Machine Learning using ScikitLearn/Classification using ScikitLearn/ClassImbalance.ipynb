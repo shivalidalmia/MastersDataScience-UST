{
 "cells": [
  {
   "cell_type": "code",
   "execution_count": 2,
   "metadata": {},
   "outputs": [
    {
     "name": "stdout",
     "output_type": "stream",
     "text": [
      "Requirement already satisfied: imbalanced-learn in c:\\users\\shiva\\anaconda3\\lib\\site-packages (0.8.1)\n",
      "Requirement already satisfied: joblib>=0.11 in c:\\users\\shiva\\anaconda3\\lib\\site-packages (from imbalanced-learn) (1.0.1)\n",
      "Requirement already satisfied: scikit-learn>=0.24 in c:\\users\\shiva\\anaconda3\\lib\\site-packages (from imbalanced-learn) (0.24.1)\n",
      "Requirement already satisfied: scipy>=0.19.1 in c:\\users\\shiva\\anaconda3\\lib\\site-packages (from imbalanced-learn) (1.6.1)\n",
      "Requirement already satisfied: numpy>=1.13.3 in c:\\users\\shiva\\anaconda3\\lib\\site-packages (from imbalanced-learn) (1.19.2)\n",
      "Requirement already satisfied: threadpoolctl>=2.0.0 in c:\\users\\shiva\\anaconda3\\lib\\site-packages (from scikit-learn>=0.24->imbalanced-learn) (2.1.0)\n",
      "   Time        V1        V2        V3        V4        V5        V6        V7  \\\n",
      "0   0.0 -1.359807 -0.072781  2.536347  1.378155 -0.338321  0.462388  0.239599   \n",
      "1   0.0  1.191857  0.266151  0.166480  0.448154  0.060018 -0.082361 -0.078803   \n",
      "2   1.0 -1.358354 -1.340163  1.773209  0.379780 -0.503198  1.800499  0.791461   \n",
      "3   1.0 -0.966272 -0.185226  1.792993 -0.863291 -0.010309  1.247203  0.237609   \n",
      "4   2.0 -1.158233  0.877737  1.548718  0.403034 -0.407193  0.095921  0.592941   \n",
      "\n",
      "         V8        V9  ...       V21       V22       V23       V24       V25  \\\n",
      "0  0.098698  0.363787  ... -0.018307  0.277838 -0.110474  0.066928  0.128539   \n",
      "1  0.085102 -0.255425  ... -0.225775 -0.638672  0.101288 -0.339846  0.167170   \n",
      "2  0.247676 -1.514654  ...  0.247998  0.771679  0.909412 -0.689281 -0.327642   \n",
      "3  0.377436 -1.387024  ... -0.108300  0.005274 -0.190321 -1.175575  0.647376   \n",
      "4 -0.270533  0.817739  ... -0.009431  0.798278 -0.137458  0.141267 -0.206010   \n",
      "\n",
      "        V26       V27       V28  Amount  Class  \n",
      "0 -0.189115  0.133558 -0.021053  149.62      0  \n",
      "1  0.125895 -0.008983  0.014724    2.69      0  \n",
      "2 -0.139097 -0.055353 -0.059752  378.66      0  \n",
      "3 -0.221929  0.062723  0.061458  123.50      0  \n",
      "4  0.502292  0.219422  0.215153   69.99      0  \n",
      "\n",
      "[5 rows x 31 columns]\n"
     ]
    }
   ],
   "source": [
    "import numpy as np\n",
    "import pandas as pd\n",
    "import sklearn\n",
    "import scipy\n",
    "import matplotlib.pyplot as plt\n",
    "!pip install -U imbalanced-learn\n",
    "\n",
    "dataset = pd.read_csv('creditcard.csv')\n",
    "print(dataset.head())"
   ]
  },
  {
   "cell_type": "code",
   "execution_count": 3,
   "metadata": {},
   "outputs": [
    {
     "name": "stdout",
     "output_type": "stream",
     "text": [
      "Total no. of instances 284807\n",
      "No. of zero class intances 284315\n",
      "No. of one class instances 492\n"
     ]
    }
   ],
   "source": [
    "X = dataset.iloc[:,1:30].values\n",
    "y = dataset.iloc[:,30].values\n",
    "\n",
    "print(\"Total no. of instances\", len(y))\n",
    "print(\"No. of zero class intances\", sum(y==0))\n",
    "print(\"No. of one class instances\", sum(y==1))"
   ]
  },
  {
   "cell_type": "code",
   "execution_count": 4,
   "metadata": {},
   "outputs": [
    {
     "name": "stdout",
     "output_type": "stream",
     "text": [
      "Total no. of instances 568630\n",
      "No. of zero class intances 284315\n",
      "No. of one class instances 284315\n"
     ]
    }
   ],
   "source": [
    "#Random Oversampler\n",
    "from imblearn.over_sampling import RandomOverSampler\n",
    "obj = RandomOverSampler()\n",
    "X_new, y_new = obj.fit_resample(X, y)\n",
    "print(\"Total no. of instances\", len(y_new))\n",
    "print(\"No. of zero class intances\", sum(y_new==0))\n",
    "print(\"No. of one class instances\", sum(y_new==1))"
   ]
  },
  {
   "cell_type": "code",
   "execution_count": 5,
   "metadata": {},
   "outputs": [
    {
     "name": "stdout",
     "output_type": "stream",
     "text": [
      "Total no. of instances 568630\n",
      "No. of zero class intances 284315\n",
      "No. of one class instances 284315\n",
      "\n",
      "Total no. of instances 568555\n",
      "No. of zero class intances 284315\n",
      "No. of one class instances 284240\n"
     ]
    }
   ],
   "source": [
    "#Synthetic Generation of new data using SMOTE and ADASYN\n",
    "\n",
    "from imblearn.over_sampling import SMOTE, ADASYN\n",
    "obj = SMOTE()\n",
    "X_new, y_new = obj.fit_resample(X, y)\n",
    "print(\"Total no. of instances\", len(y_new))\n",
    "print(\"No. of zero class intances\", sum(y_new==0))\n",
    "print(\"No. of one class instances\", sum(y_new==1))\n",
    "\n",
    "print()\n",
    "\n",
    "obj = ADASYN()\n",
    "X_new, y_new = obj.fit_resample(X, y)\n",
    "print(\"Total no. of instances\", len(y_new))\n",
    "print(\"No. of zero class intances\", sum(y_new==0))\n",
    "print(\"No. of one class instances\", sum(y_new==1))"
   ]
  },
  {
   "cell_type": "code",
   "execution_count": 6,
   "metadata": {},
   "outputs": [
    {
     "name": "stdout",
     "output_type": "stream",
     "text": [
      "Total no. of instances 984\n",
      "No. of zero class intances 492\n",
      "No. of one class instances 492\n"
     ]
    }
   ],
   "source": [
    "#Random Undersampler\n",
    "from imblearn.under_sampling import RandomUnderSampler\n",
    "obj = RandomUnderSampler()\n",
    "X_new, y_new = obj.fit_resample(X, y)\n",
    "print(\"Total no. of instances\", len(y_new))\n",
    "print(\"No. of zero class intances\", sum(y_new==0))\n",
    "print(\"No. of one class instances\", sum(y_new==1))\n"
   ]
  },
  {
   "cell_type": "code",
   "execution_count": null,
   "metadata": {},
   "outputs": [],
   "source": []
  }
 ],
 "metadata": {
  "kernelspec": {
   "display_name": "Python 3",
   "language": "python",
   "name": "python3"
  },
  "language_info": {
   "codemirror_mode": {
    "name": "ipython",
    "version": 3
   },
   "file_extension": ".py",
   "mimetype": "text/x-python",
   "name": "python",
   "nbconvert_exporter": "python",
   "pygments_lexer": "ipython3",
   "version": "3.8.5"
  }
 },
 "nbformat": 4,
 "nbformat_minor": 4
}
