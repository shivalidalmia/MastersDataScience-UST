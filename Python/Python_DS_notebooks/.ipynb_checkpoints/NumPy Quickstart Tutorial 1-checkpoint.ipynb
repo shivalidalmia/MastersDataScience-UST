{
 "cells": [
  {
   "cell_type": "markdown",
   "metadata": {},
   "source": [
    "\n",
    "## The Basics\n",
    "\n",
    "NumPy’s main object is the homogeneous multidimensional array. It is a table of elements (usually numbers), all of the same type, indexed by a tuple of positive integers. In NumPy dimensions are called axes.\n",
    "\n",
    "For example, the coordinates of a point in 3D space **`[1, 2, 1]`** has one axis. That axis has 3 elements in it, so we say it has a length of 3. In the example pictured below, the array has 2 axes. The first axis has a length of 2, the second axis has a length of 3.\n",
    "`\n",
    "[[ 1., 0., 0.],\n",
    " [ 0., 1., 2.]]\n",
    "`"
   ]
  },
  {
   "cell_type": "markdown",
   "metadata": {},
   "source": [
    "NumPy’s array class is called **`ndarray`**. It is also known by the alias **`array`**. Note that **`numpy.array`** is not the same as the Standard Python Library class **`array.array`**, which only handles one-dimensional arrays and offers less functionality. The more important attributes of an **```ndarray```** object are:\n",
    "\n",
    " * **`ndarray.ndim`**\n",
    " \n",
    "    the number of axes (dimensions) of the array.\n",
    "    \n",
    "        \n",
    " * **`ndarray.shape`**\n",
    " \n",
    "    the dimensions of the array. This is a tuple of integers indicating the size of the array in each dimension. For a matrix with n rows and m columns, shape will be (n,m). The length of the shape tuple is therefore the number of axes, ndim.\n",
    "    \n",
    "    \n",
    " * **`ndarray.size`**\n",
    " \n",
    "    the total number of elements of the array. This is equal to the product of the elements of shape.\n",
    "    \n",
    "\n",
    " * **`ndarray.dtype`**\n",
    " \n",
    "    an object describing the type of the elements in the array. One can create or specify dtype’s using standard Python types. Additionally NumPy provides types of its own. **```numpy.int32```**, **```numpy.int16```**, and **```numpy.float64```** are some examples.\n",
    "    \n",
    "    \n",
    " * **`ndarray.itemsize`**\n",
    " \n",
    "    the size in bytes of each element of the array. For example, an array of elements of type **```float64```** has itemsize 8 (=64/8), while one of type **```complex32```** has itemsize 4 (=32/8). It is equivalent to **```ndarray.dtype.itemsize```**.\n",
    "    \n",
    "    \n",
    " * **`ndarray.data`**\n",
    " \n",
    "    the buffer containing the actual elements of the array. Normally, we won’t need to use this attribute because we will access the elements in an array using indexing facilities.\n",
    "    "
   ]
  },
  {
   "cell_type": "markdown",
   "metadata": {},
   "source": [
    "### An example"
   ]
  },
  {
   "cell_type": "code",
   "execution_count": null,
   "metadata": {},
   "outputs": [],
   "source": [
    "import numpy as np\n",
    "a = np.arange(15)\n",
    "a"
   ]
  },
  {
   "cell_type": "code",
   "execution_count": null,
   "metadata": {},
   "outputs": [],
   "source": [
    "a = a.reshape(3, 1, 5)\n",
    "a"
   ]
  },
  {
   "cell_type": "code",
   "execution_count": null,
   "metadata": {},
   "outputs": [],
   "source": [
    "a.shape"
   ]
  },
  {
   "cell_type": "code",
   "execution_count": null,
   "metadata": {},
   "outputs": [],
   "source": [
    "a.ndim"
   ]
  },
  {
   "cell_type": "code",
   "execution_count": null,
   "metadata": {},
   "outputs": [],
   "source": [
    "a.dtype.name"
   ]
  },
  {
   "cell_type": "code",
   "execution_count": null,
   "metadata": {},
   "outputs": [],
   "source": [
    "a.itemsize"
   ]
  },
  {
   "cell_type": "code",
   "execution_count": null,
   "metadata": {},
   "outputs": [],
   "source": [
    "a.size"
   ]
  },
  {
   "cell_type": "code",
   "execution_count": null,
   "metadata": {},
   "outputs": [],
   "source": [
    "type(a)"
   ]
  },
  {
   "cell_type": "code",
   "execution_count": null,
   "metadata": {},
   "outputs": [],
   "source": [
    "b = np.array([6, 7, 8])\n",
    "b"
   ]
  },
  {
   "cell_type": "code",
   "execution_count": null,
   "metadata": {},
   "outputs": [],
   "source": [
    "type(b)"
   ]
  },
  {
   "cell_type": "code",
   "execution_count": null,
   "metadata": {},
   "outputs": [],
   "source": []
  }
 ],
 "metadata": {
  "kernelspec": {
   "display_name": "Python 3",
   "language": "python",
   "name": "python3"
  },
  "language_info": {
   "codemirror_mode": {
    "name": "ipython",
    "version": 3
   },
   "file_extension": ".py",
   "mimetype": "text/x-python",
   "name": "python",
   "nbconvert_exporter": "python",
   "pygments_lexer": "ipython3",
   "version": "3.6.7"
  }
 },
 "nbformat": 4,
 "nbformat_minor": 2
}
