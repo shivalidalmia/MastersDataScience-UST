{
 "cells": [
  {
   "cell_type": "markdown",
   "metadata": {},
   "source": [
    "## Quickstart ```NumPy``` tutorial\n",
    "\n",
    "This online tutorial has been converted into a notebook.  The original tutorial is at https://www.numpy.org/devdocs/user/quickstart.html \n",
    "\n",
    "Here, I've split up the tutorial into smaller notebooks, guided by the sections of the online presentation.\n",
    "\n",
    "*`NumPy Quickstart Tutorial 1`* =>\n",
    "1. Prerequisites\n",
    "2. The Basics (pt 1/4)\n",
    "  * An example\n",
    "  \n",
    "*`NumPy Quickstart Tutorial 2`* =>\n",
    "2. The Basics (pt 2/4))\n",
    "  * Array Creation\n",
    "  * Printing Arrays\n",
    "  \n",
    "*`NumPy Quickstart Tutorial 3`* =>\n",
    "2. The Basics (pt 3/4)\n",
    "  * Basic Operations\n",
    "  * Universal Functions\n",
    "  \n",
    "*`NumPy Quickstart Tutorial 4`* =>\n",
    "2. The Basics (pt 4/4)\n",
    "  * Indexing, Slicing and Iterating\n",
    "\n",
    "*`NumPy Quickstart Tutorial 5`* =>\n",
    "3. Shape Manipulation (pt 1/1)\n",
    "  * Changing the shape of an array\n",
    "  * Stacking together diffrent arrays\n",
    "  * Splitting one array into several smaller ones\n",
    "  \n",
    "\n",
    "\n",
    "### Prerequisites\n",
    "\n",
    "Before reading this tutorial you should know a bit of Python. If you would like to refresh your memory, take a look at the Python tutorial.\n",
    "\n",
    "If you wish to work the examples in this tutorial, you must also have some software installed on your computer. Please see A https://scipy.org/install.html for instructions.\n"
   ]
  },
  {
   "cell_type": "code",
   "execution_count": null,
   "metadata": {},
   "outputs": [],
   "source": [
    "import numpy as np"
   ]
  },
  {
   "cell_type": "code",
   "execution_count": null,
   "metadata": {},
   "outputs": [],
   "source": [
    "np.__version__"
   ]
  },
  {
   "cell_type": "code",
   "execution_count": null,
   "metadata": {},
   "outputs": [],
   "source": []
  }
 ],
 "metadata": {
  "kernelspec": {
   "display_name": "Python 3",
   "language": "python",
   "name": "python3"
  },
  "language_info": {
   "codemirror_mode": {
    "name": "ipython",
    "version": 3
   },
   "file_extension": ".py",
   "mimetype": "text/x-python",
   "name": "python",
   "nbconvert_exporter": "python",
   "pygments_lexer": "ipython3",
   "version": "3.6.7"
  }
 },
 "nbformat": 4,
 "nbformat_minor": 2
}
