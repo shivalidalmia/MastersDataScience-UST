{
 "cells": [
  {
   "cell_type": "code",
   "execution_count": null,
   "id": "69144857",
   "metadata": {},
   "outputs": [],
   "source": [
    "import numpy as np"
   ]
  },
  {
   "cell_type": "code",
   "execution_count": null,
   "id": "f9c5697b",
   "metadata": {},
   "outputs": [],
   "source": [
    "table = np.array([\n",
    "[5, 3, 7, 1],\n",
    "[2, 6, 7 ,9],\n",
    "[1, 1, 1, 1],\n",
    "[4, 3, 2, 0],\n",
    "])\n",
    "table"
   ]
  },
  {
   "cell_type": "code",
   "execution_count": null,
   "id": "6b27afd6",
   "metadata": {},
   "outputs": [],
   "source": [
    "table.max()\n",
    "# 9"
   ]
  },
  {
   "cell_type": "code",
   "execution_count": null,
   "id": "2fb9a0e4",
   "metadata": {},
   "outputs": [],
   "source": [
    "table.max(axis=0)\n",
    "#array([5, 6, 7, 9])"
   ]
  },
  {
   "cell_type": "code",
   "execution_count": null,
   "id": "63f82dc1",
   "metadata": {},
   "outputs": [],
   "source": [
    "table.max(axis=1)\n",
    "#array([7, 9, 1, 4])"
   ]
  },
  {
   "cell_type": "code",
   "execution_count": null,
   "id": "0455a5c7",
   "metadata": {},
   "outputs": [],
   "source": []
  }
 ],
 "metadata": {
  "kernelspec": {
   "display_name": "Python 3",
   "language": "python",
   "name": "python3"
  },
  "language_info": {
   "codemirror_mode": {
    "name": "ipython",
    "version": 3
   },
   "file_extension": ".py",
   "mimetype": "text/x-python",
   "name": "python",
   "nbconvert_exporter": "python",
   "pygments_lexer": "ipython3",
   "version": "3.6.7"
  }
 },
 "nbformat": 4,
 "nbformat_minor": 5
}
