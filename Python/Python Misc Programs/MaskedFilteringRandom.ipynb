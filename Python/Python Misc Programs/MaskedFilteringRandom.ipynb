{
 "cells": [
  {
   "cell_type": "code",
   "execution_count": null,
   "id": "34bc3206",
   "metadata": {},
   "outputs": [],
   "source": [
    "import numpy as np"
   ]
  },
  {
   "cell_type": "code",
   "execution_count": null,
   "id": "0b1c9e27",
   "metadata": {},
   "outputs": [],
   "source": [
    "from numpy.random import default_rng"
   ]
  },
  {
   "cell_type": "code",
   "execution_count": null,
   "id": "d9e2f03b",
   "metadata": {},
   "outputs": [],
   "source": [
    "rng = default_rng()"
   ]
  },
  {
   "cell_type": "code",
   "execution_count": null,
   "id": "8f9d0664",
   "metadata": {},
   "outputs": [],
   "source": [
    "values = rng.standard_normal(10000)\n",
    "values[:5]\n",
    "# array([ .9779210858,  1.8361585253,  -.3641365235, -.1311344527, 1.286542056 ])\n",
    "# values will vary!"
   ]
  },
  {
   "cell_type": "code",
   "execution_count": null,
   "id": "964917c4",
   "metadata": {},
   "outputs": [],
   "source": [
    "std = values.std()\n",
    "std\n",
    "# .9940375551073492"
   ]
  },
  {
   "cell_type": "code",
   "execution_count": null,
   "id": "3f0fafdc",
   "metadata": {},
   "outputs": [],
   "source": [
    "filtered = values[(values > -2 * std) & (values < 2 * std)]\n",
    "filtered"
   ]
  },
  {
   "cell_type": "code",
   "execution_count": null,
   "id": "76b907ab",
   "metadata": {},
   "outputs": [],
   "source": [
    "filtered.size"
   ]
  },
  {
   "cell_type": "code",
   "execution_count": null,
   "id": "8d89c47a",
   "metadata": {},
   "outputs": [],
   "source": [
    "values.size"
   ]
  },
  {
   "cell_type": "code",
   "execution_count": null,
   "id": "2c0e6c9e",
   "metadata": {},
   "outputs": [],
   "source": [
    "filtered.size / values.size"
   ]
  },
  {
   "cell_type": "code",
   "execution_count": null,
   "id": "f8ceabe9",
   "metadata": {},
   "outputs": [],
   "source": []
  }
 ],
 "metadata": {
  "kernelspec": {
   "display_name": "Python 3",
   "language": "python",
   "name": "python3"
  },
  "language_info": {
   "codemirror_mode": {
    "name": "ipython",
    "version": 3
   },
   "file_extension": ".py",
   "mimetype": "text/x-python",
   "name": "python",
   "nbconvert_exporter": "python",
   "pygments_lexer": "ipython3",
   "version": "3.6.7"
  }
 },
 "nbformat": 4,
 "nbformat_minor": 5
}
