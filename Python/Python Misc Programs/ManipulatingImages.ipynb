{
 "cells": [
  {
   "cell_type": "markdown",
   "metadata": {},
   "source": [
    "# Converting an Image to Grayscale\n",
    "\n",
    "In this exploration, you'll practice using Matplotlib and NumPy to convert a full-color image to grayscale by manipulating color channels.  You'll make use of the [Luminosity method](https://www.johndcook.com/blog/2009/08/24/algorithms-convert-color-grayscale/) to end up with a brighter, sharper image at the end."
   ]
  },
  {
   "cell_type": "code",
   "execution_count": null,
   "metadata": {},
   "outputs": [],
   "source": [
    "import numpy as np\n",
    "import matplotlib.image as mpimg\n",
    "import matplotlib.pyplot as plt\n",
    "%matplotlib inline"
   ]
  },
  {
   "cell_type": "code",
   "execution_count": null,
   "metadata": {},
   "outputs": [],
   "source": [
    "img = mpimg.imread(\"_images/kitty.jpg\")\n",
    "print(type(img))\n",
    "print(img.shape)\n",
    "img"
   ]
  },
  {
   "cell_type": "markdown",
   "metadata": {},
   "source": [
    "## Testing Out the Pixels by Dropping Red and Green\n",
    "\n",
    "The original image is read-only, so you can't manipulate it directly.  You'll need to create a copy before you drop the red and green channels."
   ]
  },
  {
   "cell_type": "code",
   "execution_count": null,
   "metadata": {},
   "outputs": [],
   "source": [
    "test=np.array([[[1,2],\n",
    "                  [3,4],\n",
    "                  [5,6]]])\n",
    "print(test.shape)\n",
    "test"
   ]
  },
  {
   "cell_type": "code",
   "execution_count": null,
   "metadata": {},
   "outputs": [],
   "source": [
    "copy = test.copy()"
   ]
  },
  {
   "cell_type": "code",
   "execution_count": null,
   "metadata": {},
   "outputs": [],
   "source": [
    "copy[0,0,0] = 47\n",
    "copy"
   ]
  },
  {
   "cell_type": "code",
   "execution_count": null,
   "metadata": {},
   "outputs": [],
   "source": [
    "output = img.copy()\n",
    "output[:2, :, :] = 255\n",
    "mpimg.imsave(\"_images/blue.jpg\", output)\n",
    "plt.imshow(output)\n",
    "plt.show()"
   ]
  },
  {
   "cell_type": "code",
   "execution_count": null,
   "metadata": {},
   "outputs": [],
   "source": [
    "output"
   ]
  },
  {
   "cell_type": "markdown",
   "metadata": {},
   "source": [
    "## A Naive Grayscale: Averaging\n",
    "\n",
    "A grayscale image is nothing more than an image where each pixel's red, green, and blue values are equal.  The magnitude of this value ends up being this pixel's brightness.\n",
    "\n",
    "However, the way you calculate this brightness is important to how the overall image comes out.  Blue \"looks\" darker than red and green \"looks\" brighter, so you have to account for that.  Here's what happens if you do it the naive way and just take the average.\n",
    "\n",
    "(You'll output the image with only a single channel and use a `cmap` to help Matplotlib figure out how to interpolate the color.)"
   ]
  },
  {
   "cell_type": "code",
   "execution_count": null,
   "metadata": {},
   "outputs": [],
   "source": [
    "averages = img.mean(axis=2)\n",
    "mpimg.imsave(\"bad-gray.jpg\", averages, cmap=\"gray\")\n",
    "plt.imshow(averages, cmap=\"gray\")\n",
    "plt.show()"
   ]
  },
  {
   "cell_type": "markdown",
   "metadata": {},
   "source": [
    "## A Better Grayscale: the Luminosity Method\n",
    "\n",
    "The Luminosity method (linked above) performs a *weighted* average, punching up the red and pulling back on the green a little bit to account for how humans perceive color.  Matrix dot products are a quick way to perform this weighted addition."
   ]
  },
  {
   "cell_type": "code",
   "execution_count": null,
   "metadata": {},
   "outputs": [],
   "source": [
    "# weights = np.array([0.3, 0.59, 0.11])\n",
    "weights = np.array([0.3, 0.59, 0.11])\n",
    "grayscale = img @ weights\n",
    "mpimg.imsave(\"good-gray.jpg\", grayscale, cmap=\"gray\")\n",
    "plt.imshow(grayscale, cmap=\"gray\")\n",
    "plt.show()"
   ]
  },
  {
   "cell_type": "markdown",
   "metadata": {},
   "source": [
    "See how the second image is brighter and edges are sharper?  Overall, it feels a little less \"muddy.\""
   ]
  },
  {
   "cell_type": "code",
   "execution_count": null,
   "metadata": {},
   "outputs": [],
   "source": []
  }
 ],
 "metadata": {
  "kernelspec": {
   "display_name": "Python 3",
   "language": "python",
   "name": "python3"
  },
  "language_info": {
   "codemirror_mode": {
    "name": "ipython",
    "version": 3
   },
   "file_extension": ".py",
   "mimetype": "text/x-python",
   "name": "python",
   "nbconvert_exporter": "python",
   "pygments_lexer": "ipython3",
   "version": "3.6.7"
  }
 },
 "nbformat": 4,
 "nbformat_minor": 4
}
