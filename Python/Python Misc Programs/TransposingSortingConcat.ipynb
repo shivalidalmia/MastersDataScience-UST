{
 "cells": [
  {
   "cell_type": "markdown",
   "id": "bcbdaa93",
   "metadata": {},
   "source": [
    "### Transposing examples:"
   ]
  },
  {
   "cell_type": "code",
   "execution_count": null,
   "id": "dda97c40",
   "metadata": {},
   "outputs": [],
   "source": [
    "import numpy as np"
   ]
  },
  {
   "cell_type": "code",
   "execution_count": null,
   "id": "42c62608",
   "metadata": {},
   "outputs": [],
   "source": [
    "a = np.array([\n",
    " [1, 2],\n",
    " [3, 4],\n",
    " [5, 6]\n",
    " ])\n",
    "a"
   ]
  },
  {
   "cell_type": "code",
   "execution_count": null,
   "id": "723c5ec1",
   "metadata": {},
   "outputs": [],
   "source": [
    "a.T\n",
    "# array([[1, 3, 5],\n",
    "#        [2, 4, 6]])"
   ]
  },
  {
   "cell_type": "code",
   "execution_count": null,
   "id": "b244ec4b",
   "metadata": {},
   "outputs": [],
   "source": [
    "a.transpose()\n",
    "# array([[1, 3, 5],\n",
    "#        [2, 4, 6]])"
   ]
  },
  {
   "cell_type": "markdown",
   "id": "47b49586",
   "metadata": {},
   "source": [
    "### Sorting examples:"
   ]
  },
  {
   "cell_type": "code",
   "execution_count": null,
   "id": "80757dc0",
   "metadata": {},
   "outputs": [],
   "source": [
    "data = np.array([\n",
    "[7, 1, 4],\n",
    "[8, 6, 5],\n",
    "[1, 2, 3]\n",
    "])\n",
    "data"
   ]
  },
  {
   "cell_type": "code",
   "execution_count": null,
   "id": "555d9453",
   "metadata": {},
   "outputs": [],
   "source": [
    "np.sort(data)\n",
    "# array([[1, 4, 7],\n",
    "#        [5, 6, 8],\n",
    "#        [1, 2, 3]])"
   ]
  },
  {
   "cell_type": "code",
   "execution_count": null,
   "id": "af0948d2",
   "metadata": {},
   "outputs": [],
   "source": [
    "np.sort(data, axis=None)\n",
    "# array([1, 1, 2, 3, 4, 5, 6, 7, 8])"
   ]
  },
  {
   "cell_type": "code",
   "execution_count": null,
   "id": "641eef3d",
   "metadata": {},
   "outputs": [],
   "source": [
    "np.sort(data, axis=0)\n",
    "# array([[1, 1, 3],\n",
    "#        [7, 2, 4],\n",
    "#        [8, 6, 5]])"
   ]
  },
  {
   "cell_type": "markdown",
   "id": "d5eea074",
   "metadata": {},
   "source": [
    "### Concatenation examples:"
   ]
  },
  {
   "cell_type": "code",
   "execution_count": null,
   "id": "8f988482",
   "metadata": {},
   "outputs": [],
   "source": [
    "a = np.array([\n",
    "[4, 8],\n",
    "[6, 1]\n",
    "])\n",
    "a"
   ]
  },
  {
   "cell_type": "code",
   "execution_count": null,
   "id": "ab89bd66",
   "metadata": {},
   "outputs": [],
   "source": [
    "b = np.array([\n",
    "[3, 5],\n",
    "[7, 2],\n",
    "])\n",
    "b"
   ]
  },
  {
   "cell_type": "code",
   "execution_count": null,
   "id": "809a0c9b",
   "metadata": {},
   "outputs": [],
   "source": [
    "np.hstack((a, b))\n",
    "# array([[4, 8, 3, 5],\n",
    "#        [6, 1, 7, 2]])"
   ]
  },
  {
   "cell_type": "code",
   "execution_count": null,
   "id": "36ce4b05",
   "metadata": {},
   "outputs": [],
   "source": [
    "np.vstack((b, a))\n",
    "# array([[3, 5],\n",
    "#        [7, 2],\n",
    "#        [4, 8],\n",
    "#        [6, 1]])"
   ]
  },
  {
   "cell_type": "code",
   "execution_count": null,
   "id": "78bbe37a",
   "metadata": {},
   "outputs": [],
   "source": [
    "np.concatenate((a, b))\n",
    "# array([[4, 8],\n",
    "#        [6, 1],\n",
    "#        [3, 5],\n",
    "#        [7, 2]])"
   ]
  },
  {
   "cell_type": "code",
   "execution_count": null,
   "id": "0e9ab579",
   "metadata": {},
   "outputs": [],
   "source": [
    "np.concatenate((a, b), axis=None)\n",
    "# array([4, 8, 6, 1, 3, 5, 7, 2])"
   ]
  },
  {
   "cell_type": "code",
   "execution_count": null,
   "id": "c316fbf5",
   "metadata": {},
   "outputs": [],
   "source": []
  }
 ],
 "metadata": {
  "kernelspec": {
   "display_name": "Python 3",
   "language": "python",
   "name": "python3"
  },
  "language_info": {
   "codemirror_mode": {
    "name": "ipython",
    "version": 3
   },
   "file_extension": ".py",
   "mimetype": "text/x-python",
   "name": "python",
   "nbconvert_exporter": "python",
   "pygments_lexer": "ipython3",
   "version": "3.6.7"
  }
 },
 "nbformat": 4,
 "nbformat_minor": 5
}
