{
 "cells": [
  {
   "cell_type": "code",
   "execution_count": null,
   "id": "bd408620",
   "metadata": {},
   "outputs": [],
   "source": [
    "import numpy as np"
   ]
  },
  {
   "cell_type": "code",
   "execution_count": null,
   "id": "ddff0c6e",
   "metadata": {},
   "outputs": [],
   "source": [
    "A = np.arange(32).reshape(4, 1, 8)\n",
    "A"
   ]
  },
  {
   "cell_type": "code",
   "execution_count": null,
   "id": "ffd33b2c",
   "metadata": {},
   "outputs": [],
   "source": [
    "B = np.arange(48).reshape(1, 6, 8)\n",
    "B"
   ]
  },
  {
   "cell_type": "code",
   "execution_count": null,
   "id": "295bd725",
   "metadata": {},
   "outputs": [],
   "source": [
    "# A has 4 planes, each with 1 row and 8 columns. \n",
    "# B has only 1 plane with 6 rows and 8 columns. \n",
    "# Watch what NumPy does for you when you try to do a calculation between them!\n",
    "\n",
    "# Add the two arrays together:\n",
    "A + B\n",
    "\n",
    "# array([[[ 0,  2,  4,  6,  8, 10, 12, 14],\n",
    "#         [ 8, 10, 12, 14, 16, 18, 20, 22],\n",
    "#         [16, 18, 20, 22, 24, 26, 28, 30],\n",
    "#         [24, 26, 28, 30, 32, 34, 36, 38],\n",
    "#         [32, 34, 36, 38, 40, 42, 44, 46],\n",
    "#         [40, 42, 44, 46, 48, 50, 52, 54]],\n",
    "\n",
    "#        [[ 8, 10, 12, 14, 16, 18, 20, 22],\n",
    "#         [16, 18, 20, 22, 24, 26, 28, 30],\n",
    "#         [24, 26, 28, 30, 32, 34, 36, 38],\n",
    "#         [32, 34, 36, 38, 40, 42, 44, 46],\n",
    "#         [40, 42, 44, 46, 48, 50, 52, 54],\n",
    "#         [48, 50, 52, 54, 56, 58, 60, 62]],\n",
    "\n",
    "#        [[16, 18, 20, 22, 24, 26, 28, 30],\n",
    "#         [24, 26, 28, 30, 32, 34, 36, 38],\n",
    "#         [32, 34, 36, 38, 40, 42, 44, 46],\n",
    "#         [40, 42, 44, 46, 48, 50, 52, 54],\n",
    "#         [48, 50, 52, 54, 56, 58, 60, 62],\n",
    "#         [56, 58, 60, 62, 64, 66, 68, 70]],\n",
    "\n",
    "#        [[24, 26, 28, 30, 32, 34, 36, 38],\n",
    "#         [32, 34, 36, 38, 40, 42, 44, 46],\n",
    "#         [40, 42, 44, 46, 48, 50, 52, 54],\n",
    "#         [48, 50, 52, 54, 56, 58, 60, 62],\n",
    "#         [56, 58, 60, 62, 64, 66, 68, 70],\n",
    "#         [64, 66, 68, 70, 72, 74, 76, 78]]])"
   ]
  },
  {
   "cell_type": "code",
   "execution_count": null,
   "id": "cb1f39f9",
   "metadata": {},
   "outputs": [],
   "source": []
  }
 ],
 "metadata": {
  "kernelspec": {
   "display_name": "Python 3",
   "language": "python",
   "name": "python3"
  },
  "language_info": {
   "codemirror_mode": {
    "name": "ipython",
    "version": 3
   },
   "file_extension": ".py",
   "mimetype": "text/x-python",
   "name": "python",
   "nbconvert_exporter": "python",
   "pygments_lexer": "ipython3",
   "version": "3.6.7"
  }
 },
 "nbformat": 4,
 "nbformat_minor": 5
}
