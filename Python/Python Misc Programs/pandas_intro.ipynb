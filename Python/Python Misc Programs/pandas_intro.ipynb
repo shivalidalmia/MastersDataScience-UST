{
 "cells": [
  {
   "cell_type": "markdown",
   "metadata": {},
   "source": [
    "# Explore Your Dataset With Python and Pandas"
   ]
  },
  {
   "cell_type": "markdown",
   "metadata": {},
   "source": [
    "This notebook is based on the Pandas tutorial at: https://realpython.com/pandas-python-explore-dataset/"
   ]
  },
  {
   "cell_type": "markdown",
   "metadata": {},
   "source": [
    "## Environment Setup"
   ]
  },
  {
   "cell_type": "markdown",
   "metadata": {},
   "source": [
    "### Installing Pandas"
   ]
  },
  {
   "cell_type": "markdown",
   "metadata": {},
   "source": [
    "```console\n",
    "$ python -m pip install pandas\n",
    "```"
   ]
  },
  {
   "cell_type": "markdown",
   "metadata": {},
   "source": [
    "```console\n",
    "$ conda install pandas\n",
    "```"
   ]
  },
  {
   "cell_type": "markdown",
   "metadata": {},
   "source": [
    "# 1. Using the Pandas Python Library"
   ]
  },
  {
   "cell_type": "markdown",
   "metadata": {},
   "source": [
    "Now that you’ve installed Pandas, it’s time to have a look at a dataset. In this tutorial, you’ll analyze NBA results provided by FiveThirtyEight in a 17MB CSV file. \n",
    "\n",
    "First download the data into `nba_all_elo.csv`:"
   ]
  },
  {
   "cell_type": "code",
   "execution_count": 1,
   "metadata": {},
   "outputs": [
    {
     "name": "stdout",
     "output_type": "stream",
     "text": [
      "Download ready.\n"
     ]
    }
   ],
   "source": [
    "import requests\n",
    "\n",
    "download_url = \"https://raw.githubusercontent.com/fivethirtyeight/data/master/nba-elo/nbaallelo.csv\"\n",
    "target_csv_path = \"nba_all_elo.csv\"\n",
    "\n",
    "response = requests.get(download_url)\n",
    "response.raise_for_status()\n",
    "with open(target_csv_path, \"wb\") as f:\n",
    "    f.write(response.content)\n",
    "print(\"Download ready.\")"
   ]
  },
  {
   "cell_type": "markdown",
   "metadata": {},
   "source": [
    "Running the above saves the file `nba_all_elo.csv` in your current working directory.\n",
    "\n",
    "**Note**: You could also use your web browser to download the CSV file.\n",
    "\n",
    "However, having a download script has several advantages:\n",
    "- You can tell where you got your data.\n",
    "- You can repeat the download anytime! That’s especially handy if the data is often refreshed.\n",
    "- You don’t need to share the 17MB CSV file with your co-workers. Usually, it’s enough to share the download script.\n",
    "\n",
    "Now use the Pandas Python library to take a look at your data:\n"
   ]
  },
  {
   "cell_type": "code",
   "execution_count": 2,
   "metadata": {},
   "outputs": [
    {
     "data": {
      "text/plain": [
       "pandas.core.frame.DataFrame"
      ]
     },
     "execution_count": 2,
     "metadata": {},
     "output_type": "execute_result"
    }
   ],
   "source": [
    "import pandas as pd\n",
    "nba = pd.read_csv(\"nba_all_elo.csv\") ## we've done this several times before\n",
    "type(nba)\n",
    "# Expected:\n",
    "# <class 'pandas.core.frame.DataFrame'>"
   ]
  },
  {
   "cell_type": "markdown",
   "metadata": {},
   "source": [
    "Here, you follow the convention of importing Pandas in Python with the `pd` alias. Then, you use `.read_csv()` to read in your dataset and store it as a `DataFrame` object in the variable `nba`. \n",
    "\n",
    "**Note:** \n",
    "\n",
    "Is your data not in CSV format? No worries! The Pandas Python library provides several similar functions like `read_json()`, `read_html()`, and `read_sql_table()`. To learn how to work with these file formats, consult the docs."
   ]
  },
  {
   "cell_type": "markdown",
   "metadata": {},
   "source": [
    "You can see how much data `nba` contains:"
   ]
  },
  {
   "cell_type": "code",
   "execution_count": 3,
   "metadata": {},
   "outputs": [
    {
     "data": {
      "text/plain": [
       "126314"
      ]
     },
     "execution_count": 3,
     "metadata": {},
     "output_type": "execute_result"
    }
   ],
   "source": [
    "len(nba)\n",
    "# Expected:\n",
    "# 126314"
   ]
  },
  {
   "cell_type": "code",
   "execution_count": 4,
   "metadata": {},
   "outputs": [
    {
     "data": {
      "text/plain": [
       "(126314, 23)"
      ]
     },
     "execution_count": 4,
     "metadata": {},
     "output_type": "execute_result"
    }
   ],
   "source": [
    "nba.shape\n",
    "# Expected:\n",
    "# (126314, 23)"
   ]
  },
  {
   "cell_type": "markdown",
   "metadata": {},
   "source": [
    "You use the Python built-in function `len()` to determine the number of rows. You also use the `.shape` attribute of the `DataFrame` to see its dimensionality. The result is a tuple containing the number of rows and columns.\n",
    "\n",
    "Now you know that there are 126,314 rows and 23 columns in your dataset. But how can you be sure the dataset really contains basketball stats? You can have a look at the first five rows with `.head()`:\n"
   ]
  },
  {
   "cell_type": "code",
   "execution_count": 9,
   "metadata": {},
   "outputs": [
    {
     "data": {
      "text/html": [
       "<div>\n",
       "<style scoped>\n",
       "    .dataframe tbody tr th:only-of-type {\n",
       "        vertical-align: middle;\n",
       "    }\n",
       "\n",
       "    .dataframe tbody tr th {\n",
       "        vertical-align: top;\n",
       "    }\n",
       "\n",
       "    .dataframe thead th {\n",
       "        text-align: right;\n",
       "    }\n",
       "</style>\n",
       "<table border=\"1\" class=\"dataframe\">\n",
       "  <thead>\n",
       "    <tr style=\"text-align: right;\">\n",
       "      <th></th>\n",
       "      <th>gameorder</th>\n",
       "      <th>game_id</th>\n",
       "      <th>lg_id</th>\n",
       "      <th>_iscopy</th>\n",
       "      <th>year_id</th>\n",
       "      <th>date_game</th>\n",
       "      <th>seasongame</th>\n",
       "      <th>is_playoffs</th>\n",
       "      <th>team_id</th>\n",
       "      <th>fran_id</th>\n",
       "      <th>pts</th>\n",
       "      <th>elo_i</th>\n",
       "      <th>elo_n</th>\n",
       "      <th>win_equiv</th>\n",
       "      <th>opp_id</th>\n",
       "      <th>opp_fran</th>\n",
       "      <th>opp_pts</th>\n",
       "      <th>opp_elo_i</th>\n",
       "      <th>opp_elo_n</th>\n",
       "      <th>game_location</th>\n",
       "      <th>game_result</th>\n",
       "      <th>forecast</th>\n",
       "      <th>notes</th>\n",
       "    </tr>\n",
       "  </thead>\n",
       "  <tbody>\n",
       "    <tr>\n",
       "      <th>0</th>\n",
       "      <td>1</td>\n",
       "      <td>194611010TRH</td>\n",
       "      <td>NBA</td>\n",
       "      <td>0</td>\n",
       "      <td>1947</td>\n",
       "      <td>11/1/1946</td>\n",
       "      <td>1</td>\n",
       "      <td>0</td>\n",
       "      <td>TRH</td>\n",
       "      <td>Huskies</td>\n",
       "      <td>66</td>\n",
       "      <td>1300.00</td>\n",
       "      <td>1293.28</td>\n",
       "      <td>40.29</td>\n",
       "      <td>NYK</td>\n",
       "      <td>Knicks</td>\n",
       "      <td>68</td>\n",
       "      <td>1300.00</td>\n",
       "      <td>1306.72</td>\n",
       "      <td>H</td>\n",
       "      <td>L</td>\n",
       "      <td>0.64</td>\n",
       "      <td>NaN</td>\n",
       "    </tr>\n",
       "    <tr>\n",
       "      <th>1</th>\n",
       "      <td>1</td>\n",
       "      <td>194611010TRH</td>\n",
       "      <td>NBA</td>\n",
       "      <td>1</td>\n",
       "      <td>1947</td>\n",
       "      <td>11/1/1946</td>\n",
       "      <td>1</td>\n",
       "      <td>0</td>\n",
       "      <td>NYK</td>\n",
       "      <td>Knicks</td>\n",
       "      <td>68</td>\n",
       "      <td>1300.00</td>\n",
       "      <td>1306.72</td>\n",
       "      <td>41.71</td>\n",
       "      <td>TRH</td>\n",
       "      <td>Huskies</td>\n",
       "      <td>66</td>\n",
       "      <td>1300.00</td>\n",
       "      <td>1293.28</td>\n",
       "      <td>A</td>\n",
       "      <td>W</td>\n",
       "      <td>0.36</td>\n",
       "      <td>NaN</td>\n",
       "    </tr>\n",
       "    <tr>\n",
       "      <th>2</th>\n",
       "      <td>2</td>\n",
       "      <td>194611020CHS</td>\n",
       "      <td>NBA</td>\n",
       "      <td>0</td>\n",
       "      <td>1947</td>\n",
       "      <td>11/2/1946</td>\n",
       "      <td>1</td>\n",
       "      <td>0</td>\n",
       "      <td>CHS</td>\n",
       "      <td>Stags</td>\n",
       "      <td>63</td>\n",
       "      <td>1300.00</td>\n",
       "      <td>1309.65</td>\n",
       "      <td>42.01</td>\n",
       "      <td>NYK</td>\n",
       "      <td>Knicks</td>\n",
       "      <td>47</td>\n",
       "      <td>1306.72</td>\n",
       "      <td>1297.07</td>\n",
       "      <td>H</td>\n",
       "      <td>W</td>\n",
       "      <td>0.63</td>\n",
       "      <td>NaN</td>\n",
       "    </tr>\n",
       "    <tr>\n",
       "      <th>3</th>\n",
       "      <td>2</td>\n",
       "      <td>194611020CHS</td>\n",
       "      <td>NBA</td>\n",
       "      <td>1</td>\n",
       "      <td>1947</td>\n",
       "      <td>11/2/1946</td>\n",
       "      <td>2</td>\n",
       "      <td>0</td>\n",
       "      <td>NYK</td>\n",
       "      <td>Knicks</td>\n",
       "      <td>47</td>\n",
       "      <td>1306.72</td>\n",
       "      <td>1297.07</td>\n",
       "      <td>40.69</td>\n",
       "      <td>CHS</td>\n",
       "      <td>Stags</td>\n",
       "      <td>63</td>\n",
       "      <td>1300.00</td>\n",
       "      <td>1309.65</td>\n",
       "      <td>A</td>\n",
       "      <td>L</td>\n",
       "      <td>0.37</td>\n",
       "      <td>NaN</td>\n",
       "    </tr>\n",
       "    <tr>\n",
       "      <th>4</th>\n",
       "      <td>3</td>\n",
       "      <td>194611020DTF</td>\n",
       "      <td>NBA</td>\n",
       "      <td>0</td>\n",
       "      <td>1947</td>\n",
       "      <td>11/2/1946</td>\n",
       "      <td>1</td>\n",
       "      <td>0</td>\n",
       "      <td>DTF</td>\n",
       "      <td>Falcons</td>\n",
       "      <td>33</td>\n",
       "      <td>1300.00</td>\n",
       "      <td>1279.62</td>\n",
       "      <td>38.86</td>\n",
       "      <td>WSC</td>\n",
       "      <td>Capitols</td>\n",
       "      <td>50</td>\n",
       "      <td>1300.00</td>\n",
       "      <td>1320.38</td>\n",
       "      <td>H</td>\n",
       "      <td>L</td>\n",
       "      <td>0.64</td>\n",
       "      <td>NaN</td>\n",
       "    </tr>\n",
       "  </tbody>\n",
       "</table>\n",
       "</div>"
      ],
      "text/plain": [
       "   gameorder       game_id lg_id  _iscopy  year_id  date_game  seasongame  \\\n",
       "0          1  194611010TRH   NBA        0     1947  11/1/1946           1   \n",
       "1          1  194611010TRH   NBA        1     1947  11/1/1946           1   \n",
       "2          2  194611020CHS   NBA        0     1947  11/2/1946           1   \n",
       "3          2  194611020CHS   NBA        1     1947  11/2/1946           2   \n",
       "4          3  194611020DTF   NBA        0     1947  11/2/1946           1   \n",
       "\n",
       "   is_playoffs team_id  fran_id  pts    elo_i    elo_n  win_equiv opp_id  \\\n",
       "0            0     TRH  Huskies   66  1300.00  1293.28      40.29    NYK   \n",
       "1            0     NYK   Knicks   68  1300.00  1306.72      41.71    TRH   \n",
       "2            0     CHS    Stags   63  1300.00  1309.65      42.01    NYK   \n",
       "3            0     NYK   Knicks   47  1306.72  1297.07      40.69    CHS   \n",
       "4            0     DTF  Falcons   33  1300.00  1279.62      38.86    WSC   \n",
       "\n",
       "   opp_fran  opp_pts  opp_elo_i  opp_elo_n game_location game_result  \\\n",
       "0    Knicks       68    1300.00    1306.72             H           L   \n",
       "1   Huskies       66    1300.00    1293.28             A           W   \n",
       "2    Knicks       47    1306.72    1297.07             H           W   \n",
       "3     Stags       63    1300.00    1309.65             A           L   \n",
       "4  Capitols       50    1300.00    1320.38             H           L   \n",
       "\n",
       "   forecast notes  \n",
       "0      0.64   NaN  \n",
       "1      0.36   NaN  \n",
       "2      0.63   NaN  \n",
       "3      0.37   NaN  \n",
       "4      0.64   NaN  "
      ]
     },
     "execution_count": 9,
     "metadata": {},
     "output_type": "execute_result"
    }
   ],
   "source": [
    "nba.head()"
   ]
  },
  {
   "cell_type": "markdown",
   "metadata": {},
   "source": [
    "Unless your screen is quite large, your output probably won’t display all 23 columns. Somewhere in the middle, you’ll see a column of ellipses (...) indicating the missing data. If you’re working in a terminal, then that’s probably more readable than wrapping long rows. However, Jupyter notebooks will allow you to scroll. You can configure Pandas to display all 23 columns like this:"
   ]
  },
  {
   "cell_type": "code",
   "execution_count": 7,
   "metadata": {},
   "outputs": [],
   "source": [
    "pd.set_option(\"display.max.columns\", None)"
   ]
  },
  {
   "cell_type": "markdown",
   "metadata": {},
   "source": [
    "While it’s practical to see all the columns, you probably won’t need six decimal places! Change it to two:"
   ]
  },
  {
   "cell_type": "code",
   "execution_count": 8,
   "metadata": {},
   "outputs": [],
   "source": [
    "pd.set_option(\"display.precision\", 2)"
   ]
  },
  {
   "cell_type": "markdown",
   "metadata": {},
   "source": [
    "To verify that you’ve changed the options successfully, you can execute `.head()` again, or you can display the last five rows with `.tail()` instead:"
   ]
  },
  {
   "cell_type": "code",
   "execution_count": 10,
   "metadata": {},
   "outputs": [
    {
     "data": {
      "text/html": [
       "<div>\n",
       "<style scoped>\n",
       "    .dataframe tbody tr th:only-of-type {\n",
       "        vertical-align: middle;\n",
       "    }\n",
       "\n",
       "    .dataframe tbody tr th {\n",
       "        vertical-align: top;\n",
       "    }\n",
       "\n",
       "    .dataframe thead th {\n",
       "        text-align: right;\n",
       "    }\n",
       "</style>\n",
       "<table border=\"1\" class=\"dataframe\">\n",
       "  <thead>\n",
       "    <tr style=\"text-align: right;\">\n",
       "      <th></th>\n",
       "      <th>gameorder</th>\n",
       "      <th>game_id</th>\n",
       "      <th>lg_id</th>\n",
       "      <th>_iscopy</th>\n",
       "      <th>year_id</th>\n",
       "      <th>date_game</th>\n",
       "      <th>seasongame</th>\n",
       "      <th>is_playoffs</th>\n",
       "      <th>team_id</th>\n",
       "      <th>fran_id</th>\n",
       "      <th>pts</th>\n",
       "      <th>elo_i</th>\n",
       "      <th>elo_n</th>\n",
       "      <th>win_equiv</th>\n",
       "      <th>opp_id</th>\n",
       "      <th>opp_fran</th>\n",
       "      <th>opp_pts</th>\n",
       "      <th>opp_elo_i</th>\n",
       "      <th>opp_elo_n</th>\n",
       "      <th>game_location</th>\n",
       "      <th>game_result</th>\n",
       "      <th>forecast</th>\n",
       "      <th>notes</th>\n",
       "    </tr>\n",
       "  </thead>\n",
       "  <tbody>\n",
       "    <tr>\n",
       "      <th>126309</th>\n",
       "      <td>63155</td>\n",
       "      <td>201506110CLE</td>\n",
       "      <td>NBA</td>\n",
       "      <td>0</td>\n",
       "      <td>2015</td>\n",
       "      <td>6/11/2015</td>\n",
       "      <td>100</td>\n",
       "      <td>1</td>\n",
       "      <td>CLE</td>\n",
       "      <td>Cavaliers</td>\n",
       "      <td>82</td>\n",
       "      <td>1723.41</td>\n",
       "      <td>1704.39</td>\n",
       "      <td>60.31</td>\n",
       "      <td>GSW</td>\n",
       "      <td>Warriors</td>\n",
       "      <td>103</td>\n",
       "      <td>1790.96</td>\n",
       "      <td>1809.98</td>\n",
       "      <td>H</td>\n",
       "      <td>L</td>\n",
       "      <td>0.55</td>\n",
       "      <td>NaN</td>\n",
       "    </tr>\n",
       "    <tr>\n",
       "      <th>126310</th>\n",
       "      <td>63156</td>\n",
       "      <td>201506140GSW</td>\n",
       "      <td>NBA</td>\n",
       "      <td>0</td>\n",
       "      <td>2015</td>\n",
       "      <td>6/14/2015</td>\n",
       "      <td>102</td>\n",
       "      <td>1</td>\n",
       "      <td>GSW</td>\n",
       "      <td>Warriors</td>\n",
       "      <td>104</td>\n",
       "      <td>1809.98</td>\n",
       "      <td>1813.63</td>\n",
       "      <td>68.01</td>\n",
       "      <td>CLE</td>\n",
       "      <td>Cavaliers</td>\n",
       "      <td>91</td>\n",
       "      <td>1704.39</td>\n",
       "      <td>1700.74</td>\n",
       "      <td>H</td>\n",
       "      <td>W</td>\n",
       "      <td>0.77</td>\n",
       "      <td>NaN</td>\n",
       "    </tr>\n",
       "    <tr>\n",
       "      <th>126311</th>\n",
       "      <td>63156</td>\n",
       "      <td>201506140GSW</td>\n",
       "      <td>NBA</td>\n",
       "      <td>1</td>\n",
       "      <td>2015</td>\n",
       "      <td>6/14/2015</td>\n",
       "      <td>101</td>\n",
       "      <td>1</td>\n",
       "      <td>CLE</td>\n",
       "      <td>Cavaliers</td>\n",
       "      <td>91</td>\n",
       "      <td>1704.39</td>\n",
       "      <td>1700.74</td>\n",
       "      <td>60.01</td>\n",
       "      <td>GSW</td>\n",
       "      <td>Warriors</td>\n",
       "      <td>104</td>\n",
       "      <td>1809.98</td>\n",
       "      <td>1813.63</td>\n",
       "      <td>A</td>\n",
       "      <td>L</td>\n",
       "      <td>0.23</td>\n",
       "      <td>NaN</td>\n",
       "    </tr>\n",
       "    <tr>\n",
       "      <th>126312</th>\n",
       "      <td>63157</td>\n",
       "      <td>201506170CLE</td>\n",
       "      <td>NBA</td>\n",
       "      <td>0</td>\n",
       "      <td>2015</td>\n",
       "      <td>6/16/2015</td>\n",
       "      <td>102</td>\n",
       "      <td>1</td>\n",
       "      <td>CLE</td>\n",
       "      <td>Cavaliers</td>\n",
       "      <td>97</td>\n",
       "      <td>1700.74</td>\n",
       "      <td>1692.09</td>\n",
       "      <td>59.29</td>\n",
       "      <td>GSW</td>\n",
       "      <td>Warriors</td>\n",
       "      <td>105</td>\n",
       "      <td>1813.63</td>\n",
       "      <td>1822.29</td>\n",
       "      <td>H</td>\n",
       "      <td>L</td>\n",
       "      <td>0.48</td>\n",
       "      <td>NaN</td>\n",
       "    </tr>\n",
       "    <tr>\n",
       "      <th>126313</th>\n",
       "      <td>63157</td>\n",
       "      <td>201506170CLE</td>\n",
       "      <td>NBA</td>\n",
       "      <td>1</td>\n",
       "      <td>2015</td>\n",
       "      <td>6/16/2015</td>\n",
       "      <td>103</td>\n",
       "      <td>1</td>\n",
       "      <td>GSW</td>\n",
       "      <td>Warriors</td>\n",
       "      <td>105</td>\n",
       "      <td>1813.63</td>\n",
       "      <td>1822.29</td>\n",
       "      <td>68.52</td>\n",
       "      <td>CLE</td>\n",
       "      <td>Cavaliers</td>\n",
       "      <td>97</td>\n",
       "      <td>1700.74</td>\n",
       "      <td>1692.09</td>\n",
       "      <td>A</td>\n",
       "      <td>W</td>\n",
       "      <td>0.52</td>\n",
       "      <td>NaN</td>\n",
       "    </tr>\n",
       "  </tbody>\n",
       "</table>\n",
       "</div>"
      ],
      "text/plain": [
       "        gameorder       game_id lg_id  _iscopy  year_id  date_game  \\\n",
       "126309      63155  201506110CLE   NBA        0     2015  6/11/2015   \n",
       "126310      63156  201506140GSW   NBA        0     2015  6/14/2015   \n",
       "126311      63156  201506140GSW   NBA        1     2015  6/14/2015   \n",
       "126312      63157  201506170CLE   NBA        0     2015  6/16/2015   \n",
       "126313      63157  201506170CLE   NBA        1     2015  6/16/2015   \n",
       "\n",
       "        seasongame  is_playoffs team_id    fran_id  pts    elo_i    elo_n  \\\n",
       "126309         100            1     CLE  Cavaliers   82  1723.41  1704.39   \n",
       "126310         102            1     GSW   Warriors  104  1809.98  1813.63   \n",
       "126311         101            1     CLE  Cavaliers   91  1704.39  1700.74   \n",
       "126312         102            1     CLE  Cavaliers   97  1700.74  1692.09   \n",
       "126313         103            1     GSW   Warriors  105  1813.63  1822.29   \n",
       "\n",
       "        win_equiv opp_id   opp_fran  opp_pts  opp_elo_i  opp_elo_n  \\\n",
       "126309      60.31    GSW   Warriors      103    1790.96    1809.98   \n",
       "126310      68.01    CLE  Cavaliers       91    1704.39    1700.74   \n",
       "126311      60.01    GSW   Warriors      104    1809.98    1813.63   \n",
       "126312      59.29    GSW   Warriors      105    1813.63    1822.29   \n",
       "126313      68.52    CLE  Cavaliers       97    1700.74    1692.09   \n",
       "\n",
       "       game_location game_result  forecast notes  \n",
       "126309             H           L      0.55   NaN  \n",
       "126310             H           W      0.77   NaN  \n",
       "126311             A           L      0.23   NaN  \n",
       "126312             H           L      0.48   NaN  \n",
       "126313             A           W      0.52   NaN  "
      ]
     },
     "execution_count": 10,
     "metadata": {},
     "output_type": "execute_result"
    }
   ],
   "source": [
    "nba.tail()"
   ]
  },
  {
   "cell_type": "markdown",
   "metadata": {},
   "source": [
    "#### Exercise\n",
    "\n",
    "Can you print the last 3 lines of our `DataFrame`?"
   ]
  },
  {
   "cell_type": "code",
   "execution_count": 12,
   "metadata": {},
   "outputs": [
    {
     "data": {
      "text/html": [
       "<div>\n",
       "<style scoped>\n",
       "    .dataframe tbody tr th:only-of-type {\n",
       "        vertical-align: middle;\n",
       "    }\n",
       "\n",
       "    .dataframe tbody tr th {\n",
       "        vertical-align: top;\n",
       "    }\n",
       "\n",
       "    .dataframe thead th {\n",
       "        text-align: right;\n",
       "    }\n",
       "</style>\n",
       "<table border=\"1\" class=\"dataframe\">\n",
       "  <thead>\n",
       "    <tr style=\"text-align: right;\">\n",
       "      <th></th>\n",
       "      <th>gameorder</th>\n",
       "      <th>game_id</th>\n",
       "      <th>lg_id</th>\n",
       "      <th>_iscopy</th>\n",
       "      <th>year_id</th>\n",
       "      <th>date_game</th>\n",
       "      <th>seasongame</th>\n",
       "      <th>is_playoffs</th>\n",
       "      <th>team_id</th>\n",
       "      <th>fran_id</th>\n",
       "      <th>pts</th>\n",
       "      <th>elo_i</th>\n",
       "      <th>elo_n</th>\n",
       "      <th>win_equiv</th>\n",
       "      <th>opp_id</th>\n",
       "      <th>opp_fran</th>\n",
       "      <th>opp_pts</th>\n",
       "      <th>opp_elo_i</th>\n",
       "      <th>opp_elo_n</th>\n",
       "      <th>game_location</th>\n",
       "      <th>game_result</th>\n",
       "      <th>forecast</th>\n",
       "      <th>notes</th>\n",
       "    </tr>\n",
       "  </thead>\n",
       "  <tbody>\n",
       "    <tr>\n",
       "      <th>126311</th>\n",
       "      <td>63156</td>\n",
       "      <td>201506140GSW</td>\n",
       "      <td>NBA</td>\n",
       "      <td>1</td>\n",
       "      <td>2015</td>\n",
       "      <td>6/14/2015</td>\n",
       "      <td>101</td>\n",
       "      <td>1</td>\n",
       "      <td>CLE</td>\n",
       "      <td>Cavaliers</td>\n",
       "      <td>91</td>\n",
       "      <td>1704.39</td>\n",
       "      <td>1700.74</td>\n",
       "      <td>60.01</td>\n",
       "      <td>GSW</td>\n",
       "      <td>Warriors</td>\n",
       "      <td>104</td>\n",
       "      <td>1809.98</td>\n",
       "      <td>1813.63</td>\n",
       "      <td>A</td>\n",
       "      <td>L</td>\n",
       "      <td>0.23</td>\n",
       "      <td>NaN</td>\n",
       "    </tr>\n",
       "    <tr>\n",
       "      <th>126312</th>\n",
       "      <td>63157</td>\n",
       "      <td>201506170CLE</td>\n",
       "      <td>NBA</td>\n",
       "      <td>0</td>\n",
       "      <td>2015</td>\n",
       "      <td>6/16/2015</td>\n",
       "      <td>102</td>\n",
       "      <td>1</td>\n",
       "      <td>CLE</td>\n",
       "      <td>Cavaliers</td>\n",
       "      <td>97</td>\n",
       "      <td>1700.74</td>\n",
       "      <td>1692.09</td>\n",
       "      <td>59.29</td>\n",
       "      <td>GSW</td>\n",
       "      <td>Warriors</td>\n",
       "      <td>105</td>\n",
       "      <td>1813.63</td>\n",
       "      <td>1822.29</td>\n",
       "      <td>H</td>\n",
       "      <td>L</td>\n",
       "      <td>0.48</td>\n",
       "      <td>NaN</td>\n",
       "    </tr>\n",
       "    <tr>\n",
       "      <th>126313</th>\n",
       "      <td>63157</td>\n",
       "      <td>201506170CLE</td>\n",
       "      <td>NBA</td>\n",
       "      <td>1</td>\n",
       "      <td>2015</td>\n",
       "      <td>6/16/2015</td>\n",
       "      <td>103</td>\n",
       "      <td>1</td>\n",
       "      <td>GSW</td>\n",
       "      <td>Warriors</td>\n",
       "      <td>105</td>\n",
       "      <td>1813.63</td>\n",
       "      <td>1822.29</td>\n",
       "      <td>68.52</td>\n",
       "      <td>CLE</td>\n",
       "      <td>Cavaliers</td>\n",
       "      <td>97</td>\n",
       "      <td>1700.74</td>\n",
       "      <td>1692.09</td>\n",
       "      <td>A</td>\n",
       "      <td>W</td>\n",
       "      <td>0.52</td>\n",
       "      <td>NaN</td>\n",
       "    </tr>\n",
       "  </tbody>\n",
       "</table>\n",
       "</div>"
      ],
      "text/plain": [
       "        gameorder       game_id lg_id  _iscopy  year_id  date_game  \\\n",
       "126311      63156  201506140GSW   NBA        1     2015  6/14/2015   \n",
       "126312      63157  201506170CLE   NBA        0     2015  6/16/2015   \n",
       "126313      63157  201506170CLE   NBA        1     2015  6/16/2015   \n",
       "\n",
       "        seasongame  is_playoffs team_id    fran_id  pts    elo_i    elo_n  \\\n",
       "126311         101            1     CLE  Cavaliers   91  1704.39  1700.74   \n",
       "126312         102            1     CLE  Cavaliers   97  1700.74  1692.09   \n",
       "126313         103            1     GSW   Warriors  105  1813.63  1822.29   \n",
       "\n",
       "        win_equiv opp_id   opp_fran  opp_pts  opp_elo_i  opp_elo_n  \\\n",
       "126311      60.01    GSW   Warriors      104    1809.98    1813.63   \n",
       "126312      59.29    GSW   Warriors      105    1813.63    1822.29   \n",
       "126313      68.52    CLE  Cavaliers       97    1700.74    1692.09   \n",
       "\n",
       "       game_location game_result  forecast notes  \n",
       "126311             A           L      0.23   NaN  \n",
       "126312             H           L      0.48   NaN  \n",
       "126313             A           W      0.52   NaN  "
      ]
     },
     "execution_count": 12,
     "metadata": {},
     "output_type": "execute_result"
    }
   ],
   "source": [
    "# Hint: look at the doc for DataFrame.tail()\n",
    "nba.tail(3)"
   ]
  },
  {
   "cell_type": "markdown",
   "metadata": {},
   "source": [
    "Similar to the Python standard library, functions in Pandas also come with several optional parameters. Whenever you bump into an example that looks relevant but is slightly different from your use case, check out the official documentation: https://pandas.pydata.org/pandas-docs/stable/. The chances are good that you’ll find a solution by tweaking some optional parameters!"
   ]
  },
  {
   "cell_type": "markdown",
   "metadata": {},
   "source": [
    "# 2. Getting to Know Your Data"
   ]
  },
  {
   "cell_type": "markdown",
   "metadata": {},
   "source": [
    "You’ve imported a CSV file with the Pandas Python library and had a first look at the contents of your dataset. So far, you’ve only seen the size of your dataset and its first and last few rows. Next, you’ll learn how to examine your data more systematically."
   ]
  },
  {
   "cell_type": "markdown",
   "metadata": {},
   "source": [
    "### Displaying Data Types With `.info()`"
   ]
  },
  {
   "cell_type": "markdown",
   "metadata": {},
   "source": [
    "The first step in getting to know your data is to discover the different data types it contains. While you can put anything into a list, the columns of a `DataFrame` contain values of a specific data type. When you compare Pandas and Python data structures, you’ll see that this behavior makes Pandas much faster!\n",
    "\n",
    "You can display all columns and their data types with `.info()`:\n"
   ]
  },
  {
   "cell_type": "code",
   "execution_count": 13,
   "metadata": {},
   "outputs": [
    {
     "name": "stdout",
     "output_type": "stream",
     "text": [
      "<class 'pandas.core.frame.DataFrame'>\n",
      "RangeIndex: 126314 entries, 0 to 126313\n",
      "Data columns (total 23 columns):\n",
      " #   Column         Non-Null Count   Dtype  \n",
      "---  ------         --------------   -----  \n",
      " 0   gameorder      126314 non-null  int64  \n",
      " 1   game_id        126314 non-null  object \n",
      " 2   lg_id          126314 non-null  object \n",
      " 3   _iscopy        126314 non-null  int64  \n",
      " 4   year_id        126314 non-null  int64  \n",
      " 5   date_game      126314 non-null  object \n",
      " 6   seasongame     126314 non-null  int64  \n",
      " 7   is_playoffs    126314 non-null  int64  \n",
      " 8   team_id        126314 non-null  object \n",
      " 9   fran_id        126314 non-null  object \n",
      " 10  pts            126314 non-null  int64  \n",
      " 11  elo_i          126314 non-null  float64\n",
      " 12  elo_n          126314 non-null  float64\n",
      " 13  win_equiv      126314 non-null  float64\n",
      " 14  opp_id         126314 non-null  object \n",
      " 15  opp_fran       126314 non-null  object \n",
      " 16  opp_pts        126314 non-null  int64  \n",
      " 17  opp_elo_i      126314 non-null  float64\n",
      " 18  opp_elo_n      126314 non-null  float64\n",
      " 19  game_location  126314 non-null  object \n",
      " 20  game_result    126314 non-null  object \n",
      " 21  forecast       126314 non-null  float64\n",
      " 22  notes          5424 non-null    object \n",
      "dtypes: float64(6), int64(7), object(10)\n",
      "memory usage: 22.2+ MB\n"
     ]
    }
   ],
   "source": [
    "nba.info()"
   ]
  },
  {
   "cell_type": "markdown",
   "metadata": {},
   "source": [
    "You’ll see a list of all the columns in your dataset and the type of data each column contains. Here, you can see the data types `int64`, `float64`, and `object`. \n",
    "\n",
    "Pandas uses the `NumPy` library to work with these types. Later, you’ll meet the more complex categorical data type, which the Pandas Python library implements itself.\n",
    "\n",
    "The `object` data type is a special one. According to the Pandas Cookbook (https://realpython.com/asins/B06W2LXLQK/), the `object` data type is “a catch-all for columns that Pandas doesn’t recognize as any other specific type.” \n",
    "\n",
    "In practice, it often means that all of the values in the column are strings.\n",
    "\n",
    "Although you can store arbitrary Python objects in the object data type, you should be aware of the drawbacks to doing so. Strange values in an object column can harm Pandas’ performance and its interoperability with other libraries. For more information, check out the official getting started guide (https://pandas.pydata.org/pandas-docs/stable/getting_started/).\n"
   ]
  },
  {
   "cell_type": "markdown",
   "metadata": {},
   "source": [
    "### Showing Basic Statistics With `.describe()`"
   ]
  },
  {
   "cell_type": "markdown",
   "metadata": {},
   "source": [
    "Now that you’ve seen what data types are in your dataset, it’s time to get an overview of the values each column contains. You can do this with `.describe()`:"
   ]
  },
  {
   "cell_type": "code",
   "execution_count": 14,
   "metadata": {},
   "outputs": [
    {
     "data": {
      "text/html": [
       "<div>\n",
       "<style scoped>\n",
       "    .dataframe tbody tr th:only-of-type {\n",
       "        vertical-align: middle;\n",
       "    }\n",
       "\n",
       "    .dataframe tbody tr th {\n",
       "        vertical-align: top;\n",
       "    }\n",
       "\n",
       "    .dataframe thead th {\n",
       "        text-align: right;\n",
       "    }\n",
       "</style>\n",
       "<table border=\"1\" class=\"dataframe\">\n",
       "  <thead>\n",
       "    <tr style=\"text-align: right;\">\n",
       "      <th></th>\n",
       "      <th>gameorder</th>\n",
       "      <th>_iscopy</th>\n",
       "      <th>year_id</th>\n",
       "      <th>seasongame</th>\n",
       "      <th>is_playoffs</th>\n",
       "      <th>pts</th>\n",
       "      <th>elo_i</th>\n",
       "      <th>elo_n</th>\n",
       "      <th>win_equiv</th>\n",
       "      <th>opp_pts</th>\n",
       "      <th>opp_elo_i</th>\n",
       "      <th>opp_elo_n</th>\n",
       "      <th>forecast</th>\n",
       "    </tr>\n",
       "  </thead>\n",
       "  <tbody>\n",
       "    <tr>\n",
       "      <th>count</th>\n",
       "      <td>126314.00</td>\n",
       "      <td>126314.0</td>\n",
       "      <td>126314.00</td>\n",
       "      <td>126314.00</td>\n",
       "      <td>126314.00</td>\n",
       "      <td>126314.00</td>\n",
       "      <td>126314.00</td>\n",
       "      <td>126314.00</td>\n",
       "      <td>126314.00</td>\n",
       "      <td>126314.00</td>\n",
       "      <td>126314.00</td>\n",
       "      <td>126314.00</td>\n",
       "      <td>126314.00</td>\n",
       "    </tr>\n",
       "    <tr>\n",
       "      <th>mean</th>\n",
       "      <td>31579.00</td>\n",
       "      <td>0.5</td>\n",
       "      <td>1988.20</td>\n",
       "      <td>43.53</td>\n",
       "      <td>0.06</td>\n",
       "      <td>102.73</td>\n",
       "      <td>1495.24</td>\n",
       "      <td>1495.24</td>\n",
       "      <td>41.71</td>\n",
       "      <td>102.73</td>\n",
       "      <td>1495.24</td>\n",
       "      <td>1495.24</td>\n",
       "      <td>0.50</td>\n",
       "    </tr>\n",
       "    <tr>\n",
       "      <th>std</th>\n",
       "      <td>18231.93</td>\n",
       "      <td>0.5</td>\n",
       "      <td>17.58</td>\n",
       "      <td>25.38</td>\n",
       "      <td>0.24</td>\n",
       "      <td>14.81</td>\n",
       "      <td>112.14</td>\n",
       "      <td>112.46</td>\n",
       "      <td>10.63</td>\n",
       "      <td>14.81</td>\n",
       "      <td>112.14</td>\n",
       "      <td>112.46</td>\n",
       "      <td>0.22</td>\n",
       "    </tr>\n",
       "    <tr>\n",
       "      <th>min</th>\n",
       "      <td>1.00</td>\n",
       "      <td>0.0</td>\n",
       "      <td>1947.00</td>\n",
       "      <td>1.00</td>\n",
       "      <td>0.00</td>\n",
       "      <td>0.00</td>\n",
       "      <td>1091.64</td>\n",
       "      <td>1085.77</td>\n",
       "      <td>10.15</td>\n",
       "      <td>0.00</td>\n",
       "      <td>1091.64</td>\n",
       "      <td>1085.77</td>\n",
       "      <td>0.02</td>\n",
       "    </tr>\n",
       "    <tr>\n",
       "      <th>25%</th>\n",
       "      <td>15790.00</td>\n",
       "      <td>0.0</td>\n",
       "      <td>1975.00</td>\n",
       "      <td>22.00</td>\n",
       "      <td>0.00</td>\n",
       "      <td>93.00</td>\n",
       "      <td>1417.24</td>\n",
       "      <td>1416.99</td>\n",
       "      <td>34.10</td>\n",
       "      <td>93.00</td>\n",
       "      <td>1417.24</td>\n",
       "      <td>1416.99</td>\n",
       "      <td>0.33</td>\n",
       "    </tr>\n",
       "    <tr>\n",
       "      <th>50%</th>\n",
       "      <td>31579.00</td>\n",
       "      <td>0.5</td>\n",
       "      <td>1990.00</td>\n",
       "      <td>43.00</td>\n",
       "      <td>0.00</td>\n",
       "      <td>103.00</td>\n",
       "      <td>1500.95</td>\n",
       "      <td>1500.95</td>\n",
       "      <td>42.11</td>\n",
       "      <td>103.00</td>\n",
       "      <td>1500.95</td>\n",
       "      <td>1500.95</td>\n",
       "      <td>0.50</td>\n",
       "    </tr>\n",
       "    <tr>\n",
       "      <th>75%</th>\n",
       "      <td>47368.00</td>\n",
       "      <td>1.0</td>\n",
       "      <td>2003.00</td>\n",
       "      <td>65.00</td>\n",
       "      <td>0.00</td>\n",
       "      <td>112.00</td>\n",
       "      <td>1576.06</td>\n",
       "      <td>1576.29</td>\n",
       "      <td>49.64</td>\n",
       "      <td>112.00</td>\n",
       "      <td>1576.06</td>\n",
       "      <td>1576.29</td>\n",
       "      <td>0.67</td>\n",
       "    </tr>\n",
       "    <tr>\n",
       "      <th>max</th>\n",
       "      <td>63157.00</td>\n",
       "      <td>1.0</td>\n",
       "      <td>2015.00</td>\n",
       "      <td>108.00</td>\n",
       "      <td>1.00</td>\n",
       "      <td>186.00</td>\n",
       "      <td>1853.10</td>\n",
       "      <td>1853.10</td>\n",
       "      <td>71.11</td>\n",
       "      <td>186.00</td>\n",
       "      <td>1853.10</td>\n",
       "      <td>1853.10</td>\n",
       "      <td>0.98</td>\n",
       "    </tr>\n",
       "  </tbody>\n",
       "</table>\n",
       "</div>"
      ],
      "text/plain": [
       "       gameorder   _iscopy    year_id  seasongame  is_playoffs        pts  \\\n",
       "count  126314.00  126314.0  126314.00   126314.00    126314.00  126314.00   \n",
       "mean    31579.00       0.5    1988.20       43.53         0.06     102.73   \n",
       "std     18231.93       0.5      17.58       25.38         0.24      14.81   \n",
       "min         1.00       0.0    1947.00        1.00         0.00       0.00   \n",
       "25%     15790.00       0.0    1975.00       22.00         0.00      93.00   \n",
       "50%     31579.00       0.5    1990.00       43.00         0.00     103.00   \n",
       "75%     47368.00       1.0    2003.00       65.00         0.00     112.00   \n",
       "max     63157.00       1.0    2015.00      108.00         1.00     186.00   \n",
       "\n",
       "           elo_i      elo_n  win_equiv    opp_pts  opp_elo_i  opp_elo_n  \\\n",
       "count  126314.00  126314.00  126314.00  126314.00  126314.00  126314.00   \n",
       "mean     1495.24    1495.24      41.71     102.73    1495.24    1495.24   \n",
       "std       112.14     112.46      10.63      14.81     112.14     112.46   \n",
       "min      1091.64    1085.77      10.15       0.00    1091.64    1085.77   \n",
       "25%      1417.24    1416.99      34.10      93.00    1417.24    1416.99   \n",
       "50%      1500.95    1500.95      42.11     103.00    1500.95    1500.95   \n",
       "75%      1576.06    1576.29      49.64     112.00    1576.06    1576.29   \n",
       "max      1853.10    1853.10      71.11     186.00    1853.10    1853.10   \n",
       "\n",
       "        forecast  \n",
       "count  126314.00  \n",
       "mean        0.50  \n",
       "std         0.22  \n",
       "min         0.02  \n",
       "25%         0.33  \n",
       "50%         0.50  \n",
       "75%         0.67  \n",
       "max         0.98  "
      ]
     },
     "execution_count": 14,
     "metadata": {},
     "output_type": "execute_result"
    }
   ],
   "source": [
    "nba.describe()"
   ]
  },
  {
   "cell_type": "markdown",
   "metadata": {},
   "source": [
    "`.describe()` only analyzes numeric columns by default, but you can provide other data types if you use the `include` parameter:"
   ]
  },
  {
   "cell_type": "code",
   "execution_count": 15,
   "metadata": {},
   "outputs": [
    {
     "data": {
      "text/html": [
       "<div>\n",
       "<style scoped>\n",
       "    .dataframe tbody tr th:only-of-type {\n",
       "        vertical-align: middle;\n",
       "    }\n",
       "\n",
       "    .dataframe tbody tr th {\n",
       "        vertical-align: top;\n",
       "    }\n",
       "\n",
       "    .dataframe thead th {\n",
       "        text-align: right;\n",
       "    }\n",
       "</style>\n",
       "<table border=\"1\" class=\"dataframe\">\n",
       "  <thead>\n",
       "    <tr style=\"text-align: right;\">\n",
       "      <th></th>\n",
       "      <th>game_id</th>\n",
       "      <th>lg_id</th>\n",
       "      <th>date_game</th>\n",
       "      <th>team_id</th>\n",
       "      <th>fran_id</th>\n",
       "      <th>opp_id</th>\n",
       "      <th>opp_fran</th>\n",
       "      <th>game_location</th>\n",
       "      <th>game_result</th>\n",
       "      <th>notes</th>\n",
       "    </tr>\n",
       "  </thead>\n",
       "  <tbody>\n",
       "    <tr>\n",
       "      <th>count</th>\n",
       "      <td>126314</td>\n",
       "      <td>126314</td>\n",
       "      <td>126314</td>\n",
       "      <td>126314</td>\n",
       "      <td>126314</td>\n",
       "      <td>126314</td>\n",
       "      <td>126314</td>\n",
       "      <td>126314</td>\n",
       "      <td>126314</td>\n",
       "      <td>5424</td>\n",
       "    </tr>\n",
       "    <tr>\n",
       "      <th>unique</th>\n",
       "      <td>63157</td>\n",
       "      <td>2</td>\n",
       "      <td>12426</td>\n",
       "      <td>104</td>\n",
       "      <td>53</td>\n",
       "      <td>104</td>\n",
       "      <td>53</td>\n",
       "      <td>3</td>\n",
       "      <td>2</td>\n",
       "      <td>231</td>\n",
       "    </tr>\n",
       "    <tr>\n",
       "      <th>top</th>\n",
       "      <td>197603050PHI</td>\n",
       "      <td>NBA</td>\n",
       "      <td>4/13/2011</td>\n",
       "      <td>BOS</td>\n",
       "      <td>Lakers</td>\n",
       "      <td>BOS</td>\n",
       "      <td>Lakers</td>\n",
       "      <td>A</td>\n",
       "      <td>W</td>\n",
       "      <td>at New York NY</td>\n",
       "    </tr>\n",
       "    <tr>\n",
       "      <th>freq</th>\n",
       "      <td>2</td>\n",
       "      <td>118016</td>\n",
       "      <td>30</td>\n",
       "      <td>5997</td>\n",
       "      <td>6024</td>\n",
       "      <td>5997</td>\n",
       "      <td>6024</td>\n",
       "      <td>63138</td>\n",
       "      <td>63157</td>\n",
       "      <td>440</td>\n",
       "    </tr>\n",
       "  </tbody>\n",
       "</table>\n",
       "</div>"
      ],
      "text/plain": [
       "             game_id   lg_id  date_game team_id fran_id  opp_id opp_fran  \\\n",
       "count         126314  126314     126314  126314  126314  126314   126314   \n",
       "unique         63157       2      12426     104      53     104       53   \n",
       "top     197603050PHI     NBA  4/13/2011     BOS  Lakers     BOS   Lakers   \n",
       "freq               2  118016         30    5997    6024    5997     6024   \n",
       "\n",
       "       game_location game_result           notes  \n",
       "count         126314      126314            5424  \n",
       "unique             3           2             231  \n",
       "top                A           W  at New York NY  \n",
       "freq           63138       63157             440  "
      ]
     },
     "execution_count": 15,
     "metadata": {},
     "output_type": "execute_result"
    }
   ],
   "source": [
    "import numpy as np\n",
    "nba.describe(include=np.object)"
   ]
  },
  {
   "cell_type": "markdown",
   "metadata": {},
   "source": [
    "`.describe()` won’t try to calculate a mean or a standard deviation for the object columns, since they mostly include text strings. However, it will still display some descriptive statistics\n",
    "\n",
    "Take a look at the `team_id` and `fran_id` columns above. Your dataset contains 104 different team IDs, but only 53 different franchise IDs. Furthermore, the most frequent team ID is `BOS`, but the most frequent franchise ID is `Lakers`. How is that possible? You’ll need to explore your dataset a bit more to answer this question."
   ]
  },
  {
   "cell_type": "markdown",
   "metadata": {},
   "source": [
    "### Exploring Your Dataset"
   ]
  },
  {
   "cell_type": "markdown",
   "metadata": {},
   "source": [
    "Exploratory data analysis can help you answer questions about your dataset. For example, you can examine how often specific values occur in a column:"
   ]
  },
  {
   "cell_type": "code",
   "execution_count": 16,
   "metadata": {},
   "outputs": [
    {
     "data": {
      "text/plain": [
       "0         TRH\n",
       "1         NYK\n",
       "2         CHS\n",
       "3         NYK\n",
       "4         DTF\n",
       "         ... \n",
       "126309    CLE\n",
       "126310    GSW\n",
       "126311    CLE\n",
       "126312    CLE\n",
       "126313    GSW\n",
       "Name: team_id, Length: 126314, dtype: object"
      ]
     },
     "execution_count": 16,
     "metadata": {},
     "output_type": "execute_result"
    }
   ],
   "source": [
    "nba[\"team_id\"]"
   ]
  },
  {
   "cell_type": "code",
   "execution_count": 17,
   "metadata": {},
   "outputs": [
    {
     "data": {
      "text/plain": [
       "BOS    5997\n",
       "NYK    5769\n",
       "LAL    5078\n",
       "DET    4985\n",
       "PHI    4533\n",
       "       ... \n",
       "INJ      60\n",
       "TRH      60\n",
       "DTF      60\n",
       "PIT      60\n",
       "SDS      11\n",
       "Name: team_id, Length: 104, dtype: int64"
      ]
     },
     "execution_count": 17,
     "metadata": {},
     "output_type": "execute_result"
    }
   ],
   "source": [
    "nba[\"team_id\"].value_counts() # team_id column\n",
    "# Expected:\n",
    "# BOS    5997\n",
    "# NYK    5769\n",
    "# LAL    5078\n",
    "\n",
    "# SDS      11"
   ]
  },
  {
   "cell_type": "code",
   "execution_count": 18,
   "metadata": {},
   "outputs": [
    {
     "data": {
      "text/plain": [
       "Lakers          6024\n",
       "Celtics         5997\n",
       "Knicks          5769\n",
       "Warriors        5657\n",
       "Pistons         5650\n",
       "Sixers          5644\n",
       "Hawks           5572\n",
       "Kings           5475\n",
       "Wizards         4582\n",
       "Spurs           4309\n",
       "Bulls           4307\n",
       "Pacers          4227\n",
       "Thunder         4178\n",
       "Rockets         4154\n",
       "Nuggets         4120\n",
       "Nets            4106\n",
       "Suns            4080\n",
       "Bucks           4034\n",
       "Trailblazers    3870\n",
       "Cavaliers       3810\n",
       "Clippers        3733\n",
       "Jazz            3555\n",
       "Mavericks       3013\n",
       "Heat            2371\n",
       "Pelicans        2254\n",
       "Magic           2207\n",
       "Timberwolves    2131\n",
       "Grizzlies       1657\n",
       "Raptors         1634\n",
       "Hornets          894\n",
       "Colonels         846\n",
       "Squires          799\n",
       "Spirits          777\n",
       "Stars            756\n",
       "Sounds           697\n",
       "Baltimore        467\n",
       "Floridians       440\n",
       "Condors          430\n",
       "Capitols         291\n",
       "Olympians        282\n",
       "Sails            274\n",
       "Stags            260\n",
       "Bombers          249\n",
       "Steamrollers     168\n",
       "Packers           72\n",
       "Redskins          65\n",
       "Rebels            63\n",
       "Denver            62\n",
       "Waterloo          62\n",
       "Falcons           60\n",
       "Jets              60\n",
       "Huskies           60\n",
       "Ironmen           60\n",
       "Name: fran_id, dtype: int64"
      ]
     },
     "execution_count": 18,
     "metadata": {},
     "output_type": "execute_result"
    }
   ],
   "source": [
    "nba[\"fran_id\"].value_counts() # fran_id column\n",
    "# Expected:\n",
    "# Name: team_id, Length: 104, dtype: int64\n",
    "# Lakers          6024\n",
    "# Celtics         5997\n",
    "# Knicks          5769\n",
    "\n",
    "# Huskies           60\n",
    "# Name: fran_id, dtype: int64"
   ]
  },
  {
   "cell_type": "markdown",
   "metadata": {},
   "source": [
    "It seems that a team named \"Lakers\" played 6024 games, but only 5078 of those were played by the Los Angeles Lakers. Find out who the other \"Lakers\" team is:"
   ]
  },
  {
   "cell_type": "code",
   "execution_count": 19,
   "metadata": {},
   "outputs": [
    {
     "data": {
      "text/plain": [
       "LAL    5078\n",
       "MNL     946\n",
       "Name: team_id, dtype: int64"
      ]
     },
     "execution_count": 19,
     "metadata": {},
     "output_type": "execute_result"
    }
   ],
   "source": [
    "nba.loc[nba[\"fran_id\"] == \"Lakers\", \"team_id\"].value_counts()\n",
    "# Expected:\n",
    "# LAL    5078\n",
    "# MNL     946\n",
    "# Name: team_id, dtype: int64"
   ]
  },
  {
   "cell_type": "markdown",
   "metadata": {},
   "source": [
    "Indeed, the Minneapolis Lakers (`\"MNL\"`) played 946 games. You can even find out when they played those games:"
   ]
  },
  {
   "cell_type": "code",
   "execution_count": 20,
   "metadata": {},
   "outputs": [
    {
     "data": {
      "text/plain": [
       "1136     11/4/1948\n",
       "1152     11/6/1948\n",
       "1159     11/9/1948\n",
       "1170    11/11/1948\n",
       "1183    11/13/1948\n",
       "           ...    \n",
       "9701     3/19/1960\n",
       "9702     3/20/1960\n",
       "9709     3/22/1960\n",
       "9711     3/24/1960\n",
       "9715     3/26/1960\n",
       "Name: date_game, Length: 946, dtype: object"
      ]
     },
     "execution_count": 20,
     "metadata": {},
     "output_type": "execute_result"
    }
   ],
   "source": [
    "nba.loc[nba[\"team_id\"] == \"MNL\", \"date_game\"]"
   ]
  },
  {
   "cell_type": "code",
   "execution_count": 21,
   "metadata": {},
   "outputs": [
    {
     "data": {
      "text/plain": [
       "'1/1/1949'"
      ]
     },
     "execution_count": 21,
     "metadata": {},
     "output_type": "execute_result"
    }
   ],
   "source": [
    "nba.loc[nba[\"team_id\"] == \"MNL\", \"date_game\"].min()\n",
    "# Expected:\n",
    "# '1/1/1949'"
   ]
  },
  {
   "cell_type": "code",
   "execution_count": 22,
   "metadata": {},
   "outputs": [
    {
     "data": {
      "text/plain": [
       "'4/9/1959'"
      ]
     },
     "execution_count": 22,
     "metadata": {},
     "output_type": "execute_result"
    }
   ],
   "source": [
    "nba.loc[nba[\"team_id\"] == \"MNL\", \"date_game\"].max()\n",
    "# Expected:\n",
    "# '4/9/1959'"
   ]
  },
  {
   "cell_type": "code",
   "execution_count": 23,
   "metadata": {},
   "outputs": [
    {
     "data": {
      "text/plain": [
       "min    1/1/1949\n",
       "max    4/9/1959\n",
       "Name: date_game, dtype: object"
      ]
     },
     "execution_count": 23,
     "metadata": {},
     "output_type": "execute_result"
    }
   ],
   "source": [
    "nba.loc[nba[\"team_id\"] == \"MNL\", \"date_game\"].agg((\"min\", \"max\"))\n",
    "# Expected:\n",
    "# min    1/1/1949\n",
    "# max    4/9/1959\n",
    "# Name: date_game, dtype: object"
   ]
  },
  {
   "cell_type": "markdown",
   "metadata": {},
   "source": [
    "It looks like the Minneapolis Lakers played between the years of 1949 and 1959. (Eric's note:  These years are WRONG!!! We'll explore why in class...)\n",
    "\n",
    "That explains why you might not recognize this team!"
   ]
  },
  {
   "cell_type": "markdown",
   "metadata": {},
   "source": [
    "You’ve also found out why the Boston Celtics team `\"BOS\"` played the most games in the dataset. Let’s analyze their history also a little bit. \n",
    "\n",
    "Find out how many points the Boston Celtics have scored during all matches contained in this dataset. Expand the code block below for the solution:"
   ]
  },
  {
   "cell_type": "markdown",
   "metadata": {},
   "source": [
    "#### Exercise\n",
    "\n",
    "Find out how many points the Boston Celtics have scored during all its matches contained in this dataset."
   ]
  },
  {
   "cell_type": "code",
   "execution_count": 26,
   "metadata": {},
   "outputs": [
    {
     "data": {
      "text/plain": [
       "626484"
      ]
     },
     "execution_count": 26,
     "metadata": {},
     "output_type": "execute_result"
    }
   ],
   "source": [
    "# Hint: select the rows with 'team_id'==BOS, then the \"pts\" column.  Sum them using sum()\n",
    "# \n",
    "nba.loc[nba[\"team_id\"] == \"BOS\", \"pts\"].sum()"
   ]
  },
  {
   "cell_type": "markdown",
   "metadata": {},
   "source": [
    "You’ve got a taste for the capabilities of a Pandas `DataFrame`. In the following sections, you’ll expand on the techniques you’ve just used, but first, you’ll zoom in and learn how this powerful data structure works."
   ]
  },
  {
   "cell_type": "markdown",
   "metadata": {},
   "source": [
    "# 3.  Getting to Know Pandas' Data Structures"
   ]
  },
  {
   "cell_type": "markdown",
   "metadata": {},
   "source": [
    "While a `DataFrame` provides functions that can feel quite intuitive, the underlying concepts are a bit trickier to understand. For this reason, you’ll set aside the vast NBA `DataFrame` and build some smaller Pandas objects from scratch."
   ]
  },
  {
   "cell_type": "markdown",
   "metadata": {},
   "source": [
    "### Understanding `Series` Objects"
   ]
  },
  {
   "cell_type": "markdown",
   "metadata": {},
   "source": [
    "\n",
    "Python’s most basic data structure is the `list`, which is also a good starting point for getting to know `pandas.Series` objects. Create a new `Series` object based on a `list`:\n"
   ]
  },
  {
   "cell_type": "code",
   "execution_count": 27,
   "metadata": {},
   "outputs": [
    {
     "data": {
      "text/plain": [
       "0    5555\n",
       "1    7000\n",
       "2    1980\n",
       "dtype: int32"
      ]
     },
     "execution_count": 27,
     "metadata": {},
     "output_type": "execute_result"
    }
   ],
   "source": [
    "revenues = pd.Series([5555, 7000, 1980],dtype='int32')\n",
    "revenues\n",
    "# Expected:\n",
    "# 0    5555\n",
    "# 1    7000\n",
    "# 2    1980\n",
    "# dtype: int64"
   ]
  },
  {
   "cell_type": "markdown",
   "metadata": {},
   "source": [
    "You’ve used the list `[5555, 7000, 1980]` to create a `Series` object called `revenues`. A `Series` object wraps two components:\n",
    "\n",
    "1. A sequence of **values**\n",
    "2. A sequence of **identifiers**, which is the index\n",
    "\n",
    "You can access these components with `.values` and `.index`, respectively:\n"
   ]
  },
  {
   "cell_type": "code",
   "execution_count": 28,
   "metadata": {},
   "outputs": [
    {
     "data": {
      "text/plain": [
       "(3,)"
      ]
     },
     "execution_count": 28,
     "metadata": {},
     "output_type": "execute_result"
    }
   ],
   "source": [
    "revenues.values.shape\n",
    "# Expected:\n",
    "# array([5555, 7000, 1980])"
   ]
  },
  {
   "cell_type": "code",
   "execution_count": 29,
   "metadata": {},
   "outputs": [
    {
     "data": {
      "text/plain": [
       "RangeIndex(start=0, stop=3, step=1)"
      ]
     },
     "execution_count": 29,
     "metadata": {},
     "output_type": "execute_result"
    }
   ],
   "source": [
    "revenues.index\n",
    "# Expected:\n",
    "# RangeIndex(start=0, stop=3, step=1)"
   ]
  },
  {
   "cell_type": "markdown",
   "metadata": {},
   "source": [
    "`revenues.values` returns the values in the `Series`, whereas `revenues.index` returns the positional index.\n",
    "\n",
    "**Note**: If you’re familiar with `NumPy`, then it might be interesting for you to note that the values of a `Series` object are actually n-dimensional arrays:\n"
   ]
  },
  {
   "cell_type": "code",
   "execution_count": 30,
   "metadata": {},
   "outputs": [
    {
     "data": {
      "text/plain": [
       "numpy.ndarray"
      ]
     },
     "execution_count": 30,
     "metadata": {},
     "output_type": "execute_result"
    }
   ],
   "source": [
    "type(revenues.values)\n",
    "# Expected:\n",
    "# <class 'numpy.ndarray'>"
   ]
  },
  {
   "cell_type": "markdown",
   "metadata": {},
   "source": [
    "If you’re not familiar with `NumPy`, then there’s no need to worry! You can explore the ins and outs of your dataset with the Pandas Python library alone.\n",
    "\n",
    "While `Pandas` builds on `NumPy`, a significant difference is in their **indexing**. Just like a `NumPy` array, a Pandas `Series` also has an integer index that’s implicitly defined. This implicit index indicates the element’s position in the `Series`.\n",
    "\n",
    "However, a `Series` can also have an arbitrary type of index. You can think of this explicit index as labels for a specific row:\n"
   ]
  },
  {
   "cell_type": "code",
   "execution_count": 31,
   "metadata": {},
   "outputs": [
    {
     "data": {
      "text/plain": [
       "Amsterdam    4200\n",
       "Toronto      8000\n",
       "Tokyo        6500\n",
       "dtype: int64"
      ]
     },
     "execution_count": 31,
     "metadata": {},
     "output_type": "execute_result"
    }
   ],
   "source": [
    "city_revenues = pd.Series(\n",
    "    [4200, 8000, 6500],\n",
    "    index=[\"Amsterdam\", \"Toronto\", \"Tokyo\"]\n",
    ")\n",
    "city_revenues\n",
    "# Expected:\n",
    "# Amsterdam    4200\n",
    "# Toronto      8000\n",
    "# Tokyo        6500\n",
    "# dtype: int64"
   ]
  },
  {
   "cell_type": "markdown",
   "metadata": {},
   "source": [
    "Here, the index is a list of city names represented by strings. You may have noticed that Python dictionaries use string indices as well as **keys**, and this is a handy analogy to keep in mind! You can use the code blocks above to distinguish between two types of `Series`:\n",
    "\n",
    "1. `revenues`: This `Series` behaves like a Python `list` because it only has a positional index.\n",
    "2. `city_revenues`: This `Series` acts like a Python dictionary because it features both a positional and a label index.\n",
    "\n",
    "Here’s how to construct a `Series` with a label index from a Python dictionary:"
   ]
  },
  {
   "cell_type": "code",
   "execution_count": 32,
   "metadata": {},
   "outputs": [
    {
     "data": {
      "text/plain": [
       "Amsterdam    5\n",
       "Tokyo        8\n",
       "dtype: int64"
      ]
     },
     "execution_count": 32,
     "metadata": {},
     "output_type": "execute_result"
    }
   ],
   "source": [
    "city_employee_count = pd.Series({\"Amsterdam\": 5, \"Tokyo\": 8})\n",
    "city_employee_count\n",
    "# Expected:\n",
    "# Amsterdam    5\n",
    "# Tokyo        8\n",
    "# dtype: int64"
   ]
  },
  {
   "cell_type": "markdown",
   "metadata": {},
   "source": [
    "The dictionary keys become the index, and the dictionary values are the `Series` values.\n",
    "\n",
    "Just like dictionaries, `Series` also support `.keys()` and the `in` keyword:"
   ]
  },
  {
   "cell_type": "code",
   "execution_count": 33,
   "metadata": {},
   "outputs": [
    {
     "data": {
      "text/plain": [
       "Index(['Amsterdam', 'Tokyo'], dtype='object')"
      ]
     },
     "execution_count": 33,
     "metadata": {},
     "output_type": "execute_result"
    }
   ],
   "source": [
    "city_employee_count.keys()\n",
    "# Expected:\n",
    "# Index(['Amsterdam', 'Tokyo'], dtype='object')"
   ]
  },
  {
   "cell_type": "code",
   "execution_count": 34,
   "metadata": {},
   "outputs": [
    {
     "data": {
      "text/plain": [
       "True"
      ]
     },
     "execution_count": 34,
     "metadata": {},
     "output_type": "execute_result"
    }
   ],
   "source": [
    "\"Tokyo\" in city_employee_count\n",
    "# Expected:\n",
    "# True"
   ]
  },
  {
   "cell_type": "code",
   "execution_count": 35,
   "metadata": {},
   "outputs": [
    {
     "data": {
      "text/plain": [
       "False"
      ]
     },
     "execution_count": 35,
     "metadata": {},
     "output_type": "execute_result"
    }
   ],
   "source": [
    "\"New York\" in city_employee_count\n",
    "# Expected:\n",
    "# False"
   ]
  },
  {
   "cell_type": "markdown",
   "metadata": {},
   "source": [
    "### Understanding `DataFrame` Objects"
   ]
  },
  {
   "cell_type": "markdown",
   "metadata": {},
   "source": [
    "While a `Series` is a pretty powerful data structure, it has its limitations. For example, you can only store one attribute per key. As you’ve seen with the nba dataset, which features 23 columns, the Pandas Python library has more to offer with its `DataFrame`. This data structure is a sequence of `Series` objects that share the same index.\n",
    "\n",
    "If you’ve followed along with the `Series` examples, then you should already have two `Series` objects with cities as keys:\n",
    "\n",
    "`city_revenues`  \n",
    "`city_employee_count`\n",
    "\n",
    "You can combine these objects into a `DataFrame` by providing a dictionary in the constructor. The dictionary keys will become the column names, and the values should contain the `Series` objects:"
   ]
  },
  {
   "cell_type": "code",
   "execution_count": 36,
   "metadata": {},
   "outputs": [
    {
     "name": "stdout",
     "output_type": "stream",
     "text": [
      "Amsterdam    4200\n",
      "Toronto      8000\n",
      "Tokyo        6500\n",
      "dtype: int64\n",
      "Amsterdam    5\n",
      "Tokyo        8\n",
      "dtype: int64\n"
     ]
    }
   ],
   "source": [
    "print(city_revenues)\n",
    "print(city_employee_count)"
   ]
  },
  {
   "cell_type": "code",
   "execution_count": 37,
   "metadata": {},
   "outputs": [
    {
     "data": {
      "text/html": [
       "<div>\n",
       "<style scoped>\n",
       "    .dataframe tbody tr th:only-of-type {\n",
       "        vertical-align: middle;\n",
       "    }\n",
       "\n",
       "    .dataframe tbody tr th {\n",
       "        vertical-align: top;\n",
       "    }\n",
       "\n",
       "    .dataframe thead th {\n",
       "        text-align: right;\n",
       "    }\n",
       "</style>\n",
       "<table border=\"1\" class=\"dataframe\">\n",
       "  <thead>\n",
       "    <tr style=\"text-align: right;\">\n",
       "      <th></th>\n",
       "      <th>revenue</th>\n",
       "      <th>employee_count</th>\n",
       "    </tr>\n",
       "  </thead>\n",
       "  <tbody>\n",
       "    <tr>\n",
       "      <th>Amsterdam</th>\n",
       "      <td>4200</td>\n",
       "      <td>5.0</td>\n",
       "    </tr>\n",
       "    <tr>\n",
       "      <th>Tokyo</th>\n",
       "      <td>6500</td>\n",
       "      <td>8.0</td>\n",
       "    </tr>\n",
       "    <tr>\n",
       "      <th>Toronto</th>\n",
       "      <td>8000</td>\n",
       "      <td>NaN</td>\n",
       "    </tr>\n",
       "  </tbody>\n",
       "</table>\n",
       "</div>"
      ],
      "text/plain": [
       "           revenue  employee_count\n",
       "Amsterdam     4200             5.0\n",
       "Tokyo         6500             8.0\n",
       "Toronto       8000             NaN"
      ]
     },
     "execution_count": 37,
     "metadata": {},
     "output_type": "execute_result"
    }
   ],
   "source": [
    "city_data = pd.DataFrame({\n",
    "    \"revenue\": city_revenues,\n",
    "    \"employee_count\": city_employee_count\n",
    "})\n",
    "city_data\n",
    "# Expected:\n",
    "# revenue  employee_count\n",
    "# Amsterdam     4200             5.0\n",
    "# Tokyo         6500             8.0\n",
    "# Toronto       8000             NaN"
   ]
  },
  {
   "cell_type": "markdown",
   "metadata": {},
   "source": [
    "Note how Pandas replaced the missing `employee_count` value for Toronto with `NaN`.\n",
    "\n",
    "The new `DataFrame` index is the union of the two `Series` indices:"
   ]
  },
  {
   "cell_type": "code",
   "execution_count": 38,
   "metadata": {},
   "outputs": [
    {
     "data": {
      "text/plain": [
       "Index(['Amsterdam', 'Tokyo', 'Toronto'], dtype='object')"
      ]
     },
     "execution_count": 38,
     "metadata": {},
     "output_type": "execute_result"
    }
   ],
   "source": [
    "city_data.index\n",
    "# Expected:\n",
    "# Index(['Amsterdam', 'Tokyo', 'Toronto'], dtype='object')"
   ]
  },
  {
   "cell_type": "markdown",
   "metadata": {},
   "source": [
    "Just like a `Series`, a `DataFrame` also stores its values in a `NumPy`array:"
   ]
  },
  {
   "cell_type": "code",
   "execution_count": 39,
   "metadata": {},
   "outputs": [
    {
     "data": {
      "text/plain": [
       "array([[4.2e+03, 5.0e+00],\n",
       "       [6.5e+03, 8.0e+00],\n",
       "       [8.0e+03,     nan]])"
      ]
     },
     "execution_count": 39,
     "metadata": {},
     "output_type": "execute_result"
    }
   ],
   "source": [
    "city_data.values\n",
    "# Expected:\n",
    "# array([[4.2e+03, 5.0e+00],\n",
    "# [6.5e+03, 8.0e+00],\n",
    "# [8.0e+03,     nan]])"
   ]
  },
  {
   "cell_type": "markdown",
   "metadata": {},
   "source": [
    "You can also refer to the 2 dimensions of a `DataFrame` as **axes**:"
   ]
  },
  {
   "cell_type": "code",
   "execution_count": 40,
   "metadata": {},
   "outputs": [
    {
     "data": {
      "text/plain": [
       "[Index(['Amsterdam', 'Tokyo', 'Toronto'], dtype='object'),\n",
       " Index(['revenue', 'employee_count'], dtype='object')]"
      ]
     },
     "execution_count": 40,
     "metadata": {},
     "output_type": "execute_result"
    }
   ],
   "source": [
    "city_data.axes\n",
    "# Expected:\n",
    "# [Index(['Amsterdam', 'Tokyo', 'Toronto'], dtype='object'),\n",
    "# Index(['revenue', 'employee_count'], dtype='object')]"
   ]
  },
  {
   "cell_type": "code",
   "execution_count": 41,
   "metadata": {},
   "outputs": [
    {
     "data": {
      "text/plain": [
       "Index(['Amsterdam', 'Tokyo', 'Toronto'], dtype='object')"
      ]
     },
     "execution_count": 41,
     "metadata": {},
     "output_type": "execute_result"
    }
   ],
   "source": [
    "city_data.axes[0]\n",
    "# Expected:\n",
    "# Index(['Amsterdam', 'Tokyo', 'Toronto'], dtype='object')"
   ]
  },
  {
   "cell_type": "code",
   "execution_count": 42,
   "metadata": {},
   "outputs": [
    {
     "data": {
      "text/plain": [
       "Index(['revenue', 'employee_count'], dtype='object')"
      ]
     },
     "execution_count": 42,
     "metadata": {},
     "output_type": "execute_result"
    }
   ],
   "source": [
    "city_data.axes[1]\n",
    "# Expected:\n",
    "# Index(['revenue', 'employee_count'], dtype='object')"
   ]
  },
  {
   "cell_type": "markdown",
   "metadata": {},
   "source": [
    "The axis marked with 0 is the **row index**, and the axis marked with 1 is the **column index**. This terminology is important to know because you’ll encounter several `DataFrame` methods that accept an `axis` parameter. \n",
    "\n",
    "A `DataFrame` is also a dictionary-like data structure, so it also supports `.keys()` and the `in` keyword. However, for a `DataFrame` these don’t relate to the index, but to the columns:\n"
   ]
  },
  {
   "cell_type": "code",
   "execution_count": 43,
   "metadata": {},
   "outputs": [
    {
     "data": {
      "text/plain": [
       "Index(['revenue', 'employee_count'], dtype='object')"
      ]
     },
     "execution_count": 43,
     "metadata": {},
     "output_type": "execute_result"
    }
   ],
   "source": [
    "city_data.keys()\n",
    "# Expected:\n",
    "# Index(['revenue', 'employee_count'], dtype='object')"
   ]
  },
  {
   "cell_type": "code",
   "execution_count": 44,
   "metadata": {},
   "outputs": [
    {
     "data": {
      "text/plain": [
       "False"
      ]
     },
     "execution_count": 44,
     "metadata": {},
     "output_type": "execute_result"
    }
   ],
   "source": [
    "\"Amsterdam\" in city_data\n",
    "# Expected:\n",
    "# False"
   ]
  },
  {
   "cell_type": "code",
   "execution_count": 46,
   "metadata": {},
   "outputs": [
    {
     "data": {
      "text/plain": [
       "True"
      ]
     },
     "execution_count": 46,
     "metadata": {},
     "output_type": "execute_result"
    }
   ],
   "source": [
    "\"revenue\" in city_data\n",
    "# Expected:\n",
    "# True"
   ]
  },
  {
   "cell_type": "markdown",
   "metadata": {},
   "source": [
    "You can see these concepts in action with the bigger NBA dataset. Does it contain a column called \"points\", or was it called \"pts\"? To answer this question, display the index and the axes of the `nba` dataset. \n",
    "\n",
    "As you use these methods to answer questions about your dataset, be sure to keep in mind whether you’re working with a `Series` or a `DataFrame` so that your interpretation is accurate.\n"
   ]
  },
  {
   "cell_type": "markdown",
   "metadata": {},
   "source": [
    "#### Exercise"
   ]
  },
  {
   "cell_type": "markdown",
   "metadata": {},
   "source": [
    "Display the index and the axes of the `nba` dataset:  "
   ]
  },
  {
   "cell_type": "code",
   "execution_count": 50,
   "metadata": {},
   "outputs": [
    {
     "data": {
      "text/plain": [
       "[RangeIndex(start=0, stop=126314, step=1),\n",
       " Index(['gameorder', 'game_id', 'lg_id', '_iscopy', 'year_id', 'date_game',\n",
       "        'seasongame', 'is_playoffs', 'team_id', 'fran_id', 'pts', 'elo_i',\n",
       "        'elo_n', 'win_equiv', 'opp_id', 'opp_fran', 'opp_pts', 'opp_elo_i',\n",
       "        'opp_elo_n', 'game_location', 'game_result', 'forecast', 'notes'],\n",
       "       dtype='object')]"
      ]
     },
     "execution_count": 50,
     "metadata": {},
     "output_type": "execute_result"
    }
   ],
   "source": [
    "# .index, .axes\n",
    "nba.index\n",
    "nba.axes"
   ]
  },
  {
   "cell_type": "markdown",
   "metadata": {},
   "source": [
    "Find the name of the `points` column:"
   ]
  },
  {
   "cell_type": "code",
   "execution_count": 51,
   "metadata": {},
   "outputs": [
    {
     "name": "stdout",
     "output_type": "stream",
     "text": [
      "<class 'pandas.core.frame.DataFrame'>\n",
      "RangeIndex: 126314 entries, 0 to 126313\n",
      "Data columns (total 23 columns):\n",
      " #   Column         Non-Null Count   Dtype  \n",
      "---  ------         --------------   -----  \n",
      " 0   gameorder      126314 non-null  int64  \n",
      " 1   game_id        126314 non-null  object \n",
      " 2   lg_id          126314 non-null  object \n",
      " 3   _iscopy        126314 non-null  int64  \n",
      " 4   year_id        126314 non-null  int64  \n",
      " 5   date_game      126314 non-null  object \n",
      " 6   seasongame     126314 non-null  int64  \n",
      " 7   is_playoffs    126314 non-null  int64  \n",
      " 8   team_id        126314 non-null  object \n",
      " 9   fran_id        126314 non-null  object \n",
      " 10  pts            126314 non-null  int64  \n",
      " 11  elo_i          126314 non-null  float64\n",
      " 12  elo_n          126314 non-null  float64\n",
      " 13  win_equiv      126314 non-null  float64\n",
      " 14  opp_id         126314 non-null  object \n",
      " 15  opp_fran       126314 non-null  object \n",
      " 16  opp_pts        126314 non-null  int64  \n",
      " 17  opp_elo_i      126314 non-null  float64\n",
      " 18  opp_elo_n      126314 non-null  float64\n",
      " 19  game_location  126314 non-null  object \n",
      " 20  game_result    126314 non-null  object \n",
      " 21  forecast       126314 non-null  float64\n",
      " 22  notes          5424 non-null    object \n",
      "dtypes: float64(6), int64(7), object(10)\n",
      "memory usage: 22.2+ MB\n"
     ]
    }
   ],
   "source": [
    "# .info()\n",
    "nba.info()"
   ]
  },
  {
   "cell_type": "markdown",
   "metadata": {},
   "source": [
    "# 4. Accessing `Series` Elements"
   ]
  },
  {
   "cell_type": "markdown",
   "metadata": {},
   "source": [
    "In the section above, you’ve created a Pandas `Series` based on a Python `list` and compared the two data structures. You’ve seen how a `Series` object is similar to lists and dictionaries in several ways. A further similarity is that you can use the **indexing operator (`[]`)** for `Series` as well. \n",
    "\n",
    "You’ll also learn how to use two Pandas-specific access methods:\n",
    "1.\t`.loc`\n",
    "2.\t`.iloc`\n",
    "\n",
    "You’ll see that these data access methods can be much more readable than the indexing operator.\n"
   ]
  },
  {
   "cell_type": "markdown",
   "metadata": {},
   "source": [
    "### The Benefits and Limitations of the Python Indexing Operator `[]`"
   ]
  },
  {
   "cell_type": "markdown",
   "metadata": {},
   "source": [
    "### Using the Indexing Operator"
   ]
  },
  {
   "cell_type": "markdown",
   "metadata": {},
   "source": [
    "Recall that a `Series` has two indices:\n",
    "\n",
    "1.\tA **positional** or **implicit index**, which is always a `RangeIndex`\n",
    "2.\tA **label** or **explicit index**, which can contain any hashable (i.e. immutable) objects\n",
    "\n",
    "Next, revisit the `city_revenues` object:\n"
   ]
  },
  {
   "cell_type": "code",
   "execution_count": 52,
   "metadata": {},
   "outputs": [
    {
     "data": {
      "text/plain": [
       "Amsterdam    4200\n",
       "Toronto      8000\n",
       "Tokyo        6500\n",
       "dtype: int64"
      ]
     },
     "execution_count": 52,
     "metadata": {},
     "output_type": "execute_result"
    }
   ],
   "source": [
    "city_revenues\n",
    "# Expected:\n",
    "# Amsterdam    4200\n",
    "# Toronto      8000\n",
    "# Tokyo        6500\n",
    "# dtype: int64"
   ]
  },
  {
   "cell_type": "markdown",
   "metadata": {},
   "source": [
    "You can conveniently access the values in a `Series` with both the **label** and **positional** indices:"
   ]
  },
  {
   "cell_type": "code",
   "execution_count": 53,
   "metadata": {},
   "outputs": [
    {
     "data": {
      "text/plain": [
       "8000"
      ]
     },
     "execution_count": 53,
     "metadata": {},
     "output_type": "execute_result"
    }
   ],
   "source": [
    "# label index\n",
    "city_revenues[\"Toronto\"]\n",
    "# Expected:\n",
    "# 8000"
   ]
  },
  {
   "cell_type": "code",
   "execution_count": 54,
   "metadata": {},
   "outputs": [
    {
     "data": {
      "text/plain": [
       "8000"
      ]
     },
     "execution_count": 54,
     "metadata": {},
     "output_type": "execute_result"
    }
   ],
   "source": [
    "# positional index\n",
    "city_revenues[1]\n",
    "# Expected:\n",
    "# 8000"
   ]
  },
  {
   "cell_type": "markdown",
   "metadata": {},
   "source": [
    "You can also use negative indices and slices, just like you would for a list:"
   ]
  },
  {
   "cell_type": "code",
   "execution_count": 55,
   "metadata": {},
   "outputs": [
    {
     "data": {
      "text/plain": [
       "6500"
      ]
     },
     "execution_count": 55,
     "metadata": {},
     "output_type": "execute_result"
    }
   ],
   "source": [
    "# last element\n",
    "city_revenues[-1]\n",
    "# Expected:\n",
    "# 6500"
   ]
  },
  {
   "cell_type": "code",
   "execution_count": 56,
   "metadata": {},
   "outputs": [
    {
     "data": {
      "text/plain": [
       "Toronto    8000\n",
       "Tokyo      6500\n",
       "dtype: int64"
      ]
     },
     "execution_count": 56,
     "metadata": {},
     "output_type": "execute_result"
    }
   ],
   "source": [
    "# all but first row\n",
    "city_revenues[1:]\n",
    "# Expected:\n",
    "# Toronto    8000\n",
    "# Tokyo      6500\n",
    "# dtype: int64"
   ]
  },
  {
   "cell_type": "code",
   "execution_count": 57,
   "metadata": {},
   "outputs": [
    {
     "data": {
      "text/plain": [
       "Toronto    8000\n",
       "Tokyo      6500\n",
       "dtype: int64"
      ]
     },
     "execution_count": 57,
     "metadata": {},
     "output_type": "execute_result"
    }
   ],
   "source": [
    "city_revenues[\"Toronto\":]\n",
    "# Expected:\n",
    "# Toronto    8000\n",
    "# Tokyo      6500\n",
    "# dtype: int64"
   ]
  },
  {
   "cell_type": "markdown",
   "metadata": {},
   "source": [
    "### Accessing `Series`' Elements via `.loc` and `.iloc`"
   ]
  },
  {
   "cell_type": "markdown",
   "metadata": {},
   "source": [
    "The indexing operator (**`[]`**) is convenient, but there’s a caveat. What if the labels are also numbers? Say you have to work with a `Series` object like this:"
   ]
  },
  {
   "cell_type": "code",
   "execution_count": 58,
   "metadata": {},
   "outputs": [
    {
     "data": {
      "text/plain": [
       "1       red\n",
       "2    purple\n",
       "3      blue\n",
       "5     green\n",
       "8    yellow\n",
       "dtype: object"
      ]
     },
     "execution_count": 58,
     "metadata": {},
     "output_type": "execute_result"
    }
   ],
   "source": [
    "colors = pd.Series(\n",
    "    [\"red\", \"purple\", \"blue\", \"green\", \"yellow\"],\n",
    "    index=[1, 2, 3, 5, 8]\n",
    ")\n",
    "colors\n",
    "# Expected:\n",
    "# 1       red\n",
    "# 2    purple\n",
    "# 3      blue\n",
    "# 5     green\n",
    "# 8    yellow\n",
    "# dtype: object"
   ]
  },
  {
   "cell_type": "markdown",
   "metadata": {},
   "source": [
    "What will `colors[1]` return? For a _positional_ index, `colors[1]` is \"purple\". However, if you go by the _label_ index, then `colors[1]` is referring to \"red\". \n",
    "\n",
    "The good news is, you don’t have to figure it out! Instead, to avoid confusion, the Pandas Python library provides two **data access methods**:\n",
    "\n",
    "1.\t`.loc` refers to the **label** index.\n",
    "2.\t`.iloc` refers to the **positional** index.\n",
    "\n",
    "These data access methods are much more readable:"
   ]
  },
  {
   "cell_type": "code",
   "execution_count": 59,
   "metadata": {},
   "outputs": [
    {
     "data": {
      "text/plain": [
       "'red'"
      ]
     },
     "execution_count": 59,
     "metadata": {},
     "output_type": "execute_result"
    }
   ],
   "source": [
    "colors.loc[1]\n",
    "# Expected:\n",
    "# 'red'"
   ]
  },
  {
   "cell_type": "code",
   "execution_count": 60,
   "metadata": {},
   "outputs": [
    {
     "data": {
      "text/plain": [
       "'purple'"
      ]
     },
     "execution_count": 60,
     "metadata": {},
     "output_type": "execute_result"
    }
   ],
   "source": [
    "colors.iloc[1]\n",
    "# Expected:\n",
    "# 'purple'"
   ]
  },
  {
   "cell_type": "markdown",
   "metadata": {},
   "source": [
    "`colors.loc[1]` returned `\"red\"`, the element with the label `1`. `colors.iloc[1]` returned `\"purple\"`, the element with the index 1.\n",
    "\n",
    "The following figure shows which elements `.loc` and `.iloc` refer to:\n"
   ]
  },
  {
   "cell_type": "markdown",
   "metadata": {},
   "source": [
    "![image_1.png](images/image_1.jpg )"
   ]
  },
  {
   "cell_type": "markdown",
   "metadata": {},
   "source": [
    "Again, `.loc` points to the **label** index on the right-hand side of the image. Meanwhile, `.iloc` points to the **positional** index on the left-hand side of the picture. \n",
    "\n",
    "It’s easier to keep in mind the distinction between `.loc` and `.iloc` than it is to figure out what the indexing operator will return. Even if you’re familiar with all the quirks of the indexing operator, it can be dangerous to assume that everybody who reads your code has internalized those rules as well! \n",
    "\n",
    "Note: In addition to being confusing for `Series` with numeric labels, the Python indexing operator has some performance drawbacks. It’s perfectly okay to use it in interactive sessions for ad-hoc analysis, but for production code, the `.loc` and `.iloc` data access methods are preferable. For further details, check out the Pandas User Guide section on indexing and selecting data: https://pandas.pydata.org/pandas-docs/stable/user_guide/indexing.html  \n",
    "\n",
    "`.loc` and `.iloc` also support the features you would expect from indexing operators, like slicing. However, these data access methods have an important difference. **While `.iloc` _excludes_ the closing element, `.loc` _includes_ it.** Take a look at this code block:\n"
   ]
  },
  {
   "cell_type": "code",
   "execution_count": 61,
   "metadata": {},
   "outputs": [
    {
     "data": {
      "text/plain": [
       "2    purple\n",
       "3      blue\n",
       "dtype: object"
      ]
     },
     "execution_count": 61,
     "metadata": {},
     "output_type": "execute_result"
    }
   ],
   "source": [
    "# Return the elements with the implicit index: 1, 2\n",
    "colors.iloc[1:3]\n",
    "# Expected:\n",
    "# 2    purple\n",
    "# 3      blue\n",
    "# dtype: object"
   ]
  },
  {
   "cell_type": "markdown",
   "metadata": {},
   "source": [
    "If you compare this code with the image above, then you can see that `colors.iloc[1:3]` returns the elements with the **positional** indices of 1 and 2. The closing item `\"green\"` with a positional index of 3 is **excluded**. \n",
    "\n",
    "On the other hand, `.loc` **includes** the closing element:"
   ]
  },
  {
   "cell_type": "code",
   "execution_count": 62,
   "metadata": {},
   "outputs": [
    {
     "data": {
      "text/plain": [
       "3      blue\n",
       "5     green\n",
       "8    yellow\n",
       "dtype: object"
      ]
     },
     "execution_count": 62,
     "metadata": {},
     "output_type": "execute_result"
    }
   ],
   "source": [
    "# Return the elements with the explicit index between 3 and 8\n",
    "colors.loc[3:8]\n",
    "# Expected:\n",
    "# 3      blue\n",
    "# 5     green\n",
    "# 8    yellow\n",
    "# dtype: object"
   ]
  },
  {
   "cell_type": "markdown",
   "metadata": {},
   "source": [
    "This code block says to return all elements with a **label index** between 3 and 8. Here, the closing item `\"yellow\"` has a label index of 8 and is included in the output.\n",
    "\n",
    "You can also pass a negative positional index to `.iloc`:"
   ]
  },
  {
   "cell_type": "code",
   "execution_count": 63,
   "metadata": {},
   "outputs": [
    {
     "data": {
      "text/plain": [
       "'green'"
      ]
     },
     "execution_count": 63,
     "metadata": {},
     "output_type": "execute_result"
    }
   ],
   "source": [
    "colors.iloc[-2]\n",
    "# Expected:\n",
    "# 'green'"
   ]
  },
  {
   "cell_type": "markdown",
   "metadata": {},
   "source": [
    "You start from the end of the `Series` and return the next-to-last element.\n",
    "***\n",
    "**Note**: There used to be an `.ix` indexer, which tried to guess whether it should apply positional or label indexing depending on the data type of the index. Because it caused a lot of confusion, it has been deprecated since Pandas version 0.20.0.\n",
    "\n",
    "It’s highly recommended that you **do not use** `.ix` for indexing. Instead, **always use `.loc` for label indexing and `.iloc` for positional indexing**. For further details, check out the Pandas User Guide: \n",
    "***\n",
    "You can use the code blocks above to distinguish between two `Series` behaviors:\n",
    "\n",
    "1.\tYou can use `.iloc` on a `Series` similar to using `[]` on a list.\n",
    "2.\tYou can use `.loc` on a `Serie`s similar to using `[]` on a dictionary.\n",
    "\n",
    "Be sure to keep these distinctions in mind as you access elements of your Series objects.\n"
   ]
  },
  {
   "cell_type": "markdown",
   "metadata": {},
   "source": [
    "# 5. Accessing `DataFrame` Elements"
   ]
  },
  {
   "cell_type": "markdown",
   "metadata": {},
   "source": [
    "Since a `DataFrame` consists of `Series` objects, you can use the very same tools to access its elements. The crucial difference is the additional **dimension** of the `DataFrame`. You’ll use the indexing operator for the columns and the access methods `.loc` and `.iloc` on the rows."
   ]
  },
  {
   "cell_type": "markdown",
   "metadata": {},
   "source": [
    "### Accessing `DataFrame` columns using the Indexing operator"
   ]
  },
  {
   "cell_type": "markdown",
   "metadata": {},
   "source": [
    "If you think of a `DataFrame` as a dictionary whose values are `Series`, then it makes sense that you can access its columns with the indexing operator:"
   ]
  },
  {
   "cell_type": "code",
   "execution_count": 64,
   "metadata": {},
   "outputs": [
    {
     "data": {
      "text/html": [
       "<div>\n",
       "<style scoped>\n",
       "    .dataframe tbody tr th:only-of-type {\n",
       "        vertical-align: middle;\n",
       "    }\n",
       "\n",
       "    .dataframe tbody tr th {\n",
       "        vertical-align: top;\n",
       "    }\n",
       "\n",
       "    .dataframe thead th {\n",
       "        text-align: right;\n",
       "    }\n",
       "</style>\n",
       "<table border=\"1\" class=\"dataframe\">\n",
       "  <thead>\n",
       "    <tr style=\"text-align: right;\">\n",
       "      <th></th>\n",
       "      <th>revenue</th>\n",
       "      <th>employee_count</th>\n",
       "    </tr>\n",
       "  </thead>\n",
       "  <tbody>\n",
       "    <tr>\n",
       "      <th>Amsterdam</th>\n",
       "      <td>4200</td>\n",
       "      <td>5.0</td>\n",
       "    </tr>\n",
       "    <tr>\n",
       "      <th>Tokyo</th>\n",
       "      <td>6500</td>\n",
       "      <td>8.0</td>\n",
       "    </tr>\n",
       "    <tr>\n",
       "      <th>Toronto</th>\n",
       "      <td>8000</td>\n",
       "      <td>NaN</td>\n",
       "    </tr>\n",
       "  </tbody>\n",
       "</table>\n",
       "</div>"
      ],
      "text/plain": [
       "           revenue  employee_count\n",
       "Amsterdam     4200             5.0\n",
       "Tokyo         6500             8.0\n",
       "Toronto       8000             NaN"
      ]
     },
     "execution_count": 64,
     "metadata": {},
     "output_type": "execute_result"
    }
   ],
   "source": [
    "city_data"
   ]
  },
  {
   "cell_type": "code",
   "execution_count": 65,
   "metadata": {},
   "outputs": [
    {
     "data": {
      "text/plain": [
       "Amsterdam    4200\n",
       "Tokyo        6500\n",
       "Toronto      8000\n",
       "Name: revenue, dtype: int64"
      ]
     },
     "execution_count": 65,
     "metadata": {},
     "output_type": "execute_result"
    }
   ],
   "source": [
    "city_data[\"revenue\"]\n",
    "\n",
    "# Expected:\n",
    "# Amsterdam    4200\n",
    "# Tokyo        6500\n",
    "# Toronto      8000\n",
    "# Name: revenue, dtype: int64"
   ]
  },
  {
   "cell_type": "code",
   "execution_count": 66,
   "metadata": {},
   "outputs": [
    {
     "data": {
      "text/plain": [
       "pandas.core.series.Series"
      ]
     },
     "execution_count": 66,
     "metadata": {},
     "output_type": "execute_result"
    }
   ],
   "source": [
    "type(city_data[\"revenue\"])\n",
    "# Expected:\n",
    "# pandas.core.series.Series"
   ]
  },
  {
   "cell_type": "markdown",
   "metadata": {},
   "source": [
    "Here, you use the indexing operator to select the column labeled `\"revenue\"`.\n",
    "If the column name is a string, then you can use attribute-style accessing with dot notation as well:"
   ]
  },
  {
   "cell_type": "code",
   "execution_count": 67,
   "metadata": {},
   "outputs": [
    {
     "data": {
      "text/plain": [
       "Amsterdam    4200\n",
       "Tokyo        6500\n",
       "Toronto      8000\n",
       "Name: revenue, dtype: int64"
      ]
     },
     "execution_count": 67,
     "metadata": {},
     "output_type": "execute_result"
    }
   ],
   "source": [
    "city_data.revenue\n",
    "# Expected:\n",
    "# Amsterdam    4200\n",
    "# Tokyo        6500\n",
    "# Toronto      8000\n",
    "# Name: revenue, dtype: int64"
   ]
  },
  {
   "cell_type": "markdown",
   "metadata": {},
   "source": [
    "`city_data[\"revenue\"]` and `city_data.revenue` return the same output.\n",
    "\n",
    "There’s one situation where accessing `DataFrame` elements with dot notation may not work or may lead to surprises. This is when a column name **coincides** with a `DataFrame` attribute or method name:\n"
   ]
  },
  {
   "cell_type": "code",
   "execution_count": 68,
   "metadata": {},
   "outputs": [
    {
     "data": {
      "text/plain": [
       "0    sphere\n",
       "1      cube\n",
       "Name: shape, dtype: object"
      ]
     },
     "execution_count": 68,
     "metadata": {},
     "output_type": "execute_result"
    }
   ],
   "source": [
    "toys = pd.DataFrame([\n",
    "    {\"name\": \"ball\", \"shape\": \"sphere\"},\n",
    "    {\"name\": \"Rubik's cube\", \"shape\": \"cube\"}\n",
    "])\n",
    "toys[\"shape\"]\n",
    "# Expected:\n",
    "# 0    sphere\n",
    "# 1      cube\n",
    "# Name: shape, dtype: object"
   ]
  },
  {
   "cell_type": "code",
   "execution_count": 69,
   "metadata": {},
   "outputs": [
    {
     "data": {
      "text/plain": [
       "(2, 2)"
      ]
     },
     "execution_count": 69,
     "metadata": {},
     "output_type": "execute_result"
    }
   ],
   "source": [
    "toys.shape\n",
    "# Expected:\n",
    "# (2, 2)"
   ]
  },
  {
   "cell_type": "markdown",
   "metadata": {},
   "source": [
    "The indexing operation `toys[\"shape\"]` returns the correct data, but the attribute-style operation `toys.shape` still returns the shape of the `DataFrame`. \n",
    "\n",
    "You should only use attribute-style accessing in interactive sessions or for read operations. You **shouldn’t** use it for production code or for manipulating data (such as defining new columns)."
   ]
  },
  {
   "cell_type": "markdown",
   "metadata": {},
   "source": [
    "### Accessing `DataFrame` Rows With `.loc` and `.iloc`"
   ]
  },
  {
   "cell_type": "markdown",
   "metadata": {},
   "source": [
    "Similar to `Series`, a `DataFrame` also provides `.loc` and `.iloc` **data access methods**. Remember that `.loc` uses the **label** and `.iloc` the **positional index**:"
   ]
  },
  {
   "cell_type": "code",
   "execution_count": 70,
   "metadata": {},
   "outputs": [
    {
     "data": {
      "text/plain": [
       "revenue           4200.0\n",
       "employee_count       5.0\n",
       "Name: Amsterdam, dtype: float64"
      ]
     },
     "execution_count": 70,
     "metadata": {},
     "output_type": "execute_result"
    }
   ],
   "source": [
    "city_data.loc[\"Amsterdam\"]\n",
    "# Expected:\n",
    "# revenue           4200.0\n",
    "# employee_count       5.0\n",
    "# Name: Amsterdam, dtype: float64"
   ]
  },
  {
   "cell_type": "code",
   "execution_count": 71,
   "metadata": {},
   "outputs": [
    {
     "data": {
      "text/html": [
       "<div>\n",
       "<style scoped>\n",
       "    .dataframe tbody tr th:only-of-type {\n",
       "        vertical-align: middle;\n",
       "    }\n",
       "\n",
       "    .dataframe tbody tr th {\n",
       "        vertical-align: top;\n",
       "    }\n",
       "\n",
       "    .dataframe thead th {\n",
       "        text-align: right;\n",
       "    }\n",
       "</style>\n",
       "<table border=\"1\" class=\"dataframe\">\n",
       "  <thead>\n",
       "    <tr style=\"text-align: right;\">\n",
       "      <th></th>\n",
       "      <th>revenue</th>\n",
       "      <th>employee_count</th>\n",
       "    </tr>\n",
       "  </thead>\n",
       "  <tbody>\n",
       "    <tr>\n",
       "      <th>Tokyo</th>\n",
       "      <td>6500</td>\n",
       "      <td>8.0</td>\n",
       "    </tr>\n",
       "    <tr>\n",
       "      <th>Toronto</th>\n",
       "      <td>8000</td>\n",
       "      <td>NaN</td>\n",
       "    </tr>\n",
       "  </tbody>\n",
       "</table>\n",
       "</div>"
      ],
      "text/plain": [
       "         revenue  employee_count\n",
       "Tokyo       6500             8.0\n",
       "Toronto     8000             NaN"
      ]
     },
     "execution_count": 71,
     "metadata": {},
     "output_type": "execute_result"
    }
   ],
   "source": [
    "city_data.loc[\"Tokyo\": \"Toronto\"]\n",
    "# Expected:\n",
    "# revenue employee_count\n",
    "# Tokyo   6500    8.0\n",
    "# Toronto 8000    NaN"
   ]
  },
  {
   "cell_type": "code",
   "execution_count": 72,
   "metadata": {},
   "outputs": [
    {
     "data": {
      "text/plain": [
       "revenue           6500.0\n",
       "employee_count       8.0\n",
       "Name: Tokyo, dtype: float64"
      ]
     },
     "execution_count": 72,
     "metadata": {},
     "output_type": "execute_result"
    }
   ],
   "source": [
    "city_data.iloc[1]\n",
    "# Expected:\n",
    "# revenue           6500.0\n",
    "# employee_count       8.0\n",
    "# Name: Tokyo, dtype: float64"
   ]
  },
  {
   "cell_type": "markdown",
   "metadata": {},
   "source": [
    "Each line of code selects a different row from city_data:\n",
    "\n",
    "1.\t`city_data.loc[\"Amsterdam\"]` selects the row with the label index `\"Amsterdam\"`.\n",
    "2.\t`city_data.loc[\"Tokyo\": \"Toronto\"]` selects the rows with label indices from `\"Tokyo\"` to `\"Toronto\"`. Remember, `.loc` is **inclusive**.\n",
    "3.\t`city_data.iloc[1]` selects the row with the positional index 1, which is `\"Tokyo\"`.\n",
    "\n",
    "Alright, you’ve used `.loc` and `.iloc` on small data structures. Now, it’s time to practice with something bigger! Use a data access method to display the second-to-last row of the `nba` dataset. "
   ]
  },
  {
   "cell_type": "markdown",
   "metadata": {},
   "source": [
    "#### Exercise\n",
    "\n",
    "Display the second-to-last row of the `nba` dataset."
   ]
  },
  {
   "cell_type": "code",
   "execution_count": 74,
   "metadata": {},
   "outputs": [
    {
     "data": {
      "text/plain": [
       "gameorder               63157\n",
       "game_id          201506170CLE\n",
       "lg_id                     NBA\n",
       "_iscopy                     0\n",
       "year_id                  2015\n",
       "date_game           6/16/2015\n",
       "seasongame                102\n",
       "is_playoffs                 1\n",
       "team_id                   CLE\n",
       "fran_id             Cavaliers\n",
       "pts                        97\n",
       "elo_i                 1700.74\n",
       "elo_n                 1692.09\n",
       "win_equiv               59.29\n",
       "opp_id                    GSW\n",
       "opp_fran             Warriors\n",
       "opp_pts                   105\n",
       "opp_elo_i             1813.63\n",
       "opp_elo_n             1822.29\n",
       "game_location               H\n",
       "game_result                 L\n",
       "forecast                 0.48\n",
       "notes                     NaN\n",
       "Name: 126312, dtype: object"
      ]
     },
     "execution_count": 74,
     "metadata": {},
     "output_type": "execute_result"
    }
   ],
   "source": [
    "# hint: use the positional index .iloc with a negative subscript\n",
    "nba.iloc[-2]"
   ]
  },
  {
   "cell_type": "markdown",
   "metadata": {},
   "source": [
    "For a `DataFrame`, the data access methods `.loc` and `.iloc` also accept a second parameter. While the first parameter selects rows based on the indices, the second parameter selects the columns. You can use these parameters together to select a **subset** of rows and columns from your `DataFrame`:"
   ]
  },
  {
   "cell_type": "code",
   "execution_count": 75,
   "metadata": {},
   "outputs": [
    {
     "data": {
      "text/plain": [
       "Amsterdam    4200\n",
       "Tokyo        6500\n",
       "Name: revenue, dtype: int64"
      ]
     },
     "execution_count": 75,
     "metadata": {},
     "output_type": "execute_result"
    }
   ],
   "source": [
    "city_data.loc[\"Amsterdam\": \"Tokyo\", \"revenue\"]\n",
    "# Expected:\n",
    "# Amsterdam    4200\n",
    "# Tokyo        6500\n",
    "# Name: revenue, dtype: int64"
   ]
  },
  {
   "cell_type": "markdown",
   "metadata": {},
   "source": [
    "Note that you separate the parameters with a comma (,). The first parameter, `\"Amsterdam\" : \"Tokyo,\"` says to select all rows between those two labels. The second parameter comes after the comma and says to select the `\"revenue\"` column.\n",
    "\n",
    "It’s time to see the same construct in action with the bigger `nba` dataset."
   ]
  },
  {
   "cell_type": "markdown",
   "metadata": {},
   "source": [
    "#### Exercise\n",
    "\n",
    "Select all games between the labels 5555 and 5559. We're interested only in two columns: one with the names of the teams and the other with the points scored by the team."
   ]
  },
  {
   "cell_type": "code",
   "execution_count": 84,
   "metadata": {},
   "outputs": [
    {
     "data": {
      "text/html": [
       "<div>\n",
       "<style scoped>\n",
       "    .dataframe tbody tr th:only-of-type {\n",
       "        vertical-align: middle;\n",
       "    }\n",
       "\n",
       "    .dataframe tbody tr th {\n",
       "        vertical-align: top;\n",
       "    }\n",
       "\n",
       "    .dataframe thead th {\n",
       "        text-align: right;\n",
       "    }\n",
       "</style>\n",
       "<table border=\"1\" class=\"dataframe\">\n",
       "  <thead>\n",
       "    <tr style=\"text-align: right;\">\n",
       "      <th></th>\n",
       "      <th>team_id</th>\n",
       "      <th>pts</th>\n",
       "    </tr>\n",
       "  </thead>\n",
       "  <tbody>\n",
       "    <tr>\n",
       "      <th>5555</th>\n",
       "      <td>FTW</td>\n",
       "      <td>83</td>\n",
       "    </tr>\n",
       "    <tr>\n",
       "      <th>5556</th>\n",
       "      <td>BOS</td>\n",
       "      <td>95</td>\n",
       "    </tr>\n",
       "    <tr>\n",
       "      <th>5557</th>\n",
       "      <td>NYK</td>\n",
       "      <td>74</td>\n",
       "    </tr>\n",
       "    <tr>\n",
       "      <th>5558</th>\n",
       "      <td>ROC</td>\n",
       "      <td>81</td>\n",
       "    </tr>\n",
       "    <tr>\n",
       "      <th>5559</th>\n",
       "      <td>SYR</td>\n",
       "      <td>86</td>\n",
       "    </tr>\n",
       "  </tbody>\n",
       "</table>\n",
       "</div>"
      ],
      "text/plain": [
       "     team_id  pts\n",
       "5555     FTW   83\n",
       "5556     BOS   95\n",
       "5557     NYK   74\n",
       "5558     ROC   81\n",
       "5559     SYR   86"
      ]
     },
     "execution_count": 84,
     "metadata": {},
     "output_type": "execute_result"
    }
   ],
   "source": [
    "# Hint: .loc[rangeofrows,[columnname1,columnname2]], \n",
    "#       where rangeofrows 'slices' the indicated labels\n",
    "nba.loc[pd.Series(range(5555,5560)),[\"team_id\",\"pts\"]]"
   ]
  },
  {
   "cell_type": "markdown",
   "metadata": {},
   "source": [
    "With data access methods like `.loc` and `.iloc`, you can select just the right subset of your `DataFrame` to help you answer questions about your dataset."
   ]
  },
  {
   "cell_type": "markdown",
   "metadata": {},
   "source": [
    "# 6. Querying Your Pandas Dataset"
   ]
  },
  {
   "cell_type": "markdown",
   "metadata": {},
   "source": [
    "You’ve seen how to access subsets of a huge dataset based on its indices. Now, you’ll select rows based on the values in your dataset’s columns to **query** your data. For example, you can create a new `DataFrame` that contains only games played after 2010:"
   ]
  },
  {
   "cell_type": "code",
   "execution_count": 85,
   "metadata": {},
   "outputs": [
    {
     "data": {
      "text/plain": [
       "(12658, 23)"
      ]
     },
     "execution_count": 85,
     "metadata": {},
     "output_type": "execute_result"
    }
   ],
   "source": [
    "current_decade = nba[nba[\"year_id\"] > 2010]\n",
    "current_decade.shape\n",
    "# Expected:\n",
    "# (12658, 23)"
   ]
  },
  {
   "cell_type": "code",
   "execution_count": 86,
   "metadata": {},
   "outputs": [
    {
     "data": {
      "text/html": [
       "<div>\n",
       "<style scoped>\n",
       "    .dataframe tbody tr th:only-of-type {\n",
       "        vertical-align: middle;\n",
       "    }\n",
       "\n",
       "    .dataframe tbody tr th {\n",
       "        vertical-align: top;\n",
       "    }\n",
       "\n",
       "    .dataframe thead th {\n",
       "        text-align: right;\n",
       "    }\n",
       "</style>\n",
       "<table border=\"1\" class=\"dataframe\">\n",
       "  <thead>\n",
       "    <tr style=\"text-align: right;\">\n",
       "      <th></th>\n",
       "      <th>gameorder</th>\n",
       "      <th>game_id</th>\n",
       "      <th>lg_id</th>\n",
       "      <th>_iscopy</th>\n",
       "      <th>year_id</th>\n",
       "      <th>date_game</th>\n",
       "      <th>seasongame</th>\n",
       "      <th>is_playoffs</th>\n",
       "      <th>team_id</th>\n",
       "      <th>fran_id</th>\n",
       "      <th>pts</th>\n",
       "      <th>elo_i</th>\n",
       "      <th>elo_n</th>\n",
       "      <th>win_equiv</th>\n",
       "      <th>opp_id</th>\n",
       "      <th>opp_fran</th>\n",
       "      <th>opp_pts</th>\n",
       "      <th>opp_elo_i</th>\n",
       "      <th>opp_elo_n</th>\n",
       "      <th>game_location</th>\n",
       "      <th>game_result</th>\n",
       "      <th>forecast</th>\n",
       "      <th>notes</th>\n",
       "    </tr>\n",
       "  </thead>\n",
       "  <tbody>\n",
       "    <tr>\n",
       "      <th>113656</th>\n",
       "      <td>56829</td>\n",
       "      <td>201010260BOS</td>\n",
       "      <td>NBA</td>\n",
       "      <td>1</td>\n",
       "      <td>2011</td>\n",
       "      <td>10/26/2010</td>\n",
       "      <td>1</td>\n",
       "      <td>0</td>\n",
       "      <td>MIA</td>\n",
       "      <td>Heat</td>\n",
       "      <td>80</td>\n",
       "      <td>1547.36</td>\n",
       "      <td>1543.16</td>\n",
       "      <td>45.14</td>\n",
       "      <td>BOS</td>\n",
       "      <td>Celtics</td>\n",
       "      <td>88</td>\n",
       "      <td>1625.10</td>\n",
       "      <td>1629.30</td>\n",
       "      <td>A</td>\n",
       "      <td>L</td>\n",
       "      <td>0.26</td>\n",
       "      <td>NaN</td>\n",
       "    </tr>\n",
       "    <tr>\n",
       "      <th>113657</th>\n",
       "      <td>56829</td>\n",
       "      <td>201010260BOS</td>\n",
       "      <td>NBA</td>\n",
       "      <td>0</td>\n",
       "      <td>2011</td>\n",
       "      <td>10/26/2010</td>\n",
       "      <td>1</td>\n",
       "      <td>0</td>\n",
       "      <td>BOS</td>\n",
       "      <td>Celtics</td>\n",
       "      <td>88</td>\n",
       "      <td>1625.10</td>\n",
       "      <td>1629.30</td>\n",
       "      <td>53.75</td>\n",
       "      <td>MIA</td>\n",
       "      <td>Heat</td>\n",
       "      <td>80</td>\n",
       "      <td>1547.36</td>\n",
       "      <td>1543.16</td>\n",
       "      <td>H</td>\n",
       "      <td>W</td>\n",
       "      <td>0.74</td>\n",
       "      <td>NaN</td>\n",
       "    </tr>\n",
       "    <tr>\n",
       "      <th>113658</th>\n",
       "      <td>56830</td>\n",
       "      <td>201010260LAL</td>\n",
       "      <td>NBA</td>\n",
       "      <td>1</td>\n",
       "      <td>2011</td>\n",
       "      <td>10/26/2010</td>\n",
       "      <td>1</td>\n",
       "      <td>0</td>\n",
       "      <td>HOU</td>\n",
       "      <td>Rockets</td>\n",
       "      <td>110</td>\n",
       "      <td>1504.20</td>\n",
       "      <td>1502.60</td>\n",
       "      <td>40.90</td>\n",
       "      <td>LAL</td>\n",
       "      <td>Lakers</td>\n",
       "      <td>112</td>\n",
       "      <td>1647.60</td>\n",
       "      <td>1649.20</td>\n",
       "      <td>A</td>\n",
       "      <td>L</td>\n",
       "      <td>0.20</td>\n",
       "      <td>NaN</td>\n",
       "    </tr>\n",
       "    <tr>\n",
       "      <th>113659</th>\n",
       "      <td>56830</td>\n",
       "      <td>201010260LAL</td>\n",
       "      <td>NBA</td>\n",
       "      <td>0</td>\n",
       "      <td>2011</td>\n",
       "      <td>10/26/2010</td>\n",
       "      <td>1</td>\n",
       "      <td>0</td>\n",
       "      <td>LAL</td>\n",
       "      <td>Lakers</td>\n",
       "      <td>112</td>\n",
       "      <td>1647.60</td>\n",
       "      <td>1649.20</td>\n",
       "      <td>55.61</td>\n",
       "      <td>HOU</td>\n",
       "      <td>Rockets</td>\n",
       "      <td>110</td>\n",
       "      <td>1504.20</td>\n",
       "      <td>1502.60</td>\n",
       "      <td>H</td>\n",
       "      <td>W</td>\n",
       "      <td>0.80</td>\n",
       "      <td>NaN</td>\n",
       "    </tr>\n",
       "    <tr>\n",
       "      <th>113660</th>\n",
       "      <td>56831</td>\n",
       "      <td>201010260POR</td>\n",
       "      <td>NBA</td>\n",
       "      <td>1</td>\n",
       "      <td>2011</td>\n",
       "      <td>10/26/2010</td>\n",
       "      <td>1</td>\n",
       "      <td>0</td>\n",
       "      <td>PHO</td>\n",
       "      <td>Suns</td>\n",
       "      <td>92</td>\n",
       "      <td>1643.02</td>\n",
       "      <td>1630.62</td>\n",
       "      <td>53.88</td>\n",
       "      <td>POR</td>\n",
       "      <td>Trailblazers</td>\n",
       "      <td>106</td>\n",
       "      <td>1552.81</td>\n",
       "      <td>1565.22</td>\n",
       "      <td>A</td>\n",
       "      <td>L</td>\n",
       "      <td>0.49</td>\n",
       "      <td>NaN</td>\n",
       "    </tr>\n",
       "    <tr>\n",
       "      <th>...</th>\n",
       "      <td>...</td>\n",
       "      <td>...</td>\n",
       "      <td>...</td>\n",
       "      <td>...</td>\n",
       "      <td>...</td>\n",
       "      <td>...</td>\n",
       "      <td>...</td>\n",
       "      <td>...</td>\n",
       "      <td>...</td>\n",
       "      <td>...</td>\n",
       "      <td>...</td>\n",
       "      <td>...</td>\n",
       "      <td>...</td>\n",
       "      <td>...</td>\n",
       "      <td>...</td>\n",
       "      <td>...</td>\n",
       "      <td>...</td>\n",
       "      <td>...</td>\n",
       "      <td>...</td>\n",
       "      <td>...</td>\n",
       "      <td>...</td>\n",
       "      <td>...</td>\n",
       "      <td>...</td>\n",
       "    </tr>\n",
       "    <tr>\n",
       "      <th>126309</th>\n",
       "      <td>63155</td>\n",
       "      <td>201506110CLE</td>\n",
       "      <td>NBA</td>\n",
       "      <td>0</td>\n",
       "      <td>2015</td>\n",
       "      <td>6/11/2015</td>\n",
       "      <td>100</td>\n",
       "      <td>1</td>\n",
       "      <td>CLE</td>\n",
       "      <td>Cavaliers</td>\n",
       "      <td>82</td>\n",
       "      <td>1723.41</td>\n",
       "      <td>1704.39</td>\n",
       "      <td>60.31</td>\n",
       "      <td>GSW</td>\n",
       "      <td>Warriors</td>\n",
       "      <td>103</td>\n",
       "      <td>1790.96</td>\n",
       "      <td>1809.98</td>\n",
       "      <td>H</td>\n",
       "      <td>L</td>\n",
       "      <td>0.55</td>\n",
       "      <td>NaN</td>\n",
       "    </tr>\n",
       "    <tr>\n",
       "      <th>126310</th>\n",
       "      <td>63156</td>\n",
       "      <td>201506140GSW</td>\n",
       "      <td>NBA</td>\n",
       "      <td>0</td>\n",
       "      <td>2015</td>\n",
       "      <td>6/14/2015</td>\n",
       "      <td>102</td>\n",
       "      <td>1</td>\n",
       "      <td>GSW</td>\n",
       "      <td>Warriors</td>\n",
       "      <td>104</td>\n",
       "      <td>1809.98</td>\n",
       "      <td>1813.63</td>\n",
       "      <td>68.01</td>\n",
       "      <td>CLE</td>\n",
       "      <td>Cavaliers</td>\n",
       "      <td>91</td>\n",
       "      <td>1704.39</td>\n",
       "      <td>1700.74</td>\n",
       "      <td>H</td>\n",
       "      <td>W</td>\n",
       "      <td>0.77</td>\n",
       "      <td>NaN</td>\n",
       "    </tr>\n",
       "    <tr>\n",
       "      <th>126311</th>\n",
       "      <td>63156</td>\n",
       "      <td>201506140GSW</td>\n",
       "      <td>NBA</td>\n",
       "      <td>1</td>\n",
       "      <td>2015</td>\n",
       "      <td>6/14/2015</td>\n",
       "      <td>101</td>\n",
       "      <td>1</td>\n",
       "      <td>CLE</td>\n",
       "      <td>Cavaliers</td>\n",
       "      <td>91</td>\n",
       "      <td>1704.39</td>\n",
       "      <td>1700.74</td>\n",
       "      <td>60.01</td>\n",
       "      <td>GSW</td>\n",
       "      <td>Warriors</td>\n",
       "      <td>104</td>\n",
       "      <td>1809.98</td>\n",
       "      <td>1813.63</td>\n",
       "      <td>A</td>\n",
       "      <td>L</td>\n",
       "      <td>0.23</td>\n",
       "      <td>NaN</td>\n",
       "    </tr>\n",
       "    <tr>\n",
       "      <th>126312</th>\n",
       "      <td>63157</td>\n",
       "      <td>201506170CLE</td>\n",
       "      <td>NBA</td>\n",
       "      <td>0</td>\n",
       "      <td>2015</td>\n",
       "      <td>6/16/2015</td>\n",
       "      <td>102</td>\n",
       "      <td>1</td>\n",
       "      <td>CLE</td>\n",
       "      <td>Cavaliers</td>\n",
       "      <td>97</td>\n",
       "      <td>1700.74</td>\n",
       "      <td>1692.09</td>\n",
       "      <td>59.29</td>\n",
       "      <td>GSW</td>\n",
       "      <td>Warriors</td>\n",
       "      <td>105</td>\n",
       "      <td>1813.63</td>\n",
       "      <td>1822.29</td>\n",
       "      <td>H</td>\n",
       "      <td>L</td>\n",
       "      <td>0.48</td>\n",
       "      <td>NaN</td>\n",
       "    </tr>\n",
       "    <tr>\n",
       "      <th>126313</th>\n",
       "      <td>63157</td>\n",
       "      <td>201506170CLE</td>\n",
       "      <td>NBA</td>\n",
       "      <td>1</td>\n",
       "      <td>2015</td>\n",
       "      <td>6/16/2015</td>\n",
       "      <td>103</td>\n",
       "      <td>1</td>\n",
       "      <td>GSW</td>\n",
       "      <td>Warriors</td>\n",
       "      <td>105</td>\n",
       "      <td>1813.63</td>\n",
       "      <td>1822.29</td>\n",
       "      <td>68.52</td>\n",
       "      <td>CLE</td>\n",
       "      <td>Cavaliers</td>\n",
       "      <td>97</td>\n",
       "      <td>1700.74</td>\n",
       "      <td>1692.09</td>\n",
       "      <td>A</td>\n",
       "      <td>W</td>\n",
       "      <td>0.52</td>\n",
       "      <td>NaN</td>\n",
       "    </tr>\n",
       "  </tbody>\n",
       "</table>\n",
       "<p>12658 rows × 23 columns</p>\n",
       "</div>"
      ],
      "text/plain": [
       "        gameorder       game_id lg_id  _iscopy  year_id   date_game  \\\n",
       "113656      56829  201010260BOS   NBA        1     2011  10/26/2010   \n",
       "113657      56829  201010260BOS   NBA        0     2011  10/26/2010   \n",
       "113658      56830  201010260LAL   NBA        1     2011  10/26/2010   \n",
       "113659      56830  201010260LAL   NBA        0     2011  10/26/2010   \n",
       "113660      56831  201010260POR   NBA        1     2011  10/26/2010   \n",
       "...           ...           ...   ...      ...      ...         ...   \n",
       "126309      63155  201506110CLE   NBA        0     2015   6/11/2015   \n",
       "126310      63156  201506140GSW   NBA        0     2015   6/14/2015   \n",
       "126311      63156  201506140GSW   NBA        1     2015   6/14/2015   \n",
       "126312      63157  201506170CLE   NBA        0     2015   6/16/2015   \n",
       "126313      63157  201506170CLE   NBA        1     2015   6/16/2015   \n",
       "\n",
       "        seasongame  is_playoffs team_id    fran_id  pts    elo_i    elo_n  \\\n",
       "113656           1            0     MIA       Heat   80  1547.36  1543.16   \n",
       "113657           1            0     BOS    Celtics   88  1625.10  1629.30   \n",
       "113658           1            0     HOU    Rockets  110  1504.20  1502.60   \n",
       "113659           1            0     LAL     Lakers  112  1647.60  1649.20   \n",
       "113660           1            0     PHO       Suns   92  1643.02  1630.62   \n",
       "...            ...          ...     ...        ...  ...      ...      ...   \n",
       "126309         100            1     CLE  Cavaliers   82  1723.41  1704.39   \n",
       "126310         102            1     GSW   Warriors  104  1809.98  1813.63   \n",
       "126311         101            1     CLE  Cavaliers   91  1704.39  1700.74   \n",
       "126312         102            1     CLE  Cavaliers   97  1700.74  1692.09   \n",
       "126313         103            1     GSW   Warriors  105  1813.63  1822.29   \n",
       "\n",
       "        win_equiv opp_id      opp_fran  opp_pts  opp_elo_i  opp_elo_n  \\\n",
       "113656      45.14    BOS       Celtics       88    1625.10    1629.30   \n",
       "113657      53.75    MIA          Heat       80    1547.36    1543.16   \n",
       "113658      40.90    LAL        Lakers      112    1647.60    1649.20   \n",
       "113659      55.61    HOU       Rockets      110    1504.20    1502.60   \n",
       "113660      53.88    POR  Trailblazers      106    1552.81    1565.22   \n",
       "...           ...    ...           ...      ...        ...        ...   \n",
       "126309      60.31    GSW      Warriors      103    1790.96    1809.98   \n",
       "126310      68.01    CLE     Cavaliers       91    1704.39    1700.74   \n",
       "126311      60.01    GSW      Warriors      104    1809.98    1813.63   \n",
       "126312      59.29    GSW      Warriors      105    1813.63    1822.29   \n",
       "126313      68.52    CLE     Cavaliers       97    1700.74    1692.09   \n",
       "\n",
       "       game_location game_result  forecast notes  \n",
       "113656             A           L      0.26   NaN  \n",
       "113657             H           W      0.74   NaN  \n",
       "113658             A           L      0.20   NaN  \n",
       "113659             H           W      0.80   NaN  \n",
       "113660             A           L      0.49   NaN  \n",
       "...              ...         ...       ...   ...  \n",
       "126309             H           L      0.55   NaN  \n",
       "126310             H           W      0.77   NaN  \n",
       "126311             A           L      0.23   NaN  \n",
       "126312             H           L      0.48   NaN  \n",
       "126313             A           W      0.52   NaN  \n",
       "\n",
       "[12658 rows x 23 columns]"
      ]
     },
     "execution_count": 86,
     "metadata": {},
     "output_type": "execute_result"
    }
   ],
   "source": [
    "current_decade"
   ]
  },
  {
   "cell_type": "markdown",
   "metadata": {},
   "source": [
    "You still have all 23 columns, but your new `DataFrame` only consists of rows where the value in the `\"year_id\"` column is greater than `2010`.\n",
    "\n",
    "You can also select the rows where a specific field is not null:"
   ]
  },
  {
   "cell_type": "code",
   "execution_count": 87,
   "metadata": {},
   "outputs": [
    {
     "name": "stdout",
     "output_type": "stream",
     "text": [
      "        gameorder       game_id lg_id  _iscopy  year_id   date_game  \\\n",
      "930           466  194801300BLB   NBA        1     1948   1/30/1948   \n",
      "931           466  194801300BLB   NBA        0     1948   1/30/1948   \n",
      "1084          543  194803230CHS   NBA        1     1948   3/23/1948   \n",
      "1085          543  194803230CHS   NBA        0     1948   3/23/1948   \n",
      "1088          545  194803250CHS   NBA        1     1948   3/25/1948   \n",
      "...           ...           ...   ...      ...      ...         ...   \n",
      "122207      61104  201401160ATL   NBA        0     2014   1/16/2014   \n",
      "123916      61959  201411120MIN   NBA        1     2015  11/12/2014   \n",
      "123917      61959  201411120MIN   NBA        0     2015  11/12/2014   \n",
      "124862      62432  201501150MIL   NBA        0     2015   1/15/2015   \n",
      "124863      62432  201501150MIL   NBA        1     2015   1/15/2015   \n",
      "\n",
      "        seasongame  is_playoffs team_id       fran_id  pts    elo_i    elo_n  \\\n",
      "930             28            0     WSC      Capitols   71  1469.35  1454.90   \n",
      "931             31            0     BLB     Baltimore   95  1434.05  1448.50   \n",
      "1084            49            1     WSC      Capitols   70  1465.90  1461.20   \n",
      "1085            49            1     CHS         Stags   74  1440.72  1445.42   \n",
      "1088            49            1     BLB     Baltimore   75  1477.26  1484.31   \n",
      "...            ...          ...     ...           ...  ...      ...      ...   \n",
      "122207          39            0     ATL         Hawks  110  1505.05  1487.59   \n",
      "123916           8            0     HOU       Rockets  113  1635.77  1642.45   \n",
      "123917           7            0     MIN  Timberwolves  101  1502.92  1496.24   \n",
      "124862          40            0     MIL         Bucks   95  1499.90  1505.86   \n",
      "124863          41            0     NYK        Knicks   79  1304.46  1298.50   \n",
      "\n",
      "        win_equiv opp_id      opp_fran  opp_pts  opp_elo_i  opp_elo_n  \\\n",
      "930         47.07    BLB     Baltimore       95    1434.05    1448.50   \n",
      "931         46.41    WSC      Capitols       71    1469.35    1454.90   \n",
      "1084        47.71    CHS         Stags       74    1440.72    1445.42   \n",
      "1085        46.09    WSC      Capitols       70    1465.90    1461.20   \n",
      "1088        50.04    CHS         Stags       72    1445.42    1438.36   \n",
      "...           ...    ...           ...      ...        ...        ...   \n",
      "122207      39.24    BRK          Nets      127    1454.65    1472.11   \n",
      "123916      54.89    MIN  Timberwolves      101    1502.92    1496.24   \n",
      "123917      40.13    HOU       Rockets      113    1635.77    1642.45   \n",
      "124862      41.14    NYK        Knicks       79    1304.46    1298.50   \n",
      "124863      21.19    MIL         Bucks       95    1499.90    1505.86   \n",
      "\n",
      "       game_location game_result  forecast  \\\n",
      "930                A           L      0.41   \n",
      "931                H           W      0.59   \n",
      "1084               A           L      0.39   \n",
      "1085               H           W      0.61   \n",
      "1088               A           W      0.40   \n",
      "...              ...         ...       ...   \n",
      "122207             N           L      0.57   \n",
      "123916             N           W      0.68   \n",
      "123917             N           L      0.32   \n",
      "124862             N           W      0.75   \n",
      "124863             N           L      0.25   \n",
      "\n",
      "                                            notes  \n",
      "930          at Baltimore's Fifth Regiment Armory  \n",
      "931          at Baltimore's Fifth Regiment Armory  \n",
      "1084                                   Tiebreaker  \n",
      "1085                                   Tiebreaker  \n",
      "1088                                   Tiebreaker  \n",
      "...                                           ...  \n",
      "122207                         at London, England  \n",
      "123916  at Mexico City Arena, Mexico City, Mexico  \n",
      "123917  at Mexico City Arena, Mexico City, Mexico  \n",
      "124862                 at The O2, London, England  \n",
      "124863                 at The O2, London, England  \n",
      "\n",
      "[5424 rows x 23 columns]\n"
     ]
    },
    {
     "data": {
      "text/plain": [
       "(5424, 23)"
      ]
     },
     "execution_count": 87,
     "metadata": {},
     "output_type": "execute_result"
    }
   ],
   "source": [
    "games_with_notes = nba[nba[\"notes\"].notnull()]\n",
    "print(games_with_notes)\n",
    "games_with_notes.shape\n",
    "# Expected:\n",
    "# (5424, 23)"
   ]
  },
  {
   "cell_type": "markdown",
   "metadata": {},
   "source": [
    "This can be helpful if you want to avoid any missing values in a column. You can also use `.notna()` to achieve the same goal.\n",
    "\n",
    "You can even access values of the object data type as `str` and perform string methods on them:"
   ]
  },
  {
   "cell_type": "code",
   "execution_count": 88,
   "metadata": {},
   "outputs": [
    {
     "data": {
      "text/plain": [
       "(27797, 23)"
      ]
     },
     "execution_count": 88,
     "metadata": {},
     "output_type": "execute_result"
    }
   ],
   "source": [
    "ers = nba[nba[\"fran_id\"].str.endswith(\"ers\")]\n",
    "ers.shape\n",
    "# Expected:\n",
    "# (27797, 23)"
   ]
  },
  {
   "cell_type": "code",
   "execution_count": 89,
   "metadata": {},
   "outputs": [
    {
     "data": {
      "text/html": [
       "<div>\n",
       "<style scoped>\n",
       "    .dataframe tbody tr th:only-of-type {\n",
       "        vertical-align: middle;\n",
       "    }\n",
       "\n",
       "    .dataframe tbody tr th {\n",
       "        vertical-align: top;\n",
       "    }\n",
       "\n",
       "    .dataframe thead th {\n",
       "        text-align: right;\n",
       "    }\n",
       "</style>\n",
       "<table border=\"1\" class=\"dataframe\">\n",
       "  <thead>\n",
       "    <tr style=\"text-align: right;\">\n",
       "      <th></th>\n",
       "      <th>gameorder</th>\n",
       "      <th>game_id</th>\n",
       "      <th>lg_id</th>\n",
       "      <th>_iscopy</th>\n",
       "      <th>year_id</th>\n",
       "      <th>date_game</th>\n",
       "      <th>seasongame</th>\n",
       "      <th>is_playoffs</th>\n",
       "      <th>team_id</th>\n",
       "      <th>fran_id</th>\n",
       "      <th>pts</th>\n",
       "      <th>elo_i</th>\n",
       "      <th>elo_n</th>\n",
       "      <th>win_equiv</th>\n",
       "      <th>opp_id</th>\n",
       "      <th>opp_fran</th>\n",
       "      <th>opp_pts</th>\n",
       "      <th>opp_elo_i</th>\n",
       "      <th>opp_elo_n</th>\n",
       "      <th>game_location</th>\n",
       "      <th>game_result</th>\n",
       "      <th>forecast</th>\n",
       "      <th>notes</th>\n",
       "    </tr>\n",
       "  </thead>\n",
       "  <tbody>\n",
       "    <tr>\n",
       "      <th>7</th>\n",
       "      <td>4</td>\n",
       "      <td>194611020PRO</td>\n",
       "      <td>NBA</td>\n",
       "      <td>0</td>\n",
       "      <td>1947</td>\n",
       "      <td>11/2/1946</td>\n",
       "      <td>1</td>\n",
       "      <td>0</td>\n",
       "      <td>PRO</td>\n",
       "      <td>Steamrollers</td>\n",
       "      <td>59</td>\n",
       "      <td>1300.00</td>\n",
       "      <td>1305.15</td>\n",
       "      <td>41.54</td>\n",
       "      <td>BOS</td>\n",
       "      <td>Celtics</td>\n",
       "      <td>53</td>\n",
       "      <td>1300.00</td>\n",
       "      <td>1294.85</td>\n",
       "      <td>H</td>\n",
       "      <td>W</td>\n",
       "      <td>0.64</td>\n",
       "      <td>NaN</td>\n",
       "    </tr>\n",
       "    <tr>\n",
       "      <th>9</th>\n",
       "      <td>5</td>\n",
       "      <td>194611020STB</td>\n",
       "      <td>NBA</td>\n",
       "      <td>0</td>\n",
       "      <td>1947</td>\n",
       "      <td>11/2/1946</td>\n",
       "      <td>1</td>\n",
       "      <td>0</td>\n",
       "      <td>STB</td>\n",
       "      <td>Bombers</td>\n",
       "      <td>56</td>\n",
       "      <td>1300.00</td>\n",
       "      <td>1304.69</td>\n",
       "      <td>41.49</td>\n",
       "      <td>PIT</td>\n",
       "      <td>Ironmen</td>\n",
       "      <td>51</td>\n",
       "      <td>1300.00</td>\n",
       "      <td>1295.31</td>\n",
       "      <td>H</td>\n",
       "      <td>W</td>\n",
       "      <td>0.64</td>\n",
       "      <td>NaN</td>\n",
       "    </tr>\n",
       "    <tr>\n",
       "      <th>16</th>\n",
       "      <td>9</td>\n",
       "      <td>194611050DTF</td>\n",
       "      <td>NBA</td>\n",
       "      <td>1</td>\n",
       "      <td>1947</td>\n",
       "      <td>11/5/1946</td>\n",
       "      <td>2</td>\n",
       "      <td>0</td>\n",
       "      <td>STB</td>\n",
       "      <td>Bombers</td>\n",
       "      <td>53</td>\n",
       "      <td>1304.69</td>\n",
       "      <td>1312.85</td>\n",
       "      <td>42.35</td>\n",
       "      <td>DTF</td>\n",
       "      <td>Falcons</td>\n",
       "      <td>49</td>\n",
       "      <td>1279.62</td>\n",
       "      <td>1271.46</td>\n",
       "      <td>A</td>\n",
       "      <td>W</td>\n",
       "      <td>0.39</td>\n",
       "      <td>NaN</td>\n",
       "    </tr>\n",
       "    <tr>\n",
       "      <th>20</th>\n",
       "      <td>11</td>\n",
       "      <td>194611070PRO</td>\n",
       "      <td>NBA</td>\n",
       "      <td>0</td>\n",
       "      <td>1947</td>\n",
       "      <td>11/7/1946</td>\n",
       "      <td>2</td>\n",
       "      <td>0</td>\n",
       "      <td>PRO</td>\n",
       "      <td>Steamrollers</td>\n",
       "      <td>73</td>\n",
       "      <td>1305.15</td>\n",
       "      <td>1311.50</td>\n",
       "      <td>42.21</td>\n",
       "      <td>CHS</td>\n",
       "      <td>Stags</td>\n",
       "      <td>65</td>\n",
       "      <td>1316.08</td>\n",
       "      <td>1309.73</td>\n",
       "      <td>H</td>\n",
       "      <td>W</td>\n",
       "      <td>0.63</td>\n",
       "      <td>NaN</td>\n",
       "    </tr>\n",
       "    <tr>\n",
       "      <th>22</th>\n",
       "      <td>12</td>\n",
       "      <td>194611070STB</td>\n",
       "      <td>NBA</td>\n",
       "      <td>0</td>\n",
       "      <td>1947</td>\n",
       "      <td>11/7/1946</td>\n",
       "      <td>3</td>\n",
       "      <td>0</td>\n",
       "      <td>STB</td>\n",
       "      <td>Bombers</td>\n",
       "      <td>63</td>\n",
       "      <td>1312.85</td>\n",
       "      <td>1302.60</td>\n",
       "      <td>41.27</td>\n",
       "      <td>NYK</td>\n",
       "      <td>Knicks</td>\n",
       "      <td>68</td>\n",
       "      <td>1297.07</td>\n",
       "      <td>1307.32</td>\n",
       "      <td>H</td>\n",
       "      <td>L</td>\n",
       "      <td>0.66</td>\n",
       "      <td>NaN</td>\n",
       "    </tr>\n",
       "    <tr>\n",
       "      <th>...</th>\n",
       "      <td>...</td>\n",
       "      <td>...</td>\n",
       "      <td>...</td>\n",
       "      <td>...</td>\n",
       "      <td>...</td>\n",
       "      <td>...</td>\n",
       "      <td>...</td>\n",
       "      <td>...</td>\n",
       "      <td>...</td>\n",
       "      <td>...</td>\n",
       "      <td>...</td>\n",
       "      <td>...</td>\n",
       "      <td>...</td>\n",
       "      <td>...</td>\n",
       "      <td>...</td>\n",
       "      <td>...</td>\n",
       "      <td>...</td>\n",
       "      <td>...</td>\n",
       "      <td>...</td>\n",
       "      <td>...</td>\n",
       "      <td>...</td>\n",
       "      <td>...</td>\n",
       "      <td>...</td>\n",
       "    </tr>\n",
       "    <tr>\n",
       "      <th>126304</th>\n",
       "      <td>63153</td>\n",
       "      <td>201506070GSW</td>\n",
       "      <td>NBA</td>\n",
       "      <td>1</td>\n",
       "      <td>2015</td>\n",
       "      <td>6/7/2015</td>\n",
       "      <td>98</td>\n",
       "      <td>1</td>\n",
       "      <td>CLE</td>\n",
       "      <td>Cavaliers</td>\n",
       "      <td>95</td>\n",
       "      <td>1708.17</td>\n",
       "      <td>1716.87</td>\n",
       "      <td>61.31</td>\n",
       "      <td>GSW</td>\n",
       "      <td>Warriors</td>\n",
       "      <td>93</td>\n",
       "      <td>1806.20</td>\n",
       "      <td>1797.50</td>\n",
       "      <td>A</td>\n",
       "      <td>W</td>\n",
       "      <td>0.24</td>\n",
       "      <td>NaN</td>\n",
       "    </tr>\n",
       "    <tr>\n",
       "      <th>126307</th>\n",
       "      <td>63154</td>\n",
       "      <td>201506090CLE</td>\n",
       "      <td>NBA</td>\n",
       "      <td>0</td>\n",
       "      <td>2015</td>\n",
       "      <td>6/9/2015</td>\n",
       "      <td>99</td>\n",
       "      <td>1</td>\n",
       "      <td>CLE</td>\n",
       "      <td>Cavaliers</td>\n",
       "      <td>96</td>\n",
       "      <td>1716.87</td>\n",
       "      <td>1723.41</td>\n",
       "      <td>61.83</td>\n",
       "      <td>GSW</td>\n",
       "      <td>Warriors</td>\n",
       "      <td>91</td>\n",
       "      <td>1797.50</td>\n",
       "      <td>1790.96</td>\n",
       "      <td>H</td>\n",
       "      <td>W</td>\n",
       "      <td>0.53</td>\n",
       "      <td>NaN</td>\n",
       "    </tr>\n",
       "    <tr>\n",
       "      <th>126309</th>\n",
       "      <td>63155</td>\n",
       "      <td>201506110CLE</td>\n",
       "      <td>NBA</td>\n",
       "      <td>0</td>\n",
       "      <td>2015</td>\n",
       "      <td>6/11/2015</td>\n",
       "      <td>100</td>\n",
       "      <td>1</td>\n",
       "      <td>CLE</td>\n",
       "      <td>Cavaliers</td>\n",
       "      <td>82</td>\n",
       "      <td>1723.41</td>\n",
       "      <td>1704.39</td>\n",
       "      <td>60.31</td>\n",
       "      <td>GSW</td>\n",
       "      <td>Warriors</td>\n",
       "      <td>103</td>\n",
       "      <td>1790.96</td>\n",
       "      <td>1809.98</td>\n",
       "      <td>H</td>\n",
       "      <td>L</td>\n",
       "      <td>0.55</td>\n",
       "      <td>NaN</td>\n",
       "    </tr>\n",
       "    <tr>\n",
       "      <th>126311</th>\n",
       "      <td>63156</td>\n",
       "      <td>201506140GSW</td>\n",
       "      <td>NBA</td>\n",
       "      <td>1</td>\n",
       "      <td>2015</td>\n",
       "      <td>6/14/2015</td>\n",
       "      <td>101</td>\n",
       "      <td>1</td>\n",
       "      <td>CLE</td>\n",
       "      <td>Cavaliers</td>\n",
       "      <td>91</td>\n",
       "      <td>1704.39</td>\n",
       "      <td>1700.74</td>\n",
       "      <td>60.01</td>\n",
       "      <td>GSW</td>\n",
       "      <td>Warriors</td>\n",
       "      <td>104</td>\n",
       "      <td>1809.98</td>\n",
       "      <td>1813.63</td>\n",
       "      <td>A</td>\n",
       "      <td>L</td>\n",
       "      <td>0.23</td>\n",
       "      <td>NaN</td>\n",
       "    </tr>\n",
       "    <tr>\n",
       "      <th>126312</th>\n",
       "      <td>63157</td>\n",
       "      <td>201506170CLE</td>\n",
       "      <td>NBA</td>\n",
       "      <td>0</td>\n",
       "      <td>2015</td>\n",
       "      <td>6/16/2015</td>\n",
       "      <td>102</td>\n",
       "      <td>1</td>\n",
       "      <td>CLE</td>\n",
       "      <td>Cavaliers</td>\n",
       "      <td>97</td>\n",
       "      <td>1700.74</td>\n",
       "      <td>1692.09</td>\n",
       "      <td>59.29</td>\n",
       "      <td>GSW</td>\n",
       "      <td>Warriors</td>\n",
       "      <td>105</td>\n",
       "      <td>1813.63</td>\n",
       "      <td>1822.29</td>\n",
       "      <td>H</td>\n",
       "      <td>L</td>\n",
       "      <td>0.48</td>\n",
       "      <td>NaN</td>\n",
       "    </tr>\n",
       "  </tbody>\n",
       "</table>\n",
       "<p>27797 rows × 23 columns</p>\n",
       "</div>"
      ],
      "text/plain": [
       "        gameorder       game_id lg_id  _iscopy  year_id  date_game  \\\n",
       "7               4  194611020PRO   NBA        0     1947  11/2/1946   \n",
       "9               5  194611020STB   NBA        0     1947  11/2/1946   \n",
       "16              9  194611050DTF   NBA        1     1947  11/5/1946   \n",
       "20             11  194611070PRO   NBA        0     1947  11/7/1946   \n",
       "22             12  194611070STB   NBA        0     1947  11/7/1946   \n",
       "...           ...           ...   ...      ...      ...        ...   \n",
       "126304      63153  201506070GSW   NBA        1     2015   6/7/2015   \n",
       "126307      63154  201506090CLE   NBA        0     2015   6/9/2015   \n",
       "126309      63155  201506110CLE   NBA        0     2015  6/11/2015   \n",
       "126311      63156  201506140GSW   NBA        1     2015  6/14/2015   \n",
       "126312      63157  201506170CLE   NBA        0     2015  6/16/2015   \n",
       "\n",
       "        seasongame  is_playoffs team_id       fran_id  pts    elo_i    elo_n  \\\n",
       "7                1            0     PRO  Steamrollers   59  1300.00  1305.15   \n",
       "9                1            0     STB       Bombers   56  1300.00  1304.69   \n",
       "16               2            0     STB       Bombers   53  1304.69  1312.85   \n",
       "20               2            0     PRO  Steamrollers   73  1305.15  1311.50   \n",
       "22               3            0     STB       Bombers   63  1312.85  1302.60   \n",
       "...            ...          ...     ...           ...  ...      ...      ...   \n",
       "126304          98            1     CLE     Cavaliers   95  1708.17  1716.87   \n",
       "126307          99            1     CLE     Cavaliers   96  1716.87  1723.41   \n",
       "126309         100            1     CLE     Cavaliers   82  1723.41  1704.39   \n",
       "126311         101            1     CLE     Cavaliers   91  1704.39  1700.74   \n",
       "126312         102            1     CLE     Cavaliers   97  1700.74  1692.09   \n",
       "\n",
       "        win_equiv opp_id  opp_fran  opp_pts  opp_elo_i  opp_elo_n  \\\n",
       "7           41.54    BOS   Celtics       53    1300.00    1294.85   \n",
       "9           41.49    PIT   Ironmen       51    1300.00    1295.31   \n",
       "16          42.35    DTF   Falcons       49    1279.62    1271.46   \n",
       "20          42.21    CHS     Stags       65    1316.08    1309.73   \n",
       "22          41.27    NYK    Knicks       68    1297.07    1307.32   \n",
       "...           ...    ...       ...      ...        ...        ...   \n",
       "126304      61.31    GSW  Warriors       93    1806.20    1797.50   \n",
       "126307      61.83    GSW  Warriors       91    1797.50    1790.96   \n",
       "126309      60.31    GSW  Warriors      103    1790.96    1809.98   \n",
       "126311      60.01    GSW  Warriors      104    1809.98    1813.63   \n",
       "126312      59.29    GSW  Warriors      105    1813.63    1822.29   \n",
       "\n",
       "       game_location game_result  forecast notes  \n",
       "7                  H           W      0.64   NaN  \n",
       "9                  H           W      0.64   NaN  \n",
       "16                 A           W      0.39   NaN  \n",
       "20                 H           W      0.63   NaN  \n",
       "22                 H           L      0.66   NaN  \n",
       "...              ...         ...       ...   ...  \n",
       "126304             A           W      0.24   NaN  \n",
       "126307             H           W      0.53   NaN  \n",
       "126309             H           L      0.55   NaN  \n",
       "126311             A           L      0.23   NaN  \n",
       "126312             H           L      0.48   NaN  \n",
       "\n",
       "[27797 rows x 23 columns]"
      ]
     },
     "execution_count": 89,
     "metadata": {},
     "output_type": "execute_result"
    }
   ],
   "source": [
    "ers"
   ]
  },
  {
   "cell_type": "markdown",
   "metadata": {},
   "source": [
    "You use `.str.endswith()` to filter your dataset and find all games where the home team’s name ends with `\"ers\"`.\n",
    "\n",
    "You can combine multiple criteria and query your dataset as well. To do this, be sure to put each one in parentheses and use the **logical** operators `|` and `&` to separate them.\n",
    "\n",
    "Note: The operators `and`, `or`, `&&`, and `||` won’t work here. If you’re curious as to why, then check out the section on how the Pandas Python library uses Boolean operators in Python Pandas: Tricks & Features You May Not Know.\n",
    "\n",
    "Now we search for Baltimore games where both teams scored over 100 points. In order to see each game only once, you’ll need to exclude duplicates:\n"
   ]
  },
  {
   "cell_type": "code",
   "execution_count": 90,
   "metadata": {},
   "outputs": [
    {
     "data": {
      "text/html": [
       "<div>\n",
       "<style scoped>\n",
       "    .dataframe tbody tr th:only-of-type {\n",
       "        vertical-align: middle;\n",
       "    }\n",
       "\n",
       "    .dataframe tbody tr th {\n",
       "        vertical-align: top;\n",
       "    }\n",
       "\n",
       "    .dataframe thead th {\n",
       "        text-align: right;\n",
       "    }\n",
       "</style>\n",
       "<table border=\"1\" class=\"dataframe\">\n",
       "  <thead>\n",
       "    <tr style=\"text-align: right;\">\n",
       "      <th></th>\n",
       "      <th>gameorder</th>\n",
       "      <th>game_id</th>\n",
       "      <th>lg_id</th>\n",
       "      <th>_iscopy</th>\n",
       "      <th>year_id</th>\n",
       "      <th>date_game</th>\n",
       "      <th>seasongame</th>\n",
       "      <th>is_playoffs</th>\n",
       "      <th>team_id</th>\n",
       "      <th>fran_id</th>\n",
       "      <th>pts</th>\n",
       "      <th>elo_i</th>\n",
       "      <th>elo_n</th>\n",
       "      <th>win_equiv</th>\n",
       "      <th>opp_id</th>\n",
       "      <th>opp_fran</th>\n",
       "      <th>opp_pts</th>\n",
       "      <th>opp_elo_i</th>\n",
       "      <th>opp_elo_n</th>\n",
       "      <th>game_location</th>\n",
       "      <th>game_result</th>\n",
       "      <th>forecast</th>\n",
       "      <th>notes</th>\n",
       "    </tr>\n",
       "  </thead>\n",
       "  <tbody>\n",
       "    <tr>\n",
       "      <th>1726</th>\n",
       "      <td>864</td>\n",
       "      <td>194902260BLB</td>\n",
       "      <td>NBA</td>\n",
       "      <td>0</td>\n",
       "      <td>1949</td>\n",
       "      <td>2/26/1949</td>\n",
       "      <td>53</td>\n",
       "      <td>0</td>\n",
       "      <td>BLB</td>\n",
       "      <td>Baltimore</td>\n",
       "      <td>114</td>\n",
       "      <td>1421.94</td>\n",
       "      <td>1419.43</td>\n",
       "      <td>38.56</td>\n",
       "      <td>MNL</td>\n",
       "      <td>Lakers</td>\n",
       "      <td>115</td>\n",
       "      <td>1637.99</td>\n",
       "      <td>1640.49</td>\n",
       "      <td>H</td>\n",
       "      <td>L</td>\n",
       "      <td>0.34</td>\n",
       "      <td>NaN</td>\n",
       "    </tr>\n",
       "    <tr>\n",
       "      <th>4890</th>\n",
       "      <td>2446</td>\n",
       "      <td>195301100BLB</td>\n",
       "      <td>NBA</td>\n",
       "      <td>0</td>\n",
       "      <td>1953</td>\n",
       "      <td>1/10/1953</td>\n",
       "      <td>32</td>\n",
       "      <td>0</td>\n",
       "      <td>BLB</td>\n",
       "      <td>Baltimore</td>\n",
       "      <td>126</td>\n",
       "      <td>1328.67</td>\n",
       "      <td>1356.65</td>\n",
       "      <td>25.80</td>\n",
       "      <td>BOS</td>\n",
       "      <td>Celtics</td>\n",
       "      <td>105</td>\n",
       "      <td>1591.14</td>\n",
       "      <td>1563.17</td>\n",
       "      <td>H</td>\n",
       "      <td>W</td>\n",
       "      <td>0.28</td>\n",
       "      <td>NaN</td>\n",
       "    </tr>\n",
       "    <tr>\n",
       "      <th>4909</th>\n",
       "      <td>2455</td>\n",
       "      <td>195301140BLB</td>\n",
       "      <td>NBA</td>\n",
       "      <td>0</td>\n",
       "      <td>1953</td>\n",
       "      <td>1/14/1953</td>\n",
       "      <td>34</td>\n",
       "      <td>0</td>\n",
       "      <td>BLB</td>\n",
       "      <td>Baltimore</td>\n",
       "      <td>104</td>\n",
       "      <td>1349.83</td>\n",
       "      <td>1346.36</td>\n",
       "      <td>24.88</td>\n",
       "      <td>MNL</td>\n",
       "      <td>Lakers</td>\n",
       "      <td>112</td>\n",
       "      <td>1665.44</td>\n",
       "      <td>1668.91</td>\n",
       "      <td>H</td>\n",
       "      <td>L</td>\n",
       "      <td>0.22</td>\n",
       "      <td>NaN</td>\n",
       "    </tr>\n",
       "    <tr>\n",
       "      <th>5208</th>\n",
       "      <td>2605</td>\n",
       "      <td>195303110BLB</td>\n",
       "      <td>NBA</td>\n",
       "      <td>0</td>\n",
       "      <td>1953</td>\n",
       "      <td>3/11/1953</td>\n",
       "      <td>66</td>\n",
       "      <td>0</td>\n",
       "      <td>BLB</td>\n",
       "      <td>Baltimore</td>\n",
       "      <td>107</td>\n",
       "      <td>1284.52</td>\n",
       "      <td>1282.24</td>\n",
       "      <td>19.58</td>\n",
       "      <td>NYK</td>\n",
       "      <td>Knicks</td>\n",
       "      <td>113</td>\n",
       "      <td>1649.15</td>\n",
       "      <td>1651.44</td>\n",
       "      <td>H</td>\n",
       "      <td>L</td>\n",
       "      <td>0.18</td>\n",
       "      <td>at Boston MA</td>\n",
       "    </tr>\n",
       "    <tr>\n",
       "      <th>5825</th>\n",
       "      <td>2913</td>\n",
       "      <td>195402220BLB</td>\n",
       "      <td>NBA</td>\n",
       "      <td>0</td>\n",
       "      <td>1954</td>\n",
       "      <td>2/22/1954</td>\n",
       "      <td>60</td>\n",
       "      <td>0</td>\n",
       "      <td>BLB</td>\n",
       "      <td>Baltimore</td>\n",
       "      <td>110</td>\n",
       "      <td>1303.75</td>\n",
       "      <td>1301.97</td>\n",
       "      <td>20.74</td>\n",
       "      <td>BOS</td>\n",
       "      <td>Celtics</td>\n",
       "      <td>111</td>\n",
       "      <td>1591.49</td>\n",
       "      <td>1593.27</td>\n",
       "      <td>H</td>\n",
       "      <td>L</td>\n",
       "      <td>0.25</td>\n",
       "      <td>at Worcester MA</td>\n",
       "    </tr>\n",
       "  </tbody>\n",
       "</table>\n",
       "</div>"
      ],
      "text/plain": [
       "      gameorder       game_id lg_id  _iscopy  year_id  date_game  seasongame  \\\n",
       "1726        864  194902260BLB   NBA        0     1949  2/26/1949          53   \n",
       "4890       2446  195301100BLB   NBA        0     1953  1/10/1953          32   \n",
       "4909       2455  195301140BLB   NBA        0     1953  1/14/1953          34   \n",
       "5208       2605  195303110BLB   NBA        0     1953  3/11/1953          66   \n",
       "5825       2913  195402220BLB   NBA        0     1954  2/22/1954          60   \n",
       "\n",
       "      is_playoffs team_id    fran_id  pts    elo_i    elo_n  win_equiv opp_id  \\\n",
       "1726            0     BLB  Baltimore  114  1421.94  1419.43      38.56    MNL   \n",
       "4890            0     BLB  Baltimore  126  1328.67  1356.65      25.80    BOS   \n",
       "4909            0     BLB  Baltimore  104  1349.83  1346.36      24.88    MNL   \n",
       "5208            0     BLB  Baltimore  107  1284.52  1282.24      19.58    NYK   \n",
       "5825            0     BLB  Baltimore  110  1303.75  1301.97      20.74    BOS   \n",
       "\n",
       "     opp_fran  opp_pts  opp_elo_i  opp_elo_n game_location game_result  \\\n",
       "1726   Lakers      115    1637.99    1640.49             H           L   \n",
       "4890  Celtics      105    1591.14    1563.17             H           W   \n",
       "4909   Lakers      112    1665.44    1668.91             H           L   \n",
       "5208   Knicks      113    1649.15    1651.44             H           L   \n",
       "5825  Celtics      111    1591.49    1593.27             H           L   \n",
       "\n",
       "      forecast            notes  \n",
       "1726      0.34              NaN  \n",
       "4890      0.28              NaN  \n",
       "4909      0.22              NaN  \n",
       "5208      0.18     at Boston MA  \n",
       "5825      0.25  at Worcester MA  "
      ]
     },
     "execution_count": 90,
     "metadata": {},
     "output_type": "execute_result"
    }
   ],
   "source": [
    "nba[\n",
    "    (nba[\"_iscopy\"] == 0) &\n",
    "    (nba[\"pts\"] > 100) &\n",
    "    (nba[\"opp_pts\"] > 100) &\n",
    "    (nba[\"team_id\"] == \"BLB\")\n",
    "]"
   ]
  },
  {
   "cell_type": "markdown",
   "metadata": {},
   "source": [
    "Here, you use `nba[\"_iscopy\"] == 0` to include only the entries that aren’t copies.\n",
    "Your output should contain five eventful games.\n"
   ]
  },
  {
   "cell_type": "markdown",
   "metadata": {},
   "source": [
    "Try to build another query with multiple criteria in the following Exercise:"
   ]
  },
  {
   "cell_type": "markdown",
   "metadata": {},
   "source": [
    "#### Exercise\n",
    "\n",
    "In the spring of 1992, both teams from Los Angeles had to play a home game at another court. Find those 2 games. (Both teams have an ID starting with \"LA\".)"
   ]
  },
  {
   "cell_type": "code",
   "execution_count": 100,
   "metadata": {
    "scrolled": true
   },
   "outputs": [
    {
     "data": {
      "text/html": [
       "<div>\n",
       "<style scoped>\n",
       "    .dataframe tbody tr th:only-of-type {\n",
       "        vertical-align: middle;\n",
       "    }\n",
       "\n",
       "    .dataframe tbody tr th {\n",
       "        vertical-align: top;\n",
       "    }\n",
       "\n",
       "    .dataframe thead th {\n",
       "        text-align: right;\n",
       "    }\n",
       "</style>\n",
       "<table border=\"1\" class=\"dataframe\">\n",
       "  <thead>\n",
       "    <tr style=\"text-align: right;\">\n",
       "      <th></th>\n",
       "      <th>gameorder</th>\n",
       "      <th>game_id</th>\n",
       "      <th>lg_id</th>\n",
       "      <th>_iscopy</th>\n",
       "      <th>year_id</th>\n",
       "      <th>date_game</th>\n",
       "      <th>seasongame</th>\n",
       "      <th>is_playoffs</th>\n",
       "      <th>team_id</th>\n",
       "      <th>fran_id</th>\n",
       "      <th>pts</th>\n",
       "      <th>elo_i</th>\n",
       "      <th>elo_n</th>\n",
       "      <th>win_equiv</th>\n",
       "      <th>opp_id</th>\n",
       "      <th>opp_fran</th>\n",
       "      <th>opp_pts</th>\n",
       "      <th>opp_elo_i</th>\n",
       "      <th>opp_elo_n</th>\n",
       "      <th>game_location</th>\n",
       "      <th>game_result</th>\n",
       "      <th>forecast</th>\n",
       "      <th>notes</th>\n",
       "    </tr>\n",
       "  </thead>\n",
       "  <tbody>\n",
       "    <tr>\n",
       "      <th>68901</th>\n",
       "      <td>34451</td>\n",
       "      <td>199205030LAC</td>\n",
       "      <td>NBA</td>\n",
       "      <td>0</td>\n",
       "      <td>1992</td>\n",
       "      <td>5/3/1992</td>\n",
       "      <td>86</td>\n",
       "      <td>1</td>\n",
       "      <td>LAC</td>\n",
       "      <td>Clippers</td>\n",
       "      <td>115</td>\n",
       "      <td>1546.90</td>\n",
       "      <td>1556.0</td>\n",
       "      <td>47.89</td>\n",
       "      <td>UTA</td>\n",
       "      <td>Jazz</td>\n",
       "      <td>107</td>\n",
       "      <td>1647.51</td>\n",
       "      <td>1638.41</td>\n",
       "      <td>H</td>\n",
       "      <td>W</td>\n",
       "      <td>0.50</td>\n",
       "      <td>at Anaheim, CA (Anaheim Convention Center)</td>\n",
       "    </tr>\n",
       "    <tr>\n",
       "      <th>68903</th>\n",
       "      <td>34452</td>\n",
       "      <td>199205030LAL</td>\n",
       "      <td>NBA</td>\n",
       "      <td>0</td>\n",
       "      <td>1992</td>\n",
       "      <td>5/3/1992</td>\n",
       "      <td>86</td>\n",
       "      <td>1</td>\n",
       "      <td>LAL</td>\n",
       "      <td>Lakers</td>\n",
       "      <td>76</td>\n",
       "      <td>1489.65</td>\n",
       "      <td>1474.4</td>\n",
       "      <td>39.40</td>\n",
       "      <td>POR</td>\n",
       "      <td>Trailblazers</td>\n",
       "      <td>102</td>\n",
       "      <td>1655.12</td>\n",
       "      <td>1670.37</td>\n",
       "      <td>H</td>\n",
       "      <td>L</td>\n",
       "      <td>0.41</td>\n",
       "      <td>at Las Vegas, NV</td>\n",
       "    </tr>\n",
       "  </tbody>\n",
       "</table>\n",
       "</div>"
      ],
      "text/plain": [
       "       gameorder       game_id lg_id  _iscopy  year_id date_game  seasongame  \\\n",
       "68901      34451  199205030LAC   NBA        0     1992  5/3/1992          86   \n",
       "68903      34452  199205030LAL   NBA        0     1992  5/3/1992          86   \n",
       "\n",
       "       is_playoffs team_id   fran_id  pts    elo_i   elo_n  win_equiv opp_id  \\\n",
       "68901            1     LAC  Clippers  115  1546.90  1556.0      47.89    UTA   \n",
       "68903            1     LAL    Lakers   76  1489.65  1474.4      39.40    POR   \n",
       "\n",
       "           opp_fran  opp_pts  opp_elo_i  opp_elo_n game_location game_result  \\\n",
       "68901          Jazz      107    1647.51    1638.41             H           W   \n",
       "68903  Trailblazers      102    1655.12    1670.37             H           L   \n",
       "\n",
       "       forecast                                       notes  \n",
       "68901      0.50  at Anaheim, CA (Anaheim Convention Center)  \n",
       "68903      0.41                            at Las Vegas, NV  "
      ]
     },
     "execution_count": 100,
     "metadata": {},
     "output_type": "execute_result"
    }
   ],
   "source": [
    "# Hint: do a query similar to the previous cell:\n",
    "#       search for rows in 1992 with team_id starting with 'LA' and notes not null,\n",
    "#       using .str.startswith(...)\n",
    "nba[(nba['year_id'] == 1992) & (nba['team_id'].str.startswith('LA')) &  (nba['notes'].notnull())]"
   ]
  },
  {
   "cell_type": "markdown",
   "metadata": {},
   "source": [
    "When you know how to query your dataset with multiple criteria, you’ll be able to answer more specific questions about your dataset."
   ]
  },
  {
   "cell_type": "markdown",
   "metadata": {},
   "source": [
    "# 7. Grouping and Aggregating Your Data"
   ]
  },
  {
   "cell_type": "markdown",
   "metadata": {},
   "source": [
    "### Aggregations for `Series`"
   ]
  },
  {
   "cell_type": "markdown",
   "metadata": {},
   "source": [
    "You may also want to learn other features of your dataset, like the sum, mean, or average value of a group of elements. Luckily, the Pandas Python library offers **grouping** and **aggregation functions** to help you accomplish this task.\n",
    "\n",
    "A `Series` has more than twenty different methods for calculating descriptive statistics. Here are some examples:\n"
   ]
  },
  {
   "cell_type": "code",
   "execution_count": 101,
   "metadata": {},
   "outputs": [
    {
     "data": {
      "text/plain": [
       "18700"
      ]
     },
     "execution_count": 101,
     "metadata": {},
     "output_type": "execute_result"
    }
   ],
   "source": [
    "city_revenues.sum()\n",
    "# Expected:\n",
    "# 18700"
   ]
  },
  {
   "cell_type": "code",
   "execution_count": 102,
   "metadata": {},
   "outputs": [
    {
     "data": {
      "text/plain": [
       "8000"
      ]
     },
     "execution_count": 102,
     "metadata": {},
     "output_type": "execute_result"
    }
   ],
   "source": [
    "city_revenues.max()\n",
    "# Expected:\n",
    "# 8000"
   ]
  },
  {
   "cell_type": "markdown",
   "metadata": {},
   "source": [
    "### Aggregations for `DataFrame`"
   ]
  },
  {
   "cell_type": "markdown",
   "metadata": {},
   "source": [
    "The first method returns the total of `city_revenues`, while the second returns the max value. There are other methods you can use, like `.min()` and `.mean()`.\n",
    "\n",
    "Remember, a column of a `DataFrame` is actually a `Series` object. For this reason, you can use these same functions on the columns of nba:\n"
   ]
  },
  {
   "cell_type": "code",
   "execution_count": 103,
   "metadata": {},
   "outputs": [
    {
     "data": {
      "text/plain": [
       "pandas.core.series.Series"
      ]
     },
     "execution_count": 103,
     "metadata": {},
     "output_type": "execute_result"
    }
   ],
   "source": [
    "points = nba[\"pts\"]\n",
    "type(points)\n",
    "# Expected:\n",
    "# <class 'pandas.core.series.Series'>"
   ]
  },
  {
   "cell_type": "code",
   "execution_count": 104,
   "metadata": {},
   "outputs": [
    {
     "data": {
      "text/plain": [
       "12976235"
      ]
     },
     "execution_count": 104,
     "metadata": {},
     "output_type": "execute_result"
    }
   ],
   "source": [
    "points.sum()\n",
    "# Expected:\n",
    "# 12976235"
   ]
  },
  {
   "cell_type": "markdown",
   "metadata": {},
   "source": [
    "A `DataFrame` can have multiple columns, which introduces new possibilities for aggregations, like **grouping**:"
   ]
  },
  {
   "cell_type": "code",
   "execution_count": 109,
   "metadata": {},
   "outputs": [
    {
     "data": {
      "text/plain": [
       "fran_id\n",
       "Baltimore        79.70\n",
       "Bombers          71.46\n",
       "Bucks           103.70\n",
       "Bulls           101.53\n",
       "Capitols         76.93\n",
       "Cavaliers        99.85\n",
       "Celtics         104.47\n",
       "Clippers        101.93\n",
       "Colonels        111.63\n",
       "Condors         115.45\n",
       "Denver           77.71\n",
       "Falcons          63.28\n",
       "Floridians      112.65\n",
       "Grizzlies        95.16\n",
       "Hawks           101.81\n",
       "Heat             96.63\n",
       "Hornets          94.51\n",
       "Huskies          66.58\n",
       "Ironmen          61.23\n",
       "Jazz            102.15\n",
       "Jets             74.70\n",
       "Kings           103.97\n",
       "Knicks          100.97\n",
       "Lakers          105.82\n",
       "Magic            99.43\n",
       "Mavericks       102.63\n",
       "Nets            101.76\n",
       "Nuggets         108.20\n",
       "Olympians        81.08\n",
       "Pacers          103.69\n",
       "Packers          86.01\n",
       "Pelicans         97.96\n",
       "Pistons         101.37\n",
       "Raptors          96.92\n",
       "Rebels           71.02\n",
       "Redskins         82.65\n",
       "Rockets         104.12\n",
       "Sails           109.78\n",
       "Sixers          103.81\n",
       "Sounds          108.44\n",
       "Spirits         110.52\n",
       "Spurs           105.32\n",
       "Squires         114.05\n",
       "Stags            78.45\n",
       "Stars           112.35\n",
       "Steamrollers     73.64\n",
       "Suns            107.23\n",
       "Thunder         104.77\n",
       "Timberwolves     97.46\n",
       "Trailblazers    104.06\n",
       "Warriors        104.51\n",
       "Waterloo         79.37\n",
       "Wizards         103.62\n",
       "Name: pts, dtype: float64"
      ]
     },
     "execution_count": 109,
     "metadata": {},
     "output_type": "execute_result"
    }
   ],
   "source": [
    "nba.groupby(\"fran_id\",sort=True)[\"pts\"].mean()\n",
    "# Expected:\n",
    "# fran_id\n",
    "# Huskies           3995\n",
    "# Knicks          582497\n",
    "# Stags            20398\n",
    "# Falcons           3797\n",
    "# Capitols         22387"
   ]
  },
  {
   "cell_type": "markdown",
   "metadata": {},
   "source": [
    "By default, Pandas sorts the group keys during the call to `.groupby()`. If you don’t want to sort, then pass `sort=False`. This parameter can lead to performance gains."
   ]
  },
  {
   "cell_type": "markdown",
   "metadata": {},
   "source": [
    "You can also group by multiple columns:"
   ]
  },
  {
   "cell_type": "code",
   "execution_count": 107,
   "metadata": {},
   "outputs": [
    {
     "data": {
      "text/plain": [
       "fran_id  year_id  game_result\n",
       "Spurs    2011     L              25\n",
       "                  W              63\n",
       "         2012     L              20\n",
       "                  W              60\n",
       "         2013     L              30\n",
       "                  W              73\n",
       "         2014     L              27\n",
       "                  W              78\n",
       "         2015     L              31\n",
       "                  W              58\n",
       "Name: game_id, dtype: int64"
      ]
     },
     "execution_count": 107,
     "metadata": {},
     "output_type": "execute_result"
    }
   ],
   "source": [
    "nba[\n",
    "    (nba[\"fran_id\"] == \"Spurs\") &\n",
    "    (nba[\"year_id\"] > 2010)\n",
    "].groupby([\"fran_id\",\"year_id\", \"game_result\"])[\"game_id\"].count()\n",
    "# Expected:\n",
    "# year_id  game_result\n",
    "# 2011     L              25\n",
    "# W              63\n",
    "# 2012     L              20\n",
    "# W              60\n",
    "# 2013     L              30\n",
    "# W              73\n",
    "# 2014     L              27\n",
    "# W              78\n",
    "# 2015     L              31\n",
    "# W              58\n",
    "# Name: game_id, dtype: int64"
   ]
  },
  {
   "cell_type": "markdown",
   "metadata": {},
   "source": [
    "#### Exercise\n",
    "\n",
    "Let's have a look at the Golden State Warriors' season in 2014-15 (year_id: 2015). How many wins and losses did they score during the regular season and the playoffs?"
   ]
  },
  {
   "cell_type": "code",
   "execution_count": 117,
   "metadata": {},
   "outputs": [
    {
     "data": {
      "text/plain": [
       "fran_id   is_playoffs  game_result\n",
       "Warriors  0            L              15\n",
       "                       W              67\n",
       "          1            L               5\n",
       "                       W              16\n",
       "Name: game_id, dtype: int64"
      ]
     },
     "execution_count": 117,
     "metadata": {},
     "output_type": "execute_result"
    }
   ],
   "source": [
    "# Mimic the previous query re Spurs' years > 2010, \n",
    "#  grouping by 'is_playoffs' instead of 'year_id'\n",
    "#   and count() the result\n",
    "nba[\n",
    "    (nba[\"fran_id\"] == \"Warriors\") &\n",
    "    (nba[\"year_id\"] == 2015)\n",
    "].groupby([\"fran_id\",'is_playoffs','game_result'])[\"game_id\"].count()"
   ]
  },
  {
   "cell_type": "markdown",
   "metadata": {},
   "source": [
    "In the examples above, you’ve only scratched the surface of the aggregation functions that are available to you in the Pandas Python library. "
   ]
  },
  {
   "cell_type": "markdown",
   "metadata": {},
   "source": [
    "# 8. Manipulating Columns"
   ]
  },
  {
   "cell_type": "markdown",
   "metadata": {},
   "source": [
    "You’ll need to know how to **manipulate** your dataset’s columns in different phases of the data analysis process. You can add and drop columns as part of the initial data cleaning phase, or later based on the insights of your analysis.\n",
    "\n",
    "Create a copy of your original `DataFrame` to work with:"
   ]
  },
  {
   "cell_type": "code",
   "execution_count": 118,
   "metadata": {},
   "outputs": [
    {
     "data": {
      "text/plain": [
       "(126314, 23)"
      ]
     },
     "execution_count": 118,
     "metadata": {},
     "output_type": "execute_result"
    }
   ],
   "source": [
    "df = nba.copy()\n",
    "df.shape\n",
    "# Expected:\n",
    "# (126314, 23)"
   ]
  },
  {
   "cell_type": "markdown",
   "metadata": {},
   "source": [
    "You can define new columns based on the existing ones:"
   ]
  },
  {
   "cell_type": "code",
   "execution_count": 119,
   "metadata": {},
   "outputs": [
    {
     "data": {
      "text/plain": [
       "(126314, 24)"
      ]
     },
     "execution_count": 119,
     "metadata": {},
     "output_type": "execute_result"
    }
   ],
   "source": [
    "df[\"difference\"] = df.pts - df.opp_pts\n",
    "df.shape\n",
    "# Expected:\n",
    "# (126314, 24)"
   ]
  },
  {
   "cell_type": "code",
   "execution_count": 120,
   "metadata": {},
   "outputs": [
    {
     "data": {
      "text/html": [
       "<div>\n",
       "<style scoped>\n",
       "    .dataframe tbody tr th:only-of-type {\n",
       "        vertical-align: middle;\n",
       "    }\n",
       "\n",
       "    .dataframe tbody tr th {\n",
       "        vertical-align: top;\n",
       "    }\n",
       "\n",
       "    .dataframe thead th {\n",
       "        text-align: right;\n",
       "    }\n",
       "</style>\n",
       "<table border=\"1\" class=\"dataframe\">\n",
       "  <thead>\n",
       "    <tr style=\"text-align: right;\">\n",
       "      <th></th>\n",
       "      <th>gameorder</th>\n",
       "      <th>game_id</th>\n",
       "      <th>lg_id</th>\n",
       "      <th>_iscopy</th>\n",
       "      <th>year_id</th>\n",
       "      <th>date_game</th>\n",
       "      <th>seasongame</th>\n",
       "      <th>is_playoffs</th>\n",
       "      <th>team_id</th>\n",
       "      <th>fran_id</th>\n",
       "      <th>pts</th>\n",
       "      <th>elo_i</th>\n",
       "      <th>elo_n</th>\n",
       "      <th>win_equiv</th>\n",
       "      <th>opp_id</th>\n",
       "      <th>opp_fran</th>\n",
       "      <th>opp_pts</th>\n",
       "      <th>opp_elo_i</th>\n",
       "      <th>opp_elo_n</th>\n",
       "      <th>game_location</th>\n",
       "      <th>game_result</th>\n",
       "      <th>forecast</th>\n",
       "      <th>notes</th>\n",
       "      <th>difference</th>\n",
       "    </tr>\n",
       "  </thead>\n",
       "  <tbody>\n",
       "    <tr>\n",
       "      <th>0</th>\n",
       "      <td>1</td>\n",
       "      <td>194611010TRH</td>\n",
       "      <td>NBA</td>\n",
       "      <td>0</td>\n",
       "      <td>1947</td>\n",
       "      <td>11/1/1946</td>\n",
       "      <td>1</td>\n",
       "      <td>0</td>\n",
       "      <td>TRH</td>\n",
       "      <td>Huskies</td>\n",
       "      <td>66</td>\n",
       "      <td>1300.00</td>\n",
       "      <td>1293.28</td>\n",
       "      <td>40.29</td>\n",
       "      <td>NYK</td>\n",
       "      <td>Knicks</td>\n",
       "      <td>68</td>\n",
       "      <td>1300.00</td>\n",
       "      <td>1306.72</td>\n",
       "      <td>H</td>\n",
       "      <td>L</td>\n",
       "      <td>0.64</td>\n",
       "      <td>NaN</td>\n",
       "      <td>-2</td>\n",
       "    </tr>\n",
       "    <tr>\n",
       "      <th>1</th>\n",
       "      <td>1</td>\n",
       "      <td>194611010TRH</td>\n",
       "      <td>NBA</td>\n",
       "      <td>1</td>\n",
       "      <td>1947</td>\n",
       "      <td>11/1/1946</td>\n",
       "      <td>1</td>\n",
       "      <td>0</td>\n",
       "      <td>NYK</td>\n",
       "      <td>Knicks</td>\n",
       "      <td>68</td>\n",
       "      <td>1300.00</td>\n",
       "      <td>1306.72</td>\n",
       "      <td>41.71</td>\n",
       "      <td>TRH</td>\n",
       "      <td>Huskies</td>\n",
       "      <td>66</td>\n",
       "      <td>1300.00</td>\n",
       "      <td>1293.28</td>\n",
       "      <td>A</td>\n",
       "      <td>W</td>\n",
       "      <td>0.36</td>\n",
       "      <td>NaN</td>\n",
       "      <td>2</td>\n",
       "    </tr>\n",
       "    <tr>\n",
       "      <th>2</th>\n",
       "      <td>2</td>\n",
       "      <td>194611020CHS</td>\n",
       "      <td>NBA</td>\n",
       "      <td>0</td>\n",
       "      <td>1947</td>\n",
       "      <td>11/2/1946</td>\n",
       "      <td>1</td>\n",
       "      <td>0</td>\n",
       "      <td>CHS</td>\n",
       "      <td>Stags</td>\n",
       "      <td>63</td>\n",
       "      <td>1300.00</td>\n",
       "      <td>1309.65</td>\n",
       "      <td>42.01</td>\n",
       "      <td>NYK</td>\n",
       "      <td>Knicks</td>\n",
       "      <td>47</td>\n",
       "      <td>1306.72</td>\n",
       "      <td>1297.07</td>\n",
       "      <td>H</td>\n",
       "      <td>W</td>\n",
       "      <td>0.63</td>\n",
       "      <td>NaN</td>\n",
       "      <td>16</td>\n",
       "    </tr>\n",
       "    <tr>\n",
       "      <th>3</th>\n",
       "      <td>2</td>\n",
       "      <td>194611020CHS</td>\n",
       "      <td>NBA</td>\n",
       "      <td>1</td>\n",
       "      <td>1947</td>\n",
       "      <td>11/2/1946</td>\n",
       "      <td>2</td>\n",
       "      <td>0</td>\n",
       "      <td>NYK</td>\n",
       "      <td>Knicks</td>\n",
       "      <td>47</td>\n",
       "      <td>1306.72</td>\n",
       "      <td>1297.07</td>\n",
       "      <td>40.69</td>\n",
       "      <td>CHS</td>\n",
       "      <td>Stags</td>\n",
       "      <td>63</td>\n",
       "      <td>1300.00</td>\n",
       "      <td>1309.65</td>\n",
       "      <td>A</td>\n",
       "      <td>L</td>\n",
       "      <td>0.37</td>\n",
       "      <td>NaN</td>\n",
       "      <td>-16</td>\n",
       "    </tr>\n",
       "    <tr>\n",
       "      <th>4</th>\n",
       "      <td>3</td>\n",
       "      <td>194611020DTF</td>\n",
       "      <td>NBA</td>\n",
       "      <td>0</td>\n",
       "      <td>1947</td>\n",
       "      <td>11/2/1946</td>\n",
       "      <td>1</td>\n",
       "      <td>0</td>\n",
       "      <td>DTF</td>\n",
       "      <td>Falcons</td>\n",
       "      <td>33</td>\n",
       "      <td>1300.00</td>\n",
       "      <td>1279.62</td>\n",
       "      <td>38.86</td>\n",
       "      <td>WSC</td>\n",
       "      <td>Capitols</td>\n",
       "      <td>50</td>\n",
       "      <td>1300.00</td>\n",
       "      <td>1320.38</td>\n",
       "      <td>H</td>\n",
       "      <td>L</td>\n",
       "      <td>0.64</td>\n",
       "      <td>NaN</td>\n",
       "      <td>-17</td>\n",
       "    </tr>\n",
       "    <tr>\n",
       "      <th>...</th>\n",
       "      <td>...</td>\n",
       "      <td>...</td>\n",
       "      <td>...</td>\n",
       "      <td>...</td>\n",
       "      <td>...</td>\n",
       "      <td>...</td>\n",
       "      <td>...</td>\n",
       "      <td>...</td>\n",
       "      <td>...</td>\n",
       "      <td>...</td>\n",
       "      <td>...</td>\n",
       "      <td>...</td>\n",
       "      <td>...</td>\n",
       "      <td>...</td>\n",
       "      <td>...</td>\n",
       "      <td>...</td>\n",
       "      <td>...</td>\n",
       "      <td>...</td>\n",
       "      <td>...</td>\n",
       "      <td>...</td>\n",
       "      <td>...</td>\n",
       "      <td>...</td>\n",
       "      <td>...</td>\n",
       "      <td>...</td>\n",
       "    </tr>\n",
       "    <tr>\n",
       "      <th>126309</th>\n",
       "      <td>63155</td>\n",
       "      <td>201506110CLE</td>\n",
       "      <td>NBA</td>\n",
       "      <td>0</td>\n",
       "      <td>2015</td>\n",
       "      <td>6/11/2015</td>\n",
       "      <td>100</td>\n",
       "      <td>1</td>\n",
       "      <td>CLE</td>\n",
       "      <td>Cavaliers</td>\n",
       "      <td>82</td>\n",
       "      <td>1723.41</td>\n",
       "      <td>1704.39</td>\n",
       "      <td>60.31</td>\n",
       "      <td>GSW</td>\n",
       "      <td>Warriors</td>\n",
       "      <td>103</td>\n",
       "      <td>1790.96</td>\n",
       "      <td>1809.98</td>\n",
       "      <td>H</td>\n",
       "      <td>L</td>\n",
       "      <td>0.55</td>\n",
       "      <td>NaN</td>\n",
       "      <td>-21</td>\n",
       "    </tr>\n",
       "    <tr>\n",
       "      <th>126310</th>\n",
       "      <td>63156</td>\n",
       "      <td>201506140GSW</td>\n",
       "      <td>NBA</td>\n",
       "      <td>0</td>\n",
       "      <td>2015</td>\n",
       "      <td>6/14/2015</td>\n",
       "      <td>102</td>\n",
       "      <td>1</td>\n",
       "      <td>GSW</td>\n",
       "      <td>Warriors</td>\n",
       "      <td>104</td>\n",
       "      <td>1809.98</td>\n",
       "      <td>1813.63</td>\n",
       "      <td>68.01</td>\n",
       "      <td>CLE</td>\n",
       "      <td>Cavaliers</td>\n",
       "      <td>91</td>\n",
       "      <td>1704.39</td>\n",
       "      <td>1700.74</td>\n",
       "      <td>H</td>\n",
       "      <td>W</td>\n",
       "      <td>0.77</td>\n",
       "      <td>NaN</td>\n",
       "      <td>13</td>\n",
       "    </tr>\n",
       "    <tr>\n",
       "      <th>126311</th>\n",
       "      <td>63156</td>\n",
       "      <td>201506140GSW</td>\n",
       "      <td>NBA</td>\n",
       "      <td>1</td>\n",
       "      <td>2015</td>\n",
       "      <td>6/14/2015</td>\n",
       "      <td>101</td>\n",
       "      <td>1</td>\n",
       "      <td>CLE</td>\n",
       "      <td>Cavaliers</td>\n",
       "      <td>91</td>\n",
       "      <td>1704.39</td>\n",
       "      <td>1700.74</td>\n",
       "      <td>60.01</td>\n",
       "      <td>GSW</td>\n",
       "      <td>Warriors</td>\n",
       "      <td>104</td>\n",
       "      <td>1809.98</td>\n",
       "      <td>1813.63</td>\n",
       "      <td>A</td>\n",
       "      <td>L</td>\n",
       "      <td>0.23</td>\n",
       "      <td>NaN</td>\n",
       "      <td>-13</td>\n",
       "    </tr>\n",
       "    <tr>\n",
       "      <th>126312</th>\n",
       "      <td>63157</td>\n",
       "      <td>201506170CLE</td>\n",
       "      <td>NBA</td>\n",
       "      <td>0</td>\n",
       "      <td>2015</td>\n",
       "      <td>6/16/2015</td>\n",
       "      <td>102</td>\n",
       "      <td>1</td>\n",
       "      <td>CLE</td>\n",
       "      <td>Cavaliers</td>\n",
       "      <td>97</td>\n",
       "      <td>1700.74</td>\n",
       "      <td>1692.09</td>\n",
       "      <td>59.29</td>\n",
       "      <td>GSW</td>\n",
       "      <td>Warriors</td>\n",
       "      <td>105</td>\n",
       "      <td>1813.63</td>\n",
       "      <td>1822.29</td>\n",
       "      <td>H</td>\n",
       "      <td>L</td>\n",
       "      <td>0.48</td>\n",
       "      <td>NaN</td>\n",
       "      <td>-8</td>\n",
       "    </tr>\n",
       "    <tr>\n",
       "      <th>126313</th>\n",
       "      <td>63157</td>\n",
       "      <td>201506170CLE</td>\n",
       "      <td>NBA</td>\n",
       "      <td>1</td>\n",
       "      <td>2015</td>\n",
       "      <td>6/16/2015</td>\n",
       "      <td>103</td>\n",
       "      <td>1</td>\n",
       "      <td>GSW</td>\n",
       "      <td>Warriors</td>\n",
       "      <td>105</td>\n",
       "      <td>1813.63</td>\n",
       "      <td>1822.29</td>\n",
       "      <td>68.52</td>\n",
       "      <td>CLE</td>\n",
       "      <td>Cavaliers</td>\n",
       "      <td>97</td>\n",
       "      <td>1700.74</td>\n",
       "      <td>1692.09</td>\n",
       "      <td>A</td>\n",
       "      <td>W</td>\n",
       "      <td>0.52</td>\n",
       "      <td>NaN</td>\n",
       "      <td>8</td>\n",
       "    </tr>\n",
       "  </tbody>\n",
       "</table>\n",
       "<p>126314 rows × 24 columns</p>\n",
       "</div>"
      ],
      "text/plain": [
       "        gameorder       game_id lg_id  _iscopy  year_id  date_game  \\\n",
       "0               1  194611010TRH   NBA        0     1947  11/1/1946   \n",
       "1               1  194611010TRH   NBA        1     1947  11/1/1946   \n",
       "2               2  194611020CHS   NBA        0     1947  11/2/1946   \n",
       "3               2  194611020CHS   NBA        1     1947  11/2/1946   \n",
       "4               3  194611020DTF   NBA        0     1947  11/2/1946   \n",
       "...           ...           ...   ...      ...      ...        ...   \n",
       "126309      63155  201506110CLE   NBA        0     2015  6/11/2015   \n",
       "126310      63156  201506140GSW   NBA        0     2015  6/14/2015   \n",
       "126311      63156  201506140GSW   NBA        1     2015  6/14/2015   \n",
       "126312      63157  201506170CLE   NBA        0     2015  6/16/2015   \n",
       "126313      63157  201506170CLE   NBA        1     2015  6/16/2015   \n",
       "\n",
       "        seasongame  is_playoffs team_id    fran_id  pts    elo_i    elo_n  \\\n",
       "0                1            0     TRH    Huskies   66  1300.00  1293.28   \n",
       "1                1            0     NYK     Knicks   68  1300.00  1306.72   \n",
       "2                1            0     CHS      Stags   63  1300.00  1309.65   \n",
       "3                2            0     NYK     Knicks   47  1306.72  1297.07   \n",
       "4                1            0     DTF    Falcons   33  1300.00  1279.62   \n",
       "...            ...          ...     ...        ...  ...      ...      ...   \n",
       "126309         100            1     CLE  Cavaliers   82  1723.41  1704.39   \n",
       "126310         102            1     GSW   Warriors  104  1809.98  1813.63   \n",
       "126311         101            1     CLE  Cavaliers   91  1704.39  1700.74   \n",
       "126312         102            1     CLE  Cavaliers   97  1700.74  1692.09   \n",
       "126313         103            1     GSW   Warriors  105  1813.63  1822.29   \n",
       "\n",
       "        win_equiv opp_id   opp_fran  opp_pts  opp_elo_i  opp_elo_n  \\\n",
       "0           40.29    NYK     Knicks       68    1300.00    1306.72   \n",
       "1           41.71    TRH    Huskies       66    1300.00    1293.28   \n",
       "2           42.01    NYK     Knicks       47    1306.72    1297.07   \n",
       "3           40.69    CHS      Stags       63    1300.00    1309.65   \n",
       "4           38.86    WSC   Capitols       50    1300.00    1320.38   \n",
       "...           ...    ...        ...      ...        ...        ...   \n",
       "126309      60.31    GSW   Warriors      103    1790.96    1809.98   \n",
       "126310      68.01    CLE  Cavaliers       91    1704.39    1700.74   \n",
       "126311      60.01    GSW   Warriors      104    1809.98    1813.63   \n",
       "126312      59.29    GSW   Warriors      105    1813.63    1822.29   \n",
       "126313      68.52    CLE  Cavaliers       97    1700.74    1692.09   \n",
       "\n",
       "       game_location game_result  forecast notes  difference  \n",
       "0                  H           L      0.64   NaN          -2  \n",
       "1                  A           W      0.36   NaN           2  \n",
       "2                  H           W      0.63   NaN          16  \n",
       "3                  A           L      0.37   NaN         -16  \n",
       "4                  H           L      0.64   NaN         -17  \n",
       "...              ...         ...       ...   ...         ...  \n",
       "126309             H           L      0.55   NaN         -21  \n",
       "126310             H           W      0.77   NaN          13  \n",
       "126311             A           L      0.23   NaN         -13  \n",
       "126312             H           L      0.48   NaN          -8  \n",
       "126313             A           W      0.52   NaN           8  \n",
       "\n",
       "[126314 rows x 24 columns]"
      ]
     },
     "execution_count": 120,
     "metadata": {},
     "output_type": "execute_result"
    }
   ],
   "source": [
    "df"
   ]
  },
  {
   "cell_type": "markdown",
   "metadata": {},
   "source": [
    "Here, you used the `\"pts\"` and `\"opp_pts\"` columns to create a new one called `\"difference\"`. This new column has the same functions as the old ones:"
   ]
  },
  {
   "cell_type": "code",
   "execution_count": 121,
   "metadata": {},
   "outputs": [
    {
     "data": {
      "text/plain": [
       "68"
      ]
     },
     "execution_count": 121,
     "metadata": {},
     "output_type": "execute_result"
    }
   ],
   "source": [
    "df[\"difference\"].max()\n",
    "# Expected:\n",
    "# 68"
   ]
  },
  {
   "cell_type": "markdown",
   "metadata": {},
   "source": [
    "Here, you used an aggregation function `.max()` to find the largest value of your new column.\n",
    "\n",
    "You can also rename the columns of your dataset. It seems that `\"game_result\"` and `\"game_location\"` are too verbose, so go ahead and rename them now:"
   ]
  },
  {
   "cell_type": "code",
   "execution_count": 122,
   "metadata": {},
   "outputs": [
    {
     "name": "stdout",
     "output_type": "stream",
     "text": [
      "<class 'pandas.core.frame.DataFrame'>\n",
      "RangeIndex: 126314 entries, 0 to 126313\n",
      "Data columns (total 24 columns):\n",
      " #   Column       Non-Null Count   Dtype  \n",
      "---  ------       --------------   -----  \n",
      " 0   gameorder    126314 non-null  int64  \n",
      " 1   game_id      126314 non-null  object \n",
      " 2   lg_id        126314 non-null  object \n",
      " 3   _iscopy      126314 non-null  int64  \n",
      " 4   year_id      126314 non-null  int64  \n",
      " 5   date_game    126314 non-null  object \n",
      " 6   seasongame   126314 non-null  int64  \n",
      " 7   is_playoffs  126314 non-null  int64  \n",
      " 8   team_id      126314 non-null  object \n",
      " 9   fran_id      126314 non-null  object \n",
      " 10  pts          126314 non-null  int64  \n",
      " 11  elo_i        126314 non-null  float64\n",
      " 12  elo_n        126314 non-null  float64\n",
      " 13  win_equiv    126314 non-null  float64\n",
      " 14  opp_id       126314 non-null  object \n",
      " 15  opp_fran     126314 non-null  object \n",
      " 16  opp_pts      126314 non-null  int64  \n",
      " 17  opp_elo_i    126314 non-null  float64\n",
      " 18  opp_elo_n    126314 non-null  float64\n",
      " 19  location     126314 non-null  object \n",
      " 20  result       126314 non-null  object \n",
      " 21  forecast     126314 non-null  float64\n",
      " 22  notes        5424 non-null    object \n",
      " 23  difference   126314 non-null  int64  \n",
      "dtypes: float64(6), int64(8), object(10)\n",
      "memory usage: 23.1+ MB\n"
     ]
    }
   ],
   "source": [
    "renamed_df = df.rename(\n",
    "    columns={\"game_result\": \"result\", \"game_location\": \"location\"}\n",
    ")\n",
    "renamed_df.info()\n",
    "# Expected:\n",
    "# <class 'pandas.core.frame.DataFrame'>\n",
    "# RangeIndex: 126314 entries, 0 to 126313\n",
    "# Data columns (total 24 columns):\n",
    "# gameorder      126314 non-null int64\n",
    "# ...\n",
    "# location       126314 non-null object\n",
    "# result         126314 non-null object\n",
    "# forecast       126314 non-null float64\n",
    "# notes          5424 non-null object\n",
    "# difference     126314 non-null int64\n",
    "# dtypes: float64(6), int64(8), object(10)\n",
    "# memory usage: 23.1+ MB"
   ]
  },
  {
   "cell_type": "markdown",
   "metadata": {},
   "source": [
    "Note that there’s a new object, `renamed_df`. Like several other data manipulation methods, `.rename()` returns a new `DataFrame` by default. If you want to manipulate the original `DataFrame` directly, then `.rename()` also provides an inplace parameter that you can set to `True`.\n",
    "\n",
    "Your dataset might contain columns that you don’t need. For example, Elo ratings may be a fascinating concept to some, but you won’t analyze them in this tutorial. You can delete the four columns related to Elo:"
   ]
  },
  {
   "cell_type": "code",
   "execution_count": 123,
   "metadata": {},
   "outputs": [
    {
     "data": {
      "text/plain": [
       "(126314, 24)"
      ]
     },
     "execution_count": 123,
     "metadata": {},
     "output_type": "execute_result"
    }
   ],
   "source": [
    "df.shape\n",
    "# Expected:\n",
    "# (126314, 24)"
   ]
  },
  {
   "cell_type": "code",
   "execution_count": 124,
   "metadata": {},
   "outputs": [
    {
     "data": {
      "text/plain": [
       "(126314, 20)"
      ]
     },
     "execution_count": 124,
     "metadata": {},
     "output_type": "execute_result"
    }
   ],
   "source": [
    "elo_columns = [\"elo_i\", \"elo_n\", \"opp_elo_i\", \"opp_elo_n\"]\n",
    "df.drop(elo_columns, inplace=True, axis=1)\n",
    "df.shape\n",
    "# Expected:\n",
    "# (126314, 20)"
   ]
  },
  {
   "cell_type": "markdown",
   "metadata": {},
   "source": [
    "Remember, you added the new column `\"difference\"` in a previous example, bringing the total number of columns to 24. When you remove the four Elo columns, the total number of columns drops to 20."
   ]
  },
  {
   "cell_type": "markdown",
   "metadata": {},
   "source": [
    "# 9. Specifying Column Data Types"
   ]
  },
  {
   "cell_type": "markdown",
   "metadata": {},
   "source": [
    "When you create a new `DataFrame`, either by calling a constructor or reading a CSV file, Pandas assigns a **data type** to each column based on its values. While it does a pretty good job, it’s not perfect. If you choose the right data type for your columns upfront, then you can significantly improve your code’s performance.\n",
    "\n",
    "Take another look at the columns of the `nba` dataset:\n"
   ]
  },
  {
   "cell_type": "code",
   "execution_count": 125,
   "metadata": {},
   "outputs": [
    {
     "name": "stdout",
     "output_type": "stream",
     "text": [
      "<class 'pandas.core.frame.DataFrame'>\n",
      "RangeIndex: 126314 entries, 0 to 126313\n",
      "Data columns (total 20 columns):\n",
      " #   Column         Non-Null Count   Dtype  \n",
      "---  ------         --------------   -----  \n",
      " 0   gameorder      126314 non-null  int64  \n",
      " 1   game_id        126314 non-null  object \n",
      " 2   lg_id          126314 non-null  object \n",
      " 3   _iscopy        126314 non-null  int64  \n",
      " 4   year_id        126314 non-null  int64  \n",
      " 5   date_game      126314 non-null  object \n",
      " 6   seasongame     126314 non-null  int64  \n",
      " 7   is_playoffs    126314 non-null  int64  \n",
      " 8   team_id        126314 non-null  object \n",
      " 9   fran_id        126314 non-null  object \n",
      " 10  pts            126314 non-null  int64  \n",
      " 11  win_equiv      126314 non-null  float64\n",
      " 12  opp_id         126314 non-null  object \n",
      " 13  opp_fran       126314 non-null  object \n",
      " 14  opp_pts        126314 non-null  int64  \n",
      " 15  game_location  126314 non-null  object \n",
      " 16  game_result    126314 non-null  object \n",
      " 17  forecast       126314 non-null  float64\n",
      " 18  notes          5424 non-null    object \n",
      " 19  difference     126314 non-null  int64  \n",
      "dtypes: float64(2), int64(8), object(10)\n",
      "memory usage: 19.3+ MB\n"
     ]
    }
   ],
   "source": [
    "df.info()"
   ]
  },
  {
   "cell_type": "markdown",
   "metadata": {},
   "source": [
    "You’ll see the same output as before.\n",
    "\n",
    "Ten of your columns have the data type `object`. Most of these `object` columns contain arbitrary text, but there are also some candidates for data type conversion. For example, take a look at the `date_game` column:"
   ]
  },
  {
   "cell_type": "code",
   "execution_count": 126,
   "metadata": {},
   "outputs": [],
   "source": [
    "df[\"date_game\"] = pd.to_datetime(df[\"date_game\"])"
   ]
  },
  {
   "cell_type": "markdown",
   "metadata": {},
   "source": [
    "Here, you use `.to_datetime()` to specify all game dates as datetime objects.\n",
    "Other columns contain text that are a bit more structured. The `game_location` column can have only three different values:"
   ]
  },
  {
   "cell_type": "code",
   "execution_count": 127,
   "metadata": {},
   "outputs": [
    {
     "data": {
      "text/plain": [
       "Timestamp('1946-11-01 00:00:00')"
      ]
     },
     "execution_count": 127,
     "metadata": {},
     "output_type": "execute_result"
    }
   ],
   "source": [
    "df[\"date_game\"].min()"
   ]
  },
  {
   "cell_type": "code",
   "execution_count": 128,
   "metadata": {},
   "outputs": [
    {
     "data": {
      "text/plain": [
       "3"
      ]
     },
     "execution_count": 128,
     "metadata": {},
     "output_type": "execute_result"
    }
   ],
   "source": [
    "df[\"game_location\"].nunique()\n",
    "# Expected:\n",
    "# 3"
   ]
  },
  {
   "cell_type": "code",
   "execution_count": 129,
   "metadata": {},
   "outputs": [
    {
     "data": {
      "text/plain": [
       "\u001b[1;31mSignature:\u001b[0m \u001b[0mpd\u001b[0m\u001b[1;33m.\u001b[0m\u001b[0mSeries\u001b[0m\u001b[1;33m.\u001b[0m\u001b[0mnunique\u001b[0m\u001b[1;33m(\u001b[0m\u001b[0mself\u001b[0m\u001b[1;33m,\u001b[0m \u001b[0mdropna\u001b[0m\u001b[1;33m:\u001b[0m \u001b[0mbool\u001b[0m \u001b[1;33m=\u001b[0m \u001b[1;32mTrue\u001b[0m\u001b[1;33m)\u001b[0m \u001b[1;33m->\u001b[0m \u001b[0mint\u001b[0m\u001b[1;33m\u001b[0m\u001b[1;33m\u001b[0m\u001b[0m\n",
       "\u001b[1;31mDocstring:\u001b[0m\n",
       "Return number of unique elements in the object.\n",
       "\n",
       "Excludes NA values by default.\n",
       "\n",
       "Parameters\n",
       "----------\n",
       "dropna : bool, default True\n",
       "    Don't include NaN in the count.\n",
       "\n",
       "Returns\n",
       "-------\n",
       "int\n",
       "\n",
       "See Also\n",
       "--------\n",
       "DataFrame.nunique: Method nunique for DataFrame.\n",
       "Series.count: Count non-NA/null observations in the Series.\n",
       "\n",
       "Examples\n",
       "--------\n",
       ">>> s = pd.Series([1, 3, 5, 7, 7])\n",
       ">>> s\n",
       "0    1\n",
       "1    3\n",
       "2    5\n",
       "3    7\n",
       "4    7\n",
       "dtype: int64\n",
       "\n",
       ">>> s.nunique()\n",
       "4\n",
       "\u001b[1;31mFile:\u001b[0m      c:\\users\\shiva\\anaconda3\\lib\\site-packages\\pandas\\core\\base.py\n",
       "\u001b[1;31mType:\u001b[0m      function\n"
      ]
     },
     "metadata": {},
     "output_type": "display_data"
    }
   ],
   "source": [
    "# doc for above\n",
    "pd.Series.nunique?"
   ]
  },
  {
   "cell_type": "code",
   "execution_count": 130,
   "metadata": {},
   "outputs": [
    {
     "data": {
      "text/plain": [
       "A    63138\n",
       "H    63138\n",
       "N       38\n",
       "Name: game_location, dtype: int64"
      ]
     },
     "execution_count": 130,
     "metadata": {},
     "output_type": "execute_result"
    }
   ],
   "source": [
    "df[\"game_location\"].value_counts()\n",
    "# Expected:\n",
    "# A    63138\n",
    "# H    63138\n",
    "# N       38\n",
    "# Name: game_location, dtype: int64"
   ]
  },
  {
   "cell_type": "code",
   "execution_count": 131,
   "metadata": {},
   "outputs": [
    {
     "data": {
      "text/plain": [
       "\u001b[1;31mSignature:\u001b[0m\n",
       "\u001b[0mpd\u001b[0m\u001b[1;33m.\u001b[0m\u001b[0mSeries\u001b[0m\u001b[1;33m.\u001b[0m\u001b[0mvalue_counts\u001b[0m\u001b[1;33m(\u001b[0m\u001b[1;33m\n",
       "\u001b[0m    \u001b[0mself\u001b[0m\u001b[1;33m,\u001b[0m\u001b[1;33m\n",
       "\u001b[0m    \u001b[0mnormalize\u001b[0m\u001b[1;33m:\u001b[0m \u001b[0mbool\u001b[0m \u001b[1;33m=\u001b[0m \u001b[1;32mFalse\u001b[0m\u001b[1;33m,\u001b[0m\u001b[1;33m\n",
       "\u001b[0m    \u001b[0msort\u001b[0m\u001b[1;33m:\u001b[0m \u001b[0mbool\u001b[0m \u001b[1;33m=\u001b[0m \u001b[1;32mTrue\u001b[0m\u001b[1;33m,\u001b[0m\u001b[1;33m\n",
       "\u001b[0m    \u001b[0mascending\u001b[0m\u001b[1;33m:\u001b[0m \u001b[0mbool\u001b[0m \u001b[1;33m=\u001b[0m \u001b[1;32mFalse\u001b[0m\u001b[1;33m,\u001b[0m\u001b[1;33m\n",
       "\u001b[0m    \u001b[0mbins\u001b[0m\u001b[1;33m=\u001b[0m\u001b[1;32mNone\u001b[0m\u001b[1;33m,\u001b[0m\u001b[1;33m\n",
       "\u001b[0m    \u001b[0mdropna\u001b[0m\u001b[1;33m:\u001b[0m \u001b[0mbool\u001b[0m \u001b[1;33m=\u001b[0m \u001b[1;32mTrue\u001b[0m\u001b[1;33m,\u001b[0m\u001b[1;33m\n",
       "\u001b[0m\u001b[1;33m)\u001b[0m\u001b[1;33m\u001b[0m\u001b[1;33m\u001b[0m\u001b[0m\n",
       "\u001b[1;31mDocstring:\u001b[0m\n",
       "Return a Series containing counts of unique values.\n",
       "\n",
       "The resulting object will be in descending order so that the\n",
       "first element is the most frequently-occurring element.\n",
       "Excludes NA values by default.\n",
       "\n",
       "Parameters\n",
       "----------\n",
       "normalize : bool, default False\n",
       "    If True then the object returned will contain the relative\n",
       "    frequencies of the unique values.\n",
       "sort : bool, default True\n",
       "    Sort by frequencies.\n",
       "ascending : bool, default False\n",
       "    Sort in ascending order.\n",
       "bins : int, optional\n",
       "    Rather than count values, group them into half-open bins,\n",
       "    a convenience for ``pd.cut``, only works with numeric data.\n",
       "dropna : bool, default True\n",
       "    Don't include counts of NaN.\n",
       "\n",
       "Returns\n",
       "-------\n",
       "Series\n",
       "\n",
       "See Also\n",
       "--------\n",
       "Series.count: Number of non-NA elements in a Series.\n",
       "DataFrame.count: Number of non-NA elements in a DataFrame.\n",
       "DataFrame.value_counts: Equivalent method on DataFrames.\n",
       "\n",
       "Examples\n",
       "--------\n",
       ">>> index = pd.Index([3, 1, 2, 3, 4, np.nan])\n",
       ">>> index.value_counts()\n",
       "3.0    2\n",
       "2.0    1\n",
       "4.0    1\n",
       "1.0    1\n",
       "dtype: int64\n",
       "\n",
       "With `normalize` set to `True`, returns the relative frequency by\n",
       "dividing all values by the sum of values.\n",
       "\n",
       ">>> s = pd.Series([3, 1, 2, 3, 4, np.nan])\n",
       ">>> s.value_counts(normalize=True)\n",
       "3.0    0.4\n",
       "2.0    0.2\n",
       "4.0    0.2\n",
       "1.0    0.2\n",
       "dtype: float64\n",
       "\n",
       "**bins**\n",
       "\n",
       "Bins can be useful for going from a continuous variable to a\n",
       "categorical variable; instead of counting unique\n",
       "apparitions of values, divide the index in the specified\n",
       "number of half-open bins.\n",
       "\n",
       ">>> s.value_counts(bins=3)\n",
       "(0.996, 2.0]    2\n",
       "(2.0, 3.0]      2\n",
       "(3.0, 4.0]      1\n",
       "dtype: int64\n",
       "\n",
       "**dropna**\n",
       "\n",
       "With `dropna` set to `False` we can also see NaN index values.\n",
       "\n",
       ">>> s.value_counts(dropna=False)\n",
       "3.0    2\n",
       "2.0    1\n",
       "NaN    1\n",
       "4.0    1\n",
       "1.0    1\n",
       "dtype: int64\n",
       "\u001b[1;31mFile:\u001b[0m      c:\\users\\shiva\\anaconda3\\lib\\site-packages\\pandas\\core\\base.py\n",
       "\u001b[1;31mType:\u001b[0m      function\n"
      ]
     },
     "metadata": {},
     "output_type": "display_data"
    }
   ],
   "source": [
    "# doc for above\n",
    "pd.Series.value_counts?"
   ]
  },
  {
   "cell_type": "markdown",
   "metadata": {},
   "source": [
    "Which data type would you use in a relational database for such a column? You would probably not use a `varchar` type, but rather an `enum`. Pandas provides the **`Categorical`** data type for the same purpose:"
   ]
  },
  {
   "cell_type": "code",
   "execution_count": 132,
   "metadata": {},
   "outputs": [
    {
     "data": {
      "text/html": [
       "<div>\n",
       "<style scoped>\n",
       "    .dataframe tbody tr th:only-of-type {\n",
       "        vertical-align: middle;\n",
       "    }\n",
       "\n",
       "    .dataframe tbody tr th {\n",
       "        vertical-align: top;\n",
       "    }\n",
       "\n",
       "    .dataframe thead th {\n",
       "        text-align: right;\n",
       "    }\n",
       "</style>\n",
       "<table border=\"1\" class=\"dataframe\">\n",
       "  <thead>\n",
       "    <tr style=\"text-align: right;\">\n",
       "      <th></th>\n",
       "      <th>gameorder</th>\n",
       "      <th>game_id</th>\n",
       "      <th>lg_id</th>\n",
       "      <th>_iscopy</th>\n",
       "      <th>year_id</th>\n",
       "      <th>date_game</th>\n",
       "      <th>seasongame</th>\n",
       "      <th>is_playoffs</th>\n",
       "      <th>team_id</th>\n",
       "      <th>fran_id</th>\n",
       "      <th>pts</th>\n",
       "      <th>win_equiv</th>\n",
       "      <th>opp_id</th>\n",
       "      <th>opp_fran</th>\n",
       "      <th>opp_pts</th>\n",
       "      <th>game_location</th>\n",
       "      <th>game_result</th>\n",
       "      <th>forecast</th>\n",
       "      <th>notes</th>\n",
       "      <th>difference</th>\n",
       "    </tr>\n",
       "  </thead>\n",
       "  <tbody>\n",
       "    <tr>\n",
       "      <th>0</th>\n",
       "      <td>1</td>\n",
       "      <td>194611010TRH</td>\n",
       "      <td>NBA</td>\n",
       "      <td>0</td>\n",
       "      <td>1947</td>\n",
       "      <td>1946-11-01</td>\n",
       "      <td>1</td>\n",
       "      <td>0</td>\n",
       "      <td>TRH</td>\n",
       "      <td>Huskies</td>\n",
       "      <td>66</td>\n",
       "      <td>40.29</td>\n",
       "      <td>NYK</td>\n",
       "      <td>Knicks</td>\n",
       "      <td>68</td>\n",
       "      <td>H</td>\n",
       "      <td>L</td>\n",
       "      <td>0.64</td>\n",
       "      <td>NaN</td>\n",
       "      <td>-2</td>\n",
       "    </tr>\n",
       "    <tr>\n",
       "      <th>1</th>\n",
       "      <td>1</td>\n",
       "      <td>194611010TRH</td>\n",
       "      <td>NBA</td>\n",
       "      <td>1</td>\n",
       "      <td>1947</td>\n",
       "      <td>1946-11-01</td>\n",
       "      <td>1</td>\n",
       "      <td>0</td>\n",
       "      <td>NYK</td>\n",
       "      <td>Knicks</td>\n",
       "      <td>68</td>\n",
       "      <td>41.71</td>\n",
       "      <td>TRH</td>\n",
       "      <td>Huskies</td>\n",
       "      <td>66</td>\n",
       "      <td>A</td>\n",
       "      <td>W</td>\n",
       "      <td>0.36</td>\n",
       "      <td>NaN</td>\n",
       "      <td>2</td>\n",
       "    </tr>\n",
       "    <tr>\n",
       "      <th>2</th>\n",
       "      <td>2</td>\n",
       "      <td>194611020CHS</td>\n",
       "      <td>NBA</td>\n",
       "      <td>0</td>\n",
       "      <td>1947</td>\n",
       "      <td>1946-11-02</td>\n",
       "      <td>1</td>\n",
       "      <td>0</td>\n",
       "      <td>CHS</td>\n",
       "      <td>Stags</td>\n",
       "      <td>63</td>\n",
       "      <td>42.01</td>\n",
       "      <td>NYK</td>\n",
       "      <td>Knicks</td>\n",
       "      <td>47</td>\n",
       "      <td>H</td>\n",
       "      <td>W</td>\n",
       "      <td>0.63</td>\n",
       "      <td>NaN</td>\n",
       "      <td>16</td>\n",
       "    </tr>\n",
       "    <tr>\n",
       "      <th>3</th>\n",
       "      <td>2</td>\n",
       "      <td>194611020CHS</td>\n",
       "      <td>NBA</td>\n",
       "      <td>1</td>\n",
       "      <td>1947</td>\n",
       "      <td>1946-11-02</td>\n",
       "      <td>2</td>\n",
       "      <td>0</td>\n",
       "      <td>NYK</td>\n",
       "      <td>Knicks</td>\n",
       "      <td>47</td>\n",
       "      <td>40.69</td>\n",
       "      <td>CHS</td>\n",
       "      <td>Stags</td>\n",
       "      <td>63</td>\n",
       "      <td>A</td>\n",
       "      <td>L</td>\n",
       "      <td>0.37</td>\n",
       "      <td>NaN</td>\n",
       "      <td>-16</td>\n",
       "    </tr>\n",
       "    <tr>\n",
       "      <th>4</th>\n",
       "      <td>3</td>\n",
       "      <td>194611020DTF</td>\n",
       "      <td>NBA</td>\n",
       "      <td>0</td>\n",
       "      <td>1947</td>\n",
       "      <td>1946-11-02</td>\n",
       "      <td>1</td>\n",
       "      <td>0</td>\n",
       "      <td>DTF</td>\n",
       "      <td>Falcons</td>\n",
       "      <td>33</td>\n",
       "      <td>38.86</td>\n",
       "      <td>WSC</td>\n",
       "      <td>Capitols</td>\n",
       "      <td>50</td>\n",
       "      <td>H</td>\n",
       "      <td>L</td>\n",
       "      <td>0.64</td>\n",
       "      <td>NaN</td>\n",
       "      <td>-17</td>\n",
       "    </tr>\n",
       "    <tr>\n",
       "      <th>...</th>\n",
       "      <td>...</td>\n",
       "      <td>...</td>\n",
       "      <td>...</td>\n",
       "      <td>...</td>\n",
       "      <td>...</td>\n",
       "      <td>...</td>\n",
       "      <td>...</td>\n",
       "      <td>...</td>\n",
       "      <td>...</td>\n",
       "      <td>...</td>\n",
       "      <td>...</td>\n",
       "      <td>...</td>\n",
       "      <td>...</td>\n",
       "      <td>...</td>\n",
       "      <td>...</td>\n",
       "      <td>...</td>\n",
       "      <td>...</td>\n",
       "      <td>...</td>\n",
       "      <td>...</td>\n",
       "      <td>...</td>\n",
       "    </tr>\n",
       "    <tr>\n",
       "      <th>126309</th>\n",
       "      <td>63155</td>\n",
       "      <td>201506110CLE</td>\n",
       "      <td>NBA</td>\n",
       "      <td>0</td>\n",
       "      <td>2015</td>\n",
       "      <td>2015-06-11</td>\n",
       "      <td>100</td>\n",
       "      <td>1</td>\n",
       "      <td>CLE</td>\n",
       "      <td>Cavaliers</td>\n",
       "      <td>82</td>\n",
       "      <td>60.31</td>\n",
       "      <td>GSW</td>\n",
       "      <td>Warriors</td>\n",
       "      <td>103</td>\n",
       "      <td>H</td>\n",
       "      <td>L</td>\n",
       "      <td>0.55</td>\n",
       "      <td>NaN</td>\n",
       "      <td>-21</td>\n",
       "    </tr>\n",
       "    <tr>\n",
       "      <th>126310</th>\n",
       "      <td>63156</td>\n",
       "      <td>201506140GSW</td>\n",
       "      <td>NBA</td>\n",
       "      <td>0</td>\n",
       "      <td>2015</td>\n",
       "      <td>2015-06-14</td>\n",
       "      <td>102</td>\n",
       "      <td>1</td>\n",
       "      <td>GSW</td>\n",
       "      <td>Warriors</td>\n",
       "      <td>104</td>\n",
       "      <td>68.01</td>\n",
       "      <td>CLE</td>\n",
       "      <td>Cavaliers</td>\n",
       "      <td>91</td>\n",
       "      <td>H</td>\n",
       "      <td>W</td>\n",
       "      <td>0.77</td>\n",
       "      <td>NaN</td>\n",
       "      <td>13</td>\n",
       "    </tr>\n",
       "    <tr>\n",
       "      <th>126311</th>\n",
       "      <td>63156</td>\n",
       "      <td>201506140GSW</td>\n",
       "      <td>NBA</td>\n",
       "      <td>1</td>\n",
       "      <td>2015</td>\n",
       "      <td>2015-06-14</td>\n",
       "      <td>101</td>\n",
       "      <td>1</td>\n",
       "      <td>CLE</td>\n",
       "      <td>Cavaliers</td>\n",
       "      <td>91</td>\n",
       "      <td>60.01</td>\n",
       "      <td>GSW</td>\n",
       "      <td>Warriors</td>\n",
       "      <td>104</td>\n",
       "      <td>A</td>\n",
       "      <td>L</td>\n",
       "      <td>0.23</td>\n",
       "      <td>NaN</td>\n",
       "      <td>-13</td>\n",
       "    </tr>\n",
       "    <tr>\n",
       "      <th>126312</th>\n",
       "      <td>63157</td>\n",
       "      <td>201506170CLE</td>\n",
       "      <td>NBA</td>\n",
       "      <td>0</td>\n",
       "      <td>2015</td>\n",
       "      <td>2015-06-16</td>\n",
       "      <td>102</td>\n",
       "      <td>1</td>\n",
       "      <td>CLE</td>\n",
       "      <td>Cavaliers</td>\n",
       "      <td>97</td>\n",
       "      <td>59.29</td>\n",
       "      <td>GSW</td>\n",
       "      <td>Warriors</td>\n",
       "      <td>105</td>\n",
       "      <td>H</td>\n",
       "      <td>L</td>\n",
       "      <td>0.48</td>\n",
       "      <td>NaN</td>\n",
       "      <td>-8</td>\n",
       "    </tr>\n",
       "    <tr>\n",
       "      <th>126313</th>\n",
       "      <td>63157</td>\n",
       "      <td>201506170CLE</td>\n",
       "      <td>NBA</td>\n",
       "      <td>1</td>\n",
       "      <td>2015</td>\n",
       "      <td>2015-06-16</td>\n",
       "      <td>103</td>\n",
       "      <td>1</td>\n",
       "      <td>GSW</td>\n",
       "      <td>Warriors</td>\n",
       "      <td>105</td>\n",
       "      <td>68.52</td>\n",
       "      <td>CLE</td>\n",
       "      <td>Cavaliers</td>\n",
       "      <td>97</td>\n",
       "      <td>A</td>\n",
       "      <td>W</td>\n",
       "      <td>0.52</td>\n",
       "      <td>NaN</td>\n",
       "      <td>8</td>\n",
       "    </tr>\n",
       "  </tbody>\n",
       "</table>\n",
       "<p>126314 rows × 20 columns</p>\n",
       "</div>"
      ],
      "text/plain": [
       "        gameorder       game_id lg_id  _iscopy  year_id  date_game  \\\n",
       "0               1  194611010TRH   NBA        0     1947 1946-11-01   \n",
       "1               1  194611010TRH   NBA        1     1947 1946-11-01   \n",
       "2               2  194611020CHS   NBA        0     1947 1946-11-02   \n",
       "3               2  194611020CHS   NBA        1     1947 1946-11-02   \n",
       "4               3  194611020DTF   NBA        0     1947 1946-11-02   \n",
       "...           ...           ...   ...      ...      ...        ...   \n",
       "126309      63155  201506110CLE   NBA        0     2015 2015-06-11   \n",
       "126310      63156  201506140GSW   NBA        0     2015 2015-06-14   \n",
       "126311      63156  201506140GSW   NBA        1     2015 2015-06-14   \n",
       "126312      63157  201506170CLE   NBA        0     2015 2015-06-16   \n",
       "126313      63157  201506170CLE   NBA        1     2015 2015-06-16   \n",
       "\n",
       "        seasongame  is_playoffs team_id    fran_id  pts  win_equiv opp_id  \\\n",
       "0                1            0     TRH    Huskies   66      40.29    NYK   \n",
       "1                1            0     NYK     Knicks   68      41.71    TRH   \n",
       "2                1            0     CHS      Stags   63      42.01    NYK   \n",
       "3                2            0     NYK     Knicks   47      40.69    CHS   \n",
       "4                1            0     DTF    Falcons   33      38.86    WSC   \n",
       "...            ...          ...     ...        ...  ...        ...    ...   \n",
       "126309         100            1     CLE  Cavaliers   82      60.31    GSW   \n",
       "126310         102            1     GSW   Warriors  104      68.01    CLE   \n",
       "126311         101            1     CLE  Cavaliers   91      60.01    GSW   \n",
       "126312         102            1     CLE  Cavaliers   97      59.29    GSW   \n",
       "126313         103            1     GSW   Warriors  105      68.52    CLE   \n",
       "\n",
       "         opp_fran  opp_pts game_location game_result  forecast notes  \\\n",
       "0          Knicks       68             H           L      0.64   NaN   \n",
       "1         Huskies       66             A           W      0.36   NaN   \n",
       "2          Knicks       47             H           W      0.63   NaN   \n",
       "3           Stags       63             A           L      0.37   NaN   \n",
       "4        Capitols       50             H           L      0.64   NaN   \n",
       "...           ...      ...           ...         ...       ...   ...   \n",
       "126309   Warriors      103             H           L      0.55   NaN   \n",
       "126310  Cavaliers       91             H           W      0.77   NaN   \n",
       "126311   Warriors      104             A           L      0.23   NaN   \n",
       "126312   Warriors      105             H           L      0.48   NaN   \n",
       "126313  Cavaliers       97             A           W      0.52   NaN   \n",
       "\n",
       "        difference  \n",
       "0               -2  \n",
       "1                2  \n",
       "2               16  \n",
       "3              -16  \n",
       "4              -17  \n",
       "...            ...  \n",
       "126309         -21  \n",
       "126310          13  \n",
       "126311         -13  \n",
       "126312          -8  \n",
       "126313           8  \n",
       "\n",
       "[126314 rows x 20 columns]"
      ]
     },
     "execution_count": 132,
     "metadata": {},
     "output_type": "execute_result"
    }
   ],
   "source": [
    "df"
   ]
  },
  {
   "cell_type": "code",
   "execution_count": 133,
   "metadata": {},
   "outputs": [
    {
     "data": {
      "text/plain": [
       "CategoricalDtype(categories=['A', 'H', 'N'], ordered=False)"
      ]
     },
     "execution_count": 133,
     "metadata": {},
     "output_type": "execute_result"
    }
   ],
   "source": [
    "df[\"game_location\"] = pd.Categorical(df[\"game_location\"])\n",
    "df[\"game_location\"].dtype\n",
    "# Expected:\n",
    "# CategoricalDtype(categories=['A', 'H', 'N'], ordered=False)"
   ]
  },
  {
   "cell_type": "code",
   "execution_count": 135,
   "metadata": {
    "scrolled": true
   },
   "outputs": [
    {
     "data": {
      "text/html": [
       "<div>\n",
       "<style scoped>\n",
       "    .dataframe tbody tr th:only-of-type {\n",
       "        vertical-align: middle;\n",
       "    }\n",
       "\n",
       "    .dataframe tbody tr th {\n",
       "        vertical-align: top;\n",
       "    }\n",
       "\n",
       "    .dataframe thead th {\n",
       "        text-align: right;\n",
       "    }\n",
       "</style>\n",
       "<table border=\"1\" class=\"dataframe\">\n",
       "  <thead>\n",
       "    <tr style=\"text-align: right;\">\n",
       "      <th></th>\n",
       "      <th>gameorder</th>\n",
       "      <th>game_id</th>\n",
       "      <th>lg_id</th>\n",
       "      <th>_iscopy</th>\n",
       "      <th>year_id</th>\n",
       "      <th>date_game</th>\n",
       "      <th>seasongame</th>\n",
       "      <th>is_playoffs</th>\n",
       "      <th>team_id</th>\n",
       "      <th>fran_id</th>\n",
       "      <th>pts</th>\n",
       "      <th>win_equiv</th>\n",
       "      <th>opp_id</th>\n",
       "      <th>opp_fran</th>\n",
       "      <th>opp_pts</th>\n",
       "      <th>game_location</th>\n",
       "      <th>game_result</th>\n",
       "      <th>forecast</th>\n",
       "      <th>notes</th>\n",
       "      <th>difference</th>\n",
       "    </tr>\n",
       "  </thead>\n",
       "  <tbody>\n",
       "    <tr>\n",
       "      <th>0</th>\n",
       "      <td>1</td>\n",
       "      <td>194611010TRH</td>\n",
       "      <td>NBA</td>\n",
       "      <td>0</td>\n",
       "      <td>1947</td>\n",
       "      <td>1946-11-01</td>\n",
       "      <td>1</td>\n",
       "      <td>0</td>\n",
       "      <td>TRH</td>\n",
       "      <td>Huskies</td>\n",
       "      <td>66</td>\n",
       "      <td>40.29</td>\n",
       "      <td>NYK</td>\n",
       "      <td>Knicks</td>\n",
       "      <td>68</td>\n",
       "      <td>H</td>\n",
       "      <td>L</td>\n",
       "      <td>0.64</td>\n",
       "      <td>NaN</td>\n",
       "      <td>-2</td>\n",
       "    </tr>\n",
       "    <tr>\n",
       "      <th>1</th>\n",
       "      <td>1</td>\n",
       "      <td>194611010TRH</td>\n",
       "      <td>NBA</td>\n",
       "      <td>1</td>\n",
       "      <td>1947</td>\n",
       "      <td>1946-11-01</td>\n",
       "      <td>1</td>\n",
       "      <td>0</td>\n",
       "      <td>NYK</td>\n",
       "      <td>Knicks</td>\n",
       "      <td>68</td>\n",
       "      <td>41.71</td>\n",
       "      <td>TRH</td>\n",
       "      <td>Huskies</td>\n",
       "      <td>66</td>\n",
       "      <td>A</td>\n",
       "      <td>W</td>\n",
       "      <td>0.36</td>\n",
       "      <td>NaN</td>\n",
       "      <td>2</td>\n",
       "    </tr>\n",
       "    <tr>\n",
       "      <th>2</th>\n",
       "      <td>2</td>\n",
       "      <td>194611020CHS</td>\n",
       "      <td>NBA</td>\n",
       "      <td>0</td>\n",
       "      <td>1947</td>\n",
       "      <td>1946-11-02</td>\n",
       "      <td>1</td>\n",
       "      <td>0</td>\n",
       "      <td>CHS</td>\n",
       "      <td>Stags</td>\n",
       "      <td>63</td>\n",
       "      <td>42.01</td>\n",
       "      <td>NYK</td>\n",
       "      <td>Knicks</td>\n",
       "      <td>47</td>\n",
       "      <td>H</td>\n",
       "      <td>W</td>\n",
       "      <td>0.63</td>\n",
       "      <td>NaN</td>\n",
       "      <td>16</td>\n",
       "    </tr>\n",
       "    <tr>\n",
       "      <th>3</th>\n",
       "      <td>2</td>\n",
       "      <td>194611020CHS</td>\n",
       "      <td>NBA</td>\n",
       "      <td>1</td>\n",
       "      <td>1947</td>\n",
       "      <td>1946-11-02</td>\n",
       "      <td>2</td>\n",
       "      <td>0</td>\n",
       "      <td>NYK</td>\n",
       "      <td>Knicks</td>\n",
       "      <td>47</td>\n",
       "      <td>40.69</td>\n",
       "      <td>CHS</td>\n",
       "      <td>Stags</td>\n",
       "      <td>63</td>\n",
       "      <td>A</td>\n",
       "      <td>L</td>\n",
       "      <td>0.37</td>\n",
       "      <td>NaN</td>\n",
       "      <td>-16</td>\n",
       "    </tr>\n",
       "    <tr>\n",
       "      <th>4</th>\n",
       "      <td>3</td>\n",
       "      <td>194611020DTF</td>\n",
       "      <td>NBA</td>\n",
       "      <td>0</td>\n",
       "      <td>1947</td>\n",
       "      <td>1946-11-02</td>\n",
       "      <td>1</td>\n",
       "      <td>0</td>\n",
       "      <td>DTF</td>\n",
       "      <td>Falcons</td>\n",
       "      <td>33</td>\n",
       "      <td>38.86</td>\n",
       "      <td>WSC</td>\n",
       "      <td>Capitols</td>\n",
       "      <td>50</td>\n",
       "      <td>H</td>\n",
       "      <td>L</td>\n",
       "      <td>0.64</td>\n",
       "      <td>NaN</td>\n",
       "      <td>-17</td>\n",
       "    </tr>\n",
       "    <tr>\n",
       "      <th>...</th>\n",
       "      <td>...</td>\n",
       "      <td>...</td>\n",
       "      <td>...</td>\n",
       "      <td>...</td>\n",
       "      <td>...</td>\n",
       "      <td>...</td>\n",
       "      <td>...</td>\n",
       "      <td>...</td>\n",
       "      <td>...</td>\n",
       "      <td>...</td>\n",
       "      <td>...</td>\n",
       "      <td>...</td>\n",
       "      <td>...</td>\n",
       "      <td>...</td>\n",
       "      <td>...</td>\n",
       "      <td>...</td>\n",
       "      <td>...</td>\n",
       "      <td>...</td>\n",
       "      <td>...</td>\n",
       "      <td>...</td>\n",
       "    </tr>\n",
       "    <tr>\n",
       "      <th>126309</th>\n",
       "      <td>63155</td>\n",
       "      <td>201506110CLE</td>\n",
       "      <td>NBA</td>\n",
       "      <td>0</td>\n",
       "      <td>2015</td>\n",
       "      <td>2015-06-11</td>\n",
       "      <td>100</td>\n",
       "      <td>1</td>\n",
       "      <td>CLE</td>\n",
       "      <td>Cavaliers</td>\n",
       "      <td>82</td>\n",
       "      <td>60.31</td>\n",
       "      <td>GSW</td>\n",
       "      <td>Warriors</td>\n",
       "      <td>103</td>\n",
       "      <td>H</td>\n",
       "      <td>L</td>\n",
       "      <td>0.55</td>\n",
       "      <td>NaN</td>\n",
       "      <td>-21</td>\n",
       "    </tr>\n",
       "    <tr>\n",
       "      <th>126310</th>\n",
       "      <td>63156</td>\n",
       "      <td>201506140GSW</td>\n",
       "      <td>NBA</td>\n",
       "      <td>0</td>\n",
       "      <td>2015</td>\n",
       "      <td>2015-06-14</td>\n",
       "      <td>102</td>\n",
       "      <td>1</td>\n",
       "      <td>GSW</td>\n",
       "      <td>Warriors</td>\n",
       "      <td>104</td>\n",
       "      <td>68.01</td>\n",
       "      <td>CLE</td>\n",
       "      <td>Cavaliers</td>\n",
       "      <td>91</td>\n",
       "      <td>H</td>\n",
       "      <td>W</td>\n",
       "      <td>0.77</td>\n",
       "      <td>NaN</td>\n",
       "      <td>13</td>\n",
       "    </tr>\n",
       "    <tr>\n",
       "      <th>126311</th>\n",
       "      <td>63156</td>\n",
       "      <td>201506140GSW</td>\n",
       "      <td>NBA</td>\n",
       "      <td>1</td>\n",
       "      <td>2015</td>\n",
       "      <td>2015-06-14</td>\n",
       "      <td>101</td>\n",
       "      <td>1</td>\n",
       "      <td>CLE</td>\n",
       "      <td>Cavaliers</td>\n",
       "      <td>91</td>\n",
       "      <td>60.01</td>\n",
       "      <td>GSW</td>\n",
       "      <td>Warriors</td>\n",
       "      <td>104</td>\n",
       "      <td>A</td>\n",
       "      <td>L</td>\n",
       "      <td>0.23</td>\n",
       "      <td>NaN</td>\n",
       "      <td>-13</td>\n",
       "    </tr>\n",
       "    <tr>\n",
       "      <th>126312</th>\n",
       "      <td>63157</td>\n",
       "      <td>201506170CLE</td>\n",
       "      <td>NBA</td>\n",
       "      <td>0</td>\n",
       "      <td>2015</td>\n",
       "      <td>2015-06-16</td>\n",
       "      <td>102</td>\n",
       "      <td>1</td>\n",
       "      <td>CLE</td>\n",
       "      <td>Cavaliers</td>\n",
       "      <td>97</td>\n",
       "      <td>59.29</td>\n",
       "      <td>GSW</td>\n",
       "      <td>Warriors</td>\n",
       "      <td>105</td>\n",
       "      <td>H</td>\n",
       "      <td>L</td>\n",
       "      <td>0.48</td>\n",
       "      <td>NaN</td>\n",
       "      <td>-8</td>\n",
       "    </tr>\n",
       "    <tr>\n",
       "      <th>126313</th>\n",
       "      <td>63157</td>\n",
       "      <td>201506170CLE</td>\n",
       "      <td>NBA</td>\n",
       "      <td>1</td>\n",
       "      <td>2015</td>\n",
       "      <td>2015-06-16</td>\n",
       "      <td>103</td>\n",
       "      <td>1</td>\n",
       "      <td>GSW</td>\n",
       "      <td>Warriors</td>\n",
       "      <td>105</td>\n",
       "      <td>68.52</td>\n",
       "      <td>CLE</td>\n",
       "      <td>Cavaliers</td>\n",
       "      <td>97</td>\n",
       "      <td>A</td>\n",
       "      <td>W</td>\n",
       "      <td>0.52</td>\n",
       "      <td>NaN</td>\n",
       "      <td>8</td>\n",
       "    </tr>\n",
       "  </tbody>\n",
       "</table>\n",
       "<p>126314 rows × 20 columns</p>\n",
       "</div>"
      ],
      "text/plain": [
       "        gameorder       game_id lg_id  _iscopy  year_id  date_game  \\\n",
       "0               1  194611010TRH   NBA        0     1947 1946-11-01   \n",
       "1               1  194611010TRH   NBA        1     1947 1946-11-01   \n",
       "2               2  194611020CHS   NBA        0     1947 1946-11-02   \n",
       "3               2  194611020CHS   NBA        1     1947 1946-11-02   \n",
       "4               3  194611020DTF   NBA        0     1947 1946-11-02   \n",
       "...           ...           ...   ...      ...      ...        ...   \n",
       "126309      63155  201506110CLE   NBA        0     2015 2015-06-11   \n",
       "126310      63156  201506140GSW   NBA        0     2015 2015-06-14   \n",
       "126311      63156  201506140GSW   NBA        1     2015 2015-06-14   \n",
       "126312      63157  201506170CLE   NBA        0     2015 2015-06-16   \n",
       "126313      63157  201506170CLE   NBA        1     2015 2015-06-16   \n",
       "\n",
       "        seasongame  is_playoffs team_id    fran_id  pts  win_equiv opp_id  \\\n",
       "0                1            0     TRH    Huskies   66      40.29    NYK   \n",
       "1                1            0     NYK     Knicks   68      41.71    TRH   \n",
       "2                1            0     CHS      Stags   63      42.01    NYK   \n",
       "3                2            0     NYK     Knicks   47      40.69    CHS   \n",
       "4                1            0     DTF    Falcons   33      38.86    WSC   \n",
       "...            ...          ...     ...        ...  ...        ...    ...   \n",
       "126309         100            1     CLE  Cavaliers   82      60.31    GSW   \n",
       "126310         102            1     GSW   Warriors  104      68.01    CLE   \n",
       "126311         101            1     CLE  Cavaliers   91      60.01    GSW   \n",
       "126312         102            1     CLE  Cavaliers   97      59.29    GSW   \n",
       "126313         103            1     GSW   Warriors  105      68.52    CLE   \n",
       "\n",
       "         opp_fran  opp_pts game_location game_result  forecast notes  \\\n",
       "0          Knicks       68             H           L      0.64   NaN   \n",
       "1         Huskies       66             A           W      0.36   NaN   \n",
       "2          Knicks       47             H           W      0.63   NaN   \n",
       "3           Stags       63             A           L      0.37   NaN   \n",
       "4        Capitols       50             H           L      0.64   NaN   \n",
       "...           ...      ...           ...         ...       ...   ...   \n",
       "126309   Warriors      103             H           L      0.55   NaN   \n",
       "126310  Cavaliers       91             H           W      0.77   NaN   \n",
       "126311   Warriors      104             A           L      0.23   NaN   \n",
       "126312   Warriors      105             H           L      0.48   NaN   \n",
       "126313  Cavaliers       97             A           W      0.52   NaN   \n",
       "\n",
       "        difference  \n",
       "0               -2  \n",
       "1                2  \n",
       "2               16  \n",
       "3              -16  \n",
       "4              -17  \n",
       "...            ...  \n",
       "126309         -21  \n",
       "126310          13  \n",
       "126311         -13  \n",
       "126312          -8  \n",
       "126313           8  \n",
       "\n",
       "[126314 rows x 20 columns]"
      ]
     },
     "execution_count": 135,
     "metadata": {},
     "output_type": "execute_result"
    }
   ],
   "source": [
    "df"
   ]
  },
  {
   "cell_type": "code",
   "execution_count": null,
   "metadata": {},
   "outputs": [],
   "source": []
  },
  {
   "cell_type": "markdown",
   "metadata": {},
   "source": [
    "**`Categorical` data** has a few advantages over unstructured text. When you specify the `categorical` data type, you make validation easier and save a ton of memory, as Pandas will only use the unique values internally. The higher the ratio of total values to unique values, the more space savings you’ll get.\n",
    "\n",
    "Run `df.info()` again. You should see that changing the `game_location` data type from `object` to `categorical` has decreased the memory usage."
   ]
  },
  {
   "cell_type": "code",
   "execution_count": 136,
   "metadata": {},
   "outputs": [
    {
     "name": "stdout",
     "output_type": "stream",
     "text": [
      "<class 'pandas.core.frame.DataFrame'>\n",
      "RangeIndex: 126314 entries, 0 to 126313\n",
      "Data columns (total 20 columns):\n",
      " #   Column         Non-Null Count   Dtype         \n",
      "---  ------         --------------   -----         \n",
      " 0   gameorder      126314 non-null  int64         \n",
      " 1   game_id        126314 non-null  object        \n",
      " 2   lg_id          126314 non-null  object        \n",
      " 3   _iscopy        126314 non-null  int64         \n",
      " 4   year_id        126314 non-null  int64         \n",
      " 5   date_game      126314 non-null  datetime64[ns]\n",
      " 6   seasongame     126314 non-null  int64         \n",
      " 7   is_playoffs    126314 non-null  int64         \n",
      " 8   team_id        126314 non-null  object        \n",
      " 9   fran_id        126314 non-null  object        \n",
      " 10  pts            126314 non-null  int64         \n",
      " 11  win_equiv      126314 non-null  float64       \n",
      " 12  opp_id         126314 non-null  object        \n",
      " 13  opp_fran       126314 non-null  object        \n",
      " 14  opp_pts        126314 non-null  int64         \n",
      " 15  game_location  126314 non-null  category      \n",
      " 16  game_result    126314 non-null  object        \n",
      " 17  forecast       126314 non-null  float64       \n",
      " 18  notes          5424 non-null    object        \n",
      " 19  difference     126314 non-null  int64         \n",
      "dtypes: category(1), datetime64[ns](1), float64(2), int64(8), object(8)\n",
      "memory usage: 18.4+ MB\n"
     ]
    }
   ],
   "source": [
    "df.info()"
   ]
  },
  {
   "cell_type": "markdown",
   "metadata": {},
   "source": [
    "Note: The `categorical` data type also gives you access to additional methods through the `.cat` accessor. To learn more, check out the official docs.\n",
    "\n",
    "You’ll often encounter datasets with too many text columns. An essential skill for data scientists to have is the ability to spot which columns they can convert to a more performant data type. \n",
    "\n",
    "Take a moment to practice this now in the following Exercise:"
   ]
  },
  {
   "cell_type": "markdown",
   "metadata": {},
   "source": [
    "#### Exercise\n",
    "\n",
    "Find another column in the `nba` dataset that has a generic data type and convert it to a more specific one."
   ]
  },
  {
   "cell_type": "code",
   "execution_count": 137,
   "metadata": {},
   "outputs": [
    {
     "data": {
      "text/plain": [
       "CategoricalDtype(categories=['L', 'W'], ordered=False)"
      ]
     },
     "execution_count": 137,
     "metadata": {},
     "output_type": "execute_result"
    }
   ],
   "source": [
    "# Hint: game_result!  pd.Categorical('game_result column query')\n",
    "df[\"game_result\"] = pd.Categorical(df[\"game_result\"])\n",
    "df[\"game_result\"].dtype\n"
   ]
  },
  {
   "cell_type": "markdown",
   "metadata": {},
   "source": [
    "As you work with more massive datasets, memory savings becomes especially crucial. Be sure to keep **performance** in mind as you continue to explore your datasets."
   ]
  },
  {
   "cell_type": "markdown",
   "metadata": {},
   "source": [
    "# 10. Cleaning Data"
   ]
  },
  {
   "cell_type": "markdown",
   "metadata": {},
   "source": [
    "You may be surprised to find this section so late in the tutorial! Usually, you’d take a critical look at your dataset to fix any issues before you move on to a more sophisticated analysis. However, in this tutorial, you’ll rely on the techniques that you’ve learned in the previous sections to clean your dataset."
   ]
  },
  {
   "cell_type": "markdown",
   "metadata": {},
   "source": [
    "### Missing Values"
   ]
  },
  {
   "cell_type": "markdown",
   "metadata": {},
   "source": [
    "Have you ever wondered why `.info()` shows how many non-null values a column contains? The reason why is that this is vital information. Null values often indicate a problem in the data-gathering process. They can make several analysis techniques, like different types of machine learning, difficult or even impossible.\n",
    "\n",
    "When you inspect the `nba` dataset with `nba.info()`, you’ll see that it’s quite neat. Only the column notes contains `null` values for the majority of its rows:"
   ]
  },
  {
   "cell_type": "code",
   "execution_count": 138,
   "metadata": {},
   "outputs": [
    {
     "name": "stdout",
     "output_type": "stream",
     "text": [
      "<class 'pandas.core.frame.DataFrame'>\n",
      "RangeIndex: 126314 entries, 0 to 126313\n",
      "Data columns (total 23 columns):\n",
      " #   Column         Non-Null Count   Dtype  \n",
      "---  ------         --------------   -----  \n",
      " 0   gameorder      126314 non-null  int64  \n",
      " 1   game_id        126314 non-null  object \n",
      " 2   lg_id          126314 non-null  object \n",
      " 3   _iscopy        126314 non-null  int64  \n",
      " 4   year_id        126314 non-null  int64  \n",
      " 5   date_game      126314 non-null  object \n",
      " 6   seasongame     126314 non-null  int64  \n",
      " 7   is_playoffs    126314 non-null  int64  \n",
      " 8   team_id        126314 non-null  object \n",
      " 9   fran_id        126314 non-null  object \n",
      " 10  pts            126314 non-null  int64  \n",
      " 11  elo_i          126314 non-null  float64\n",
      " 12  elo_n          126314 non-null  float64\n",
      " 13  win_equiv      126314 non-null  float64\n",
      " 14  opp_id         126314 non-null  object \n",
      " 15  opp_fran       126314 non-null  object \n",
      " 16  opp_pts        126314 non-null  int64  \n",
      " 17  opp_elo_i      126314 non-null  float64\n",
      " 18  opp_elo_n      126314 non-null  float64\n",
      " 19  game_location  126314 non-null  object \n",
      " 20  game_result    126314 non-null  object \n",
      " 21  forecast       126314 non-null  float64\n",
      " 22  notes          5424 non-null    object \n",
      "dtypes: float64(6), int64(7), object(10)\n",
      "memory usage: 22.2+ MB\n"
     ]
    }
   ],
   "source": [
    "nba.info()"
   ]
  },
  {
   "cell_type": "markdown",
   "metadata": {},
   "source": [
    "This output shows that the notes column has only 5424 non-null values. That means that over 120,000 rows of your dataset have null values in this column.\n",
    "Sometimes, the easiest way to deal with records containing missing values is to ignore them. You can remove all the rows with missing values using `.dropna()`:"
   ]
  },
  {
   "cell_type": "code",
   "execution_count": 139,
   "metadata": {},
   "outputs": [
    {
     "data": {
      "text/plain": [
       "(5424, 23)"
      ]
     },
     "execution_count": 139,
     "metadata": {},
     "output_type": "execute_result"
    }
   ],
   "source": [
    "rows_without_missing_data = nba.dropna()\n",
    "rows_without_missing_data.shape\n",
    "# Expected:\n",
    "# (5424, 23)"
   ]
  },
  {
   "cell_type": "code",
   "execution_count": 140,
   "metadata": {},
   "outputs": [
    {
     "data": {
      "text/html": [
       "<div>\n",
       "<style scoped>\n",
       "    .dataframe tbody tr th:only-of-type {\n",
       "        vertical-align: middle;\n",
       "    }\n",
       "\n",
       "    .dataframe tbody tr th {\n",
       "        vertical-align: top;\n",
       "    }\n",
       "\n",
       "    .dataframe thead th {\n",
       "        text-align: right;\n",
       "    }\n",
       "</style>\n",
       "<table border=\"1\" class=\"dataframe\">\n",
       "  <thead>\n",
       "    <tr style=\"text-align: right;\">\n",
       "      <th></th>\n",
       "      <th>gameorder</th>\n",
       "      <th>game_id</th>\n",
       "      <th>lg_id</th>\n",
       "      <th>_iscopy</th>\n",
       "      <th>year_id</th>\n",
       "      <th>date_game</th>\n",
       "      <th>seasongame</th>\n",
       "      <th>is_playoffs</th>\n",
       "      <th>team_id</th>\n",
       "      <th>fran_id</th>\n",
       "      <th>pts</th>\n",
       "      <th>elo_i</th>\n",
       "      <th>elo_n</th>\n",
       "      <th>win_equiv</th>\n",
       "      <th>opp_id</th>\n",
       "      <th>opp_fran</th>\n",
       "      <th>opp_pts</th>\n",
       "      <th>opp_elo_i</th>\n",
       "      <th>opp_elo_n</th>\n",
       "      <th>game_location</th>\n",
       "      <th>game_result</th>\n",
       "      <th>forecast</th>\n",
       "      <th>notes</th>\n",
       "    </tr>\n",
       "  </thead>\n",
       "  <tbody>\n",
       "    <tr>\n",
       "      <th>930</th>\n",
       "      <td>466</td>\n",
       "      <td>194801300BLB</td>\n",
       "      <td>NBA</td>\n",
       "      <td>1</td>\n",
       "      <td>1948</td>\n",
       "      <td>1/30/1948</td>\n",
       "      <td>28</td>\n",
       "      <td>0</td>\n",
       "      <td>WSC</td>\n",
       "      <td>Capitols</td>\n",
       "      <td>71</td>\n",
       "      <td>1469.35</td>\n",
       "      <td>1454.90</td>\n",
       "      <td>47.07</td>\n",
       "      <td>BLB</td>\n",
       "      <td>Baltimore</td>\n",
       "      <td>95</td>\n",
       "      <td>1434.05</td>\n",
       "      <td>1448.50</td>\n",
       "      <td>A</td>\n",
       "      <td>L</td>\n",
       "      <td>0.41</td>\n",
       "      <td>at Baltimore's Fifth Regiment Armory</td>\n",
       "    </tr>\n",
       "    <tr>\n",
       "      <th>931</th>\n",
       "      <td>466</td>\n",
       "      <td>194801300BLB</td>\n",
       "      <td>NBA</td>\n",
       "      <td>0</td>\n",
       "      <td>1948</td>\n",
       "      <td>1/30/1948</td>\n",
       "      <td>31</td>\n",
       "      <td>0</td>\n",
       "      <td>BLB</td>\n",
       "      <td>Baltimore</td>\n",
       "      <td>95</td>\n",
       "      <td>1434.05</td>\n",
       "      <td>1448.50</td>\n",
       "      <td>46.41</td>\n",
       "      <td>WSC</td>\n",
       "      <td>Capitols</td>\n",
       "      <td>71</td>\n",
       "      <td>1469.35</td>\n",
       "      <td>1454.90</td>\n",
       "      <td>H</td>\n",
       "      <td>W</td>\n",
       "      <td>0.59</td>\n",
       "      <td>at Baltimore's Fifth Regiment Armory</td>\n",
       "    </tr>\n",
       "    <tr>\n",
       "      <th>1084</th>\n",
       "      <td>543</td>\n",
       "      <td>194803230CHS</td>\n",
       "      <td>NBA</td>\n",
       "      <td>1</td>\n",
       "      <td>1948</td>\n",
       "      <td>3/23/1948</td>\n",
       "      <td>49</td>\n",
       "      <td>1</td>\n",
       "      <td>WSC</td>\n",
       "      <td>Capitols</td>\n",
       "      <td>70</td>\n",
       "      <td>1465.90</td>\n",
       "      <td>1461.20</td>\n",
       "      <td>47.71</td>\n",
       "      <td>CHS</td>\n",
       "      <td>Stags</td>\n",
       "      <td>74</td>\n",
       "      <td>1440.72</td>\n",
       "      <td>1445.42</td>\n",
       "      <td>A</td>\n",
       "      <td>L</td>\n",
       "      <td>0.39</td>\n",
       "      <td>Tiebreaker</td>\n",
       "    </tr>\n",
       "    <tr>\n",
       "      <th>1085</th>\n",
       "      <td>543</td>\n",
       "      <td>194803230CHS</td>\n",
       "      <td>NBA</td>\n",
       "      <td>0</td>\n",
       "      <td>1948</td>\n",
       "      <td>3/23/1948</td>\n",
       "      <td>49</td>\n",
       "      <td>1</td>\n",
       "      <td>CHS</td>\n",
       "      <td>Stags</td>\n",
       "      <td>74</td>\n",
       "      <td>1440.72</td>\n",
       "      <td>1445.42</td>\n",
       "      <td>46.09</td>\n",
       "      <td>WSC</td>\n",
       "      <td>Capitols</td>\n",
       "      <td>70</td>\n",
       "      <td>1465.90</td>\n",
       "      <td>1461.20</td>\n",
       "      <td>H</td>\n",
       "      <td>W</td>\n",
       "      <td>0.61</td>\n",
       "      <td>Tiebreaker</td>\n",
       "    </tr>\n",
       "    <tr>\n",
       "      <th>1088</th>\n",
       "      <td>545</td>\n",
       "      <td>194803250CHS</td>\n",
       "      <td>NBA</td>\n",
       "      <td>1</td>\n",
       "      <td>1948</td>\n",
       "      <td>3/25/1948</td>\n",
       "      <td>49</td>\n",
       "      <td>1</td>\n",
       "      <td>BLB</td>\n",
       "      <td>Baltimore</td>\n",
       "      <td>75</td>\n",
       "      <td>1477.26</td>\n",
       "      <td>1484.31</td>\n",
       "      <td>50.04</td>\n",
       "      <td>CHS</td>\n",
       "      <td>Stags</td>\n",
       "      <td>72</td>\n",
       "      <td>1445.42</td>\n",
       "      <td>1438.36</td>\n",
       "      <td>A</td>\n",
       "      <td>W</td>\n",
       "      <td>0.40</td>\n",
       "      <td>Tiebreaker</td>\n",
       "    </tr>\n",
       "    <tr>\n",
       "      <th>...</th>\n",
       "      <td>...</td>\n",
       "      <td>...</td>\n",
       "      <td>...</td>\n",
       "      <td>...</td>\n",
       "      <td>...</td>\n",
       "      <td>...</td>\n",
       "      <td>...</td>\n",
       "      <td>...</td>\n",
       "      <td>...</td>\n",
       "      <td>...</td>\n",
       "      <td>...</td>\n",
       "      <td>...</td>\n",
       "      <td>...</td>\n",
       "      <td>...</td>\n",
       "      <td>...</td>\n",
       "      <td>...</td>\n",
       "      <td>...</td>\n",
       "      <td>...</td>\n",
       "      <td>...</td>\n",
       "      <td>...</td>\n",
       "      <td>...</td>\n",
       "      <td>...</td>\n",
       "      <td>...</td>\n",
       "    </tr>\n",
       "    <tr>\n",
       "      <th>122207</th>\n",
       "      <td>61104</td>\n",
       "      <td>201401160ATL</td>\n",
       "      <td>NBA</td>\n",
       "      <td>0</td>\n",
       "      <td>2014</td>\n",
       "      <td>1/16/2014</td>\n",
       "      <td>39</td>\n",
       "      <td>0</td>\n",
       "      <td>ATL</td>\n",
       "      <td>Hawks</td>\n",
       "      <td>110</td>\n",
       "      <td>1505.05</td>\n",
       "      <td>1487.59</td>\n",
       "      <td>39.24</td>\n",
       "      <td>BRK</td>\n",
       "      <td>Nets</td>\n",
       "      <td>127</td>\n",
       "      <td>1454.65</td>\n",
       "      <td>1472.11</td>\n",
       "      <td>N</td>\n",
       "      <td>L</td>\n",
       "      <td>0.57</td>\n",
       "      <td>at London, England</td>\n",
       "    </tr>\n",
       "    <tr>\n",
       "      <th>123916</th>\n",
       "      <td>61959</td>\n",
       "      <td>201411120MIN</td>\n",
       "      <td>NBA</td>\n",
       "      <td>1</td>\n",
       "      <td>2015</td>\n",
       "      <td>11/12/2014</td>\n",
       "      <td>8</td>\n",
       "      <td>0</td>\n",
       "      <td>HOU</td>\n",
       "      <td>Rockets</td>\n",
       "      <td>113</td>\n",
       "      <td>1635.77</td>\n",
       "      <td>1642.45</td>\n",
       "      <td>54.89</td>\n",
       "      <td>MIN</td>\n",
       "      <td>Timberwolves</td>\n",
       "      <td>101</td>\n",
       "      <td>1502.92</td>\n",
       "      <td>1496.24</td>\n",
       "      <td>N</td>\n",
       "      <td>W</td>\n",
       "      <td>0.68</td>\n",
       "      <td>at Mexico City Arena, Mexico City, Mexico</td>\n",
       "    </tr>\n",
       "    <tr>\n",
       "      <th>123917</th>\n",
       "      <td>61959</td>\n",
       "      <td>201411120MIN</td>\n",
       "      <td>NBA</td>\n",
       "      <td>0</td>\n",
       "      <td>2015</td>\n",
       "      <td>11/12/2014</td>\n",
       "      <td>7</td>\n",
       "      <td>0</td>\n",
       "      <td>MIN</td>\n",
       "      <td>Timberwolves</td>\n",
       "      <td>101</td>\n",
       "      <td>1502.92</td>\n",
       "      <td>1496.24</td>\n",
       "      <td>40.13</td>\n",
       "      <td>HOU</td>\n",
       "      <td>Rockets</td>\n",
       "      <td>113</td>\n",
       "      <td>1635.77</td>\n",
       "      <td>1642.45</td>\n",
       "      <td>N</td>\n",
       "      <td>L</td>\n",
       "      <td>0.32</td>\n",
       "      <td>at Mexico City Arena, Mexico City, Mexico</td>\n",
       "    </tr>\n",
       "    <tr>\n",
       "      <th>124862</th>\n",
       "      <td>62432</td>\n",
       "      <td>201501150MIL</td>\n",
       "      <td>NBA</td>\n",
       "      <td>0</td>\n",
       "      <td>2015</td>\n",
       "      <td>1/15/2015</td>\n",
       "      <td>40</td>\n",
       "      <td>0</td>\n",
       "      <td>MIL</td>\n",
       "      <td>Bucks</td>\n",
       "      <td>95</td>\n",
       "      <td>1499.90</td>\n",
       "      <td>1505.86</td>\n",
       "      <td>41.14</td>\n",
       "      <td>NYK</td>\n",
       "      <td>Knicks</td>\n",
       "      <td>79</td>\n",
       "      <td>1304.46</td>\n",
       "      <td>1298.50</td>\n",
       "      <td>N</td>\n",
       "      <td>W</td>\n",
       "      <td>0.75</td>\n",
       "      <td>at The O2, London, England</td>\n",
       "    </tr>\n",
       "    <tr>\n",
       "      <th>124863</th>\n",
       "      <td>62432</td>\n",
       "      <td>201501150MIL</td>\n",
       "      <td>NBA</td>\n",
       "      <td>1</td>\n",
       "      <td>2015</td>\n",
       "      <td>1/15/2015</td>\n",
       "      <td>41</td>\n",
       "      <td>0</td>\n",
       "      <td>NYK</td>\n",
       "      <td>Knicks</td>\n",
       "      <td>79</td>\n",
       "      <td>1304.46</td>\n",
       "      <td>1298.50</td>\n",
       "      <td>21.19</td>\n",
       "      <td>MIL</td>\n",
       "      <td>Bucks</td>\n",
       "      <td>95</td>\n",
       "      <td>1499.90</td>\n",
       "      <td>1505.86</td>\n",
       "      <td>N</td>\n",
       "      <td>L</td>\n",
       "      <td>0.25</td>\n",
       "      <td>at The O2, London, England</td>\n",
       "    </tr>\n",
       "  </tbody>\n",
       "</table>\n",
       "<p>5424 rows × 23 columns</p>\n",
       "</div>"
      ],
      "text/plain": [
       "        gameorder       game_id lg_id  _iscopy  year_id   date_game  \\\n",
       "930           466  194801300BLB   NBA        1     1948   1/30/1948   \n",
       "931           466  194801300BLB   NBA        0     1948   1/30/1948   \n",
       "1084          543  194803230CHS   NBA        1     1948   3/23/1948   \n",
       "1085          543  194803230CHS   NBA        0     1948   3/23/1948   \n",
       "1088          545  194803250CHS   NBA        1     1948   3/25/1948   \n",
       "...           ...           ...   ...      ...      ...         ...   \n",
       "122207      61104  201401160ATL   NBA        0     2014   1/16/2014   \n",
       "123916      61959  201411120MIN   NBA        1     2015  11/12/2014   \n",
       "123917      61959  201411120MIN   NBA        0     2015  11/12/2014   \n",
       "124862      62432  201501150MIL   NBA        0     2015   1/15/2015   \n",
       "124863      62432  201501150MIL   NBA        1     2015   1/15/2015   \n",
       "\n",
       "        seasongame  is_playoffs team_id       fran_id  pts    elo_i    elo_n  \\\n",
       "930             28            0     WSC      Capitols   71  1469.35  1454.90   \n",
       "931             31            0     BLB     Baltimore   95  1434.05  1448.50   \n",
       "1084            49            1     WSC      Capitols   70  1465.90  1461.20   \n",
       "1085            49            1     CHS         Stags   74  1440.72  1445.42   \n",
       "1088            49            1     BLB     Baltimore   75  1477.26  1484.31   \n",
       "...            ...          ...     ...           ...  ...      ...      ...   \n",
       "122207          39            0     ATL         Hawks  110  1505.05  1487.59   \n",
       "123916           8            0     HOU       Rockets  113  1635.77  1642.45   \n",
       "123917           7            0     MIN  Timberwolves  101  1502.92  1496.24   \n",
       "124862          40            0     MIL         Bucks   95  1499.90  1505.86   \n",
       "124863          41            0     NYK        Knicks   79  1304.46  1298.50   \n",
       "\n",
       "        win_equiv opp_id      opp_fran  opp_pts  opp_elo_i  opp_elo_n  \\\n",
       "930         47.07    BLB     Baltimore       95    1434.05    1448.50   \n",
       "931         46.41    WSC      Capitols       71    1469.35    1454.90   \n",
       "1084        47.71    CHS         Stags       74    1440.72    1445.42   \n",
       "1085        46.09    WSC      Capitols       70    1465.90    1461.20   \n",
       "1088        50.04    CHS         Stags       72    1445.42    1438.36   \n",
       "...           ...    ...           ...      ...        ...        ...   \n",
       "122207      39.24    BRK          Nets      127    1454.65    1472.11   \n",
       "123916      54.89    MIN  Timberwolves      101    1502.92    1496.24   \n",
       "123917      40.13    HOU       Rockets      113    1635.77    1642.45   \n",
       "124862      41.14    NYK        Knicks       79    1304.46    1298.50   \n",
       "124863      21.19    MIL         Bucks       95    1499.90    1505.86   \n",
       "\n",
       "       game_location game_result  forecast  \\\n",
       "930                A           L      0.41   \n",
       "931                H           W      0.59   \n",
       "1084               A           L      0.39   \n",
       "1085               H           W      0.61   \n",
       "1088               A           W      0.40   \n",
       "...              ...         ...       ...   \n",
       "122207             N           L      0.57   \n",
       "123916             N           W      0.68   \n",
       "123917             N           L      0.32   \n",
       "124862             N           W      0.75   \n",
       "124863             N           L      0.25   \n",
       "\n",
       "                                            notes  \n",
       "930          at Baltimore's Fifth Regiment Armory  \n",
       "931          at Baltimore's Fifth Regiment Armory  \n",
       "1084                                   Tiebreaker  \n",
       "1085                                   Tiebreaker  \n",
       "1088                                   Tiebreaker  \n",
       "...                                           ...  \n",
       "122207                         at London, England  \n",
       "123916  at Mexico City Arena, Mexico City, Mexico  \n",
       "123917  at Mexico City Arena, Mexico City, Mexico  \n",
       "124862                 at The O2, London, England  \n",
       "124863                 at The O2, London, England  \n",
       "\n",
       "[5424 rows x 23 columns]"
      ]
     },
     "execution_count": 140,
     "metadata": {},
     "output_type": "execute_result"
    }
   ],
   "source": [
    "rows_without_missing_data"
   ]
  },
  {
   "cell_type": "markdown",
   "metadata": {},
   "source": [
    "Of course, this kind of data cleanup doesn’t make sense for your nba dataset, because it’s not a problem for a game to lack notes. But if your dataset contains a million valid records and a hundred where relevant data is missing, then dropping the incomplete records can be a reasonable solution.\n",
    "\n",
    "You can also drop problematic columns if they’re not relevant for your analysis. To do this, use `.dropna()` again and provide the `axis=1` parameter:"
   ]
  },
  {
   "cell_type": "code",
   "execution_count": 141,
   "metadata": {},
   "outputs": [
    {
     "data": {
      "text/plain": [
       "(126314, 22)"
      ]
     },
     "execution_count": 141,
     "metadata": {},
     "output_type": "execute_result"
    }
   ],
   "source": [
    "data_without_missing_columns = nba.dropna(axis=1)\n",
    "data_without_missing_columns.shape\n",
    "# Expected:\n",
    "# (126314, 22)"
   ]
  },
  {
   "cell_type": "markdown",
   "metadata": {},
   "source": [
    "Now, the resulting `DataFrame` contains all 126,314 games, but not the sometimes empty notes column.\n",
    "\n",
    "If there’s a meaningful default value for your use case, then you can also replace the missing values with that:"
   ]
  },
  {
   "cell_type": "code",
   "execution_count": 142,
   "metadata": {
    "scrolled": true
   },
   "outputs": [
    {
     "data": {
      "text/plain": [
       "count              126314\n",
       "unique                232\n",
       "top       no notes at all\n",
       "freq               120890\n",
       "Name: notes, dtype: object"
      ]
     },
     "execution_count": 142,
     "metadata": {},
     "output_type": "execute_result"
    }
   ],
   "source": [
    "data_with_default_notes = nba.copy()\n",
    "data_with_default_notes[\"notes\"].fillna(\n",
    "    value=\"no notes at all\",\n",
    "    inplace=True\n",
    ")\n",
    "data_with_default_notes[\"notes\"].describe()\n",
    "# Expected:\n",
    "# count              126314\n",
    "# unique                232\n",
    "# top       no notes at all\n",
    "# freq               120890\n",
    "# Name: notes, dtype: object"
   ]
  },
  {
   "cell_type": "code",
   "execution_count": 143,
   "metadata": {},
   "outputs": [
    {
     "data": {
      "text/html": [
       "<div>\n",
       "<style scoped>\n",
       "    .dataframe tbody tr th:only-of-type {\n",
       "        vertical-align: middle;\n",
       "    }\n",
       "\n",
       "    .dataframe tbody tr th {\n",
       "        vertical-align: top;\n",
       "    }\n",
       "\n",
       "    .dataframe thead th {\n",
       "        text-align: right;\n",
       "    }\n",
       "</style>\n",
       "<table border=\"1\" class=\"dataframe\">\n",
       "  <thead>\n",
       "    <tr style=\"text-align: right;\">\n",
       "      <th></th>\n",
       "      <th>gameorder</th>\n",
       "      <th>game_id</th>\n",
       "      <th>lg_id</th>\n",
       "      <th>_iscopy</th>\n",
       "      <th>year_id</th>\n",
       "      <th>date_game</th>\n",
       "      <th>seasongame</th>\n",
       "      <th>is_playoffs</th>\n",
       "      <th>team_id</th>\n",
       "      <th>fran_id</th>\n",
       "      <th>pts</th>\n",
       "      <th>elo_i</th>\n",
       "      <th>elo_n</th>\n",
       "      <th>win_equiv</th>\n",
       "      <th>opp_id</th>\n",
       "      <th>opp_fran</th>\n",
       "      <th>opp_pts</th>\n",
       "      <th>opp_elo_i</th>\n",
       "      <th>opp_elo_n</th>\n",
       "      <th>game_location</th>\n",
       "      <th>game_result</th>\n",
       "      <th>forecast</th>\n",
       "      <th>notes</th>\n",
       "    </tr>\n",
       "  </thead>\n",
       "  <tbody>\n",
       "    <tr>\n",
       "      <th>0</th>\n",
       "      <td>1</td>\n",
       "      <td>194611010TRH</td>\n",
       "      <td>NBA</td>\n",
       "      <td>0</td>\n",
       "      <td>1947</td>\n",
       "      <td>11/1/1946</td>\n",
       "      <td>1</td>\n",
       "      <td>0</td>\n",
       "      <td>TRH</td>\n",
       "      <td>Huskies</td>\n",
       "      <td>66</td>\n",
       "      <td>1300.00</td>\n",
       "      <td>1293.28</td>\n",
       "      <td>40.29</td>\n",
       "      <td>NYK</td>\n",
       "      <td>Knicks</td>\n",
       "      <td>68</td>\n",
       "      <td>1300.00</td>\n",
       "      <td>1306.72</td>\n",
       "      <td>H</td>\n",
       "      <td>L</td>\n",
       "      <td>0.64</td>\n",
       "      <td>no notes at all</td>\n",
       "    </tr>\n",
       "    <tr>\n",
       "      <th>1</th>\n",
       "      <td>1</td>\n",
       "      <td>194611010TRH</td>\n",
       "      <td>NBA</td>\n",
       "      <td>1</td>\n",
       "      <td>1947</td>\n",
       "      <td>11/1/1946</td>\n",
       "      <td>1</td>\n",
       "      <td>0</td>\n",
       "      <td>NYK</td>\n",
       "      <td>Knicks</td>\n",
       "      <td>68</td>\n",
       "      <td>1300.00</td>\n",
       "      <td>1306.72</td>\n",
       "      <td>41.71</td>\n",
       "      <td>TRH</td>\n",
       "      <td>Huskies</td>\n",
       "      <td>66</td>\n",
       "      <td>1300.00</td>\n",
       "      <td>1293.28</td>\n",
       "      <td>A</td>\n",
       "      <td>W</td>\n",
       "      <td>0.36</td>\n",
       "      <td>no notes at all</td>\n",
       "    </tr>\n",
       "    <tr>\n",
       "      <th>2</th>\n",
       "      <td>2</td>\n",
       "      <td>194611020CHS</td>\n",
       "      <td>NBA</td>\n",
       "      <td>0</td>\n",
       "      <td>1947</td>\n",
       "      <td>11/2/1946</td>\n",
       "      <td>1</td>\n",
       "      <td>0</td>\n",
       "      <td>CHS</td>\n",
       "      <td>Stags</td>\n",
       "      <td>63</td>\n",
       "      <td>1300.00</td>\n",
       "      <td>1309.65</td>\n",
       "      <td>42.01</td>\n",
       "      <td>NYK</td>\n",
       "      <td>Knicks</td>\n",
       "      <td>47</td>\n",
       "      <td>1306.72</td>\n",
       "      <td>1297.07</td>\n",
       "      <td>H</td>\n",
       "      <td>W</td>\n",
       "      <td>0.63</td>\n",
       "      <td>no notes at all</td>\n",
       "    </tr>\n",
       "    <tr>\n",
       "      <th>3</th>\n",
       "      <td>2</td>\n",
       "      <td>194611020CHS</td>\n",
       "      <td>NBA</td>\n",
       "      <td>1</td>\n",
       "      <td>1947</td>\n",
       "      <td>11/2/1946</td>\n",
       "      <td>2</td>\n",
       "      <td>0</td>\n",
       "      <td>NYK</td>\n",
       "      <td>Knicks</td>\n",
       "      <td>47</td>\n",
       "      <td>1306.72</td>\n",
       "      <td>1297.07</td>\n",
       "      <td>40.69</td>\n",
       "      <td>CHS</td>\n",
       "      <td>Stags</td>\n",
       "      <td>63</td>\n",
       "      <td>1300.00</td>\n",
       "      <td>1309.65</td>\n",
       "      <td>A</td>\n",
       "      <td>L</td>\n",
       "      <td>0.37</td>\n",
       "      <td>no notes at all</td>\n",
       "    </tr>\n",
       "    <tr>\n",
       "      <th>4</th>\n",
       "      <td>3</td>\n",
       "      <td>194611020DTF</td>\n",
       "      <td>NBA</td>\n",
       "      <td>0</td>\n",
       "      <td>1947</td>\n",
       "      <td>11/2/1946</td>\n",
       "      <td>1</td>\n",
       "      <td>0</td>\n",
       "      <td>DTF</td>\n",
       "      <td>Falcons</td>\n",
       "      <td>33</td>\n",
       "      <td>1300.00</td>\n",
       "      <td>1279.62</td>\n",
       "      <td>38.86</td>\n",
       "      <td>WSC</td>\n",
       "      <td>Capitols</td>\n",
       "      <td>50</td>\n",
       "      <td>1300.00</td>\n",
       "      <td>1320.38</td>\n",
       "      <td>H</td>\n",
       "      <td>L</td>\n",
       "      <td>0.64</td>\n",
       "      <td>no notes at all</td>\n",
       "    </tr>\n",
       "    <tr>\n",
       "      <th>...</th>\n",
       "      <td>...</td>\n",
       "      <td>...</td>\n",
       "      <td>...</td>\n",
       "      <td>...</td>\n",
       "      <td>...</td>\n",
       "      <td>...</td>\n",
       "      <td>...</td>\n",
       "      <td>...</td>\n",
       "      <td>...</td>\n",
       "      <td>...</td>\n",
       "      <td>...</td>\n",
       "      <td>...</td>\n",
       "      <td>...</td>\n",
       "      <td>...</td>\n",
       "      <td>...</td>\n",
       "      <td>...</td>\n",
       "      <td>...</td>\n",
       "      <td>...</td>\n",
       "      <td>...</td>\n",
       "      <td>...</td>\n",
       "      <td>...</td>\n",
       "      <td>...</td>\n",
       "      <td>...</td>\n",
       "    </tr>\n",
       "    <tr>\n",
       "      <th>126309</th>\n",
       "      <td>63155</td>\n",
       "      <td>201506110CLE</td>\n",
       "      <td>NBA</td>\n",
       "      <td>0</td>\n",
       "      <td>2015</td>\n",
       "      <td>6/11/2015</td>\n",
       "      <td>100</td>\n",
       "      <td>1</td>\n",
       "      <td>CLE</td>\n",
       "      <td>Cavaliers</td>\n",
       "      <td>82</td>\n",
       "      <td>1723.41</td>\n",
       "      <td>1704.39</td>\n",
       "      <td>60.31</td>\n",
       "      <td>GSW</td>\n",
       "      <td>Warriors</td>\n",
       "      <td>103</td>\n",
       "      <td>1790.96</td>\n",
       "      <td>1809.98</td>\n",
       "      <td>H</td>\n",
       "      <td>L</td>\n",
       "      <td>0.55</td>\n",
       "      <td>no notes at all</td>\n",
       "    </tr>\n",
       "    <tr>\n",
       "      <th>126310</th>\n",
       "      <td>63156</td>\n",
       "      <td>201506140GSW</td>\n",
       "      <td>NBA</td>\n",
       "      <td>0</td>\n",
       "      <td>2015</td>\n",
       "      <td>6/14/2015</td>\n",
       "      <td>102</td>\n",
       "      <td>1</td>\n",
       "      <td>GSW</td>\n",
       "      <td>Warriors</td>\n",
       "      <td>104</td>\n",
       "      <td>1809.98</td>\n",
       "      <td>1813.63</td>\n",
       "      <td>68.01</td>\n",
       "      <td>CLE</td>\n",
       "      <td>Cavaliers</td>\n",
       "      <td>91</td>\n",
       "      <td>1704.39</td>\n",
       "      <td>1700.74</td>\n",
       "      <td>H</td>\n",
       "      <td>W</td>\n",
       "      <td>0.77</td>\n",
       "      <td>no notes at all</td>\n",
       "    </tr>\n",
       "    <tr>\n",
       "      <th>126311</th>\n",
       "      <td>63156</td>\n",
       "      <td>201506140GSW</td>\n",
       "      <td>NBA</td>\n",
       "      <td>1</td>\n",
       "      <td>2015</td>\n",
       "      <td>6/14/2015</td>\n",
       "      <td>101</td>\n",
       "      <td>1</td>\n",
       "      <td>CLE</td>\n",
       "      <td>Cavaliers</td>\n",
       "      <td>91</td>\n",
       "      <td>1704.39</td>\n",
       "      <td>1700.74</td>\n",
       "      <td>60.01</td>\n",
       "      <td>GSW</td>\n",
       "      <td>Warriors</td>\n",
       "      <td>104</td>\n",
       "      <td>1809.98</td>\n",
       "      <td>1813.63</td>\n",
       "      <td>A</td>\n",
       "      <td>L</td>\n",
       "      <td>0.23</td>\n",
       "      <td>no notes at all</td>\n",
       "    </tr>\n",
       "    <tr>\n",
       "      <th>126312</th>\n",
       "      <td>63157</td>\n",
       "      <td>201506170CLE</td>\n",
       "      <td>NBA</td>\n",
       "      <td>0</td>\n",
       "      <td>2015</td>\n",
       "      <td>6/16/2015</td>\n",
       "      <td>102</td>\n",
       "      <td>1</td>\n",
       "      <td>CLE</td>\n",
       "      <td>Cavaliers</td>\n",
       "      <td>97</td>\n",
       "      <td>1700.74</td>\n",
       "      <td>1692.09</td>\n",
       "      <td>59.29</td>\n",
       "      <td>GSW</td>\n",
       "      <td>Warriors</td>\n",
       "      <td>105</td>\n",
       "      <td>1813.63</td>\n",
       "      <td>1822.29</td>\n",
       "      <td>H</td>\n",
       "      <td>L</td>\n",
       "      <td>0.48</td>\n",
       "      <td>no notes at all</td>\n",
       "    </tr>\n",
       "    <tr>\n",
       "      <th>126313</th>\n",
       "      <td>63157</td>\n",
       "      <td>201506170CLE</td>\n",
       "      <td>NBA</td>\n",
       "      <td>1</td>\n",
       "      <td>2015</td>\n",
       "      <td>6/16/2015</td>\n",
       "      <td>103</td>\n",
       "      <td>1</td>\n",
       "      <td>GSW</td>\n",
       "      <td>Warriors</td>\n",
       "      <td>105</td>\n",
       "      <td>1813.63</td>\n",
       "      <td>1822.29</td>\n",
       "      <td>68.52</td>\n",
       "      <td>CLE</td>\n",
       "      <td>Cavaliers</td>\n",
       "      <td>97</td>\n",
       "      <td>1700.74</td>\n",
       "      <td>1692.09</td>\n",
       "      <td>A</td>\n",
       "      <td>W</td>\n",
       "      <td>0.52</td>\n",
       "      <td>no notes at all</td>\n",
       "    </tr>\n",
       "  </tbody>\n",
       "</table>\n",
       "<p>126314 rows × 23 columns</p>\n",
       "</div>"
      ],
      "text/plain": [
       "        gameorder       game_id lg_id  _iscopy  year_id  date_game  \\\n",
       "0               1  194611010TRH   NBA        0     1947  11/1/1946   \n",
       "1               1  194611010TRH   NBA        1     1947  11/1/1946   \n",
       "2               2  194611020CHS   NBA        0     1947  11/2/1946   \n",
       "3               2  194611020CHS   NBA        1     1947  11/2/1946   \n",
       "4               3  194611020DTF   NBA        0     1947  11/2/1946   \n",
       "...           ...           ...   ...      ...      ...        ...   \n",
       "126309      63155  201506110CLE   NBA        0     2015  6/11/2015   \n",
       "126310      63156  201506140GSW   NBA        0     2015  6/14/2015   \n",
       "126311      63156  201506140GSW   NBA        1     2015  6/14/2015   \n",
       "126312      63157  201506170CLE   NBA        0     2015  6/16/2015   \n",
       "126313      63157  201506170CLE   NBA        1     2015  6/16/2015   \n",
       "\n",
       "        seasongame  is_playoffs team_id    fran_id  pts    elo_i    elo_n  \\\n",
       "0                1            0     TRH    Huskies   66  1300.00  1293.28   \n",
       "1                1            0     NYK     Knicks   68  1300.00  1306.72   \n",
       "2                1            0     CHS      Stags   63  1300.00  1309.65   \n",
       "3                2            0     NYK     Knicks   47  1306.72  1297.07   \n",
       "4                1            0     DTF    Falcons   33  1300.00  1279.62   \n",
       "...            ...          ...     ...        ...  ...      ...      ...   \n",
       "126309         100            1     CLE  Cavaliers   82  1723.41  1704.39   \n",
       "126310         102            1     GSW   Warriors  104  1809.98  1813.63   \n",
       "126311         101            1     CLE  Cavaliers   91  1704.39  1700.74   \n",
       "126312         102            1     CLE  Cavaliers   97  1700.74  1692.09   \n",
       "126313         103            1     GSW   Warriors  105  1813.63  1822.29   \n",
       "\n",
       "        win_equiv opp_id   opp_fran  opp_pts  opp_elo_i  opp_elo_n  \\\n",
       "0           40.29    NYK     Knicks       68    1300.00    1306.72   \n",
       "1           41.71    TRH    Huskies       66    1300.00    1293.28   \n",
       "2           42.01    NYK     Knicks       47    1306.72    1297.07   \n",
       "3           40.69    CHS      Stags       63    1300.00    1309.65   \n",
       "4           38.86    WSC   Capitols       50    1300.00    1320.38   \n",
       "...           ...    ...        ...      ...        ...        ...   \n",
       "126309      60.31    GSW   Warriors      103    1790.96    1809.98   \n",
       "126310      68.01    CLE  Cavaliers       91    1704.39    1700.74   \n",
       "126311      60.01    GSW   Warriors      104    1809.98    1813.63   \n",
       "126312      59.29    GSW   Warriors      105    1813.63    1822.29   \n",
       "126313      68.52    CLE  Cavaliers       97    1700.74    1692.09   \n",
       "\n",
       "       game_location game_result  forecast            notes  \n",
       "0                  H           L      0.64  no notes at all  \n",
       "1                  A           W      0.36  no notes at all  \n",
       "2                  H           W      0.63  no notes at all  \n",
       "3                  A           L      0.37  no notes at all  \n",
       "4                  H           L      0.64  no notes at all  \n",
       "...              ...         ...       ...              ...  \n",
       "126309             H           L      0.55  no notes at all  \n",
       "126310             H           W      0.77  no notes at all  \n",
       "126311             A           L      0.23  no notes at all  \n",
       "126312             H           L      0.48  no notes at all  \n",
       "126313             A           W      0.52  no notes at all  \n",
       "\n",
       "[126314 rows x 23 columns]"
      ]
     },
     "execution_count": 143,
     "metadata": {},
     "output_type": "execute_result"
    }
   ],
   "source": [
    "data_with_default_notes"
   ]
  },
  {
   "cell_type": "markdown",
   "metadata": {},
   "source": [
    "Here, you fill the empty notes rows with the string `\"no notes at all\"`.\n"
   ]
  },
  {
   "cell_type": "markdown",
   "metadata": {},
   "source": [
    "### Invalid Values"
   ]
  },
  {
   "cell_type": "markdown",
   "metadata": {},
   "source": [
    "Invalid values can be even more dangerous than missing values. Often, you can perform your data analysis as expected, but the results you get are peculiar. This is especially important if your dataset is enormous or used manual entry. Invalid values are often more challenging to detect, but you can implement some sanity checks with queries and aggregations.\n",
    "\n",
    "One thing you can do is validate the ranges of your data. For this, `.describe()` is quite handy. Recall that it returns the following output:"
   ]
  },
  {
   "cell_type": "code",
   "execution_count": 144,
   "metadata": {},
   "outputs": [
    {
     "data": {
      "text/html": [
       "<div>\n",
       "<style scoped>\n",
       "    .dataframe tbody tr th:only-of-type {\n",
       "        vertical-align: middle;\n",
       "    }\n",
       "\n",
       "    .dataframe tbody tr th {\n",
       "        vertical-align: top;\n",
       "    }\n",
       "\n",
       "    .dataframe thead th {\n",
       "        text-align: right;\n",
       "    }\n",
       "</style>\n",
       "<table border=\"1\" class=\"dataframe\">\n",
       "  <thead>\n",
       "    <tr style=\"text-align: right;\">\n",
       "      <th></th>\n",
       "      <th>gameorder</th>\n",
       "      <th>_iscopy</th>\n",
       "      <th>year_id</th>\n",
       "      <th>seasongame</th>\n",
       "      <th>is_playoffs</th>\n",
       "      <th>pts</th>\n",
       "      <th>elo_i</th>\n",
       "      <th>elo_n</th>\n",
       "      <th>win_equiv</th>\n",
       "      <th>opp_pts</th>\n",
       "      <th>opp_elo_i</th>\n",
       "      <th>opp_elo_n</th>\n",
       "      <th>forecast</th>\n",
       "    </tr>\n",
       "  </thead>\n",
       "  <tbody>\n",
       "    <tr>\n",
       "      <th>count</th>\n",
       "      <td>126314.00</td>\n",
       "      <td>126314.0</td>\n",
       "      <td>126314.00</td>\n",
       "      <td>126314.00</td>\n",
       "      <td>126314.00</td>\n",
       "      <td>126314.00</td>\n",
       "      <td>126314.00</td>\n",
       "      <td>126314.00</td>\n",
       "      <td>126314.00</td>\n",
       "      <td>126314.00</td>\n",
       "      <td>126314.00</td>\n",
       "      <td>126314.00</td>\n",
       "      <td>126314.00</td>\n",
       "    </tr>\n",
       "    <tr>\n",
       "      <th>mean</th>\n",
       "      <td>31579.00</td>\n",
       "      <td>0.5</td>\n",
       "      <td>1988.20</td>\n",
       "      <td>43.53</td>\n",
       "      <td>0.06</td>\n",
       "      <td>102.73</td>\n",
       "      <td>1495.24</td>\n",
       "      <td>1495.24</td>\n",
       "      <td>41.71</td>\n",
       "      <td>102.73</td>\n",
       "      <td>1495.24</td>\n",
       "      <td>1495.24</td>\n",
       "      <td>0.50</td>\n",
       "    </tr>\n",
       "    <tr>\n",
       "      <th>std</th>\n",
       "      <td>18231.93</td>\n",
       "      <td>0.5</td>\n",
       "      <td>17.58</td>\n",
       "      <td>25.38</td>\n",
       "      <td>0.24</td>\n",
       "      <td>14.81</td>\n",
       "      <td>112.14</td>\n",
       "      <td>112.46</td>\n",
       "      <td>10.63</td>\n",
       "      <td>14.81</td>\n",
       "      <td>112.14</td>\n",
       "      <td>112.46</td>\n",
       "      <td>0.22</td>\n",
       "    </tr>\n",
       "    <tr>\n",
       "      <th>min</th>\n",
       "      <td>1.00</td>\n",
       "      <td>0.0</td>\n",
       "      <td>1947.00</td>\n",
       "      <td>1.00</td>\n",
       "      <td>0.00</td>\n",
       "      <td>0.00</td>\n",
       "      <td>1091.64</td>\n",
       "      <td>1085.77</td>\n",
       "      <td>10.15</td>\n",
       "      <td>0.00</td>\n",
       "      <td>1091.64</td>\n",
       "      <td>1085.77</td>\n",
       "      <td>0.02</td>\n",
       "    </tr>\n",
       "    <tr>\n",
       "      <th>25%</th>\n",
       "      <td>15790.00</td>\n",
       "      <td>0.0</td>\n",
       "      <td>1975.00</td>\n",
       "      <td>22.00</td>\n",
       "      <td>0.00</td>\n",
       "      <td>93.00</td>\n",
       "      <td>1417.24</td>\n",
       "      <td>1416.99</td>\n",
       "      <td>34.10</td>\n",
       "      <td>93.00</td>\n",
       "      <td>1417.24</td>\n",
       "      <td>1416.99</td>\n",
       "      <td>0.33</td>\n",
       "    </tr>\n",
       "    <tr>\n",
       "      <th>50%</th>\n",
       "      <td>31579.00</td>\n",
       "      <td>0.5</td>\n",
       "      <td>1990.00</td>\n",
       "      <td>43.00</td>\n",
       "      <td>0.00</td>\n",
       "      <td>103.00</td>\n",
       "      <td>1500.95</td>\n",
       "      <td>1500.95</td>\n",
       "      <td>42.11</td>\n",
       "      <td>103.00</td>\n",
       "      <td>1500.95</td>\n",
       "      <td>1500.95</td>\n",
       "      <td>0.50</td>\n",
       "    </tr>\n",
       "    <tr>\n",
       "      <th>75%</th>\n",
       "      <td>47368.00</td>\n",
       "      <td>1.0</td>\n",
       "      <td>2003.00</td>\n",
       "      <td>65.00</td>\n",
       "      <td>0.00</td>\n",
       "      <td>112.00</td>\n",
       "      <td>1576.06</td>\n",
       "      <td>1576.29</td>\n",
       "      <td>49.64</td>\n",
       "      <td>112.00</td>\n",
       "      <td>1576.06</td>\n",
       "      <td>1576.29</td>\n",
       "      <td>0.67</td>\n",
       "    </tr>\n",
       "    <tr>\n",
       "      <th>max</th>\n",
       "      <td>63157.00</td>\n",
       "      <td>1.0</td>\n",
       "      <td>2015.00</td>\n",
       "      <td>108.00</td>\n",
       "      <td>1.00</td>\n",
       "      <td>186.00</td>\n",
       "      <td>1853.10</td>\n",
       "      <td>1853.10</td>\n",
       "      <td>71.11</td>\n",
       "      <td>186.00</td>\n",
       "      <td>1853.10</td>\n",
       "      <td>1853.10</td>\n",
       "      <td>0.98</td>\n",
       "    </tr>\n",
       "  </tbody>\n",
       "</table>\n",
       "</div>"
      ],
      "text/plain": [
       "       gameorder   _iscopy    year_id  seasongame  is_playoffs        pts  \\\n",
       "count  126314.00  126314.0  126314.00   126314.00    126314.00  126314.00   \n",
       "mean    31579.00       0.5    1988.20       43.53         0.06     102.73   \n",
       "std     18231.93       0.5      17.58       25.38         0.24      14.81   \n",
       "min         1.00       0.0    1947.00        1.00         0.00       0.00   \n",
       "25%     15790.00       0.0    1975.00       22.00         0.00      93.00   \n",
       "50%     31579.00       0.5    1990.00       43.00         0.00     103.00   \n",
       "75%     47368.00       1.0    2003.00       65.00         0.00     112.00   \n",
       "max     63157.00       1.0    2015.00      108.00         1.00     186.00   \n",
       "\n",
       "           elo_i      elo_n  win_equiv    opp_pts  opp_elo_i  opp_elo_n  \\\n",
       "count  126314.00  126314.00  126314.00  126314.00  126314.00  126314.00   \n",
       "mean     1495.24    1495.24      41.71     102.73    1495.24    1495.24   \n",
       "std       112.14     112.46      10.63      14.81     112.14     112.46   \n",
       "min      1091.64    1085.77      10.15       0.00    1091.64    1085.77   \n",
       "25%      1417.24    1416.99      34.10      93.00    1417.24    1416.99   \n",
       "50%      1500.95    1500.95      42.11     103.00    1500.95    1500.95   \n",
       "75%      1576.06    1576.29      49.64     112.00    1576.06    1576.29   \n",
       "max      1853.10    1853.10      71.11     186.00    1853.10    1853.10   \n",
       "\n",
       "        forecast  \n",
       "count  126314.00  \n",
       "mean        0.50  \n",
       "std         0.22  \n",
       "min         0.02  \n",
       "25%         0.33  \n",
       "50%         0.50  \n",
       "75%         0.67  \n",
       "max         0.98  "
      ]
     },
     "execution_count": 144,
     "metadata": {},
     "output_type": "execute_result"
    }
   ],
   "source": [
    "nba.describe()"
   ]
  },
  {
   "cell_type": "markdown",
   "metadata": {},
   "source": [
    "The `year_id` varies between `1947` and `2015`. That sounds plausible.\n",
    "What about `pts`? How can the minimum be `0`? Let’s have a look at those games:"
   ]
  },
  {
   "cell_type": "code",
   "execution_count": 145,
   "metadata": {},
   "outputs": [
    {
     "data": {
      "text/html": [
       "<div>\n",
       "<style scoped>\n",
       "    .dataframe tbody tr th:only-of-type {\n",
       "        vertical-align: middle;\n",
       "    }\n",
       "\n",
       "    .dataframe tbody tr th {\n",
       "        vertical-align: top;\n",
       "    }\n",
       "\n",
       "    .dataframe thead th {\n",
       "        text-align: right;\n",
       "    }\n",
       "</style>\n",
       "<table border=\"1\" class=\"dataframe\">\n",
       "  <thead>\n",
       "    <tr style=\"text-align: right;\">\n",
       "      <th></th>\n",
       "      <th>gameorder</th>\n",
       "      <th>game_id</th>\n",
       "      <th>lg_id</th>\n",
       "      <th>_iscopy</th>\n",
       "      <th>year_id</th>\n",
       "      <th>date_game</th>\n",
       "      <th>seasongame</th>\n",
       "      <th>is_playoffs</th>\n",
       "      <th>team_id</th>\n",
       "      <th>fran_id</th>\n",
       "      <th>pts</th>\n",
       "      <th>elo_i</th>\n",
       "      <th>elo_n</th>\n",
       "      <th>win_equiv</th>\n",
       "      <th>opp_id</th>\n",
       "      <th>opp_fran</th>\n",
       "      <th>opp_pts</th>\n",
       "      <th>opp_elo_i</th>\n",
       "      <th>opp_elo_n</th>\n",
       "      <th>game_location</th>\n",
       "      <th>game_result</th>\n",
       "      <th>forecast</th>\n",
       "      <th>notes</th>\n",
       "    </tr>\n",
       "  </thead>\n",
       "  <tbody>\n",
       "    <tr>\n",
       "      <th>26684</th>\n",
       "      <td>13343</td>\n",
       "      <td>197210260VIR</td>\n",
       "      <td>ABA</td>\n",
       "      <td>1</td>\n",
       "      <td>1973</td>\n",
       "      <td>10/26/1972</td>\n",
       "      <td>7</td>\n",
       "      <td>0</td>\n",
       "      <td>DNR</td>\n",
       "      <td>Nuggets</td>\n",
       "      <td>0</td>\n",
       "      <td>1460.34</td>\n",
       "      <td>1457.45</td>\n",
       "      <td>40.41</td>\n",
       "      <td>VIR</td>\n",
       "      <td>Squires</td>\n",
       "      <td>2</td>\n",
       "      <td>1484.19</td>\n",
       "      <td>1487.08</td>\n",
       "      <td>A</td>\n",
       "      <td>L</td>\n",
       "      <td>0.33</td>\n",
       "      <td>at Richmond VA; forfeit to VIR</td>\n",
       "    </tr>\n",
       "  </tbody>\n",
       "</table>\n",
       "</div>"
      ],
      "text/plain": [
       "       gameorder       game_id lg_id  _iscopy  year_id   date_game  \\\n",
       "26684      13343  197210260VIR   ABA        1     1973  10/26/1972   \n",
       "\n",
       "       seasongame  is_playoffs team_id  fran_id  pts    elo_i    elo_n  \\\n",
       "26684           7            0     DNR  Nuggets    0  1460.34  1457.45   \n",
       "\n",
       "       win_equiv opp_id opp_fran  opp_pts  opp_elo_i  opp_elo_n game_location  \\\n",
       "26684      40.41    VIR  Squires        2    1484.19    1487.08             A   \n",
       "\n",
       "      game_result  forecast                           notes  \n",
       "26684           L      0.33  at Richmond VA; forfeit to VIR  "
      ]
     },
     "execution_count": 145,
     "metadata": {},
     "output_type": "execute_result"
    }
   ],
   "source": [
    "nba[nba[\"pts\"] == 0]"
   ]
  },
  {
   "cell_type": "markdown",
   "metadata": {},
   "source": [
    "This query returns a single row and it seems the game was forfeited. Depending on your analysis, you may want to remove it from the dataset."
   ]
  },
  {
   "cell_type": "markdown",
   "metadata": {},
   "source": [
    "### Inconsistencies Between Values in Different Columns"
   ]
  },
  {
   "cell_type": "markdown",
   "metadata": {},
   "source": [
    "Sometimes a value would be entirely realistic in and of itself, but it doesn’t fit with the values in the other columns. You can define some query criteria that are mutually exclusive and verify that these don’t occur together.\n",
    "\n",
    "In the NBA dataset, the values of the fields `pts`, `opp_pts` and `game_result` should be consistent with each other. You can check this using the `.empty` attribute:"
   ]
  },
  {
   "cell_type": "code",
   "execution_count": 146,
   "metadata": {},
   "outputs": [
    {
     "data": {
      "text/plain": [
       "True"
      ]
     },
     "execution_count": 146,
     "metadata": {},
     "output_type": "execute_result"
    }
   ],
   "source": [
    "nba[(nba[\"pts\"] > nba[\"opp_pts\"]) & (nba[\"game_result\"] != 'W')].empty\n",
    "# Expected:\n",
    "# True"
   ]
  },
  {
   "cell_type": "code",
   "execution_count": 147,
   "metadata": {},
   "outputs": [
    {
     "data": {
      "text/plain": [
       "True"
      ]
     },
     "execution_count": 147,
     "metadata": {},
     "output_type": "execute_result"
    }
   ],
   "source": [
    "nba[(nba[\"pts\"] < nba[\"opp_pts\"]) & (nba[\"game_result\"] != 'L')].empty\n",
    "# Expected:\n",
    "# True"
   ]
  },
  {
   "cell_type": "markdown",
   "metadata": {},
   "source": [
    "Fortunately, both of these queries return an empty `DataFrame`.\n",
    "\n",
    "Be prepared for surprises whenever you’re working with raw datasets, especially if they were gathered from different sources or through a complex pipeline. You might see rows where a team scored more points than their opponent, but still didn’t win—at least, according to your dataset! To avoid situations like this, make sure you add further data cleaning techniques to your Pandas and Python arsenal."
   ]
  },
  {
   "cell_type": "markdown",
   "metadata": {},
   "source": [
    "# 11. Working With Multiple Datasets in Pandas"
   ]
  },
  {
   "cell_type": "markdown",
   "metadata": {},
   "source": [
    "### Combining Data Based on the Index With `concat()`"
   ]
  },
  {
   "cell_type": "markdown",
   "metadata": {},
   "source": [
    "In the previous section, you’ve learned how to clean a messy dataset. Another aspect of real-world data is that it often comes in multiple pieces. In this section, you’ll learn how to grab those pieces and combine them into one dataset that’s ready for analysis.\n",
    "\n",
    "Earlier, you combined two `Series` objects into a `DataFrame` based on their indices. Now, you’ll take this one step further and use `.concat()` to combine `city_data` with another `DataFrame`. Say you’ve managed to gather some data on two more cities:\n"
   ]
  },
  {
   "cell_type": "code",
   "execution_count": 150,
   "metadata": {},
   "outputs": [
    {
     "data": {
      "text/html": [
       "<div>\n",
       "<style scoped>\n",
       "    .dataframe tbody tr th:only-of-type {\n",
       "        vertical-align: middle;\n",
       "    }\n",
       "\n",
       "    .dataframe tbody tr th {\n",
       "        vertical-align: top;\n",
       "    }\n",
       "\n",
       "    .dataframe thead th {\n",
       "        text-align: right;\n",
       "    }\n",
       "</style>\n",
       "<table border=\"1\" class=\"dataframe\">\n",
       "  <thead>\n",
       "    <tr style=\"text-align: right;\">\n",
       "      <th></th>\n",
       "      <th>revenue</th>\n",
       "      <th>employee_count</th>\n",
       "    </tr>\n",
       "  </thead>\n",
       "  <tbody>\n",
       "    <tr>\n",
       "      <th>New York</th>\n",
       "      <td>7000</td>\n",
       "      <td>2</td>\n",
       "    </tr>\n",
       "    <tr>\n",
       "      <th>Barcelona</th>\n",
       "      <td>3400</td>\n",
       "      <td>2</td>\n",
       "    </tr>\n",
       "  </tbody>\n",
       "</table>\n",
       "</div>"
      ],
      "text/plain": [
       "           revenue  employee_count\n",
       "New York      7000               2\n",
       "Barcelona     3400               2"
      ]
     },
     "execution_count": 150,
     "metadata": {},
     "output_type": "execute_result"
    }
   ],
   "source": [
    "further_city_data"
   ]
  },
  {
   "cell_type": "code",
   "execution_count": 151,
   "metadata": {},
   "outputs": [
    {
     "data": {
      "text/html": [
       "<div>\n",
       "<style scoped>\n",
       "    .dataframe tbody tr th:only-of-type {\n",
       "        vertical-align: middle;\n",
       "    }\n",
       "\n",
       "    .dataframe tbody tr th {\n",
       "        vertical-align: top;\n",
       "    }\n",
       "\n",
       "    .dataframe thead th {\n",
       "        text-align: right;\n",
       "    }\n",
       "</style>\n",
       "<table border=\"1\" class=\"dataframe\">\n",
       "  <thead>\n",
       "    <tr style=\"text-align: right;\">\n",
       "      <th></th>\n",
       "      <th>revenue</th>\n",
       "      <th>employee_count</th>\n",
       "    </tr>\n",
       "  </thead>\n",
       "  <tbody>\n",
       "    <tr>\n",
       "      <th>Amsterdam</th>\n",
       "      <td>4200</td>\n",
       "      <td>5.0</td>\n",
       "    </tr>\n",
       "    <tr>\n",
       "      <th>Tokyo</th>\n",
       "      <td>6500</td>\n",
       "      <td>8.0</td>\n",
       "    </tr>\n",
       "    <tr>\n",
       "      <th>Toronto</th>\n",
       "      <td>8000</td>\n",
       "      <td>NaN</td>\n",
       "    </tr>\n",
       "    <tr>\n",
       "      <th>New York</th>\n",
       "      <td>7000</td>\n",
       "      <td>2.0</td>\n",
       "    </tr>\n",
       "    <tr>\n",
       "      <th>Barcelona</th>\n",
       "      <td>3400</td>\n",
       "      <td>2.0</td>\n",
       "    </tr>\n",
       "  </tbody>\n",
       "</table>\n",
       "</div>"
      ],
      "text/plain": [
       "           revenue  employee_count\n",
       "Amsterdam     4200             5.0\n",
       "Tokyo         6500             8.0\n",
       "Toronto       8000             NaN\n",
       "New York      7000             2.0\n",
       "Barcelona     3400             2.0"
      ]
     },
     "execution_count": 151,
     "metadata": {},
     "output_type": "execute_result"
    }
   ],
   "source": [
    "further_city_data = pd.DataFrame(\n",
    "    {\"revenue\": [7000, 3400], \"employee_count\":[2, 2]},\n",
    "    index=[\"New York\", \"Barcelona\"]\n",
    ")\n",
    "all_city_data = pd.concat([city_data, further_city_data], sort=False)\n",
    "all_city_data\n",
    "# Expected:\n",
    "# Amsterdam   4200    5.0\n",
    "# Tokyo       6500    8.0\n",
    "# Toronto     8000    NaN\n",
    "# New York    7000    2.0\n",
    "# Barcelona   3400    2.0"
   ]
  },
  {
   "cell_type": "markdown",
   "metadata": {},
   "source": [
    "This second `DataFrame` contains info on the cities `\"New York\"` and `\"Barcelona\"`.\n",
    "You can add these cities to `city_data` using `.concat()`:\n"
   ]
  },
  {
   "cell_type": "code",
   "execution_count": 152,
   "metadata": {},
   "outputs": [
    {
     "data": {
      "text/html": [
       "<div>\n",
       "<style scoped>\n",
       "    .dataframe tbody tr th:only-of-type {\n",
       "        vertical-align: middle;\n",
       "    }\n",
       "\n",
       "    .dataframe tbody tr th {\n",
       "        vertical-align: top;\n",
       "    }\n",
       "\n",
       "    .dataframe thead th {\n",
       "        text-align: right;\n",
       "    }\n",
       "</style>\n",
       "<table border=\"1\" class=\"dataframe\">\n",
       "  <thead>\n",
       "    <tr style=\"text-align: right;\">\n",
       "      <th></th>\n",
       "      <th>revenue</th>\n",
       "      <th>employee_count</th>\n",
       "    </tr>\n",
       "  </thead>\n",
       "  <tbody>\n",
       "    <tr>\n",
       "      <th>Amsterdam</th>\n",
       "      <td>4200</td>\n",
       "      <td>5.0</td>\n",
       "    </tr>\n",
       "    <tr>\n",
       "      <th>Tokyo</th>\n",
       "      <td>6500</td>\n",
       "      <td>8.0</td>\n",
       "    </tr>\n",
       "    <tr>\n",
       "      <th>Toronto</th>\n",
       "      <td>8000</td>\n",
       "      <td>NaN</td>\n",
       "    </tr>\n",
       "    <tr>\n",
       "      <th>New York</th>\n",
       "      <td>7000</td>\n",
       "      <td>2.0</td>\n",
       "    </tr>\n",
       "    <tr>\n",
       "      <th>Barcelona</th>\n",
       "      <td>3400</td>\n",
       "      <td>2.0</td>\n",
       "    </tr>\n",
       "  </tbody>\n",
       "</table>\n",
       "</div>"
      ],
      "text/plain": [
       "           revenue  employee_count\n",
       "Amsterdam     4200             5.0\n",
       "Tokyo         6500             8.0\n",
       "Toronto       8000             NaN\n",
       "New York      7000             2.0\n",
       "Barcelona     3400             2.0"
      ]
     },
     "execution_count": 152,
     "metadata": {},
     "output_type": "execute_result"
    }
   ],
   "source": [
    "all_city_data = pd.concat([city_data, further_city_data], sort=False)\n",
    "all_city_data\n",
    "# Expected:\n",
    "# revenue  employee_count  country  capital\n",
    "# Amsterdam     4200             5.0  Holland        1\n",
    "# Tokyo         6500             8.0    Japan        1\n",
    "# Toronto       8000             NaN   Canada        0\n",
    "# Barcelona     3400             2.0    Spain        0"
   ]
  },
  {
   "cell_type": "markdown",
   "metadata": {},
   "source": [
    "Now, the new variable `all_city_data` contains the values from both `DataFrame` objects.\n",
    "\n",
    "Note: As of Pandas version 0.25.0, the `sort` parameter’s default value is `True`, but this will change to `False` soon. It’s good practice to provide an explicit value for this parameter to ensure that your code works consistently in different Pandas and Python versions. For more info, consult the Pandas User Guide.\n",
    "\n",
    "By default, `concat()` combines along `axis=0`. In other words, it appends rows. You can also use it to append columns by supplying the parameter `axis=1`:\n"
   ]
  },
  {
   "cell_type": "code",
   "execution_count": 153,
   "metadata": {},
   "outputs": [
    {
     "data": {
      "text/html": [
       "<div>\n",
       "<style scoped>\n",
       "    .dataframe tbody tr th:only-of-type {\n",
       "        vertical-align: middle;\n",
       "    }\n",
       "\n",
       "    .dataframe tbody tr th {\n",
       "        vertical-align: top;\n",
       "    }\n",
       "\n",
       "    .dataframe thead th {\n",
       "        text-align: right;\n",
       "    }\n",
       "</style>\n",
       "<table border=\"1\" class=\"dataframe\">\n",
       "  <thead>\n",
       "    <tr style=\"text-align: right;\">\n",
       "      <th></th>\n",
       "      <th>country</th>\n",
       "      <th>capital</th>\n",
       "    </tr>\n",
       "  </thead>\n",
       "  <tbody>\n",
       "    <tr>\n",
       "      <th>Amsterdam</th>\n",
       "      <td>Holland</td>\n",
       "      <td>1</td>\n",
       "    </tr>\n",
       "    <tr>\n",
       "      <th>Tokyo</th>\n",
       "      <td>Japan</td>\n",
       "      <td>1</td>\n",
       "    </tr>\n",
       "    <tr>\n",
       "      <th>Rotterdam</th>\n",
       "      <td>Holland</td>\n",
       "      <td>0</td>\n",
       "    </tr>\n",
       "    <tr>\n",
       "      <th>Toronto</th>\n",
       "      <td>Canada</td>\n",
       "      <td>0</td>\n",
       "    </tr>\n",
       "    <tr>\n",
       "      <th>Barcelona</th>\n",
       "      <td>Spain</td>\n",
       "      <td>0</td>\n",
       "    </tr>\n",
       "  </tbody>\n",
       "</table>\n",
       "</div>"
      ],
      "text/plain": [
       "           country  capital\n",
       "Amsterdam  Holland        1\n",
       "Tokyo        Japan        1\n",
       "Rotterdam  Holland        0\n",
       "Toronto     Canada        0\n",
       "Barcelona    Spain        0"
      ]
     },
     "execution_count": 153,
     "metadata": {},
     "output_type": "execute_result"
    }
   ],
   "source": [
    "city_countries = pd.DataFrame({\n",
    "    \"country\": [\"Holland\", \"Japan\", \"Holland\", \"Canada\", \"Spain\"],\n",
    "    \"capital\": [1, 1, 0, 0, 0]},\n",
    "    index=[\"Amsterdam\", \"Tokyo\", \"Rotterdam\", \"Toronto\", \"Barcelona\"]\n",
    ")\n",
    "city_countries"
   ]
  },
  {
   "cell_type": "code",
   "execution_count": 154,
   "metadata": {},
   "outputs": [
    {
     "data": {
      "text/html": [
       "<div>\n",
       "<style scoped>\n",
       "    .dataframe tbody tr th:only-of-type {\n",
       "        vertical-align: middle;\n",
       "    }\n",
       "\n",
       "    .dataframe tbody tr th {\n",
       "        vertical-align: top;\n",
       "    }\n",
       "\n",
       "    .dataframe thead th {\n",
       "        text-align: right;\n",
       "    }\n",
       "</style>\n",
       "<table border=\"1\" class=\"dataframe\">\n",
       "  <thead>\n",
       "    <tr style=\"text-align: right;\">\n",
       "      <th></th>\n",
       "      <th>revenue</th>\n",
       "      <th>employee_count</th>\n",
       "      <th>country</th>\n",
       "      <th>capital</th>\n",
       "    </tr>\n",
       "  </thead>\n",
       "  <tbody>\n",
       "    <tr>\n",
       "      <th>Amsterdam</th>\n",
       "      <td>4200.0</td>\n",
       "      <td>5.0</td>\n",
       "      <td>Holland</td>\n",
       "      <td>1.0</td>\n",
       "    </tr>\n",
       "    <tr>\n",
       "      <th>Tokyo</th>\n",
       "      <td>6500.0</td>\n",
       "      <td>8.0</td>\n",
       "      <td>Japan</td>\n",
       "      <td>1.0</td>\n",
       "    </tr>\n",
       "    <tr>\n",
       "      <th>Toronto</th>\n",
       "      <td>8000.0</td>\n",
       "      <td>NaN</td>\n",
       "      <td>Canada</td>\n",
       "      <td>0.0</td>\n",
       "    </tr>\n",
       "    <tr>\n",
       "      <th>New York</th>\n",
       "      <td>7000.0</td>\n",
       "      <td>2.0</td>\n",
       "      <td>NaN</td>\n",
       "      <td>NaN</td>\n",
       "    </tr>\n",
       "    <tr>\n",
       "      <th>Barcelona</th>\n",
       "      <td>3400.0</td>\n",
       "      <td>2.0</td>\n",
       "      <td>Spain</td>\n",
       "      <td>0.0</td>\n",
       "    </tr>\n",
       "    <tr>\n",
       "      <th>Rotterdam</th>\n",
       "      <td>NaN</td>\n",
       "      <td>NaN</td>\n",
       "      <td>Holland</td>\n",
       "      <td>0.0</td>\n",
       "    </tr>\n",
       "  </tbody>\n",
       "</table>\n",
       "</div>"
      ],
      "text/plain": [
       "           revenue  employee_count  country  capital\n",
       "Amsterdam   4200.0             5.0  Holland      1.0\n",
       "Tokyo       6500.0             8.0    Japan      1.0\n",
       "Toronto     8000.0             NaN   Canada      0.0\n",
       "New York    7000.0             2.0      NaN      NaN\n",
       "Barcelona   3400.0             2.0    Spain      0.0\n",
       "Rotterdam      NaN             NaN  Holland      0.0"
      ]
     },
     "execution_count": 154,
     "metadata": {},
     "output_type": "execute_result"
    }
   ],
   "source": [
    "cities = pd.concat([all_city_data, city_countries], axis=1, sort=False)\n",
    "cities\n",
    "# Expected:\n",
    "# revenue  employee_count  country  capital\n",
    "# Amsterdam   4200.0             5.0  Holland      1.0\n",
    "# Tokyo       6500.0             8.0    Japan      1.0\n",
    "# Toronto     8000.0             NaN   Canada      0.0\n",
    "# New York    7000.0             2.0      NaN      NaN\n",
    "# Barcelona   3400.0             2.0    Spain      0.0\n",
    "# Rotterdam      NaN             NaN  Holland      0.0"
   ]
  },
  {
   "cell_type": "markdown",
   "metadata": {},
   "source": [
    "Note how Pandas added `NaN` for the missing values. If you want to combine only the cities that appear in both `DataFrame` objects, then you can set the `join` parameter to `inner`:"
   ]
  },
  {
   "cell_type": "code",
   "execution_count": 155,
   "metadata": {},
   "outputs": [
    {
     "data": {
      "text/html": [
       "<div>\n",
       "<style scoped>\n",
       "    .dataframe tbody tr th:only-of-type {\n",
       "        vertical-align: middle;\n",
       "    }\n",
       "\n",
       "    .dataframe tbody tr th {\n",
       "        vertical-align: top;\n",
       "    }\n",
       "\n",
       "    .dataframe thead th {\n",
       "        text-align: right;\n",
       "    }\n",
       "</style>\n",
       "<table border=\"1\" class=\"dataframe\">\n",
       "  <thead>\n",
       "    <tr style=\"text-align: right;\">\n",
       "      <th></th>\n",
       "      <th>revenue</th>\n",
       "      <th>employee_count</th>\n",
       "      <th>country</th>\n",
       "      <th>capital</th>\n",
       "    </tr>\n",
       "  </thead>\n",
       "  <tbody>\n",
       "    <tr>\n",
       "      <th>Amsterdam</th>\n",
       "      <td>4200</td>\n",
       "      <td>5.0</td>\n",
       "      <td>Holland</td>\n",
       "      <td>1</td>\n",
       "    </tr>\n",
       "    <tr>\n",
       "      <th>Tokyo</th>\n",
       "      <td>6500</td>\n",
       "      <td>8.0</td>\n",
       "      <td>Japan</td>\n",
       "      <td>1</td>\n",
       "    </tr>\n",
       "    <tr>\n",
       "      <th>Toronto</th>\n",
       "      <td>8000</td>\n",
       "      <td>NaN</td>\n",
       "      <td>Canada</td>\n",
       "      <td>0</td>\n",
       "    </tr>\n",
       "    <tr>\n",
       "      <th>Barcelona</th>\n",
       "      <td>3400</td>\n",
       "      <td>2.0</td>\n",
       "      <td>Spain</td>\n",
       "      <td>0</td>\n",
       "    </tr>\n",
       "  </tbody>\n",
       "</table>\n",
       "</div>"
      ],
      "text/plain": [
       "           revenue  employee_count  country  capital\n",
       "Amsterdam     4200             5.0  Holland        1\n",
       "Tokyo         6500             8.0    Japan        1\n",
       "Toronto       8000             NaN   Canada        0\n",
       "Barcelona     3400             2.0    Spain        0"
      ]
     },
     "execution_count": 155,
     "metadata": {},
     "output_type": "execute_result"
    }
   ],
   "source": [
    "pd.concat([all_city_data, city_countries], axis=1, join=\"inner\")\n",
    "#            revenue  employee_count  country  capital\n",
    "# Amsterdam     4200             5.0  Holland        1\n",
    "# Tokyo         6500             8.0    Japan        1\n",
    "# Toronto       8000             NaN   Canada        0\n",
    "# Barcelona     3400             2.0    Spain        0"
   ]
  },
  {
   "cell_type": "markdown",
   "metadata": {},
   "source": [
    "### Combining Data Based on Arbitrary Columns With `merge()`"
   ]
  },
  {
   "cell_type": "markdown",
   "metadata": {},
   "source": [
    "While it’s most straightforward to combine data based on the index, it’s not the only possibility. You can use `.merge()` to implement a `join` operation similar to the one from SQL:"
   ]
  },
  {
   "cell_type": "code",
   "execution_count": 156,
   "metadata": {},
   "outputs": [],
   "source": [
    "countries = pd.DataFrame({\n",
    "    \"population_millions\": [17, 127, 37],\n",
    "    \"continent\": [\"Europe\", \"Asia\", \"North America\"]\n",
    "}, index= [\"Holland\", \"Japan\", \"Canada\"])"
   ]
  },
  {
   "cell_type": "markdown",
   "metadata": {},
   "source": [
    "Here, you pass the parameter `left_on=\"country\"` to `.merge()` to indicate what column you want to join on. The result is a bigger `DataFrame` that contains not only city data, but also the population and continent of the respective countries:"
   ]
  },
  {
   "cell_type": "code",
   "execution_count": 157,
   "metadata": {},
   "outputs": [
    {
     "data": {
      "text/html": [
       "<div>\n",
       "<style scoped>\n",
       "    .dataframe tbody tr th:only-of-type {\n",
       "        vertical-align: middle;\n",
       "    }\n",
       "\n",
       "    .dataframe tbody tr th {\n",
       "        vertical-align: top;\n",
       "    }\n",
       "\n",
       "    .dataframe thead th {\n",
       "        text-align: right;\n",
       "    }\n",
       "</style>\n",
       "<table border=\"1\" class=\"dataframe\">\n",
       "  <thead>\n",
       "    <tr style=\"text-align: right;\">\n",
       "      <th></th>\n",
       "      <th>revenue</th>\n",
       "      <th>employee_count</th>\n",
       "      <th>country</th>\n",
       "      <th>capital</th>\n",
       "      <th>population_millions</th>\n",
       "      <th>continent</th>\n",
       "    </tr>\n",
       "  </thead>\n",
       "  <tbody>\n",
       "    <tr>\n",
       "      <th>Amsterdam</th>\n",
       "      <td>4200.0</td>\n",
       "      <td>5.0</td>\n",
       "      <td>Holland</td>\n",
       "      <td>1.0</td>\n",
       "      <td>17</td>\n",
       "      <td>Europe</td>\n",
       "    </tr>\n",
       "    <tr>\n",
       "      <th>Rotterdam</th>\n",
       "      <td>NaN</td>\n",
       "      <td>NaN</td>\n",
       "      <td>Holland</td>\n",
       "      <td>0.0</td>\n",
       "      <td>17</td>\n",
       "      <td>Europe</td>\n",
       "    </tr>\n",
       "    <tr>\n",
       "      <th>Tokyo</th>\n",
       "      <td>6500.0</td>\n",
       "      <td>8.0</td>\n",
       "      <td>Japan</td>\n",
       "      <td>1.0</td>\n",
       "      <td>127</td>\n",
       "      <td>Asia</td>\n",
       "    </tr>\n",
       "    <tr>\n",
       "      <th>Toronto</th>\n",
       "      <td>8000.0</td>\n",
       "      <td>NaN</td>\n",
       "      <td>Canada</td>\n",
       "      <td>0.0</td>\n",
       "      <td>37</td>\n",
       "      <td>North America</td>\n",
       "    </tr>\n",
       "  </tbody>\n",
       "</table>\n",
       "</div>"
      ],
      "text/plain": [
       "           revenue  employee_count  country  capital  population_millions  \\\n",
       "Amsterdam   4200.0             5.0  Holland      1.0                   17   \n",
       "Rotterdam      NaN             NaN  Holland      0.0                   17   \n",
       "Tokyo       6500.0             8.0    Japan      1.0                  127   \n",
       "Toronto     8000.0             NaN   Canada      0.0                   37   \n",
       "\n",
       "               continent  \n",
       "Amsterdam         Europe  \n",
       "Rotterdam         Europe  \n",
       "Tokyo               Asia  \n",
       "Toronto    North America  "
      ]
     },
     "execution_count": 157,
     "metadata": {},
     "output_type": "execute_result"
    }
   ],
   "source": [
    "pd.merge(cities, countries, left_on=\"country\", right_index=True)"
   ]
  },
  {
   "cell_type": "markdown",
   "metadata": {},
   "source": [
    "Note that the result contains only the cities where the country is known and appears in the joined `DataFrame`.\n",
    "\n",
    "`.merge()` performs an inner join by default. If you want to include all cities in the result, then you need to provide the `how` parameter:"
   ]
  },
  {
   "cell_type": "code",
   "execution_count": 158,
   "metadata": {},
   "outputs": [
    {
     "data": {
      "text/html": [
       "<div>\n",
       "<style scoped>\n",
       "    .dataframe tbody tr th:only-of-type {\n",
       "        vertical-align: middle;\n",
       "    }\n",
       "\n",
       "    .dataframe tbody tr th {\n",
       "        vertical-align: top;\n",
       "    }\n",
       "\n",
       "    .dataframe thead th {\n",
       "        text-align: right;\n",
       "    }\n",
       "</style>\n",
       "<table border=\"1\" class=\"dataframe\">\n",
       "  <thead>\n",
       "    <tr style=\"text-align: right;\">\n",
       "      <th></th>\n",
       "      <th>revenue</th>\n",
       "      <th>employee_count</th>\n",
       "      <th>country</th>\n",
       "      <th>capital</th>\n",
       "      <th>population_millions</th>\n",
       "      <th>continent</th>\n",
       "    </tr>\n",
       "  </thead>\n",
       "  <tbody>\n",
       "    <tr>\n",
       "      <th>Amsterdam</th>\n",
       "      <td>4200.0</td>\n",
       "      <td>5.0</td>\n",
       "      <td>Holland</td>\n",
       "      <td>1.0</td>\n",
       "      <td>17.0</td>\n",
       "      <td>Europe</td>\n",
       "    </tr>\n",
       "    <tr>\n",
       "      <th>Tokyo</th>\n",
       "      <td>6500.0</td>\n",
       "      <td>8.0</td>\n",
       "      <td>Japan</td>\n",
       "      <td>1.0</td>\n",
       "      <td>127.0</td>\n",
       "      <td>Asia</td>\n",
       "    </tr>\n",
       "    <tr>\n",
       "      <th>Toronto</th>\n",
       "      <td>8000.0</td>\n",
       "      <td>NaN</td>\n",
       "      <td>Canada</td>\n",
       "      <td>0.0</td>\n",
       "      <td>37.0</td>\n",
       "      <td>North America</td>\n",
       "    </tr>\n",
       "    <tr>\n",
       "      <th>New York</th>\n",
       "      <td>7000.0</td>\n",
       "      <td>2.0</td>\n",
       "      <td>NaN</td>\n",
       "      <td>NaN</td>\n",
       "      <td>NaN</td>\n",
       "      <td>NaN</td>\n",
       "    </tr>\n",
       "    <tr>\n",
       "      <th>Barcelona</th>\n",
       "      <td>3400.0</td>\n",
       "      <td>2.0</td>\n",
       "      <td>Spain</td>\n",
       "      <td>0.0</td>\n",
       "      <td>NaN</td>\n",
       "      <td>NaN</td>\n",
       "    </tr>\n",
       "    <tr>\n",
       "      <th>Rotterdam</th>\n",
       "      <td>NaN</td>\n",
       "      <td>NaN</td>\n",
       "      <td>Holland</td>\n",
       "      <td>0.0</td>\n",
       "      <td>17.0</td>\n",
       "      <td>Europe</td>\n",
       "    </tr>\n",
       "  </tbody>\n",
       "</table>\n",
       "</div>"
      ],
      "text/plain": [
       "           revenue  employee_count  country  capital  population_millions  \\\n",
       "Amsterdam   4200.0             5.0  Holland      1.0                 17.0   \n",
       "Tokyo       6500.0             8.0    Japan      1.0                127.0   \n",
       "Toronto     8000.0             NaN   Canada      0.0                 37.0   \n",
       "New York    7000.0             2.0      NaN      NaN                  NaN   \n",
       "Barcelona   3400.0             2.0    Spain      0.0                  NaN   \n",
       "Rotterdam      NaN             NaN  Holland      0.0                 17.0   \n",
       "\n",
       "               continent  \n",
       "Amsterdam         Europe  \n",
       "Tokyo               Asia  \n",
       "Toronto    North America  \n",
       "New York             NaN  \n",
       "Barcelona            NaN  \n",
       "Rotterdam         Europe  "
      ]
     },
     "execution_count": 158,
     "metadata": {},
     "output_type": "execute_result"
    }
   ],
   "source": [
    "pd.merge(\n",
    "    cities,\n",
    "    countries,\n",
    "    left_on=\"country\",\n",
    "    right_index=True,\n",
    "    how=\"left\"\n",
    ")"
   ]
  },
  {
   "cell_type": "markdown",
   "metadata": {},
   "source": [
    "With this `left` join, you’ll see all the cities, including those without country data.\n",
    "\n",
    "Welcome back, New York & Barcelona!"
   ]
  },
  {
   "cell_type": "markdown",
   "metadata": {},
   "source": [
    "# 12. Visualizing Your Pandas DataFrame"
   ]
  },
  {
   "cell_type": "markdown",
   "metadata": {},
   "source": [
    "Data visualization is one of the things that works much better in a Jupyter notebook than in a terminal.\n",
    "\n",
    "Include the following line to show plots directly in the notebook:"
   ]
  },
  {
   "cell_type": "code",
   "execution_count": 159,
   "metadata": {},
   "outputs": [],
   "source": [
    "%matplotlib inline"
   ]
  },
  {
   "cell_type": "markdown",
   "metadata": {},
   "source": [
    "Both `Series` and `DataFrame` objects have a `.plot()` method, which is a wrapper around `matplotlib.pyplot.plot()`. By default, it creates a **line plot**. \n",
    "\n",
    "Visualize how many points the Knicks scored throughout the seasons:"
   ]
  },
  {
   "cell_type": "code",
   "execution_count": 160,
   "metadata": {},
   "outputs": [
    {
     "data": {
      "text/plain": [
       "<AxesSubplot:xlabel='year_id'>"
      ]
     },
     "execution_count": 160,
     "metadata": {},
     "output_type": "execute_result"
    },
    {
     "data": {
      "image/png": "[encoded data removed]",
      "text/plain": [
       "<Figure size 432x288 with 1 Axes>"
      ]
     },
     "metadata": {
      "needs_background": "light"
     },
     "output_type": "display_data"
    }
   ],
   "source": [
    "nba[nba[\"fran_id\"] == \"Knicks\"].groupby(\"year_id\")[\"pts\"].sum().plot()"
   ]
  },
  {
   "cell_type": "markdown",
   "metadata": {},
   "source": [
    "This shows a line plot with several peaks and two notable valleys around the years 2000 and 2010.\n",
    "\n",
    "You can also create other types of plots, like a bar plot:"
   ]
  },
  {
   "cell_type": "code",
   "execution_count": 161,
   "metadata": {},
   "outputs": [
    {
     "data": {
      "text/plain": [
       "Lakers          6024\n",
       "Celtics         5997\n",
       "Knicks          5769\n",
       "Warriors        5657\n",
       "Pistons         5650\n",
       "Sixers          5644\n",
       "Hawks           5572\n",
       "Kings           5475\n",
       "Wizards         4582\n",
       "Spurs           4309\n",
       "Bulls           4307\n",
       "Pacers          4227\n",
       "Thunder         4178\n",
       "Rockets         4154\n",
       "Nuggets         4120\n",
       "Nets            4106\n",
       "Suns            4080\n",
       "Bucks           4034\n",
       "Trailblazers    3870\n",
       "Cavaliers       3810\n",
       "Clippers        3733\n",
       "Jazz            3555\n",
       "Mavericks       3013\n",
       "Heat            2371\n",
       "Pelicans        2254\n",
       "Magic           2207\n",
       "Timberwolves    2131\n",
       "Grizzlies       1657\n",
       "Raptors         1634\n",
       "Hornets          894\n",
       "Colonels         846\n",
       "Squires          799\n",
       "Spirits          777\n",
       "Stars            756\n",
       "Sounds           697\n",
       "Baltimore        467\n",
       "Floridians       440\n",
       "Condors          430\n",
       "Capitols         291\n",
       "Olympians        282\n",
       "Sails            274\n",
       "Stags            260\n",
       "Bombers          249\n",
       "Steamrollers     168\n",
       "Packers           72\n",
       "Redskins          65\n",
       "Rebels            63\n",
       "Denver            62\n",
       "Waterloo          62\n",
       "Falcons           60\n",
       "Jets              60\n",
       "Huskies           60\n",
       "Ironmen           60\n",
       "Name: fran_id, dtype: int64"
      ]
     },
     "execution_count": 161,
     "metadata": {},
     "output_type": "execute_result"
    }
   ],
   "source": [
    "nba[\"fran_id\"].value_counts()"
   ]
  },
  {
   "cell_type": "code",
   "execution_count": 162,
   "metadata": {},
   "outputs": [
    {
     "data": {
      "text/plain": [
       "<AxesSubplot:>"
      ]
     },
     "execution_count": 162,
     "metadata": {},
     "output_type": "execute_result"
    },
    {
     "data": {
      "image/png": "[encoded data removed]",
      "text/plain": [
       "<Figure size 432x288 with 1 Axes>"
      ]
     },
     "metadata": {
      "needs_background": "light"
     },
     "output_type": "display_data"
    }
   ],
   "source": [
    "nba[\"fran_id\"].value_counts().head(10).plot(kind=\"bar\")"
   ]
  },
  {
   "cell_type": "markdown",
   "metadata": {},
   "source": [
    "This shows the franchises with the most games played.\n",
    "\n",
    "The Lakers are leading the Celtics by a minimal edge, and there are six further teams with a game count above 5000.\n",
    "\n",
    "Now try a more complicated exercise:"
   ]
  },
  {
   "cell_type": "markdown",
   "metadata": {},
   "source": [
    "#### Exercise\n",
    "\n",
    "In 2013, the Miami Heat won the championship. Create a pie plot showing the count of their wins and losses during that season."
   ]
  },
  {
   "cell_type": "code",
   "execution_count": 174,
   "metadata": {},
   "outputs": [
    {
     "data": {
      "text/plain": [
       "<AxesSubplot:ylabel='game_result'>"
      ]
     },
     "execution_count": 174,
     "metadata": {},
     "output_type": "execute_result"
    },
    {
     "data": {
      "image/png": "[encoded data removed]",
      "text/plain": [
       "<Figure size 432x288 with 1 Axes>"
      ]
     },
     "metadata": {},
     "output_type": "display_data"
    }
   ],
   "source": [
    "# Hint: select out entries for fran_id==\"Heat\" and year_id==2013\n",
    "# Then plot as in the previous cell...\n",
    "\n",
    "nba.loc[(nba['fran_id'] == \"Heat\") & (nba['year_id'] == 2013)][\"game_result\"].value_counts().plot(kind=\"pie\")\n"
   ]
  },
  {
   "cell_type": "markdown",
   "metadata": {},
   "source": [
    "# 13. Conclusion and Further Resources"
   ]
  },
  {
   "cell_type": "markdown",
   "metadata": {},
   "source": [
    "In this tutorial, you’ve learned how to start **exploring a dataset** with the Pandas Python library. You saw how you could access specific rows and columns to tame even the largest of datasets. Speaking of taming, you’ve also seen multiple techniques to prepare and clean your data, by specifying the data type of columns, dealing with missing values, and more. You’ve even created queries, aggregations, and plots based on those."
   ]
  },
  {
   "cell_type": "markdown",
   "metadata": {},
   "source": [
    "Now you can:\n",
    "\n",
    "•   Work with `Series` and `DataFrame` objects  \n",
    "•   Subset your data with `.loc`, `.iloc`, and the indexing operator  \n",
    "•\tAnswer questions with queries, grouping, and aggregation  \n",
    "•\tHandle missing, invalid, and inconsistent data  \n",
    "•\tVisualize your dataset in a Jupyter notebook"
   ]
  },
  {
   "cell_type": "markdown",
   "metadata": {},
   "source": [
    "This journey using the NBA stats only scratches the surface of what you can do with the Pandas Python library. You can power up your project with Pandas tricks, learn techniques to speed up Pandas in Python, and even dive deep to see how Pandas works behind the scenes. There are many more features for you to discover, so get out there and tackle those datasets! "
   ]
  }
 ],
 "metadata": {
  "kernelspec": {
   "display_name": "Python 3",
   "language": "python",
   "name": "python3"
  },
  "language": "python",
  "language_info": {
   "codemirror_mode": {
    "name": "ipython",
    "version": 3
   },
   "file_extension": ".py",
   "mimetype": "text/x-python",
   "name": "python",
   "nbconvert_exporter": "python",
   "pygments_lexer": "ipython3",
   "version": "3.8.5"
  }
 },
 "nbformat": 4,
 "nbformat_minor": 4
}
