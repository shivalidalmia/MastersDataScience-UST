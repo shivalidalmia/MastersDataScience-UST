{
 "cells": [
  {
   "cell_type": "markdown",
   "id": "signed-mouth",
   "metadata": {},
   "source": [
    "The following notebook content was adapted from here: https://numpy.org/doc/stable/user/absolute_beginners.html"
   ]
  },
  {
   "cell_type": "markdown",
   "id": "proved-representative",
   "metadata": {},
   "source": [
    "# NumPy: the absolute basics for beginners\n",
    "\n",
    "Welcome to the absolute beginner’s guide to NumPy! If you have comments or suggestions, please don’t hesitate to reach out!\n",
    "\n",
    "## Welcome to NumPy!\n",
    "\n",
    "NumPy (Numerical Python) is an open source Python library that’s used in almost every field of science and engineering. It’s the universal standard for working with numerical data in Python, and it’s at the core of the scientific Python and PyData ecosystems. NumPy users include everyone from beginning coders to experienced researchers doing state-of-the-art scientific and industrial research and development. The NumPy API is used extensively in Pandas, SciPy, Matplotlib, scikit-learn, scikit-image and most other data science and scientific Python packages.\n",
    "\n",
    "The NumPy library contains multidimensional array and matrix data structures (you’ll find more information about this in later sections). It provides ndarray, a homogeneous n-dimensional array object, with methods to efficiently operate on it. NumPy can be used to perform a wide variety of mathematical operations on arrays. It adds powerful data structures to Python that guarantee efficient calculations with arrays and matrices and it supplies an enormous library of high-level mathematical functions that operate on these arrays and matrices.\n",
    "\n",
    "Learn more about NumPy here!"
   ]
  },
  {
   "cell_type": "markdown",
   "id": "postal-currency",
   "metadata": {},
   "source": [
    "## Installing NumPy\n",
    "\n",
    "To install NumPy, we strongly recommend using a scientific Python distribution. If you’re looking for the full instructions for installing NumPy on your operating system, you can find all of the details here.\n",
    "\n",
    "If you already have Python, you can install NumPy with:\n",
    "\n",
    "`conda install numpy`\n",
    "\n",
    "or\n",
    "\n",
    "`pip install numpy`\n",
    "\n",
    "If you don’t have Python yet, you might want to consider using Anaconda. It’s the easiest way to get started. The good thing about getting this distribution is the fact that you don’t need to worry too much about separately installing NumPy or any of the major packages that you’ll be using for your data analyses, like pandas, Scikit-Learn, etc.\n",
    "\n",
    "You can find all of the installation details in the Installation section at SciPy."
   ]
  },
  {
   "cell_type": "markdown",
   "id": "personalized-greene",
   "metadata": {},
   "source": [
    "## How to import NumPy\n",
    "\n",
    "Any time you want to use a package or library in your code, you first need to make it accessible.\n",
    "\n",
    "In order to start using NumPy and all of the functions available in NumPy, you’ll need to import it. This can be easily done with this import statement:"
   ]
  },
  {
   "cell_type": "code",
   "execution_count": 2,
   "id": "continental-hybrid",
   "metadata": {},
   "outputs": [],
   "source": [
    "import numpy as np"
   ]
  },
  {
   "cell_type": "markdown",
   "id": "soviet-season",
   "metadata": {},
   "source": [
    "(We shorten `numpy` to `np` in order to save time and also to keep code standardized so that anyone working with your code can easily understand and run it.)"
   ]
  },
  {
   "cell_type": "markdown",
   "id": "wrong-aerospace",
   "metadata": {},
   "source": [
    "## Reading the example code\n",
    "\n",
    "If you aren’t already comfortable with reading tutorials that contain a lot of code, you might not know how to interpret a code block that looks like this:"
   ]
  },
  {
   "cell_type": "code",
   "execution_count": 3,
   "id": "fluid-mayor",
   "metadata": {},
   "outputs": [
    {
     "data": {
      "text/plain": [
       "(1, 6)"
      ]
     },
     "execution_count": 3,
     "metadata": {},
     "output_type": "execute_result"
    }
   ],
   "source": [
    "a = np.arange(6)\n",
    "a2 = a[np.newaxis, :]\n",
    "a2.shape\n",
    "# (1, 6)"
   ]
  },
  {
   "cell_type": "markdown",
   "id": "frequent-algorithm",
   "metadata": {},
   "source": [
    "**The following applies to the original online tutorial.  This notebook removes all >>> prompts**.\n",
    "\n",
    "If you aren’t familiar with this style, it’s very easy to understand. If you see >>>, you’re looking at input, or the code that you would enter. Everything that doesn’t have >>> in front of it is output, or the results of running your code. This is the style you see when you run `python` on the command line, but if you’re using IPython, you might see a different style."
   ]
  },
  {
   "cell_type": "markdown",
   "id": "sacred-senator",
   "metadata": {},
   "source": [
    "## What’s the difference between a Python list and a NumPy array?\n",
    "\n",
    "NumPy gives you an enormous range of fast and efficient ways of creating arrays and manipulating numerical data inside them. While a Python list can contain different data types within a single list, all of the elements in a NumPy array should be homogeneous. The mathematical operations that are meant to be performed on arrays would be extremely inefficient if the arrays weren’t homogeneous."
   ]
  },
  {
   "cell_type": "markdown",
   "id": "welcome-praise",
   "metadata": {},
   "source": [
    "### Why use NumPy?\n",
    "\n",
    "NumPy arrays are faster and more compact than Python lists. An array consumes less memory and is convenient to use. NumPy uses much less memory to store data and it provides a mechanism of specifying the data types. This allows the code to be optimized even further."
   ]
  },
  {
   "cell_type": "markdown",
   "id": "brazilian-georgia",
   "metadata": {},
   "source": [
    "## What is an array?\n",
    "\n",
    "An array is a central data structure of the NumPy library. An array is a grid of values and it contains information about the raw data, how to locate an element, and how to interpret an element. It has a grid of elements that can be indexed in various ways. The elements are all of the same type, referred to as the array dtype.\n",
    "\n",
    "An array can be indexed by a tuple of nonnegative integers, by booleans, by another array, or by integers. The rank of the array is the number of dimensions. The shape of the array is a tuple of integers giving the size of the array along each dimension.\n",
    "\n",
    "One way we can initialize NumPy arrays is from Python lists, using nested lists for two- or higher-dimensional data.\n",
    "\n",
    "For example:"
   ]
  },
  {
   "cell_type": "code",
   "execution_count": 4,
   "id": "double-graduation",
   "metadata": {},
   "outputs": [
    {
     "data": {
      "text/plain": [
       "array([1, 2, 3, 4, 5, 6])"
      ]
     },
     "execution_count": 4,
     "metadata": {},
     "output_type": "execute_result"
    }
   ],
   "source": [
    "a = np.array([1, 2, 3, 4, 5, 6])\n",
    "a"
   ]
  },
  {
   "cell_type": "markdown",
   "id": "indoor-reception",
   "metadata": {},
   "source": [
    "or:"
   ]
  },
  {
   "cell_type": "code",
   "execution_count": 5,
   "id": "together-mistake",
   "metadata": {},
   "outputs": [
    {
     "data": {
      "text/plain": [
       "array([[ 1,  2,  3,  4],\n",
       "       [ 5,  6,  7,  8],\n",
       "       [ 9, 10, 11, 12]])"
      ]
     },
     "execution_count": 5,
     "metadata": {},
     "output_type": "execute_result"
    }
   ],
   "source": [
    "a = np.array([[1, 2, 3, 4], [5, 6, 7, 8], [9, 10, 11, 12]])\n",
    "a"
   ]
  },
  {
   "cell_type": "markdown",
   "id": "subtle-vacuum",
   "metadata": {},
   "source": [
    "We can access the elements in the array using square brackets. When you’re accessing elements, remember that indexing in NumPy starts at 0. That means that if you want to access the first element in your array, you’ll be accessing element “0”."
   ]
  },
  {
   "cell_type": "code",
   "execution_count": 6,
   "id": "front-appointment",
   "metadata": {},
   "outputs": [
    {
     "name": "stdout",
     "output_type": "stream",
     "text": [
      "[1 2 3 4]\n"
     ]
    }
   ],
   "source": [
    "print(a[0])\n",
    "# [1 2 3 4]"
   ]
  },
  {
   "cell_type": "markdown",
   "id": "brazilian-ottawa",
   "metadata": {},
   "source": [
    "## More information about arrays\n",
    "\n",
    "This section covers 1D array, 2D array, ndarray, vector, matrix\n",
    "\n",
    "You might occasionally hear an array referred to as a “ndarray,” which is shorthand for “N-dimensional array.” An N-dimensional array is simply an array with any number of dimensions. You might also hear **1-D**, or one-dimensional array, **2-D**, or two-dimensional array, and so on. The NumPy ndarray class is used to represent both matrices and vectors. A **vector** is an array with a single dimension (there’s no difference between row and column vectors), while a **matrix** refers to an array with two dimensions. For **3-D** or higher dimensional arrays, the term **tensor** is also commonly used.\n",
    "\n",
    "### What are the attributes of an array?\n",
    "\n",
    "An array is usually a fixed-size container of items of the same type and size. The number of dimensions and items in an array is defined by its shape. The shape of an array is a tuple of non-negative integers that specify the sizes of each dimension.\n",
    "\n",
    "In NumPy, dimensions are called **axes**. This means that if you have a 2D array that looks like this:"
   ]
  },
  {
   "cell_type": "code",
   "execution_count": 7,
   "id": "whole-tribune",
   "metadata": {},
   "outputs": [
    {
     "data": {
      "text/plain": [
       "[[0.0, 0.0, 0.0], [1.0, 1.0, 1.0]]"
      ]
     },
     "execution_count": 7,
     "metadata": {},
     "output_type": "execute_result"
    }
   ],
   "source": [
    "[[0., 0., 0.],\n",
    " [1., 1., 1.]]"
   ]
  },
  {
   "cell_type": "markdown",
   "id": "critical-entrance",
   "metadata": {},
   "source": [
    "Your array has 2 axes. The first axis has a length of 2 and the second axis has a length of 3.\n",
    "\n",
    "Just like in other Python container objects, the contents of an array can be accessed and modified by indexing or slicing the array. Unlike the typical container objects, different arrays can share the same data, so changes made on one array might be visible in another.\n",
    "\n",
    "Array **attributes** reflect information intrinsic to the array itself. If you need to get, or even set, properties of an array without creating a new array, you can often access an array through its attributes.\n",
    "\n",
    "Read more about array attributes here: https://numpy.org/doc/stable/reference/arrays.ndarray.html#arrays-ndarray\n",
    "\n",
    "Learn about array objects here: https://numpy.org/doc/stable/reference/arrays.html#arrays"
   ]
  },
  {
   "cell_type": "markdown",
   "id": "moderate-green",
   "metadata": {},
   "source": [
    "## How to create a basic array\n",
    "\n",
    "This section covers `np.array()`, `np.zeros()`, `np.ones()`, `np.empty()`, `np.arange()`, `np.linspace()`, `dtype`\n",
    "\n",
    "To create a NumPy array, you can use the function `np.array()`.\n",
    "\n",
    "All you need to do to create a simple array is pass a list to it. If you choose to, you can also specify the type of data in your list. \n",
    "\n",
    "You can find more information about data types here:  https://numpy.org/doc/stable/reference/arrays.dtypes.html#arrays-dtypes"
   ]
  },
  {
   "cell_type": "code",
   "execution_count": 8,
   "id": "interstate-andrew",
   "metadata": {},
   "outputs": [
    {
     "name": "stdout",
     "output_type": "stream",
     "text": [
      "[1 2 3]\n"
     ]
    }
   ],
   "source": [
    "import numpy as np\n",
    "a = np.array([1, 2, 3])\n",
    "print(a)"
   ]
  },
  {
   "cell_type": "markdown",
   "id": "induced-envelope",
   "metadata": {},
   "source": [
    "You can visualize your array this way:"
   ]
  },
  {
   "cell_type": "markdown",
   "id": "north-worcester",
   "metadata": {},
   "source": [
    "![image1](_images/np_array.png)"
   ]
  },
  {
   "cell_type": "markdown",
   "id": "short-ukraine",
   "metadata": {},
   "source": [
    "_Be aware that these visualizations are meant to simplify ideas and give you a basic understanding of NumPy concepts and mechanics. Arrays and array operations are much more complicated than are captured here!_"
   ]
  },
  {
   "cell_type": "markdown",
   "id": "alternative-junction",
   "metadata": {},
   "source": [
    "Besides creating an array from a sequence of elements, you can easily create an array filled with 0’s:"
   ]
  },
  {
   "cell_type": "code",
   "execution_count": 9,
   "id": "unlikely-point",
   "metadata": {},
   "outputs": [
    {
     "data": {
      "text/plain": [
       "array([0., 0.])"
      ]
     },
     "execution_count": 9,
     "metadata": {},
     "output_type": "execute_result"
    }
   ],
   "source": [
    "np.zeros(2)\n",
    "# array([0., 0.])"
   ]
  },
  {
   "cell_type": "markdown",
   "id": "generic-vermont",
   "metadata": {},
   "source": [
    "Or an array filled with 1’s:"
   ]
  },
  {
   "cell_type": "code",
   "execution_count": 10,
   "id": "julian-swing",
   "metadata": {},
   "outputs": [
    {
     "data": {
      "text/plain": [
       "array([1., 1.])"
      ]
     },
     "execution_count": 10,
     "metadata": {},
     "output_type": "execute_result"
    }
   ],
   "source": [
    "np.ones(2)\n",
    "# array([1., 1.])"
   ]
  },
  {
   "cell_type": "markdown",
   "id": "departmental-testing",
   "metadata": {},
   "source": [
    "Or even an empty array! The function `empty()` creates an array whose initial content is random and depends on the state of the memory. The reason to use `empty` over `zeros` (or something similar) is speed - just make sure to fill every element afterwards!"
   ]
  },
  {
   "cell_type": "code",
   "execution_count": 11,
   "id": "tired-pacific",
   "metadata": {},
   "outputs": [
    {
     "data": {
      "text/plain": [
       "array([1., 1.])"
      ]
     },
     "execution_count": 11,
     "metadata": {},
     "output_type": "execute_result"
    }
   ],
   "source": [
    "# Create an empty array with 2 elements\n",
    "np.empty(2)\n",
    "# array([ 3.14, 42.  ])  # may vary"
   ]
  },
  {
   "cell_type": "markdown",
   "id": "convenient-member",
   "metadata": {},
   "source": [
    "You can create an array with a range of elements:"
   ]
  },
  {
   "cell_type": "code",
   "execution_count": 12,
   "id": "meaningful-bridal",
   "metadata": {},
   "outputs": [
    {
     "data": {
      "text/plain": [
       "array([0, 1, 2, 3])"
      ]
     },
     "execution_count": 12,
     "metadata": {},
     "output_type": "execute_result"
    }
   ],
   "source": [
    "np.arange(4)\n",
    "# array([0, 1, 2, 3])"
   ]
  },
  {
   "cell_type": "markdown",
   "id": "handed-circus",
   "metadata": {},
   "source": [
    "And even an array that contains a range of evenly spaced intervals. To do this, you will specify the **first number**, **last number**, and the **step size**."
   ]
  },
  {
   "cell_type": "code",
   "execution_count": 13,
   "id": "popular-benefit",
   "metadata": {},
   "outputs": [
    {
     "data": {
      "text/plain": [
       "array([2, 4, 6, 8])"
      ]
     },
     "execution_count": 13,
     "metadata": {},
     "output_type": "execute_result"
    }
   ],
   "source": [
    "np.arange(2, 9, 2)\n",
    "# array([2, 4, 6, 8])"
   ]
  },
  {
   "cell_type": "markdown",
   "id": "angry-arthur",
   "metadata": {},
   "source": [
    "You can also use `np.linspace()` to create an array with values that are spaced linearly in a specified interval:"
   ]
  },
  {
   "cell_type": "code",
   "execution_count": 14,
   "id": "dominant-certification",
   "metadata": {},
   "outputs": [
    {
     "data": {
      "text/plain": [
       "array([ 0. ,  2.5,  5. ,  7.5, 10. ])"
      ]
     },
     "execution_count": 14,
     "metadata": {},
     "output_type": "execute_result"
    }
   ],
   "source": [
    "np.linspace(0, 10, num=5)\n",
    "# array([ 0. ,  2.5,  5. ,  7.5, 10. ])"
   ]
  },
  {
   "cell_type": "markdown",
   "id": "olive-think",
   "metadata": {},
   "source": [
    "### Specifying your data type\n",
    "\n",
    "While the default data type is floating point (`np.float64`), you can explicitly specify which data type you want using the `dtype` keyword."
   ]
  },
  {
   "cell_type": "code",
   "execution_count": 15,
   "id": "accurate-sunset",
   "metadata": {},
   "outputs": [
    {
     "data": {
      "text/plain": [
       "array([1, 1], dtype=int64)"
      ]
     },
     "execution_count": 15,
     "metadata": {},
     "output_type": "execute_result"
    }
   ],
   "source": [
    "x = np.ones(2, dtype=np.int64)\n",
    "x\n",
    "# array([1, 1])"
   ]
  },
  {
   "cell_type": "markdown",
   "id": "taken-trauma",
   "metadata": {},
   "source": [
    "Learn more about creating arrays here: https://numpy.org/doc/stable/user/quickstart.html#quickstart-array-creation"
   ]
  },
  {
   "cell_type": "markdown",
   "id": "ahead-anger",
   "metadata": {},
   "source": [
    "## Adding, removing, and sorting elements\n",
    "\n",
    "This section covers `np.sort()`, `np.concatenate()`"
   ]
  },
  {
   "cell_type": "markdown",
   "id": "mighty-burst",
   "metadata": {},
   "source": [
    "Sorting an element is simple with `np.sort()`. You can specify the axis, kind, and order when you call the function.\n",
    "\n",
    "If you start with this array:"
   ]
  },
  {
   "cell_type": "code",
   "execution_count": 16,
   "id": "alternative-therapy",
   "metadata": {},
   "outputs": [
    {
     "data": {
      "text/plain": [
       "array([2, 1, 5, 3, 7, 4, 6, 8])"
      ]
     },
     "execution_count": 16,
     "metadata": {},
     "output_type": "execute_result"
    }
   ],
   "source": [
    "arr = np.array([2, 1, 5, 3, 7, 4, 6, 8])\n",
    "arr"
   ]
  },
  {
   "cell_type": "markdown",
   "id": "sufficient-blond",
   "metadata": {},
   "source": [
    "You can quickly sort the numbers in ascending order with:"
   ]
  },
  {
   "cell_type": "code",
   "execution_count": 17,
   "id": "abstract-monitor",
   "metadata": {},
   "outputs": [
    {
     "data": {
      "text/plain": [
       "array([1, 2, 3, 4, 5, 6, 7, 8])"
      ]
     },
     "execution_count": 17,
     "metadata": {},
     "output_type": "execute_result"
    }
   ],
   "source": [
    "np.sort(arr)\n",
    "# array([1, 2, 3, 4, 5, 6, 7, 8])"
   ]
  },
  {
   "cell_type": "markdown",
   "id": "serious-wedding",
   "metadata": {},
   "source": [
    "In addition to `sort`, which returns a sorted copy of an array, you can use:\n",
    "\n",
    "- `argsort`, which is an indirect sort along a specified axis =>\n",
    "    https://numpy.org/doc/stable/reference/generated/numpy.argsort.html#numpy.argsort\n",
    "\n",
    "- `lexsort`, which is an indirect stable sort on multiple keys =>\n",
    "    https://numpy.org/doc/stable/reference/generated/numpy.lexsort.html#numpy.lexsort\n",
    "\n",
    "- `searchsorted`, which will find elements in a sorted array =>\n",
    "    https://numpy.org/doc/stable/reference/generated/numpy.searchsorted.html#numpy.searchsorted\n",
    "\n",
    "- `partition`, which is a partial sort =>\n",
    "    https://numpy.org/doc/stable/reference/generated/numpy.partition.html#numpy.partition\n",
    "\n",
    "To read more about sorting an array, see: `sort` =>\n",
    "https://numpy.org/doc/stable/reference/generated/numpy.sort.html#numpy.sort\n",
    "\n",
    "If you start with these arrays:"
   ]
  },
  {
   "cell_type": "code",
   "execution_count": 18,
   "id": "pacific-walker",
   "metadata": {},
   "outputs": [
    {
     "name": "stdout",
     "output_type": "stream",
     "text": [
      "[1 2 3 4]\n",
      "[5 6 7 8]\n"
     ]
    }
   ],
   "source": [
    "a = np.array([1, 2, 3, 4])\n",
    "b = np.array([5, 6, 7, 8])\n",
    "print(a)\n",
    "print(b)"
   ]
  },
  {
   "cell_type": "markdown",
   "id": "american-brunei",
   "metadata": {},
   "source": [
    "You can concatenate them with `np.concatenate()`."
   ]
  },
  {
   "cell_type": "code",
   "execution_count": 19,
   "id": "close-recorder",
   "metadata": {},
   "outputs": [
    {
     "data": {
      "text/plain": [
       "array([1, 2, 3, 4, 5, 6, 7, 8])"
      ]
     },
     "execution_count": 19,
     "metadata": {},
     "output_type": "execute_result"
    }
   ],
   "source": [
    "np.concatenate((a, b))\n",
    "# array([1, 2, 3, 4, 5, 6, 7, 8])"
   ]
  },
  {
   "cell_type": "markdown",
   "id": "gothic-paint",
   "metadata": {},
   "source": [
    "Or, if you start with these arrays:"
   ]
  },
  {
   "cell_type": "code",
   "execution_count": 20,
   "id": "reverse-updating",
   "metadata": {},
   "outputs": [
    {
     "name": "stdout",
     "output_type": "stream",
     "text": [
      "[[1 2]\n",
      " [3 4]]\n",
      "[[5 6]]\n"
     ]
    }
   ],
   "source": [
    "x = np.array([[1, 2], [3, 4]])\n",
    "y = np.array([[5, 6]])\n",
    "print(x)\n",
    "print(y)"
   ]
  },
  {
   "cell_type": "markdown",
   "id": "convinced-jersey",
   "metadata": {},
   "source": [
    "You can concatenate them with:"
   ]
  },
  {
   "cell_type": "code",
   "execution_count": 21,
   "id": "cultural-shooting",
   "metadata": {},
   "outputs": [
    {
     "data": {
      "text/plain": [
       "array([[1, 2],\n",
       "       [3, 4],\n",
       "       [5, 6]])"
      ]
     },
     "execution_count": 21,
     "metadata": {},
     "output_type": "execute_result"
    }
   ],
   "source": [
    "np.concatenate((x, y), axis=0)\n",
    "# array([[1, 2],\n",
    "#        [3, 4],\n",
    "#        [5, 6]])"
   ]
  },
  {
   "cell_type": "markdown",
   "id": "portuguese-alias",
   "metadata": {},
   "source": [
    "In order to remove elements from an array, it’s simple to use indexing to select the elements that you want to keep.\n",
    "\n",
    "To read more about concatenate, see: \n",
    "https://numpy.org/doc/stable/reference/generated/numpy.concatenate.html#numpy.concatenate"
   ]
  },
  {
   "cell_type": "markdown",
   "id": "balanced-mystery",
   "metadata": {},
   "source": [
    "## How do you know the shape and size of an array?\n",
    "\n",
    "This section covers `ndarray.ndim`, `ndarray.size`, `ndarray.shape`\n",
    "\n",
    "`ndarray.ndim` will tell you the number of axes, or dimensions, of the array.\n",
    "\n",
    "`ndarray.size` will tell you the total number of elements of the array. This is the product of the elements of the array’s shape.\n",
    "\n",
    "`ndarray.shape` will display a tuple of integers that indicate the number of elements stored along each dimension of the array. If, for example, you have a 2-D array with 2 rows and 3 columns, the shape of your array is (2, 3).\n",
    "\n",
    "For example, if you create this array:"
   ]
  },
  {
   "cell_type": "code",
   "execution_count": 22,
   "id": "planned-pathology",
   "metadata": {},
   "outputs": [
    {
     "data": {
      "text/plain": [
       "array([[[0, 1, 2, 3],\n",
       "        [4, 5, 6, 7]],\n",
       "\n",
       "       [[0, 1, 2, 3],\n",
       "        [4, 5, 6, 7]],\n",
       "\n",
       "       [[0, 1, 2, 3],\n",
       "        [4, 5, 6, 7]]])"
      ]
     },
     "execution_count": 22,
     "metadata": {},
     "output_type": "execute_result"
    }
   ],
   "source": [
    "array_example = np.array([[[0, 1, 2, 3], \n",
    "                           [4, 5, 6, 7]],\n",
    "                          \n",
    "                          [[0, 1, 2, 3],\n",
    "                           [4, 5, 6, 7]],\n",
    "                          \n",
    "                          [[0 ,1 ,2, 3],\n",
    "                           [4, 5, 6, 7]]])\n",
    "array_example"
   ]
  },
  {
   "cell_type": "markdown",
   "id": "dental-harvard",
   "metadata": {},
   "source": [
    "To find the number of dimensions of the array, run:"
   ]
  },
  {
   "cell_type": "code",
   "execution_count": 23,
   "id": "mechanical-permit",
   "metadata": {},
   "outputs": [
    {
     "data": {
      "text/plain": [
       "3"
      ]
     },
     "execution_count": 23,
     "metadata": {},
     "output_type": "execute_result"
    }
   ],
   "source": [
    "array_example.ndim\n",
    "# 3"
   ]
  },
  {
   "cell_type": "markdown",
   "id": "welsh-wagner",
   "metadata": {},
   "source": [
    "To find the total number of elements in the array, run:"
   ]
  },
  {
   "cell_type": "code",
   "execution_count": 24,
   "id": "adjacent-benchmark",
   "metadata": {},
   "outputs": [
    {
     "data": {
      "text/plain": [
       "24"
      ]
     },
     "execution_count": 24,
     "metadata": {},
     "output_type": "execute_result"
    }
   ],
   "source": [
    "array_example.size\n",
    "# 24"
   ]
  },
  {
   "cell_type": "markdown",
   "id": "behavioral-indonesia",
   "metadata": {},
   "source": [
    "And to find the shape of your array, run:"
   ]
  },
  {
   "cell_type": "code",
   "execution_count": 25,
   "id": "dirty-defendant",
   "metadata": {},
   "outputs": [
    {
     "data": {
      "text/plain": [
       "(3, 2, 4)"
      ]
     },
     "execution_count": 25,
     "metadata": {},
     "output_type": "execute_result"
    }
   ],
   "source": [
    "array_example.shape\n",
    "# (3, 2, 4)"
   ]
  },
  {
   "cell_type": "markdown",
   "id": "rough-birth",
   "metadata": {},
   "source": [
    "## Can you reshape an array?\n",
    "\n",
    "This section covers `arr.reshape()`\n",
    "\n",
    "### Yes!\n",
    "\n",
    "Using `arr.reshape()` will give a new shape to an array without changing the data. Just remember that when you use the `reshape` method, the array you want to produce needs to have the same number of elements as the original array. If you start with an array with 12 elements, you’ll need to make sure that your new array also has a total of 12 elements.\n",
    "\n",
    "If you start with this array:"
   ]
  },
  {
   "cell_type": "code",
   "execution_count": 26,
   "id": "offensive-impression",
   "metadata": {},
   "outputs": [
    {
     "name": "stdout",
     "output_type": "stream",
     "text": [
      "[0 1 2 3 4 5]\n"
     ]
    }
   ],
   "source": [
    "a = np.arange(6)\n",
    "print(a)"
   ]
  },
  {
   "cell_type": "markdown",
   "id": "future-joining",
   "metadata": {},
   "source": [
    "You can use `reshape()` to reshape your array. For example, you can reshape this array to an array with three rows and two columns:"
   ]
  },
  {
   "cell_type": "code",
   "execution_count": 27,
   "id": "quiet-interim",
   "metadata": {},
   "outputs": [
    {
     "name": "stdout",
     "output_type": "stream",
     "text": [
      "[[0 1]\n",
      " [2 3]\n",
      " [4 5]]\n"
     ]
    }
   ],
   "source": [
    "b = a.reshape(3, 2)\n",
    "print(b)"
   ]
  },
  {
   "cell_type": "markdown",
   "id": "fluid-promise",
   "metadata": {},
   "source": [
    "With `np.reshape`, you can specify a few optional parameters:"
   ]
  },
  {
   "cell_type": "code",
   "execution_count": 28,
   "id": "coated-lyric",
   "metadata": {},
   "outputs": [
    {
     "data": {
      "text/plain": [
       "array([[0, 1, 2, 3, 4, 5]])"
      ]
     },
     "execution_count": 28,
     "metadata": {},
     "output_type": "execute_result"
    }
   ],
   "source": [
    "np.reshape(a, newshape=(1, 6), order='C')\n",
    "# array([[0, 1, 2, 3, 4, 5]])"
   ]
  },
  {
   "cell_type": "markdown",
   "id": "psychological-treaty",
   "metadata": {},
   "source": [
    "`a` is the array to be reshaped.\n",
    "\n",
    "`newshape` is the new shape you want. You can specify an integer or a tuple of integers. If you specify an integer, the result will be an array of that length. The shape should be compatible with the original shape.\n",
    "\n",
    "`order: C` means to read/write the elements using C-like index order, F means to read/write the elements using Fortran-like index order, A means to read/write the elements in Fortran-like index order if a is Fortran contiguous in memory, C-like order otherwise. (This is an optional parameter and doesn’t need to be specified.)\n",
    "\n",
    "If you want to learn more about C and Fortran order, you can read more about the internal organization of NumPy arrays here:\n",
    "https://numpy.org/doc/stable/reference/internals.html#numpy-internals\n",
    "\n",
    "Essentially, C and Fortran orders have to do with how indices correspond to the order the array is stored in memory. In Fortran, when moving through the elements of a two-dimensional array as it is stored in memory, the **first** index is the most rapidly varying index. As the first index moves to the next row as it changes, the matrix is stored one column at a time. This is why Fortran is thought of as a **Column-major** language. In C on the other hand, the last index changes the most rapidly. The matrix is stored by rows, making it a **Row-major** language. What you do for C or Fortran depends on whether it’s more important to preserve the indexing convention or not reorder the data.\n",
    "\n",
    "Learn more about shape manipulation here:\n",
    "https://numpy.org/doc/stable/user/quickstart.html#quickstart-shape-manipulation"
   ]
  },
  {
   "cell_type": "markdown",
   "id": "automatic-reflection",
   "metadata": {},
   "source": [
    "## How to convert a 1D array into a 2D array (how to add a new axis to an array)\n",
    "\n",
    "This section covers `np.newaxis`, `np.expand_dims`\n",
    "\n",
    "You can use `np.newaxis` and `np.expand_dims` to increase the dimensions of your existing array.\n",
    "\n",
    "Using `np.newaxis` will increase the dimensions of your array by one dimension when used once. This means that a 1D array will become a 2D array, a 2D array will become a 3D array, and so on.\n",
    "\n",
    "For example, if you start with this array:"
   ]
  },
  {
   "cell_type": "code",
   "execution_count": 29,
   "id": "periodic-burlington",
   "metadata": {},
   "outputs": [
    {
     "data": {
      "text/plain": [
       "(6,)"
      ]
     },
     "execution_count": 29,
     "metadata": {},
     "output_type": "execute_result"
    }
   ],
   "source": [
    "a = np.array([1, 2, 3, 4, 5, 6])\n",
    "a.shape\n",
    "# (6,)"
   ]
  },
  {
   "cell_type": "markdown",
   "id": "precise-final",
   "metadata": {},
   "source": [
    "You can use `np.newaxis` to add a new axis:"
   ]
  },
  {
   "cell_type": "code",
   "execution_count": 30,
   "id": "curious-moisture",
   "metadata": {},
   "outputs": [
    {
     "data": {
      "text/plain": [
       "(1, 6)"
      ]
     },
     "execution_count": 30,
     "metadata": {},
     "output_type": "execute_result"
    }
   ],
   "source": [
    "a2 = a[np.newaxis, :]\n",
    "a2.shape\n",
    "# (1, 6)"
   ]
  },
  {
   "cell_type": "markdown",
   "id": "filled-pharmaceutical",
   "metadata": {},
   "source": [
    "You can explicitly convert a 1D array with either a row vector or a column vector using `np.newaxis`. For example, you can convert a 1D array to a row vector by inserting an axis along the first dimension:"
   ]
  },
  {
   "cell_type": "code",
   "execution_count": 31,
   "id": "revolutionary-grocery",
   "metadata": {},
   "outputs": [
    {
     "data": {
      "text/plain": [
       "(1, 6)"
      ]
     },
     "execution_count": 31,
     "metadata": {},
     "output_type": "execute_result"
    }
   ],
   "source": [
    "row_vector = a[np.newaxis, :]\n",
    "row_vector.shape\n",
    "# (1, 6)"
   ]
  },
  {
   "cell_type": "markdown",
   "id": "eligible-doctor",
   "metadata": {},
   "source": [
    "Or, for a column vector, you can insert an axis along the second dimension:"
   ]
  },
  {
   "cell_type": "code",
   "execution_count": 32,
   "id": "filled-resistance",
   "metadata": {},
   "outputs": [
    {
     "data": {
      "text/plain": [
       "(6, 1)"
      ]
     },
     "execution_count": 32,
     "metadata": {},
     "output_type": "execute_result"
    }
   ],
   "source": [
    "col_vector = a[:, np.newaxis]\n",
    "col_vector.shape\n",
    "# (6, 1)"
   ]
  },
  {
   "cell_type": "markdown",
   "id": "applied-correction",
   "metadata": {},
   "source": [
    "You can also expand an array by inserting a new axis at a specified position with `np.expand_dims`.\n",
    "\n",
    "For example, if you start with this array:"
   ]
  },
  {
   "cell_type": "code",
   "execution_count": 33,
   "id": "packed-arabic",
   "metadata": {},
   "outputs": [
    {
     "data": {
      "text/plain": [
       "(6,)"
      ]
     },
     "execution_count": 33,
     "metadata": {},
     "output_type": "execute_result"
    }
   ],
   "source": [
    "a = np.array([1, 2, 3, 4, 5, 6])\n",
    "a.shape\n",
    "# (6,)"
   ]
  },
  {
   "cell_type": "markdown",
   "id": "suffering-therapist",
   "metadata": {},
   "source": [
    "You can use `np.expand_dims` to add an axis at index position 1 with:"
   ]
  },
  {
   "cell_type": "code",
   "execution_count": 34,
   "id": "black-doctrine",
   "metadata": {},
   "outputs": [
    {
     "data": {
      "text/plain": [
       "(6, 1)"
      ]
     },
     "execution_count": 34,
     "metadata": {},
     "output_type": "execute_result"
    }
   ],
   "source": [
    "b = np.expand_dims(a, axis=1)\n",
    "b.shape\n",
    "# (6, 1)"
   ]
  },
  {
   "cell_type": "markdown",
   "id": "limiting-johnson",
   "metadata": {},
   "source": [
    "You can add an axis at index position 0 with:"
   ]
  },
  {
   "cell_type": "code",
   "execution_count": 35,
   "id": "celtic-scroll",
   "metadata": {},
   "outputs": [
    {
     "data": {
      "text/plain": [
       "(1, 6)"
      ]
     },
     "execution_count": 35,
     "metadata": {},
     "output_type": "execute_result"
    }
   ],
   "source": [
    "c = np.expand_dims(a, axis=0)\n",
    "c.shape\n",
    "# (1, 6)"
   ]
  },
  {
   "cell_type": "markdown",
   "id": "ultimate-packet",
   "metadata": {},
   "source": [
    "Find more information about newaxis here: \n",
    "https://numpy.org/doc/stable/reference/arrays.indexing.html#arrays-indexing\n",
    "\n",
    "and expand_dims here:\n",
    "https://numpy.org/doc/stable/reference/generated/numpy.expand_dims.html#numpy.expand_dims"
   ]
  },
  {
   "cell_type": "markdown",
   "id": "alive-scratch",
   "metadata": {},
   "source": [
    "## Indexing and slicing\n",
    "\n",
    "You can index and slice NumPy arrays in the same ways you can slice Python lists."
   ]
  },
  {
   "cell_type": "code",
   "execution_count": 36,
   "id": "competitive-daniel",
   "metadata": {},
   "outputs": [
    {
     "data": {
      "text/plain": [
       "array([1, 2, 3])"
      ]
     },
     "execution_count": 36,
     "metadata": {},
     "output_type": "execute_result"
    }
   ],
   "source": [
    "data = np.array([1, 2, 3])\n",
    "data"
   ]
  },
  {
   "cell_type": "code",
   "execution_count": 37,
   "id": "common-dispute",
   "metadata": {},
   "outputs": [
    {
     "data": {
      "text/plain": [
       "2"
      ]
     },
     "execution_count": 37,
     "metadata": {},
     "output_type": "execute_result"
    }
   ],
   "source": [
    "data[1]\n",
    "# 2"
   ]
  },
  {
   "cell_type": "code",
   "execution_count": 38,
   "id": "adaptive-documentation",
   "metadata": {},
   "outputs": [
    {
     "data": {
      "text/plain": [
       "array([1, 2])"
      ]
     },
     "execution_count": 38,
     "metadata": {},
     "output_type": "execute_result"
    }
   ],
   "source": [
    "data[0:2]\n",
    "# array([1, 2])"
   ]
  },
  {
   "cell_type": "code",
   "execution_count": 39,
   "id": "sensitive-camcorder",
   "metadata": {},
   "outputs": [
    {
     "data": {
      "text/plain": [
       "array([2, 3])"
      ]
     },
     "execution_count": 39,
     "metadata": {},
     "output_type": "execute_result"
    }
   ],
   "source": [
    "data[1:]\n",
    "# array([2, 3])"
   ]
  },
  {
   "cell_type": "code",
   "execution_count": 40,
   "id": "scheduled-department",
   "metadata": {},
   "outputs": [
    {
     "data": {
      "text/plain": [
       "array([2, 3])"
      ]
     },
     "execution_count": 40,
     "metadata": {},
     "output_type": "execute_result"
    }
   ],
   "source": [
    "data[-2:]\n",
    "# array([2, 3])"
   ]
  },
  {
   "cell_type": "markdown",
   "id": "outdoor-hudson",
   "metadata": {},
   "source": [
    "You can visualize it this way:"
   ]
  },
  {
   "cell_type": "markdown",
   "id": "thousand-makeup",
   "metadata": {},
   "source": [
    "![NumPy Indexing](_images/np_indexing.png)"
   ]
  },
  {
   "cell_type": "markdown",
   "id": "tropical-lincoln",
   "metadata": {},
   "source": [
    "You may want to take a section of your array or specific array elements to use in further analysis or additional operations. To do that, you’ll need to subset, slice, and/or index your arrays.\n",
    "\n",
    "If you want to select values from your array that fulfill certain conditions, it’s straightforward with NumPy.\n",
    "\n",
    "For example, if you start with this array:"
   ]
  },
  {
   "cell_type": "code",
   "execution_count": 41,
   "id": "wound-explorer",
   "metadata": {},
   "outputs": [
    {
     "data": {
      "text/plain": [
       "array([[ 1,  2,  3,  4],\n",
       "       [ 5,  6,  7,  8],\n",
       "       [ 9, 10, 11, 12]])"
      ]
     },
     "execution_count": 41,
     "metadata": {},
     "output_type": "execute_result"
    }
   ],
   "source": [
    "a = np.array([[1 , 2, 3, 4], [5, 6, 7, 8], [9, 10, 11, 12]])\n",
    "a"
   ]
  },
  {
   "cell_type": "markdown",
   "id": "informed-tractor",
   "metadata": {},
   "source": [
    "You can easily print all of the values in the array that are less than 5."
   ]
  },
  {
   "cell_type": "code",
   "execution_count": 42,
   "id": "amazing-indicator",
   "metadata": {},
   "outputs": [
    {
     "name": "stdout",
     "output_type": "stream",
     "text": [
      "[1 2 3 4]\n"
     ]
    }
   ],
   "source": [
    "print(a[a < 5])\n",
    "# [1 2 3 4]"
   ]
  },
  {
   "cell_type": "markdown",
   "id": "suitable-jacob",
   "metadata": {},
   "source": [
    "You can also select, for example, numbers that are equal to or greater than 5, and use that condition to index an array."
   ]
  },
  {
   "cell_type": "code",
   "execution_count": 43,
   "id": "chicken-disposition",
   "metadata": {},
   "outputs": [
    {
     "name": "stdout",
     "output_type": "stream",
     "text": [
      "[ 5  6  7  8  9 10 11 12]\n"
     ]
    }
   ],
   "source": [
    "five_up = (a >= 5)\n",
    "print(a[five_up])\n",
    "# [ 5  6  7  8  9 10 11 12]"
   ]
  },
  {
   "cell_type": "markdown",
   "id": "standing-basketball",
   "metadata": {},
   "source": [
    "You can select elements that are divisible by 2:"
   ]
  },
  {
   "cell_type": "code",
   "execution_count": 44,
   "id": "bronze-botswana",
   "metadata": {},
   "outputs": [
    {
     "name": "stdout",
     "output_type": "stream",
     "text": [
      "[ 2  4  6  8 10 12]\n"
     ]
    }
   ],
   "source": [
    "divisible_by_2 = a[a%2==0]\n",
    "print(divisible_by_2)\n",
    "# [ 2  4  6  8 10 12]"
   ]
  },
  {
   "cell_type": "markdown",
   "id": "heavy-craft",
   "metadata": {},
   "source": [
    "Or you can select elements that satisfy two conditions using the `&` and `|` operators:"
   ]
  },
  {
   "cell_type": "code",
   "execution_count": 45,
   "id": "disturbed-arkansas",
   "metadata": {},
   "outputs": [
    {
     "name": "stdout",
     "output_type": "stream",
     "text": [
      "[ 3  4  5  6  7  8  9 10]\n"
     ]
    }
   ],
   "source": [
    "c = a[(a > 2) & (a < 11)]\n",
    "print(c)\n",
    "# [ 3  4  5  6  7  8  9 10]"
   ]
  },
  {
   "cell_type": "markdown",
   "id": "imported-curtis",
   "metadata": {},
   "source": [
    "You can also make use of the logical operators `&` and `|` in order to return boolean values that specify whether or not the values in an array fulfill a certain condition. This can be useful with arrays that contain names or other categorical values."
   ]
  },
  {
   "cell_type": "code",
   "execution_count": 46,
   "id": "wired-sigma",
   "metadata": {},
   "outputs": [
    {
     "name": "stdout",
     "output_type": "stream",
     "text": [
      "[[False False False False]\n",
      " [ True  True  True  True]\n",
      " [ True  True  True  True]]\n"
     ]
    }
   ],
   "source": [
    "five_up = (a > 5) | (a == 5)\n",
    "print(five_up)\n",
    "# [[False False False False]\n",
    "#  [ True  True  True  True]\n",
    "#  [ True  True  True True]]"
   ]
  },
  {
   "cell_type": "markdown",
   "id": "happy-prophet",
   "metadata": {},
   "source": [
    "You can also use np.nonzero() to select elements or indices from an array.\n",
    "\n",
    "Starting with this array:"
   ]
  },
  {
   "cell_type": "code",
   "execution_count": 47,
   "id": "aggregate-convenience",
   "metadata": {},
   "outputs": [
    {
     "data": {
      "text/plain": [
       "array([[ 1,  2,  3,  4],\n",
       "       [ 5,  6,  7,  8],\n",
       "       [ 9, 10, 11, 12]])"
      ]
     },
     "execution_count": 47,
     "metadata": {},
     "output_type": "execute_result"
    }
   ],
   "source": [
    "a = np.array([[1, 2, 3, 4], [5, 6, 7, 8], [9, 10, 11, 12]])\n",
    "a"
   ]
  },
  {
   "cell_type": "markdown",
   "id": "hungry-italy",
   "metadata": {},
   "source": [
    "You can use `np.nonzero()` to print the indices of elements that are, for example, less than 5:"
   ]
  },
  {
   "cell_type": "code",
   "execution_count": 48,
   "id": "sealed-knowing",
   "metadata": {},
   "outputs": [
    {
     "name": "stdout",
     "output_type": "stream",
     "text": [
      "(array([0, 0, 0, 0], dtype=int64), array([0, 1, 2, 3], dtype=int64))\n"
     ]
    }
   ],
   "source": [
    "b = np.nonzero(a < 5)\n",
    "print(b)\n",
    "# (array([0, 0, 0, 0]), array([0, 1, 2, 3]))"
   ]
  },
  {
   "cell_type": "markdown",
   "id": "tired-tiger",
   "metadata": {},
   "source": [
    "In this example, a tuple of arrays was returned: one for each dimension. The first array represents the row indices where these values are found, and the second array represents the column indices where the values are found.\n",
    "\n",
    "If you want to generate a list of coordinates where the elements exist, you can zip the arrays, iterate over the list of coordinates, and print them. For example:"
   ]
  },
  {
   "cell_type": "code",
   "execution_count": 49,
   "id": "spread-cookie",
   "metadata": {},
   "outputs": [
    {
     "data": {
      "text/plain": [
       "[(0, 0), (0, 1), (0, 2), (0, 3)]"
      ]
     },
     "execution_count": 49,
     "metadata": {},
     "output_type": "execute_result"
    }
   ],
   "source": [
    "list_of_coordinates= list(zip(b[0], b[1]))\n",
    "list_of_coordinates"
   ]
  },
  {
   "cell_type": "code",
   "execution_count": 50,
   "id": "postal-mainstream",
   "metadata": {},
   "outputs": [
    {
     "name": "stdout",
     "output_type": "stream",
     "text": [
      "(0, 0)\n",
      "(0, 1)\n",
      "(0, 2)\n",
      "(0, 3)\n"
     ]
    }
   ],
   "source": [
    "for coord in list_of_coordinates:\n",
    "    print(coord)\n",
    "# (0, 0)\n",
    "# (0, 1)\n",
    "# (0, 2)\n",
    "# (0, 3)"
   ]
  },
  {
   "cell_type": "markdown",
   "id": "australian-translation",
   "metadata": {},
   "source": [
    "You can also use `np.nonzero()` to print the elements in an array that are less than 5 with:"
   ]
  },
  {
   "cell_type": "code",
   "execution_count": 52,
   "id": "friendly-longer",
   "metadata": {},
   "outputs": [
    {
     "name": "stdout",
     "output_type": "stream",
     "text": [
      "[1 2 3 4]\n"
     ]
    }
   ],
   "source": [
    "print(a[b])\n",
    "# [1 2 3 4]"
   ]
  },
  {
   "cell_type": "markdown",
   "id": "under-delivery",
   "metadata": {},
   "source": [
    "If the element you’re looking for doesn’t exist in the array, then the returned array of indices will be empty. For example:"
   ]
  },
  {
   "cell_type": "code",
   "execution_count": 54,
   "id": "educational-decrease",
   "metadata": {},
   "outputs": [
    {
     "name": "stdout",
     "output_type": "stream",
     "text": [
      "(array([], dtype=int64), array([], dtype=int64))\n"
     ]
    }
   ],
   "source": [
    "not_there = np.nonzero(a == 42)\n",
    "print(not_there)\n",
    "# (array([], dtype=int64),)"
   ]
  },
  {
   "cell_type": "markdown",
   "id": "orange-creature",
   "metadata": {},
   "source": [
    "Learn more about indexing and slicing here: \n",
    "https://numpy.org/doc/stable/user/quickstart.html#quickstart-indexing-slicing-and-iterating\n",
    "and here: https://numpy.org/doc/stable/user/basics.indexing.html#basics-indexing\n",
    "\n",
    "Read more about using the nonzero function at: \n",
    "https://numpy.org/doc/stable/reference/generated/numpy.nonzero.html#numpy.nonzero."
   ]
  },
  {
   "cell_type": "markdown",
   "id": "commercial-denver",
   "metadata": {},
   "source": [
    "## How to create an array from existing data\n",
    "\n",
    "This section covers slicing and indexing, `np.vstack()`, `np.hstack()`, `np.hsplit()`, `.view()`, `copy()`\n",
    "\n",
    "You can easily use create a new array from a section of an existing array.\n",
    "\n",
    "Let’s say you have this array:"
   ]
  },
  {
   "cell_type": "code",
   "execution_count": 55,
   "id": "arabic-webster",
   "metadata": {},
   "outputs": [
    {
     "data": {
      "text/plain": [
       "array([ 1,  2,  3,  4,  5,  6,  7,  8,  9, 10])"
      ]
     },
     "execution_count": 55,
     "metadata": {},
     "output_type": "execute_result"
    }
   ],
   "source": [
    "a = np.array([1,  2,  3,  4,  5,  6,  7,  8,  9, 10])\n",
    "a"
   ]
  },
  {
   "cell_type": "markdown",
   "id": "stable-reply",
   "metadata": {},
   "source": [
    "You can create a new array from a section of your array any time by specifying where you want to slice your array."
   ]
  },
  {
   "cell_type": "code",
   "execution_count": 56,
   "id": "automatic-russell",
   "metadata": {},
   "outputs": [
    {
     "data": {
      "text/plain": [
       "array([4, 5, 6, 7, 8])"
      ]
     },
     "execution_count": 56,
     "metadata": {},
     "output_type": "execute_result"
    }
   ],
   "source": [
    "arr1 = a[3:8]\n",
    "arr1\n",
    "# array([4, 5, 6, 7, 8])"
   ]
  },
  {
   "cell_type": "markdown",
   "id": "friendly-station",
   "metadata": {},
   "source": [
    "Here, you grabbed a section of your array from index position 3 through index position 8.\n",
    "\n",
    "**NOTE THIS IS DIFFERENT THAN REGULAR PYTHON!** \n",
    "\n",
    "**IT _INCLUDES_ THE LAST INDEX!!!**\n",
    "\n",
    "You can also stack two existing arrays, both vertically and horizontally. Let’s say you have two arrays, `a1` and `a2`:"
   ]
  },
  {
   "cell_type": "code",
   "execution_count": 57,
   "id": "seventh-ecology",
   "metadata": {},
   "outputs": [
    {
     "data": {
      "text/plain": [
       "array([[1, 1],\n",
       "       [2, 2]])"
      ]
     },
     "execution_count": 57,
     "metadata": {},
     "output_type": "execute_result"
    }
   ],
   "source": [
    "a1 = np.array([[1, 1],\n",
    "[2, 2]])\n",
    "a1"
   ]
  },
  {
   "cell_type": "code",
   "execution_count": 58,
   "id": "secure-thomas",
   "metadata": {},
   "outputs": [
    {
     "data": {
      "text/plain": [
       "array([[3, 3],\n",
       "       [4, 4]])"
      ]
     },
     "execution_count": 58,
     "metadata": {},
     "output_type": "execute_result"
    }
   ],
   "source": [
    "a2 = np.array([[3, 3],\n",
    "[4, 4]])\n",
    "a2"
   ]
  },
  {
   "cell_type": "markdown",
   "id": "devoted-effect",
   "metadata": {},
   "source": [
    "You can stack them vertically with `vstack`:"
   ]
  },
  {
   "cell_type": "code",
   "execution_count": 59,
   "id": "stone-positive",
   "metadata": {},
   "outputs": [
    {
     "data": {
      "text/plain": [
       "array([[1, 1],\n",
       "       [2, 2],\n",
       "       [3, 3],\n",
       "       [4, 4]])"
      ]
     },
     "execution_count": 59,
     "metadata": {},
     "output_type": "execute_result"
    }
   ],
   "source": [
    "np.vstack((a1, a2))\n",
    "# array([[1, 1],\n",
    "#        [2, 2],\n",
    "#        [3, 3],\n",
    "#        [4, 4]])"
   ]
  },
  {
   "cell_type": "markdown",
   "id": "afraid-audience",
   "metadata": {},
   "source": [
    "Or stack them horizontally with `hstack`:"
   ]
  },
  {
   "cell_type": "code",
   "execution_count": 60,
   "id": "similar-wilderness",
   "metadata": {},
   "outputs": [
    {
     "data": {
      "text/plain": [
       "array([[1, 1, 3, 3],\n",
       "       [2, 2, 4, 4]])"
      ]
     },
     "execution_count": 60,
     "metadata": {},
     "output_type": "execute_result"
    }
   ],
   "source": [
    "np.hstack((a1, a2))\n",
    "# array([[1, 1, 3, 3],\n",
    "#        [2, 2, 4, 4]])"
   ]
  },
  {
   "cell_type": "markdown",
   "id": "phantom-better",
   "metadata": {},
   "source": [
    "You can split an array into several smaller arrays using `hsplit`. You can specify either the number of equally shaped arrays to return or the columns after which the division should occur.\n",
    "\n",
    "Let’s say you have this array:"
   ]
  },
  {
   "cell_type": "code",
   "execution_count": 61,
   "id": "athletic-microwave",
   "metadata": {},
   "outputs": [
    {
     "data": {
      "text/plain": [
       "array([[ 1,  2,  3,  4,  5,  6,  7,  8,  9, 10, 11, 12],\n",
       "       [13, 14, 15, 16, 17, 18, 19, 20, 21, 22, 23, 24]])"
      ]
     },
     "execution_count": 61,
     "metadata": {},
     "output_type": "execute_result"
    }
   ],
   "source": [
    "x = np.arange(1, 25).reshape(2, 12)\n",
    "x\n",
    "# array([[ 1,  2,  3,  4,  5,  6,  7,  8,  9, 10, 11, 12],\n",
    "#        [13, 14, 15, 16, 17, 18, 19, 20, 21, 22, 23, 24]])"
   ]
  },
  {
   "cell_type": "markdown",
   "id": "assured-helena",
   "metadata": {},
   "source": [
    "If you wanted to split this array into three equally shaped arrays, you would run:"
   ]
  },
  {
   "cell_type": "code",
   "execution_count": 64,
   "id": "fancy-creek",
   "metadata": {},
   "outputs": [
    {
     "data": {
      "text/plain": [
       "[array([[ 1,  2,  3,  4],\n",
       "        [13, 14, 15, 16]]),\n",
       " array([[ 5,  6,  7,  8],\n",
       "        [17, 18, 19, 20]]),\n",
       " array([[ 9, 10, 11, 12],\n",
       "        [21, 22, 23, 24]])]"
      ]
     },
     "execution_count": 64,
     "metadata": {},
     "output_type": "execute_result"
    }
   ],
   "source": [
    "np.hsplit(x, 3)\n",
    "# [array([[1,  2,  3,  4],\n",
    "#         [13, 14, 15, 16]]), array([[ 5,  6,  7,  8],\n",
    "#         [17, 18, 19, 20]]), array([[ 9, 10, 11, 12],\n",
    "#         [21, 22, 23, 24]])]"
   ]
  },
  {
   "cell_type": "markdown",
   "id": "needed-tennessee",
   "metadata": {},
   "source": [
    "If you wanted to split your array after the third and fourth column, you’d run:"
   ]
  },
  {
   "cell_type": "code",
   "execution_count": 65,
   "id": "atomic-shopper",
   "metadata": {},
   "outputs": [
    {
     "data": {
      "text/plain": [
       "[array([[ 1,  2,  3],\n",
       "        [13, 14, 15]]),\n",
       " array([[ 4],\n",
       "        [16]]),\n",
       " array([[ 5,  6,  7,  8,  9, 10, 11, 12],\n",
       "        [17, 18, 19, 20, 21, 22, 23, 24]])]"
      ]
     },
     "execution_count": 65,
     "metadata": {},
     "output_type": "execute_result"
    }
   ],
   "source": [
    "np.hsplit(x, (3, 4))\n",
    "# [array([[1, 2, 3],\n",
    "#         [13, 14, 15]]), array([[ 4],\n",
    "#         [16]]), array([[ 5, 6, 7, 8, 9, 10, 11, 12],\n",
    "#         [17, 18, 19, 20, 21, 22, 23, 24]])]"
   ]
  },
  {
   "cell_type": "markdown",
   "id": "secret-transformation",
   "metadata": {},
   "source": [
    "Learn more about stacking and splitting arrays here:\n",
    "https://numpy.org/doc/stable/user/quickstart.html#quickstart-stacking-arrays\n",
    "\n",
    "You can use the `view` method to create a new array object that looks at the same data as the original array (a _shallow_ copy).\n",
    "\n",
    "Views are an important NumPy concept! NumPy functions, as well as operations like indexing and slicing, will return views whenever possible. This saves memory and is faster (no copy of the data has to be made). However it’s important to be aware of this - modifying data in a view also modifies the original array!\n",
    "\n",
    "Let’s say you create this array:"
   ]
  },
  {
   "cell_type": "code",
   "execution_count": 66,
   "id": "industrial-wonder",
   "metadata": {},
   "outputs": [
    {
     "data": {
      "text/plain": [
       "array([[ 1,  2,  3,  4],\n",
       "       [ 5,  6,  7,  8],\n",
       "       [ 9, 10, 11, 12]])"
      ]
     },
     "execution_count": 66,
     "metadata": {},
     "output_type": "execute_result"
    }
   ],
   "source": [
    "a = np.array([[1, 2, 3, 4], [5, 6, 7, 8], [9, 10, 11, 12]])\n",
    "a"
   ]
  },
  {
   "cell_type": "markdown",
   "id": "greater-denial",
   "metadata": {},
   "source": [
    "Now we create an array `b1` by slicing `a` and modify the first element of `b1`. This will modify the corresponding element in `a` as well!"
   ]
  },
  {
   "cell_type": "code",
   "execution_count": 67,
   "id": "numeric-secretary",
   "metadata": {},
   "outputs": [
    {
     "data": {
      "text/plain": [
       "array([1, 2, 3, 4])"
      ]
     },
     "execution_count": 67,
     "metadata": {},
     "output_type": "execute_result"
    }
   ],
   "source": [
    "b1 = a[0, :]\n",
    "b1\n",
    "# array([1, 2, 3, 4])"
   ]
  },
  {
   "cell_type": "code",
   "execution_count": 68,
   "id": "compatible-multimedia",
   "metadata": {},
   "outputs": [
    {
     "data": {
      "text/plain": [
       "array([99,  2,  3,  4])"
      ]
     },
     "execution_count": 68,
     "metadata": {},
     "output_type": "execute_result"
    }
   ],
   "source": [
    "b1[0] = 99\n",
    "b1\n",
    "# array([99,  2,  3,  4])"
   ]
  },
  {
   "cell_type": "code",
   "execution_count": 69,
   "id": "supported-terrorism",
   "metadata": {},
   "outputs": [
    {
     "data": {
      "text/plain": [
       "array([[99,  2,  3,  4],\n",
       "       [ 5,  6,  7,  8],\n",
       "       [ 9, 10, 11, 12]])"
      ]
     },
     "execution_count": 69,
     "metadata": {},
     "output_type": "execute_result"
    }
   ],
   "source": [
    "a\n",
    "# array([[99,  2,  3,  4],\n",
    "#        [ 5,  6,  7,  8],\n",
    "#        [ 9, 10, 11, 12]])"
   ]
  },
  {
   "cell_type": "markdown",
   "id": "equipped-nation",
   "metadata": {},
   "source": [
    "Using the `copy` method will make a complete copy of the array and its data (a *deep* copy). To use this on your array, you could run:"
   ]
  },
  {
   "cell_type": "code",
   "execution_count": 70,
   "id": "threaded-management",
   "metadata": {},
   "outputs": [
    {
     "data": {
      "text/plain": [
       "array([[99,  2,  3,  4],\n",
       "       [ 5,  6,  7,  8],\n",
       "       [ 9, 10, 11, 12]])"
      ]
     },
     "execution_count": 70,
     "metadata": {},
     "output_type": "execute_result"
    }
   ],
   "source": [
    "b2 = a.copy()\n",
    "b2"
   ]
  },
  {
   "cell_type": "markdown",
   "id": "split-celtic",
   "metadata": {},
   "source": [
    "Learn more about copies and views here:\n",
    "https://numpy.org/doc/stable/user/quickstart.html#quickstart-copies-and-views"
   ]
  },
  {
   "cell_type": "markdown",
   "id": "greatest-boutique",
   "metadata": {},
   "source": [
    "## Basic array operations\n",
    "\n",
    "This section covers _addition, subtraction, multiplication, division, and more_\n",
    "\n",
    "Once you’ve created your arrays, you can start to work with them. Let’s say, for example, that you’ve created two arrays, one called “data” and one called “ones”:"
   ]
  },
  {
   "cell_type": "markdown",
   "id": "moving-washington",
   "metadata": {},
   "source": [
    "![data and ones](_images/np_array_dataones.png)"
   ]
  },
  {
   "cell_type": "markdown",
   "id": "portuguese-discretion",
   "metadata": {},
   "source": [
    "You can add the arrays together with the plus sign."
   ]
  },
  {
   "cell_type": "code",
   "execution_count": 71,
   "id": "silver-municipality",
   "metadata": {},
   "outputs": [
    {
     "data": {
      "text/plain": [
       "array([2, 3])"
      ]
     },
     "execution_count": 71,
     "metadata": {},
     "output_type": "execute_result"
    }
   ],
   "source": [
    "data = np.array([1, 2])\n",
    "ones = np.ones(2, dtype=int)\n",
    "data + ones\n",
    "# array([2, 3])"
   ]
  },
  {
   "cell_type": "markdown",
   "id": "purple-scope",
   "metadata": {},
   "source": [
    "![data + ones](_images/np_array_data_plus_ones.png)\n",
    "\n",
    "You can, of course, do more than just addition!"
   ]
  },
  {
   "cell_type": "code",
   "execution_count": 72,
   "id": "pharmaceutical-capture",
   "metadata": {},
   "outputs": [
    {
     "data": {
      "text/plain": [
       "array([0, 1])"
      ]
     },
     "execution_count": 72,
     "metadata": {},
     "output_type": "execute_result"
    }
   ],
   "source": [
    "data - ones\n",
    "# array([0, 1])"
   ]
  },
  {
   "cell_type": "code",
   "execution_count": 73,
   "id": "explicit-business",
   "metadata": {},
   "outputs": [
    {
     "data": {
      "text/plain": [
       "array([1, 4])"
      ]
     },
     "execution_count": 73,
     "metadata": {},
     "output_type": "execute_result"
    }
   ],
   "source": [
    "data * data\n",
    "# array([1, 4])"
   ]
  },
  {
   "cell_type": "code",
   "execution_count": 74,
   "id": "wanted-official",
   "metadata": {},
   "outputs": [
    {
     "data": {
      "text/plain": [
       "array([1., 1.])"
      ]
     },
     "execution_count": 74,
     "metadata": {},
     "output_type": "execute_result"
    }
   ],
   "source": [
    "data / data\n",
    "# array([1., 1.])"
   ]
  },
  {
   "cell_type": "markdown",
   "id": "scheduled-compensation",
   "metadata": {},
   "source": [
    "![subtract, multiply, divide](_images/np_sub_mult_divide.png)"
   ]
  },
  {
   "cell_type": "markdown",
   "id": "strange-grade",
   "metadata": {},
   "source": [
    "Basic operations are simple with NumPy. If you want to find the sum of the elements in an array, you’d use `sum()`. This works for 1D arrays, 2D arrays, and arrays in higher dimensions."
   ]
  },
  {
   "cell_type": "code",
   "execution_count": 75,
   "id": "defined-jumping",
   "metadata": {},
   "outputs": [
    {
     "name": "stdout",
     "output_type": "stream",
     "text": [
      "[1 2 3 4]\n"
     ]
    },
    {
     "data": {
      "text/plain": [
       "10"
      ]
     },
     "execution_count": 75,
     "metadata": {},
     "output_type": "execute_result"
    }
   ],
   "source": [
    "a = np.array([1, 2, 3, 4])\n",
    "print(a)\n",
    "a.sum()\n",
    "# 10"
   ]
  },
  {
   "cell_type": "markdown",
   "id": "super-right",
   "metadata": {},
   "source": [
    "To add the rows or the columns in a 2D array, you would specify the axis.\n",
    "\n",
    "If you start with this array:"
   ]
  },
  {
   "cell_type": "code",
   "execution_count": 76,
   "id": "commercial-blade",
   "metadata": {},
   "outputs": [
    {
     "data": {
      "text/plain": [
       "array([[1, 1],\n",
       "       [2, 2]])"
      ]
     },
     "execution_count": 76,
     "metadata": {},
     "output_type": "execute_result"
    }
   ],
   "source": [
    "b = np.array([[1, 1], [2, 2]])\n",
    "b"
   ]
  },
  {
   "cell_type": "markdown",
   "id": "electoral-advisory",
   "metadata": {},
   "source": [
    "You can sum the rows with:"
   ]
  },
  {
   "cell_type": "code",
   "execution_count": 77,
   "id": "caroline-ivory",
   "metadata": {},
   "outputs": [
    {
     "data": {
      "text/plain": [
       "array([3, 3])"
      ]
     },
     "execution_count": 77,
     "metadata": {},
     "output_type": "execute_result"
    }
   ],
   "source": [
    "b.sum(axis=0)\n",
    "# array([3, 3])"
   ]
  },
  {
   "cell_type": "markdown",
   "id": "acute-alliance",
   "metadata": {},
   "source": [
    "You can sum the columns with:"
   ]
  },
  {
   "cell_type": "code",
   "execution_count": 78,
   "id": "frank-musical",
   "metadata": {},
   "outputs": [
    {
     "data": {
      "text/plain": [
       "array([2, 4])"
      ]
     },
     "execution_count": 78,
     "metadata": {},
     "output_type": "execute_result"
    }
   ],
   "source": [
    "b.sum(axis=1)\n",
    "# array([2, 4])"
   ]
  },
  {
   "cell_type": "markdown",
   "id": "parental-pillow",
   "metadata": {},
   "source": [
    "Learn more about basic operations here: \n",
    "https://numpy.org/doc/stable/user/quickstart.html#quickstart-basic-operations"
   ]
  },
  {
   "cell_type": "markdown",
   "id": "black-thumbnail",
   "metadata": {},
   "source": [
    "## Broadcasting\n",
    "\n",
    "There are times when you might want to carry out an operation between an array and a single number (also called _an operation between a vector and a scalar_) or between arrays of two different sizes. For example, your array (we’ll call it “data”) might contain information about distance in miles but you want to convert the information to kilometers. You can perform this operation with:"
   ]
  },
  {
   "cell_type": "code",
   "execution_count": 79,
   "id": "social-budapest",
   "metadata": {},
   "outputs": [
    {
     "data": {
      "text/plain": [
       "array([1.6, 3.2])"
      ]
     },
     "execution_count": 79,
     "metadata": {},
     "output_type": "execute_result"
    }
   ],
   "source": [
    "data = np.array([1.0, 2.0])\n",
    "data * 1.6\n",
    "# array([1.6, 3.2])"
   ]
  },
  {
   "cell_type": "markdown",
   "id": "after-third",
   "metadata": {},
   "source": [
    "![Multiply broadcasting](_images/np_multiply_broadcasting.png)"
   ]
  },
  {
   "cell_type": "markdown",
   "id": "structured-syndrome",
   "metadata": {},
   "source": [
    "NumPy understands that the multiplication should happen with each cell. That concept is called **broadcasting**. Broadcasting is a mechanism that allows NumPy to perform operations on arrays of different shapes. The dimensions of your array must be compatible, for example, when the dimensions of both arrays are equal or when one of them is 1. If the dimensions are not compatible, you will get a `ValueError`.\n",
    "\n",
    "Learn more about broadcasting here:\n",
    "https://numpy.org/doc/stable/user/basics.broadcasting.html#basics-broadcasting"
   ]
  },
  {
   "cell_type": "markdown",
   "id": "hungarian-twelve",
   "metadata": {},
   "source": [
    "## More useful array operations\n",
    "\n",
    "_This section covers maximum, minimum, sum, mean, product, standard deviation, and more_\n",
    "\n",
    "NumPy also performs **aggregation** functions. In addition to `min`, `max`, and `sum`, you can easily run `mean` to get the average, `prod` to get the result of multiplying the elements together, `std` to get the standard deviation, and more."
   ]
  },
  {
   "cell_type": "code",
   "execution_count": 80,
   "id": "drawn-cooler",
   "metadata": {},
   "outputs": [
    {
     "data": {
      "text/plain": [
       "2.0"
      ]
     },
     "execution_count": 80,
     "metadata": {},
     "output_type": "execute_result"
    }
   ],
   "source": [
    "data.max()\n",
    "# 2.0"
   ]
  },
  {
   "cell_type": "code",
   "execution_count": 81,
   "id": "experimental-minimum",
   "metadata": {},
   "outputs": [
    {
     "data": {
      "text/plain": [
       "1.0"
      ]
     },
     "execution_count": 81,
     "metadata": {},
     "output_type": "execute_result"
    }
   ],
   "source": [
    "data.min()\n",
    "# 1.0"
   ]
  },
  {
   "cell_type": "code",
   "execution_count": 82,
   "id": "awful-reservation",
   "metadata": {},
   "outputs": [
    {
     "data": {
      "text/plain": [
       "3.0"
      ]
     },
     "execution_count": 82,
     "metadata": {},
     "output_type": "execute_result"
    }
   ],
   "source": [
    "data.sum()\n",
    "# 3.0"
   ]
  },
  {
   "cell_type": "markdown",
   "id": "genetic-fitness",
   "metadata": {},
   "source": [
    "![Aggregation functions](_images/np_aggregation.png)"
   ]
  },
  {
   "cell_type": "markdown",
   "id": "fewer-third",
   "metadata": {},
   "source": [
    "Let’s start with this array, called `a`:"
   ]
  },
  {
   "cell_type": "code",
   "execution_count": 83,
   "id": "valued-island",
   "metadata": {},
   "outputs": [
    {
     "data": {
      "text/plain": [
       "array([[0.45053314, 0.17296777, 0.34376245, 0.5510652 ],\n",
       "       [0.54627315, 0.05093587, 0.40067661, 0.55645993],\n",
       "       [0.12697628, 0.82485143, 0.26590556, 0.56917101]])"
      ]
     },
     "execution_count": 83,
     "metadata": {},
     "output_type": "execute_result"
    }
   ],
   "source": [
    "a = np.array([[0.45053314, 0.17296777, 0.34376245, 0.5510652],\n",
    "              [0.54627315, 0.05093587, 0.40067661, 0.55645993],\n",
    "              [0.12697628, 0.82485143, 0.26590556, 0.56917101]])\n",
    "a"
   ]
  },
  {
   "cell_type": "markdown",
   "id": "outer-psychiatry",
   "metadata": {},
   "source": [
    "It’s very common to want to aggregate along a row or column. By default, every NumPy aggregation function will return the aggregate of the entire array. To find the sum or the minimum of the elements in your array, run:"
   ]
  },
  {
   "cell_type": "code",
   "execution_count": 84,
   "id": "extraordinary-swing",
   "metadata": {},
   "outputs": [
    {
     "data": {
      "text/plain": [
       "4.8595784"
      ]
     },
     "execution_count": 84,
     "metadata": {},
     "output_type": "execute_result"
    }
   ],
   "source": [
    "a.sum()\n",
    "# 4.8595784"
   ]
  },
  {
   "cell_type": "markdown",
   "id": "catholic-shift",
   "metadata": {},
   "source": [
    "Or:"
   ]
  },
  {
   "cell_type": "code",
   "execution_count": 85,
   "id": "educational-journalism",
   "metadata": {},
   "outputs": [
    {
     "data": {
      "text/plain": [
       "0.05093587"
      ]
     },
     "execution_count": 85,
     "metadata": {},
     "output_type": "execute_result"
    }
   ],
   "source": [
    "a.min()\n",
    "# 0.05093587"
   ]
  },
  {
   "cell_type": "markdown",
   "id": "electric-living",
   "metadata": {},
   "source": [
    "You can specify on which axis you want the aggregation function to be computed. For example, you can find the minimum value within each column by specifying `axis=0`."
   ]
  },
  {
   "cell_type": "code",
   "execution_count": 86,
   "id": "attempted-gather",
   "metadata": {},
   "outputs": [
    {
     "data": {
      "text/plain": [
       "array([0.12697628, 0.05093587, 0.26590556, 0.5510652 ])"
      ]
     },
     "execution_count": 86,
     "metadata": {},
     "output_type": "execute_result"
    }
   ],
   "source": [
    "a.min(axis=0)\n",
    "# array([0.12697628, 0.05093587, 0.26590556, 0.5510652 ])"
   ]
  },
  {
   "cell_type": "markdown",
   "id": "agreed-occasion",
   "metadata": {},
   "source": [
    "The four values listed above correspond to the number of columns in your array. With a four-column array, you will get four values as your result.\n",
    "\n",
    "Read more about array methods here:\n",
    "https://numpy.org/doc/stable/reference/arrays.ndarray.html#array-ndarray-methods\n"
   ]
  },
  {
   "cell_type": "markdown",
   "id": "practical-disability",
   "metadata": {},
   "source": [
    "## Creating matrices\n",
    "\n",
    "You can pass Python lists of lists to create a 2-D array (or “matrix”) to represent them in NumPy."
   ]
  },
  {
   "cell_type": "code",
   "execution_count": 89,
   "id": "ethical-compound",
   "metadata": {},
   "outputs": [
    {
     "data": {
      "text/plain": [
       "array([[1, 2],\n",
       "       [3, 4]])"
      ]
     },
     "execution_count": 89,
     "metadata": {},
     "output_type": "execute_result"
    }
   ],
   "source": [
    "data = np.array([[1, 2], [3, 4]])\n",
    "data\n",
    "# array([[1, 2],\n",
    "#        [3, 4]])"
   ]
  },
  {
   "cell_type": "markdown",
   "id": "illegal-blues",
   "metadata": {},
   "source": [
    "![Create matrix](_images/np_create_matrix.png)"
   ]
  },
  {
   "cell_type": "markdown",
   "id": "affecting-state",
   "metadata": {},
   "source": [
    "Indexing and slicing operations are useful when you’re manipulating matrices:"
   ]
  },
  {
   "cell_type": "code",
   "execution_count": 90,
   "id": "opening-synthetic",
   "metadata": {},
   "outputs": [
    {
     "data": {
      "text/plain": [
       "2"
      ]
     },
     "execution_count": 90,
     "metadata": {},
     "output_type": "execute_result"
    }
   ],
   "source": [
    "data[0, 1]\n",
    "# 2"
   ]
  },
  {
   "cell_type": "code",
   "execution_count": 91,
   "id": "valid-monkey",
   "metadata": {},
   "outputs": [
    {
     "data": {
      "text/plain": [
       "array([[3, 4]])"
      ]
     },
     "execution_count": 91,
     "metadata": {},
     "output_type": "execute_result"
    }
   ],
   "source": [
    "data[1:3]\n",
    "# array([[3, 4]])"
   ]
  },
  {
   "cell_type": "code",
   "execution_count": 92,
   "id": "earlier-institution",
   "metadata": {},
   "outputs": [
    {
     "data": {
      "text/plain": [
       "array([1, 3])"
      ]
     },
     "execution_count": 92,
     "metadata": {},
     "output_type": "execute_result"
    }
   ],
   "source": [
    "data[0:2, 0]\n",
    "# array([1, 3])"
   ]
  },
  {
   "cell_type": "markdown",
   "id": "headed-centre",
   "metadata": {},
   "source": [
    "![Indexing plus slicing](_images/np_indexing_slicing.png)"
   ]
  },
  {
   "cell_type": "markdown",
   "id": "former-trailer",
   "metadata": {},
   "source": [
    "\n",
    "You can aggregate matrices the same way you aggregated vectors:"
   ]
  },
  {
   "cell_type": "code",
   "execution_count": 94,
   "id": "dynamic-confusion",
   "metadata": {},
   "outputs": [
    {
     "data": {
      "text/plain": [
       "4"
      ]
     },
     "execution_count": 94,
     "metadata": {},
     "output_type": "execute_result"
    }
   ],
   "source": [
    "data.max()\n",
    "# 4"
   ]
  },
  {
   "cell_type": "code",
   "execution_count": 95,
   "id": "therapeutic-atmosphere",
   "metadata": {},
   "outputs": [
    {
     "data": {
      "text/plain": [
       "1"
      ]
     },
     "execution_count": 95,
     "metadata": {},
     "output_type": "execute_result"
    }
   ],
   "source": [
    "data.min()\n",
    "# 1"
   ]
  },
  {
   "cell_type": "code",
   "execution_count": 96,
   "id": "expected-blink",
   "metadata": {},
   "outputs": [
    {
     "data": {
      "text/plain": [
       "10"
      ]
     },
     "execution_count": 96,
     "metadata": {},
     "output_type": "execute_result"
    }
   ],
   "source": [
    "data.sum()\n",
    "# 10"
   ]
  },
  {
   "cell_type": "markdown",
   "id": "through-document",
   "metadata": {},
   "source": [
    "![Matrix aggregation](_images/np_matrix_aggregation.png)"
   ]
  },
  {
   "cell_type": "markdown",
   "id": "infrared-albuquerque",
   "metadata": {},
   "source": [
    "You can aggregate all the values in a matrix and you can aggregate them across columns or rows using the `axis` parameter:"
   ]
  },
  {
   "cell_type": "code",
   "execution_count": 97,
   "id": "considered-alignment",
   "metadata": {},
   "outputs": [
    {
     "data": {
      "text/plain": [
       "array([3, 4])"
      ]
     },
     "execution_count": 97,
     "metadata": {},
     "output_type": "execute_result"
    }
   ],
   "source": [
    "data.max(axis=0)\n",
    "# array([3, 4])"
   ]
  },
  {
   "cell_type": "code",
   "execution_count": 98,
   "id": "unsigned-wright",
   "metadata": {},
   "outputs": [
    {
     "data": {
      "text/plain": [
       "array([2, 4])"
      ]
     },
     "execution_count": 98,
     "metadata": {},
     "output_type": "execute_result"
    }
   ],
   "source": [
    "data.max(axis=1)\n",
    "# array([2, 4])"
   ]
  },
  {
   "cell_type": "markdown",
   "id": "realistic-hours",
   "metadata": {},
   "source": [
    "![Matrix aggregation](_images/np_matrix_aggregation_row.png)"
   ]
  },
  {
   "cell_type": "markdown",
   "id": "major-imagination",
   "metadata": {},
   "source": [
    "Once you’ve created your matrices, you can add and multiply them using arithmetic operators if you have two matrices that are the same size."
   ]
  },
  {
   "cell_type": "code",
   "execution_count": 99,
   "id": "accepting-desire",
   "metadata": {},
   "outputs": [
    {
     "name": "stdout",
     "output_type": "stream",
     "text": [
      "[[1 2]\n",
      " [3 4]]\n",
      "[[1 1]\n",
      " [1 1]]\n"
     ]
    }
   ],
   "source": [
    "data = np.array([[1, 2], [3, 4]])\n",
    "print(data)\n",
    "ones = np.array([[1, 1], [1, 1]])\n",
    "print(ones)"
   ]
  },
  {
   "cell_type": "code",
   "execution_count": 100,
   "id": "confirmed-smile",
   "metadata": {},
   "outputs": [
    {
     "data": {
      "text/plain": [
       "array([[2, 3],\n",
       "       [4, 5]])"
      ]
     },
     "execution_count": 100,
     "metadata": {},
     "output_type": "execute_result"
    }
   ],
   "source": [
    "data + ones\n",
    "# array([[2, 3],\n",
    "#        [4, 5]])"
   ]
  },
  {
   "cell_type": "markdown",
   "id": "upset-athens",
   "metadata": {},
   "source": [
    "![Matrix arithmetic](_images/np_matrix_arithmetic.png)"
   ]
  },
  {
   "cell_type": "markdown",
   "id": "acoustic-paragraph",
   "metadata": {},
   "source": [
    "You can do these arithmetic operations on matrices of different sizes, but only if one matrix has only one column or one row. In this case, NumPy will use its broadcast rules for the operation."
   ]
  },
  {
   "cell_type": "code",
   "execution_count": 101,
   "id": "italian-outside",
   "metadata": {},
   "outputs": [
    {
     "data": {
      "text/plain": [
       "array([[1, 2],\n",
       "       [3, 4],\n",
       "       [5, 6]])"
      ]
     },
     "execution_count": 101,
     "metadata": {},
     "output_type": "execute_result"
    }
   ],
   "source": [
    "data = np.array([[1, 2], [3, 4], [5, 6]])\n",
    "data"
   ]
  },
  {
   "cell_type": "code",
   "execution_count": 102,
   "id": "cloudy-vampire",
   "metadata": {},
   "outputs": [
    {
     "data": {
      "text/plain": [
       "array([[1, 1]])"
      ]
     },
     "execution_count": 102,
     "metadata": {},
     "output_type": "execute_result"
    }
   ],
   "source": [
    "ones_row = np.array([[1, 1]])\n",
    "ones_row"
   ]
  },
  {
   "cell_type": "code",
   "execution_count": 103,
   "id": "hybrid-peninsula",
   "metadata": {},
   "outputs": [
    {
     "data": {
      "text/plain": [
       "array([[2, 3],\n",
       "       [4, 5],\n",
       "       [6, 7]])"
      ]
     },
     "execution_count": 103,
     "metadata": {},
     "output_type": "execute_result"
    }
   ],
   "source": [
    "data + ones_row\n",
    "# array([[2, 3],\n",
    "#        [4, 5],\n",
    "#        [6, 7]])"
   ]
  },
  {
   "cell_type": "markdown",
   "id": "ruled-equality",
   "metadata": {},
   "source": [
    "![Matrix broadcasting](_images/np_matrix_broadcasting.png)"
   ]
  },
  {
   "cell_type": "markdown",
   "id": "liberal-explorer",
   "metadata": {},
   "source": [
    "Be aware that when NumPy prints N-dimensional arrays, the last axis is looped over the fastest while the first axis is the slowest. For instance:"
   ]
  },
  {
   "cell_type": "code",
   "execution_count": 104,
   "id": "injured-favorite",
   "metadata": {},
   "outputs": [
    {
     "data": {
      "text/plain": [
       "array([[[1., 1.],\n",
       "        [1., 1.],\n",
       "        [1., 1.]],\n",
       "\n",
       "       [[1., 1.],\n",
       "        [1., 1.],\n",
       "        [1., 1.]],\n",
       "\n",
       "       [[1., 1.],\n",
       "        [1., 1.],\n",
       "        [1., 1.]],\n",
       "\n",
       "       [[1., 1.],\n",
       "        [1., 1.],\n",
       "        [1., 1.]]])"
      ]
     },
     "execution_count": 104,
     "metadata": {},
     "output_type": "execute_result"
    }
   ],
   "source": [
    "np.ones((4, 3, 2))\n",
    "# array([[[1., 1.],\n",
    "#         [1., 1.],\n",
    "#         [1., 1.]],\n",
    "\n",
    "#        [[1., 1.],\n",
    "#         [1., 1.],\n",
    "#         [1., 1.]],\n",
    "\n",
    "#        [[1., 1.],\n",
    "#         [1., 1.],\n",
    "#         [1., 1.]],\n",
    "\n",
    "#        [[1., 1.],\n",
    "#         [1., 1.],\n",
    "#         [1., 1.]]])"
   ]
  },
  {
   "cell_type": "markdown",
   "id": "executed-pharmaceutical",
   "metadata": {},
   "source": [
    "There are often instances where we want NumPy to initialize the values of an array. NumPy offers functions like `ones()` and `zeros()`, and the `random.Generator` class for random number generation for that. All you need to do is pass in the number of elements you want it to generate:"
   ]
  },
  {
   "cell_type": "code",
   "execution_count": 105,
   "id": "baking-equality",
   "metadata": {},
   "outputs": [
    {
     "data": {
      "text/plain": [
       "array([1., 1., 1.])"
      ]
     },
     "execution_count": 105,
     "metadata": {},
     "output_type": "execute_result"
    }
   ],
   "source": [
    "np.ones(3)\n",
    "# array([1., 1., 1.])"
   ]
  },
  {
   "cell_type": "code",
   "execution_count": 106,
   "id": "square-cover",
   "metadata": {},
   "outputs": [
    {
     "data": {
      "text/plain": [
       "array([0., 0., 0.])"
      ]
     },
     "execution_count": 106,
     "metadata": {},
     "output_type": "execute_result"
    }
   ],
   "source": [
    "np.zeros(3)\n",
    "# array([0., 0., 0.])"
   ]
  },
  {
   "cell_type": "code",
   "execution_count": 108,
   "id": "changing-farming",
   "metadata": {},
   "outputs": [
    {
     "data": {
      "text/plain": [
       "array([0.63696169, 0.26978671, 0.04097352])"
      ]
     },
     "execution_count": 108,
     "metadata": {},
     "output_type": "execute_result"
    }
   ],
   "source": [
    "# the simplest way to generate random numbers\n",
    "rng = np.random.default_rng(0)\n",
    "rng.random(3)\n",
    "# array([0.63696169, 0.26978671, 0.04097352])"
   ]
  },
  {
   "cell_type": "markdown",
   "id": "approximate-celebration",
   "metadata": {},
   "source": [
    "![Ones, zeros random](_images/np_ones_zeros_random.png)"
   ]
  },
  {
   "cell_type": "markdown",
   "id": "chief-leone",
   "metadata": {},
   "source": [
    "You can also use `ones()`, `zeros()`, and `random()` to create a 2D array if you give them a tuple describing the dimensions of the matrix:"
   ]
  },
  {
   "cell_type": "code",
   "execution_count": 109,
   "id": "surrounded-canadian",
   "metadata": {},
   "outputs": [
    {
     "data": {
      "text/plain": [
       "array([[1., 1.],\n",
       "       [1., 1.],\n",
       "       [1., 1.]])"
      ]
     },
     "execution_count": 109,
     "metadata": {},
     "output_type": "execute_result"
    }
   ],
   "source": [
    "np.ones((3, 2))\n",
    "# array([[1., 1.],\n",
    "#        [1., 1.],\n",
    "#        [1., 1.]])"
   ]
  },
  {
   "cell_type": "code",
   "execution_count": 110,
   "id": "computational-management",
   "metadata": {},
   "outputs": [
    {
     "data": {
      "text/plain": [
       "array([[0., 0.],\n",
       "       [0., 0.],\n",
       "       [0., 0.]])"
      ]
     },
     "execution_count": 110,
     "metadata": {},
     "output_type": "execute_result"
    }
   ],
   "source": [
    "np.zeros((3, 2))\n",
    "# array([[0., 0.],\n",
    "#        [0., 0.],\n",
    "#        [0., 0.]])"
   ]
  },
  {
   "cell_type": "code",
   "execution_count": 111,
   "id": "permanent-seattle",
   "metadata": {},
   "outputs": [
    {
     "data": {
      "text/plain": [
       "array([[0.01652764, 0.81327024],\n",
       "       [0.91275558, 0.60663578],\n",
       "       [0.72949656, 0.54362499]])"
      ]
     },
     "execution_count": 111,
     "metadata": {},
     "output_type": "execute_result"
    }
   ],
   "source": [
    "rng.random((3, 2))\n",
    "# array([[0.01652764, 0.81327024],\n",
    "#        [0.91275558, 0.60663578],\n",
    "#        [0.72949656, 0.54362499]])  # may vary"
   ]
  },
  {
   "cell_type": "markdown",
   "id": "photographic-parker",
   "metadata": {},
   "source": [
    "\n",
    "![Ones, zeros matrix](_images/np_ones_zeros_matrix.png)"
   ]
  },
  {
   "cell_type": "markdown",
   "id": "upper-commissioner",
   "metadata": {},
   "source": [
    "Read more about creating arrays, filled with 0’s, 1’s, other values or uninitialized, at array creation routines:\n",
    "https://numpy.org/doc/stable/reference/routines.array-creation.html#routines-array-creation"
   ]
  },
  {
   "cell_type": "markdown",
   "id": "broad-there",
   "metadata": {},
   "source": [
    "## Generating random numbers\n",
    "\n",
    "The use of random number generation is an important part of the configuration and evaluation of many numerical and machine learning algorithms. Whether you need to randomly initialize weights in an artificial neural network, split data into random sets, or randomly shuffle your dataset, being able to generate random numbers (actually, repeatable pseudo-random numbers) is essential.\n",
    "\n",
    "With `Generator.integers`, you can generate random integers from low (remember that this is inclusive with NumPy) to high (exclusive). You can set `endpoint=True` to make the high number inclusive.\n",
    "\n",
    "You can generate a 2 x 4 array of random integers between 0 and 4 with:"
   ]
  },
  {
   "cell_type": "code",
   "execution_count": 112,
   "id": "impaired-exclusive",
   "metadata": {},
   "outputs": [
    {
     "data": {
      "text/plain": [
       "array([[2, 4, 1, 4],\n",
       "       [3, 0, 1, 4]], dtype=int64)"
      ]
     },
     "execution_count": 112,
     "metadata": {},
     "output_type": "execute_result"
    }
   ],
   "source": [
    "rng.integers(5, size=(2, 4))\n",
    "# array([[2, 1, 1, 0],\n",
    "#        [0, 0, 0, 4]])  # varies each evaluation"
   ]
  },
  {
   "cell_type": "markdown",
   "id": "historic-mounting",
   "metadata": {},
   "source": [
    "Read more about random number generation here:\n",
    "https://numpy.org/doc/stable/reference/random/index.html#numpyrandom"
   ]
  },
  {
   "cell_type": "markdown",
   "id": "muslim-breach",
   "metadata": {},
   "source": [
    "## How to get unique items and counts\n",
    "\n",
    "This section covers `np.unique()`\n",
    "\n",
    "You can find the unique elements in an array easily with `np.unique`.\n",
    "\n",
    "For example, if you start with this array:"
   ]
  },
  {
   "cell_type": "code",
   "execution_count": 113,
   "id": "mental-acquisition",
   "metadata": {},
   "outputs": [
    {
     "data": {
      "text/plain": [
       "array([11, 11, 12, 13, 14, 15, 16, 17, 12, 13, 11, 14, 18, 19, 20])"
      ]
     },
     "execution_count": 113,
     "metadata": {},
     "output_type": "execute_result"
    }
   ],
   "source": [
    "a = np.array([11, 11, 12, 13, 14, 15, 16, 17, 12, 13, 11, 14, 18, 19, 20])\n",
    "a"
   ]
  },
  {
   "cell_type": "markdown",
   "id": "complicated-michigan",
   "metadata": {},
   "source": [
    "you can use `np.unique` to print the unique values in your array:"
   ]
  },
  {
   "cell_type": "code",
   "execution_count": 114,
   "id": "extra-encyclopedia",
   "metadata": {},
   "outputs": [
    {
     "name": "stdout",
     "output_type": "stream",
     "text": [
      "[11 12 13 14 15 16 17 18 19 20]\n"
     ]
    }
   ],
   "source": [
    "unique_values = np.unique(a)\n",
    "print(unique_values)\n",
    "# [11 12 13 14 15 16 17 18 19 20]"
   ]
  },
  {
   "cell_type": "markdown",
   "id": "representative-chair",
   "metadata": {},
   "source": [
    "To get the indices of unique values in a NumPy array (an array of first index positions of unique values in the array), just pass the `return_index` argument in `np.unique()` as well as your array."
   ]
  },
  {
   "cell_type": "code",
   "execution_count": 115,
   "id": "macro-technology",
   "metadata": {},
   "outputs": [
    {
     "name": "stdout",
     "output_type": "stream",
     "text": [
      "[ 0  2  3  4  5  6  7 12 13 14]\n"
     ]
    }
   ],
   "source": [
    "unique_values, indices_list = np.unique(a, return_index=True)\n",
    "print(indices_list)\n",
    "# [ 0  2  3  4  5  6  7 12 13 14]"
   ]
  },
  {
   "cell_type": "markdown",
   "id": "passive-crisis",
   "metadata": {},
   "source": [
    "You can pass the return_counts argument in `np.unique()` along with your array to get the frequency count of unique values in a NumPy array."
   ]
  },
  {
   "cell_type": "code",
   "execution_count": 120,
   "id": "matched-former",
   "metadata": {},
   "outputs": [
    {
     "name": "stdout",
     "output_type": "stream",
     "text": [
      "[3 2 2 2 1 1 1 1 1 1]\n"
     ]
    }
   ],
   "source": [
    "unique_values, occurrence_count = np.unique(a, return_counts=True)\n",
    "print(occurrence_count)\n",
    "# [3 2 2 2 1 1 1 1 1 1]"
   ]
  },
  {
   "cell_type": "markdown",
   "id": "prospective-housing",
   "metadata": {},
   "source": [
    "This also works with 2D arrays! If you start with this array:"
   ]
  },
  {
   "cell_type": "code",
   "execution_count": 121,
   "id": "sunrise-ground",
   "metadata": {},
   "outputs": [
    {
     "data": {
      "text/plain": [
       "array([[ 1,  2,  3,  4],\n",
       "       [ 5,  6,  7,  8],\n",
       "       [ 9, 10, 11, 12],\n",
       "       [ 1,  2,  3,  4]])"
      ]
     },
     "execution_count": 121,
     "metadata": {},
     "output_type": "execute_result"
    }
   ],
   "source": [
    "a_2d = np.array([[1, 2, 3, 4], [5, 6, 7, 8], [9, 10, 11, 12], [1, 2, 3, 4]])\n",
    "a_2d\n",
    "# array([[ 1,  2,  3,  4],\n",
    "#        [ 5,  6,  7,  8],\n",
    "#        [ 9, 10, 11, 12],\n",
    "#        [ 1,  2,  3,  4]])"
   ]
  },
  {
   "cell_type": "markdown",
   "id": "covered-cutting",
   "metadata": {},
   "source": [
    "You can find unique values with:"
   ]
  },
  {
   "cell_type": "code",
   "execution_count": 123,
   "id": "willing-vertex",
   "metadata": {},
   "outputs": [
    {
     "name": "stdout",
     "output_type": "stream",
     "text": [
      "[ 1  2  3  4  5  6  7  8  9 10 11 12]\n"
     ]
    }
   ],
   "source": [
    "unique_values = np.unique(a_2d)\n",
    "print(unique_values)\n",
    "# [ 1  2  3  4  5  6  7  8  9 10 11 12]"
   ]
  },
  {
   "cell_type": "markdown",
   "id": "referenced-chemical",
   "metadata": {},
   "source": [
    "If the `axis` argument isn’t passed, your 2D array will be flattened.\n",
    "\n",
    "If you want to get the unique rows or columns, make sure to pass the `axis` argument. To find the unique rows, specify `axis=0` and for columns, specify `axis=1`."
   ]
  },
  {
   "cell_type": "code",
   "execution_count": 124,
   "id": "burning-walker",
   "metadata": {},
   "outputs": [
    {
     "name": "stdout",
     "output_type": "stream",
     "text": [
      "[[ 1  2  3  4]\n",
      " [ 5  6  7  8]\n",
      " [ 9 10 11 12]]\n"
     ]
    }
   ],
   "source": [
    "unique_rows = np.unique(a_2d, axis=0)\n",
    "print(unique_rows)\n",
    "# [[ 1  2  3  4]\n",
    "#  [ 5  6  7  8]\n",
    "#  [ 9 10 11 12]]"
   ]
  },
  {
   "cell_type": "markdown",
   "id": "billion-episode",
   "metadata": {},
   "source": [
    "To get the unique rows, index position, and occurrence count, you can use:"
   ]
  },
  {
   "cell_type": "code",
   "execution_count": 126,
   "id": "assigned-nigeria",
   "metadata": {},
   "outputs": [
    {
     "name": "stdout",
     "output_type": "stream",
     "text": [
      "[[ 1  2  3  4]\n",
      " [ 5  6  7  8]\n",
      " [ 9 10 11 12]]\n",
      "[0 1 2]\n",
      "[2 1 1]\n"
     ]
    }
   ],
   "source": [
    "unique_rows, indices, occurrence_count = np.unique(\n",
    "      a_2d, axis=0, return_counts=True, return_index=True)\n",
    "print(unique_rows)\n",
    "print(indices)\n",
    "print(occurrence_count)\n",
    "# [[ 1  2  3  4]\n",
    "#  [ 5  6  7  8]\n",
    "#  [ 9 10 11 12]]"
   ]
  },
  {
   "cell_type": "code",
   "execution_count": 127,
   "id": "strange-manner",
   "metadata": {},
   "outputs": [
    {
     "name": "stdout",
     "output_type": "stream",
     "text": [
      "[0 1 2]\n"
     ]
    }
   ],
   "source": [
    "print(indices)\n",
    "# [0 1 2]"
   ]
  },
  {
   "cell_type": "code",
   "execution_count": 128,
   "id": "stable-rugby",
   "metadata": {},
   "outputs": [
    {
     "name": "stdout",
     "output_type": "stream",
     "text": [
      "[2 1 1]\n"
     ]
    }
   ],
   "source": [
    "print(occurrence_count)\n",
    "# [2 1 1]"
   ]
  },
  {
   "cell_type": "markdown",
   "id": "operating-kelly",
   "metadata": {},
   "source": [
    "To learn more about finding the unique elements in an array, see unique:\n",
    "https://numpy.org/doc/stable/reference/generated/numpy.unique.html#numpy.unique"
   ]
  },
  {
   "cell_type": "markdown",
   "id": "difficult-pointer",
   "metadata": {},
   "source": [
    "## Transposing and reshaping a matrix\n",
    "\n",
    "This section covers `arr.reshape()`, `arr.transpose()`, `arr.T`\n",
    "\n",
    "It’s common to need to transpose your matrices. NumPy arrays have the property `T` that allows you to transpose a matrix."
   ]
  },
  {
   "cell_type": "markdown",
   "id": "diagnostic-kelly",
   "metadata": {},
   "source": [
    "![Transposing and reshaping](_images/np_transposing_reshaping.png)"
   ]
  },
  {
   "cell_type": "markdown",
   "id": "measured-shame",
   "metadata": {},
   "source": [
    "You may also need to switch the dimensions of a matrix. This can happen when, for example, you have a model that expects a certain input shape that is different from your dataset. This is where the `reshape` method can be useful. You simply need to pass in the new dimensions that you want for the matrix."
   ]
  },
  {
   "cell_type": "code",
   "execution_count": 129,
   "id": "swiss-christian",
   "metadata": {},
   "outputs": [
    {
     "data": {
      "text/plain": [
       "array([[1, 2, 3],\n",
       "       [4, 5, 6]])"
      ]
     },
     "execution_count": 129,
     "metadata": {},
     "output_type": "execute_result"
    }
   ],
   "source": [
    "data.reshape(2, 3)\n",
    "# array([[1, 2, 3],\n",
    "#        [4, 5, 6]])"
   ]
  },
  {
   "cell_type": "code",
   "execution_count": 130,
   "id": "reliable-force",
   "metadata": {},
   "outputs": [
    {
     "data": {
      "text/plain": [
       "array([[1, 2],\n",
       "       [3, 4],\n",
       "       [5, 6]])"
      ]
     },
     "execution_count": 130,
     "metadata": {},
     "output_type": "execute_result"
    }
   ],
   "source": [
    "data.reshape(3, 2)\n",
    "# array([[1, 2],\n",
    "#        [3, 4],\n",
    "#        [5, 6]])"
   ]
  },
  {
   "cell_type": "markdown",
   "id": "further-selection",
   "metadata": {},
   "source": [
    "![Reshaping](_images/np_reshape.png)"
   ]
  },
  {
   "cell_type": "markdown",
   "id": "variable-bridges",
   "metadata": {},
   "source": [
    "You can also use `.transpose()` to reverse or change the axes of an array according to the values you specify.\n",
    "\n",
    "If you start with this array:"
   ]
  },
  {
   "cell_type": "code",
   "execution_count": 131,
   "id": "whole-press",
   "metadata": {},
   "outputs": [
    {
     "data": {
      "text/plain": [
       "array([[0, 1, 2],\n",
       "       [3, 4, 5]])"
      ]
     },
     "execution_count": 131,
     "metadata": {},
     "output_type": "execute_result"
    }
   ],
   "source": [
    "arr = np.arange(6).reshape((2, 3))\n",
    "arr\n",
    "# array([[0, 1, 2],\n",
    "#        [3, 4, 5]])"
   ]
  },
  {
   "cell_type": "markdown",
   "id": "retained-teddy",
   "metadata": {},
   "source": [
    "You can transpose your array with `arr.transpose()`."
   ]
  },
  {
   "cell_type": "code",
   "execution_count": 134,
   "id": "alleged-screw",
   "metadata": {},
   "outputs": [
    {
     "data": {
      "text/plain": [
       "array([[0, 3],\n",
       "       [1, 4],\n",
       "       [2, 5]])"
      ]
     },
     "execution_count": 134,
     "metadata": {},
     "output_type": "execute_result"
    }
   ],
   "source": [
    ">>> arr.transpose()\n",
    "#array([[0, 3],\n",
    "#       [1, 4],\n",
    "#       [2, 5]])"
   ]
  },
  {
   "cell_type": "markdown",
   "id": "interior-corps",
   "metadata": {},
   "source": [
    "You can also use `arr.T`:"
   ]
  },
  {
   "cell_type": "code",
   "execution_count": 135,
   "id": "fatal-minute",
   "metadata": {},
   "outputs": [
    {
     "data": {
      "text/plain": [
       "array([[0, 3],\n",
       "       [1, 4],\n",
       "       [2, 5]])"
      ]
     },
     "execution_count": 135,
     "metadata": {},
     "output_type": "execute_result"
    }
   ],
   "source": [
    "arr.T\n",
    "# array([[0, 3],\n",
    "#        [1, 4],\n",
    "#        [2, 5]])"
   ]
  },
  {
   "cell_type": "markdown",
   "id": "collective-identification",
   "metadata": {},
   "source": [
    "To learn more about transposing and reshaping arrays, see transpose:\n",
    "\n",
    "https://numpy.org/doc/stable/reference/generated/numpy.transpose.html#numpy.transpose\n",
    "\n",
    "and reshape:\n",
    "\n",
    "https://numpy.org/doc/stable/reference/generated/numpy.reshape.html#numpy.reshape"
   ]
  },
  {
   "cell_type": "markdown",
   "id": "mature-forge",
   "metadata": {},
   "source": [
    "## How to reverse an array\n",
    "\n",
    "This section covers `np.flip()`\n",
    "\n",
    "NumPy’s `np.flip()` function allows you to flip, or reverse, the contents of an array along an axis. When using `np.flip()`, specify the array you would like to reverse and the axis. If you don’t specify the axis, NumPy will reverse the contents along all of the axes of your input array.\n",
    "\n",
    "### Reversing a 1D array\n",
    "\n",
    "If you begin with a 1D array like this one:"
   ]
  },
  {
   "cell_type": "code",
   "execution_count": 136,
   "id": "banner-roommate",
   "metadata": {},
   "outputs": [
    {
     "data": {
      "text/plain": [
       "array([1, 2, 3, 4, 5, 6, 7, 8])"
      ]
     },
     "execution_count": 136,
     "metadata": {},
     "output_type": "execute_result"
    }
   ],
   "source": [
    "arr = np.array([1, 2, 3, 4, 5, 6, 7, 8])\n",
    "arr"
   ]
  },
  {
   "cell_type": "markdown",
   "id": "featured-slope",
   "metadata": {},
   "source": [
    "You can reverse it with:"
   ]
  },
  {
   "cell_type": "code",
   "execution_count": 137,
   "id": "saving-canvas",
   "metadata": {},
   "outputs": [
    {
     "data": {
      "text/plain": [
       "array([8, 7, 6, 5, 4, 3, 2, 1])"
      ]
     },
     "execution_count": 137,
     "metadata": {},
     "output_type": "execute_result"
    }
   ],
   "source": [
    "reversed_arr = np.flip(arr)\n",
    "reversed_arr"
   ]
  },
  {
   "cell_type": "markdown",
   "id": "fundamental-tennessee",
   "metadata": {},
   "source": [
    "If you want to print your reversed array, you can run:"
   ]
  },
  {
   "cell_type": "code",
   "execution_count": 138,
   "id": "western-strengthening",
   "metadata": {},
   "outputs": [
    {
     "name": "stdout",
     "output_type": "stream",
     "text": [
      "Reversed Array:  [8 7 6 5 4 3 2 1]\n"
     ]
    }
   ],
   "source": [
    "print('Reversed Array: ', reversed_arr)\n",
    "# Reversed Array:  [8 7 6 5 4 3 2 1]"
   ]
  },
  {
   "cell_type": "markdown",
   "id": "specialized-vessel",
   "metadata": {},
   "source": [
    "### Reversing a 2D array\n",
    "\n",
    "A 2D array works much the same way.\n",
    "\n",
    "If you start with this array:"
   ]
  },
  {
   "cell_type": "code",
   "execution_count": 139,
   "id": "historical-measure",
   "metadata": {},
   "outputs": [
    {
     "data": {
      "text/plain": [
       "array([[ 1,  2,  3,  4],\n",
       "       [ 5,  6,  7,  8],\n",
       "       [ 9, 10, 11, 12]])"
      ]
     },
     "execution_count": 139,
     "metadata": {},
     "output_type": "execute_result"
    }
   ],
   "source": [
    "arr_2d = np.array([[1, 2, 3, 4], [5, 6, 7, 8], [9, 10, 11, 12]])\n",
    "arr_2d"
   ]
  },
  {
   "cell_type": "markdown",
   "id": "driven-virgin",
   "metadata": {},
   "source": [
    "You can reverse the content in all of the rows and all of the columns with:"
   ]
  },
  {
   "cell_type": "code",
   "execution_count": 140,
   "id": "legitimate-despite",
   "metadata": {},
   "outputs": [
    {
     "name": "stdout",
     "output_type": "stream",
     "text": [
      "[[12 11 10  9]\n",
      " [ 8  7  6  5]\n",
      " [ 4  3  2  1]]\n"
     ]
    }
   ],
   "source": [
    "reversed_arr = np.flip(arr_2d)\n",
    "print(reversed_arr)\n",
    "# [[12 11 10  9]\n",
    "#  [ 8  7  6  5]\n",
    "#  [ 4  3  2  1]]"
   ]
  },
  {
   "cell_type": "markdown",
   "id": "acute-blink",
   "metadata": {},
   "source": [
    "You can easily reverse only the _rows_ with:"
   ]
  },
  {
   "cell_type": "code",
   "execution_count": 141,
   "id": "touched-ceramic",
   "metadata": {},
   "outputs": [
    {
     "name": "stdout",
     "output_type": "stream",
     "text": [
      "[[ 9 10 11 12]\n",
      " [ 5  6  7  8]\n",
      " [ 1  2  3  4]]\n"
     ]
    }
   ],
   "source": [
    "reversed_arr_rows = np.flip(arr_2d, axis=0)\n",
    "print(reversed_arr_rows)\n",
    "# [[ 9 10 11 12]\n",
    "#  [ 5  6  7  8]\n",
    "#  [ 1  2  3  4]]"
   ]
  },
  {
   "cell_type": "markdown",
   "id": "metropolitan-chick",
   "metadata": {},
   "source": [
    "Or reverse only the _columns_ with:"
   ]
  },
  {
   "cell_type": "code",
   "execution_count": 142,
   "id": "removed-novelty",
   "metadata": {},
   "outputs": [
    {
     "name": "stdout",
     "output_type": "stream",
     "text": [
      "[[ 4  3  2  1]\n",
      " [ 8  7  6  5]\n",
      " [12 11 10  9]]\n"
     ]
    }
   ],
   "source": [
    "reversed_arr_columns = np.flip(arr_2d, axis=1)\n",
    "print(reversed_arr_columns)\n",
    "# [[ 4  3  2  1]\n",
    "#  [ 8  7  6  5]\n",
    "#  [12 11 10  9]]"
   ]
  },
  {
   "cell_type": "markdown",
   "id": "fourth-studio",
   "metadata": {},
   "source": [
    "You can also reverse the contents of only one column or row. For example, you can reverse the contents of the row at index position 1 (the second row):"
   ]
  },
  {
   "cell_type": "code",
   "execution_count": 143,
   "id": "whole-prefix",
   "metadata": {},
   "outputs": [
    {
     "name": "stdout",
     "output_type": "stream",
     "text": [
      "[[ 1  2  3  4]\n",
      " [ 8  7  6  5]\n",
      " [ 9 10 11 12]]\n"
     ]
    }
   ],
   "source": [
    "arr_2d[1] = np.flip(arr_2d[1])\n",
    "print(arr_2d)\n",
    "# [[ 1  2  3  4]\n",
    "#  [ 8  7  6  5]\n",
    "#  [ 9 10 11 12]]"
   ]
  },
  {
   "cell_type": "markdown",
   "id": "indian-flush",
   "metadata": {},
   "source": [
    "You can also reverse the column at index position 1 (the second column):"
   ]
  },
  {
   "cell_type": "code",
   "execution_count": 144,
   "id": "associate-watch",
   "metadata": {},
   "outputs": [
    {
     "name": "stdout",
     "output_type": "stream",
     "text": [
      "[[ 1 10  3  4]\n",
      " [ 8  7  6  5]\n",
      " [ 9  2 11 12]]\n"
     ]
    }
   ],
   "source": [
    "arr_2d[:,1] = np.flip(arr_2d[:,1])\n",
    "print(arr_2d)\n",
    "# [[ 1 10  3  4]\n",
    "#  [ 8  7  6  5]\n",
    "#  [ 9  2 11 12]]"
   ]
  },
  {
   "cell_type": "markdown",
   "id": "threatened-cruise",
   "metadata": {},
   "source": [
    "Read more about reversing arrays at flip: https://numpy.org/doc/stable/reference/generated/numpy.flip.html#numpy.flip\n",
    "\n"
   ]
  },
  {
   "cell_type": "markdown",
   "id": "pleased-supplier",
   "metadata": {},
   "source": [
    "## Reshaping and flattening multidimensional arrays\n",
    "\n",
    "This section covers `.flatten()`, `ravel()`\n",
    "\n",
    "There are two popular ways to flatten an array: `.flatten()` and `.ravel()`. The primary difference between the two is that the new array created using `ravel()` is actually a reference to the parent array (i.e., a “view”). This means that any changes to the new array will affect the parent array as well. Since `ravel` does not create a copy, it’s memory efficient.\n",
    "\n",
    "If you start with this array:"
   ]
  },
  {
   "cell_type": "code",
   "execution_count": 145,
   "id": "modular-office",
   "metadata": {},
   "outputs": [
    {
     "data": {
      "text/plain": [
       "array([[ 1,  2,  3,  4],\n",
       "       [ 5,  6,  7,  8],\n",
       "       [ 9, 10, 11, 12]])"
      ]
     },
     "execution_count": 145,
     "metadata": {},
     "output_type": "execute_result"
    }
   ],
   "source": [
    "x = np.array([[1 , 2, 3, 4], [5, 6, 7, 8], [9, 10, 11, 12]])\n",
    "x"
   ]
  },
  {
   "cell_type": "markdown",
   "id": "integrated-shoulder",
   "metadata": {},
   "source": [
    "You can use `flatten` to flatten your array into a 1D array."
   ]
  },
  {
   "cell_type": "code",
   "execution_count": 146,
   "id": "quick-number",
   "metadata": {},
   "outputs": [
    {
     "data": {
      "text/plain": [
       "array([ 1,  2,  3,  4,  5,  6,  7,  8,  9, 10, 11, 12])"
      ]
     },
     "execution_count": 146,
     "metadata": {},
     "output_type": "execute_result"
    }
   ],
   "source": [
    "x.flatten()\n",
    "# array([ 1,  2,  3,  4,  5,  6,  7,  8,  9, 10, 11, 12])"
   ]
  },
  {
   "cell_type": "markdown",
   "id": "satellite-squad",
   "metadata": {},
   "source": [
    "When you use `flatten`, changes to your new array won’t change the parent array.\n",
    "\n",
    "For example:"
   ]
  },
  {
   "cell_type": "code",
   "execution_count": 147,
   "id": "failing-place",
   "metadata": {},
   "outputs": [
    {
     "data": {
      "text/plain": [
       "array([ 1,  2,  3,  4,  5,  6,  7,  8,  9, 10, 11, 12])"
      ]
     },
     "execution_count": 147,
     "metadata": {},
     "output_type": "execute_result"
    }
   ],
   "source": [
    "a1 = x.flatten()\n",
    "a1"
   ]
  },
  {
   "cell_type": "code",
   "execution_count": 148,
   "id": "conditional-engineer",
   "metadata": {},
   "outputs": [
    {
     "data": {
      "text/plain": [
       "array([99,  2,  3,  4,  5,  6,  7,  8,  9, 10, 11, 12])"
      ]
     },
     "execution_count": 148,
     "metadata": {},
     "output_type": "execute_result"
    }
   ],
   "source": [
    "a1[0] = 99\n",
    "a1"
   ]
  },
  {
   "cell_type": "code",
   "execution_count": 149,
   "id": "retired-dependence",
   "metadata": {},
   "outputs": [
    {
     "name": "stdout",
     "output_type": "stream",
     "text": [
      "[[ 1  2  3  4]\n",
      " [ 5  6  7  8]\n",
      " [ 9 10 11 12]]\n"
     ]
    }
   ],
   "source": [
    "print(x)  # Original array\n",
    "# [[ 1  2  3  4]\n",
    "#  [ 5  6  7  8]\n",
    "#  [ 9 10 11 12]]"
   ]
  },
  {
   "cell_type": "code",
   "execution_count": 150,
   "id": "surprised-voice",
   "metadata": {},
   "outputs": [
    {
     "name": "stdout",
     "output_type": "stream",
     "text": [
      "[99  2  3  4  5  6  7  8  9 10 11 12]\n"
     ]
    }
   ],
   "source": [
    "print(a1)  # New array\n",
    "# [99  2  3  4  5  6  7  8  9 10 11 12]"
   ]
  },
  {
   "cell_type": "markdown",
   "id": "dirty-fleece",
   "metadata": {},
   "source": [
    "But when you use `ravel`, the changes you make to the new array will affect the parent array.\n",
    "\n",
    "For example:"
   ]
  },
  {
   "cell_type": "code",
   "execution_count": 151,
   "id": "residential-orlando",
   "metadata": {},
   "outputs": [
    {
     "data": {
      "text/plain": [
       "array([ 1,  2,  3,  4,  5,  6,  7,  8,  9, 10, 11, 12])"
      ]
     },
     "execution_count": 151,
     "metadata": {},
     "output_type": "execute_result"
    }
   ],
   "source": [
    "a2 = x.ravel()\n",
    "a2"
   ]
  },
  {
   "cell_type": "code",
   "execution_count": 152,
   "id": "pleased-phone",
   "metadata": {},
   "outputs": [
    {
     "data": {
      "text/plain": [
       "array([98,  2,  3,  4,  5,  6,  7,  8,  9, 10, 11, 12])"
      ]
     },
     "execution_count": 152,
     "metadata": {},
     "output_type": "execute_result"
    }
   ],
   "source": [
    "a2[0] = 98\n",
    "a2"
   ]
  },
  {
   "cell_type": "code",
   "execution_count": 153,
   "id": "independent-minority",
   "metadata": {},
   "outputs": [
    {
     "name": "stdout",
     "output_type": "stream",
     "text": [
      "[[98  2  3  4]\n",
      " [ 5  6  7  8]\n",
      " [ 9 10 11 12]]\n"
     ]
    }
   ],
   "source": [
    "print(x)  # Original array has changed\n",
    "# [[98  2  3  4]\n",
    "#  [ 5  6  7  8]\n",
    "#  [ 9 10 11 12]]"
   ]
  },
  {
   "cell_type": "code",
   "execution_count": 154,
   "id": "animated-detector",
   "metadata": {},
   "outputs": [
    {
     "name": "stdout",
     "output_type": "stream",
     "text": [
      "[98  2  3  4  5  6  7  8  9 10 11 12]\n"
     ]
    }
   ],
   "source": [
    "print(a2)  # New array\n",
    "# [98  2  3  4  5  6  7  8  9 10 11 12]"
   ]
  },
  {
   "cell_type": "markdown",
   "id": "human-budget",
   "metadata": {},
   "source": [
    "Read more about `ndarray.flatten`:\n",
    "\n",
    "https://numpy.org/doc/stable/reference/generated/numpy.ndarray.flatten.html#numpy.ndarray.flatten\n",
    "\n",
    "And `ravel`:  https://numpy.org/doc/stable/reference/generated/numpy.ravel.html#numpy.ravel"
   ]
  },
  {
   "cell_type": "markdown",
   "id": "progressive-monitor",
   "metadata": {},
   "source": [
    "## How to access the docstring for more information\n",
    "\n",
    "This section covers `help()`, ?, ??\n",
    "\n",
    "When it comes to the data science ecosystem, Python and NumPy are built with the user in mind. One of the best examples of this is the built-in access to documentation. Every object contains the reference to a string, which is known as the **docstring**. In most cases, this docstring contains a quick and concise summary of the object and how to use it. Python has a built-in `help()` function that can help you access this information. This means that nearly any time you need more information, you can use `help()` to quickly find the information that you need.\n",
    "\n",
    "For example:"
   ]
  },
  {
   "cell_type": "code",
   "execution_count": 155,
   "id": "sharing-peoples",
   "metadata": {},
   "outputs": [
    {
     "name": "stdout",
     "output_type": "stream",
     "text": [
      "Help on built-in function max in module builtins:\n",
      "\n",
      "max(...)\n",
      "    max(iterable, *[, default=obj, key=func]) -> value\n",
      "    max(arg1, arg2, *args, *[, key=func]) -> value\n",
      "    \n",
      "    With a single iterable argument, return its biggest item. The\n",
      "    default keyword-only argument specifies an object to return if\n",
      "    the provided iterable is empty.\n",
      "    With two or more arguments, return the largest argument.\n",
      "\n"
     ]
    }
   ],
   "source": [
    "help(max)\n",
    "# Help on built-in function max in module builtins:\n",
    "\n",
    "# max(...)\n",
    "#     max(iterable, *[, default=obj, key=func]) -> value\n",
    "#     max(arg1, arg2, *args, *[, key=func]) -> value\n",
    "\n",
    "#     With a single iterable argument, return its biggest item. The\n",
    "#     default keyword-only argument specifies an object to return if\n",
    "#     the provided iterable is empty.\n",
    "#     With two or more arguments, return the largest argument."
   ]
  },
  {
   "cell_type": "markdown",
   "id": "different-durham",
   "metadata": {},
   "source": [
    "Because access to additional information is so useful, IPython uses the `?` character as a shorthand for accessing this documentation along with other relevant information. IPython is a command shell for interactive computing in multiple languages. You can find more information about IPython here:  https://ipython.org/\n",
    "\n",
    "For example:"
   ]
  },
  {
   "cell_type": "markdown",
   "id": "economic-anniversary",
   "metadata": {},
   "source": [
    "Because access to additional information is so useful, IPython uses the `?` character as a shorthand for accessing this documentation along with other relevant information. IPython is a command shell for interactive computing in multiple languages. You can find more information about IPython here:  https://ipython.org/\n",
    "\n",
    "For example:"
   ]
  },
  {
   "cell_type": "code",
   "execution_count": 157,
   "id": "interior-scroll",
   "metadata": {},
   "outputs": [
    {
     "data": {
      "text/plain": [
       "\u001b[1;31mDocstring:\u001b[0m\n",
       "max(iterable, *[, default=obj, key=func]) -> value\n",
       "max(arg1, arg2, *args, *[, key=func]) -> value\n",
       "\n",
       "With a single iterable argument, return its biggest item. The\n",
       "default keyword-only argument specifies an object to return if\n",
       "the provided iterable is empty.\n",
       "With two or more arguments, return the largest argument.\n",
       "\u001b[1;31mType:\u001b[0m      builtin_function_or_method\n"
      ]
     },
     "metadata": {},
     "output_type": "display_data"
    }
   ],
   "source": [
    "max?"
   ]
  },
  {
   "cell_type": "code",
   "execution_count": 158,
   "id": "outdoor-consistency",
   "metadata": {},
   "outputs": [
    {
     "data": {
      "text/plain": [
       "\u001b[1;31mDocstring:\u001b[0m\n",
       "max(iterable, *[, default=obj, key=func]) -> value\n",
       "max(arg1, arg2, *args, *[, key=func]) -> value\n",
       "\n",
       "With a single iterable argument, return its biggest item. The\n",
       "default keyword-only argument specifies an object to return if\n",
       "the provided iterable is empty.\n",
       "With two or more arguments, return the largest argument.\n",
       "\u001b[1;31mType:\u001b[0m      builtin_function_or_method\n"
      ]
     },
     "metadata": {},
     "output_type": "display_data"
    }
   ],
   "source": [
    "max?\n",
    "\n",
    "# max(iterable, *[, default=obj, key=func]) -> value\n",
    "# max(arg1, arg2, *args, *[, key=func]) -> value\n",
    "\n",
    "# With a single iterable argument, return its biggest item. The\n",
    "# default keyword-only argument specifies an object to return if\n",
    "# the provided iterable is empty.\n",
    "# With two or more arguments, return the largest argument.\n",
    "# Type:      builtin_function_or_method"
   ]
  },
  {
   "cell_type": "markdown",
   "id": "measured-authentication",
   "metadata": {},
   "source": [
    "You can even use this notation for object methods and objects themselves.\n",
    "\n",
    "Let’s say you create this array:"
   ]
  },
  {
   "cell_type": "code",
   "execution_count": 159,
   "id": "relative-lodging",
   "metadata": {},
   "outputs": [
    {
     "data": {
      "text/plain": [
       "array([1, 2, 3, 4, 5, 6])"
      ]
     },
     "execution_count": 159,
     "metadata": {},
     "output_type": "execute_result"
    }
   ],
   "source": [
    "a = np.array([1, 2, 3, 4, 5, 6])\n",
    "a"
   ]
  },
  {
   "cell_type": "markdown",
   "id": "orange-contents",
   "metadata": {},
   "source": [
    "Then you can obtain a lot of useful information (first details about a itself, followed by the docstring of ndarray of which a is an instance):"
   ]
  },
  {
   "cell_type": "code",
   "execution_count": 160,
   "id": "imperial-fishing",
   "metadata": {},
   "outputs": [
    {
     "data": {
      "text/plain": [
       "\u001b[1;31mType:\u001b[0m            ndarray\n",
       "\u001b[1;31mString form:\u001b[0m     [1 2 3 4 5 6]\n",
       "\u001b[1;31mLength:\u001b[0m          6\n",
       "\u001b[1;31mFile:\u001b[0m            c:\\users\\shiva\\anaconda3\\lib\\site-packages\\numpy\\__init__.py\n",
       "\u001b[1;31mDocstring:\u001b[0m       <no docstring>\n",
       "\u001b[1;31mClass docstring:\u001b[0m\n",
       "ndarray(shape, dtype=float, buffer=None, offset=0,\n",
       "        strides=None, order=None)\n",
       "\n",
       "An array object represents a multidimensional, homogeneous array\n",
       "of fixed-size items.  An associated data-type object describes the\n",
       "format of each element in the array (its byte-order, how many bytes it\n",
       "occupies in memory, whether it is an integer, a floating point number,\n",
       "or something else, etc.)\n",
       "\n",
       "Arrays should be constructed using `array`, `zeros` or `empty` (refer\n",
       "to the See Also section below).  The parameters given here refer to\n",
       "a low-level method (`ndarray(...)`) for instantiating an array.\n",
       "\n",
       "For more information, refer to the `numpy` module and examine the\n",
       "methods and attributes of an array.\n",
       "\n",
       "Parameters\n",
       "----------\n",
       "(for the __new__ method; see Notes below)\n",
       "\n",
       "shape : tuple of ints\n",
       "    Shape of created array.\n",
       "dtype : data-type, optional\n",
       "    Any object that can be interpreted as a numpy data type.\n",
       "buffer : object exposing buffer interface, optional\n",
       "    Used to fill the array with data.\n",
       "offset : int, optional\n",
       "    Offset of array data in buffer.\n",
       "strides : tuple of ints, optional\n",
       "    Strides of data in memory.\n",
       "order : {'C', 'F'}, optional\n",
       "    Row-major (C-style) or column-major (Fortran-style) order.\n",
       "\n",
       "Attributes\n",
       "----------\n",
       "T : ndarray\n",
       "    Transpose of the array.\n",
       "data : buffer\n",
       "    The array's elements, in memory.\n",
       "dtype : dtype object\n",
       "    Describes the format of the elements in the array.\n",
       "flags : dict\n",
       "    Dictionary containing information related to memory use, e.g.,\n",
       "    'C_CONTIGUOUS', 'OWNDATA', 'WRITEABLE', etc.\n",
       "flat : numpy.flatiter object\n",
       "    Flattened version of the array as an iterator.  The iterator\n",
       "    allows assignments, e.g., ``x.flat = 3`` (See `ndarray.flat` for\n",
       "    assignment examples; TODO).\n",
       "imag : ndarray\n",
       "    Imaginary part of the array.\n",
       "real : ndarray\n",
       "    Real part of the array.\n",
       "size : int\n",
       "    Number of elements in the array.\n",
       "itemsize : int\n",
       "    The memory use of each array element in bytes.\n",
       "nbytes : int\n",
       "    The total number of bytes required to store the array data,\n",
       "    i.e., ``itemsize * size``.\n",
       "ndim : int\n",
       "    The array's number of dimensions.\n",
       "shape : tuple of ints\n",
       "    Shape of the array.\n",
       "strides : tuple of ints\n",
       "    The step-size required to move from one element to the next in\n",
       "    memory. For example, a contiguous ``(3, 4)`` array of type\n",
       "    ``int16`` in C-order has strides ``(8, 2)``.  This implies that\n",
       "    to move from element to element in memory requires jumps of 2 bytes.\n",
       "    To move from row-to-row, one needs to jump 8 bytes at a time\n",
       "    (``2 * 4``).\n",
       "ctypes : ctypes object\n",
       "    Class containing properties of the array needed for interaction\n",
       "    with ctypes.\n",
       "base : ndarray\n",
       "    If the array is a view into another array, that array is its `base`\n",
       "    (unless that array is also a view).  The `base` array is where the\n",
       "    array data is actually stored.\n",
       "\n",
       "See Also\n",
       "--------\n",
       "array : Construct an array.\n",
       "zeros : Create an array, each element of which is zero.\n",
       "empty : Create an array, but leave its allocated memory unchanged (i.e.,\n",
       "        it contains \"garbage\").\n",
       "dtype : Create a data-type.\n",
       "\n",
       "Notes\n",
       "-----\n",
       "There are two modes of creating an array using ``__new__``:\n",
       "\n",
       "1. If `buffer` is None, then only `shape`, `dtype`, and `order`\n",
       "   are used.\n",
       "2. If `buffer` is an object exposing the buffer interface, then\n",
       "   all keywords are interpreted.\n",
       "\n",
       "No ``__init__`` method is needed because the array is fully initialized\n",
       "after the ``__new__`` method.\n",
       "\n",
       "Examples\n",
       "--------\n",
       "These examples illustrate the low-level `ndarray` constructor.  Refer\n",
       "to the `See Also` section above for easier ways of constructing an\n",
       "ndarray.\n",
       "\n",
       "First mode, `buffer` is None:\n",
       "\n",
       ">>> np.ndarray(shape=(2,2), dtype=float, order='F')\n",
       "array([[0.0e+000, 0.0e+000], # random\n",
       "       [     nan, 2.5e-323]])\n",
       "\n",
       "Second mode:\n",
       "\n",
       ">>> np.ndarray((2,), buffer=np.array([1,2,3]),\n",
       "...            offset=np.int_().itemsize,\n",
       "...            dtype=int) # offset = 1*itemsize, i.e. skip first element\n",
       "array([2, 3])\n"
      ]
     },
     "metadata": {},
     "output_type": "display_data"
    }
   ],
   "source": [
    "a?\n",
    "\n",
    "# Type:            ndarray\n",
    "# String form:     [1 2 3 4 5 6]\n",
    "# Length:          6\n",
    "# File:            ~/anaconda3/lib/python3.7/site-packages/numpy/__init__.py\n",
    "# Docstring:       <no docstring>\n",
    "# Class docstring:\n",
    "# ndarray(shape, dtype=float, buffer=None, offset=0,\n",
    "#         strides=None, order=None)\n",
    "# ..."
   ]
  },
  {
   "cell_type": "markdown",
   "id": "handled-million",
   "metadata": {},
   "source": [
    "An array object represents a multidimensional, homogeneous array\n",
    "of fixed-size items.  An associated data-type object describes the\n",
    "format of each element in the array (its byte-order, how many bytes it\n",
    "occupies in memory, whether it is an integer, a floating point number,\n",
    "or something else, etc.)\n",
    "\n",
    "Arrays should be constructed using `array`, `zeros` or `empty` (refer\n",
    "to the See Also section below).  The parameters given here refer to\n",
    "a low-level method (`ndarray(...)`) for instantiating an array.\n",
    "\n",
    "For more information, refer to the `numpy` module and examine the\n",
    "methods and attributes of an array.\n",
    "\n",
    "*Parameter*\n",
    "(for the `__new__` method; see Notes below)\n",
    "\n",
    "shape : tuple of ints\n",
    "        Shape of created array.\n",
    "..."
   ]
  },
  {
   "cell_type": "markdown",
   "id": "common-ground",
   "metadata": {},
   "source": [
    "This also works for functions and other objects that you create. Just remember to include a docstring with your function using a string literal (`\"\"\" \"\"\"` or `''' '''` around your documentation).\n",
    "\n",
    "For example, if you create this function:"
   ]
  },
  {
   "cell_type": "code",
   "execution_count": 161,
   "id": "employed-albania",
   "metadata": {},
   "outputs": [],
   "source": [
    "def double(a):\n",
    "    '''Return a * 2'''\n",
    "    return a * 2"
   ]
  },
  {
   "cell_type": "markdown",
   "id": "painted-conviction",
   "metadata": {},
   "source": [
    "You can obtain information about the function:"
   ]
  },
  {
   "cell_type": "code",
   "execution_count": 162,
   "id": "satisfied-marketing",
   "metadata": {},
   "outputs": [
    {
     "data": {
      "text/plain": [
       "\u001b[1;31mSignature:\u001b[0m \u001b[0mdouble\u001b[0m\u001b[1;33m(\u001b[0m\u001b[0ma\u001b[0m\u001b[1;33m)\u001b[0m\u001b[1;33m\u001b[0m\u001b[1;33m\u001b[0m\u001b[0m\n",
       "\u001b[1;31mDocstring:\u001b[0m Return a * 2\n",
       "\u001b[1;31mFile:\u001b[0m      c:\\users\\shiva\\documents\\python-603\\class12\\lab_12_starting\\lab_12_starting\\notebooks-2\\<ipython-input-161-b5adf20be596>\n",
       "\u001b[1;31mType:\u001b[0m      function\n"
      ]
     },
     "metadata": {},
     "output_type": "display_data"
    }
   ],
   "source": [
    "double?\n",
    "\n",
    "# Signature: double(a)\n",
    "# Docstring: Return a * 2\n",
    "# File:      ~/Desktop/<ipython-input-23-b5adf20be596>\n",
    "# Type:      function"
   ]
  },
  {
   "cell_type": "markdown",
   "id": "consistent-weather",
   "metadata": {},
   "source": [
    "You can reach another level of information by reading the source code of the object you’re interested in. Using a double question mark (`??`) allows you to access the source code.\n",
    "\n",
    "For example:"
   ]
  },
  {
   "cell_type": "code",
   "execution_count": 163,
   "id": "bearing-warehouse",
   "metadata": {},
   "outputs": [
    {
     "data": {
      "text/plain": [
       "\u001b[1;31mSignature:\u001b[0m \u001b[0mdouble\u001b[0m\u001b[1;33m(\u001b[0m\u001b[0ma\u001b[0m\u001b[1;33m)\u001b[0m\u001b[1;33m\u001b[0m\u001b[1;33m\u001b[0m\u001b[0m\n",
       "\u001b[1;31mSource:\u001b[0m   \n",
       "\u001b[1;32mdef\u001b[0m \u001b[0mdouble\u001b[0m\u001b[1;33m(\u001b[0m\u001b[0ma\u001b[0m\u001b[1;33m)\u001b[0m\u001b[1;33m:\u001b[0m\u001b[1;33m\n",
       "\u001b[0m    \u001b[1;34m'''Return a * 2'''\u001b[0m\u001b[1;33m\n",
       "\u001b[0m    \u001b[1;32mreturn\u001b[0m \u001b[0ma\u001b[0m \u001b[1;33m*\u001b[0m \u001b[1;36m2\u001b[0m\u001b[1;33m\u001b[0m\u001b[1;33m\u001b[0m\u001b[0m\n",
       "\u001b[1;31mFile:\u001b[0m      c:\\users\\shiva\\documents\\python-603\\class12\\lab_12_starting\\lab_12_starting\\notebooks-2\\<ipython-input-161-b5adf20be596>\n",
       "\u001b[1;31mType:\u001b[0m      function\n"
      ]
     },
     "metadata": {},
     "output_type": "display_data"
    }
   ],
   "source": [
    "double??\n",
    "\n",
    "# Signature: double(a)\n",
    "# Source:\n",
    "# def double(a):\n",
    "#     '''Return a * 2'''\n",
    "#     return a * 2\n",
    "# File:      ~/Desktop/<ipython-input-23-b5adf20be596>\n",
    "# Type:      function"
   ]
  },
  {
   "cell_type": "markdown",
   "id": "elementary-million",
   "metadata": {},
   "source": [
    "If the object in question is compiled in a language other than Python, using `??` will return the same information as `?`. You’ll find this with a lot of built-in objects and types, for example:"
   ]
  },
  {
   "cell_type": "code",
   "execution_count": 164,
   "id": "double-dependence",
   "metadata": {},
   "outputs": [
    {
     "data": {
      "text/plain": [
       "\u001b[1;31mSignature:\u001b[0m \u001b[0mlen\u001b[0m\u001b[1;33m(\u001b[0m\u001b[0mobj\u001b[0m\u001b[1;33m,\u001b[0m \u001b[1;33m/\u001b[0m\u001b[1;33m)\u001b[0m\u001b[1;33m\u001b[0m\u001b[1;33m\u001b[0m\u001b[0m\n",
       "\u001b[1;31mDocstring:\u001b[0m Return the number of items in a container.\n",
       "\u001b[1;31mType:\u001b[0m      builtin_function_or_method\n"
      ]
     },
     "metadata": {},
     "output_type": "display_data"
    }
   ],
   "source": [
    "len?\n",
    "\n",
    "# Signature: len(obj, /)\n",
    "# Docstring: Return the number of items in a container.\n",
    "# Type:      builtin_function_or_method"
   ]
  },
  {
   "cell_type": "markdown",
   "id": "southwest-daisy",
   "metadata": {},
   "source": [
    "and:"
   ]
  },
  {
   "cell_type": "code",
   "execution_count": 165,
   "id": "dynamic-suspect",
   "metadata": {},
   "outputs": [
    {
     "data": {
      "text/plain": [
       "\u001b[1;31mSignature:\u001b[0m \u001b[0mlen\u001b[0m\u001b[1;33m(\u001b[0m\u001b[0mobj\u001b[0m\u001b[1;33m,\u001b[0m \u001b[1;33m/\u001b[0m\u001b[1;33m)\u001b[0m\u001b[1;33m\u001b[0m\u001b[1;33m\u001b[0m\u001b[0m\n",
       "\u001b[1;31mDocstring:\u001b[0m Return the number of items in a container.\n",
       "\u001b[1;31mType:\u001b[0m      builtin_function_or_method\n"
      ]
     },
     "metadata": {},
     "output_type": "display_data"
    }
   ],
   "source": [
    "len??\n",
    "\n",
    "# Signature: len(obj, /)\n",
    "# Docstring: Return the number of items in a container.\n",
    "# Type:      builtin_function_or_method"
   ]
  },
  {
   "cell_type": "markdown",
   "id": "charitable-pocket",
   "metadata": {},
   "source": [
    "have the same output because they were compiled in a programming language other than Python."
   ]
  },
  {
   "cell_type": "markdown",
   "id": "refined-hypothesis",
   "metadata": {},
   "source": [
    "## Working with mathematical formulas\n",
    "\n",
    "The ease of implementing mathematical formulas that work on arrays is one of the things that make NumPy so widely used in the scientific Python community.\n",
    "\n",
    "For example, this is the mean square error formula (a central formula used in supervised machine learning models that deal with regression):"
   ]
  },
  {
   "cell_type": "markdown",
   "id": "abandoned-destiny",
   "metadata": {},
   "source": [
    "![MSE formula](_images/np_MSE_formula.png)"
   ]
  },
  {
   "cell_type": "markdown",
   "id": "greatest-advisory",
   "metadata": {},
   "source": [
    "Implementing this formula is simple and straightforward in NumPy:"
   ]
  },
  {
   "cell_type": "markdown",
   "id": "subtle-container",
   "metadata": {},
   "source": [
    "![MSE implementation](_images/np_MSE_implementation.png)"
   ]
  },
  {
   "cell_type": "markdown",
   "id": "fantastic-sydney",
   "metadata": {},
   "source": [
    "What makes this work so well is that `predictions` and `labels` can contain one or a thousand values. They only need to be the same size.\n",
    "\n",
    "You can visualize it this way:"
   ]
  },
  {
   "cell_type": "markdown",
   "id": "wooden-haiti",
   "metadata": {},
   "source": [
    "![MSE visualization 1](_images/np_mse_viz1.png)"
   ]
  },
  {
   "cell_type": "markdown",
   "id": "bright-monthly",
   "metadata": {},
   "source": [
    "In this example, both the predictions and labels vectors contain three values, meaning `n` has a value of three. After we carry out subtractions the values in the vector are squared. Then NumPy sums the values, and your result is the error value for that prediction and a score for the quality of the model."
   ]
  },
  {
   "cell_type": "markdown",
   "id": "recent-species",
   "metadata": {},
   "source": [
    "![MSE visualization 2](_images/np_mse_viz2.png)\n",
    "![MSE explanation 2](_images/np_MSE_explanation2.png)"
   ]
  },
  {
   "cell_type": "markdown",
   "id": "compatible-anchor",
   "metadata": {},
   "source": [
    "## How to save and load NumPy objects\n",
    "\n",
    "This section covers `np.save`, `np.savez`, `np.savetxt`, `np.load`, `np.loadtxt`\n",
    "\n",
    "You will, at some point, want to save your arrays to disk and load them back without having to re-run the code. Fortunately, there are several ways to save and load objects with NumPy. The ndarray objects can be saved to and loaded from the disk files with `loadtxt` and `savetxt` functions that handle normal text files, `load` and `save` functions that handle NumPy binary files with a **`.npy`** file extension, and a `savez` function that handles NumPy files with a **`.npz`** file extension.\n",
    "\n",
    "The **`.npy`** and **`.npz`** files store data, shape, dtype, and other information required to reconstruct the `ndarray` in a way that allows the array to be correctly retrieved, even when the file is on another machine with different architecture.\n",
    "\n",
    "If you want to store a single `ndarray` object, store it as a **`.npy`** file using `np.save`. If you want to store more than one `ndarray` object in a single file, save it as a **`.npz`** file using `np.savez`. You can also save several arrays into a single file in compressed npz format with `savez_compressed`.\n",
    "\n",
    "It’s easy to save and load and array with `np.save()`. Just make sure to specify the array you want to save and a file name. For example, if you create this array:"
   ]
  },
  {
   "cell_type": "code",
   "execution_count": 166,
   "id": "civic-slope",
   "metadata": {},
   "outputs": [
    {
     "data": {
      "text/plain": [
       "array([1, 2, 3, 4, 5, 6])"
      ]
     },
     "execution_count": 166,
     "metadata": {},
     "output_type": "execute_result"
    }
   ],
   "source": [
    "a = np.array([1, 2, 3, 4, 5, 6])\n",
    "a"
   ]
  },
  {
   "cell_type": "markdown",
   "id": "expressed-concept",
   "metadata": {},
   "source": [
    "You can save it as `filename.npy` with:"
   ]
  },
  {
   "cell_type": "code",
   "execution_count": 167,
   "id": "sweet-antibody",
   "metadata": {},
   "outputs": [],
   "source": [
    "np.save('_savers/filename', a)"
   ]
  },
  {
   "cell_type": "markdown",
   "id": "inappropriate-mainland",
   "metadata": {},
   "source": [
    "You can use `np.load()` to reconstruct your array."
   ]
  },
  {
   "cell_type": "code",
   "execution_count": 168,
   "id": "polyphonic-thesis",
   "metadata": {},
   "outputs": [],
   "source": [
    "b = np.load('_savers/filename.npy')"
   ]
  },
  {
   "cell_type": "markdown",
   "id": "collaborative-education",
   "metadata": {},
   "source": [
    "If you want to check your array, you can run:"
   ]
  },
  {
   "cell_type": "code",
   "execution_count": 169,
   "id": "alike-tender",
   "metadata": {},
   "outputs": [
    {
     "name": "stdout",
     "output_type": "stream",
     "text": [
      "[1 2 3 4 5 6]\n"
     ]
    }
   ],
   "source": [
    "print(b)\n",
    "# [1 2 3 4 5 6]"
   ]
  },
  {
   "cell_type": "markdown",
   "id": "forbidden-tiffany",
   "metadata": {},
   "source": [
    "You can save a NumPy array as a plain text file like a **`.csv`** or **`.txt`** file with `np.savetxt`.\n",
    "\n",
    "For example, if you create this array:"
   ]
  },
  {
   "cell_type": "code",
   "execution_count": 170,
   "id": "alpine-veteran",
   "metadata": {},
   "outputs": [
    {
     "data": {
      "text/plain": [
       "array([1, 2, 3, 4, 5, 6, 7, 8])"
      ]
     },
     "execution_count": 170,
     "metadata": {},
     "output_type": "execute_result"
    }
   ],
   "source": [
    "csv_arr = np.array([1, 2, 3, 4, 5, 6, 7, 8])\n",
    "csv_arr"
   ]
  },
  {
   "cell_type": "markdown",
   "id": "consistent-scout",
   "metadata": {},
   "source": [
    "You can easily save it as a **`.csv`** file with the name `new_file.csv` like this:"
   ]
  },
  {
   "cell_type": "code",
   "execution_count": 171,
   "id": "suitable-gibson",
   "metadata": {},
   "outputs": [],
   "source": [
    "np.savetxt('_savers/new_file.csv', csv_arr)"
   ]
  },
  {
   "cell_type": "markdown",
   "id": "classified-circumstances",
   "metadata": {},
   "source": [
    "You can quickly and easily load your saved text file using `loadtxt()`:"
   ]
  },
  {
   "cell_type": "code",
   "execution_count": 172,
   "id": "naked-demand",
   "metadata": {},
   "outputs": [
    {
     "data": {
      "text/plain": [
       "array([1., 2., 3., 4., 5., 6., 7., 8.])"
      ]
     },
     "execution_count": 172,
     "metadata": {},
     "output_type": "execute_result"
    }
   ],
   "source": [
    "np.loadtxt('_savers/new_file.csv')\n",
    "# array([1., 2., 3., 4., 5., 6., 7., 8.])"
   ]
  },
  {
   "cell_type": "markdown",
   "id": "collect-bolivia",
   "metadata": {},
   "source": [
    "The `savetxt()` and `loadtxt()` functions accept additional optional parameters such as header, footer, and delimiter. While text files can be easier for sharing, **`.npy`** and **`.npz`** files are smaller and faster to read. If you need more sophisticated handling of your text file (for example, if you need to work with lines that contain missing values), you will want to use the `genfromtxt` function: \n",
    "https://numpy.org/doc/stable/reference/generated/numpy.genfromtxt.html#numpy.genfromtxt\n",
    "\n",
    "With `savetxt`, you can specify headers, footers, comments, and more.\n",
    "\n",
    "Learn more about input and output routines here:  \n",
    "https://numpy.org/doc/stable/reference/routines.io.html#routines-io"
   ]
  },
  {
   "cell_type": "markdown",
   "id": "selected-timing",
   "metadata": {},
   "source": [
    "## Importing and exporting a CSV\n",
    "\n",
    "It’s simple to read in a CSV that contains existing information. The best and easiest way to do this is to use Pandas."
   ]
  },
  {
   "cell_type": "code",
   "execution_count": 173,
   "id": "fatty-establishment",
   "metadata": {},
   "outputs": [],
   "source": [
    "import pandas as pd"
   ]
  },
  {
   "cell_type": "code",
   "execution_count": 174,
   "id": "corrected-working",
   "metadata": {},
   "outputs": [
    {
     "name": "stdout",
     "output_type": "stream",
     "text": [
      "[['Billie Holliday' 'Jazz' '1,300,000' '27,000,000']\n",
      " ['Jimi Hendrix' 'Rock' '2,700,000' '70,000,000']\n",
      " ['Miles Davis' 'Jazz' '1,500,000' '48,000,000']\n",
      " ['SIA' 'Pop' '2,000,000' '74,000,000']]\n"
     ]
    }
   ],
   "source": [
    "# If all of your columns are the same type:\n",
    "x = pd.read_csv('_savers/music.csv', header=0).values\n",
    "print(x)\n",
    "# [['Billie Holiday' 'Jazz' 1300000 27000000]\n",
    "#  ['Jimmie Hendrix' 'Rock' 2700000 70000000]\n",
    "#  ['Miles Davis' 'Jazz' 1500000 48000000]\n",
    "#  ['SIA' 'Pop' 2000000 74000000]]"
   ]
  },
  {
   "cell_type": "code",
   "execution_count": 175,
   "id": "known-celebration",
   "metadata": {},
   "outputs": [
    {
     "name": "stdout",
     "output_type": "stream",
     "text": [
      "[['Billie Holliday' '27,000,000']\n",
      " ['Jimi Hendrix' '70,000,000']\n",
      " ['Miles Davis' '48,000,000']\n",
      " ['SIA' '74,000,000']]\n"
     ]
    }
   ],
   "source": [
    "# You can also simply select the columns you need:\n",
    "x = pd.read_csv('_savers/music.csv', usecols=['Artist', 'Plays']).values\n",
    "print(x)\n",
    "# [['Billie Holiday' 27000000]\n",
    "#  ['Jimmie Hendrix' 70000000]\n",
    "#  ['Miles Davis' 48000000]\n",
    "#  ['SIA' 74000000]]"
   ]
  },
  {
   "cell_type": "markdown",
   "id": "established-carpet",
   "metadata": {},
   "source": [
    "![NP Pandas](_images/np_pandas.png)"
   ]
  },
  {
   "cell_type": "markdown",
   "id": "computational-perfume",
   "metadata": {},
   "source": [
    "It’s simple to use Pandas in order to export your array as well. If you are new to NumPy, you may want to create a Pandas dataframe from the values in your array and then write the data frame to a CSV file with Pandas.\n",
    "\n",
    "If you created this array `a`:"
   ]
  },
  {
   "cell_type": "code",
   "execution_count": 176,
   "id": "comic-vehicle",
   "metadata": {},
   "outputs": [
    {
     "data": {
      "text/plain": [
       "array([[-2.58289208,  0.43014843, -1.24082018,  1.59572603],\n",
       "       [ 0.99027828,  1.17150989,  0.94125714, -0.14692469],\n",
       "       [ 0.76989341,  0.81299683, -0.95068423,  0.11769564],\n",
       "       [ 0.20484034,  0.34784527,  1.96979195,  0.51992837]])"
      ]
     },
     "execution_count": 176,
     "metadata": {},
     "output_type": "execute_result"
    }
   ],
   "source": [
    "a = np.array([[-2.58289208,  0.43014843, -1.24082018, 1.59572603],\n",
    "                  [ 0.99027828, 1.17150989,  0.94125714, -0.14692469],\n",
    "                  [ 0.76989341,  0.81299683, -0.95068423, 0.11769564],\n",
    "                  [ 0.20484034,  0.34784527,  1.96979195, 0.51992837]])\n",
    "a"
   ]
  },
  {
   "cell_type": "markdown",
   "id": "small-extra",
   "metadata": {},
   "source": [
    "You could create a Pandas dataframe:"
   ]
  },
  {
   "cell_type": "code",
   "execution_count": 177,
   "id": "controlled-uzbekistan",
   "metadata": {},
   "outputs": [
    {
     "name": "stdout",
     "output_type": "stream",
     "text": [
      "          0         1         2         3\n",
      "0 -2.582892  0.430148 -1.240820  1.595726\n",
      "1  0.990278  1.171510  0.941257 -0.146925\n",
      "2  0.769893  0.812997 -0.950684  0.117696\n",
      "3  0.204840  0.347845  1.969792  0.519928\n"
     ]
    }
   ],
   "source": [
    "df = pd.DataFrame(a)\n",
    "print(df)\n",
    "#           0         1         2         3\n",
    "# 0 -2.582892  0.430148 -1.240820  1.595726\n",
    "# 1  0.990278  1.171510  0.941257 -0.146925\n",
    "# 2  0.769893  0.812997 -0.950684  0.117696\n",
    "# 3  0.204840  0.347845  1.969792  0.519928"
   ]
  },
  {
   "cell_type": "markdown",
   "id": "healthy-dimension",
   "metadata": {},
   "source": [
    "You can easily save your dataframe with:"
   ]
  },
  {
   "cell_type": "code",
   "execution_count": 178,
   "id": "gothic-reducing",
   "metadata": {},
   "outputs": [],
   "source": [
    "df.to_csv('_savers/pd.csv')"
   ]
  },
  {
   "cell_type": "markdown",
   "id": "simplified-academy",
   "metadata": {},
   "source": [
    "And read your CSV with:"
   ]
  },
  {
   "cell_type": "code",
   "execution_count": 180,
   "id": "continuous-duplicate",
   "metadata": {},
   "outputs": [],
   "source": [
    "data = pd.read_csv('_savers/pd.csv')"
   ]
  },
  {
   "cell_type": "markdown",
   "id": "accurate-exclusion",
   "metadata": {},
   "source": [
    "![Read CSV](_images/np_readcsv.png)"
   ]
  },
  {
   "cell_type": "markdown",
   "id": "otherwise-laptop",
   "metadata": {},
   "source": [
    "You can also save your array with the NumPy `savetxt` method."
   ]
  },
  {
   "cell_type": "code",
   "execution_count": 181,
   "id": "fifth-bosnia",
   "metadata": {},
   "outputs": [],
   "source": [
    "np.savetxt('_savers/np.csv', a, fmt='%.2f', delimiter=',', header='1,  2,  3,  4')"
   ]
  },
  {
   "cell_type": "markdown",
   "id": "random-model",
   "metadata": {},
   "source": [
    "If you’re using the command line, you can read your saved CSV any time with a command such as:"
   ]
  },
  {
   "cell_type": "code",
   "execution_count": 183,
   "id": "correct-killing",
   "metadata": {},
   "outputs": [
    {
     "name": "stderr",
     "output_type": "stream",
     "text": [
      "'cat' is not recognized as an internal or external command,\n",
      "operable program or batch file.\n"
     ]
    }
   ],
   "source": [
    "!cat '_savers/np.csv' # on Mac\n",
    "#!type _savers/np.csv\n",
    "\n",
    "#  1,  2,  3,  4\n",
    "# -2.58,0.43,-1.24,1.60\n",
    "# 0.99,1.17,0.94,-0.15\n",
    "# 0.77,0.81,-0.95,0.12\n",
    "# 0.20,0.35,1.97,0.52"
   ]
  },
  {
   "cell_type": "markdown",
   "id": "coral-montana",
   "metadata": {},
   "source": [
    "Or you can open the file any time with a text editor!\n",
    "\n",
    "If you’re interested in learning more about Pandas, take a look at the official Pandas documentation:\n",
    "https://pandas.pydata.org/index.html\n",
    "\n",
    "Learn how to install Pandas with the official Pandas installation information:  \n",
    "https://pandas.pydata.org/pandas-docs/stable/install.html"
   ]
  },
  {
   "cell_type": "markdown",
   "id": "capable-change",
   "metadata": {},
   "source": [
    "## Plotting arrays with Matplotlib\n",
    "\n",
    "If you need to generate a plot for your values, it’s very simple with Matplotlib.\n",
    "\n",
    "For example, you may have an array like this one:"
   ]
  },
  {
   "cell_type": "code",
   "execution_count": 184,
   "id": "introductory-plain",
   "metadata": {},
   "outputs": [
    {
     "data": {
      "text/plain": [
       "array([ 2,  1,  5,  7,  4,  6,  8, 14, 10,  9, 18, 20, 22])"
      ]
     },
     "execution_count": 184,
     "metadata": {},
     "output_type": "execute_result"
    }
   ],
   "source": [
    "a = np.array([2, 1, 5, 7, 4, 6, 8, 14, 10, 9, 18, 20, 22])\n",
    "a"
   ]
  },
  {
   "cell_type": "markdown",
   "id": "cubic-export",
   "metadata": {},
   "source": [
    "If you already have Matplotlib installed, you can import it with:"
   ]
  },
  {
   "cell_type": "code",
   "execution_count": 185,
   "id": "searching-cedar",
   "metadata": {},
   "outputs": [],
   "source": [
    "import matplotlib.pyplot as plt\n",
    "\n",
    "# If you're using Jupyter Notebook, you may also want to run the following\n",
    "# line of code to display your code in the notebook:\n",
    "\n",
    "%matplotlib inline"
   ]
  },
  {
   "cell_type": "markdown",
   "id": "enhanced-emperor",
   "metadata": {},
   "source": [
    "All you need to do to plot your values is run:"
   ]
  },
  {
   "cell_type": "code",
   "execution_count": 186,
   "id": "ongoing-monitoring",
   "metadata": {
    "scrolled": true
   },
   "outputs": [
    {
     "data": {
      "text/plain": [
       "[<matplotlib.lines.Line2D at 0x12a78e7ba90>]"
      ]
     },
     "execution_count": 186,
     "metadata": {},
     "output_type": "execute_result"
    },
    {
     "data": {
      "image/png": "[encoded data removed]",
      "text/plain": [
       "<Figure size 432x288 with 1 Axes>"
      ]
     },
     "metadata": {
      "needs_background": "light"
     },
     "output_type": "display_data"
    }
   ],
   "source": [
    "plt.plot(a)\n",
    "\n",
    "# If you are running from a command line, you may need to also do this:\n",
    "# >>> plt.show()"
   ]
  },
  {
   "cell_type": "markdown",
   "id": "environmental-number",
   "metadata": {},
   "source": [
    "![Matplotlib 1](_images/matplotlib1.png)"
   ]
  },
  {
   "cell_type": "markdown",
   "id": "inclusive-replication",
   "metadata": {},
   "source": [
    "For example, you can plot a 1D array like this:"
   ]
  },
  {
   "cell_type": "code",
   "execution_count": 187,
   "id": "australian-future",
   "metadata": {},
   "outputs": [
    {
     "data": {
      "text/plain": [
       "[<matplotlib.lines.Line2D at 0x12a795ecb50>]"
      ]
     },
     "execution_count": 187,
     "metadata": {},
     "output_type": "execute_result"
    },
    {
     "data": {
      "image/png": "[encoded data removed]",
      "text/plain": [
       "<Figure size 432x288 with 1 Axes>"
      ]
     },
     "metadata": {
      "needs_background": "light"
     },
     "output_type": "display_data"
    }
   ],
   "source": [
    "x = np.linspace(0, 5, 20)\n",
    "y = np.linspace(0, 10, 20)\n",
    "plt.plot(x, y, 'purple') # line\n",
    "plt.plot(x, y, 'o')      # dots"
   ]
  },
  {
   "cell_type": "markdown",
   "id": "certain-toner",
   "metadata": {},
   "source": [
    "![Matplotlib 2](_images/matplotlib2.png)"
   ]
  },
  {
   "cell_type": "markdown",
   "id": "adapted-curtis",
   "metadata": {},
   "source": [
    "With Matplotlib, you have access to an enormous number of visualization options."
   ]
  },
  {
   "cell_type": "code",
   "execution_count": 188,
   "id": "treated-marketing",
   "metadata": {},
   "outputs": [
    {
     "data": {
      "text/plain": [
       "<mpl_toolkits.mplot3d.art3d.Poly3DCollection at 0x12a79659d30>"
      ]
     },
     "execution_count": 188,
     "metadata": {},
     "output_type": "execute_result"
    },
    {
     "data": {
      "image/png": "[encoded data removed]",
      "text/plain": [
       "<Figure size 432x288 with 1 Axes>"
      ]
     },
     "metadata": {
      "needs_background": "light"
     },
     "output_type": "display_data"
    }
   ],
   "source": [
    "from mpl_toolkits.mplot3d import Axes3D\n",
    "fig = plt.figure()\n",
    "ax = Axes3D(fig)\n",
    "X = np.arange(-5, 5, 0.15)\n",
    "Y = np.arange(-5, 5, 0.15)\n",
    "X, Y = np.meshgrid(X, Y)\n",
    "R = np.sqrt(X**2 + Y**2)\n",
    "Z = np.sin(R)\n",
    "\n",
    "ax.plot_surface(X, Y, Z, rstride=1, cstride=1, cmap='viridis')"
   ]
  },
  {
   "cell_type": "markdown",
   "id": "adaptive-mapping",
   "metadata": {},
   "source": [
    "![Matplotlib 3](_images/matplotlib3.png)"
   ]
  },
  {
   "cell_type": "markdown",
   "id": "moral-assembly",
   "metadata": {},
   "source": [
    "To read more about Matplotlib and what it can do, take a look at the official documentation:\n",
    "https://matplotlib.org/\n",
    "\n",
    "For directions regarding installing Matplotlib, see the official installation section:\n",
    "https://matplotlib.org/users/installing.html"
   ]
  },
  {
   "cell_type": "markdown",
   "id": "specific-industry",
   "metadata": {},
   "source": [
    "Image credits: Jay Alammar http://jalammar.github.io/"
   ]
  },
  {
   "cell_type": "markdown",
   "id": "accurate-indianapolis",
   "metadata": {},
   "source": [
    "# Whew!!!"
   ]
  },
  {
   "cell_type": "code",
   "execution_count": null,
   "id": "worth-island",
   "metadata": {},
   "outputs": [],
   "source": []
  },
  {
   "cell_type": "code",
   "execution_count": null,
   "id": "positive-thumbnail",
   "metadata": {},
   "outputs": [],
   "source": []
  }
 ],
 "metadata": {
  "kernelspec": {
   "display_name": "Python 3",
   "language": "python",
   "name": "python3"
  },
  "language_info": {
   "codemirror_mode": {
    "name": "ipython",
    "version": 3
   },
   "file_extension": ".py",
   "mimetype": "text/x-python",
   "name": "python",
   "nbconvert_exporter": "python",
   "pygments_lexer": "ipython3",
   "version": "3.8.5"
  }
 },
 "nbformat": 4,
 "nbformat_minor": 5
}
