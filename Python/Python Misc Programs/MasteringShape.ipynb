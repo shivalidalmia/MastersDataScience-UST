{
 "cells": [
  {
   "cell_type": "code",
   "execution_count": null,
   "id": "de961de0",
   "metadata": {},
   "outputs": [],
   "source": [
    "import numpy as np"
   ]
  },
  {
   "cell_type": "code",
   "execution_count": null,
   "id": "92dfbd84",
   "metadata": {},
   "outputs": [],
   "source": [
    "temperatures = np.array([\n",
    "29.3, 42.1, 18.8, 16.1, 38.0, 12.5,\n",
    "12.6, 49.9, 38.6, 31.3, 9.2, 22.2\n",
    "])"
   ]
  },
  {
   "cell_type": "code",
   "execution_count": null,
   "id": "faee418e",
   "metadata": {},
   "outputs": [],
   "source": [
    "temperatures=temperatures.reshape(2, 2, 3)\n",
    "temperatures"
   ]
  },
  {
   "cell_type": "code",
   "execution_count": null,
   "id": "fe2846ad",
   "metadata": {},
   "outputs": [],
   "source": [
    "temperatures.shape\n",
    "# (2, 2, 3)"
   ]
  },
  {
   "cell_type": "code",
   "execution_count": null,
   "id": "5c0d6d51",
   "metadata": {},
   "outputs": [],
   "source": [
    "np.swapaxes(temperatures, 0, 2)\n",
    "# array([[[29.3, 16.1],\n",
    "#         [42.1, 38. ],\n",
    "#         [18.8, 12.5]],\n",
    "\n",
    "#        [[12.6, 31.3],\n",
    "#         [49.9,  9.2],\n",
    "#         [38.6, 22.2]]])"
   ]
  },
  {
   "cell_type": "code",
   "execution_count": null,
   "id": "3f6d050e",
   "metadata": {},
   "outputs": [],
   "source": []
  }
 ],
 "metadata": {
  "kernelspec": {
   "display_name": "Python 3",
   "language": "python",
   "name": "python3"
  },
  "language_info": {
   "codemirror_mode": {
    "name": "ipython",
    "version": 3
   },
   "file_extension": ".py",
   "mimetype": "text/x-python",
   "name": "python",
   "nbconvert_exporter": "python",
   "pygments_lexer": "ipython3",
   "version": "3.6.7"
  }
 },
 "nbformat": 4,
 "nbformat_minor": 5
}
