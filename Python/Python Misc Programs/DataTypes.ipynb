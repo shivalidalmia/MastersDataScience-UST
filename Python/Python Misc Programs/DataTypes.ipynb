{
 "cells": [
  {
   "cell_type": "markdown",
   "id": "32dc4e86",
   "metadata": {},
   "source": [
    "### DTypes:"
   ]
  },
  {
   "cell_type": "code",
   "execution_count": null,
   "id": "cf457600",
   "metadata": {},
   "outputs": [],
   "source": [
    "import numpy as np"
   ]
  },
  {
   "cell_type": "code",
   "execution_count": null,
   "id": "17f3d33d",
   "metadata": {},
   "outputs": [],
   "source": [
    "a = np.array([1, 3, 5.5, 7.7, 9.2], dtype=np.single)\n",
    "a\n",
    "# array([1. , 3. , 5.5, 7.7, 9.2], dtype=float32)"
   ]
  },
  {
   "cell_type": "code",
   "execution_count": null,
   "id": "7628e6d0",
   "metadata": {},
   "outputs": [],
   "source": [
    "b = np.array([1, 3, 5.5, 7.7, 9.2], dtype=np.uint8)\n",
    "b\n",
    "# array([1, 3, 5, 7, 9], dtype=uint8)"
   ]
  },
  {
   "cell_type": "markdown",
   "id": "62fd2932",
   "metadata": {},
   "source": [
    "### Sized Unicode:"
   ]
  },
  {
   "cell_type": "code",
   "execution_count": null,
   "id": "2cff2749",
   "metadata": {},
   "outputs": [],
   "source": [
    "names = np.array([\"bob\", \"amy\", \"han\"], dtype=str)\n",
    "names\n",
    "# array(['bob', 'amy', 'han'], dtype='<U3')"
   ]
  },
  {
   "cell_type": "code",
   "execution_count": null,
   "id": "ed86b546",
   "metadata": {},
   "outputs": [],
   "source": [
    "names.itemsize\n",
    "# 12"
   ]
  },
  {
   "cell_type": "code",
   "execution_count": null,
   "id": "f324e921",
   "metadata": {},
   "outputs": [],
   "source": [
    "names = np.array([\"bob\", \"amy\", \"han\"])\n",
    "names\n",
    "# array(['bob', 'amy', 'han'], dtype='<U3')"
   ]
  },
  {
   "cell_type": "code",
   "execution_count": null,
   "id": "2f048bc8",
   "metadata": {},
   "outputs": [],
   "source": [
    "more_names = np.array([\"bobo\", \"jehosephat\"])\n",
    "more_names"
   ]
  },
  {
   "cell_type": "code",
   "execution_count": null,
   "id": "2683e4cc",
   "metadata": {},
   "outputs": [],
   "source": [
    "np.concatenate((names, more_names))\n",
    "# array(['bob', 'amy', 'han', 'bobo', 'jehosephat'], dtype='<U10')"
   ]
  },
  {
   "cell_type": "code",
   "execution_count": null,
   "id": "9712f787",
   "metadata": {},
   "outputs": [],
   "source": [
    "names[2] = \"jamima\"\n",
    "names\n",
    "# array(['bob', 'amy', 'jam'], dtype='<U3')"
   ]
  },
  {
   "cell_type": "markdown",
   "id": "aca05b8a",
   "metadata": {},
   "source": [
    "### Structured Arrays:"
   ]
  },
  {
   "cell_type": "code",
   "execution_count": null,
   "id": "0b7d7c04",
   "metadata": {},
   "outputs": [],
   "source": [
    "data = np.array([\n",
    "(\"joe\", 32, 6),\n",
    "(\"mary\", 15, 20),\n",
    "(\"felipe\", 80, 100),\n",
    "(\"beyonce\", 38, 9001),\n",
    "], dtype=[(\"name\", str, 10), (\"age\", int), (\"power\", int)])\n",
    "\n",
    "data[0]\n",
    "# ('joe', 32, 6)"
   ]
  },
  {
   "cell_type": "code",
   "execution_count": null,
   "id": "7886f31f",
   "metadata": {},
   "outputs": [],
   "source": [
    "data[\"name\"]\n",
    "# array(['joe', 'mary', 'felipe', 'beyonce'], dtype='<U10')"
   ]
  },
  {
   "cell_type": "code",
   "execution_count": null,
   "id": "e4b210a6",
   "metadata": {},
   "outputs": [],
   "source": [
    "data[data[\"power\"] > 9000][\"name\"]\n",
    "# array(['beyonce'], dtype='<U10')"
   ]
  },
  {
   "cell_type": "code",
   "execution_count": null,
   "id": "c11aec20",
   "metadata": {},
   "outputs": [],
   "source": [
    "np.sort(data[data[\"age\"] > 20], order=\"power\")[\"name\"]\n",
    "# array(['joe', 'felipe', 'beyonce'], dtype='<U10')"
   ]
  },
  {
   "cell_type": "code",
   "execution_count": null,
   "id": "2c1b4b15",
   "metadata": {},
   "outputs": [],
   "source": [
    "np.sort(data[data[\"age\"] > 20], order=\"power\")[\"name\"]\n",
    "# array(['joe', 'felipe', 'beyonce'], dtype='<U10')"
   ]
  },
  {
   "cell_type": "code",
   "execution_count": null,
   "id": "8820091c",
   "metadata": {},
   "outputs": [],
   "source": []
  }
 ],
 "metadata": {
  "kernelspec": {
   "display_name": "Python 3",
   "language": "python",
   "name": "python3"
  },
  "language_info": {
   "codemirror_mode": {
    "name": "ipython",
    "version": 3
   },
   "file_extension": ".py",
   "mimetype": "text/x-python",
   "name": "python",
   "nbconvert_exporter": "python",
   "pygments_lexer": "ipython3",
   "version": "3.6.7"
  }
 },
 "nbformat": 4,
 "nbformat_minor": 5
}
