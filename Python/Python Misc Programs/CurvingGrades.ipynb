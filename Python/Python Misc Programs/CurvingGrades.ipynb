{
 "cells": [
  {
   "cell_type": "markdown",
   "metadata": {},
   "source": [
    "# Curving Grades\n",
    "\n",
    "You'll be playing the part of a teacher, curving test grades to account for an unfortunately difficult test.  The curving should improve the student's grade relative to where they ended up with respect to the group's average.  It should also *not* hurt the student by reducing their grade, and it shouldn't give anyone anything over 100%."
   ]
  },
  {
   "cell_type": "code",
   "execution_count": null,
   "metadata": {},
   "outputs": [],
   "source": [
    "import numpy as np"
   ]
  },
  {
   "cell_type": "code",
   "execution_count": null,
   "metadata": {},
   "outputs": [],
   "source": [
    "CURVE_CENTER = 80"
   ]
  },
  {
   "cell_type": "code",
   "execution_count": null,
   "metadata": {},
   "outputs": [],
   "source": [
    "def curve(grades):\n",
    "    \"\"\"Adjusts an array of grades so that the average is roughly shifted\n",
    "    to the specified curve center.\n",
    "\n",
    "    This will never cause a student's grade to decrease, and it will\n",
    "    never cause the final grade to go over 100%.\n",
    "\n",
    "    Parameters:\n",
    "        grades (np.ndarray): The individual student grades, between 0\n",
    "                             and 100.\n",
    "\n",
    "    Returns:\n",
    "        (np.ndarray): A new array of grades, adjusted upwards, but in\n",
    "                      the same order.\n",
    "    \"\"\"\n",
    "    grades = np.array([[72, 35, 64, 88, 51, 90, 74, 12]]) ## 1,8 array tho tutorial is 8,\n",
    "    average = grades.mean()\n",
    "    change = CURVE_CENTER - average\n",
    "    new_grades = grades + change\n",
    "    return np.clip(new_grades, grades, 100)\n",
    "curve(grades)"
   ]
  },
  {
   "cell_type": "markdown",
   "metadata": {},
   "source": [
    "### Now execute a cell at a time..."
   ]
  },
  {
   "cell_type": "code",
   "execution_count": null,
   "metadata": {},
   "outputs": [],
   "source": [
    "grades = np.array([[72, 35, 64, 88, 51, 90, 74, 12]]) ## 1,8 array tho tutorial is 8,\n",
    "grades"
   ]
  },
  {
   "cell_type": "code",
   "execution_count": null,
   "metadata": {},
   "outputs": [],
   "source": [
    "average = grades.mean()\n",
    "average"
   ]
  },
  {
   "cell_type": "code",
   "execution_count": null,
   "metadata": {},
   "outputs": [],
   "source": [
    "change = CURVE_CENTER - average\n",
    "change"
   ]
  },
  {
   "cell_type": "code",
   "execution_count": null,
   "metadata": {},
   "outputs": [],
   "source": [
    "new_grades = grades + change\n",
    "new_grades"
   ]
  },
  {
   "cell_type": "code",
   "execution_count": null,
   "metadata": {},
   "outputs": [],
   "source": [
    "np.clip(new_grades, grades, 100)"
   ]
  },
  {
   "cell_type": "code",
   "execution_count": null,
   "metadata": {},
   "outputs": [],
   "source": [
    "grades.shape"
   ]
  },
  {
   "cell_type": "markdown",
   "metadata": {},
   "source": [
    "Note how none of the grades are decreased or greater than 100%!"
   ]
  },
  {
   "cell_type": "code",
   "execution_count": null,
   "metadata": {},
   "outputs": [],
   "source": []
  }
 ],
 "metadata": {
  "kernelspec": {
   "display_name": "Python 3",
   "language": "python",
   "name": "python3"
  },
  "language_info": {
   "codemirror_mode": {
    "name": "ipython",
    "version": 3
   },
   "file_extension": ".py",
   "mimetype": "text/x-python",
   "name": "python",
   "nbconvert_exporter": "python",
   "pygments_lexer": "ipython3",
   "version": "3.6.7"
  }
 },
 "nbformat": 4,
 "nbformat_minor": 4
}
