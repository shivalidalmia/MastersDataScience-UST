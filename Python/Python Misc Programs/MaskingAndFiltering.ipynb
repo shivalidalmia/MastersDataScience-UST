{
 "cells": [
  {
   "cell_type": "code",
   "execution_count": null,
   "id": "43979e5a",
   "metadata": {},
   "outputs": [],
   "source": [
    "import numpy as np"
   ]
  },
  {
   "cell_type": "code",
   "execution_count": null,
   "id": "e4e7bb33",
   "metadata": {},
   "outputs": [],
   "source": [
    "numbers = np.linspace(5, 50, 24, dtype=int).reshape(4, -1)\n",
    "numbers\n",
    "# array([[ 5, 6,  8, 10, 12, 14],\n",
    "#        [16, 18, 20, 22, 24, 26],\n",
    "#        [28, 30, 32, 34, 36, 38],\n",
    "#        [40, 42, 44, 46, 48, 50]])\n",
    "\n"
   ]
  },
  {
   "cell_type": "code",
   "execution_count": null,
   "id": "0ec9b548",
   "metadata": {},
   "outputs": [],
   "source": [
    "mask = numbers % 4 == 0\n",
    "mask\n",
    "# array([[False, False,  True, False,  True, False],\n",
    "#        [ True, False,  True, False,  True, False],\n",
    "#        [ True, False,  True, False,  True, False],\n",
    "#        [ True, False,  True, False,  True, False]])"
   ]
  },
  {
   "cell_type": "code",
   "execution_count": null,
   "id": "422ec9b0",
   "metadata": {},
   "outputs": [],
   "source": [
    "numbers[mask]\n",
    "# array([ 8, 12, 16, 20, 24, 28, 32, 36, 40, 44, 48])"
   ]
  },
  {
   "cell_type": "code",
   "execution_count": null,
   "id": "06fe28be",
   "metadata": {},
   "outputs": [],
   "source": [
    "by_four = numbers[numbers % 4 == 0]\n",
    "by_four\n",
    "# array([ 8, 12, 16, 20, 24, 28, 32, 36, 40, 44, 48])"
   ]
  },
  {
   "cell_type": "code",
   "execution_count": null,
   "id": "6c549a81",
   "metadata": {},
   "outputs": [],
   "source": []
  }
 ],
 "metadata": {
  "kernelspec": {
   "display_name": "Python 3",
   "language": "python",
   "name": "python3"
  },
  "language_info": {
   "codemirror_mode": {
    "name": "ipython",
    "version": 3
   },
   "file_extension": ".py",
   "mimetype": "text/x-python",
   "name": "python",
   "nbconvert_exporter": "python",
   "pygments_lexer": "ipython3",
   "version": "3.6.7"
  }
 },
 "nbformat": 4,
 "nbformat_minor": 5
}
