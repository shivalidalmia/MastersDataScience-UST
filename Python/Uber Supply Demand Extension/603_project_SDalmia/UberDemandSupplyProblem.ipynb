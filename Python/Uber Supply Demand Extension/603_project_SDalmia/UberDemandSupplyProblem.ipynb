{
 "cells": [
  {
   "cell_type": "markdown",
   "metadata": {},
   "source": [
    "## Uber supply demand gap analysis for India region.\n",
    "\n",
    "Major issues impacting Uber's business are:\n",
    "\n",
    "* Cancellation of rides going towards the airport were higher than regular trips. \n",
    "* Trips to and from an airport resulted in high consumption of fuel and time. Hence, a trip back to the city without a rider is not economically beneficial for the driver. \n",
    "* Due to high variance in flight arrivals (higher during evening, late night hours) the driver idle time is higher in morning. As a result, no cars are available during peak night       hours because working hours ends for majority drivers at night.\n",
    "\n",
    "Exploratory data analysis(EDA) is done on a masked dataset to draw some useful insights from the data using standard python libraries like:\n",
    "\n",
    "* NumPy\n",
    "* Pandas\n",
    "* Matplotlib\n",
    "\n",
    "As part of EDA I have followed below steps:\n",
    "\n",
    "1. Data Extraction: Load the data set and inspect different features.\n",
    "2. Data Cleaning: Correcting datetime formats and filling in missing values.\n",
    "3. Feature Engineering: Determine new features.\n",
    "4. Plotting: Create plots to see correlation between data points and draw important insights out of data."
   ]
  },
  {
   "cell_type": "markdown",
   "metadata": {},
   "source": [
    "### Data Extraction\n",
    "\n",
    "Importing useful libraries."
   ]
  },
  {
   "cell_type": "code",
   "execution_count": 57,
   "metadata": {},
   "outputs": [],
   "source": [
    "import pandas as pd\n",
    "import numpy as np\n",
    "import matplotlib.pyplot as plt\n",
    "import seaborn as sns"
   ]
  },
  {
   "cell_type": "markdown",
   "metadata": {},
   "source": [
    "Loading the dataset from csv to pandas data frame."
   ]
  },
  {
   "cell_type": "code",
   "execution_count": 58,
   "metadata": {},
   "outputs": [],
   "source": [
    "uberdata = pd.read_csv(\"Uber Request Data.csv\")"
   ]
  },
  {
   "cell_type": "markdown",
   "metadata": {},
   "source": [
    "Analyzing different columns in dataset."
   ]
  },
  {
   "cell_type": "code",
   "execution_count": 112,
   "metadata": {},
   "outputs": [
    {
     "data": {
      "text/html": [
       "<div>\n",
       "<style scoped>\n",
       "    .dataframe tbody tr th:only-of-type {\n",
       "        vertical-align: middle;\n",
       "    }\n",
       "\n",
       "    .dataframe tbody tr th {\n",
       "        vertical-align: top;\n",
       "    }\n",
       "\n",
       "    .dataframe thead th {\n",
       "        text-align: right;\n",
       "    }\n",
       "</style>\n",
       "<table border=\"1\" class=\"dataframe\">\n",
       "  <thead>\n",
       "    <tr style=\"text-align: right;\">\n",
       "      <th></th>\n",
       "      <th>Request id</th>\n",
       "      <th>Pickup point</th>\n",
       "      <th>Driver id</th>\n",
       "      <th>Status</th>\n",
       "      <th>Request timestamp</th>\n",
       "      <th>Drop timestamp</th>\n",
       "      <th>Request Hours</th>\n",
       "      <th>Drop Hours</th>\n",
       "      <th>Request Time Slot</th>\n",
       "    </tr>\n",
       "  </thead>\n",
       "  <tbody>\n",
       "    <tr>\n",
       "      <th>0</th>\n",
       "      <td>619</td>\n",
       "      <td>Airport</td>\n",
       "      <td>1.0</td>\n",
       "      <td>Trip Completed</td>\n",
       "      <td>2016-11-07 11:51:00</td>\n",
       "      <td>2016-11-07 13:00:00</td>\n",
       "      <td>11</td>\n",
       "      <td>13.0</td>\n",
       "      <td>Peak morning hours</td>\n",
       "    </tr>\n",
       "    <tr>\n",
       "      <th>1</th>\n",
       "      <td>867</td>\n",
       "      <td>Airport</td>\n",
       "      <td>1.0</td>\n",
       "      <td>Trip Completed</td>\n",
       "      <td>2016-11-07 17:57:00</td>\n",
       "      <td>2016-11-07 18:47:00</td>\n",
       "      <td>17</td>\n",
       "      <td>18.0</td>\n",
       "      <td>Evening hours</td>\n",
       "    </tr>\n",
       "    <tr>\n",
       "      <th>2</th>\n",
       "      <td>1807</td>\n",
       "      <td>City</td>\n",
       "      <td>1.0</td>\n",
       "      <td>Trip Completed</td>\n",
       "      <td>2016-12-07 09:17:00</td>\n",
       "      <td>2016-12-07 09:58:00</td>\n",
       "      <td>9</td>\n",
       "      <td>9.0</td>\n",
       "      <td>Peak morning hours</td>\n",
       "    </tr>\n",
       "    <tr>\n",
       "      <th>3</th>\n",
       "      <td>2532</td>\n",
       "      <td>Airport</td>\n",
       "      <td>1.0</td>\n",
       "      <td>Trip Completed</td>\n",
       "      <td>2016-12-07 21:08:00</td>\n",
       "      <td>2016-12-07 22:03:00</td>\n",
       "      <td>21</td>\n",
       "      <td>22.0</td>\n",
       "      <td>Night hours</td>\n",
       "    </tr>\n",
       "    <tr>\n",
       "      <th>4</th>\n",
       "      <td>3112</td>\n",
       "      <td>City</td>\n",
       "      <td>1.0</td>\n",
       "      <td>Trip Completed</td>\n",
       "      <td>2016-07-13 08:33:16</td>\n",
       "      <td>2016-07-13 09:25:47</td>\n",
       "      <td>8</td>\n",
       "      <td>9.0</td>\n",
       "      <td>Peak morning hours</td>\n",
       "    </tr>\n",
       "  </tbody>\n",
       "</table>\n",
       "</div>"
      ],
      "text/plain": [
       "   Request id Pickup point  Driver id          Status   Request timestamp  \\\n",
       "0         619      Airport        1.0  Trip Completed 2016-11-07 11:51:00   \n",
       "1         867      Airport        1.0  Trip Completed 2016-11-07 17:57:00   \n",
       "2        1807         City        1.0  Trip Completed 2016-12-07 09:17:00   \n",
       "3        2532      Airport        1.0  Trip Completed 2016-12-07 21:08:00   \n",
       "4        3112         City        1.0  Trip Completed 2016-07-13 08:33:16   \n",
       "\n",
       "       Drop timestamp  Request Hours  Drop Hours   Request Time Slot  \n",
       "0 2016-11-07 13:00:00             11        13.0  Peak morning hours  \n",
       "1 2016-11-07 18:47:00             17        18.0       Evening hours  \n",
       "2 2016-12-07 09:58:00              9         9.0  Peak morning hours  \n",
       "3 2016-12-07 22:03:00             21        22.0         Night hours  \n",
       "4 2016-07-13 09:25:47              8         9.0  Peak morning hours  "
      ]
     },
     "execution_count": 112,
     "metadata": {},
     "output_type": "execute_result"
    }
   ],
   "source": [
    "uberdata.head()"
   ]
  },
  {
   "cell_type": "code",
   "execution_count": 60,
   "metadata": {},
   "outputs": [
    {
     "name": "stdout",
     "output_type": "stream",
     "text": [
      "<class 'pandas.core.frame.DataFrame'>\n",
      "RangeIndex: 6745 entries, 0 to 6744\n",
      "Data columns (total 6 columns):\n",
      " #   Column             Non-Null Count  Dtype  \n",
      "---  ------             --------------  -----  \n",
      " 0   Request id         6745 non-null   int64  \n",
      " 1   Pickup point       6745 non-null   object \n",
      " 2   Driver id          4095 non-null   float64\n",
      " 3   Status             6745 non-null   object \n",
      " 4   Request timestamp  6745 non-null   object \n",
      " 5   Drop timestamp     2831 non-null   object \n",
      "dtypes: float64(1), int64(1), object(4)\n",
      "memory usage: 316.3+ KB\n"
     ]
    }
   ],
   "source": [
    "uberdata.info()"
   ]
  },
  {
   "cell_type": "markdown",
   "metadata": {},
   "source": [
    "We can see that `Request timestamp` and `Drop timestamp` are not in consistent datetime format."
   ]
  },
  {
   "cell_type": "markdown",
   "metadata": {},
   "source": [
    "### Data Cleaning"
   ]
  },
  {
   "cell_type": "markdown",
   "metadata": {},
   "source": [
    "Check for duplicate rows."
   ]
  },
  {
   "cell_type": "code",
   "execution_count": 61,
   "metadata": {},
   "outputs": [
    {
     "data": {
      "text/plain": [
       "True"
      ]
     },
     "execution_count": 61,
     "metadata": {},
     "output_type": "execute_result"
    }
   ],
   "source": [
    "sum(uberdata.duplicated(subset = \"Request id\")) == 0"
   ]
  },
  {
   "cell_type": "markdown",
   "metadata": {},
   "source": [
    "Check dimensions of data frame."
   ]
  },
  {
   "cell_type": "code",
   "execution_count": 62,
   "metadata": {},
   "outputs": [
    {
     "data": {
      "text/plain": [
       "(6745, 6)"
      ]
     },
     "execution_count": 62,
     "metadata": {},
     "output_type": "execute_result"
    }
   ],
   "source": [
    "uberdata.shape"
   ]
  },
  {
   "cell_type": "markdown",
   "metadata": {},
   "source": [
    "Checking null values in data frame."
   ]
  },
  {
   "cell_type": "code",
   "execution_count": 63,
   "metadata": {},
   "outputs": [
    {
     "name": "stdout",
     "output_type": "stream",
     "text": [
      "Request id              0\n",
      "Pickup point            0\n",
      "Driver id            2650\n",
      "Status                  0\n",
      "Request timestamp       0\n",
      "Drop timestamp       3914\n",
      "dtype: int64\n",
      "True\n",
      "6564\n"
     ]
    }
   ],
   "source": [
    "print (uberdata.isnull().sum())  \n",
    "print (uberdata.isnull().values.any())\n",
    "print (uberdata.isnull().values.sum())"
   ]
  },
  {
   "cell_type": "markdown",
   "metadata": {},
   "source": [
    "Calculating null percentages column wise."
   ]
  },
  {
   "cell_type": "code",
   "execution_count": 64,
   "metadata": {},
   "outputs": [
    {
     "data": {
      "text/html": [
       "<div>\n",
       "<style scoped>\n",
       "    .dataframe tbody tr th:only-of-type {\n",
       "        vertical-align: middle;\n",
       "    }\n",
       "\n",
       "    .dataframe tbody tr th {\n",
       "        vertical-align: top;\n",
       "    }\n",
       "\n",
       "    .dataframe thead th {\n",
       "        text-align: right;\n",
       "    }\n",
       "</style>\n",
       "<table border=\"1\" class=\"dataframe\">\n",
       "  <thead>\n",
       "    <tr style=\"text-align: right;\">\n",
       "      <th></th>\n",
       "      <th>0</th>\n",
       "    </tr>\n",
       "  </thead>\n",
       "  <tbody>\n",
       "    <tr>\n",
       "      <th>Request id</th>\n",
       "      <td>0.00</td>\n",
       "    </tr>\n",
       "    <tr>\n",
       "      <th>Pickup point</th>\n",
       "      <td>0.00</td>\n",
       "    </tr>\n",
       "    <tr>\n",
       "      <th>Driver id</th>\n",
       "      <td>39.29</td>\n",
       "    </tr>\n",
       "    <tr>\n",
       "      <th>Status</th>\n",
       "      <td>0.00</td>\n",
       "    </tr>\n",
       "    <tr>\n",
       "      <th>Request timestamp</th>\n",
       "      <td>0.00</td>\n",
       "    </tr>\n",
       "    <tr>\n",
       "      <th>Drop timestamp</th>\n",
       "      <td>58.03</td>\n",
       "    </tr>\n",
       "  </tbody>\n",
       "</table>\n",
       "</div>"
      ],
      "text/plain": [
       "                       0\n",
       "Request id          0.00\n",
       "Pickup point        0.00\n",
       "Driver id          39.29\n",
       "Status              0.00\n",
       "Request timestamp   0.00\n",
       "Drop timestamp     58.03"
      ]
     },
     "execution_count": 64,
     "metadata": {},
     "output_type": "execute_result"
    }
   ],
   "source": [
    "pd.DataFrame(round((100*(uberdata.isnull().sum()/len(uberdata.index))),2))"
   ]
  },
  {
   "cell_type": "markdown",
   "metadata": {},
   "source": [
    "We can see that Drop timestamp and Driver ID have considerable null values, these entries are probably the rides where trip was never assigned to a driver and it was not completed (Status - 'No cars available')."
   ]
  },
  {
   "cell_type": "markdown",
   "metadata": {},
   "source": [
    "Calculating count of row wise null values."
   ]
  },
  {
   "cell_type": "code",
   "execution_count": 65,
   "metadata": {},
   "outputs": [
    {
     "data": {
      "text/html": [
       "<div>\n",
       "<style scoped>\n",
       "    .dataframe tbody tr th:only-of-type {\n",
       "        vertical-align: middle;\n",
       "    }\n",
       "\n",
       "    .dataframe tbody tr th {\n",
       "        vertical-align: top;\n",
       "    }\n",
       "\n",
       "    .dataframe thead th {\n",
       "        text-align: right;\n",
       "    }\n",
       "</style>\n",
       "<table border=\"1\" class=\"dataframe\">\n",
       "  <thead>\n",
       "    <tr style=\"text-align: right;\">\n",
       "      <th></th>\n",
       "      <th>0</th>\n",
       "    </tr>\n",
       "  </thead>\n",
       "  <tbody>\n",
       "    <tr>\n",
       "      <th>0</th>\n",
       "      <td>0</td>\n",
       "    </tr>\n",
       "    <tr>\n",
       "      <th>1</th>\n",
       "      <td>0</td>\n",
       "    </tr>\n",
       "    <tr>\n",
       "      <th>2</th>\n",
       "      <td>0</td>\n",
       "    </tr>\n",
       "    <tr>\n",
       "      <th>3</th>\n",
       "      <td>0</td>\n",
       "    </tr>\n",
       "    <tr>\n",
       "      <th>4</th>\n",
       "      <td>0</td>\n",
       "    </tr>\n",
       "    <tr>\n",
       "      <th>...</th>\n",
       "      <td>...</td>\n",
       "    </tr>\n",
       "    <tr>\n",
       "      <th>6740</th>\n",
       "      <td>2</td>\n",
       "    </tr>\n",
       "    <tr>\n",
       "      <th>6741</th>\n",
       "      <td>2</td>\n",
       "    </tr>\n",
       "    <tr>\n",
       "      <th>6742</th>\n",
       "      <td>2</td>\n",
       "    </tr>\n",
       "    <tr>\n",
       "      <th>6743</th>\n",
       "      <td>2</td>\n",
       "    </tr>\n",
       "    <tr>\n",
       "      <th>6744</th>\n",
       "      <td>2</td>\n",
       "    </tr>\n",
       "  </tbody>\n",
       "</table>\n",
       "<p>6745 rows × 1 columns</p>\n",
       "</div>"
      ],
      "text/plain": [
       "      0\n",
       "0     0\n",
       "1     0\n",
       "2     0\n",
       "3     0\n",
       "4     0\n",
       "...  ..\n",
       "6740  2\n",
       "6741  2\n",
       "6742  2\n",
       "6743  2\n",
       "6744  2\n",
       "\n",
       "[6745 rows x 1 columns]"
      ]
     },
     "execution_count": 65,
     "metadata": {},
     "output_type": "execute_result"
    }
   ],
   "source": [
    "pd.DataFrame(uberdata.isnull().sum(axis=1))"
   ]
  },
  {
   "cell_type": "markdown",
   "metadata": {},
   "source": [
    "Converting format of `Request timestamp` and `Drop timestamp` columns to datetime object."
   ]
  },
  {
   "cell_type": "code",
   "execution_count": 66,
   "metadata": {},
   "outputs": [
    {
     "data": {
      "text/html": [
       "<div>\n",
       "<style scoped>\n",
       "    .dataframe tbody tr th:only-of-type {\n",
       "        vertical-align: middle;\n",
       "    }\n",
       "\n",
       "    .dataframe tbody tr th {\n",
       "        vertical-align: top;\n",
       "    }\n",
       "\n",
       "    .dataframe thead th {\n",
       "        text-align: right;\n",
       "    }\n",
       "</style>\n",
       "<table border=\"1\" class=\"dataframe\">\n",
       "  <thead>\n",
       "    <tr style=\"text-align: right;\">\n",
       "      <th></th>\n",
       "      <th>Request id</th>\n",
       "      <th>Request timestamp</th>\n",
       "      <th>Drop timestamp</th>\n",
       "    </tr>\n",
       "  </thead>\n",
       "  <tbody>\n",
       "    <tr>\n",
       "      <th>0</th>\n",
       "      <td>619</td>\n",
       "      <td>2016-11-07 11:51:00</td>\n",
       "      <td>2016-11-07 13:00:00</td>\n",
       "    </tr>\n",
       "    <tr>\n",
       "      <th>1</th>\n",
       "      <td>867</td>\n",
       "      <td>2016-11-07 17:57:00</td>\n",
       "      <td>2016-11-07 18:47:00</td>\n",
       "    </tr>\n",
       "    <tr>\n",
       "      <th>2</th>\n",
       "      <td>1807</td>\n",
       "      <td>2016-12-07 09:17:00</td>\n",
       "      <td>2016-12-07 09:58:00</td>\n",
       "    </tr>\n",
       "  </tbody>\n",
       "</table>\n",
       "</div>"
      ],
      "text/plain": [
       "   Request id   Request timestamp      Drop timestamp\n",
       "0         619 2016-11-07 11:51:00 2016-11-07 13:00:00\n",
       "1         867 2016-11-07 17:57:00 2016-11-07 18:47:00\n",
       "2        1807 2016-12-07 09:17:00 2016-12-07 09:58:00"
      ]
     },
     "execution_count": 66,
     "metadata": {},
     "output_type": "execute_result"
    }
   ],
   "source": [
    "uberdata['Request timestamp'] = pd.to_datetime(uberdata['Request timestamp'])\n",
    "uberdata['Drop timestamp'] = pd.to_datetime(uberdata['Drop timestamp'])\n",
    "uberdata[['Request id','Request timestamp','Drop timestamp']].head(3)"
   ]
  },
  {
   "cell_type": "code",
   "execution_count": 67,
   "metadata": {},
   "outputs": [
    {
     "data": {
      "text/plain": [
       "Timestamp('2016-12-07 23:54:00')"
      ]
     },
     "execution_count": 67,
     "metadata": {},
     "output_type": "execute_result"
    }
   ],
   "source": [
    "uberdata['Request timestamp'].max()"
   ]
  },
  {
   "cell_type": "markdown",
   "metadata": {},
   "source": [
    "Checking validity of types of other columns in the data set."
   ]
  },
  {
   "cell_type": "code",
   "execution_count": 68,
   "metadata": {},
   "outputs": [
    {
     "name": "stdout",
     "output_type": "stream",
     "text": [
      "<class 'pandas.core.frame.DataFrame'>\n",
      "RangeIndex: 6745 entries, 0 to 6744\n",
      "Data columns (total 6 columns):\n",
      " #   Column             Non-Null Count  Dtype         \n",
      "---  ------             --------------  -----         \n",
      " 0   Request id         6745 non-null   int64         \n",
      " 1   Pickup point       6745 non-null   object        \n",
      " 2   Driver id          4095 non-null   float64       \n",
      " 3   Status             6745 non-null   object        \n",
      " 4   Request timestamp  6745 non-null   datetime64[ns]\n",
      " 5   Drop timestamp     2831 non-null   datetime64[ns]\n",
      "dtypes: datetime64[ns](2), float64(1), int64(1), object(2)\n",
      "memory usage: 316.3+ KB\n"
     ]
    }
   ],
   "source": [
    "uberdata.info()"
   ]
  },
  {
   "cell_type": "markdown",
   "metadata": {},
   "source": [
    "<br></br>\n",
    "### Feature Engineering"
   ]
  },
  {
   "cell_type": "markdown",
   "metadata": {},
   "source": [
    "Adding new columns `Request Hours` and `Drop Hours` to the dataset by extracting hours from `Request timestamp` and `Drop timestamp` columns."
   ]
  },
  {
   "cell_type": "code",
   "execution_count": 69,
   "metadata": {},
   "outputs": [
    {
     "data": {
      "text/html": [
       "<div>\n",
       "<style scoped>\n",
       "    .dataframe tbody tr th:only-of-type {\n",
       "        vertical-align: middle;\n",
       "    }\n",
       "\n",
       "    .dataframe tbody tr th {\n",
       "        vertical-align: top;\n",
       "    }\n",
       "\n",
       "    .dataframe thead th {\n",
       "        text-align: right;\n",
       "    }\n",
       "</style>\n",
       "<table border=\"1\" class=\"dataframe\">\n",
       "  <thead>\n",
       "    <tr style=\"text-align: right;\">\n",
       "      <th></th>\n",
       "      <th>Request id</th>\n",
       "      <th>Request timestamp</th>\n",
       "      <th>Drop timestamp</th>\n",
       "      <th>Request Hours</th>\n",
       "      <th>Drop Hours</th>\n",
       "    </tr>\n",
       "  </thead>\n",
       "  <tbody>\n",
       "    <tr>\n",
       "      <th>0</th>\n",
       "      <td>619</td>\n",
       "      <td>2016-11-07 11:51:00</td>\n",
       "      <td>2016-11-07 13:00:00</td>\n",
       "      <td>11</td>\n",
       "      <td>13.0</td>\n",
       "    </tr>\n",
       "    <tr>\n",
       "      <th>1</th>\n",
       "      <td>867</td>\n",
       "      <td>2016-11-07 17:57:00</td>\n",
       "      <td>2016-11-07 18:47:00</td>\n",
       "      <td>17</td>\n",
       "      <td>18.0</td>\n",
       "    </tr>\n",
       "    <tr>\n",
       "      <th>2</th>\n",
       "      <td>1807</td>\n",
       "      <td>2016-12-07 09:17:00</td>\n",
       "      <td>2016-12-07 09:58:00</td>\n",
       "      <td>9</td>\n",
       "      <td>9.0</td>\n",
       "    </tr>\n",
       "    <tr>\n",
       "      <th>3</th>\n",
       "      <td>2532</td>\n",
       "      <td>2016-12-07 21:08:00</td>\n",
       "      <td>2016-12-07 22:03:00</td>\n",
       "      <td>21</td>\n",
       "      <td>22.0</td>\n",
       "    </tr>\n",
       "    <tr>\n",
       "      <th>4</th>\n",
       "      <td>3112</td>\n",
       "      <td>2016-07-13 08:33:16</td>\n",
       "      <td>2016-07-13 09:25:47</td>\n",
       "      <td>8</td>\n",
       "      <td>9.0</td>\n",
       "    </tr>\n",
       "  </tbody>\n",
       "</table>\n",
       "</div>"
      ],
      "text/plain": [
       "   Request id   Request timestamp      Drop timestamp  Request Hours  \\\n",
       "0         619 2016-11-07 11:51:00 2016-11-07 13:00:00             11   \n",
       "1         867 2016-11-07 17:57:00 2016-11-07 18:47:00             17   \n",
       "2        1807 2016-12-07 09:17:00 2016-12-07 09:58:00              9   \n",
       "3        2532 2016-12-07 21:08:00 2016-12-07 22:03:00             21   \n",
       "4        3112 2016-07-13 08:33:16 2016-07-13 09:25:47              8   \n",
       "\n",
       "   Drop Hours  \n",
       "0        13.0  \n",
       "1        18.0  \n",
       "2         9.0  \n",
       "3        22.0  \n",
       "4         9.0  "
      ]
     },
     "execution_count": 69,
     "metadata": {},
     "output_type": "execute_result"
    }
   ],
   "source": [
    "uberdata['Request Hours'] = uberdata['Request timestamp'].apply(lambda x:x.hour)\n",
    "uberdata['Drop Hours'] = uberdata['Drop timestamp'].apply(lambda x: x.hour)\n",
    "uberdata[['Request id','Request timestamp','Drop timestamp','Request Hours','Drop Hours']].head(5)"
   ]
  },
  {
   "cell_type": "markdown",
   "metadata": {},
   "source": [
    "Adding new column `Request Time Slot` to each request according to the time range defined below:\n",
    "\n",
    "* [0hours-8hours)- Early Morning\n",
    "* [8hours-12hours)- Peak morning hours\n",
    "* [12hours-17hours) Noon hours\n",
    "* [17hours-21hours)- Evening hours \n",
    "* [21hours<]- Night Hours"
   ]
  },
  {
   "cell_type": "code",
   "execution_count": 70,
   "metadata": {},
   "outputs": [
    {
     "data": {
      "text/html": [
       "<div>\n",
       "<style scoped>\n",
       "    .dataframe tbody tr th:only-of-type {\n",
       "        vertical-align: middle;\n",
       "    }\n",
       "\n",
       "    .dataframe tbody tr th {\n",
       "        vertical-align: top;\n",
       "    }\n",
       "\n",
       "    .dataframe thead th {\n",
       "        text-align: right;\n",
       "    }\n",
       "</style>\n",
       "<table border=\"1\" class=\"dataframe\">\n",
       "  <thead>\n",
       "    <tr style=\"text-align: right;\">\n",
       "      <th></th>\n",
       "      <th>Request id</th>\n",
       "      <th>Pickup point</th>\n",
       "      <th>Request Time Slot</th>\n",
       "    </tr>\n",
       "  </thead>\n",
       "  <tbody>\n",
       "    <tr>\n",
       "      <th>0</th>\n",
       "      <td>619</td>\n",
       "      <td>Airport</td>\n",
       "      <td>Peak morning hours</td>\n",
       "    </tr>\n",
       "    <tr>\n",
       "      <th>1</th>\n",
       "      <td>867</td>\n",
       "      <td>Airport</td>\n",
       "      <td>Evening hours</td>\n",
       "    </tr>\n",
       "    <tr>\n",
       "      <th>2</th>\n",
       "      <td>1807</td>\n",
       "      <td>City</td>\n",
       "      <td>Peak morning hours</td>\n",
       "    </tr>\n",
       "    <tr>\n",
       "      <th>3</th>\n",
       "      <td>2532</td>\n",
       "      <td>Airport</td>\n",
       "      <td>Night hours</td>\n",
       "    </tr>\n",
       "    <tr>\n",
       "      <th>4</th>\n",
       "      <td>3112</td>\n",
       "      <td>City</td>\n",
       "      <td>Peak morning hours</td>\n",
       "    </tr>\n",
       "  </tbody>\n",
       "</table>\n",
       "</div>"
      ],
      "text/plain": [
       "   Request id Pickup point   Request Time Slot\n",
       "0         619      Airport  Peak morning hours\n",
       "1         867      Airport       Evening hours\n",
       "2        1807         City  Peak morning hours\n",
       "3        2532      Airport         Night hours\n",
       "4        3112         City  Peak morning hours"
      ]
     },
     "execution_count": 70,
     "metadata": {},
     "output_type": "execute_result"
    }
   ],
   "source": [
    "def determine_time_slot(x):\n",
    "    if (x >=0 and x < 8):\n",
    "        return \"Early morning hours\"    #12am-7am\n",
    "    elif (x >= 8 and x < 12):\n",
    "        return \"Peak morning hours\"     #8am-11am\n",
    "    elif (x >= 12 and x < 17):\n",
    "        return \"Noon hours\"             #12pm-4pm\n",
    "    elif (x >= 17 and x < 21):\n",
    "        return \"Evening hours\"          #5pm-8pm\n",
    "    elif (x >= 21):\n",
    "        return \"Night hours\"            #9pm onwards\n",
    "\n",
    "    \n",
    "uberdata['Request Time Slot'] = uberdata['Request Hours'].apply(determine_time_slot)\n",
    "uberdata[['Request id','Pickup point','Request Time Slot']].head(5)"
   ]
  },
  {
   "cell_type": "markdown",
   "metadata": {},
   "source": [
    "Count number of requests for each request time slot."
   ]
  },
  {
   "cell_type": "code",
   "execution_count": 71,
   "metadata": {},
   "outputs": [
    {
     "data": {
      "text/plain": [
       "Evening hours          1893\n",
       "Early morning hours    1827\n",
       "Peak morning hours     1268\n",
       "Night hours             947\n",
       "Noon hours              810\n",
       "Name: Request Time Slot, dtype: int64"
      ]
     },
     "execution_count": 71,
     "metadata": {},
     "output_type": "execute_result"
    }
   ],
   "source": [
    "uberdata['Request Time Slot'].value_counts()"
   ]
  },
  {
   "cell_type": "markdown",
   "metadata": {},
   "source": [
    "Maximum requests were made in evening hours and early morning hours."
   ]
  },
  {
   "cell_type": "markdown",
   "metadata": {},
   "source": [
    "### Plotting and observations"
   ]
  },
  {
   "cell_type": "markdown",
   "metadata": {},
   "source": [
    "Plotting `Request Hours` to see the trend of request during different hours of the day for each status."
   ]
  },
  {
   "cell_type": "code",
   "execution_count": 72,
   "metadata": {},
   "outputs": [
    {
     "data": {
      "text/plain": [
       "Text(0, 0.5, 'Count of requests')"
      ]
     },
     "execution_count": 72,
     "metadata": {},
     "output_type": "execute_result"
    },
    {
     "data": {
      "image/png": "[encoded data removed]",
      "text/plain": [
       "<Figure size 432x288 with 1 Axes>"
      ]
     },
     "metadata": {
      "needs_background": "light"
     },
     "output_type": "display_data"
    }
   ],
   "source": [
    "sns.countplot(x=\"Request Hours\",hue=\"Status\",data = uberdata)\n",
    "plt.title('Trend of Request throughout the day')\n",
    "plt.ylabel('Count of requests')"
   ]
  },
  {
   "cell_type": "markdown",
   "metadata": {},
   "source": [
    "Plotting `Status` column for determining frequency of trips with cancelled, no cars available and trip completed status."
   ]
  },
  {
   "cell_type": "code",
   "execution_count": 73,
   "metadata": {},
   "outputs": [
    {
     "data": {
      "text/plain": [
       "Text(0, 0.5, 'Trip count')"
      ]
     },
     "execution_count": 73,
     "metadata": {},
     "output_type": "execute_result"
    },
    {
     "data": {
      "image/png": "[encoded data removed]",
      "text/plain": [
       "<Figure size 432x288 with 1 Axes>"
      ]
     },
     "metadata": {
      "needs_background": "light"
     },
     "output_type": "display_data"
    }
   ],
   "source": [
    "sns.countplot(x=\"Status\",data = uberdata)\n",
    "plt.title('Total Trips for each status')\n",
    "plt.ylabel('Trip count')"
   ]
  },
  {
   "cell_type": "markdown",
   "metadata": {},
   "source": [
    "From the above count plot we can conclude that, almost an equal number of request ends with the status of either `No Cars Available` or  `Trips Completed`."
   ]
  },
  {
   "cell_type": "markdown",
   "metadata": {},
   "source": [
    "<br></br>\n",
    "Determine the most problematic pickup point for all request status."
   ]
  },
  {
   "cell_type": "code",
   "execution_count": 74,
   "metadata": {},
   "outputs": [
    {
     "data": {
      "text/plain": [
       "Text(0, 0.5, 'Airport/City trip count')"
      ]
     },
     "execution_count": 74,
     "metadata": {},
     "output_type": "execute_result"
    },
    {
     "data": {
      "image/png": "[encoded data removed]",
      "text/plain": [
       "<Figure size 432x288 with 1 Axes>"
      ]
     },
     "metadata": {
      "needs_background": "light"
     },
     "output_type": "display_data"
    }
   ],
   "source": [
    "sns.countplot(x=\"Status\",hue=\"Pickup point\",data = uberdata)\n",
    "plt.title('Status vs Airport/City trips count')\n",
    "plt.ylabel('Airport/City trip count')"
   ]
  },
  {
   "cell_type": "markdown",
   "metadata": {},
   "source": [
    "* <b>'No cars available'</b> - Between 1600-1700 no of trips where pickup point is 'Airport' uber customers didn't get the car.\n",
    "* <b>'Trip Completed'</b> - Between 1400-1500 no of trips were completed where pickup point is city and around 1300 trips were completed for Airport           pickup point. \n",
    "* <b>'Cancelled'</b> - Between 1000-1050 no of trips were cancelled as well where pick up point is city which is a little less than trips completed where pick up point is city."
   ]
  },
  {
   "cell_type": "markdown",
   "metadata": {},
   "source": [
    "<br></br>\n",
    "Determine time slots when maximum trips were completed/cancelled/no cars available."
   ]
  },
  {
   "cell_type": "code",
   "execution_count": 75,
   "metadata": {},
   "outputs": [
    {
     "data": {
      "text/plain": [
       "Text(0.5, 0, 'Status count')"
      ]
     },
     "execution_count": 75,
     "metadata": {},
     "output_type": "execute_result"
    },
    {
     "data": {
      "image/png": "[encoded data removed]",
      "text/plain": [
       "<Figure size 432x288 with 1 Axes>"
      ]
     },
     "metadata": {
      "needs_background": "light"
     },
     "output_type": "display_data"
    }
   ],
   "source": [
    "sns.countplot(y=\"Request Time Slot\",hue=\"Status\",data = uberdata,\n",
    "              order = uberdata['Request Time Slot'].value_counts().index)\n",
    "plt.title('Status count Slot wise')\n",
    "plt.xlabel('Status count')"
   ]
  },
  {
   "cell_type": "markdown",
   "metadata": {},
   "source": [
    "Key highlihts from above plot:\n",
    "* <b>Evening hours</b> (5pm-8pm): No of requests between 1000-1200 ended with no cars available.\n",
    "* <b>Early morning hours</b> (1am-7am): No of requests between 500-600 were cancelled and cars were not available.\n",
    "* <b>Early morning hours</b> (1am-7am): Approx 700-800 no of trips were completed."
   ]
  },
  {
   "cell_type": "markdown",
   "metadata": {},
   "source": [
    "<br></br>\n",
    "To analyze plots for each trip status, creating individual data frames."
   ]
  },
  {
   "cell_type": "code",
   "execution_count": 76,
   "metadata": {},
   "outputs": [],
   "source": [
    "df_nocars = uberdata[(uberdata['Status'] == 'No Cars Available')]\n",
    "df_tripcompl = uberdata[(uberdata['Status'] == 'Trip Completed')]\n",
    "df_canceled = uberdata[(uberdata['Status'] == 'Cancelled')]"
   ]
  },
  {
   "cell_type": "markdown",
   "metadata": {},
   "source": [
    "<br></br>\n",
    "<b>`No cars available`:</b> Airport and city pickup points counts for all time slots."
   ]
  },
  {
   "cell_type": "code",
   "execution_count": 77,
   "metadata": {},
   "outputs": [
    {
     "data": {
      "text/plain": [
       "Text(0.5, 0, 'Airport/City count')"
      ]
     },
     "execution_count": 77,
     "metadata": {},
     "output_type": "execute_result"
    },
    {
     "data": {
      "image/png": "[encoded data removed]",
      "text/plain": [
       "<Figure size 432x288 with 1 Axes>"
      ]
     },
     "metadata": {
      "needs_background": "light"
     },
     "output_type": "display_data"
    }
   ],
   "source": [
    "sns.countplot(y=\"Request Time Slot\",hue=\"Pickup point\",data = df_nocars,order = df_nocars['Request Time Slot'].value_counts().index)\n",
    "plt.title('No Cars Available Airport/City trips count Slot wise')\n",
    "plt.xlabel('Airport/City count')"
   ]
  },
  {
   "cell_type": "markdown",
   "metadata": {},
   "source": [
    "* For airport pickups during evening hours(5pm - 8pm) maximum request ended up with no cars available (1100 - 1200).\n",
    "* For city pickups during early morning hours(1am - 7am) maximum request ended up with no cars available (350-400)."
   ]
  },
  {
   "cell_type": "markdown",
   "metadata": {},
   "source": [
    "Count of airport rides in evening hours where cars were not available."
   ]
  },
  {
   "cell_type": "code",
   "execution_count": 78,
   "metadata": {},
   "outputs": [
    {
     "data": {
      "text/plain": [
       "1067"
      ]
     },
     "execution_count": 78,
     "metadata": {},
     "output_type": "execute_result"
    }
   ],
   "source": [
    "df_nocars_airport = df_nocars.loc[(df_nocars['Pickup point']=='Airport') & (df_nocars['Request Time Slot']=='Evening hours')]\n",
    "len(df_nocars_airport.index)"
   ]
  },
  {
   "cell_type": "markdown",
   "metadata": {},
   "source": [
    "Count of city rides in early morning hours where cars were not available."
   ]
  },
  {
   "cell_type": "code",
   "execution_count": 79,
   "metadata": {},
   "outputs": [
    {
     "data": {
      "text/plain": [
       "374"
      ]
     },
     "execution_count": 79,
     "metadata": {},
     "output_type": "execute_result"
    }
   ],
   "source": [
    "df_nocars_city = df_nocars.loc[(df_nocars['Pickup point']=='City') & (df_nocars['Request Time Slot']=='Early morning hours')]\n",
    "len(df_nocars_city.index)"
   ]
  },
  {
   "cell_type": "markdown",
   "metadata": {},
   "source": [
    "<br></br>\n",
    "<b>`Trip Completed`:</b> Airport and city pickup points counts for all time slots."
   ]
  },
  {
   "cell_type": "code",
   "execution_count": 80,
   "metadata": {},
   "outputs": [
    {
     "data": {
      "text/plain": [
       "Text(0.5, 0, 'Airport/City count')"
      ]
     },
     "execution_count": 80,
     "metadata": {},
     "output_type": "execute_result"
    },
    {
     "data": {
      "image/png": "[encoded data removed]",
      "text/plain": [
       "<Figure size 432x288 with 1 Axes>"
      ]
     },
     "metadata": {
      "needs_background": "light"
     },
     "output_type": "display_data"
    }
   ],
   "source": [
    "sns.countplot(y=\"Request Time Slot\",hue=\"Pickup point\",data = df_tripcompl,order=df_tripcompl['Request Time Slot'].value_counts().index)\n",
    "plt.title('Completed Airport/City trips count Slot wise')\n",
    "plt.xlabel('Airport/City count')"
   ]
  },
  {
   "cell_type": "markdown",
   "metadata": {},
   "source": [
    "* For city pickups maximum trips were completed during early morning hours 1am- 7am (approx 400).\n",
    "* For airport pickups maximum trips were completed during early morning hours only 1am-7am (approx 340)."
   ]
  },
  {
   "cell_type": "markdown",
   "metadata": {},
   "source": [
    "Count of city rides in early morning hours where trips were completed."
   ]
  },
  {
   "cell_type": "code",
   "execution_count": 81,
   "metadata": {},
   "outputs": [
    {
     "data": {
      "text/plain": [
       "396"
      ]
     },
     "execution_count": 81,
     "metadata": {},
     "output_type": "execute_result"
    }
   ],
   "source": [
    "df_tripcompl_city = df_tripcompl.loc[(df_tripcompl['Pickup point']=='City') & (df_tripcompl['Request Time Slot']=='Early morning hours')]\n",
    "len(df_tripcompl_city.index)"
   ]
  },
  {
   "cell_type": "markdown",
   "metadata": {},
   "source": [
    "Count of airport rides in early morning hours where trips were completed."
   ]
  },
  {
   "cell_type": "code",
   "execution_count": 82,
   "metadata": {},
   "outputs": [
    {
     "data": {
      "text/plain": [
       "344"
      ]
     },
     "execution_count": 82,
     "metadata": {},
     "output_type": "execute_result"
    }
   ],
   "source": [
    "df_tripcompl_airport = df_tripcompl.loc[(df_tripcompl['Pickup point']=='Airport') & (df_tripcompl['Request Time Slot']=='Early morning hours')]\n",
    "len(df_tripcompl_airport.index)"
   ]
  },
  {
   "cell_type": "markdown",
   "metadata": {},
   "source": [
    "<br></br>\n",
    "<b>`Cancelled`:</b> Airport and city pickup points counts for all time slots."
   ]
  },
  {
   "cell_type": "code",
   "execution_count": 83,
   "metadata": {},
   "outputs": [
    {
     "data": {
      "text/plain": [
       "Text(0.5, 0, 'Airport/City count')"
      ]
     },
     "execution_count": 83,
     "metadata": {},
     "output_type": "execute_result"
    },
    {
     "data": {
      "image/png": "[encoded data removed]",
      "text/plain": [
       "<Figure size 432x288 with 1 Axes>"
      ]
     },
     "metadata": {
      "needs_background": "light"
     },
     "output_type": "display_data"
    }
   ],
   "source": [
    "sns.countplot(y=\"Request Time Slot\",hue=\"Pickup point\",data = df_canceled,order=df_canceled['Request Time Slot'].value_counts().index)\n",
    "plt.title('Cancelled Airport/City trips count Slot wise')\n",
    "plt.xlabel('Airport/City count')"
   ]
  },
  {
   "cell_type": "markdown",
   "metadata": {},
   "source": [
    "* For city pickups maximum trips were canceled during early morning hours of 1am - 7am (approx 500-600).\n",
    "* For airport pickups maximum trips were canceled during evening hours of 5pm-8pm (approx 50-90)."
   ]
  },
  {
   "cell_type": "markdown",
   "metadata": {},
   "source": [
    "Count of city rides in early morning hours where requests were cancelled by drivers."
   ]
  },
  {
   "cell_type": "code",
   "execution_count": 84,
   "metadata": {},
   "outputs": [
    {
     "data": {
      "text/plain": [
       "540"
      ]
     },
     "execution_count": 84,
     "metadata": {},
     "output_type": "execute_result"
    }
   ],
   "source": [
    "df_cancelled_city = df_canceled.loc[(df_canceled['Pickup point']=='City') & (df_canceled['Request Time Slot']=='Early morning hours')]\n",
    "len(df_cancelled_city.index)"
   ]
  },
  {
   "cell_type": "markdown",
   "metadata": {},
   "source": [
    "Count of airport rides in evening hours where requests were cancelled by drivers."
   ]
  },
  {
   "cell_type": "code",
   "execution_count": 85,
   "metadata": {},
   "outputs": [
    {
     "data": {
      "text/plain": [
       "78"
      ]
     },
     "execution_count": 85,
     "metadata": {},
     "output_type": "execute_result"
    }
   ],
   "source": [
    "df_cancelled_airport = df_canceled.loc[(df_canceled['Pickup point']=='Airport') & (df_canceled['Request Time Slot']=='Evening hours')]\n",
    "len(df_cancelled_airport.index)"
   ]
  },
  {
   "cell_type": "markdown",
   "metadata": {},
   "source": [
    "<br></br>\n",
    "<b>Total requests for each trip status.</b>"
   ]
  },
  {
   "cell_type": "code",
   "execution_count": 86,
   "metadata": {},
   "outputs": [
    {
     "name": "stdout",
     "output_type": "stream",
     "text": [
      "Total requests where cars were not available :2650\n",
      "Total requests which were cancelled :1264\n",
      "Total requests which were Completed :2831\n"
     ]
    }
   ],
   "source": [
    "print(\"Total requests where cars were not available :\"+str(len(df_nocars.index)))\n",
    "print(\"Total requests which were cancelled :\"+str(len(df_canceled.index)))\n",
    "print(\"Total requests which were Completed :\"+str(len(df_tripcompl.index)))"
   ]
  },
  {
   "cell_type": "markdown",
   "metadata": {},
   "source": [
    "<br></br>"
   ]
  },
  {
   "cell_type": "markdown",
   "metadata": {},
   "source": [
    "<b>Calculating demand-supply metrics.</b>\n",
    "* <b>Total Demand :</b> Total trips made with all three status.\n",
    "* <b>Total Suply :</b> Total number of trips completed.\n",
    "* <b>Gap :</b> Difference between total demand and supply."
   ]
  },
  {
   "cell_type": "code",
   "execution_count": 87,
   "metadata": {},
   "outputs": [
    {
     "name": "stdout",
     "output_type": "stream",
     "text": [
      "Total Demand :6745\n",
      "Total Supply :2831\n",
      "Total Gap :3914\n"
     ]
    }
   ],
   "source": [
    "demand = len(df_nocars.index) + len(df_canceled.index) + len(df_tripcompl.index)\n",
    "print(\"Total Demand :\"+str(demand))\n",
    "\n",
    "supply = len(df_tripcompl.index)\n",
    "print(\"Total Supply :\"+str(supply))\n",
    "\n",
    "gap = demand - supply\n",
    "print(\"Total Gap :\"+str(gap))"
   ]
  },
  {
   "cell_type": "markdown",
   "metadata": {},
   "source": [
    "<br></br>\n",
    "Plotting number of requests for each request time slot to see the demand across time slots."
   ]
  },
  {
   "cell_type": "code",
   "execution_count": 88,
   "metadata": {},
   "outputs": [
    {
     "data": {
      "text/plain": [
       "Text(0.5, 0, 'Demand Count')"
      ]
     },
     "execution_count": 88,
     "metadata": {},
     "output_type": "execute_result"
    },
    {
     "data": {
      "image/png": "[encoded data removed]",
      "text/plain": [
       "<Figure size 432x288 with 1 Axes>"
      ]
     },
     "metadata": {
      "needs_background": "light"
     },
     "output_type": "display_data"
    }
   ],
   "source": [
    "sns.countplot(y=\"Request Time Slot\",data = uberdata,order=uberdata['Request Time Slot'].value_counts().index)\n",
    "plt.title('Demand Count for each Request Time Slot')\n",
    "plt.xlabel('Demand Count')\n"
   ]
  },
  {
   "cell_type": "markdown",
   "metadata": {},
   "source": [
    "Demand for all time slots.\n",
    "* 0 - 8 - Early morning hours - approx 1800-1900\n",
    "* 8 - 12 - Peak morning hours - approx 1250-1300\n",
    "* 12 - 17 - Noon hours - approx 750-850\n",
    "* 17 - 21 - Evening hours - approx 1800-2000\n",
    "* 21 - 23 - Night hours - approx 700-750"
   ]
  },
  {
   "cell_type": "code",
   "execution_count": 89,
   "metadata": {},
   "outputs": [
    {
     "data": {
      "text/plain": [
       "1893"
      ]
     },
     "execution_count": 89,
     "metadata": {},
     "output_type": "execute_result"
    }
   ],
   "source": [
    "len(uberdata.loc[(uberdata['Request Time Slot'] == 'Evening hours')].index)"
   ]
  },
  {
   "cell_type": "markdown",
   "metadata": {},
   "source": [
    "We can infer that maximum demand is during evening hours between 5PM-8PM.\n",
    "<br></br>"
   ]
  },
  {
   "cell_type": "markdown",
   "metadata": {},
   "source": [
    "<b>Plotting number of requests for each time slot only where trip was completed</b>."
   ]
  },
  {
   "cell_type": "code",
   "execution_count": 90,
   "metadata": {},
   "outputs": [
    {
     "data": {
      "text/plain": [
       "Text(0.5, 0, 'Supply Count')"
      ]
     },
     "execution_count": 90,
     "metadata": {},
     "output_type": "execute_result"
    },
    {
     "data": {
      "image/png": "[encoded data removed]",
      "text/plain": [
       "<Figure size 432x288 with 1 Axes>"
      ]
     },
     "metadata": {
      "needs_background": "light"
     },
     "output_type": "display_data"
    }
   ],
   "source": [
    "sns.countplot(y=\"Request Time Slot\",data = df_tripcompl,order=df_tripcompl['Request Time Slot'].value_counts().index)\n",
    "plt.title('Supply Count for each Request Time Slot')\n",
    "plt.xlabel('Supply Count')"
   ]
  },
  {
   "cell_type": "markdown",
   "metadata": {},
   "source": [
    "Supply for all request time slots.\n",
    "* 0 - 8 - Early Morning hours - approx 700-750\n",
    "* 8 - 12 - Peak morning hours - approx 500-550\n",
    "* 12 - 17 - Noon hours - approx 450-500\n",
    "* 17 - 21 - Evening hours - approx 600-650\n",
    "* 21 - 23 - Night Hours - approx 250-300"
   ]
  },
  {
   "cell_type": "code",
   "execution_count": 91,
   "metadata": {},
   "outputs": [
    {
     "data": {
      "text/plain": [
       "740"
      ]
     },
     "execution_count": 91,
     "metadata": {},
     "output_type": "execute_result"
    }
   ],
   "source": [
    "len(df_tripcompl.loc[(df_tripcompl['Request Time Slot'] == 'Early morning hours')].index)"
   ]
  },
  {
   "cell_type": "markdown",
   "metadata": {},
   "source": [
    "We can infer that maximum supply is in early morning hours between 1am - 7am.\n",
    "<br></br>"
   ]
  },
  {
   "cell_type": "markdown",
   "metadata": {},
   "source": [
    "<b>From the above plots we can conclude that their is an imbalance between demand and supply. Hence, now calculating demand-supply metrics for both airport and city requets for all requests time slots</b>"
   ]
  },
  {
   "cell_type": "markdown",
   "metadata": {},
   "source": [
    "Creating two seperate data frames for Airport and city rides."
   ]
  },
  {
   "cell_type": "code",
   "execution_count": 92,
   "metadata": {},
   "outputs": [],
   "source": [
    "df_airport_request = uberdata.loc[uberdata['Pickup point']=='Airport']\n",
    "df_city_request = uberdata.loc[uberdata['Pickup point']=='City']"
   ]
  },
  {
   "cell_type": "code",
   "execution_count": 93,
   "metadata": {},
   "outputs": [],
   "source": [
    "def calculateDemandSupply(dataframe,timeSlot):\n",
    "    demand = dataframe[(dataframe['Request Time Slot'] == timeSlot)]['Request id'].count()\n",
    "    supply = dataframe[(dataframe['Request Time Slot'] == timeSlot) & (dataframe['Status'] == 'Trip Completed')]['Request id'].count()\n",
    "    gap = demand-supply\n",
    "    \n",
    "    return demand,supply,gap"
   ]
  },
  {
   "cell_type": "markdown",
   "metadata": {},
   "source": [
    "<br></br>\n",
    "<b>Demand-supply metrics for Airport rides for all time slots.</b>"
   ]
  },
  {
   "cell_type": "code",
   "execution_count": 94,
   "metadata": {},
   "outputs": [],
   "source": [
    "demand_earlymorning_a,supply_earlymorning_a,gap_earlymorning_a = calculateDemandSupply(df_airport_request,'Early morning hours') #Early morning hours\n",
    "demand_peakmorning_a,supply_peakmorning_a,gap_peakmorning_a = calculateDemandSupply(df_airport_request,'Peak morning hours') #Peak morning hours\n",
    "demand_noon_a,supply_noon_a,gap_noon_a = calculateDemandSupply(df_airport_request,'Noon hours') #Noon hours\n",
    "demand_evening_a,supply_evening_a,gap_evening_a = calculateDemandSupply(df_airport_request,'Evening hours') #Evening hours\n",
    "demand_night_a,supply_night_a,gap_night_a = calculateDemandSupply(df_airport_request,'Night hours') #Night hours"
   ]
  },
  {
   "cell_type": "markdown",
   "metadata": {},
   "source": [
    "<br></br><b>Demand-supply metrics for City rides for all time slots.</b>"
   ]
  },
  {
   "cell_type": "code",
   "execution_count": 95,
   "metadata": {},
   "outputs": [],
   "source": [
    "demand_earlymorning_c,supply_earlymorning_c,gap_earlymorning_c = calculateDemandSupply(df_city_request,'Early morning hours') #Early morning hours\n",
    "demand_peakmorning_c,supply_peakmorning_c,gap_peakmorning_c = calculateDemandSupply(df_city_request,'Peak morning hours') #Peak morning hours\n",
    "demand_noon_c,supply_noon_c,gap_noon_c = calculateDemandSupply(df_city_request,'Noon hours') #Noon hours\n",
    "demand_evening_c,supply_evening_c,gap_evening_c = calculateDemandSupply(df_city_request,'Evening hours') #Evening hours\n",
    "demand_night_c,supply_night_c,gap_night_c = calculateDemandSupply(df_city_request,'Night hours') #Night hours"
   ]
  },
  {
   "cell_type": "markdown",
   "metadata": {},
   "source": [
    "<br></br>\n",
    "<b>Calculating total demand and supply for all time slots</b>"
   ]
  },
  {
   "cell_type": "code",
   "execution_count": 96,
   "metadata": {},
   "outputs": [],
   "source": [
    "#Total demand\n",
    "demand_earlymorning = demand_earlymorning_a + demand_earlymorning_c\n",
    "demand_peakmorning = demand_peakmorning_a + demand_peakmorning_c\n",
    "demand_noon = demand_noon_a + demand_noon_c\n",
    "demand_evening = demand_evening_a + demand_evening_c\n",
    "demand_night = demand_night_a + demand_night_c\n",
    "\n",
    "#Total Supply\n",
    "supply_earlymorning = supply_earlymorning_a + supply_earlymorning_c\n",
    "supply_peakmorning = supply_peakmorning_a + supply_peakmorning_c\n",
    "supply_noon = supply_noon_a + supply_noon_c\n",
    "supply_evening = supply_evening_a + supply_evening_c\n",
    "supply_night = supply_night_a + supply_night_c\n",
    "\n",
    "#Total gap\n",
    "gap_earlymorning = demand_earlymorning-supply_earlymorning\n",
    "gap_peakmorning = demand_peakmorning-supply_peakmorning\n",
    "gap_noon = demand_noon-supply_noon\n",
    "gap_evening = demand_evening-supply_evening\n",
    "gap_night = demand_night-supply_night"
   ]
  },
  {
   "cell_type": "markdown",
   "metadata": {},
   "source": [
    "<br></br>\n",
    "<b>Plotting count of trip for all request time slots corresponding to Airport and City pickup points.</b>"
   ]
  },
  {
   "cell_type": "code",
   "execution_count": 97,
   "metadata": {},
   "outputs": [
    {
     "data": {
      "text/plain": [
       "Text(0, 0.5, 'Airport/City request count')"
      ]
     },
     "execution_count": 97,
     "metadata": {},
     "output_type": "execute_result"
    },
    {
     "data": {
      "image/png": "[encoded data removed]",
      "text/plain": [
       "<Figure size 432x288 with 1 Axes>"
      ]
     },
     "metadata": {
      "needs_background": "light"
     },
     "output_type": "display_data"
    }
   ],
   "source": [
    "uberdata.groupby(['Request Time Slot','Pickup point']).size().unstack().plot(kind='bar',stacked=False)\n",
    "plt.title('Airport/City request count for time slots')\n",
    "plt.ylabel('Airport/City request count')"
   ]
  },
  {
   "cell_type": "markdown",
   "metadata": {},
   "source": [
    "Conclusions:\n",
    "* Maximum trip requests from Airport were made in evening hours.\n",
    "* Maximum trip requests from City were made in early morning hours."
   ]
  },
  {
   "cell_type": "markdown",
   "metadata": {},
   "source": [
    "Creating a new gap data frame with demand-supply counts for all time slots."
   ]
  },
  {
   "cell_type": "code",
   "execution_count": 98,
   "metadata": {},
   "outputs": [],
   "source": [
    "gap_data = { 'Request Time Slot': ['Early morning','Peak morning','Noon','Evening','Night'] , \n",
    "             'Total Demand': [demand_earlymorning,demand_peakmorning,demand_noon,demand_evening,demand_night],\n",
    "             'Total Supply': [supply_earlymorning,supply_peakmorning,supply_noon,supply_evening,supply_night],\n",
    "             'Total Gap': [gap_earlymorning,gap_peakmorning,gap_noon,gap_evening,gap_night],\n",
    "             'Demand_From_Airport': [demand_earlymorning_a,demand_peakmorning_a,demand_noon_a,demand_evening_a,demand_night_a],\n",
    "            'Supply_To_Airport':[supply_earlymorning_a,supply_peakmorning_a,supply_noon_a,supply_evening_a,supply_night_a],\n",
    "            'Gap_From_Airport': [gap_earlymorning_a,gap_peakmorning_a,gap_noon_a,gap_evening_a,gap_night_a],\n",
    "            'Demand_From_City': [demand_earlymorning_c,demand_peakmorning_c,demand_noon_c,demand_evening_c,demand_night_c],\n",
    "            'Supply_To_City':[supply_earlymorning_c,supply_peakmorning_c,supply_noon_c,supply_evening_c,supply_night_c],\n",
    "            'Gap_From_City': [gap_earlymorning_c,gap_peakmorning_c,gap_noon_c,gap_evening_c,gap_night_c]}\n",
    "\n",
    "gap_df = pd.DataFrame(data=gap_data)"
   ]
  },
  {
   "cell_type": "markdown",
   "metadata": {},
   "source": [
    "Viewing gap data frame"
   ]
  },
  {
   "cell_type": "code",
   "execution_count": 99,
   "metadata": {},
   "outputs": [
    {
     "data": {
      "text/html": [
       "<div>\n",
       "<style scoped>\n",
       "    .dataframe tbody tr th:only-of-type {\n",
       "        vertical-align: middle;\n",
       "    }\n",
       "\n",
       "    .dataframe tbody tr th {\n",
       "        vertical-align: top;\n",
       "    }\n",
       "\n",
       "    .dataframe thead th {\n",
       "        text-align: right;\n",
       "    }\n",
       "</style>\n",
       "<table border=\"1\" class=\"dataframe\">\n",
       "  <thead>\n",
       "    <tr style=\"text-align: right;\">\n",
       "      <th></th>\n",
       "      <th>Request Time Slot</th>\n",
       "      <th>Total Demand</th>\n",
       "      <th>Total Supply</th>\n",
       "      <th>Total Gap</th>\n",
       "      <th>Demand_From_Airport</th>\n",
       "      <th>Supply_To_Airport</th>\n",
       "      <th>Gap_From_Airport</th>\n",
       "      <th>Demand_From_City</th>\n",
       "      <th>Supply_To_City</th>\n",
       "      <th>Gap_From_City</th>\n",
       "    </tr>\n",
       "  </thead>\n",
       "  <tbody>\n",
       "    <tr>\n",
       "      <th>0</th>\n",
       "      <td>Early morning</td>\n",
       "      <td>1827</td>\n",
       "      <td>740</td>\n",
       "      <td>1087</td>\n",
       "      <td>517</td>\n",
       "      <td>344</td>\n",
       "      <td>173</td>\n",
       "      <td>1310</td>\n",
       "      <td>396</td>\n",
       "      <td>914</td>\n",
       "    </tr>\n",
       "    <tr>\n",
       "      <th>1</th>\n",
       "      <td>Peak morning</td>\n",
       "      <td>1268</td>\n",
       "      <td>559</td>\n",
       "      <td>709</td>\n",
       "      <td>301</td>\n",
       "      <td>243</td>\n",
       "      <td>58</td>\n",
       "      <td>967</td>\n",
       "      <td>316</td>\n",
       "      <td>651</td>\n",
       "    </tr>\n",
       "    <tr>\n",
       "      <th>2</th>\n",
       "      <td>Noon</td>\n",
       "      <td>810</td>\n",
       "      <td>491</td>\n",
       "      <td>319</td>\n",
       "      <td>339</td>\n",
       "      <td>225</td>\n",
       "      <td>114</td>\n",
       "      <td>471</td>\n",
       "      <td>266</td>\n",
       "      <td>205</td>\n",
       "    </tr>\n",
       "    <tr>\n",
       "      <th>3</th>\n",
       "      <td>Evening</td>\n",
       "      <td>1893</td>\n",
       "      <td>642</td>\n",
       "      <td>1251</td>\n",
       "      <td>1457</td>\n",
       "      <td>312</td>\n",
       "      <td>1145</td>\n",
       "      <td>436</td>\n",
       "      <td>330</td>\n",
       "      <td>106</td>\n",
       "    </tr>\n",
       "    <tr>\n",
       "      <th>4</th>\n",
       "      <td>Night</td>\n",
       "      <td>947</td>\n",
       "      <td>399</td>\n",
       "      <td>548</td>\n",
       "      <td>624</td>\n",
       "      <td>203</td>\n",
       "      <td>421</td>\n",
       "      <td>323</td>\n",
       "      <td>196</td>\n",
       "      <td>127</td>\n",
       "    </tr>\n",
       "  </tbody>\n",
       "</table>\n",
       "</div>"
      ],
      "text/plain": [
       "  Request Time Slot  Total Demand  Total Supply  Total Gap  \\\n",
       "0     Early morning          1827           740       1087   \n",
       "1      Peak morning          1268           559        709   \n",
       "2              Noon           810           491        319   \n",
       "3           Evening          1893           642       1251   \n",
       "4             Night           947           399        548   \n",
       "\n",
       "   Demand_From_Airport  Supply_To_Airport  Gap_From_Airport  Demand_From_City  \\\n",
       "0                  517                344               173              1310   \n",
       "1                  301                243                58               967   \n",
       "2                  339                225               114               471   \n",
       "3                 1457                312              1145               436   \n",
       "4                  624                203               421               323   \n",
       "\n",
       "   Supply_To_City  Gap_From_City  \n",
       "0             396            914  \n",
       "1             316            651  \n",
       "2             266            205  \n",
       "3             330            106  \n",
       "4             196            127  "
      ]
     },
     "execution_count": 99,
     "metadata": {},
     "output_type": "execute_result"
    }
   ],
   "source": [
    "gap_df"
   ]
  },
  {
   "cell_type": "markdown",
   "metadata": {},
   "source": [
    "<b>Plotting demand-supply gap for all requests time slots.</b>"
   ]
  },
  {
   "cell_type": "code",
   "execution_count": 100,
   "metadata": {},
   "outputs": [
    {
     "data": {
      "text/plain": [
       "Text(0.5, 6.79999999999999, 'Total Gap')"
      ]
     },
     "execution_count": 100,
     "metadata": {},
     "output_type": "execute_result"
    },
    {
     "data": {
      "image/png": "[encoded data removed]",
      "text/plain": [
       "<Figure size 720x360 with 1 Axes>"
      ]
     },
     "metadata": {
      "needs_background": "light"
     },
     "output_type": "display_data"
    }
   ],
   "source": [
    "sns.catplot(x=\"Total Gap\",y=\"Request Time Slot\",kind=\"bar\",data = gap_df,height = 5,aspect=2)\n",
    "plt.title('Gap for each Request Time Slot')\n",
    "plt.xlabel('Total Gap')"
   ]
  },
  {
   "cell_type": "markdown",
   "metadata": {},
   "source": [
    "Conclusion:\n",
    "* Demand-supply gap is maximum for evening hours.\n",
    "* Demand-supply gap is minimum for noon hours.\n",
    "<br></br>"
   ]
  },
  {
   "cell_type": "markdown",
   "metadata": {},
   "source": [
    "<b>Visualizing gap differentiated by pickup points and all time slots.</b>"
   ]
  },
  {
   "cell_type": "code",
   "execution_count": 101,
   "metadata": {},
   "outputs": [
    {
     "data": {
      "image/png": "[encoded data removed]",
      "text/plain": [
       "<Figure size 432x288 with 1 Axes>"
      ]
     },
     "metadata": {
      "needs_background": "light"
     },
     "output_type": "display_data"
    }
   ],
   "source": [
    "labels = gap_df['Request Time Slot']\n",
    "gap_airport = gap_df['Gap_From_Airport']\n",
    "gap_city = gap_df['Gap_From_City']\n",
    "width = 0.35       # the width of the bars: can also be len(x) sequence\n",
    "\n",
    "fig, ax = plt.subplots()\n",
    "\n",
    "ax.bar(labels, gap_airport, width, label='Airport')\n",
    "ax.bar(labels, gap_city, width, bottom=gap_airport,\n",
    "       label='City')\n",
    "\n",
    "ax.set_ylabel('Gap')\n",
    "ax.set_title('Gap by time slot and pickup point')\n",
    "ax.legend()\n",
    "\n",
    "plt.show()"
   ]
  },
  {
   "cell_type": "markdown",
   "metadata": {},
   "source": [
    "We can clearly see that gap is maximum for Airport rides in evening hours and for City rides in early morning hours."
   ]
  },
  {
   "cell_type": "markdown",
   "metadata": {},
   "source": [
    "<br></br>\n",
    "<b>Plotting demand and supply for all time slots as calculated in gap_df dataframe.</b>"
   ]
  },
  {
   "cell_type": "code",
   "execution_count": 102,
   "metadata": {},
   "outputs": [
    {
     "data": {
      "image/png": "[encoded data removed]",
      "text/plain": [
       "<Figure size 466x360 with 1 Axes>"
      ]
     },
     "metadata": {
      "needs_background": "light"
     },
     "output_type": "display_data"
    }
   ],
   "source": [
    "demandVsGap = sns.pairplot(gap_df,x_vars='Total Demand', y_vars='Total Supply',hue='Request Time Slot',plot_kws = {'alpha': 1, 's': 200},\n",
    "             height = 5)"
   ]
  },
  {
   "attachments": {
    "5cbe93e0-c497-4bca-a4be-5b24f99a70ef.png": {
     "image/png": "[encoded data removed]"
    }
   },
   "cell_type": "markdown",
   "metadata": {},
   "source": [
    "Metric figures calculated in gap_df can be visualized in above plot.<br></br>\n",
    "![image.png](attachment:5cbe93e0-c497-4bca-a4be-5b24f99a70ef.png)"
   ]
  },
  {
   "cell_type": "markdown",
   "metadata": {},
   "source": [
    "<br></br>\n",
    "<b>Plotting demand-supply for City to Airport rides.</b>"
   ]
  },
  {
   "cell_type": "code",
   "execution_count": 103,
   "metadata": {},
   "outputs": [
    {
     "data": {
      "image/png": "[encoded data removed]",
      "text/plain": [
       "<Figure size 466x360 with 1 Axes>"
      ]
     },
     "metadata": {
      "needs_background": "light"
     },
     "output_type": "display_data"
    }
   ],
   "source": [
    "citytVsGap = sns.pairplot(gap_df,x_vars='Demand_From_City', y_vars='Supply_To_City',hue='Request Time Slot',plot_kws = {'alpha': 1, 's': 200},\n",
    "             height = 5)"
   ]
  },
  {
   "attachments": {
    "231ba046-6277-47fb-87a0-e9c3a4ac9f3f.png": {
     "image/png": "[encoded data removed]"
    }
   },
   "cell_type": "markdown",
   "metadata": {},
   "source": [
    "Numbers calculated in gap_df for City demand-supply can be visualized in above plot.<br></br>\n",
    "![image.png](attachment:231ba046-6277-47fb-87a0-e9c3a4ac9f3f.png)"
   ]
  },
  {
   "cell_type": "markdown",
   "metadata": {},
   "source": [
    "<br></br>\n",
    "<b>Plotting demand-supply for Airport to City rides.</b>"
   ]
  },
  {
   "cell_type": "code",
   "execution_count": 104,
   "metadata": {},
   "outputs": [
    {
     "data": {
      "image/png": "[encoded data removed]",
      "text/plain": [
       "<Figure size 466x360 with 1 Axes>"
      ]
     },
     "metadata": {
      "needs_background": "light"
     },
     "output_type": "display_data"
    }
   ],
   "source": [
    "airporttVsGap = sns.pairplot(gap_df,x_vars='Demand_From_Airport', y_vars='Supply_To_Airport',hue='Request Time Slot',plot_kws = {'alpha': 1, 's': 200},\n",
    "             height = 5)"
   ]
  },
  {
   "attachments": {
    "6cb42f42-6b7e-4f70-a0e7-8dc36ec9362d.png": {
     "image/png": "[encoded data removed]"
    }
   },
   "cell_type": "markdown",
   "metadata": {},
   "source": [
    "Numbers calculated in gap_df for Airport demand-supply can be visualized in above plot.<br></br>\n",
    "![image.png](attachment:6cb42f42-6b7e-4f70-a0e7-8dc36ec9362d.png)"
   ]
  },
  {
   "cell_type": "markdown",
   "metadata": {},
   "source": [
    "<br></br>\n",
    "<b>Percentage wise distribution of rides for City and airport pickup points (Early morning hours and Evening hours).</b>"
   ]
  },
  {
   "cell_type": "code",
   "execution_count": 105,
   "metadata": {},
   "outputs": [],
   "source": [
    "def pie_chart(dataframe):\n",
    "    \"\"\"\n",
    "    creates a pie chart\n",
    "    input: dataframe with a 'category' as index and a numerical column\n",
    "    output: pie chart\n",
    "    \"\"\"\n",
    "    labels = dataframe.index.values\n",
    "    sizes = dataframe['Status'].values\n",
    "        \n",
    "    fig1, ax1 = plt.subplots()\n",
    "    ax1.pie(sizes, labels=labels, autopct='%1.1f%%', shadow=True, startangle=90)\n",
    "    ax1.axis('equal')  # Equal aspect ratio ensures that pie is drawn as a circle.\n",
    "    plt.show()"
   ]
  },
  {
   "cell_type": "markdown",
   "metadata": {},
   "source": [
    "<br></br>\n",
    "Distribution of trips for pickup point as City during evening hours."
   ]
  },
  {
   "cell_type": "code",
   "execution_count": 106,
   "metadata": {},
   "outputs": [
    {
     "data": {
      "image/png": "[encoded data removed]",
      "text/plain": [
       "<Figure size 432x288 with 1 Axes>"
      ]
     },
     "metadata": {},
     "output_type": "display_data"
    }
   ],
   "source": [
    "df_city = df_city_request.loc[df_city_request['Request Time Slot'] == \"Evening hours\"]\n",
    "df_city_count = pd.DataFrame(df_city.Status.value_counts())\n",
    "pie_chart(df_city_count)"
   ]
  },
  {
   "cell_type": "markdown",
   "metadata": {},
   "source": [
    "<br></br>\n",
    "Distribution of trips for pickup point as Airport during evening hours."
   ]
  },
  {
   "cell_type": "code",
   "execution_count": 107,
   "metadata": {},
   "outputs": [
    {
     "data": {
      "image/png": "[encoded data removed]",
      "text/plain": [
       "<Figure size 432x288 with 1 Axes>"
      ]
     },
     "metadata": {},
     "output_type": "display_data"
    }
   ],
   "source": [
    "df_airport = df_airport_request.loc[df_airport_request[\"Request Time Slot\"] == \"Evening hours\"]\n",
    "df_airport_count = pd.DataFrame(df_airport.Status.value_counts())\n",
    "pie_chart(df_airport_count)"
   ]
  },
  {
   "cell_type": "markdown",
   "metadata": {},
   "source": [
    "Evening hours(Pickup point - Airport):\n",
    "* 73% of total airport rides ended with 'No cars available'.\n",
    "* Only 21% of airport trips were completed successfuly. "
   ]
  },
  {
   "cell_type": "markdown",
   "metadata": {},
   "source": [
    "<br></br>\n",
    "Distribution of trips for pickup point as City during early morning hours."
   ]
  },
  {
   "cell_type": "code",
   "execution_count": 108,
   "metadata": {},
   "outputs": [
    {
     "data": {
      "image/png": "[encoded data removed]",
      "text/plain": [
       "<Figure size 432x288 with 1 Axes>"
      ]
     },
     "metadata": {},
     "output_type": "display_data"
    }
   ],
   "source": [
    "df_city = df_city_request.loc[df_city_request[\"Request Time Slot\"] == \"Early morning hours\"]\n",
    "df_city_count = pd.DataFrame(df_city.Status.value_counts())\n",
    "pie_chart(df_city_count)"
   ]
  },
  {
   "cell_type": "markdown",
   "metadata": {},
   "source": [
    "Early morning hours(Pickup point - City):\n",
    "* 41% of city rides were cancelled by drivers.\n",
    "* Only 30.2% of city trips were completed successfuly. "
   ]
  },
  {
   "cell_type": "markdown",
   "metadata": {},
   "source": [
    "<br></br>\n",
    "Distribution of trips for pickup point as Airport during early morning hours."
   ]
  },
  {
   "cell_type": "code",
   "execution_count": 109,
   "metadata": {},
   "outputs": [
    {
     "data": {
      "image/png": "[encoded data removed]",
      "text/plain": [
       "<Figure size 432x288 with 1 Axes>"
      ]
     },
     "metadata": {},
     "output_type": "display_data"
    }
   ],
   "source": [
    "df_airport = df_airport_request.loc[df_airport_request[\"Request Time Slot\"] == \"Early morning hours\"]\n",
    "df_airport_count = pd.DataFrame(df_airport.Status.value_counts())\n",
    "pie_chart(df_airport_count)"
   ]
  },
  {
   "cell_type": "code",
   "execution_count": 110,
   "metadata": {},
   "outputs": [],
   "source": [
    "#Exporting final uber data set to CSV for tableau plotting\n",
    "uberdata.to_csv(\"Uber Data.csv\")"
   ]
  },
  {
   "cell_type": "code",
   "execution_count": 111,
   "metadata": {},
   "outputs": [],
   "source": [
    "#Exporting final gap data set to CSV for tableau plotting\n",
    "gap_df.to_csv(\"Gap Data.csv\")"
   ]
  },
  {
   "attachments": {
    "0541068e-7836-447c-80bc-b172424fabe1.png": {
     "image/png": "[encoded data removed]"
    }
   },
   "cell_type": "markdown",
   "metadata": {},
   "source": [
    "<br></br><b>Summary of results:</b>\n",
    "\n",
    "* The most problematic request (e.g., city to airport / airport to city, etc.) and their time slots (e.g., early mornings, late evenings etc.)\n",
    "  - In evening hours 73% of total airport rides ended with 'No cars available'.\n",
    "  <br></br>\n",
    "* Find the gap between supply and demand for different time slots. Also determine the time slot where maximum gap exists. \n",
    "\n",
    "    ![image.png](attachment:0541068e-7836-447c-80bc-b172424fabe1.png)\n",
    "  <br></br>\n",
    "* Find the type of requests (e.g., city to airport or airport to city) for which the gap is the most severe in the identified time slots.\n",
    "  - Gap is highest for airport to city rides in evening hours.(1145)\n",
    "  - Gap is highest for city to airport rides in early morning hours.(914)\n",
    "  <br></br>\n",
    "* Possible reasons behind the supply-demand gap.\n",
    "  - Trips to and from an airport resulted in high consumption of fuel and time. Hence, a trip back to the city without a rider is not economically beneficial for the driver. \n",
    "  - Due to high variance in flight arrivals (higher during evening, late night hours) the driver idle time at airport is higher in morning hours. As a result, no cars are available in the city region.\n",
    "  <br></br>\n",
    "* Possible resolutions.\n",
    "  - For the trips in the morning, drivers can be incentivised to make those trips, Uber can pay for the gas mileage of drivers to come back to the city without a ride.\n",
    "  - For the evening, since the number of drivers is less, Uber can also pay drivers to come without a passenger to the airport.\n",
    "  This section is discussed more in summary analysis."
   ]
  }
 ],
 "metadata": {
  "kernelspec": {
   "display_name": "Python 3",
   "language": "python",
   "name": "python3"
  },
  "language_info": {
   "codemirror_mode": {
    "name": "ipython",
    "version": 3
   },
   "file_extension": ".py",
   "mimetype": "text/x-python",
   "name": "python",
   "nbconvert_exporter": "python",
   "pygments_lexer": "ipython3",
   "version": "3.8.5"
  }
 },
 "nbformat": 4,
 "nbformat_minor": 4
}
